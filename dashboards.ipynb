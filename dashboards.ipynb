{
 "metadata": {
  "language_info": {
   "codemirror_mode": {
    "name": "ipython",
    "version": 3
   },
   "file_extension": ".py",
   "mimetype": "text/x-python",
   "name": "python",
   "nbconvert_exporter": "python",
   "pygments_lexer": "ipython3",
   "version": "3.8.3-final"
  },
  "orig_nbformat": 2,
  "kernelspec": {
   "name": "python383jvsc74a57bd007efdcd4b820c98a756949507a4d29d7862823915ec7477944641bea022f4f62",
   "display_name": "Python 3.8.3 64-bit (conda)"
  }
 },
 "nbformat": 4,
 "nbformat_minor": 2,
 "cells": [
  {
   "cell_type": "code",
   "execution_count": 3,
   "metadata": {},
   "outputs": [
    {
     "output_type": "execute_result",
     "data": {
      "text/plain": [
       "        Unnamed: 0  event_id age_segment  event  item_id          item_topic  \\\n",
       "0                0   2931262       18-25   show  1793260             Красота   \n",
       "1                1   2931277       18-25   show  7465641            Культура   \n",
       "2                2   2931285       18-25   show   406073             История   \n",
       "3                3   2931247       26-30   show   752665         Путешествия   \n",
       "4                4   2931278       26-30  click  6843081                Юмор   \n",
       "...            ...       ...         ...    ...      ...                 ...   \n",
       "322386      322386   4396804       31-35  click  7273256               Наука   \n",
       "322387      322387   4396814       31-35   show  4094446  Женская психология   \n",
       "322388      322388   4396836       18-25   show  5003354    Интересные факты   \n",
       "322389      322389   4396846       18-25  click    39740           Отношения   \n",
       "322390      322390   4396838       31-35   show  3317563            Общество   \n",
       "\n",
       "             item_type  source_id        source_topic source_type  \\\n",
       "0               native    8388799             История   publisher   \n",
       "1               native    5837959             История   publisher   \n",
       "2                  url    2335872          Сад и дача      domain   \n",
       "3               native    6963489            Здоровье   publisher   \n",
       "4                  url    5427748  Семейные отношения      domain   \n",
       "...                ...        ...                 ...         ...   \n",
       "322386          native    5451530          Сад и дача   publisher   \n",
       "322387  narrative_card    4001238          Психология   publisher   \n",
       "322388             url    6371686     Полезные советы      domain   \n",
       "322389  narrative_card    9829090  Семейные отношения   publisher   \n",
       "322390             url    8280856              Деньги      domain   \n",
       "\n",
       "                   ts  user_id  \n",
       "0       1569349657638  2185026  \n",
       "1       1569349657971  6845238  \n",
       "2       1569349658408  5244363  \n",
       "3       1569349657189  7553074  \n",
       "4       1569349658054  1317585  \n",
       "...               ...      ...  \n",
       "322386  1569351658610  1351271  \n",
       "322387  1569351658738  4466455  \n",
       "322388  1569351659030  4916583  \n",
       "322389  1569351659233  7962286  \n",
       "322390  1569351659036  2720789  \n",
       "\n",
       "[322391 rows x 12 columns]"
      ],
      "text/html": "<div>\n<style scoped>\n    .dataframe tbody tr th:only-of-type {\n        vertical-align: middle;\n    }\n\n    .dataframe tbody tr th {\n        vertical-align: top;\n    }\n\n    .dataframe thead th {\n        text-align: right;\n    }\n</style>\n<table border=\"1\" class=\"dataframe\">\n  <thead>\n    <tr style=\"text-align: right;\">\n      <th></th>\n      <th>Unnamed: 0</th>\n      <th>event_id</th>\n      <th>age_segment</th>\n      <th>event</th>\n      <th>item_id</th>\n      <th>item_topic</th>\n      <th>item_type</th>\n      <th>source_id</th>\n      <th>source_topic</th>\n      <th>source_type</th>\n      <th>ts</th>\n      <th>user_id</th>\n    </tr>\n  </thead>\n  <tbody>\n    <tr>\n      <th>0</th>\n      <td>0</td>\n      <td>2931262</td>\n      <td>18-25</td>\n      <td>show</td>\n      <td>1793260</td>\n      <td>Красота</td>\n      <td>native</td>\n      <td>8388799</td>\n      <td>История</td>\n      <td>publisher</td>\n      <td>1569349657638</td>\n      <td>2185026</td>\n    </tr>\n    <tr>\n      <th>1</th>\n      <td>1</td>\n      <td>2931277</td>\n      <td>18-25</td>\n      <td>show</td>\n      <td>7465641</td>\n      <td>Культура</td>\n      <td>native</td>\n      <td>5837959</td>\n      <td>История</td>\n      <td>publisher</td>\n      <td>1569349657971</td>\n      <td>6845238</td>\n    </tr>\n    <tr>\n      <th>2</th>\n      <td>2</td>\n      <td>2931285</td>\n      <td>18-25</td>\n      <td>show</td>\n      <td>406073</td>\n      <td>История</td>\n      <td>url</td>\n      <td>2335872</td>\n      <td>Сад и дача</td>\n      <td>domain</td>\n      <td>1569349658408</td>\n      <td>5244363</td>\n    </tr>\n    <tr>\n      <th>3</th>\n      <td>3</td>\n      <td>2931247</td>\n      <td>26-30</td>\n      <td>show</td>\n      <td>752665</td>\n      <td>Путешествия</td>\n      <td>native</td>\n      <td>6963489</td>\n      <td>Здоровье</td>\n      <td>publisher</td>\n      <td>1569349657189</td>\n      <td>7553074</td>\n    </tr>\n    <tr>\n      <th>4</th>\n      <td>4</td>\n      <td>2931278</td>\n      <td>26-30</td>\n      <td>click</td>\n      <td>6843081</td>\n      <td>Юмор</td>\n      <td>url</td>\n      <td>5427748</td>\n      <td>Семейные отношения</td>\n      <td>domain</td>\n      <td>1569349658054</td>\n      <td>1317585</td>\n    </tr>\n    <tr>\n      <th>...</th>\n      <td>...</td>\n      <td>...</td>\n      <td>...</td>\n      <td>...</td>\n      <td>...</td>\n      <td>...</td>\n      <td>...</td>\n      <td>...</td>\n      <td>...</td>\n      <td>...</td>\n      <td>...</td>\n      <td>...</td>\n    </tr>\n    <tr>\n      <th>322386</th>\n      <td>322386</td>\n      <td>4396804</td>\n      <td>31-35</td>\n      <td>click</td>\n      <td>7273256</td>\n      <td>Наука</td>\n      <td>native</td>\n      <td>5451530</td>\n      <td>Сад и дача</td>\n      <td>publisher</td>\n      <td>1569351658610</td>\n      <td>1351271</td>\n    </tr>\n    <tr>\n      <th>322387</th>\n      <td>322387</td>\n      <td>4396814</td>\n      <td>31-35</td>\n      <td>show</td>\n      <td>4094446</td>\n      <td>Женская психология</td>\n      <td>narrative_card</td>\n      <td>4001238</td>\n      <td>Психология</td>\n      <td>publisher</td>\n      <td>1569351658738</td>\n      <td>4466455</td>\n    </tr>\n    <tr>\n      <th>322388</th>\n      <td>322388</td>\n      <td>4396836</td>\n      <td>18-25</td>\n      <td>show</td>\n      <td>5003354</td>\n      <td>Интересные факты</td>\n      <td>url</td>\n      <td>6371686</td>\n      <td>Полезные советы</td>\n      <td>domain</td>\n      <td>1569351659030</td>\n      <td>4916583</td>\n    </tr>\n    <tr>\n      <th>322389</th>\n      <td>322389</td>\n      <td>4396846</td>\n      <td>18-25</td>\n      <td>click</td>\n      <td>39740</td>\n      <td>Отношения</td>\n      <td>narrative_card</td>\n      <td>9829090</td>\n      <td>Семейные отношения</td>\n      <td>publisher</td>\n      <td>1569351659233</td>\n      <td>7962286</td>\n    </tr>\n    <tr>\n      <th>322390</th>\n      <td>322390</td>\n      <td>4396838</td>\n      <td>31-35</td>\n      <td>show</td>\n      <td>3317563</td>\n      <td>Общество</td>\n      <td>url</td>\n      <td>8280856</td>\n      <td>Деньги</td>\n      <td>domain</td>\n      <td>1569351659036</td>\n      <td>2720789</td>\n    </tr>\n  </tbody>\n</table>\n<p>322391 rows × 12 columns</p>\n</div>"
     },
     "metadata": {},
     "execution_count": 3
    }
   ],
   "source": [
    "import pandas as pd\n",
    "\n",
    "log_raw = pd.read_csv('log_raw_1.csv')\n",
    "log_raw"
   ]
  },
  {
   "cell_type": "code",
   "execution_count": 5,
   "metadata": {},
   "outputs": [
    {
     "output_type": "execute_result",
     "data": {
      "text/plain": [
       "        Unnamed: 0  event_id age_segment  event  item_id          item_topic  \\\n",
       "0                0   2931262       18-25   show  1793260             Красота   \n",
       "1                1   2931277       18-25   show  7465641            Культура   \n",
       "2                2   2931285       18-25   show   406073             История   \n",
       "3                3   2931247       26-30   show   752665         Путешествия   \n",
       "4                4   2931278       26-30  click  6843081                Юмор   \n",
       "...            ...       ...         ...    ...      ...                 ...   \n",
       "322386      322386   4396804       31-35  click  7273256               Наука   \n",
       "322387      322387   4396814       31-35   show  4094446  Женская психология   \n",
       "322388      322388   4396836       18-25   show  5003354    Интересные факты   \n",
       "322389      322389   4396846       18-25  click    39740           Отношения   \n",
       "322390      322390   4396838       31-35   show  3317563            Общество   \n",
       "\n",
       "             item_type  source_id        source_topic source_type  \\\n",
       "0               native    8388799             История   publisher   \n",
       "1               native    5837959             История   publisher   \n",
       "2                  url    2335872          Сад и дача      domain   \n",
       "3               native    6963489            Здоровье   publisher   \n",
       "4                  url    5427748  Семейные отношения      domain   \n",
       "...                ...        ...                 ...         ...   \n",
       "322386          native    5451530          Сад и дача   publisher   \n",
       "322387  narrative_card    4001238          Психология   publisher   \n",
       "322388             url    6371686     Полезные советы      domain   \n",
       "322389  narrative_card    9829090  Семейные отношения   publisher   \n",
       "322390             url    8280856              Деньги      domain   \n",
       "\n",
       "                   ts  user_id          event_time   date_time  \n",
       "0       1569349657638  2185026 2019-09-24 18:27:37  2019-09-24  \n",
       "1       1569349657971  6845238 2019-09-24 18:27:37  2019-09-24  \n",
       "2       1569349658408  5244363 2019-09-24 18:27:38  2019-09-24  \n",
       "3       1569349657189  7553074 2019-09-24 18:27:37  2019-09-24  \n",
       "4       1569349658054  1317585 2019-09-24 18:27:38  2019-09-24  \n",
       "...               ...      ...                 ...         ...  \n",
       "322386  1569351658610  1351271 2019-09-24 19:00:58  2019-09-24  \n",
       "322387  1569351658738  4466455 2019-09-24 19:00:58  2019-09-24  \n",
       "322388  1569351659030  4916583 2019-09-24 19:00:59  2019-09-24  \n",
       "322389  1569351659233  7962286 2019-09-24 19:00:59  2019-09-24  \n",
       "322390  1569351659036  2720789 2019-09-24 19:00:59  2019-09-24  \n",
       "\n",
       "[322391 rows x 14 columns]"
      ],
      "text/html": "<div>\n<style scoped>\n    .dataframe tbody tr th:only-of-type {\n        vertical-align: middle;\n    }\n\n    .dataframe tbody tr th {\n        vertical-align: top;\n    }\n\n    .dataframe thead th {\n        text-align: right;\n    }\n</style>\n<table border=\"1\" class=\"dataframe\">\n  <thead>\n    <tr style=\"text-align: right;\">\n      <th></th>\n      <th>Unnamed: 0</th>\n      <th>event_id</th>\n      <th>age_segment</th>\n      <th>event</th>\n      <th>item_id</th>\n      <th>item_topic</th>\n      <th>item_type</th>\n      <th>source_id</th>\n      <th>source_topic</th>\n      <th>source_type</th>\n      <th>ts</th>\n      <th>user_id</th>\n      <th>event_time</th>\n      <th>date_time</th>\n    </tr>\n  </thead>\n  <tbody>\n    <tr>\n      <th>0</th>\n      <td>0</td>\n      <td>2931262</td>\n      <td>18-25</td>\n      <td>show</td>\n      <td>1793260</td>\n      <td>Красота</td>\n      <td>native</td>\n      <td>8388799</td>\n      <td>История</td>\n      <td>publisher</td>\n      <td>1569349657638</td>\n      <td>2185026</td>\n      <td>2019-09-24 18:27:37</td>\n      <td>2019-09-24</td>\n    </tr>\n    <tr>\n      <th>1</th>\n      <td>1</td>\n      <td>2931277</td>\n      <td>18-25</td>\n      <td>show</td>\n      <td>7465641</td>\n      <td>Культура</td>\n      <td>native</td>\n      <td>5837959</td>\n      <td>История</td>\n      <td>publisher</td>\n      <td>1569349657971</td>\n      <td>6845238</td>\n      <td>2019-09-24 18:27:37</td>\n      <td>2019-09-24</td>\n    </tr>\n    <tr>\n      <th>2</th>\n      <td>2</td>\n      <td>2931285</td>\n      <td>18-25</td>\n      <td>show</td>\n      <td>406073</td>\n      <td>История</td>\n      <td>url</td>\n      <td>2335872</td>\n      <td>Сад и дача</td>\n      <td>domain</td>\n      <td>1569349658408</td>\n      <td>5244363</td>\n      <td>2019-09-24 18:27:38</td>\n      <td>2019-09-24</td>\n    </tr>\n    <tr>\n      <th>3</th>\n      <td>3</td>\n      <td>2931247</td>\n      <td>26-30</td>\n      <td>show</td>\n      <td>752665</td>\n      <td>Путешествия</td>\n      <td>native</td>\n      <td>6963489</td>\n      <td>Здоровье</td>\n      <td>publisher</td>\n      <td>1569349657189</td>\n      <td>7553074</td>\n      <td>2019-09-24 18:27:37</td>\n      <td>2019-09-24</td>\n    </tr>\n    <tr>\n      <th>4</th>\n      <td>4</td>\n      <td>2931278</td>\n      <td>26-30</td>\n      <td>click</td>\n      <td>6843081</td>\n      <td>Юмор</td>\n      <td>url</td>\n      <td>5427748</td>\n      <td>Семейные отношения</td>\n      <td>domain</td>\n      <td>1569349658054</td>\n      <td>1317585</td>\n      <td>2019-09-24 18:27:38</td>\n      <td>2019-09-24</td>\n    </tr>\n    <tr>\n      <th>...</th>\n      <td>...</td>\n      <td>...</td>\n      <td>...</td>\n      <td>...</td>\n      <td>...</td>\n      <td>...</td>\n      <td>...</td>\n      <td>...</td>\n      <td>...</td>\n      <td>...</td>\n      <td>...</td>\n      <td>...</td>\n      <td>...</td>\n      <td>...</td>\n    </tr>\n    <tr>\n      <th>322386</th>\n      <td>322386</td>\n      <td>4396804</td>\n      <td>31-35</td>\n      <td>click</td>\n      <td>7273256</td>\n      <td>Наука</td>\n      <td>native</td>\n      <td>5451530</td>\n      <td>Сад и дача</td>\n      <td>publisher</td>\n      <td>1569351658610</td>\n      <td>1351271</td>\n      <td>2019-09-24 19:00:58</td>\n      <td>2019-09-24</td>\n    </tr>\n    <tr>\n      <th>322387</th>\n      <td>322387</td>\n      <td>4396814</td>\n      <td>31-35</td>\n      <td>show</td>\n      <td>4094446</td>\n      <td>Женская психология</td>\n      <td>narrative_card</td>\n      <td>4001238</td>\n      <td>Психология</td>\n      <td>publisher</td>\n      <td>1569351658738</td>\n      <td>4466455</td>\n      <td>2019-09-24 19:00:58</td>\n      <td>2019-09-24</td>\n    </tr>\n    <tr>\n      <th>322388</th>\n      <td>322388</td>\n      <td>4396836</td>\n      <td>18-25</td>\n      <td>show</td>\n      <td>5003354</td>\n      <td>Интересные факты</td>\n      <td>url</td>\n      <td>6371686</td>\n      <td>Полезные советы</td>\n      <td>domain</td>\n      <td>1569351659030</td>\n      <td>4916583</td>\n      <td>2019-09-24 19:00:59</td>\n      <td>2019-09-24</td>\n    </tr>\n    <tr>\n      <th>322389</th>\n      <td>322389</td>\n      <td>4396846</td>\n      <td>18-25</td>\n      <td>click</td>\n      <td>39740</td>\n      <td>Отношения</td>\n      <td>narrative_card</td>\n      <td>9829090</td>\n      <td>Семейные отношения</td>\n      <td>publisher</td>\n      <td>1569351659233</td>\n      <td>7962286</td>\n      <td>2019-09-24 19:00:59</td>\n      <td>2019-09-24</td>\n    </tr>\n    <tr>\n      <th>322390</th>\n      <td>322390</td>\n      <td>4396838</td>\n      <td>31-35</td>\n      <td>show</td>\n      <td>3317563</td>\n      <td>Общество</td>\n      <td>url</td>\n      <td>8280856</td>\n      <td>Деньги</td>\n      <td>domain</td>\n      <td>1569351659036</td>\n      <td>2720789</td>\n      <td>2019-09-24 19:00:59</td>\n      <td>2019-09-24</td>\n    </tr>\n  </tbody>\n</table>\n<p>322391 rows × 14 columns</p>\n</div>"
     },
     "metadata": {},
     "execution_count": 5
    }
   ],
   "source": [
    "    \n",
    "log_raw['event_time'] = log_raw['ts'] // 1000\n",
    "log_raw['event_time'] = pd.to_datetime(log_raw['event_time'], unit = 's')\n",
    "log_raw['date_time'] = log_raw['event_time'].dt.date\n",
    "log_raw"
   ]
  },
  {
   "cell_type": "code",
   "execution_count": 6,
   "metadata": {},
   "outputs": [],
   "source": [
    "log_raw.to_csv('dash_visits.csv', index = False)"
   ]
  },
  {
   "cell_type": "code",
   "execution_count": null,
   "metadata": {},
   "outputs": [],
   "source": []
  }
 ]
}