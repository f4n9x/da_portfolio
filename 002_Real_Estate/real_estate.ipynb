{
  "cells": [
    {
      "cell_type": "markdown",
      "source": [
        "# Exploring the housing market of Saint Pietersburg\n",
        "\n",
        "The data set for this research is the Yandex.Realty archive of ads for the apartments sal in St. Petersburg and neighboring settlements. \n",
        "\n",
        "The main goal of this research is to understand what affects the realty prices. The outcome of the research will be used to build an automated system that will track anomalies and fraudulent activity.\n",
        "\n",
        "There are two types of data available for each apartment for sale. The first type is the data that was entered by the user, the second type is the data that obtained automatically based on cartography. For example, the distance to the center, airport, nearest park and so on.\n",
        "\n",
        "The table contains the following data:\n",
        "\n",
        "* 'airports_nearest` — distance to the nearest airport in meters (m)\n",
        "* 'balcony` — number of balconies\n",
        "* 'ceiling_height` — ceiling height (m)\n",
        "* 'cityCenters_nearest` - distance to the city center (m)\n",
        "* 'days_exposition` — how many days the ad was placed (from publication to removal)\n",
        "* 'first_day_exposition` — date of publication\n",
        "* 'floor` - floor\n",
        "* 'floors_total` — total floors in the house\n",
        "* 'is_apartment` - apartments (boolean type)\n",
        "* 'kitchen_area` — kitchen area in square meters (m2)\n",
        "* 'last_price` - price at the time of withdrawal from publication\n",
        "* 'living_area` — living area in square meters(m2)\n",
        "* 'locality_name` — name of the locality\n",
        "* 'open_plan` — free layout (boolean type)\n",
        "* 'parks_around3000` — the number of parks within a 3 km radius\n",
        "* 'parks_nearest` — distance to the nearest park (m)\n",
        "* 'ponds_around3000` — number of reservoirs within a radius of 3 km\n",
        "* 'ponds_nearest` — distance to the nearest reservoir (m)\n",
        "* 'rooms` — number of rooms\n",
        "* 'studio` — studio apartment (boolean type)\n",
        "* 'total_area` — the area of the apartment in square meters (m2)\n",
        "* 'total_images` — the number of photos of the apartment in the ad\n",
        "\n",
        "The research includes the following stages:\n",
        "\n",
        "1. Data investigation.\n",
        "2. Data cleanup.\n",
        "3. Data analysis.\n",
        "4. Follow up."
      ],
      "metadata": {
        "id": "DHIGz5SPVGWt"
      }
    },
    {
      "cell_type": "markdown",
      "source": [
        "# Data investigation"
      ],
      "metadata": {
        "id": "xeQyIy_0jYSh"
      }
    },
    {
      "cell_type": "markdown",
      "source": [
        "First thing to do is to load tha data and check it's shape."
      ],
      "metadata": {
        "id": "u957uqA2jgmN"
      }
    },
    {
      "cell_type": "code",
      "source": [
        "from google.colab import drive\n",
        "drive.mount(\"/content/drive\")"
      ],
      "metadata": {
        "colab": {
          "base_uri": "https://localhost:8080/"
        },
        "id": "AgSKMLn0Rx-A",
        "outputId": "0a716218-0eea-4679-8f05-59bf8a0bfca5"
      },
      "execution_count": 89,
      "outputs": [
        {
          "output_type": "stream",
          "name": "stdout",
          "text": [
            "Drive already mounted at /content/drive; to attempt to forcibly remount, call drive.mount(\"/content/drive\", force_remount=True).\n"
          ]
        }
      ]
    },
    {
      "cell_type": "code",
      "source": [
        "# libraries import\n",
        "import pandas as pd\n",
        "pd.options.mode.chained_assignment = None  # default='warn'\n",
        "!pip install pymystem3==0.1.10\n",
        "from pymystem3 import Mystem\n",
        "m = Mystem()\n",
        "from matplotlib import pyplot as plt\n"
      ],
      "metadata": {
        "colab": {
          "base_uri": "https://localhost:8080/"
        },
        "id": "ve_5Ytq9SUPW",
        "outputId": "4fa2a135-0977-4d47-c345-1300e009a6bb"
      },
      "execution_count": 90,
      "outputs": [
        {
          "output_type": "stream",
          "name": "stdout",
          "text": [
            "Looking in indexes: https://pypi.org/simple, https://us-python.pkg.dev/colab-wheels/public/simple/\n",
            "Requirement already satisfied: pymystem3==0.1.10 in /usr/local/lib/python3.9/dist-packages (0.1.10)\n",
            "Requirement already satisfied: requests in /usr/local/lib/python3.9/dist-packages (from pymystem3==0.1.10) (2.27.1)\n",
            "Requirement already satisfied: urllib3<1.27,>=1.21.1 in /usr/local/lib/python3.9/dist-packages (from requests->pymystem3==0.1.10) (1.26.15)\n",
            "Requirement already satisfied: certifi>=2017.4.17 in /usr/local/lib/python3.9/dist-packages (from requests->pymystem3==0.1.10) (2022.12.7)\n",
            "Requirement already satisfied: charset-normalizer~=2.0.0 in /usr/local/lib/python3.9/dist-packages (from requests->pymystem3==0.1.10) (2.0.12)\n",
            "Requirement already satisfied: idna<4,>=2.5 in /usr/local/lib/python3.9/dist-packages (from requests->pymystem3==0.1.10) (3.4)\n"
          ]
        }
      ]
    },
    {
      "cell_type": "code",
      "source": [
        "# data import\n",
        "df = pd.read_csv(\"/content/drive/MyDrive/da_portfolio/real_estate_data.csv\", sep=\"\\t\") \n",
        "display(df.head(10))\n",
        "display(df.info())"
      ],
      "metadata": {
        "colab": {
          "base_uri": "https://localhost:8080/",
          "height": 1000
        },
        "id": "6dwhjOF6SnzD",
        "outputId": "528faa57-d869-4adc-a27a-463a3118c8a2"
      },
      "execution_count": 91,
      "outputs": [
        {
          "output_type": "display_data",
          "data": {
            "text/plain": [
              "   total_images  last_price  total_area first_day_exposition  rooms  \\\n",
              "0            20  13000000.0      108.00  2019-03-07T00:00:00      3   \n",
              "1             7   3350000.0       40.40  2018-12-04T00:00:00      1   \n",
              "2            10   5196000.0       56.00  2015-08-20T00:00:00      2   \n",
              "3             0  64900000.0      159.00  2015-07-24T00:00:00      3   \n",
              "4             2  10000000.0      100.00  2018-06-19T00:00:00      2   \n",
              "5            10   2890000.0       30.40  2018-09-10T00:00:00      1   \n",
              "6             6   3700000.0       37.30  2017-11-02T00:00:00      1   \n",
              "7             5   7915000.0       71.60  2019-04-18T00:00:00      2   \n",
              "8            20   2900000.0       33.16  2018-05-23T00:00:00      1   \n",
              "9            18   5400000.0       61.00  2017-02-26T00:00:00      3   \n",
              "\n",
              "   ceiling_height  floors_total  living_area  floor is_apartment  ...  \\\n",
              "0            2.70          16.0        51.00      8          NaN  ...   \n",
              "1             NaN          11.0        18.60      1          NaN  ...   \n",
              "2             NaN           5.0        34.30      4          NaN  ...   \n",
              "3             NaN          14.0          NaN      9          NaN  ...   \n",
              "4            3.03          14.0        32.00     13          NaN  ...   \n",
              "5             NaN          12.0        14.40      5          NaN  ...   \n",
              "6             NaN          26.0        10.60      6          NaN  ...   \n",
              "7             NaN          24.0          NaN     22          NaN  ...   \n",
              "8             NaN          27.0        15.43     26          NaN  ...   \n",
              "9            2.50           9.0        43.60      7          NaN  ...   \n",
              "\n",
              "   kitchen_area  balcony              locality_name  airports_nearest  \\\n",
              "0         25.00      NaN            Санкт-Петербург           18863.0   \n",
              "1         11.00      2.0             посёлок Шушары           12817.0   \n",
              "2          8.30      0.0            Санкт-Петербург           21741.0   \n",
              "3           NaN      0.0            Санкт-Петербург           28098.0   \n",
              "4         41.00      NaN            Санкт-Петербург           31856.0   \n",
              "5          9.10      NaN  городской посёлок Янино-1               NaN   \n",
              "6         14.40      1.0          посёлок Парголово           52996.0   \n",
              "7         18.90      2.0            Санкт-Петербург           23982.0   \n",
              "8          8.81      NaN             посёлок Мурино               NaN   \n",
              "9          6.50      2.0            Санкт-Петербург           50898.0   \n",
              "\n",
              "  cityCenters_nearest  parks_around3000  parks_nearest  ponds_around3000  \\\n",
              "0             16028.0               1.0          482.0               2.0   \n",
              "1             18603.0               0.0            NaN               0.0   \n",
              "2             13933.0               1.0           90.0               2.0   \n",
              "3              6800.0               2.0           84.0               3.0   \n",
              "4              8098.0               2.0          112.0               1.0   \n",
              "5                 NaN               NaN            NaN               NaN   \n",
              "6             19143.0               0.0            NaN               0.0   \n",
              "7             11634.0               0.0            NaN               0.0   \n",
              "8                 NaN               NaN            NaN               NaN   \n",
              "9             15008.0               0.0            NaN               0.0   \n",
              "\n",
              "   ponds_nearest  days_exposition  \n",
              "0          755.0              NaN  \n",
              "1            NaN             81.0  \n",
              "2          574.0            558.0  \n",
              "3          234.0            424.0  \n",
              "4           48.0            121.0  \n",
              "5            NaN             55.0  \n",
              "6            NaN            155.0  \n",
              "7            NaN              NaN  \n",
              "8            NaN            189.0  \n",
              "9            NaN            289.0  \n",
              "\n",
              "[10 rows x 22 columns]"
            ],
            "text/html": [
              "\n",
              "  <div id=\"df-6ebe83b8-5fd8-43ba-9f74-6e1f8bf18ba8\">\n",
              "    <div class=\"colab-df-container\">\n",
              "      <div>\n",
              "<style scoped>\n",
              "    .dataframe tbody tr th:only-of-type {\n",
              "        vertical-align: middle;\n",
              "    }\n",
              "\n",
              "    .dataframe tbody tr th {\n",
              "        vertical-align: top;\n",
              "    }\n",
              "\n",
              "    .dataframe thead th {\n",
              "        text-align: right;\n",
              "    }\n",
              "</style>\n",
              "<table border=\"1\" class=\"dataframe\">\n",
              "  <thead>\n",
              "    <tr style=\"text-align: right;\">\n",
              "      <th></th>\n",
              "      <th>total_images</th>\n",
              "      <th>last_price</th>\n",
              "      <th>total_area</th>\n",
              "      <th>first_day_exposition</th>\n",
              "      <th>rooms</th>\n",
              "      <th>ceiling_height</th>\n",
              "      <th>floors_total</th>\n",
              "      <th>living_area</th>\n",
              "      <th>floor</th>\n",
              "      <th>is_apartment</th>\n",
              "      <th>...</th>\n",
              "      <th>kitchen_area</th>\n",
              "      <th>balcony</th>\n",
              "      <th>locality_name</th>\n",
              "      <th>airports_nearest</th>\n",
              "      <th>cityCenters_nearest</th>\n",
              "      <th>parks_around3000</th>\n",
              "      <th>parks_nearest</th>\n",
              "      <th>ponds_around3000</th>\n",
              "      <th>ponds_nearest</th>\n",
              "      <th>days_exposition</th>\n",
              "    </tr>\n",
              "  </thead>\n",
              "  <tbody>\n",
              "    <tr>\n",
              "      <th>0</th>\n",
              "      <td>20</td>\n",
              "      <td>13000000.0</td>\n",
              "      <td>108.00</td>\n",
              "      <td>2019-03-07T00:00:00</td>\n",
              "      <td>3</td>\n",
              "      <td>2.70</td>\n",
              "      <td>16.0</td>\n",
              "      <td>51.00</td>\n",
              "      <td>8</td>\n",
              "      <td>NaN</td>\n",
              "      <td>...</td>\n",
              "      <td>25.00</td>\n",
              "      <td>NaN</td>\n",
              "      <td>Санкт-Петербург</td>\n",
              "      <td>18863.0</td>\n",
              "      <td>16028.0</td>\n",
              "      <td>1.0</td>\n",
              "      <td>482.0</td>\n",
              "      <td>2.0</td>\n",
              "      <td>755.0</td>\n",
              "      <td>NaN</td>\n",
              "    </tr>\n",
              "    <tr>\n",
              "      <th>1</th>\n",
              "      <td>7</td>\n",
              "      <td>3350000.0</td>\n",
              "      <td>40.40</td>\n",
              "      <td>2018-12-04T00:00:00</td>\n",
              "      <td>1</td>\n",
              "      <td>NaN</td>\n",
              "      <td>11.0</td>\n",
              "      <td>18.60</td>\n",
              "      <td>1</td>\n",
              "      <td>NaN</td>\n",
              "      <td>...</td>\n",
              "      <td>11.00</td>\n",
              "      <td>2.0</td>\n",
              "      <td>посёлок Шушары</td>\n",
              "      <td>12817.0</td>\n",
              "      <td>18603.0</td>\n",
              "      <td>0.0</td>\n",
              "      <td>NaN</td>\n",
              "      <td>0.0</td>\n",
              "      <td>NaN</td>\n",
              "      <td>81.0</td>\n",
              "    </tr>\n",
              "    <tr>\n",
              "      <th>2</th>\n",
              "      <td>10</td>\n",
              "      <td>5196000.0</td>\n",
              "      <td>56.00</td>\n",
              "      <td>2015-08-20T00:00:00</td>\n",
              "      <td>2</td>\n",
              "      <td>NaN</td>\n",
              "      <td>5.0</td>\n",
              "      <td>34.30</td>\n",
              "      <td>4</td>\n",
              "      <td>NaN</td>\n",
              "      <td>...</td>\n",
              "      <td>8.30</td>\n",
              "      <td>0.0</td>\n",
              "      <td>Санкт-Петербург</td>\n",
              "      <td>21741.0</td>\n",
              "      <td>13933.0</td>\n",
              "      <td>1.0</td>\n",
              "      <td>90.0</td>\n",
              "      <td>2.0</td>\n",
              "      <td>574.0</td>\n",
              "      <td>558.0</td>\n",
              "    </tr>\n",
              "    <tr>\n",
              "      <th>3</th>\n",
              "      <td>0</td>\n",
              "      <td>64900000.0</td>\n",
              "      <td>159.00</td>\n",
              "      <td>2015-07-24T00:00:00</td>\n",
              "      <td>3</td>\n",
              "      <td>NaN</td>\n",
              "      <td>14.0</td>\n",
              "      <td>NaN</td>\n",
              "      <td>9</td>\n",
              "      <td>NaN</td>\n",
              "      <td>...</td>\n",
              "      <td>NaN</td>\n",
              "      <td>0.0</td>\n",
              "      <td>Санкт-Петербург</td>\n",
              "      <td>28098.0</td>\n",
              "      <td>6800.0</td>\n",
              "      <td>2.0</td>\n",
              "      <td>84.0</td>\n",
              "      <td>3.0</td>\n",
              "      <td>234.0</td>\n",
              "      <td>424.0</td>\n",
              "    </tr>\n",
              "    <tr>\n",
              "      <th>4</th>\n",
              "      <td>2</td>\n",
              "      <td>10000000.0</td>\n",
              "      <td>100.00</td>\n",
              "      <td>2018-06-19T00:00:00</td>\n",
              "      <td>2</td>\n",
              "      <td>3.03</td>\n",
              "      <td>14.0</td>\n",
              "      <td>32.00</td>\n",
              "      <td>13</td>\n",
              "      <td>NaN</td>\n",
              "      <td>...</td>\n",
              "      <td>41.00</td>\n",
              "      <td>NaN</td>\n",
              "      <td>Санкт-Петербург</td>\n",
              "      <td>31856.0</td>\n",
              "      <td>8098.0</td>\n",
              "      <td>2.0</td>\n",
              "      <td>112.0</td>\n",
              "      <td>1.0</td>\n",
              "      <td>48.0</td>\n",
              "      <td>121.0</td>\n",
              "    </tr>\n",
              "    <tr>\n",
              "      <th>5</th>\n",
              "      <td>10</td>\n",
              "      <td>2890000.0</td>\n",
              "      <td>30.40</td>\n",
              "      <td>2018-09-10T00:00:00</td>\n",
              "      <td>1</td>\n",
              "      <td>NaN</td>\n",
              "      <td>12.0</td>\n",
              "      <td>14.40</td>\n",
              "      <td>5</td>\n",
              "      <td>NaN</td>\n",
              "      <td>...</td>\n",
              "      <td>9.10</td>\n",
              "      <td>NaN</td>\n",
              "      <td>городской посёлок Янино-1</td>\n",
              "      <td>NaN</td>\n",
              "      <td>NaN</td>\n",
              "      <td>NaN</td>\n",
              "      <td>NaN</td>\n",
              "      <td>NaN</td>\n",
              "      <td>NaN</td>\n",
              "      <td>55.0</td>\n",
              "    </tr>\n",
              "    <tr>\n",
              "      <th>6</th>\n",
              "      <td>6</td>\n",
              "      <td>3700000.0</td>\n",
              "      <td>37.30</td>\n",
              "      <td>2017-11-02T00:00:00</td>\n",
              "      <td>1</td>\n",
              "      <td>NaN</td>\n",
              "      <td>26.0</td>\n",
              "      <td>10.60</td>\n",
              "      <td>6</td>\n",
              "      <td>NaN</td>\n",
              "      <td>...</td>\n",
              "      <td>14.40</td>\n",
              "      <td>1.0</td>\n",
              "      <td>посёлок Парголово</td>\n",
              "      <td>52996.0</td>\n",
              "      <td>19143.0</td>\n",
              "      <td>0.0</td>\n",
              "      <td>NaN</td>\n",
              "      <td>0.0</td>\n",
              "      <td>NaN</td>\n",
              "      <td>155.0</td>\n",
              "    </tr>\n",
              "    <tr>\n",
              "      <th>7</th>\n",
              "      <td>5</td>\n",
              "      <td>7915000.0</td>\n",
              "      <td>71.60</td>\n",
              "      <td>2019-04-18T00:00:00</td>\n",
              "      <td>2</td>\n",
              "      <td>NaN</td>\n",
              "      <td>24.0</td>\n",
              "      <td>NaN</td>\n",
              "      <td>22</td>\n",
              "      <td>NaN</td>\n",
              "      <td>...</td>\n",
              "      <td>18.90</td>\n",
              "      <td>2.0</td>\n",
              "      <td>Санкт-Петербург</td>\n",
              "      <td>23982.0</td>\n",
              "      <td>11634.0</td>\n",
              "      <td>0.0</td>\n",
              "      <td>NaN</td>\n",
              "      <td>0.0</td>\n",
              "      <td>NaN</td>\n",
              "      <td>NaN</td>\n",
              "    </tr>\n",
              "    <tr>\n",
              "      <th>8</th>\n",
              "      <td>20</td>\n",
              "      <td>2900000.0</td>\n",
              "      <td>33.16</td>\n",
              "      <td>2018-05-23T00:00:00</td>\n",
              "      <td>1</td>\n",
              "      <td>NaN</td>\n",
              "      <td>27.0</td>\n",
              "      <td>15.43</td>\n",
              "      <td>26</td>\n",
              "      <td>NaN</td>\n",
              "      <td>...</td>\n",
              "      <td>8.81</td>\n",
              "      <td>NaN</td>\n",
              "      <td>посёлок Мурино</td>\n",
              "      <td>NaN</td>\n",
              "      <td>NaN</td>\n",
              "      <td>NaN</td>\n",
              "      <td>NaN</td>\n",
              "      <td>NaN</td>\n",
              "      <td>NaN</td>\n",
              "      <td>189.0</td>\n",
              "    </tr>\n",
              "    <tr>\n",
              "      <th>9</th>\n",
              "      <td>18</td>\n",
              "      <td>5400000.0</td>\n",
              "      <td>61.00</td>\n",
              "      <td>2017-02-26T00:00:00</td>\n",
              "      <td>3</td>\n",
              "      <td>2.50</td>\n",
              "      <td>9.0</td>\n",
              "      <td>43.60</td>\n",
              "      <td>7</td>\n",
              "      <td>NaN</td>\n",
              "      <td>...</td>\n",
              "      <td>6.50</td>\n",
              "      <td>2.0</td>\n",
              "      <td>Санкт-Петербург</td>\n",
              "      <td>50898.0</td>\n",
              "      <td>15008.0</td>\n",
              "      <td>0.0</td>\n",
              "      <td>NaN</td>\n",
              "      <td>0.0</td>\n",
              "      <td>NaN</td>\n",
              "      <td>289.0</td>\n",
              "    </tr>\n",
              "  </tbody>\n",
              "</table>\n",
              "<p>10 rows × 22 columns</p>\n",
              "</div>\n",
              "      <button class=\"colab-df-convert\" onclick=\"convertToInteractive('df-6ebe83b8-5fd8-43ba-9f74-6e1f8bf18ba8')\"\n",
              "              title=\"Convert this dataframe to an interactive table.\"\n",
              "              style=\"display:none;\">\n",
              "        \n",
              "  <svg xmlns=\"http://www.w3.org/2000/svg\" height=\"24px\"viewBox=\"0 0 24 24\"\n",
              "       width=\"24px\">\n",
              "    <path d=\"M0 0h24v24H0V0z\" fill=\"none\"/>\n",
              "    <path d=\"M18.56 5.44l.94 2.06.94-2.06 2.06-.94-2.06-.94-.94-2.06-.94 2.06-2.06.94zm-11 1L8.5 8.5l.94-2.06 2.06-.94-2.06-.94L8.5 2.5l-.94 2.06-2.06.94zm10 10l.94 2.06.94-2.06 2.06-.94-2.06-.94-.94-2.06-.94 2.06-2.06.94z\"/><path d=\"M17.41 7.96l-1.37-1.37c-.4-.4-.92-.59-1.43-.59-.52 0-1.04.2-1.43.59L10.3 9.45l-7.72 7.72c-.78.78-.78 2.05 0 2.83L4 21.41c.39.39.9.59 1.41.59.51 0 1.02-.2 1.41-.59l7.78-7.78 2.81-2.81c.8-.78.8-2.07 0-2.86zM5.41 20L4 18.59l7.72-7.72 1.47 1.35L5.41 20z\"/>\n",
              "  </svg>\n",
              "      </button>\n",
              "      \n",
              "  <style>\n",
              "    .colab-df-container {\n",
              "      display:flex;\n",
              "      flex-wrap:wrap;\n",
              "      gap: 12px;\n",
              "    }\n",
              "\n",
              "    .colab-df-convert {\n",
              "      background-color: #E8F0FE;\n",
              "      border: none;\n",
              "      border-radius: 50%;\n",
              "      cursor: pointer;\n",
              "      display: none;\n",
              "      fill: #1967D2;\n",
              "      height: 32px;\n",
              "      padding: 0 0 0 0;\n",
              "      width: 32px;\n",
              "    }\n",
              "\n",
              "    .colab-df-convert:hover {\n",
              "      background-color: #E2EBFA;\n",
              "      box-shadow: 0px 1px 2px rgba(60, 64, 67, 0.3), 0px 1px 3px 1px rgba(60, 64, 67, 0.15);\n",
              "      fill: #174EA6;\n",
              "    }\n",
              "\n",
              "    [theme=dark] .colab-df-convert {\n",
              "      background-color: #3B4455;\n",
              "      fill: #D2E3FC;\n",
              "    }\n",
              "\n",
              "    [theme=dark] .colab-df-convert:hover {\n",
              "      background-color: #434B5C;\n",
              "      box-shadow: 0px 1px 3px 1px rgba(0, 0, 0, 0.15);\n",
              "      filter: drop-shadow(0px 1px 2px rgba(0, 0, 0, 0.3));\n",
              "      fill: #FFFFFF;\n",
              "    }\n",
              "  </style>\n",
              "\n",
              "      <script>\n",
              "        const buttonEl =\n",
              "          document.querySelector('#df-6ebe83b8-5fd8-43ba-9f74-6e1f8bf18ba8 button.colab-df-convert');\n",
              "        buttonEl.style.display =\n",
              "          google.colab.kernel.accessAllowed ? 'block' : 'none';\n",
              "\n",
              "        async function convertToInteractive(key) {\n",
              "          const element = document.querySelector('#df-6ebe83b8-5fd8-43ba-9f74-6e1f8bf18ba8');\n",
              "          const dataTable =\n",
              "            await google.colab.kernel.invokeFunction('convertToInteractive',\n",
              "                                                     [key], {});\n",
              "          if (!dataTable) return;\n",
              "\n",
              "          const docLinkHtml = 'Like what you see? Visit the ' +\n",
              "            '<a target=\"_blank\" href=https://colab.research.google.com/notebooks/data_table.ipynb>data table notebook</a>'\n",
              "            + ' to learn more about interactive tables.';\n",
              "          element.innerHTML = '';\n",
              "          dataTable['output_type'] = 'display_data';\n",
              "          await google.colab.output.renderOutput(dataTable, element);\n",
              "          const docLink = document.createElement('div');\n",
              "          docLink.innerHTML = docLinkHtml;\n",
              "          element.appendChild(docLink);\n",
              "        }\n",
              "      </script>\n",
              "    </div>\n",
              "  </div>\n",
              "  "
            ]
          },
          "metadata": {}
        },
        {
          "output_type": "stream",
          "name": "stdout",
          "text": [
            "<class 'pandas.core.frame.DataFrame'>\n",
            "RangeIndex: 23699 entries, 0 to 23698\n",
            "Data columns (total 22 columns):\n",
            " #   Column                Non-Null Count  Dtype  \n",
            "---  ------                --------------  -----  \n",
            " 0   total_images          23699 non-null  int64  \n",
            " 1   last_price            23699 non-null  float64\n",
            " 2   total_area            23699 non-null  float64\n",
            " 3   first_day_exposition  23699 non-null  object \n",
            " 4   rooms                 23699 non-null  int64  \n",
            " 5   ceiling_height        14504 non-null  float64\n",
            " 6   floors_total          23613 non-null  float64\n",
            " 7   living_area           21796 non-null  float64\n",
            " 8   floor                 23699 non-null  int64  \n",
            " 9   is_apartment          2775 non-null   object \n",
            " 10  studio                23699 non-null  bool   \n",
            " 11  open_plan             23699 non-null  bool   \n",
            " 12  kitchen_area          21421 non-null  float64\n",
            " 13  balcony               12180 non-null  float64\n",
            " 14  locality_name         23650 non-null  object \n",
            " 15  airports_nearest      18157 non-null  float64\n",
            " 16  cityCenters_nearest   18180 non-null  float64\n",
            " 17  parks_around3000      18181 non-null  float64\n",
            " 18  parks_nearest         8079 non-null   float64\n",
            " 19  ponds_around3000      18181 non-null  float64\n",
            " 20  ponds_nearest         9110 non-null   float64\n",
            " 21  days_exposition       20518 non-null  float64\n",
            "dtypes: bool(2), float64(14), int64(3), object(3)\n",
            "memory usage: 3.7+ MB\n"
          ]
        },
        {
          "output_type": "display_data",
          "data": {
            "text/plain": [
              "None"
            ]
          },
          "metadata": {}
        }
      ]
    },
    {
      "cell_type": "markdown",
      "source": [
        "Now the data is loaded and I can see that not all data can be used for analysis the way it is now: the number of rows in columns is not equal, some cells have `NaN` as a value, also there is a need to check the data for duplicates. \n",
        "\n",
        "\n",
        "\n"
      ],
      "metadata": {
        "id": "5NppgxaxjuS3"
      }
    },
    {
      "cell_type": "markdown",
      "source": [
        "# Data cleanup"
      ],
      "metadata": {
        "id": "EqGd_hdHkZaG"
      }
    },
    {
      "cell_type": "markdown",
      "source": [
        "I will start with checking for duplicates."
      ],
      "metadata": {
        "id": "3X024_aGkkCd"
      }
    },
    {
      "cell_type": "code",
      "source": [
        "# converting ;ocality to the lowercase\n",
        "df[\"locality_name\"] = df[\"locality_name\"].str.lower()\n",
        "\n",
        "# checking for duplicates in the wholde dataframe\n",
        "print(\"The number of duplicates is:\", df.duplicated().sum())"
      ],
      "metadata": {
        "id": "Jw3u41zSSq73",
        "colab": {
          "base_uri": "https://localhost:8080/"
        },
        "outputId": "3ba0e878-d47c-4776-8f68-80a9e925eb70"
      },
      "execution_count": 92,
      "outputs": [
        {
          "output_type": "stream",
          "name": "stdout",
          "text": [
            "The number of duplicates is: 0\n"
          ]
        }
      ]
    },
    {
      "cell_type": "markdown",
      "source": [
        "Now that I've confirmed the absence of duplicates, I can proceed with the data cleanup process. My next task is to address any discrepancies in the number of rows and columns.\n",
        "\n",
        "Usually, an unequal number of rows indicates that some cells lack the appropriate data. To resolve this, I will assess the number of such cells per row and examine the column names to ensure that everything is in order."
      ],
      "metadata": {
        "id": "dOi-HjQkk4En"
      }
    },
    {
      "cell_type": "code",
      "source": [
        "# checking the columns' names\n",
        "df.columns"
      ],
      "metadata": {
        "colab": {
          "base_uri": "https://localhost:8080/"
        },
        "id": "tS841ITilUJS",
        "outputId": "898647ad-0a77-469f-8953-48d129c92ef0"
      },
      "execution_count": 93,
      "outputs": [
        {
          "output_type": "execute_result",
          "data": {
            "text/plain": [
              "Index(['total_images', 'last_price', 'total_area', 'first_day_exposition',\n",
              "       'rooms', 'ceiling_height', 'floors_total', 'living_area', 'floor',\n",
              "       'is_apartment', 'studio', 'open_plan', 'kitchen_area', 'balcony',\n",
              "       'locality_name', 'airports_nearest', 'cityCenters_nearest',\n",
              "       'parks_around3000', 'parks_nearest', 'ponds_around3000',\n",
              "       'ponds_nearest', 'days_exposition'],\n",
              "      dtype='object')"
            ]
          },
          "metadata": {},
          "execution_count": 93
        }
      ]
    },
    {
      "cell_type": "markdown",
      "source": [
        "No spaces, no camelcase. All fine."
      ],
      "metadata": {
        "id": "tpWayIFOl3-O"
      }
    },
    {
      "cell_type": "code",
      "source": [
        "# checking the amount of  null in the column\n",
        "df.isnull().sum()"
      ],
      "metadata": {
        "colab": {
          "base_uri": "https://localhost:8080/"
        },
        "id": "hQ4ga48nmEcw",
        "outputId": "dd8ebebe-5518-408f-c0bc-310bba670125"
      },
      "execution_count": 94,
      "outputs": [
        {
          "output_type": "execute_result",
          "data": {
            "text/plain": [
              "total_images                0\n",
              "last_price                  0\n",
              "total_area                  0\n",
              "first_day_exposition        0\n",
              "rooms                       0\n",
              "ceiling_height           9195\n",
              "floors_total               86\n",
              "living_area              1903\n",
              "floor                       0\n",
              "is_apartment            20924\n",
              "studio                      0\n",
              "open_plan                   0\n",
              "kitchen_area             2278\n",
              "balcony                 11519\n",
              "locality_name              49\n",
              "airports_nearest         5542\n",
              "cityCenters_nearest      5519\n",
              "parks_around3000         5518\n",
              "parks_nearest           15620\n",
              "ponds_around3000         5518\n",
              "ponds_nearest           14589\n",
              "days_exposition          3181\n",
              "dtype: int64"
            ]
          },
          "metadata": {},
          "execution_count": 94
        }
      ]
    },
    {
      "cell_type": "markdown",
      "source": [
        "Upon closer inspection, it appears that the dataset contains a significant number of null values - almost every column has some. At this point, I must determine how to handle these values, beginning with identifying which columns will be necessary for further analysis.\n",
        "\n",
        "Based on my initial assessment, it seems that the following columns will be required:\n",
        "\n",
        "* `ceiling_height`\n",
        "* `floors_total`\n",
        "* `locality_name`\n",
        "* `cityCenters_nearest`\n",
        "* `days_exposition`\n",
        "* `living_area`\n",
        "* `kitchen_area`\n",
        "\n",
        "So I will run the data cleanup only on them, avoiding doing anything to the other columns."
      ],
      "metadata": {
        "id": "D4wZfJqWl-gT"
      }
    },
    {
      "cell_type": "markdown",
      "source": [
        "\n",
        "**Ceiling height** (`ceiling_height`): it should be noted that the current standard for new and old buildings alike is approximately 2.5 to 2.8 meters. However, there is an exception for \"stalinka\" buildings, where the ceiling height can exceed 3 meters. Unfortunately, since the table does not provide any information on the type or year of construction, there is no way to determine which category the gaps belong to. As a result, the median value of the `ceiling_height` category will be utilized to fill in these gaps.\n"
      ],
      "metadata": {
        "id": "LyvWkR0snj_n"
      }
    },
    {
      "cell_type": "code",
      "source": [
        "# checking the median value\n",
        "print(\"The median is:\", df[\"ceiling_height\"].median(), \"meters\")"
      ],
      "metadata": {
        "id": "5cilQ9PRnFu2",
        "outputId": "a663a916-78b8-437b-ccc0-d5e84feda18a",
        "colab": {
          "base_uri": "https://localhost:8080/"
        }
      },
      "execution_count": 95,
      "outputs": [
        {
          "output_type": "stream",
          "name": "stdout",
          "text": [
            "The median is: 2.65 meters\n"
          ]
        }
      ]
    },
    {
      "cell_type": "code",
      "source": [
        "# filling the gaps with median value\n",
        "df[\"ceiling_height\"].fillna((df[\"ceiling_height\"].median()), inplace=True)"
      ],
      "metadata": {
        "id": "jf_zHYCGn8p0"
      },
      "execution_count": 96,
      "outputs": []
    },
    {
      "cell_type": "markdown",
      "source": [
        "**Total floors in the house** (`floors_total`): it should be noted that filling in the gaps for this column requires information on the year or type of construction. Additionally, the presence of the `floor` parameter further complicates the task: while the `floors_total` gap can be filled with a median value of 9, the `floor` column may indicate that the client lives on the 13th floor, for example.\n",
        "\n",
        "To simplify this process, I've calculated the percentage of omissions in the `floors_total` column, which amounts to only 0.36% of the total number of rows. Therefore, it should be safe to delete the rows with missing values.\n",
        "\n",
        "In order to facilitate the use of certain functions on the column values, I will need to change the data type to numeric.\n"
      ],
      "metadata": {
        "id": "t6GFDdIvoFAQ"
      }
    },
    {
      "cell_type": "code",
      "source": [
        "# deleting NaN\n",
        "df = df.dropna(subset=[\"floors_total\"])\n",
        "\n",
        "# changing the cityCenters_nearest datatype to 'int'\n",
        "df[\"floors_total\"] = df[\"floors_total\"].astype(\"int\")\n"
      ],
      "metadata": {
        "id": "1FcD_joJoxCR"
      },
      "execution_count": 97,
      "outputs": []
    },
    {
      "cell_type": "markdown",
      "source": [
        "**The name of the locality** (`locality_name`): the number of rows with gaps is relatively small. Unfortunately, there are no parameters available to use for filling in these gaps. As a result, it will be necessary to delete the rows with missing values.\n"
      ],
      "metadata": {
        "id": "6zN-xU-fq100"
      }
    },
    {
      "cell_type": "code",
      "source": [
        "# deleting NaN\n",
        "df = df.dropna(subset=[\"locality_name\"])"
      ],
      "metadata": {
        "id": "CzydVAXJqXhW"
      },
      "execution_count": 98,
      "outputs": []
    },
    {
      "cell_type": "markdown",
      "source": [
        "**Proximity to the center** (`citycenter_nearest`): measures proximity to the center, contains gaps in the data due to its inapplicability to certain settlements. For instance, some small villages and towns do not have a defined \"city center\", as there is little distinction between the outskirts and the center, and distance from the center does not affect property prices in these areas.\n",
        "\n",
        "However, for towns and villages that are satellite settlements of a larger city, it may be possible to indicate the distance from the main city center instead of the settlement center itself.\n"
      ],
      "metadata": {
        "id": "nCPEQl1VrTfF"
      }
    },
    {
      "cell_type": "code",
      "source": [
        "# I start with the list of the settlments\n",
        "df[\"locality_name\"].unique()"
      ],
      "metadata": {
        "id": "ODUnIyHWsAZS",
        "outputId": "9531308e-2ccf-48d0-9b59-ecb4aab96a37",
        "colab": {
          "base_uri": "https://localhost:8080/"
        }
      },
      "execution_count": 99,
      "outputs": [
        {
          "output_type": "execute_result",
          "data": {
            "text/plain": [
              "array(['санкт-петербург', 'посёлок шушары', 'городской посёлок янино-1',\n",
              "       'посёлок парголово', 'посёлок мурино', 'ломоносов', 'сертолово',\n",
              "       'петергоф', 'пушкин', 'деревня кудрово', 'коммунар', 'колпино',\n",
              "       'поселок городского типа красный бор', 'гатчина', 'поселок мурино',\n",
              "       'деревня фёдоровское', 'выборг', 'кронштадт', 'кировск',\n",
              "       'деревня новое девяткино', 'посёлок металлострой',\n",
              "       'посёлок городского типа лебяжье',\n",
              "       'посёлок городского типа сиверский', 'поселок молодцово',\n",
              "       'поселок городского типа кузьмоловский',\n",
              "       'садовое товарищество новая ропша', 'павловск',\n",
              "       'деревня пикколово', 'всеволожск', 'волхов', 'кингисепп',\n",
              "       'приозерск', 'сестрорецк', 'деревня куттузи', 'посёлок аннино',\n",
              "       'поселок городского типа ефимовский', 'посёлок плодовое',\n",
              "       'деревня заклинье', 'поселок торковичи', 'поселок первомайское',\n",
              "       'красное село', 'посёлок понтонный', 'сясьстрой', 'деревня старая',\n",
              "       'деревня лесколово', 'посёлок новый свет', 'сланцы',\n",
              "       'село путилово', 'ивангород', 'мурино', 'шлиссельбург',\n",
              "       'никольское', 'зеленогорск', 'сосновый бор', 'поселок новый свет',\n",
              "       'деревня оржицы', 'деревня кальтино', 'кудрово',\n",
              "       'поселок романовка', 'посёлок бугры', 'поселок бугры',\n",
              "       'поселок городского типа рощино', 'кириши', 'луга', 'волосово',\n",
              "       'отрадное', 'село павлово', 'поселок оредеж', 'село копорье',\n",
              "       'посёлок городского типа красный бор', 'посёлок молодёжное',\n",
              "       'тихвин', 'посёлок победа', 'деревня нурма',\n",
              "       'поселок городского типа синявино', 'тосно',\n",
              "       'посёлок городского типа кузьмоловский', 'посёлок стрельна',\n",
              "       'бокситогорск', 'посёлок александровская', 'деревня лопухинка',\n",
              "       'пикалёво', 'поселок терволово',\n",
              "       'поселок городского типа советский', 'подпорожье',\n",
              "       'посёлок петровское', 'посёлок городского типа токсово',\n",
              "       'поселок сельцо', 'посёлок городского типа вырица',\n",
              "       'деревня кипень', 'деревня келози', 'деревня вартемяги',\n",
              "       'посёлок тельмана', 'поселок севастьяново',\n",
              "       'городской поселок большая ижора', 'городской посёлок павлово',\n",
              "       'деревня агалатово', 'посёлок новогорелово',\n",
              "       'городской посёлок лесогорский', 'деревня лаголово',\n",
              "       'поселок цвелодубово', 'поселок городского типа рахья',\n",
              "       'поселок городского типа вырица', 'деревня белогорка',\n",
              "       'поселок заводской', 'городской посёлок новоселье',\n",
              "       'деревня большие колпаны', 'деревня горбунки', 'деревня батово',\n",
              "       'деревня заневка', 'деревня иссад', 'приморск',\n",
              "       'городской посёлок фёдоровское', 'деревня мистолово',\n",
              "       'новая ладога', 'поселок зимитицы', 'поселок барышево',\n",
              "       'деревня разметелево', 'поселок городского типа имени свердлова',\n",
              "       'деревня пеники', 'поселок рябово', 'деревня пудомяги',\n",
              "       'поселок станции корнево', 'деревня низино', 'деревня бегуницы',\n",
              "       'посёлок поляны', 'городской посёлок мга', 'поселок елизаветино',\n",
              "       'посёлок городского типа кузнечное', 'деревня колтуши',\n",
              "       'поселок запорожское', 'посёлок городского типа рощино',\n",
              "       'деревня гостилицы', 'деревня малое карлино',\n",
              "       'посёлок мичуринское', 'посёлок городского типа имени морозова',\n",
              "       'посёлок песочный', 'посёлок сосново', 'деревня аро',\n",
              "       'поселок ильичёво', 'посёлок городского типа тайцы',\n",
              "       'деревня малое верево', 'деревня извара', 'поселок станции вещево',\n",
              "       'село паша', 'деревня калитино',\n",
              "       'посёлок городского типа ульяновка', 'деревня чудской бор',\n",
              "       'поселок городского типа дубровка', 'деревня мины',\n",
              "       'поселок войсковицы', 'посёлок городского типа имени свердлова',\n",
              "       'деревня коркино', 'посёлок ропша',\n",
              "       'поселок городского типа приладожский', 'посёлок щеглово',\n",
              "       'посёлок гаврилово', 'лодейное поле', 'деревня рабитицы',\n",
              "       'поселок городского типа никольский', 'деревня кузьмолово',\n",
              "       'деревня малые колпаны', 'поселок тельмана',\n",
              "       'посёлок петро-славянка', 'городской посёлок назия',\n",
              "       'посёлок репино', 'посёлок ильичёво', 'поселок углово',\n",
              "       'поселок старая малукса', 'садовое товарищество рахья',\n",
              "       'поселок аннино', 'поселок победа', 'деревня меньково',\n",
              "       'деревня старые бегуницы', 'посёлок сапёрный', 'поселок семрино',\n",
              "       'поселок гаврилово', 'поселок глажево', 'поселок кобринское',\n",
              "       'деревня гарболово', 'деревня юкки',\n",
              "       'поселок станции приветнинское', 'деревня мануйлово',\n",
              "       'деревня пчева', 'поселок поляны', 'поселок цвылёво',\n",
              "       'поселок мельниково', 'посёлок пудость', 'посёлок усть-луга',\n",
              "       'светогорск', 'любань', 'поселок селезнёво',\n",
              "       'поселок городского типа рябово', 'каменногорск', 'деревня кривко',\n",
              "       'поселок глебычево', 'деревня парицы', 'поселок жилпосёлок',\n",
              "       'посёлок городского типа мга', 'городской поселок янино-1',\n",
              "       'посёлок войскорово', 'село никольское', 'посёлок терволово',\n",
              "       'поселок стеклянный', 'посёлок городского типа важины',\n",
              "       'посёлок мыза-ивановка', 'село русско-высоцкое',\n",
              "       'поселок городского типа лебяжье',\n",
              "       'поселок городского типа форносово', 'село старая ладога',\n",
              "       'поселок житково', 'городской посёлок виллози', 'деревня лампово',\n",
              "       'деревня шпаньково', 'деревня лаврики', 'посёлок сумино',\n",
              "       'посёлок возрождение', 'деревня старосиверская',\n",
              "       'посёлок кикерино', 'поселок возрождение',\n",
              "       'деревня старое хинколово', 'посёлок пригородный',\n",
              "       'посёлок торфяное', 'городской посёлок будогощь',\n",
              "       'поселок суходолье', 'поселок красная долина', 'деревня хапо-ое',\n",
              "       'поселок городского типа дружная горка', 'поселок лисий нос',\n",
              "       'деревня яльгелево', 'посёлок стеклянный', 'село рождествено',\n",
              "       'деревня старополье', 'посёлок левашово', 'деревня сяськелево',\n",
              "       'деревня камышовка',\n",
              "       'садоводческое некоммерческое товарищество лесная поляна',\n",
              "       'деревня хязельки', 'поселок жилгородок',\n",
              "       'посёлок городского типа павлово', 'деревня ялгино',\n",
              "       'поселок новый учхоз', 'городской посёлок рощино',\n",
              "       'поселок гончарово', 'поселок почап', 'посёлок сапёрное',\n",
              "       'посёлок платформа 69-й километр', 'поселок каложицы',\n",
              "       'деревня фалилеево', 'деревня пельгора',\n",
              "       'поселок городского типа лесогорский', 'деревня торошковичи',\n",
              "       'посёлок белоостров', 'посёлок алексеевка', 'поселок серебрянский',\n",
              "       'поселок лукаши', 'поселок петровское', 'деревня щеглово',\n",
              "       'поселок мичуринское', 'деревня тарасово', 'поселок кингисеппский',\n",
              "       'посёлок при железнодорожной станции вещево', 'поселок ушаки',\n",
              "       'деревня котлы', 'деревня сижно', 'деревня торосово',\n",
              "       'посёлок форт красная горка', 'деревня новолисино',\n",
              "       'посёлок станции громово', 'деревня глинка', 'посёлок мельниково',\n",
              "       'поселок городского типа назия', 'деревня старая пустошь',\n",
              "       'поселок коммунары', 'поселок починок',\n",
              "       'посёлок городского типа вознесенье', 'деревня разбегаево',\n",
              "       'посёлок городского типа рябово', 'поселок гладкое',\n",
              "       'посёлок при железнодорожной станции приветнинское',\n",
              "       'поселок тёсово-4', 'посёлок жилгородок', 'деревня бор',\n",
              "       'посёлок коробицыно', 'деревня большая вруда', 'деревня курковицы',\n",
              "       'посёлок лисий нос', 'городской посёлок советский',\n",
              "       'посёлок кобралово', 'деревня суоранда', 'поселок кобралово',\n",
              "       'поселок городского типа кондратьево',\n",
              "       'коттеджный поселок счастье', 'поселок любань', 'деревня реброво',\n",
              "       'деревня зимитицы', 'деревня тойворово', 'поселок семиозерье',\n",
              "       'поселок лесное', 'поселок совхозный', 'поселок усть-луга',\n",
              "       'посёлок ленинское', 'посёлок суйда',\n",
              "       'посёлок городского типа форносово', 'деревня нижние осельки',\n",
              "       'посёлок станции свирь', 'поселок перово', 'высоцк',\n",
              "       'поселок гарболово', 'село шум', 'поселок котельский',\n",
              "       'поселок станции лужайка', 'деревня большая пустомержа',\n",
              "       'поселок красносельское', 'деревня вахнова кара', 'деревня пижма',\n",
              "       'коттеджный поселок кивеннапа север', 'поселок коробицыно',\n",
              "       'поселок ромашки', 'посёлок перово', 'деревня каськово',\n",
              "       'деревня куровицы', 'посёлок плоское', 'поселок сумино',\n",
              "       'поселок городского типа большая ижора', 'поселок кирпичное',\n",
              "       'деревня ям-тесово', 'деревня раздолье', 'деревня терпилицы',\n",
              "       'поселок городского типа токсово', 'посёлок шугозеро',\n",
              "       'деревня ваганово', 'поселок пушное', 'садовое товарищество садко',\n",
              "       'посёлок усть-ижора', 'деревня выскатка',\n",
              "       'городской посёлок свирьстрой', 'поселок громово',\n",
              "       'деревня кисельня', 'посёлок старая малукса',\n",
              "       'деревня трубников бор', 'поселок калитино',\n",
              "       'посёлок высокоключевой', 'садовое товарищество приладожский',\n",
              "       'посёлок пансионат зелёный бор', 'деревня ненимяки',\n",
              "       'поселок пансионат зелёный бор', 'деревня снегирёвка',\n",
              "       'деревня рапполово', 'деревня пустынка', 'поселок рабитицы',\n",
              "       'деревня большой сабск', 'деревня русско', 'деревня лупполово',\n",
              "       'деревня большое рейзино', 'деревня малая романовка',\n",
              "       'поселок дружноселье', 'поселок пчевжа', 'поселок володарское',\n",
              "       'деревня нижняя', 'коттеджный посёлок лесное', 'деревня тихковицы',\n",
              "       'деревня борисова грива', 'посёлок дзержинского'], dtype=object)"
            ]
          },
          "metadata": {},
          "execution_count": 99
        }
      ]
    },
    {
      "cell_type": "code",
      "source": [
        "# checking the amount of items in each category\n",
        "df[\"locality_name\"].value_counts()"
      ],
      "metadata": {
        "id": "tSsisVPbsMIu",
        "outputId": "62c81bd6-73fa-4ca9-d174-0d9536a2af16",
        "colab": {
          "base_uri": "https://localhost:8080/"
        }
      },
      "execution_count": 100,
      "outputs": [
        {
          "output_type": "execute_result",
          "data": {
            "text/plain": [
              "санкт-петербург                    15651\n",
              "посёлок мурино                       520\n",
              "посёлок шушары                       439\n",
              "всеволожск                           398\n",
              "пушкин                               369\n",
              "                                   ...  \n",
              "поселок каложицы                       1\n",
              "посёлок платформа 69-й километр        1\n",
              "поселок почап                          1\n",
              "поселок гончарово                      1\n",
              "посёлок дзержинского                   1\n",
              "Name: locality_name, Length: 364, dtype: int64"
            ]
          },
          "metadata": {},
          "execution_count": 100
        }
      ]
    },
    {
      "cell_type": "markdown",
      "source": [
        "Although the dataset contains many settlements, some of them only have one value associated with them. Additionally, from the settlement names, it is clear that the majority of them are located in the vicinity of Saint Petersburg. The size of each settlement can be inferred from its name, with categories ranging from \"village\" to \"settlement\" to \"urban-type settlement\". For cities, no such distinctions are necessary, and they are simply identified by their names.\n",
        "\n",
        "To facilitate analysis of the data, I plan to extract only the locality names and apply lemmatization to categorize them appropriately. \n"
      ],
      "metadata": {
        "id": "gkuhldIzsbfd"
      }
    },
    {
      "cell_type": "code",
      "source": [
        "# lemmatization with categorizing function\n",
        "def lemm(liveplace):\n",
        "    lemma = ' '.join(m.lemmatize(liveplace))\n",
        "    if \"поселок город тип\" in lemma:\n",
        "        return lemma.replace(\"посёлок город тип\", '')\n",
        "    elif \"деревня\" in lemma:\n",
        "        return lemma.replace(\"деревня\", '')\n",
        "    elif \"поселок\" in lemma:\n",
        "        return lemma.replace(\"поселок\", '')\n",
        "    elif \"село\" in lemma:\n",
        "        return lemma.replace(\"село\", '')\n",
        "    elif \"товарищество\" in lemma:\n",
        "         return lemma.replace(\"товарищество\", '')\n",
        "    else:\n",
        "        pass\n",
        "    return lemma\n",
        "\n",
        "# applying to the df and add the result to locality_name_lem\n",
        "df[\"locality_name_lem\"] = df[\"locality_name\"].apply(lemm)\n"
      ],
      "metadata": {
        "id": "bnPjtT4OtBc9"
      },
      "execution_count": 101,
      "outputs": []
    },
    {
      "cell_type": "code",
      "source": [
        "# checking the results\n",
        "df[\"locality_name_lem\"].value_counts()"
      ],
      "metadata": {
        "id": "NsHZFjZyuKCd",
        "outputId": "ae3bad21-6663-4cb4-9189-3a6e60f77e9a",
        "colab": {
          "base_uri": "https://localhost:8080/"
        }
      },
      "execution_count": 102,
      "outputs": [
        {
          "output_type": "execute_result",
          "data": {
            "text/plain": [
              "санкт-петербург \\n                     15651\n",
              "   муриный \\n                            552\n",
              "   шушары \\n                             439\n",
              "всеволожск \\n                            398\n",
              "пушкин \\n                                369\n",
              "                                       ...  \n",
              "   пельгора \\n                             1\n",
              "   каложица \\n                             1\n",
              "   платформа   69 - й   километр \\n        1\n",
              "   почап \\n                                1\n",
              "   дзержинский \\n                          1\n",
              "Name: locality_name_lem, Length: 325, dtype: int64"
            ]
          },
          "metadata": {},
          "execution_count": 102
        }
      ]
    },
    {
      "cell_type": "markdown",
      "source": [
        "Data check by category."
      ],
      "metadata": {
        "id": "S-I2Wtggu96K"
      }
    },
    {
      "cell_type": "code",
      "source": [
        "# data check by category\n",
        "df.groupby(\"locality_name_lem\")[\"cityCenters_nearest\"].agg([min, max, sum])"
      ],
      "metadata": {
        "id": "kWcYzlRJvBSF",
        "outputId": "3641cddc-29b0-415e-c52a-e982705017be",
        "colab": {
          "base_uri": "https://localhost:8080/",
          "height": 455
        }
      },
      "execution_count": 103,
      "outputs": [
        {
          "output_type": "execute_result",
          "data": {
            "text/plain": [
              "                           min      max      sum\n",
              "locality_name_lem                               \n",
              "   агалатово \\n            NaN      NaN      0.0\n",
              "   александровский \\n  27352.0  27584.0  54936.0\n",
              "   алексеевка \\n           NaN      NaN      0.0\n",
              "   аннино \\n               NaN      NaN      0.0\n",
              "   аро \\n                  NaN      NaN      0.0\n",
              "...                        ...      ...      ...\n",
              "сосновый   бор \\n          NaN      NaN      0.0\n",
              "сясьстрой \\n               NaN      NaN      0.0\n",
              "тихвин \\n                  NaN      NaN      0.0\n",
              "тосно \\n                   NaN      NaN      0.0\n",
              "шлиссельбург \\n            NaN      NaN      0.0\n",
              "\n",
              "[325 rows x 3 columns]"
            ],
            "text/html": [
              "\n",
              "  <div id=\"df-d3a97628-727c-4e65-a593-1416c248ae06\">\n",
              "    <div class=\"colab-df-container\">\n",
              "      <div>\n",
              "<style scoped>\n",
              "    .dataframe tbody tr th:only-of-type {\n",
              "        vertical-align: middle;\n",
              "    }\n",
              "\n",
              "    .dataframe tbody tr th {\n",
              "        vertical-align: top;\n",
              "    }\n",
              "\n",
              "    .dataframe thead th {\n",
              "        text-align: right;\n",
              "    }\n",
              "</style>\n",
              "<table border=\"1\" class=\"dataframe\">\n",
              "  <thead>\n",
              "    <tr style=\"text-align: right;\">\n",
              "      <th></th>\n",
              "      <th>min</th>\n",
              "      <th>max</th>\n",
              "      <th>sum</th>\n",
              "    </tr>\n",
              "    <tr>\n",
              "      <th>locality_name_lem</th>\n",
              "      <th></th>\n",
              "      <th></th>\n",
              "      <th></th>\n",
              "    </tr>\n",
              "  </thead>\n",
              "  <tbody>\n",
              "    <tr>\n",
              "      <th>агалатово \\n</th>\n",
              "      <td>NaN</td>\n",
              "      <td>NaN</td>\n",
              "      <td>0.0</td>\n",
              "    </tr>\n",
              "    <tr>\n",
              "      <th>александровский \\n</th>\n",
              "      <td>27352.0</td>\n",
              "      <td>27584.0</td>\n",
              "      <td>54936.0</td>\n",
              "    </tr>\n",
              "    <tr>\n",
              "      <th>алексеевка \\n</th>\n",
              "      <td>NaN</td>\n",
              "      <td>NaN</td>\n",
              "      <td>0.0</td>\n",
              "    </tr>\n",
              "    <tr>\n",
              "      <th>аннино \\n</th>\n",
              "      <td>NaN</td>\n",
              "      <td>NaN</td>\n",
              "      <td>0.0</td>\n",
              "    </tr>\n",
              "    <tr>\n",
              "      <th>аро \\n</th>\n",
              "      <td>NaN</td>\n",
              "      <td>NaN</td>\n",
              "      <td>0.0</td>\n",
              "    </tr>\n",
              "    <tr>\n",
              "      <th>...</th>\n",
              "      <td>...</td>\n",
              "      <td>...</td>\n",
              "      <td>...</td>\n",
              "    </tr>\n",
              "    <tr>\n",
              "      <th>сосновый   бор \\n</th>\n",
              "      <td>NaN</td>\n",
              "      <td>NaN</td>\n",
              "      <td>0.0</td>\n",
              "    </tr>\n",
              "    <tr>\n",
              "      <th>сясьстрой \\n</th>\n",
              "      <td>NaN</td>\n",
              "      <td>NaN</td>\n",
              "      <td>0.0</td>\n",
              "    </tr>\n",
              "    <tr>\n",
              "      <th>тихвин \\n</th>\n",
              "      <td>NaN</td>\n",
              "      <td>NaN</td>\n",
              "      <td>0.0</td>\n",
              "    </tr>\n",
              "    <tr>\n",
              "      <th>тосно \\n</th>\n",
              "      <td>NaN</td>\n",
              "      <td>NaN</td>\n",
              "      <td>0.0</td>\n",
              "    </tr>\n",
              "    <tr>\n",
              "      <th>шлиссельбург \\n</th>\n",
              "      <td>NaN</td>\n",
              "      <td>NaN</td>\n",
              "      <td>0.0</td>\n",
              "    </tr>\n",
              "  </tbody>\n",
              "</table>\n",
              "<p>325 rows × 3 columns</p>\n",
              "</div>\n",
              "      <button class=\"colab-df-convert\" onclick=\"convertToInteractive('df-d3a97628-727c-4e65-a593-1416c248ae06')\"\n",
              "              title=\"Convert this dataframe to an interactive table.\"\n",
              "              style=\"display:none;\">\n",
              "        \n",
              "  <svg xmlns=\"http://www.w3.org/2000/svg\" height=\"24px\"viewBox=\"0 0 24 24\"\n",
              "       width=\"24px\">\n",
              "    <path d=\"M0 0h24v24H0V0z\" fill=\"none\"/>\n",
              "    <path d=\"M18.56 5.44l.94 2.06.94-2.06 2.06-.94-2.06-.94-.94-2.06-.94 2.06-2.06.94zm-11 1L8.5 8.5l.94-2.06 2.06-.94-2.06-.94L8.5 2.5l-.94 2.06-2.06.94zm10 10l.94 2.06.94-2.06 2.06-.94-2.06-.94-.94-2.06-.94 2.06-2.06.94z\"/><path d=\"M17.41 7.96l-1.37-1.37c-.4-.4-.92-.59-1.43-.59-.52 0-1.04.2-1.43.59L10.3 9.45l-7.72 7.72c-.78.78-.78 2.05 0 2.83L4 21.41c.39.39.9.59 1.41.59.51 0 1.02-.2 1.41-.59l7.78-7.78 2.81-2.81c.8-.78.8-2.07 0-2.86zM5.41 20L4 18.59l7.72-7.72 1.47 1.35L5.41 20z\"/>\n",
              "  </svg>\n",
              "      </button>\n",
              "      \n",
              "  <style>\n",
              "    .colab-df-container {\n",
              "      display:flex;\n",
              "      flex-wrap:wrap;\n",
              "      gap: 12px;\n",
              "    }\n",
              "\n",
              "    .colab-df-convert {\n",
              "      background-color: #E8F0FE;\n",
              "      border: none;\n",
              "      border-radius: 50%;\n",
              "      cursor: pointer;\n",
              "      display: none;\n",
              "      fill: #1967D2;\n",
              "      height: 32px;\n",
              "      padding: 0 0 0 0;\n",
              "      width: 32px;\n",
              "    }\n",
              "\n",
              "    .colab-df-convert:hover {\n",
              "      background-color: #E2EBFA;\n",
              "      box-shadow: 0px 1px 2px rgba(60, 64, 67, 0.3), 0px 1px 3px 1px rgba(60, 64, 67, 0.15);\n",
              "      fill: #174EA6;\n",
              "    }\n",
              "\n",
              "    [theme=dark] .colab-df-convert {\n",
              "      background-color: #3B4455;\n",
              "      fill: #D2E3FC;\n",
              "    }\n",
              "\n",
              "    [theme=dark] .colab-df-convert:hover {\n",
              "      background-color: #434B5C;\n",
              "      box-shadow: 0px 1px 3px 1px rgba(0, 0, 0, 0.15);\n",
              "      filter: drop-shadow(0px 1px 2px rgba(0, 0, 0, 0.3));\n",
              "      fill: #FFFFFF;\n",
              "    }\n",
              "  </style>\n",
              "\n",
              "      <script>\n",
              "        const buttonEl =\n",
              "          document.querySelector('#df-d3a97628-727c-4e65-a593-1416c248ae06 button.colab-df-convert');\n",
              "        buttonEl.style.display =\n",
              "          google.colab.kernel.accessAllowed ? 'block' : 'none';\n",
              "\n",
              "        async function convertToInteractive(key) {\n",
              "          const element = document.querySelector('#df-d3a97628-727c-4e65-a593-1416c248ae06');\n",
              "          const dataTable =\n",
              "            await google.colab.kernel.invokeFunction('convertToInteractive',\n",
              "                                                     [key], {});\n",
              "          if (!dataTable) return;\n",
              "\n",
              "          const docLinkHtml = 'Like what you see? Visit the ' +\n",
              "            '<a target=\"_blank\" href=https://colab.research.google.com/notebooks/data_table.ipynb>data table notebook</a>'\n",
              "            + ' to learn more about interactive tables.';\n",
              "          element.innerHTML = '';\n",
              "          dataTable['output_type'] = 'display_data';\n",
              "          await google.colab.output.renderOutput(dataTable, element);\n",
              "          const docLink = document.createElement('div');\n",
              "          docLink.innerHTML = docLinkHtml;\n",
              "          element.appendChild(docLink);\n",
              "        }\n",
              "      </script>\n",
              "    </div>\n",
              "  </div>\n",
              "  "
            ]
          },
          "metadata": {},
          "execution_count": 103
        }
      ]
    },
    {
      "cell_type": "markdown",
      "source": [
        "Upon examining the table, it becomes evident that gaps in the data are primarily related to smaller settlements that do not have a defined `distance` parameter from the center. For larger cities, such as St. Petersburg and Pavlovsk, the `distance` parameter is available.\n",
        "\n",
        "The `sum` column indicates that for certain categories, there is no data available for the entire category, making it impossible to calculate a median value.\n",
        "\n",
        "Filling in the median value for the entire column is not a viable solution, as in some cases the median value may exceed the settlement diameter.\n",
        "\n",
        "Fortunately, the percentage of rows with missing values in this column amounts to only 1.3% of the total number of rows. As such, it is more convenient to delete the rows with missing values for the sake of future analysis.\n"
      ],
      "metadata": {
        "id": "pE4FOeLcvTlv"
      }
    },
    {
      "cell_type": "code",
      "source": [
        "# deleting the null values\n",
        "df.dropna(subset=[\"cityCenters_nearest\"], inplace=True)\n",
        "\n",
        "#checking the duplicates\n",
        "print(\"The number of duplicates is:\", df[\"cityCenters_nearest\"].isnull().sum())"
      ],
      "metadata": {
        "id": "XaZcmARnvDqN",
        "outputId": "233b89cd-56bd-4a19-d225-82376d4c2561",
        "colab": {
          "base_uri": "https://localhost:8080/"
        }
      },
      "execution_count": 104,
      "outputs": [
        {
          "output_type": "stream",
          "name": "stdout",
          "text": [
            "The number of duplicates is: 0\n"
          ]
        }
      ]
    },
    {
      "cell_type": "markdown",
      "source": [
        "**Ad placement period** (`days_exposition`) is affected by still active ads or ads that have been published for less than a day. Therefore, I am unable to fill these gaps with zeros or any other value. While the presence of these gaps may affect the analysis, I choose to delete them from the table to avoid any misinterpretation. \n",
        "\n"
      ],
      "metadata": {
        "id": "A1nrO1m4kje3"
      }
    },
    {
      "cell_type": "code",
      "source": [
        "# deleting the null values\n",
        "df['days_exposition'] = df['days_exposition'].dropna()"
      ],
      "metadata": {
        "id": "DJvPgOqxvdrt"
      },
      "execution_count": 105,
      "outputs": []
    },
    {
      "cell_type": "markdown",
      "source": [
        "**Living area** (`living_area`) column indicates the total area of rooms that are intended for living. To fill the gaps in this column, I will investigate the correlation between the living area of other apartments (with no gaps) and the number of rooms they have. After analyzing the data, I will fill in the gaps with the median value to ensure consistency in the data.\n"
      ],
      "metadata": {
        "id": "B_VrwFYNvpzF"
      }
    },
    {
      "cell_type": "code",
      "source": [
        "# checking the number of rooms\n",
        "df['rooms'].value_counts().to_frame()"
      ],
      "metadata": {
        "colab": {
          "base_uri": "https://localhost:8080/",
          "height": 582
        },
        "id": "BNsow3kXvmDQ",
        "outputId": "58d5d2a6-5432-4da4-fc0f-de834c181079"
      },
      "execution_count": 106,
      "outputs": [
        {
          "output_type": "execute_result",
          "data": {
            "text/plain": [
              "    rooms\n",
              "2    5888\n",
              "1    5852\n",
              "3    4667\n",
              "4    1051\n",
              "5     300\n",
              "0     117\n",
              "6     101\n",
              "7      57\n",
              "8      12\n",
              "9       8\n",
              "10      3\n",
              "11      2\n",
              "14      2\n",
              "15      1\n",
              "19      1\n",
              "16      1\n",
              "12      1"
            ],
            "text/html": [
              "\n",
              "  <div id=\"df-2c3a177a-bf7d-4aa8-b1e9-77b9d4bb57aa\">\n",
              "    <div class=\"colab-df-container\">\n",
              "      <div>\n",
              "<style scoped>\n",
              "    .dataframe tbody tr th:only-of-type {\n",
              "        vertical-align: middle;\n",
              "    }\n",
              "\n",
              "    .dataframe tbody tr th {\n",
              "        vertical-align: top;\n",
              "    }\n",
              "\n",
              "    .dataframe thead th {\n",
              "        text-align: right;\n",
              "    }\n",
              "</style>\n",
              "<table border=\"1\" class=\"dataframe\">\n",
              "  <thead>\n",
              "    <tr style=\"text-align: right;\">\n",
              "      <th></th>\n",
              "      <th>rooms</th>\n",
              "    </tr>\n",
              "  </thead>\n",
              "  <tbody>\n",
              "    <tr>\n",
              "      <th>2</th>\n",
              "      <td>5888</td>\n",
              "    </tr>\n",
              "    <tr>\n",
              "      <th>1</th>\n",
              "      <td>5852</td>\n",
              "    </tr>\n",
              "    <tr>\n",
              "      <th>3</th>\n",
              "      <td>4667</td>\n",
              "    </tr>\n",
              "    <tr>\n",
              "      <th>4</th>\n",
              "      <td>1051</td>\n",
              "    </tr>\n",
              "    <tr>\n",
              "      <th>5</th>\n",
              "      <td>300</td>\n",
              "    </tr>\n",
              "    <tr>\n",
              "      <th>0</th>\n",
              "      <td>117</td>\n",
              "    </tr>\n",
              "    <tr>\n",
              "      <th>6</th>\n",
              "      <td>101</td>\n",
              "    </tr>\n",
              "    <tr>\n",
              "      <th>7</th>\n",
              "      <td>57</td>\n",
              "    </tr>\n",
              "    <tr>\n",
              "      <th>8</th>\n",
              "      <td>12</td>\n",
              "    </tr>\n",
              "    <tr>\n",
              "      <th>9</th>\n",
              "      <td>8</td>\n",
              "    </tr>\n",
              "    <tr>\n",
              "      <th>10</th>\n",
              "      <td>3</td>\n",
              "    </tr>\n",
              "    <tr>\n",
              "      <th>11</th>\n",
              "      <td>2</td>\n",
              "    </tr>\n",
              "    <tr>\n",
              "      <th>14</th>\n",
              "      <td>2</td>\n",
              "    </tr>\n",
              "    <tr>\n",
              "      <th>15</th>\n",
              "      <td>1</td>\n",
              "    </tr>\n",
              "    <tr>\n",
              "      <th>19</th>\n",
              "      <td>1</td>\n",
              "    </tr>\n",
              "    <tr>\n",
              "      <th>16</th>\n",
              "      <td>1</td>\n",
              "    </tr>\n",
              "    <tr>\n",
              "      <th>12</th>\n",
              "      <td>1</td>\n",
              "    </tr>\n",
              "  </tbody>\n",
              "</table>\n",
              "</div>\n",
              "      <button class=\"colab-df-convert\" onclick=\"convertToInteractive('df-2c3a177a-bf7d-4aa8-b1e9-77b9d4bb57aa')\"\n",
              "              title=\"Convert this dataframe to an interactive table.\"\n",
              "              style=\"display:none;\">\n",
              "        \n",
              "  <svg xmlns=\"http://www.w3.org/2000/svg\" height=\"24px\"viewBox=\"0 0 24 24\"\n",
              "       width=\"24px\">\n",
              "    <path d=\"M0 0h24v24H0V0z\" fill=\"none\"/>\n",
              "    <path d=\"M18.56 5.44l.94 2.06.94-2.06 2.06-.94-2.06-.94-.94-2.06-.94 2.06-2.06.94zm-11 1L8.5 8.5l.94-2.06 2.06-.94-2.06-.94L8.5 2.5l-.94 2.06-2.06.94zm10 10l.94 2.06.94-2.06 2.06-.94-2.06-.94-.94-2.06-.94 2.06-2.06.94z\"/><path d=\"M17.41 7.96l-1.37-1.37c-.4-.4-.92-.59-1.43-.59-.52 0-1.04.2-1.43.59L10.3 9.45l-7.72 7.72c-.78.78-.78 2.05 0 2.83L4 21.41c.39.39.9.59 1.41.59.51 0 1.02-.2 1.41-.59l7.78-7.78 2.81-2.81c.8-.78.8-2.07 0-2.86zM5.41 20L4 18.59l7.72-7.72 1.47 1.35L5.41 20z\"/>\n",
              "  </svg>\n",
              "      </button>\n",
              "      \n",
              "  <style>\n",
              "    .colab-df-container {\n",
              "      display:flex;\n",
              "      flex-wrap:wrap;\n",
              "      gap: 12px;\n",
              "    }\n",
              "\n",
              "    .colab-df-convert {\n",
              "      background-color: #E8F0FE;\n",
              "      border: none;\n",
              "      border-radius: 50%;\n",
              "      cursor: pointer;\n",
              "      display: none;\n",
              "      fill: #1967D2;\n",
              "      height: 32px;\n",
              "      padding: 0 0 0 0;\n",
              "      width: 32px;\n",
              "    }\n",
              "\n",
              "    .colab-df-convert:hover {\n",
              "      background-color: #E2EBFA;\n",
              "      box-shadow: 0px 1px 2px rgba(60, 64, 67, 0.3), 0px 1px 3px 1px rgba(60, 64, 67, 0.15);\n",
              "      fill: #174EA6;\n",
              "    }\n",
              "\n",
              "    [theme=dark] .colab-df-convert {\n",
              "      background-color: #3B4455;\n",
              "      fill: #D2E3FC;\n",
              "    }\n",
              "\n",
              "    [theme=dark] .colab-df-convert:hover {\n",
              "      background-color: #434B5C;\n",
              "      box-shadow: 0px 1px 3px 1px rgba(0, 0, 0, 0.15);\n",
              "      filter: drop-shadow(0px 1px 2px rgba(0, 0, 0, 0.3));\n",
              "      fill: #FFFFFF;\n",
              "    }\n",
              "  </style>\n",
              "\n",
              "      <script>\n",
              "        const buttonEl =\n",
              "          document.querySelector('#df-2c3a177a-bf7d-4aa8-b1e9-77b9d4bb57aa button.colab-df-convert');\n",
              "        buttonEl.style.display =\n",
              "          google.colab.kernel.accessAllowed ? 'block' : 'none';\n",
              "\n",
              "        async function convertToInteractive(key) {\n",
              "          const element = document.querySelector('#df-2c3a177a-bf7d-4aa8-b1e9-77b9d4bb57aa');\n",
              "          const dataTable =\n",
              "            await google.colab.kernel.invokeFunction('convertToInteractive',\n",
              "                                                     [key], {});\n",
              "          if (!dataTable) return;\n",
              "\n",
              "          const docLinkHtml = 'Like what you see? Visit the ' +\n",
              "            '<a target=\"_blank\" href=https://colab.research.google.com/notebooks/data_table.ipynb>data table notebook</a>'\n",
              "            + ' to learn more about interactive tables.';\n",
              "          element.innerHTML = '';\n",
              "          dataTable['output_type'] = 'display_data';\n",
              "          await google.colab.output.renderOutput(dataTable, element);\n",
              "          const docLink = document.createElement('div');\n",
              "          docLink.innerHTML = docLinkHtml;\n",
              "          element.appendChild(docLink);\n",
              "        }\n",
              "      </script>\n",
              "    </div>\n",
              "  </div>\n",
              "  "
            ]
          },
          "metadata": {},
          "execution_count": 106
        }
      ]
    },
    {
      "cell_type": "markdown",
      "source": [
        "The data shows that 0.2% of rooms have a count of 0, while 2% of the total number of rooms are apartments with 5 or more rooms. It appears that some mistakes may have occurred during data collection. For example, 0 may indicate studio apartments where the living room is combined with the kitchen, while someone may have mistakenly counted the toilet, kitchen, and other areas as \"rooms,\" resulting in many 5+ room apartments. Alternatively, someone may be selling an entire multi-story house. \n",
        "\n",
        "Although the amount of such data is not statistically significant, it can be considered outliers. Therefore, I have chosen to remove this data to avoid difficulties during further analysis. \n",
        "\n"
      ],
      "metadata": {
        "id": "ACSY9jnKwZfd"
      }
    },
    {
      "cell_type": "code",
      "source": [
        "# removing all lines with rooms more than 5\n",
        "df = df.drop(df[df.rooms >= 5].index)\n",
        "\n",
        "# removing all lines with rooms  0\n",
        "df = df.drop(df[df.rooms == 0].index)\n",
        "\n",
        "# replacing with median by 'rooms' category\n",
        "df['living_area']=df.groupby('rooms')['living_area'].transform(lambda x: x.fillna(x.median()))\n",
        "\n",
        "# updating data type to ('int')\n",
        "df['living_area'] = df['living_area'].astype('int')"
      ],
      "metadata": {
        "id": "jggLbRuozNHF"
      },
      "execution_count": 107,
      "outputs": []
    },
    {
      "cell_type": "markdown",
      "source": [
        "**Kitchen area** (`kitchen_area`) column represents the area of the kitchen and is not part of the living area. The non-living area includes the hallway, bathroom, toilet, etc. As we do not have data for all these areas, we cannot calculate the kitchen area by subtracting the living area from the total area and then subtracting the areas of the hallway, balcony, etc. Therefore, it is more convenient to fill in the missing values with the median value for the respective category.\n",
        "\n",
        "Additionally, there are studios in the table where there may not be a kitchen at all. Therefore, I will first investigate the impact of studios on the entire table and then fill in the missing values with the median value."
      ],
      "metadata": {
        "id": "XDLLZG6cz8We"
      }
    },
    {
      "cell_type": "code",
      "source": [
        "# checking if there are any studios in the table with a specified kitchen area\n",
        "df.query('studio == True and kitchen_area>=1')"
      ],
      "metadata": {
        "id": "0uPizI9l0I4E",
        "outputId": "f4de590b-ebf3-4269-ded0-4689709c293c",
        "colab": {
          "base_uri": "https://localhost:8080/",
          "height": 143
        }
      },
      "execution_count": 108,
      "outputs": [
        {
          "output_type": "execute_result",
          "data": {
            "text/plain": [
              "Empty DataFrame\n",
              "Columns: [total_images, last_price, total_area, first_day_exposition, rooms, ceiling_height, floors_total, living_area, floor, is_apartment, studio, open_plan, kitchen_area, balcony, locality_name, airports_nearest, cityCenters_nearest, parks_around3000, parks_nearest, ponds_around3000, ponds_nearest, days_exposition, locality_name_lem]\n",
              "Index: []\n",
              "\n",
              "[0 rows x 23 columns]"
            ],
            "text/html": [
              "\n",
              "  <div id=\"df-66d40c34-9eb6-466d-959b-b8d7fd44a616\">\n",
              "    <div class=\"colab-df-container\">\n",
              "      <div>\n",
              "<style scoped>\n",
              "    .dataframe tbody tr th:only-of-type {\n",
              "        vertical-align: middle;\n",
              "    }\n",
              "\n",
              "    .dataframe tbody tr th {\n",
              "        vertical-align: top;\n",
              "    }\n",
              "\n",
              "    .dataframe thead th {\n",
              "        text-align: right;\n",
              "    }\n",
              "</style>\n",
              "<table border=\"1\" class=\"dataframe\">\n",
              "  <thead>\n",
              "    <tr style=\"text-align: right;\">\n",
              "      <th></th>\n",
              "      <th>total_images</th>\n",
              "      <th>last_price</th>\n",
              "      <th>total_area</th>\n",
              "      <th>first_day_exposition</th>\n",
              "      <th>rooms</th>\n",
              "      <th>ceiling_height</th>\n",
              "      <th>floors_total</th>\n",
              "      <th>living_area</th>\n",
              "      <th>floor</th>\n",
              "      <th>is_apartment</th>\n",
              "      <th>...</th>\n",
              "      <th>balcony</th>\n",
              "      <th>locality_name</th>\n",
              "      <th>airports_nearest</th>\n",
              "      <th>cityCenters_nearest</th>\n",
              "      <th>parks_around3000</th>\n",
              "      <th>parks_nearest</th>\n",
              "      <th>ponds_around3000</th>\n",
              "      <th>ponds_nearest</th>\n",
              "      <th>days_exposition</th>\n",
              "      <th>locality_name_lem</th>\n",
              "    </tr>\n",
              "  </thead>\n",
              "  <tbody>\n",
              "  </tbody>\n",
              "</table>\n",
              "<p>0 rows × 23 columns</p>\n",
              "</div>\n",
              "      <button class=\"colab-df-convert\" onclick=\"convertToInteractive('df-66d40c34-9eb6-466d-959b-b8d7fd44a616')\"\n",
              "              title=\"Convert this dataframe to an interactive table.\"\n",
              "              style=\"display:none;\">\n",
              "        \n",
              "  <svg xmlns=\"http://www.w3.org/2000/svg\" height=\"24px\"viewBox=\"0 0 24 24\"\n",
              "       width=\"24px\">\n",
              "    <path d=\"M0 0h24v24H0V0z\" fill=\"none\"/>\n",
              "    <path d=\"M18.56 5.44l.94 2.06.94-2.06 2.06-.94-2.06-.94-.94-2.06-.94 2.06-2.06.94zm-11 1L8.5 8.5l.94-2.06 2.06-.94-2.06-.94L8.5 2.5l-.94 2.06-2.06.94zm10 10l.94 2.06.94-2.06 2.06-.94-2.06-.94-.94-2.06-.94 2.06-2.06.94z\"/><path d=\"M17.41 7.96l-1.37-1.37c-.4-.4-.92-.59-1.43-.59-.52 0-1.04.2-1.43.59L10.3 9.45l-7.72 7.72c-.78.78-.78 2.05 0 2.83L4 21.41c.39.39.9.59 1.41.59.51 0 1.02-.2 1.41-.59l7.78-7.78 2.81-2.81c.8-.78.8-2.07 0-2.86zM5.41 20L4 18.59l7.72-7.72 1.47 1.35L5.41 20z\"/>\n",
              "  </svg>\n",
              "      </button>\n",
              "      \n",
              "  <style>\n",
              "    .colab-df-container {\n",
              "      display:flex;\n",
              "      flex-wrap:wrap;\n",
              "      gap: 12px;\n",
              "    }\n",
              "\n",
              "    .colab-df-convert {\n",
              "      background-color: #E8F0FE;\n",
              "      border: none;\n",
              "      border-radius: 50%;\n",
              "      cursor: pointer;\n",
              "      display: none;\n",
              "      fill: #1967D2;\n",
              "      height: 32px;\n",
              "      padding: 0 0 0 0;\n",
              "      width: 32px;\n",
              "    }\n",
              "\n",
              "    .colab-df-convert:hover {\n",
              "      background-color: #E2EBFA;\n",
              "      box-shadow: 0px 1px 2px rgba(60, 64, 67, 0.3), 0px 1px 3px 1px rgba(60, 64, 67, 0.15);\n",
              "      fill: #174EA6;\n",
              "    }\n",
              "\n",
              "    [theme=dark] .colab-df-convert {\n",
              "      background-color: #3B4455;\n",
              "      fill: #D2E3FC;\n",
              "    }\n",
              "\n",
              "    [theme=dark] .colab-df-convert:hover {\n",
              "      background-color: #434B5C;\n",
              "      box-shadow: 0px 1px 3px 1px rgba(0, 0, 0, 0.15);\n",
              "      filter: drop-shadow(0px 1px 2px rgba(0, 0, 0, 0.3));\n",
              "      fill: #FFFFFF;\n",
              "    }\n",
              "  </style>\n",
              "\n",
              "      <script>\n",
              "        const buttonEl =\n",
              "          document.querySelector('#df-66d40c34-9eb6-466d-959b-b8d7fd44a616 button.colab-df-convert');\n",
              "        buttonEl.style.display =\n",
              "          google.colab.kernel.accessAllowed ? 'block' : 'none';\n",
              "\n",
              "        async function convertToInteractive(key) {\n",
              "          const element = document.querySelector('#df-66d40c34-9eb6-466d-959b-b8d7fd44a616');\n",
              "          const dataTable =\n",
              "            await google.colab.kernel.invokeFunction('convertToInteractive',\n",
              "                                                     [key], {});\n",
              "          if (!dataTable) return;\n",
              "\n",
              "          const docLinkHtml = 'Like what you see? Visit the ' +\n",
              "            '<a target=\"_blank\" href=https://colab.research.google.com/notebooks/data_table.ipynb>data table notebook</a>'\n",
              "            + ' to learn more about interactive tables.';\n",
              "          element.innerHTML = '';\n",
              "          dataTable['output_type'] = 'display_data';\n",
              "          await google.colab.output.renderOutput(dataTable, element);\n",
              "          const docLink = document.createElement('div');\n",
              "          docLink.innerHTML = docLinkHtml;\n",
              "          element.appendChild(docLink);\n",
              "        }\n",
              "      </script>\n",
              "    </div>\n",
              "  </div>\n",
              "  "
            ]
          },
          "metadata": {},
          "execution_count": 108
        }
      ]
    },
    {
      "cell_type": "markdown",
      "source": [
        "There are no such studios. Let's find out how many studios are there in the table.\n"
      ],
      "metadata": {
        "id": "bLeGAbxV0WZH"
      }
    },
    {
      "cell_type": "code",
      "source": [
        "# general amount of studio apt\n",
        "df[\"studio\"].value_counts()"
      ],
      "metadata": {
        "id": "19JxQIXF0dT_",
        "outputId": "29de8973-9c72-4568-d894-e668b69e790f",
        "colab": {
          "base_uri": "https://localhost:8080/"
        }
      },
      "execution_count": 109,
      "outputs": [
        {
          "output_type": "execute_result",
          "data": {
            "text/plain": [
              "False    17453\n",
              "True         5\n",
              "Name: studio, dtype: int64"
            ]
          },
          "metadata": {},
          "execution_count": 109
        }
      ]
    },
    {
      "cell_type": "markdown",
      "source": [
        "Since the number of studios is not statistically significant, I will remove them from the analysis and will not fill in missing values for this category."
      ],
      "metadata": {
        "id": "mLl4Bl3J0y_K"
      }
    },
    {
      "cell_type": "code",
      "source": [
        "# deleting studios\n",
        "df = df.drop(df[df.studio == True].index)\n",
        "\n",
        "# checking median\n",
        "df['kitchen_area'].median()"
      ],
      "metadata": {
        "id": "Tfg6poxy0sLg",
        "outputId": "352bdc31-6d05-401e-cd66-0a601a7fda46",
        "colab": {
          "base_uri": "https://localhost:8080/"
        }
      },
      "execution_count": 110,
      "outputs": [
        {
          "output_type": "execute_result",
          "data": {
            "text/plain": [
              "9.5"
            ]
          },
          "metadata": {},
          "execution_count": 110
        }
      ]
    },
    {
      "cell_type": "code",
      "source": [
        "# filling the gaps with median\n",
        "df['kitchen_area'].fillna(df['kitchen_area'].median(), inplace=True)\n",
        "\n",
        "# changing data type ('int')\n",
        "df['kitchen_area'] = df['kitchen_area'].astype('int')"
      ],
      "metadata": {
        "id": "AlF1yx8M0_sU"
      },
      "execution_count": 111,
      "outputs": []
    },
    {
      "cell_type": "markdown",
      "source": [
        "Now the data cleanup is done and I am cheking reults."
      ],
      "metadata": {
        "id": "Qcr9g_SDSxNV"
      }
    },
    {
      "cell_type": "code",
      "source": [
        "# are there any gaps lefrt in ceiling_height, floors_total, locality_name, cityCenters_nearest, days_expositio\n",
        "df.isnull().sum()"
      ],
      "metadata": {
        "id": "VCTjg_rGzPvk",
        "colab": {
          "base_uri": "https://localhost:8080/"
        },
        "outputId": "f76f53ae-3fc1-408a-945e-5e4f8aaaae26"
      },
      "execution_count": 112,
      "outputs": [
        {
          "output_type": "execute_result",
          "data": {
            "text/plain": [
              "total_images                0\n",
              "last_price                  0\n",
              "total_area                  0\n",
              "first_day_exposition        0\n",
              "rooms                       0\n",
              "ceiling_height              0\n",
              "floors_total                0\n",
              "living_area                 0\n",
              "floor                       0\n",
              "is_apartment            15376\n",
              "studio                      0\n",
              "open_plan                   0\n",
              "kitchen_area                0\n",
              "balcony                  8442\n",
              "locality_name               0\n",
              "airports_nearest           22\n",
              "cityCenters_nearest         0\n",
              "parks_around3000            0\n",
              "parks_nearest            9779\n",
              "ponds_around3000            0\n",
              "ponds_nearest            8808\n",
              "days_exposition          2179\n",
              "locality_name_lem           0\n",
              "dtype: int64"
            ]
          },
          "metadata": {},
          "execution_count": 112
        }
      ]
    },
    {
      "cell_type": "code",
      "source": [
        "# if table is visually ok\n",
        "df.head(5)"
      ],
      "metadata": {
        "colab": {
          "base_uri": "https://localhost:8080/",
          "height": 386
        },
        "id": "xzLsCesvTAd3",
        "outputId": "cfea4c22-dc27-477b-d600-7d50079e0ce8"
      },
      "execution_count": 113,
      "outputs": [
        {
          "output_type": "execute_result",
          "data": {
            "text/plain": [
              "   total_images  last_price  total_area first_day_exposition  rooms  \\\n",
              "0            20  13000000.0       108.0  2019-03-07T00:00:00      3   \n",
              "1             7   3350000.0        40.4  2018-12-04T00:00:00      1   \n",
              "2            10   5196000.0        56.0  2015-08-20T00:00:00      2   \n",
              "3             0  64900000.0       159.0  2015-07-24T00:00:00      3   \n",
              "4             2  10000000.0       100.0  2018-06-19T00:00:00      2   \n",
              "\n",
              "   ceiling_height  floors_total  living_area  floor is_apartment  ...  \\\n",
              "0            2.70            16           51      8          NaN  ...   \n",
              "1            2.65            11           18      1          NaN  ...   \n",
              "2            2.65             5           34      4          NaN  ...   \n",
              "3            2.65            14           45      9          NaN  ...   \n",
              "4            3.03            14           32     13          NaN  ...   \n",
              "\n",
              "   balcony    locality_name  airports_nearest  cityCenters_nearest  \\\n",
              "0      NaN  санкт-петербург           18863.0              16028.0   \n",
              "1      2.0   посёлок шушары           12817.0              18603.0   \n",
              "2      0.0  санкт-петербург           21741.0              13933.0   \n",
              "3      0.0  санкт-петербург           28098.0               6800.0   \n",
              "4      NaN  санкт-петербург           31856.0               8098.0   \n",
              "\n",
              "  parks_around3000  parks_nearest  ponds_around3000  ponds_nearest  \\\n",
              "0              1.0          482.0               2.0          755.0   \n",
              "1              0.0            NaN               0.0            NaN   \n",
              "2              1.0           90.0               2.0          574.0   \n",
              "3              2.0           84.0               3.0          234.0   \n",
              "4              2.0          112.0               1.0           48.0   \n",
              "\n",
              "   days_exposition   locality_name_lem  \n",
              "0              NaN  санкт-петербург \\n  \n",
              "1             81.0           шушары \\n  \n",
              "2            558.0  санкт-петербург \\n  \n",
              "3            424.0  санкт-петербург \\n  \n",
              "4            121.0  санкт-петербург \\n  \n",
              "\n",
              "[5 rows x 23 columns]"
            ],
            "text/html": [
              "\n",
              "  <div id=\"df-c12d6cc9-b053-4e55-b238-d56225804c86\">\n",
              "    <div class=\"colab-df-container\">\n",
              "      <div>\n",
              "<style scoped>\n",
              "    .dataframe tbody tr th:only-of-type {\n",
              "        vertical-align: middle;\n",
              "    }\n",
              "\n",
              "    .dataframe tbody tr th {\n",
              "        vertical-align: top;\n",
              "    }\n",
              "\n",
              "    .dataframe thead th {\n",
              "        text-align: right;\n",
              "    }\n",
              "</style>\n",
              "<table border=\"1\" class=\"dataframe\">\n",
              "  <thead>\n",
              "    <tr style=\"text-align: right;\">\n",
              "      <th></th>\n",
              "      <th>total_images</th>\n",
              "      <th>last_price</th>\n",
              "      <th>total_area</th>\n",
              "      <th>first_day_exposition</th>\n",
              "      <th>rooms</th>\n",
              "      <th>ceiling_height</th>\n",
              "      <th>floors_total</th>\n",
              "      <th>living_area</th>\n",
              "      <th>floor</th>\n",
              "      <th>is_apartment</th>\n",
              "      <th>...</th>\n",
              "      <th>balcony</th>\n",
              "      <th>locality_name</th>\n",
              "      <th>airports_nearest</th>\n",
              "      <th>cityCenters_nearest</th>\n",
              "      <th>parks_around3000</th>\n",
              "      <th>parks_nearest</th>\n",
              "      <th>ponds_around3000</th>\n",
              "      <th>ponds_nearest</th>\n",
              "      <th>days_exposition</th>\n",
              "      <th>locality_name_lem</th>\n",
              "    </tr>\n",
              "  </thead>\n",
              "  <tbody>\n",
              "    <tr>\n",
              "      <th>0</th>\n",
              "      <td>20</td>\n",
              "      <td>13000000.0</td>\n",
              "      <td>108.0</td>\n",
              "      <td>2019-03-07T00:00:00</td>\n",
              "      <td>3</td>\n",
              "      <td>2.70</td>\n",
              "      <td>16</td>\n",
              "      <td>51</td>\n",
              "      <td>8</td>\n",
              "      <td>NaN</td>\n",
              "      <td>...</td>\n",
              "      <td>NaN</td>\n",
              "      <td>санкт-петербург</td>\n",
              "      <td>18863.0</td>\n",
              "      <td>16028.0</td>\n",
              "      <td>1.0</td>\n",
              "      <td>482.0</td>\n",
              "      <td>2.0</td>\n",
              "      <td>755.0</td>\n",
              "      <td>NaN</td>\n",
              "      <td>санкт-петербург \\n</td>\n",
              "    </tr>\n",
              "    <tr>\n",
              "      <th>1</th>\n",
              "      <td>7</td>\n",
              "      <td>3350000.0</td>\n",
              "      <td>40.4</td>\n",
              "      <td>2018-12-04T00:00:00</td>\n",
              "      <td>1</td>\n",
              "      <td>2.65</td>\n",
              "      <td>11</td>\n",
              "      <td>18</td>\n",
              "      <td>1</td>\n",
              "      <td>NaN</td>\n",
              "      <td>...</td>\n",
              "      <td>2.0</td>\n",
              "      <td>посёлок шушары</td>\n",
              "      <td>12817.0</td>\n",
              "      <td>18603.0</td>\n",
              "      <td>0.0</td>\n",
              "      <td>NaN</td>\n",
              "      <td>0.0</td>\n",
              "      <td>NaN</td>\n",
              "      <td>81.0</td>\n",
              "      <td>шушары \\n</td>\n",
              "    </tr>\n",
              "    <tr>\n",
              "      <th>2</th>\n",
              "      <td>10</td>\n",
              "      <td>5196000.0</td>\n",
              "      <td>56.0</td>\n",
              "      <td>2015-08-20T00:00:00</td>\n",
              "      <td>2</td>\n",
              "      <td>2.65</td>\n",
              "      <td>5</td>\n",
              "      <td>34</td>\n",
              "      <td>4</td>\n",
              "      <td>NaN</td>\n",
              "      <td>...</td>\n",
              "      <td>0.0</td>\n",
              "      <td>санкт-петербург</td>\n",
              "      <td>21741.0</td>\n",
              "      <td>13933.0</td>\n",
              "      <td>1.0</td>\n",
              "      <td>90.0</td>\n",
              "      <td>2.0</td>\n",
              "      <td>574.0</td>\n",
              "      <td>558.0</td>\n",
              "      <td>санкт-петербург \\n</td>\n",
              "    </tr>\n",
              "    <tr>\n",
              "      <th>3</th>\n",
              "      <td>0</td>\n",
              "      <td>64900000.0</td>\n",
              "      <td>159.0</td>\n",
              "      <td>2015-07-24T00:00:00</td>\n",
              "      <td>3</td>\n",
              "      <td>2.65</td>\n",
              "      <td>14</td>\n",
              "      <td>45</td>\n",
              "      <td>9</td>\n",
              "      <td>NaN</td>\n",
              "      <td>...</td>\n",
              "      <td>0.0</td>\n",
              "      <td>санкт-петербург</td>\n",
              "      <td>28098.0</td>\n",
              "      <td>6800.0</td>\n",
              "      <td>2.0</td>\n",
              "      <td>84.0</td>\n",
              "      <td>3.0</td>\n",
              "      <td>234.0</td>\n",
              "      <td>424.0</td>\n",
              "      <td>санкт-петербург \\n</td>\n",
              "    </tr>\n",
              "    <tr>\n",
              "      <th>4</th>\n",
              "      <td>2</td>\n",
              "      <td>10000000.0</td>\n",
              "      <td>100.0</td>\n",
              "      <td>2018-06-19T00:00:00</td>\n",
              "      <td>2</td>\n",
              "      <td>3.03</td>\n",
              "      <td>14</td>\n",
              "      <td>32</td>\n",
              "      <td>13</td>\n",
              "      <td>NaN</td>\n",
              "      <td>...</td>\n",
              "      <td>NaN</td>\n",
              "      <td>санкт-петербург</td>\n",
              "      <td>31856.0</td>\n",
              "      <td>8098.0</td>\n",
              "      <td>2.0</td>\n",
              "      <td>112.0</td>\n",
              "      <td>1.0</td>\n",
              "      <td>48.0</td>\n",
              "      <td>121.0</td>\n",
              "      <td>санкт-петербург \\n</td>\n",
              "    </tr>\n",
              "  </tbody>\n",
              "</table>\n",
              "<p>5 rows × 23 columns</p>\n",
              "</div>\n",
              "      <button class=\"colab-df-convert\" onclick=\"convertToInteractive('df-c12d6cc9-b053-4e55-b238-d56225804c86')\"\n",
              "              title=\"Convert this dataframe to an interactive table.\"\n",
              "              style=\"display:none;\">\n",
              "        \n",
              "  <svg xmlns=\"http://www.w3.org/2000/svg\" height=\"24px\"viewBox=\"0 0 24 24\"\n",
              "       width=\"24px\">\n",
              "    <path d=\"M0 0h24v24H0V0z\" fill=\"none\"/>\n",
              "    <path d=\"M18.56 5.44l.94 2.06.94-2.06 2.06-.94-2.06-.94-.94-2.06-.94 2.06-2.06.94zm-11 1L8.5 8.5l.94-2.06 2.06-.94-2.06-.94L8.5 2.5l-.94 2.06-2.06.94zm10 10l.94 2.06.94-2.06 2.06-.94-2.06-.94-.94-2.06-.94 2.06-2.06.94z\"/><path d=\"M17.41 7.96l-1.37-1.37c-.4-.4-.92-.59-1.43-.59-.52 0-1.04.2-1.43.59L10.3 9.45l-7.72 7.72c-.78.78-.78 2.05 0 2.83L4 21.41c.39.39.9.59 1.41.59.51 0 1.02-.2 1.41-.59l7.78-7.78 2.81-2.81c.8-.78.8-2.07 0-2.86zM5.41 20L4 18.59l7.72-7.72 1.47 1.35L5.41 20z\"/>\n",
              "  </svg>\n",
              "      </button>\n",
              "      \n",
              "  <style>\n",
              "    .colab-df-container {\n",
              "      display:flex;\n",
              "      flex-wrap:wrap;\n",
              "      gap: 12px;\n",
              "    }\n",
              "\n",
              "    .colab-df-convert {\n",
              "      background-color: #E8F0FE;\n",
              "      border: none;\n",
              "      border-radius: 50%;\n",
              "      cursor: pointer;\n",
              "      display: none;\n",
              "      fill: #1967D2;\n",
              "      height: 32px;\n",
              "      padding: 0 0 0 0;\n",
              "      width: 32px;\n",
              "    }\n",
              "\n",
              "    .colab-df-convert:hover {\n",
              "      background-color: #E2EBFA;\n",
              "      box-shadow: 0px 1px 2px rgba(60, 64, 67, 0.3), 0px 1px 3px 1px rgba(60, 64, 67, 0.15);\n",
              "      fill: #174EA6;\n",
              "    }\n",
              "\n",
              "    [theme=dark] .colab-df-convert {\n",
              "      background-color: #3B4455;\n",
              "      fill: #D2E3FC;\n",
              "    }\n",
              "\n",
              "    [theme=dark] .colab-df-convert:hover {\n",
              "      background-color: #434B5C;\n",
              "      box-shadow: 0px 1px 3px 1px rgba(0, 0, 0, 0.15);\n",
              "      filter: drop-shadow(0px 1px 2px rgba(0, 0, 0, 0.3));\n",
              "      fill: #FFFFFF;\n",
              "    }\n",
              "  </style>\n",
              "\n",
              "      <script>\n",
              "        const buttonEl =\n",
              "          document.querySelector('#df-c12d6cc9-b053-4e55-b238-d56225804c86 button.colab-df-convert');\n",
              "        buttonEl.style.display =\n",
              "          google.colab.kernel.accessAllowed ? 'block' : 'none';\n",
              "\n",
              "        async function convertToInteractive(key) {\n",
              "          const element = document.querySelector('#df-c12d6cc9-b053-4e55-b238-d56225804c86');\n",
              "          const dataTable =\n",
              "            await google.colab.kernel.invokeFunction('convertToInteractive',\n",
              "                                                     [key], {});\n",
              "          if (!dataTable) return;\n",
              "\n",
              "          const docLinkHtml = 'Like what you see? Visit the ' +\n",
              "            '<a target=\"_blank\" href=https://colab.research.google.com/notebooks/data_table.ipynb>data table notebook</a>'\n",
              "            + ' to learn more about interactive tables.';\n",
              "          element.innerHTML = '';\n",
              "          dataTable['output_type'] = 'display_data';\n",
              "          await google.colab.output.renderOutput(dataTable, element);\n",
              "          const docLink = document.createElement('div');\n",
              "          docLink.innerHTML = docLinkHtml;\n",
              "          element.appendChild(docLink);\n",
              "        }\n",
              "      </script>\n",
              "    </div>\n",
              "  </div>\n",
              "  "
            ]
          },
          "metadata": {},
          "execution_count": 113
        }
      ]
    },
    {
      "cell_type": "markdown",
      "source": [
        "All looks fine, just need to adjust data type in `last_pirce` and `total_area` columns."
      ],
      "metadata": {
        "id": "r6riEpufTKHt"
      }
    },
    {
      "cell_type": "code",
      "source": [
        "# changing the data type and cheking if everything is ok\n",
        "df['last_price'] = df['last_price'].astype(int)\n",
        "df['total_area'] = df['total_area'].astype(int)\n",
        "\n",
        "df.info()"
      ],
      "metadata": {
        "colab": {
          "base_uri": "https://localhost:8080/"
        },
        "id": "5hXUHjGaTWIU",
        "outputId": "93784038-978f-40cb-9e8e-fa12625210ba"
      },
      "execution_count": 114,
      "outputs": [
        {
          "output_type": "stream",
          "name": "stdout",
          "text": [
            "<class 'pandas.core.frame.DataFrame'>\n",
            "Int64Index: 17453 entries, 0 to 23697\n",
            "Data columns (total 23 columns):\n",
            " #   Column                Non-Null Count  Dtype  \n",
            "---  ------                --------------  -----  \n",
            " 0   total_images          17453 non-null  int64  \n",
            " 1   last_price            17453 non-null  int64  \n",
            " 2   total_area            17453 non-null  int64  \n",
            " 3   first_day_exposition  17453 non-null  object \n",
            " 4   rooms                 17453 non-null  int64  \n",
            " 5   ceiling_height        17453 non-null  float64\n",
            " 6   floors_total          17453 non-null  int64  \n",
            " 7   living_area           17453 non-null  int64  \n",
            " 8   floor                 17453 non-null  int64  \n",
            " 9   is_apartment          2077 non-null   object \n",
            " 10  studio                17453 non-null  bool   \n",
            " 11  open_plan             17453 non-null  bool   \n",
            " 12  kitchen_area          17453 non-null  int64  \n",
            " 13  balcony               9011 non-null   float64\n",
            " 14  locality_name         17453 non-null  object \n",
            " 15  airports_nearest      17431 non-null  float64\n",
            " 16  cityCenters_nearest   17453 non-null  float64\n",
            " 17  parks_around3000      17453 non-null  float64\n",
            " 18  parks_nearest         7674 non-null   float64\n",
            " 19  ponds_around3000      17453 non-null  float64\n",
            " 20  ponds_nearest         8645 non-null   float64\n",
            " 21  days_exposition       15274 non-null  float64\n",
            " 22  locality_name_lem     17453 non-null  object \n",
            "dtypes: bool(2), float64(9), int64(8), object(4)\n",
            "memory usage: 3.0+ MB\n"
          ]
        }
      ]
    },
    {
      "cell_type": "markdown",
      "source": [
        "The data is neat and clean and ready for further analysis. "
      ],
      "metadata": {
        "id": "kIsIUiysTipJ"
      }
    },
    {
      "cell_type": "markdown",
      "source": [
        "# Data analysis\n",
        "\n",
        "\n"
      ],
      "metadata": {
        "id": "cagWOdfaTwNi"
      }
    },
    {
      "cell_type": "markdown",
      "source": [
        "## Price per sq.m\n",
        "\n",
        "Next, I will calculate the price per square meter for each apartment and add it to the table. \n",
        " "
      ],
      "metadata": {
        "id": "ejYhBfNJUC58"
      }
    },
    {
      "cell_type": "code",
      "source": [
        "# aq.m price in sqm_price \n",
        "df['sqm_price'] = df['last_price']/df['total_area']\n",
        "\n",
        "# changing the data type\n",
        "df['sqm_price'] = df['sqm_price'].astype(int)\n"
      ],
      "metadata": {
        "id": "KhZd0UToUQ9m"
      },
      "execution_count": 115,
      "outputs": []
    },
    {
      "cell_type": "markdown",
      "source": [
        "On the top of it it would be nice to know day of the week (dow), month and year of publication of the ad.\n",
        "\n",
        "I will add them to the following columns:\n",
        "\n",
        "* `dow` - day of the week\n",
        "* `month` - month\n",
        "* `year` - year\n",
        "\n",
        "\n"
      ],
      "metadata": {
        "id": "GT7m-hr-UgmA"
      }
    },
    {
      "cell_type": "code",
      "source": [
        "# converting date to the better format\n",
        "df['first_day_exposition'] = pd.to_datetime(df['first_day_exposition'], format = '%Y-%m-%dT%H:%M:%S')\n",
        "\n",
        "# and adding columns\n",
        "df['dow'] = df['first_day_exposition'].dt.weekday\n",
        "df['month'] = df['first_day_exposition'].dt.month\n",
        "df['year']=df['first_day_exposition'].dt.year\n",
        "\n",
        "# checking the results\n",
        "df.head(3)"
      ],
      "metadata": {
        "colab": {
          "base_uri": "https://localhost:8080/",
          "height": 237
        },
        "id": "gNLjM9b0VXrH",
        "outputId": "d8cd0e29-4eae-40d6-e6e6-fefb694b610d"
      },
      "execution_count": 116,
      "outputs": [
        {
          "output_type": "execute_result",
          "data": {
            "text/plain": [
              "   total_images  last_price  total_area first_day_exposition  rooms  \\\n",
              "0            20    13000000         108           2019-03-07      3   \n",
              "1             7     3350000          40           2018-12-04      1   \n",
              "2            10     5196000          56           2015-08-20      2   \n",
              "\n",
              "   ceiling_height  floors_total  living_area  floor is_apartment  ...  \\\n",
              "0            2.70            16           51      8          NaN  ...   \n",
              "1            2.65            11           18      1          NaN  ...   \n",
              "2            2.65             5           34      4          NaN  ...   \n",
              "\n",
              "   parks_around3000  parks_nearest  ponds_around3000  ponds_nearest  \\\n",
              "0               1.0          482.0               2.0          755.0   \n",
              "1               0.0            NaN               0.0            NaN   \n",
              "2               1.0           90.0               2.0          574.0   \n",
              "\n",
              "  days_exposition   locality_name_lem  sqm_price  dow  month  year  \n",
              "0             NaN  санкт-петербург \\n     120370    3      3  2019  \n",
              "1            81.0           шушары \\n      83750    1     12  2018  \n",
              "2           558.0  санкт-петербург \\n      92785    3      8  2015  \n",
              "\n",
              "[3 rows x 27 columns]"
            ],
            "text/html": [
              "\n",
              "  <div id=\"df-df3e19fe-b0d1-4d57-a4ff-ef1ff54bc338\">\n",
              "    <div class=\"colab-df-container\">\n",
              "      <div>\n",
              "<style scoped>\n",
              "    .dataframe tbody tr th:only-of-type {\n",
              "        vertical-align: middle;\n",
              "    }\n",
              "\n",
              "    .dataframe tbody tr th {\n",
              "        vertical-align: top;\n",
              "    }\n",
              "\n",
              "    .dataframe thead th {\n",
              "        text-align: right;\n",
              "    }\n",
              "</style>\n",
              "<table border=\"1\" class=\"dataframe\">\n",
              "  <thead>\n",
              "    <tr style=\"text-align: right;\">\n",
              "      <th></th>\n",
              "      <th>total_images</th>\n",
              "      <th>last_price</th>\n",
              "      <th>total_area</th>\n",
              "      <th>first_day_exposition</th>\n",
              "      <th>rooms</th>\n",
              "      <th>ceiling_height</th>\n",
              "      <th>floors_total</th>\n",
              "      <th>living_area</th>\n",
              "      <th>floor</th>\n",
              "      <th>is_apartment</th>\n",
              "      <th>...</th>\n",
              "      <th>parks_around3000</th>\n",
              "      <th>parks_nearest</th>\n",
              "      <th>ponds_around3000</th>\n",
              "      <th>ponds_nearest</th>\n",
              "      <th>days_exposition</th>\n",
              "      <th>locality_name_lem</th>\n",
              "      <th>sqm_price</th>\n",
              "      <th>dow</th>\n",
              "      <th>month</th>\n",
              "      <th>year</th>\n",
              "    </tr>\n",
              "  </thead>\n",
              "  <tbody>\n",
              "    <tr>\n",
              "      <th>0</th>\n",
              "      <td>20</td>\n",
              "      <td>13000000</td>\n",
              "      <td>108</td>\n",
              "      <td>2019-03-07</td>\n",
              "      <td>3</td>\n",
              "      <td>2.70</td>\n",
              "      <td>16</td>\n",
              "      <td>51</td>\n",
              "      <td>8</td>\n",
              "      <td>NaN</td>\n",
              "      <td>...</td>\n",
              "      <td>1.0</td>\n",
              "      <td>482.0</td>\n",
              "      <td>2.0</td>\n",
              "      <td>755.0</td>\n",
              "      <td>NaN</td>\n",
              "      <td>санкт-петербург \\n</td>\n",
              "      <td>120370</td>\n",
              "      <td>3</td>\n",
              "      <td>3</td>\n",
              "      <td>2019</td>\n",
              "    </tr>\n",
              "    <tr>\n",
              "      <th>1</th>\n",
              "      <td>7</td>\n",
              "      <td>3350000</td>\n",
              "      <td>40</td>\n",
              "      <td>2018-12-04</td>\n",
              "      <td>1</td>\n",
              "      <td>2.65</td>\n",
              "      <td>11</td>\n",
              "      <td>18</td>\n",
              "      <td>1</td>\n",
              "      <td>NaN</td>\n",
              "      <td>...</td>\n",
              "      <td>0.0</td>\n",
              "      <td>NaN</td>\n",
              "      <td>0.0</td>\n",
              "      <td>NaN</td>\n",
              "      <td>81.0</td>\n",
              "      <td>шушары \\n</td>\n",
              "      <td>83750</td>\n",
              "      <td>1</td>\n",
              "      <td>12</td>\n",
              "      <td>2018</td>\n",
              "    </tr>\n",
              "    <tr>\n",
              "      <th>2</th>\n",
              "      <td>10</td>\n",
              "      <td>5196000</td>\n",
              "      <td>56</td>\n",
              "      <td>2015-08-20</td>\n",
              "      <td>2</td>\n",
              "      <td>2.65</td>\n",
              "      <td>5</td>\n",
              "      <td>34</td>\n",
              "      <td>4</td>\n",
              "      <td>NaN</td>\n",
              "      <td>...</td>\n",
              "      <td>1.0</td>\n",
              "      <td>90.0</td>\n",
              "      <td>2.0</td>\n",
              "      <td>574.0</td>\n",
              "      <td>558.0</td>\n",
              "      <td>санкт-петербург \\n</td>\n",
              "      <td>92785</td>\n",
              "      <td>3</td>\n",
              "      <td>8</td>\n",
              "      <td>2015</td>\n",
              "    </tr>\n",
              "  </tbody>\n",
              "</table>\n",
              "<p>3 rows × 27 columns</p>\n",
              "</div>\n",
              "      <button class=\"colab-df-convert\" onclick=\"convertToInteractive('df-df3e19fe-b0d1-4d57-a4ff-ef1ff54bc338')\"\n",
              "              title=\"Convert this dataframe to an interactive table.\"\n",
              "              style=\"display:none;\">\n",
              "        \n",
              "  <svg xmlns=\"http://www.w3.org/2000/svg\" height=\"24px\"viewBox=\"0 0 24 24\"\n",
              "       width=\"24px\">\n",
              "    <path d=\"M0 0h24v24H0V0z\" fill=\"none\"/>\n",
              "    <path d=\"M18.56 5.44l.94 2.06.94-2.06 2.06-.94-2.06-.94-.94-2.06-.94 2.06-2.06.94zm-11 1L8.5 8.5l.94-2.06 2.06-.94-2.06-.94L8.5 2.5l-.94 2.06-2.06.94zm10 10l.94 2.06.94-2.06 2.06-.94-2.06-.94-.94-2.06-.94 2.06-2.06.94z\"/><path d=\"M17.41 7.96l-1.37-1.37c-.4-.4-.92-.59-1.43-.59-.52 0-1.04.2-1.43.59L10.3 9.45l-7.72 7.72c-.78.78-.78 2.05 0 2.83L4 21.41c.39.39.9.59 1.41.59.51 0 1.02-.2 1.41-.59l7.78-7.78 2.81-2.81c.8-.78.8-2.07 0-2.86zM5.41 20L4 18.59l7.72-7.72 1.47 1.35L5.41 20z\"/>\n",
              "  </svg>\n",
              "      </button>\n",
              "      \n",
              "  <style>\n",
              "    .colab-df-container {\n",
              "      display:flex;\n",
              "      flex-wrap:wrap;\n",
              "      gap: 12px;\n",
              "    }\n",
              "\n",
              "    .colab-df-convert {\n",
              "      background-color: #E8F0FE;\n",
              "      border: none;\n",
              "      border-radius: 50%;\n",
              "      cursor: pointer;\n",
              "      display: none;\n",
              "      fill: #1967D2;\n",
              "      height: 32px;\n",
              "      padding: 0 0 0 0;\n",
              "      width: 32px;\n",
              "    }\n",
              "\n",
              "    .colab-df-convert:hover {\n",
              "      background-color: #E2EBFA;\n",
              "      box-shadow: 0px 1px 2px rgba(60, 64, 67, 0.3), 0px 1px 3px 1px rgba(60, 64, 67, 0.15);\n",
              "      fill: #174EA6;\n",
              "    }\n",
              "\n",
              "    [theme=dark] .colab-df-convert {\n",
              "      background-color: #3B4455;\n",
              "      fill: #D2E3FC;\n",
              "    }\n",
              "\n",
              "    [theme=dark] .colab-df-convert:hover {\n",
              "      background-color: #434B5C;\n",
              "      box-shadow: 0px 1px 3px 1px rgba(0, 0, 0, 0.15);\n",
              "      filter: drop-shadow(0px 1px 2px rgba(0, 0, 0, 0.3));\n",
              "      fill: #FFFFFF;\n",
              "    }\n",
              "  </style>\n",
              "\n",
              "      <script>\n",
              "        const buttonEl =\n",
              "          document.querySelector('#df-df3e19fe-b0d1-4d57-a4ff-ef1ff54bc338 button.colab-df-convert');\n",
              "        buttonEl.style.display =\n",
              "          google.colab.kernel.accessAllowed ? 'block' : 'none';\n",
              "\n",
              "        async function convertToInteractive(key) {\n",
              "          const element = document.querySelector('#df-df3e19fe-b0d1-4d57-a4ff-ef1ff54bc338');\n",
              "          const dataTable =\n",
              "            await google.colab.kernel.invokeFunction('convertToInteractive',\n",
              "                                                     [key], {});\n",
              "          if (!dataTable) return;\n",
              "\n",
              "          const docLinkHtml = 'Like what you see? Visit the ' +\n",
              "            '<a target=\"_blank\" href=https://colab.research.google.com/notebooks/data_table.ipynb>data table notebook</a>'\n",
              "            + ' to learn more about interactive tables.';\n",
              "          element.innerHTML = '';\n",
              "          dataTable['output_type'] = 'display_data';\n",
              "          await google.colab.output.renderOutput(dataTable, element);\n",
              "          const docLink = document.createElement('div');\n",
              "          docLink.innerHTML = docLinkHtml;\n",
              "          element.appendChild(docLink);\n",
              "        }\n",
              "      </script>\n",
              "    </div>\n",
              "  </div>\n",
              "  "
            ]
          },
          "metadata": {},
          "execution_count": 116
        }
      ]
    },
    {
      "cell_type": "markdown",
      "source": [
        "All fine, now I will add the apartment floor by category:\n",
        "\n",
        "* `1` - groud floor\n",
        "* `2` - last floor\n",
        "* `3` - any other floor"
      ],
      "metadata": {
        "id": "236nwgyeWPPL"
      }
    },
    {
      "cell_type": "code",
      "source": [
        "# adding floor category to  first_last column\n",
        "\n",
        "def first_last_func(value):\n",
        "    if value['floor'] == value['floors_total']:\n",
        "        return \"1\"\n",
        "    elif value['floor'] == 1:\n",
        "         return \"2\"\n",
        "    else:\n",
        "        return \"3\"\n",
        "\n",
        "\n",
        "df['first_last'] = df.apply(first_last_func, axis=1)\n",
        "\n",
        "# and changing the data type\n",
        "df['first_last'] = df['first_last'].astype(int)"
      ],
      "metadata": {
        "id": "fNytNLm-Wdli"
      },
      "execution_count": 117,
      "outputs": []
    },
    {
      "cell_type": "markdown",
      "source": [
        "Let's calculate and add the ratio of living area to total area, as well as the ratio of kitchen area to total area.\n"
      ],
      "metadata": {
        "id": "JXM5UPIqytb2"
      }
    },
    {
      "cell_type": "code",
      "source": [
        "# ratio of living area to total area\n",
        "df['living_to_total_%'] = df['living_area']/df['total_area']*100\n",
        "# changing the data type to make it easier to work with\n",
        "df['living_to_total_%'] = df['living_to_total_%'].astype(int)\n",
        "\n",
        "# ratio of kitchen area to total area\n",
        "df['kitchen_to_total_%'] = df['kitchen_area']/df['total_area']*100\n",
        "# changing the data type to make it easier to work with\n",
        "df['kitchen_to_total_%'] = df['kitchen_to_total_%'].astype(int)"
      ],
      "metadata": {
        "id": "m80m3XQyzDgJ"
      },
      "execution_count": 118,
      "outputs": []
    },
    {
      "cell_type": "code",
      "source": [],
      "metadata": {
        "id": "oeLxlQiVzFqi"
      },
      "execution_count": 118,
      "outputs": []
    }
  ],
  "metadata": {
    "language_info": {
      "name": "python"
    },
    "orig_nbformat": 4,
    "colab": {
      "name": "real_estate.ipynb",
      "provenance": [],
      "toc_visible": true
    },
    "kernelspec": {
      "name": "python3",
      "display_name": "Python 3"
    }
  },
  "nbformat": 4,
  "nbformat_minor": 0
}