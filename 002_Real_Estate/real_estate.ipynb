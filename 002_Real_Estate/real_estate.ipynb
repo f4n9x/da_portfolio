{
  "cells": [
    {
      "cell_type": "markdown",
      "source": [
        "# Exploring sales advertising in the housing market in Saint Pietersburg\n",
        "\n",
        "The data set for this research is the Yandex.Realty archive of ads for the apartments sal in St. Petersburg and neighboring settlements. \n",
        "\n",
        "The main goal of this research is to understand what affects the realty prices. The outcome of the research will be used to build an automated system that will track anomalies and fraudulent activity.\n",
        "\n",
        "There are two types of data available for each apartment for sale. The first type is the data that was entered by the user, the second type is the data that obtained automatically based on cartography. For example, the distance to the center, airport, nearest park and so on.\n",
        "\n",
        "The table contains the following data:\n",
        "\n",
        "* 'airports_nearest` — distance to the nearest airport in meters (m)\n",
        "* 'balcony` — number of balconies\n",
        "* 'ceiling_height` — ceiling height (m)\n",
        "* 'cityCenters_nearest` - distance to the city center (m)\n",
        "* 'days_exposition` — how many days the ad was placed (from publication to removal)\n",
        "* 'first_day_exposition` — date of publication\n",
        "* 'floor` - floor\n",
        "* 'floors_total` — total floors in the house\n",
        "* 'is_apartment` - apartments (boolean type)\n",
        "* 'kitchen_area` — kitchen area in square meters (m2)\n",
        "* 'last_price` - price at the time of withdrawal from publication\n",
        "* 'living_area` — living area in square meters(m2)\n",
        "* 'locality_name` — name of the locality\n",
        "* 'open_plan` — free layout (boolean type)\n",
        "* 'parks_around3000` — the number of parks within a 3 km radius\n",
        "* 'parks_nearest` — distance to the nearest park (m)\n",
        "* 'ponds_around3000` — number of reservoirs within a radius of 3 km\n",
        "* 'ponds_nearest` — distance to the nearest reservoir (m)\n",
        "* 'rooms` — number of rooms\n",
        "* 'studio` — studio apartment (boolean type)\n",
        "* 'total_area` — the area of the apartment in square meters (m2)\n",
        "* 'total_images` — the number of photos of the apartment in the ad\n",
        "\n",
        "The research includes the following stages:\n",
        "\n",
        "1. Data investigation.\n",
        "2. Data cleanup.\n",
        "3. Data analysis.\n",
        "4. Follow up."
      ],
      "metadata": {
        "id": "DHIGz5SPVGWt"
      }
    },
    {
      "cell_type": "markdown",
      "source": [
        "# Data investigation"
      ],
      "metadata": {
        "id": "xeQyIy_0jYSh"
      }
    },
    {
      "cell_type": "markdown",
      "source": [
        "First thing to do is to load tha data and check it's shape."
      ],
      "metadata": {
        "id": "u957uqA2jgmN"
      }
    },
    {
      "cell_type": "code",
      "source": [
        "from google.colab import drive\n",
        "drive.mount(\"/content/drive\")"
      ],
      "metadata": {
        "colab": {
          "base_uri": "https://localhost:8080/"
        },
        "id": "AgSKMLn0Rx-A",
        "outputId": "bd86cedf-edcc-4358-e671-06e0bf4adb50"
      },
      "execution_count": 1,
      "outputs": [
        {
          "output_type": "stream",
          "name": "stdout",
          "text": [
            "Mounted at /content/drive\n"
          ]
        }
      ]
    },
    {
      "cell_type": "code",
      "source": [
        "# libraries import\n",
        "import pandas as pd\n",
        "pd.options.mode.chained_assignment = None  # default='warn'\n",
        "!pip install pymystem3==0.1.10\n",
        "from pymystem3 import Mystem\n",
        "m = Mystem()\n",
        "from matplotlib import pyplot as plt\n"
      ],
      "metadata": {
        "colab": {
          "base_uri": "https://localhost:8080/"
        },
        "id": "ve_5Ytq9SUPW",
        "outputId": "4cd4b215-0919-48cf-cefa-72669912ff27"
      },
      "execution_count": 2,
      "outputs": [
        {
          "output_type": "stream",
          "name": "stdout",
          "text": [
            "Collecting pymystem3==0.1.10\n",
            "  Downloading pymystem3-0.1.10-py3-none-any.whl (10 kB)\n",
            "Requirement already satisfied: requests in /usr/local/lib/python3.7/dist-packages (from pymystem3==0.1.10) (2.23.0)\n",
            "Requirement already satisfied: urllib3!=1.25.0,!=1.25.1,<1.26,>=1.21.1 in /usr/local/lib/python3.7/dist-packages (from requests->pymystem3==0.1.10) (1.24.3)\n",
            "Requirement already satisfied: chardet<4,>=3.0.2 in /usr/local/lib/python3.7/dist-packages (from requests->pymystem3==0.1.10) (3.0.4)\n",
            "Requirement already satisfied: certifi>=2017.4.17 in /usr/local/lib/python3.7/dist-packages (from requests->pymystem3==0.1.10) (2021.10.8)\n",
            "Requirement already satisfied: idna<3,>=2.5 in /usr/local/lib/python3.7/dist-packages (from requests->pymystem3==0.1.10) (2.10)\n",
            "Installing collected packages: pymystem3\n",
            "  Attempting uninstall: pymystem3\n",
            "    Found existing installation: pymystem3 0.2.0\n",
            "    Uninstalling pymystem3-0.2.0:\n",
            "      Successfully uninstalled pymystem3-0.2.0\n",
            "Successfully installed pymystem3-0.1.10\n"
          ]
        },
        {
          "output_type": "stream",
          "name": "stderr",
          "text": [
            "Installing mystem to /root/.local/bin/mystem from http://download.cdn.yandex.net/mystem/mystem-3.0-linux3.1-64bit.tar.gz\n"
          ]
        }
      ]
    },
    {
      "cell_type": "code",
      "source": [
        "# data import\n",
        "df = pd.read_csv(\"/content/drive/MyDrive/da_portfolio/real_estate_data.csv\", sep=\"\\t\") \n",
        "display(df.head(10))\n",
        "display(df.info())"
      ],
      "metadata": {
        "colab": {
          "base_uri": "https://localhost:8080/",
          "height": 1000
        },
        "id": "6dwhjOF6SnzD",
        "outputId": "c8e84b7f-4c74-4739-9190-9cef4db078d5"
      },
      "execution_count": 3,
      "outputs": [
        {
          "output_type": "display_data",
          "data": {
            "text/plain": [
              "   total_images  last_price  total_area first_day_exposition  rooms  \\\n",
              "0            20  13000000.0      108.00  2019-03-07T00:00:00      3   \n",
              "1             7   3350000.0       40.40  2018-12-04T00:00:00      1   \n",
              "2            10   5196000.0       56.00  2015-08-20T00:00:00      2   \n",
              "3             0  64900000.0      159.00  2015-07-24T00:00:00      3   \n",
              "4             2  10000000.0      100.00  2018-06-19T00:00:00      2   \n",
              "5            10   2890000.0       30.40  2018-09-10T00:00:00      1   \n",
              "6             6   3700000.0       37.30  2017-11-02T00:00:00      1   \n",
              "7             5   7915000.0       71.60  2019-04-18T00:00:00      2   \n",
              "8            20   2900000.0       33.16  2018-05-23T00:00:00      1   \n",
              "9            18   5400000.0       61.00  2017-02-26T00:00:00      3   \n",
              "\n",
              "   ceiling_height  floors_total  living_area  floor is_apartment  ...  \\\n",
              "0            2.70          16.0        51.00      8          NaN  ...   \n",
              "1             NaN          11.0        18.60      1          NaN  ...   \n",
              "2             NaN           5.0        34.30      4          NaN  ...   \n",
              "3             NaN          14.0          NaN      9          NaN  ...   \n",
              "4            3.03          14.0        32.00     13          NaN  ...   \n",
              "5             NaN          12.0        14.40      5          NaN  ...   \n",
              "6             NaN          26.0        10.60      6          NaN  ...   \n",
              "7             NaN          24.0          NaN     22          NaN  ...   \n",
              "8             NaN          27.0        15.43     26          NaN  ...   \n",
              "9            2.50           9.0        43.60      7          NaN  ...   \n",
              "\n",
              "   kitchen_area  balcony              locality_name  airports_nearest  \\\n",
              "0         25.00      NaN            Санкт-Петербург           18863.0   \n",
              "1         11.00      2.0             посёлок Шушары           12817.0   \n",
              "2          8.30      0.0            Санкт-Петербург           21741.0   \n",
              "3           NaN      0.0            Санкт-Петербург           28098.0   \n",
              "4         41.00      NaN            Санкт-Петербург           31856.0   \n",
              "5          9.10      NaN  городской посёлок Янино-1               NaN   \n",
              "6         14.40      1.0          посёлок Парголово           52996.0   \n",
              "7         18.90      2.0            Санкт-Петербург           23982.0   \n",
              "8          8.81      NaN             посёлок Мурино               NaN   \n",
              "9          6.50      2.0            Санкт-Петербург           50898.0   \n",
              "\n",
              "  cityCenters_nearest  parks_around3000  parks_nearest  ponds_around3000  \\\n",
              "0             16028.0               1.0          482.0               2.0   \n",
              "1             18603.0               0.0            NaN               0.0   \n",
              "2             13933.0               1.0           90.0               2.0   \n",
              "3              6800.0               2.0           84.0               3.0   \n",
              "4              8098.0               2.0          112.0               1.0   \n",
              "5                 NaN               NaN            NaN               NaN   \n",
              "6             19143.0               0.0            NaN               0.0   \n",
              "7             11634.0               0.0            NaN               0.0   \n",
              "8                 NaN               NaN            NaN               NaN   \n",
              "9             15008.0               0.0            NaN               0.0   \n",
              "\n",
              "   ponds_nearest  days_exposition  \n",
              "0          755.0              NaN  \n",
              "1            NaN             81.0  \n",
              "2          574.0            558.0  \n",
              "3          234.0            424.0  \n",
              "4           48.0            121.0  \n",
              "5            NaN             55.0  \n",
              "6            NaN            155.0  \n",
              "7            NaN              NaN  \n",
              "8            NaN            189.0  \n",
              "9            NaN            289.0  \n",
              "\n",
              "[10 rows x 22 columns]"
            ],
            "text/html": [
              "\n",
              "  <div id=\"df-73fdbd5e-2704-4200-b12a-232697a674d9\">\n",
              "    <div class=\"colab-df-container\">\n",
              "      <div>\n",
              "<style scoped>\n",
              "    .dataframe tbody tr th:only-of-type {\n",
              "        vertical-align: middle;\n",
              "    }\n",
              "\n",
              "    .dataframe tbody tr th {\n",
              "        vertical-align: top;\n",
              "    }\n",
              "\n",
              "    .dataframe thead th {\n",
              "        text-align: right;\n",
              "    }\n",
              "</style>\n",
              "<table border=\"1\" class=\"dataframe\">\n",
              "  <thead>\n",
              "    <tr style=\"text-align: right;\">\n",
              "      <th></th>\n",
              "      <th>total_images</th>\n",
              "      <th>last_price</th>\n",
              "      <th>total_area</th>\n",
              "      <th>first_day_exposition</th>\n",
              "      <th>rooms</th>\n",
              "      <th>ceiling_height</th>\n",
              "      <th>floors_total</th>\n",
              "      <th>living_area</th>\n",
              "      <th>floor</th>\n",
              "      <th>is_apartment</th>\n",
              "      <th>...</th>\n",
              "      <th>kitchen_area</th>\n",
              "      <th>balcony</th>\n",
              "      <th>locality_name</th>\n",
              "      <th>airports_nearest</th>\n",
              "      <th>cityCenters_nearest</th>\n",
              "      <th>parks_around3000</th>\n",
              "      <th>parks_nearest</th>\n",
              "      <th>ponds_around3000</th>\n",
              "      <th>ponds_nearest</th>\n",
              "      <th>days_exposition</th>\n",
              "    </tr>\n",
              "  </thead>\n",
              "  <tbody>\n",
              "    <tr>\n",
              "      <th>0</th>\n",
              "      <td>20</td>\n",
              "      <td>13000000.0</td>\n",
              "      <td>108.00</td>\n",
              "      <td>2019-03-07T00:00:00</td>\n",
              "      <td>3</td>\n",
              "      <td>2.70</td>\n",
              "      <td>16.0</td>\n",
              "      <td>51.00</td>\n",
              "      <td>8</td>\n",
              "      <td>NaN</td>\n",
              "      <td>...</td>\n",
              "      <td>25.00</td>\n",
              "      <td>NaN</td>\n",
              "      <td>Санкт-Петербург</td>\n",
              "      <td>18863.0</td>\n",
              "      <td>16028.0</td>\n",
              "      <td>1.0</td>\n",
              "      <td>482.0</td>\n",
              "      <td>2.0</td>\n",
              "      <td>755.0</td>\n",
              "      <td>NaN</td>\n",
              "    </tr>\n",
              "    <tr>\n",
              "      <th>1</th>\n",
              "      <td>7</td>\n",
              "      <td>3350000.0</td>\n",
              "      <td>40.40</td>\n",
              "      <td>2018-12-04T00:00:00</td>\n",
              "      <td>1</td>\n",
              "      <td>NaN</td>\n",
              "      <td>11.0</td>\n",
              "      <td>18.60</td>\n",
              "      <td>1</td>\n",
              "      <td>NaN</td>\n",
              "      <td>...</td>\n",
              "      <td>11.00</td>\n",
              "      <td>2.0</td>\n",
              "      <td>посёлок Шушары</td>\n",
              "      <td>12817.0</td>\n",
              "      <td>18603.0</td>\n",
              "      <td>0.0</td>\n",
              "      <td>NaN</td>\n",
              "      <td>0.0</td>\n",
              "      <td>NaN</td>\n",
              "      <td>81.0</td>\n",
              "    </tr>\n",
              "    <tr>\n",
              "      <th>2</th>\n",
              "      <td>10</td>\n",
              "      <td>5196000.0</td>\n",
              "      <td>56.00</td>\n",
              "      <td>2015-08-20T00:00:00</td>\n",
              "      <td>2</td>\n",
              "      <td>NaN</td>\n",
              "      <td>5.0</td>\n",
              "      <td>34.30</td>\n",
              "      <td>4</td>\n",
              "      <td>NaN</td>\n",
              "      <td>...</td>\n",
              "      <td>8.30</td>\n",
              "      <td>0.0</td>\n",
              "      <td>Санкт-Петербург</td>\n",
              "      <td>21741.0</td>\n",
              "      <td>13933.0</td>\n",
              "      <td>1.0</td>\n",
              "      <td>90.0</td>\n",
              "      <td>2.0</td>\n",
              "      <td>574.0</td>\n",
              "      <td>558.0</td>\n",
              "    </tr>\n",
              "    <tr>\n",
              "      <th>3</th>\n",
              "      <td>0</td>\n",
              "      <td>64900000.0</td>\n",
              "      <td>159.00</td>\n",
              "      <td>2015-07-24T00:00:00</td>\n",
              "      <td>3</td>\n",
              "      <td>NaN</td>\n",
              "      <td>14.0</td>\n",
              "      <td>NaN</td>\n",
              "      <td>9</td>\n",
              "      <td>NaN</td>\n",
              "      <td>...</td>\n",
              "      <td>NaN</td>\n",
              "      <td>0.0</td>\n",
              "      <td>Санкт-Петербург</td>\n",
              "      <td>28098.0</td>\n",
              "      <td>6800.0</td>\n",
              "      <td>2.0</td>\n",
              "      <td>84.0</td>\n",
              "      <td>3.0</td>\n",
              "      <td>234.0</td>\n",
              "      <td>424.0</td>\n",
              "    </tr>\n",
              "    <tr>\n",
              "      <th>4</th>\n",
              "      <td>2</td>\n",
              "      <td>10000000.0</td>\n",
              "      <td>100.00</td>\n",
              "      <td>2018-06-19T00:00:00</td>\n",
              "      <td>2</td>\n",
              "      <td>3.03</td>\n",
              "      <td>14.0</td>\n",
              "      <td>32.00</td>\n",
              "      <td>13</td>\n",
              "      <td>NaN</td>\n",
              "      <td>...</td>\n",
              "      <td>41.00</td>\n",
              "      <td>NaN</td>\n",
              "      <td>Санкт-Петербург</td>\n",
              "      <td>31856.0</td>\n",
              "      <td>8098.0</td>\n",
              "      <td>2.0</td>\n",
              "      <td>112.0</td>\n",
              "      <td>1.0</td>\n",
              "      <td>48.0</td>\n",
              "      <td>121.0</td>\n",
              "    </tr>\n",
              "    <tr>\n",
              "      <th>5</th>\n",
              "      <td>10</td>\n",
              "      <td>2890000.0</td>\n",
              "      <td>30.40</td>\n",
              "      <td>2018-09-10T00:00:00</td>\n",
              "      <td>1</td>\n",
              "      <td>NaN</td>\n",
              "      <td>12.0</td>\n",
              "      <td>14.40</td>\n",
              "      <td>5</td>\n",
              "      <td>NaN</td>\n",
              "      <td>...</td>\n",
              "      <td>9.10</td>\n",
              "      <td>NaN</td>\n",
              "      <td>городской посёлок Янино-1</td>\n",
              "      <td>NaN</td>\n",
              "      <td>NaN</td>\n",
              "      <td>NaN</td>\n",
              "      <td>NaN</td>\n",
              "      <td>NaN</td>\n",
              "      <td>NaN</td>\n",
              "      <td>55.0</td>\n",
              "    </tr>\n",
              "    <tr>\n",
              "      <th>6</th>\n",
              "      <td>6</td>\n",
              "      <td>3700000.0</td>\n",
              "      <td>37.30</td>\n",
              "      <td>2017-11-02T00:00:00</td>\n",
              "      <td>1</td>\n",
              "      <td>NaN</td>\n",
              "      <td>26.0</td>\n",
              "      <td>10.60</td>\n",
              "      <td>6</td>\n",
              "      <td>NaN</td>\n",
              "      <td>...</td>\n",
              "      <td>14.40</td>\n",
              "      <td>1.0</td>\n",
              "      <td>посёлок Парголово</td>\n",
              "      <td>52996.0</td>\n",
              "      <td>19143.0</td>\n",
              "      <td>0.0</td>\n",
              "      <td>NaN</td>\n",
              "      <td>0.0</td>\n",
              "      <td>NaN</td>\n",
              "      <td>155.0</td>\n",
              "    </tr>\n",
              "    <tr>\n",
              "      <th>7</th>\n",
              "      <td>5</td>\n",
              "      <td>7915000.0</td>\n",
              "      <td>71.60</td>\n",
              "      <td>2019-04-18T00:00:00</td>\n",
              "      <td>2</td>\n",
              "      <td>NaN</td>\n",
              "      <td>24.0</td>\n",
              "      <td>NaN</td>\n",
              "      <td>22</td>\n",
              "      <td>NaN</td>\n",
              "      <td>...</td>\n",
              "      <td>18.90</td>\n",
              "      <td>2.0</td>\n",
              "      <td>Санкт-Петербург</td>\n",
              "      <td>23982.0</td>\n",
              "      <td>11634.0</td>\n",
              "      <td>0.0</td>\n",
              "      <td>NaN</td>\n",
              "      <td>0.0</td>\n",
              "      <td>NaN</td>\n",
              "      <td>NaN</td>\n",
              "    </tr>\n",
              "    <tr>\n",
              "      <th>8</th>\n",
              "      <td>20</td>\n",
              "      <td>2900000.0</td>\n",
              "      <td>33.16</td>\n",
              "      <td>2018-05-23T00:00:00</td>\n",
              "      <td>1</td>\n",
              "      <td>NaN</td>\n",
              "      <td>27.0</td>\n",
              "      <td>15.43</td>\n",
              "      <td>26</td>\n",
              "      <td>NaN</td>\n",
              "      <td>...</td>\n",
              "      <td>8.81</td>\n",
              "      <td>NaN</td>\n",
              "      <td>посёлок Мурино</td>\n",
              "      <td>NaN</td>\n",
              "      <td>NaN</td>\n",
              "      <td>NaN</td>\n",
              "      <td>NaN</td>\n",
              "      <td>NaN</td>\n",
              "      <td>NaN</td>\n",
              "      <td>189.0</td>\n",
              "    </tr>\n",
              "    <tr>\n",
              "      <th>9</th>\n",
              "      <td>18</td>\n",
              "      <td>5400000.0</td>\n",
              "      <td>61.00</td>\n",
              "      <td>2017-02-26T00:00:00</td>\n",
              "      <td>3</td>\n",
              "      <td>2.50</td>\n",
              "      <td>9.0</td>\n",
              "      <td>43.60</td>\n",
              "      <td>7</td>\n",
              "      <td>NaN</td>\n",
              "      <td>...</td>\n",
              "      <td>6.50</td>\n",
              "      <td>2.0</td>\n",
              "      <td>Санкт-Петербург</td>\n",
              "      <td>50898.0</td>\n",
              "      <td>15008.0</td>\n",
              "      <td>0.0</td>\n",
              "      <td>NaN</td>\n",
              "      <td>0.0</td>\n",
              "      <td>NaN</td>\n",
              "      <td>289.0</td>\n",
              "    </tr>\n",
              "  </tbody>\n",
              "</table>\n",
              "<p>10 rows × 22 columns</p>\n",
              "</div>\n",
              "      <button class=\"colab-df-convert\" onclick=\"convertToInteractive('df-73fdbd5e-2704-4200-b12a-232697a674d9')\"\n",
              "              title=\"Convert this dataframe to an interactive table.\"\n",
              "              style=\"display:none;\">\n",
              "        \n",
              "  <svg xmlns=\"http://www.w3.org/2000/svg\" height=\"24px\"viewBox=\"0 0 24 24\"\n",
              "       width=\"24px\">\n",
              "    <path d=\"M0 0h24v24H0V0z\" fill=\"none\"/>\n",
              "    <path d=\"M18.56 5.44l.94 2.06.94-2.06 2.06-.94-2.06-.94-.94-2.06-.94 2.06-2.06.94zm-11 1L8.5 8.5l.94-2.06 2.06-.94-2.06-.94L8.5 2.5l-.94 2.06-2.06.94zm10 10l.94 2.06.94-2.06 2.06-.94-2.06-.94-.94-2.06-.94 2.06-2.06.94z\"/><path d=\"M17.41 7.96l-1.37-1.37c-.4-.4-.92-.59-1.43-.59-.52 0-1.04.2-1.43.59L10.3 9.45l-7.72 7.72c-.78.78-.78 2.05 0 2.83L4 21.41c.39.39.9.59 1.41.59.51 0 1.02-.2 1.41-.59l7.78-7.78 2.81-2.81c.8-.78.8-2.07 0-2.86zM5.41 20L4 18.59l7.72-7.72 1.47 1.35L5.41 20z\"/>\n",
              "  </svg>\n",
              "      </button>\n",
              "      \n",
              "  <style>\n",
              "    .colab-df-container {\n",
              "      display:flex;\n",
              "      flex-wrap:wrap;\n",
              "      gap: 12px;\n",
              "    }\n",
              "\n",
              "    .colab-df-convert {\n",
              "      background-color: #E8F0FE;\n",
              "      border: none;\n",
              "      border-radius: 50%;\n",
              "      cursor: pointer;\n",
              "      display: none;\n",
              "      fill: #1967D2;\n",
              "      height: 32px;\n",
              "      padding: 0 0 0 0;\n",
              "      width: 32px;\n",
              "    }\n",
              "\n",
              "    .colab-df-convert:hover {\n",
              "      background-color: #E2EBFA;\n",
              "      box-shadow: 0px 1px 2px rgba(60, 64, 67, 0.3), 0px 1px 3px 1px rgba(60, 64, 67, 0.15);\n",
              "      fill: #174EA6;\n",
              "    }\n",
              "\n",
              "    [theme=dark] .colab-df-convert {\n",
              "      background-color: #3B4455;\n",
              "      fill: #D2E3FC;\n",
              "    }\n",
              "\n",
              "    [theme=dark] .colab-df-convert:hover {\n",
              "      background-color: #434B5C;\n",
              "      box-shadow: 0px 1px 3px 1px rgba(0, 0, 0, 0.15);\n",
              "      filter: drop-shadow(0px 1px 2px rgba(0, 0, 0, 0.3));\n",
              "      fill: #FFFFFF;\n",
              "    }\n",
              "  </style>\n",
              "\n",
              "      <script>\n",
              "        const buttonEl =\n",
              "          document.querySelector('#df-73fdbd5e-2704-4200-b12a-232697a674d9 button.colab-df-convert');\n",
              "        buttonEl.style.display =\n",
              "          google.colab.kernel.accessAllowed ? 'block' : 'none';\n",
              "\n",
              "        async function convertToInteractive(key) {\n",
              "          const element = document.querySelector('#df-73fdbd5e-2704-4200-b12a-232697a674d9');\n",
              "          const dataTable =\n",
              "            await google.colab.kernel.invokeFunction('convertToInteractive',\n",
              "                                                     [key], {});\n",
              "          if (!dataTable) return;\n",
              "\n",
              "          const docLinkHtml = 'Like what you see? Visit the ' +\n",
              "            '<a target=\"_blank\" href=https://colab.research.google.com/notebooks/data_table.ipynb>data table notebook</a>'\n",
              "            + ' to learn more about interactive tables.';\n",
              "          element.innerHTML = '';\n",
              "          dataTable['output_type'] = 'display_data';\n",
              "          await google.colab.output.renderOutput(dataTable, element);\n",
              "          const docLink = document.createElement('div');\n",
              "          docLink.innerHTML = docLinkHtml;\n",
              "          element.appendChild(docLink);\n",
              "        }\n",
              "      </script>\n",
              "    </div>\n",
              "  </div>\n",
              "  "
            ]
          },
          "metadata": {}
        },
        {
          "output_type": "stream",
          "name": "stdout",
          "text": [
            "<class 'pandas.core.frame.DataFrame'>\n",
            "RangeIndex: 23699 entries, 0 to 23698\n",
            "Data columns (total 22 columns):\n",
            " #   Column                Non-Null Count  Dtype  \n",
            "---  ------                --------------  -----  \n",
            " 0   total_images          23699 non-null  int64  \n",
            " 1   last_price            23699 non-null  float64\n",
            " 2   total_area            23699 non-null  float64\n",
            " 3   first_day_exposition  23699 non-null  object \n",
            " 4   rooms                 23699 non-null  int64  \n",
            " 5   ceiling_height        14504 non-null  float64\n",
            " 6   floors_total          23613 non-null  float64\n",
            " 7   living_area           21796 non-null  float64\n",
            " 8   floor                 23699 non-null  int64  \n",
            " 9   is_apartment          2775 non-null   object \n",
            " 10  studio                23699 non-null  bool   \n",
            " 11  open_plan             23699 non-null  bool   \n",
            " 12  kitchen_area          21421 non-null  float64\n",
            " 13  balcony               12180 non-null  float64\n",
            " 14  locality_name         23650 non-null  object \n",
            " 15  airports_nearest      18157 non-null  float64\n",
            " 16  cityCenters_nearest   18180 non-null  float64\n",
            " 17  parks_around3000      18181 non-null  float64\n",
            " 18  parks_nearest         8079 non-null   float64\n",
            " 19  ponds_around3000      18181 non-null  float64\n",
            " 20  ponds_nearest         9110 non-null   float64\n",
            " 21  days_exposition       20518 non-null  float64\n",
            "dtypes: bool(2), float64(14), int64(3), object(3)\n",
            "memory usage: 3.7+ MB\n"
          ]
        },
        {
          "output_type": "display_data",
          "data": {
            "text/plain": [
              "None"
            ]
          },
          "metadata": {}
        }
      ]
    },
    {
      "cell_type": "markdown",
      "source": [
        "Now the data is loaded and I can see that not all data can be used for analysis the way it is now: the number of rows in columns is not equal, some cells have `NaN` as a value, also there is a need to check the data for duplicates. \n",
        "\n",
        "\n",
        "\n"
      ],
      "metadata": {
        "id": "5NppgxaxjuS3"
      }
    },
    {
      "cell_type": "markdown",
      "source": [
        "# Data cleanup"
      ],
      "metadata": {
        "id": "EqGd_hdHkZaG"
      }
    },
    {
      "cell_type": "markdown",
      "source": [
        "I will start with checking for duplicates."
      ],
      "metadata": {
        "id": "3X024_aGkkCd"
      }
    },
    {
      "cell_type": "code",
      "source": [
        "# converting ;ocality to the lowercase\n",
        "df[\"locality_name\"] = df[\"locality_name\"].str.lower()\n",
        "\n",
        "# checking for duplicates in the wholde dataframe\n",
        "print(\"The number of duplicates is:\", df.duplicated().sum())"
      ],
      "metadata": {
        "id": "Jw3u41zSSq73",
        "colab": {
          "base_uri": "https://localhost:8080/"
        },
        "outputId": "1e657a65-9929-4b94-8f4d-47fb965c6000"
      },
      "execution_count": 4,
      "outputs": [
        {
          "output_type": "stream",
          "name": "stdout",
          "text": [
            "The number of duplicates is: 0\n"
          ]
        }
      ]
    },
    {
      "cell_type": "markdown",
      "source": [
        "Well, now I know that there are no duplicates, so I can move on with my data cleanup. The next step is to decide what to do with unequal number of rows in columns.  \n",
        "\n",
        "In general unequal number of rows means, that some cells are not filled with the porper data. I will check the amount of such cells per row and will also check if everything is fine with the columns' names."
      ],
      "metadata": {
        "id": "dOi-HjQkk4En"
      }
    },
    {
      "cell_type": "code",
      "source": [
        "# checking the columns' names\n",
        "df.columns"
      ],
      "metadata": {
        "colab": {
          "base_uri": "https://localhost:8080/"
        },
        "id": "tS841ITilUJS",
        "outputId": "9874badc-6b6e-4f6f-8d71-9191dca596e8"
      },
      "execution_count": 5,
      "outputs": [
        {
          "output_type": "execute_result",
          "data": {
            "text/plain": [
              "Index(['total_images', 'last_price', 'total_area', 'first_day_exposition',\n",
              "       'rooms', 'ceiling_height', 'floors_total', 'living_area', 'floor',\n",
              "       'is_apartment', 'studio', 'open_plan', 'kitchen_area', 'balcony',\n",
              "       'locality_name', 'airports_nearest', 'cityCenters_nearest',\n",
              "       'parks_around3000', 'parks_nearest', 'ponds_around3000',\n",
              "       'ponds_nearest', 'days_exposition'],\n",
              "      dtype='object')"
            ]
          },
          "metadata": {},
          "execution_count": 5
        }
      ]
    },
    {
      "cell_type": "markdown",
      "source": [
        "No spaces, no camelcase. All fine."
      ],
      "metadata": {
        "id": "tpWayIFOl3-O"
      }
    },
    {
      "cell_type": "code",
      "source": [
        "# checking the amount of  null in the column\n",
        "df.isnull().sum()"
      ],
      "metadata": {
        "colab": {
          "base_uri": "https://localhost:8080/"
        },
        "id": "hQ4ga48nmEcw",
        "outputId": "bf701247-8364-48d1-f143-ada8fce7aa39"
      },
      "execution_count": 6,
      "outputs": [
        {
          "output_type": "execute_result",
          "data": {
            "text/plain": [
              "total_images                0\n",
              "last_price                  0\n",
              "total_area                  0\n",
              "first_day_exposition        0\n",
              "rooms                       0\n",
              "ceiling_height           9195\n",
              "floors_total               86\n",
              "living_area              1903\n",
              "floor                       0\n",
              "is_apartment            20924\n",
              "studio                      0\n",
              "open_plan                   0\n",
              "kitchen_area             2278\n",
              "balcony                 11519\n",
              "locality_name              49\n",
              "airports_nearest         5542\n",
              "cityCenters_nearest      5519\n",
              "parks_around3000         5518\n",
              "parks_nearest           15620\n",
              "ponds_around3000         5518\n",
              "ponds_nearest           14589\n",
              "days_exposition          3181\n",
              "dtype: int64"
            ]
          },
          "metadata": {},
          "execution_count": 6
        }
      ]
    },
    {
      "cell_type": "markdown",
      "source": [
        "So now I can see that the amount of null values in the dataset is high. Nearly every column has some. Here I decide what to do with such values, and I will start with the understandig what columns I will use for the further analysis.     \n",
        "\n",
        "It looks like I will need the following columns:\n",
        "\n",
        "* `ceiling_height`\n",
        "* `floors_total`\n",
        "* `locality_name`\n",
        "* `cityCenters_nearest`\n",
        "* `days_exposition`\n",
        "* `living_area`\n",
        "* `kitchen_area`\n",
        "\n",
        "So I will run the data cleanup only on them, avoiding doing anything to the other columns."
      ],
      "metadata": {
        "id": "D4wZfJqWl-gT"
      }
    },
    {
      "cell_type": "markdown",
      "source": [
        "**Ceiling height** (`ceiling_height`) - currently, the ceiling height in new and old buildings is approximately the same 2.5 - 2.8 m. The exception is \"stalinka\", where the ceiling height can reach 3+ meters. I do not have the type/year of construction in the table, so there is no category to rely on when filling in the gaps. Therefore, the median of the `ceiling_height` category will be used to fill in the gaps."
      ],
      "metadata": {
        "id": "LyvWkR0snj_n"
      }
    },
    {
      "cell_type": "code",
      "source": [
        "# checking the median value\n",
        "print(\"The median is:\", df[\"ceiling_height\"].median(), \"meters\")"
      ],
      "metadata": {
        "id": "5cilQ9PRnFu2",
        "outputId": "5a38cb7a-6672-4924-e8a6-d9212c203277",
        "colab": {
          "base_uri": "https://localhost:8080/"
        }
      },
      "execution_count": 7,
      "outputs": [
        {
          "output_type": "stream",
          "name": "stdout",
          "text": [
            "The median is: 2.65 meters\n"
          ]
        }
      ]
    },
    {
      "cell_type": "code",
      "source": [
        "# filling the gaps with median value\n",
        "df[\"ceiling_height\"].fillna((df[\"ceiling_height\"].median()), inplace=True)"
      ],
      "metadata": {
        "id": "jf_zHYCGn8p0"
      },
      "execution_count": 8,
      "outputs": []
    },
    {
      "cell_type": "markdown",
      "source": [
        "**Total floors in the house** (`floors_total`) - as well as with the height of the ceilings, data on the year of construction or type of construction is required. In addition, we have the `floor` parameter, which complicates filling in the gaps in this column: I can fill in the gap in `floors_total` with a median equal to 9 while in the `floor` column it will be indicated that the client lives on the 13th floor.\n",
        "\n",
        "In order not to complicate the task, I'm looking at the percentage of omissions in `floors_total`, which is 0.36% of the total number of rows. This is a small percentage, so lines with omissions can be deleted.\n",
        "\n",
        "In order to be able to apply some functions to the column values, I change the data type to numeric."
      ],
      "metadata": {
        "id": "t6GFDdIvoFAQ"
      }
    },
    {
      "cell_type": "code",
      "source": [
        "# deleting NaN\n",
        "df = df.dropna(subset=[\"floors_total\"])\n",
        "\n",
        "# changing the cityCenters_nearest datatype to 'int'\n",
        "df[\"floors_total\"] = df[\"floors_total\"].astype(\"int\")\n"
      ],
      "metadata": {
        "id": "1FcD_joJoxCR"
      },
      "execution_count": 9,
      "outputs": []
    },
    {
      "cell_type": "markdown",
      "source": [
        "**The name of the locality** (`locality_name`) - just like with the number of floors of houses, the number of lines with gaps is small, there are no parameters to rely on to fill them in, so I delete the lines with gaps."
      ],
      "metadata": {
        "id": "6zN-xU-fq100"
      }
    },
    {
      "cell_type": "code",
      "source": [
        "# deleting NaN\n",
        "df = df.dropna(subset=[\"locality_name\"])"
      ],
      "metadata": {
        "id": "CzydVAXJqXhW"
      },
      "execution_count": 10,
      "outputs": []
    },
    {
      "cell_type": "markdown",
      "source": [
        "**Proximity to the center** (`city Center s_nearest`) - gaps in the data here ara due to the fact that `citycenter_nearest` cannot be applied to some of the settlments. For example, some villages and towns just do not have the \"city center\" since they are too small, so there is little difference between the center and the outskirts and remoteness does not affect the price.\n",
        "\n",
        "\n",
        "For towns and villages that are sattelites of the bigger city, it is possible to indicate the remotness from the main city center, and not to the center of the settlement itself."
      ],
      "metadata": {
        "id": "nCPEQl1VrTfF"
      }
    },
    {
      "cell_type": "code",
      "source": [
        "# I start with the list of the settlments\n",
        "df[\"locality_name\"].unique()"
      ],
      "metadata": {
        "id": "ODUnIyHWsAZS",
        "outputId": "ab68319e-e3c9-4d59-eef6-c2c6859f5d2d",
        "colab": {
          "base_uri": "https://localhost:8080/"
        }
      },
      "execution_count": 11,
      "outputs": [
        {
          "output_type": "execute_result",
          "data": {
            "text/plain": [
              "array(['санкт-петербург', 'посёлок шушары', 'городской посёлок янино-1',\n",
              "       'посёлок парголово', 'посёлок мурино', 'ломоносов', 'сертолово',\n",
              "       'петергоф', 'пушкин', 'деревня кудрово', 'коммунар', 'колпино',\n",
              "       'поселок городского типа красный бор', 'гатчина', 'поселок мурино',\n",
              "       'деревня фёдоровское', 'выборг', 'кронштадт', 'кировск',\n",
              "       'деревня новое девяткино', 'посёлок металлострой',\n",
              "       'посёлок городского типа лебяжье',\n",
              "       'посёлок городского типа сиверский', 'поселок молодцово',\n",
              "       'поселок городского типа кузьмоловский',\n",
              "       'садовое товарищество новая ропша', 'павловск',\n",
              "       'деревня пикколово', 'всеволожск', 'волхов', 'кингисепп',\n",
              "       'приозерск', 'сестрорецк', 'деревня куттузи', 'посёлок аннино',\n",
              "       'поселок городского типа ефимовский', 'посёлок плодовое',\n",
              "       'деревня заклинье', 'поселок торковичи', 'поселок первомайское',\n",
              "       'красное село', 'посёлок понтонный', 'сясьстрой', 'деревня старая',\n",
              "       'деревня лесколово', 'посёлок новый свет', 'сланцы',\n",
              "       'село путилово', 'ивангород', 'мурино', 'шлиссельбург',\n",
              "       'никольское', 'зеленогорск', 'сосновый бор', 'поселок новый свет',\n",
              "       'деревня оржицы', 'деревня кальтино', 'кудрово',\n",
              "       'поселок романовка', 'посёлок бугры', 'поселок бугры',\n",
              "       'поселок городского типа рощино', 'кириши', 'луга', 'волосово',\n",
              "       'отрадное', 'село павлово', 'поселок оредеж', 'село копорье',\n",
              "       'посёлок городского типа красный бор', 'посёлок молодёжное',\n",
              "       'тихвин', 'посёлок победа', 'деревня нурма',\n",
              "       'поселок городского типа синявино', 'тосно',\n",
              "       'посёлок городского типа кузьмоловский', 'посёлок стрельна',\n",
              "       'бокситогорск', 'посёлок александровская', 'деревня лопухинка',\n",
              "       'пикалёво', 'поселок терволово',\n",
              "       'поселок городского типа советский', 'подпорожье',\n",
              "       'посёлок петровское', 'посёлок городского типа токсово',\n",
              "       'поселок сельцо', 'посёлок городского типа вырица',\n",
              "       'деревня кипень', 'деревня келози', 'деревня вартемяги',\n",
              "       'посёлок тельмана', 'поселок севастьяново',\n",
              "       'городской поселок большая ижора', 'городской посёлок павлово',\n",
              "       'деревня агалатово', 'посёлок новогорелово',\n",
              "       'городской посёлок лесогорский', 'деревня лаголово',\n",
              "       'поселок цвелодубово', 'поселок городского типа рахья',\n",
              "       'поселок городского типа вырица', 'деревня белогорка',\n",
              "       'поселок заводской', 'городской посёлок новоселье',\n",
              "       'деревня большие колпаны', 'деревня горбунки', 'деревня батово',\n",
              "       'деревня заневка', 'деревня иссад', 'приморск',\n",
              "       'городской посёлок фёдоровское', 'деревня мистолово',\n",
              "       'новая ладога', 'поселок зимитицы', 'поселок барышево',\n",
              "       'деревня разметелево', 'поселок городского типа имени свердлова',\n",
              "       'деревня пеники', 'поселок рябово', 'деревня пудомяги',\n",
              "       'поселок станции корнево', 'деревня низино', 'деревня бегуницы',\n",
              "       'посёлок поляны', 'городской посёлок мга', 'поселок елизаветино',\n",
              "       'посёлок городского типа кузнечное', 'деревня колтуши',\n",
              "       'поселок запорожское', 'посёлок городского типа рощино',\n",
              "       'деревня гостилицы', 'деревня малое карлино',\n",
              "       'посёлок мичуринское', 'посёлок городского типа имени морозова',\n",
              "       'посёлок песочный', 'посёлок сосново', 'деревня аро',\n",
              "       'поселок ильичёво', 'посёлок городского типа тайцы',\n",
              "       'деревня малое верево', 'деревня извара', 'поселок станции вещево',\n",
              "       'село паша', 'деревня калитино',\n",
              "       'посёлок городского типа ульяновка', 'деревня чудской бор',\n",
              "       'поселок городского типа дубровка', 'деревня мины',\n",
              "       'поселок войсковицы', 'посёлок городского типа имени свердлова',\n",
              "       'деревня коркино', 'посёлок ропша',\n",
              "       'поселок городского типа приладожский', 'посёлок щеглово',\n",
              "       'посёлок гаврилово', 'лодейное поле', 'деревня рабитицы',\n",
              "       'поселок городского типа никольский', 'деревня кузьмолово',\n",
              "       'деревня малые колпаны', 'поселок тельмана',\n",
              "       'посёлок петро-славянка', 'городской посёлок назия',\n",
              "       'посёлок репино', 'посёлок ильичёво', 'поселок углово',\n",
              "       'поселок старая малукса', 'садовое товарищество рахья',\n",
              "       'поселок аннино', 'поселок победа', 'деревня меньково',\n",
              "       'деревня старые бегуницы', 'посёлок сапёрный', 'поселок семрино',\n",
              "       'поселок гаврилово', 'поселок глажево', 'поселок кобринское',\n",
              "       'деревня гарболово', 'деревня юкки',\n",
              "       'поселок станции приветнинское', 'деревня мануйлово',\n",
              "       'деревня пчева', 'поселок поляны', 'поселок цвылёво',\n",
              "       'поселок мельниково', 'посёлок пудость', 'посёлок усть-луга',\n",
              "       'светогорск', 'любань', 'поселок селезнёво',\n",
              "       'поселок городского типа рябово', 'каменногорск', 'деревня кривко',\n",
              "       'поселок глебычево', 'деревня парицы', 'поселок жилпосёлок',\n",
              "       'посёлок городского типа мга', 'городской поселок янино-1',\n",
              "       'посёлок войскорово', 'село никольское', 'посёлок терволово',\n",
              "       'поселок стеклянный', 'посёлок городского типа важины',\n",
              "       'посёлок мыза-ивановка', 'село русско-высоцкое',\n",
              "       'поселок городского типа лебяжье',\n",
              "       'поселок городского типа форносово', 'село старая ладога',\n",
              "       'поселок житково', 'городской посёлок виллози', 'деревня лампово',\n",
              "       'деревня шпаньково', 'деревня лаврики', 'посёлок сумино',\n",
              "       'посёлок возрождение', 'деревня старосиверская',\n",
              "       'посёлок кикерино', 'поселок возрождение',\n",
              "       'деревня старое хинколово', 'посёлок пригородный',\n",
              "       'посёлок торфяное', 'городской посёлок будогощь',\n",
              "       'поселок суходолье', 'поселок красная долина', 'деревня хапо-ое',\n",
              "       'поселок городского типа дружная горка', 'поселок лисий нос',\n",
              "       'деревня яльгелево', 'посёлок стеклянный', 'село рождествено',\n",
              "       'деревня старополье', 'посёлок левашово', 'деревня сяськелево',\n",
              "       'деревня камышовка',\n",
              "       'садоводческое некоммерческое товарищество лесная поляна',\n",
              "       'деревня хязельки', 'поселок жилгородок',\n",
              "       'посёлок городского типа павлово', 'деревня ялгино',\n",
              "       'поселок новый учхоз', 'городской посёлок рощино',\n",
              "       'поселок гончарово', 'поселок почап', 'посёлок сапёрное',\n",
              "       'посёлок платформа 69-й километр', 'поселок каложицы',\n",
              "       'деревня фалилеево', 'деревня пельгора',\n",
              "       'поселок городского типа лесогорский', 'деревня торошковичи',\n",
              "       'посёлок белоостров', 'посёлок алексеевка', 'поселок серебрянский',\n",
              "       'поселок лукаши', 'поселок петровское', 'деревня щеглово',\n",
              "       'поселок мичуринское', 'деревня тарасово', 'поселок кингисеппский',\n",
              "       'посёлок при железнодорожной станции вещево', 'поселок ушаки',\n",
              "       'деревня котлы', 'деревня сижно', 'деревня торосово',\n",
              "       'посёлок форт красная горка', 'деревня новолисино',\n",
              "       'посёлок станции громово', 'деревня глинка', 'посёлок мельниково',\n",
              "       'поселок городского типа назия', 'деревня старая пустошь',\n",
              "       'поселок коммунары', 'поселок починок',\n",
              "       'посёлок городского типа вознесенье', 'деревня разбегаево',\n",
              "       'посёлок городского типа рябово', 'поселок гладкое',\n",
              "       'посёлок при железнодорожной станции приветнинское',\n",
              "       'поселок тёсово-4', 'посёлок жилгородок', 'деревня бор',\n",
              "       'посёлок коробицыно', 'деревня большая вруда', 'деревня курковицы',\n",
              "       'посёлок лисий нос', 'городской посёлок советский',\n",
              "       'посёлок кобралово', 'деревня суоранда', 'поселок кобралово',\n",
              "       'поселок городского типа кондратьево',\n",
              "       'коттеджный поселок счастье', 'поселок любань', 'деревня реброво',\n",
              "       'деревня зимитицы', 'деревня тойворово', 'поселок семиозерье',\n",
              "       'поселок лесное', 'поселок совхозный', 'поселок усть-луга',\n",
              "       'посёлок ленинское', 'посёлок суйда',\n",
              "       'посёлок городского типа форносово', 'деревня нижние осельки',\n",
              "       'посёлок станции свирь', 'поселок перово', 'высоцк',\n",
              "       'поселок гарболово', 'село шум', 'поселок котельский',\n",
              "       'поселок станции лужайка', 'деревня большая пустомержа',\n",
              "       'поселок красносельское', 'деревня вахнова кара', 'деревня пижма',\n",
              "       'коттеджный поселок кивеннапа север', 'поселок коробицыно',\n",
              "       'поселок ромашки', 'посёлок перово', 'деревня каськово',\n",
              "       'деревня куровицы', 'посёлок плоское', 'поселок сумино',\n",
              "       'поселок городского типа большая ижора', 'поселок кирпичное',\n",
              "       'деревня ям-тесово', 'деревня раздолье', 'деревня терпилицы',\n",
              "       'поселок городского типа токсово', 'посёлок шугозеро',\n",
              "       'деревня ваганово', 'поселок пушное', 'садовое товарищество садко',\n",
              "       'посёлок усть-ижора', 'деревня выскатка',\n",
              "       'городской посёлок свирьстрой', 'поселок громово',\n",
              "       'деревня кисельня', 'посёлок старая малукса',\n",
              "       'деревня трубников бор', 'поселок калитино',\n",
              "       'посёлок высокоключевой', 'садовое товарищество приладожский',\n",
              "       'посёлок пансионат зелёный бор', 'деревня ненимяки',\n",
              "       'поселок пансионат зелёный бор', 'деревня снегирёвка',\n",
              "       'деревня рапполово', 'деревня пустынка', 'поселок рабитицы',\n",
              "       'деревня большой сабск', 'деревня русско', 'деревня лупполово',\n",
              "       'деревня большое рейзино', 'деревня малая романовка',\n",
              "       'поселок дружноселье', 'поселок пчевжа', 'поселок володарское',\n",
              "       'деревня нижняя', 'коттеджный посёлок лесное', 'деревня тихковицы',\n",
              "       'деревня борисова грива', 'посёлок дзержинского'], dtype=object)"
            ]
          },
          "metadata": {},
          "execution_count": 11
        }
      ]
    },
    {
      "cell_type": "code",
      "source": [
        "#  and checking the amount of items in each category\n",
        "df[\"locality_name\"].value_counts()"
      ],
      "metadata": {
        "id": "tSsisVPbsMIu",
        "outputId": "b8fc9ac4-7aad-47c5-efee-a5053fdf8efd",
        "colab": {
          "base_uri": "https://localhost:8080/"
        }
      },
      "execution_count": 12,
      "outputs": [
        {
          "output_type": "execute_result",
          "data": {
            "text/plain": [
              "санкт-петербург                    15651\n",
              "посёлок мурино                       520\n",
              "посёлок шушары                       439\n",
              "всеволожск                           398\n",
              "пушкин                               369\n",
              "                                   ...  \n",
              "поселок каложицы                       1\n",
              "посёлок платформа 69-й километр        1\n",
              "поселок почап                          1\n",
              "поселок гончарово                      1\n",
              "посёлок дзержинского                   1\n",
              "Name: locality_name, Length: 364, dtype: int64"
            ]
          },
          "metadata": {},
          "execution_count": 12
        }
      ]
    },
    {
      "cell_type": "markdown",
      "source": [
        "There are many settlements, but some of them have only 1 value. \n",
        "\n",
        "Also, from the names of the cities and towns I can see that mostly all of them are placed around Saint Petersburg. I can understand the size of the settlment from it's name: \"village\", \"settlement\", \"urban-type settlement\" and so on. Cities are recorded simply by names, without additional clarifications.\n",
        "\n",
        "In order to make it easier to analyze the data, I will leave only the names of localities and lemmatize them to divide into categories."
      ],
      "metadata": {
        "id": "gkuhldIzsbfd"
      }
    },
    {
      "cell_type": "code",
      "source": [
        "# lemmatization with categorizing function\n",
        "def lemm(liveplace):\n",
        "    lemma = ' '.join(m.lemmatize(liveplace))\n",
        "    if \"поселок город тип\" in lemma:\n",
        "        return lemma.replace(\"посёлок город тип\", '')\n",
        "    elif \"деревня\" in lemma:\n",
        "        return lemma.replace(\"деревня\", '')\n",
        "    elif \"поселок\" in lemma:\n",
        "        return lemma.replace(\"поселок\", '')\n",
        "    elif \"село\" in lemma:\n",
        "        return lemma.replace(\"село\", '')\n",
        "    elif \"товарищество\" in lemma:\n",
        "         return lemma.replace(\"товарищество\", '')\n",
        "    else:\n",
        "        pass\n",
        "    return lemma\n",
        "\n",
        "# applying to the df and add the result to locality_name_lem\n",
        "df[\"locality_name_lem\"] = df[\"locality_name\"].apply(lemm)\n"
      ],
      "metadata": {
        "id": "bnPjtT4OtBc9"
      },
      "execution_count": 13,
      "outputs": []
    },
    {
      "cell_type": "code",
      "source": [
        "# and checking the results\n",
        "df[\"locality_name_lem\"].value_counts()"
      ],
      "metadata": {
        "id": "NsHZFjZyuKCd",
        "outputId": "db8dda82-716c-4845-831f-37f932d21ffb",
        "colab": {
          "base_uri": "https://localhost:8080/"
        }
      },
      "execution_count": 14,
      "outputs": [
        {
          "output_type": "execute_result",
          "data": {
            "text/plain": [
              "санкт-петербург \\n                     15651\n",
              "   муриный \\n                            552\n",
              "   шушары \\n                             439\n",
              "всеволожск \\n                            398\n",
              "пушкин \\n                                369\n",
              "                                       ...  \n",
              "   пельгора \\n                             1\n",
              "   каложица \\n                             1\n",
              "   платформа   69 - й   километр \\n        1\n",
              "   почап \\n                                1\n",
              "   дзержинский \\n                          1\n",
              "Name: locality_name_lem, Length: 325, dtype: int64"
            ]
          },
          "metadata": {},
          "execution_count": 14
        }
      ]
    },
    {
      "cell_type": "markdown",
      "source": [
        "Now I check data by category."
      ],
      "metadata": {
        "id": "S-I2Wtggu96K"
      }
    },
    {
      "cell_type": "code",
      "source": [
        "# data check by category\n",
        "df.groupby(\"locality_name_lem\")[\"cityCenters_nearest\"].agg([min, max, sum])"
      ],
      "metadata": {
        "id": "kWcYzlRJvBSF",
        "outputId": "4ae802a4-3dc9-424e-ed56-5294ca2956ad",
        "colab": {
          "base_uri": "https://localhost:8080/",
          "height": 455
        }
      },
      "execution_count": 15,
      "outputs": [
        {
          "output_type": "execute_result",
          "data": {
            "text/plain": [
              "                           min      max      sum\n",
              "locality_name_lem                               \n",
              "   агалатово \\n            NaN      NaN      0.0\n",
              "   александровский \\n  27352.0  27584.0  54936.0\n",
              "   алексеевка \\n           NaN      NaN      0.0\n",
              "   аннино \\n               NaN      NaN      0.0\n",
              "   аро \\n                  NaN      NaN      0.0\n",
              "...                        ...      ...      ...\n",
              "сосновый   бор \\n          NaN      NaN      0.0\n",
              "сясьстрой \\n               NaN      NaN      0.0\n",
              "тихвин \\n                  NaN      NaN      0.0\n",
              "тосно \\n                   NaN      NaN      0.0\n",
              "шлиссельбург \\n            NaN      NaN      0.0\n",
              "\n",
              "[325 rows x 3 columns]"
            ],
            "text/html": [
              "\n",
              "  <div id=\"df-308b7cc6-33a8-42bf-86c5-ead688661da1\">\n",
              "    <div class=\"colab-df-container\">\n",
              "      <div>\n",
              "<style scoped>\n",
              "    .dataframe tbody tr th:only-of-type {\n",
              "        vertical-align: middle;\n",
              "    }\n",
              "\n",
              "    .dataframe tbody tr th {\n",
              "        vertical-align: top;\n",
              "    }\n",
              "\n",
              "    .dataframe thead th {\n",
              "        text-align: right;\n",
              "    }\n",
              "</style>\n",
              "<table border=\"1\" class=\"dataframe\">\n",
              "  <thead>\n",
              "    <tr style=\"text-align: right;\">\n",
              "      <th></th>\n",
              "      <th>min</th>\n",
              "      <th>max</th>\n",
              "      <th>sum</th>\n",
              "    </tr>\n",
              "    <tr>\n",
              "      <th>locality_name_lem</th>\n",
              "      <th></th>\n",
              "      <th></th>\n",
              "      <th></th>\n",
              "    </tr>\n",
              "  </thead>\n",
              "  <tbody>\n",
              "    <tr>\n",
              "      <th>агалатово \\n</th>\n",
              "      <td>NaN</td>\n",
              "      <td>NaN</td>\n",
              "      <td>0.0</td>\n",
              "    </tr>\n",
              "    <tr>\n",
              "      <th>александровский \\n</th>\n",
              "      <td>27352.0</td>\n",
              "      <td>27584.0</td>\n",
              "      <td>54936.0</td>\n",
              "    </tr>\n",
              "    <tr>\n",
              "      <th>алексеевка \\n</th>\n",
              "      <td>NaN</td>\n",
              "      <td>NaN</td>\n",
              "      <td>0.0</td>\n",
              "    </tr>\n",
              "    <tr>\n",
              "      <th>аннино \\n</th>\n",
              "      <td>NaN</td>\n",
              "      <td>NaN</td>\n",
              "      <td>0.0</td>\n",
              "    </tr>\n",
              "    <tr>\n",
              "      <th>аро \\n</th>\n",
              "      <td>NaN</td>\n",
              "      <td>NaN</td>\n",
              "      <td>0.0</td>\n",
              "    </tr>\n",
              "    <tr>\n",
              "      <th>...</th>\n",
              "      <td>...</td>\n",
              "      <td>...</td>\n",
              "      <td>...</td>\n",
              "    </tr>\n",
              "    <tr>\n",
              "      <th>сосновый   бор \\n</th>\n",
              "      <td>NaN</td>\n",
              "      <td>NaN</td>\n",
              "      <td>0.0</td>\n",
              "    </tr>\n",
              "    <tr>\n",
              "      <th>сясьстрой \\n</th>\n",
              "      <td>NaN</td>\n",
              "      <td>NaN</td>\n",
              "      <td>0.0</td>\n",
              "    </tr>\n",
              "    <tr>\n",
              "      <th>тихвин \\n</th>\n",
              "      <td>NaN</td>\n",
              "      <td>NaN</td>\n",
              "      <td>0.0</td>\n",
              "    </tr>\n",
              "    <tr>\n",
              "      <th>тосно \\n</th>\n",
              "      <td>NaN</td>\n",
              "      <td>NaN</td>\n",
              "      <td>0.0</td>\n",
              "    </tr>\n",
              "    <tr>\n",
              "      <th>шлиссельбург \\n</th>\n",
              "      <td>NaN</td>\n",
              "      <td>NaN</td>\n",
              "      <td>0.0</td>\n",
              "    </tr>\n",
              "  </tbody>\n",
              "</table>\n",
              "<p>325 rows × 3 columns</p>\n",
              "</div>\n",
              "      <button class=\"colab-df-convert\" onclick=\"convertToInteractive('df-308b7cc6-33a8-42bf-86c5-ead688661da1')\"\n",
              "              title=\"Convert this dataframe to an interactive table.\"\n",
              "              style=\"display:none;\">\n",
              "        \n",
              "  <svg xmlns=\"http://www.w3.org/2000/svg\" height=\"24px\"viewBox=\"0 0 24 24\"\n",
              "       width=\"24px\">\n",
              "    <path d=\"M0 0h24v24H0V0z\" fill=\"none\"/>\n",
              "    <path d=\"M18.56 5.44l.94 2.06.94-2.06 2.06-.94-2.06-.94-.94-2.06-.94 2.06-2.06.94zm-11 1L8.5 8.5l.94-2.06 2.06-.94-2.06-.94L8.5 2.5l-.94 2.06-2.06.94zm10 10l.94 2.06.94-2.06 2.06-.94-2.06-.94-.94-2.06-.94 2.06-2.06.94z\"/><path d=\"M17.41 7.96l-1.37-1.37c-.4-.4-.92-.59-1.43-.59-.52 0-1.04.2-1.43.59L10.3 9.45l-7.72 7.72c-.78.78-.78 2.05 0 2.83L4 21.41c.39.39.9.59 1.41.59.51 0 1.02-.2 1.41-.59l7.78-7.78 2.81-2.81c.8-.78.8-2.07 0-2.86zM5.41 20L4 18.59l7.72-7.72 1.47 1.35L5.41 20z\"/>\n",
              "  </svg>\n",
              "      </button>\n",
              "      \n",
              "  <style>\n",
              "    .colab-df-container {\n",
              "      display:flex;\n",
              "      flex-wrap:wrap;\n",
              "      gap: 12px;\n",
              "    }\n",
              "\n",
              "    .colab-df-convert {\n",
              "      background-color: #E8F0FE;\n",
              "      border: none;\n",
              "      border-radius: 50%;\n",
              "      cursor: pointer;\n",
              "      display: none;\n",
              "      fill: #1967D2;\n",
              "      height: 32px;\n",
              "      padding: 0 0 0 0;\n",
              "      width: 32px;\n",
              "    }\n",
              "\n",
              "    .colab-df-convert:hover {\n",
              "      background-color: #E2EBFA;\n",
              "      box-shadow: 0px 1px 2px rgba(60, 64, 67, 0.3), 0px 1px 3px 1px rgba(60, 64, 67, 0.15);\n",
              "      fill: #174EA6;\n",
              "    }\n",
              "\n",
              "    [theme=dark] .colab-df-convert {\n",
              "      background-color: #3B4455;\n",
              "      fill: #D2E3FC;\n",
              "    }\n",
              "\n",
              "    [theme=dark] .colab-df-convert:hover {\n",
              "      background-color: #434B5C;\n",
              "      box-shadow: 0px 1px 3px 1px rgba(0, 0, 0, 0.15);\n",
              "      filter: drop-shadow(0px 1px 2px rgba(0, 0, 0, 0.3));\n",
              "      fill: #FFFFFF;\n",
              "    }\n",
              "  </style>\n",
              "\n",
              "      <script>\n",
              "        const buttonEl =\n",
              "          document.querySelector('#df-308b7cc6-33a8-42bf-86c5-ead688661da1 button.colab-df-convert');\n",
              "        buttonEl.style.display =\n",
              "          google.colab.kernel.accessAllowed ? 'block' : 'none';\n",
              "\n",
              "        async function convertToInteractive(key) {\n",
              "          const element = document.querySelector('#df-308b7cc6-33a8-42bf-86c5-ead688661da1');\n",
              "          const dataTable =\n",
              "            await google.colab.kernel.invokeFunction('convertToInteractive',\n",
              "                                                     [key], {});\n",
              "          if (!dataTable) return;\n",
              "\n",
              "          const docLinkHtml = 'Like what you see? Visit the ' +\n",
              "            '<a target=\"_blank\" href=https://colab.research.google.com/notebooks/data_table.ipynb>data table notebook</a>'\n",
              "            + ' to learn more about interactive tables.';\n",
              "          element.innerHTML = '';\n",
              "          dataTable['output_type'] = 'display_data';\n",
              "          await google.colab.output.renderOutput(dataTable, element);\n",
              "          const docLink = document.createElement('div');\n",
              "          docLink.innerHTML = docLinkHtml;\n",
              "          element.appendChild(docLink);\n",
              "        }\n",
              "      </script>\n",
              "    </div>\n",
              "  </div>\n",
              "  "
            ]
          },
          "metadata": {},
          "execution_count": 15
        }
      ]
    },
    {
      "cell_type": "markdown",
      "source": [
        "From the table above I can see, that the gaps are related with the settlments that are not big enough to have such a parameter as `distance` from the center. In large cities, such as St. Petersburg, Pavlovsk, etc - the `distance` from the center is indicated.\n",
        "\n",
        "The `sum` column shows that in some categories there is no data for the entire category, which means I have no values to calculate the median.\n",
        "\n",
        "Filling in the median across the entire column does not seem to be the right solution because in some cases cases the median may be bigger than the settlement diameter.\n",
        "makes 1.3% of the total number of rows. Since the percentage is small, I delete the lines with gaps so that it will be more convenient to analyze the data in the future."
      ],
      "metadata": {
        "id": "pE4FOeLcvTlv"
      }
    },
    {
      "cell_type": "code",
      "source": [
        "# deleting the null values\n",
        "df.dropna(subset=[\"cityCenters_nearest\"], inplace=True)\n",
        "\n",
        "#checking the duplicates\n",
        "print(\"The number of duplicates is:\", df[\"cityCenters_nearest\"].isnull().sum())"
      ],
      "metadata": {
        "id": "XaZcmARnvDqN",
        "outputId": "bbcc3817-caa1-49db-ac93-e26ff3027274",
        "colab": {
          "base_uri": "https://localhost:8080/"
        }
      },
      "execution_count": 16,
      "outputs": [
        {
          "output_type": "stream",
          "name": "stdout",
          "text": [
            "The number of duplicates is: 0\n"
          ]
        }
      ]
    },
    {
      "cell_type": "markdown",
      "source": [
        "**Ad placement period** (`days_exposition`) - the reason for gaps in this column are still active ads or ads that have been published for less than a day. \n",
        "\n",
        "I can't fill such gaps with zeros or another value, but their presence may affect the analysis, so I delete them from the table."
      ],
      "metadata": {
        "id": "A1nrO1m4kje3"
      }
    },
    {
      "cell_type": "code",
      "source": [
        "# deleting the null values\n",
        "df['days_exposition'] = df['days_exposition'].dropna()"
      ],
      "metadata": {
        "id": "DJvPgOqxvdrt"
      },
      "execution_count": 17,
      "outputs": []
    },
    {
      "cell_type": "markdown",
      "source": [
        "****Living area** (`living_area`) is the total area of rooms intended for living. \n",
        "\n",
        "To the gaps in this column, I will ckeck how the living area of other apartments (in the columns without gaps) correlates with the number of rooms, and fill in the gaps with the median."
      ],
      "metadata": {
        "id": "B_VrwFYNvpzF"
      }
    },
    {
      "cell_type": "code",
      "source": [
        "# checking the number o f rooms\n",
        "df['rooms'].value_counts()"
      ],
      "metadata": {
        "id": "BNsow3kXvmDQ",
        "outputId": "31d409b8-f320-4109-a6fb-a4eb6313eb5e",
        "colab": {
          "base_uri": "https://localhost:8080/"
        }
      },
      "execution_count": 18,
      "outputs": [
        {
          "output_type": "execute_result",
          "data": {
            "text/plain": [
              "2     5888\n",
              "1     5852\n",
              "3     4667\n",
              "4     1051\n",
              "5      300\n",
              "0      117\n",
              "6      101\n",
              "7       57\n",
              "8       12\n",
              "9        8\n",
              "10       3\n",
              "11       2\n",
              "14       2\n",
              "15       1\n",
              "19       1\n",
              "16       1\n",
              "12       1\n",
              "Name: rooms, dtype: int64"
            ]
          },
          "metadata": {},
          "execution_count": 18
        }
      ]
    },
    {
      "cell_type": "markdown",
      "source": [
        "So, 0.2% of rooms are 0, and 2% (in total) are rooms with 5+ rooms. \n",
        "\n",
        "It looks like some kind of mistake occured when data was collected. For example, 0 might be an idicator for studio apratmens, where the  where the living room is combined with the kitchen and, on the other hand, someone counted toilet + kitchen + etc as \"rooms\" therefore we have a lot of 5+ rooms apts. Or, maybe, someone is selling a whole multi-storey house.\n",
        "\n",
        "The amount of such data is not statisticaly significant and can be treated as outliers. I am removing this data not to make the further analysis difficult. \n"
      ],
      "metadata": {
        "id": "ACSY9jnKwZfd"
      }
    },
    {
      "cell_type": "code",
      "source": [
        "# removing all lines with rooms more than 5\n",
        "df = df.drop(df[df.rooms >= 5].index)\n",
        "\n",
        "# removing all lines with rooms  0\n",
        "df = df.drop(df[df.rooms == 0].index)\n",
        "\n",
        "# replacing with median by 'rooms' category\n",
        "df['living_area']=df.groupby('rooms')['living_area'].transform(lambda x: x.fillna(x.median()))\n",
        "\n",
        "# updating data type to ('int')\n",
        "df['living_area'] = df['living_area'].astype('int')"
      ],
      "metadata": {
        "id": "jggLbRuozNHF"
      },
      "execution_count": 20,
      "outputs": []
    },
    {
      "cell_type": "code",
      "source": [
        ""
      ],
      "metadata": {
        "id": "VCTjg_rGzPvk"
      },
      "execution_count": null,
      "outputs": []
    }
  ],
  "metadata": {
    "language_info": {
      "name": "python"
    },
    "orig_nbformat": 4,
    "colab": {
      "name": "real_estate.ipynb",
      "provenance": [],
      "toc_visible": true
    },
    "kernelspec": {
      "name": "python3",
      "display_name": "Python 3"
    }
  },
  "nbformat": 4,
  "nbformat_minor": 0
}