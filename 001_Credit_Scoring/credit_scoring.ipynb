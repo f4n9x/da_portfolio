{
  "cells": [
    {
      "cell_type": "markdown",
      "metadata": {
        "id": "B5NHDoc1nzSA"
      },
      "source": [
        "## Research of Borrowers' Reliability\n",
        "\n",
        "This is a simple project mostly focused on data preparation and manipulation. Here I want to get some simple answers from the dataset that I have.\n",
        "\n",
        "The customer is the bank's credit department. It is necessary to understand whether the marital status and the number of children of the client affect the fact of payment of the loan on time. Lets assume, that the data provided by the bank is the statistics on the solvency of customers.\n",
        "\n",
        "The results of the study will be taken into account when building a credit scoring model — a special system that evaluates the ability of a potential borrower to repay a loan to a bank.\n",
        "\n",
        "The table contains data on the bank's clients: marital status, debt, education, income, gender. The data is sorted by columns and has the following types: text, number, or floating-point number (real data type).\n",
        "\n",
        "Всего в таблице двенадцать столбцов:\n",
        "\n",
        "* `children` - the number of children in the family; \n",
        "* `days_employed` - total work experience in days;\n",
        "* `dob_years` -  the client's age in years;\n",
        "* `education` - the level of education of the client;\n",
        "* `education_id` - id of the level of education;\n",
        "* `family_status` - marital status;\n",
        "* `family_status_id` -  id of the marital status;\n",
        "* `gender` - gender of the client;\n",
        "* `income_type` - type of employment;\n",
        "* `debt` - whether there was a debt on the repayment of loans;\n",
        "* `total_income` - total profit;\n",
        "* `purpose` - purpose of the loan;\n",
        "\n",
        "Research of Borrowers' Reliability study includes the following stages :\n",
        "\n",
        "1. Data cleanup: search for missing data, restore data, delete duplicates.\n",
        "2. Data lemmatization.\n",
        "3. Data categorization.\n",
        "4. Conclusions for each section separately and one general conclusion.."
      ]
    },
    {
      "cell_type": "markdown",
      "metadata": {
        "id": "coT921ninzSC"
      },
      "source": [
        "## Data investigation"
      ]
    },
    {
      "source": [
        "First thing to do is to check the general look and feel of the data we have."
      ],
      "cell_type": "markdown",
      "metadata": {
        "id": "7Nvavf6tnzSD"
      }
    },
    {
      "cell_type": "code",
      "source": [
        "from google.colab import drive\n",
        "drive.mount('/content/drive')"
      ],
      "metadata": {
        "id": "2N5kdIVuodSv",
        "outputId": "828b7043-d599-4741-8e79-fca867412e12",
        "colab": {
          "base_uri": "https://localhost:8080/"
        }
      },
      "execution_count": 3,
      "outputs": [
        {
          "output_type": "stream",
          "name": "stdout",
          "text": [
            "Drive already mounted at /content/drive; to attempt to forcibly remount, call drive.mount(\"/content/drive\", force_remount=True).\n"
          ]
        }
      ]
    },
    {
      "cell_type": "markdown",
      "source": [
        ""
      ],
      "metadata": {
        "id": "rIJJL4CBq08W"
      }
    },
    {
      "cell_type": "code",
      "execution_count": 4,
      "metadata": {
        "id": "VbsZjklEnzSD",
        "outputId": "f3000097-936b-4a22-ca8b-55bafbef41bb",
        "colab": {
          "base_uri": "https://localhost:8080/",
          "height": 1000
        }
      },
      "outputs": [
        {
          "output_type": "display_data",
          "data": {
            "text/html": [
              "\n",
              "  <div id=\"df-ef721214-ee6f-4266-b5a9-d05765f67ca3\">\n",
              "    <div class=\"colab-df-container\">\n",
              "      <div>\n",
              "<style scoped>\n",
              "    .dataframe tbody tr th:only-of-type {\n",
              "        vertical-align: middle;\n",
              "    }\n",
              "\n",
              "    .dataframe tbody tr th {\n",
              "        vertical-align: top;\n",
              "    }\n",
              "\n",
              "    .dataframe thead th {\n",
              "        text-align: right;\n",
              "    }\n",
              "</style>\n",
              "<table border=\"1\" class=\"dataframe\">\n",
              "  <thead>\n",
              "    <tr style=\"text-align: right;\">\n",
              "      <th></th>\n",
              "      <th>children</th>\n",
              "      <th>days_employed</th>\n",
              "      <th>dob_years</th>\n",
              "      <th>education</th>\n",
              "      <th>education_id</th>\n",
              "      <th>family_status</th>\n",
              "      <th>family_status_id</th>\n",
              "      <th>gender</th>\n",
              "      <th>income_type</th>\n",
              "      <th>debt</th>\n",
              "      <th>total_income</th>\n",
              "      <th>purpose</th>\n",
              "    </tr>\n",
              "  </thead>\n",
              "  <tbody>\n",
              "    <tr>\n",
              "      <th>0</th>\n",
              "      <td>1</td>\n",
              "      <td>-8437.673028</td>\n",
              "      <td>42</td>\n",
              "      <td>высшее</td>\n",
              "      <td>0</td>\n",
              "      <td>женат / замужем</td>\n",
              "      <td>0</td>\n",
              "      <td>F</td>\n",
              "      <td>сотрудник</td>\n",
              "      <td>0</td>\n",
              "      <td>253875.639453</td>\n",
              "      <td>покупка жилья</td>\n",
              "    </tr>\n",
              "    <tr>\n",
              "      <th>1</th>\n",
              "      <td>1</td>\n",
              "      <td>-4024.803754</td>\n",
              "      <td>36</td>\n",
              "      <td>среднее</td>\n",
              "      <td>1</td>\n",
              "      <td>женат / замужем</td>\n",
              "      <td>0</td>\n",
              "      <td>F</td>\n",
              "      <td>сотрудник</td>\n",
              "      <td>0</td>\n",
              "      <td>112080.014102</td>\n",
              "      <td>приобретение автомобиля</td>\n",
              "    </tr>\n",
              "    <tr>\n",
              "      <th>2</th>\n",
              "      <td>0</td>\n",
              "      <td>-5623.422610</td>\n",
              "      <td>33</td>\n",
              "      <td>Среднее</td>\n",
              "      <td>1</td>\n",
              "      <td>женат / замужем</td>\n",
              "      <td>0</td>\n",
              "      <td>M</td>\n",
              "      <td>сотрудник</td>\n",
              "      <td>0</td>\n",
              "      <td>145885.952297</td>\n",
              "      <td>покупка жилья</td>\n",
              "    </tr>\n",
              "    <tr>\n",
              "      <th>3</th>\n",
              "      <td>3</td>\n",
              "      <td>-4124.747207</td>\n",
              "      <td>32</td>\n",
              "      <td>среднее</td>\n",
              "      <td>1</td>\n",
              "      <td>женат / замужем</td>\n",
              "      <td>0</td>\n",
              "      <td>M</td>\n",
              "      <td>сотрудник</td>\n",
              "      <td>0</td>\n",
              "      <td>267628.550329</td>\n",
              "      <td>дополнительное образование</td>\n",
              "    </tr>\n",
              "    <tr>\n",
              "      <th>4</th>\n",
              "      <td>0</td>\n",
              "      <td>340266.072047</td>\n",
              "      <td>53</td>\n",
              "      <td>среднее</td>\n",
              "      <td>1</td>\n",
              "      <td>гражданский брак</td>\n",
              "      <td>1</td>\n",
              "      <td>F</td>\n",
              "      <td>пенсионер</td>\n",
              "      <td>0</td>\n",
              "      <td>158616.077870</td>\n",
              "      <td>сыграть свадьбу</td>\n",
              "    </tr>\n",
              "    <tr>\n",
              "      <th>5</th>\n",
              "      <td>0</td>\n",
              "      <td>-926.185831</td>\n",
              "      <td>27</td>\n",
              "      <td>высшее</td>\n",
              "      <td>0</td>\n",
              "      <td>гражданский брак</td>\n",
              "      <td>1</td>\n",
              "      <td>M</td>\n",
              "      <td>компаньон</td>\n",
              "      <td>0</td>\n",
              "      <td>255763.565419</td>\n",
              "      <td>покупка жилья</td>\n",
              "    </tr>\n",
              "    <tr>\n",
              "      <th>6</th>\n",
              "      <td>0</td>\n",
              "      <td>-2879.202052</td>\n",
              "      <td>43</td>\n",
              "      <td>высшее</td>\n",
              "      <td>0</td>\n",
              "      <td>женат / замужем</td>\n",
              "      <td>0</td>\n",
              "      <td>F</td>\n",
              "      <td>компаньон</td>\n",
              "      <td>0</td>\n",
              "      <td>240525.971920</td>\n",
              "      <td>операции с жильем</td>\n",
              "    </tr>\n",
              "    <tr>\n",
              "      <th>7</th>\n",
              "      <td>0</td>\n",
              "      <td>-152.779569</td>\n",
              "      <td>50</td>\n",
              "      <td>СРЕДНЕЕ</td>\n",
              "      <td>1</td>\n",
              "      <td>женат / замужем</td>\n",
              "      <td>0</td>\n",
              "      <td>M</td>\n",
              "      <td>сотрудник</td>\n",
              "      <td>0</td>\n",
              "      <td>135823.934197</td>\n",
              "      <td>образование</td>\n",
              "    </tr>\n",
              "    <tr>\n",
              "      <th>8</th>\n",
              "      <td>2</td>\n",
              "      <td>-6929.865299</td>\n",
              "      <td>35</td>\n",
              "      <td>ВЫСШЕЕ</td>\n",
              "      <td>0</td>\n",
              "      <td>гражданский брак</td>\n",
              "      <td>1</td>\n",
              "      <td>F</td>\n",
              "      <td>сотрудник</td>\n",
              "      <td>0</td>\n",
              "      <td>95856.832424</td>\n",
              "      <td>на проведение свадьбы</td>\n",
              "    </tr>\n",
              "    <tr>\n",
              "      <th>9</th>\n",
              "      <td>0</td>\n",
              "      <td>-2188.756445</td>\n",
              "      <td>41</td>\n",
              "      <td>среднее</td>\n",
              "      <td>1</td>\n",
              "      <td>женат / замужем</td>\n",
              "      <td>0</td>\n",
              "      <td>M</td>\n",
              "      <td>сотрудник</td>\n",
              "      <td>0</td>\n",
              "      <td>144425.938277</td>\n",
              "      <td>покупка жилья для семьи</td>\n",
              "    </tr>\n",
              "  </tbody>\n",
              "</table>\n",
              "</div>\n",
              "      <button class=\"colab-df-convert\" onclick=\"convertToInteractive('df-ef721214-ee6f-4266-b5a9-d05765f67ca3')\"\n",
              "              title=\"Convert this dataframe to an interactive table.\"\n",
              "              style=\"display:none;\">\n",
              "        \n",
              "  <svg xmlns=\"http://www.w3.org/2000/svg\" height=\"24px\"viewBox=\"0 0 24 24\"\n",
              "       width=\"24px\">\n",
              "    <path d=\"M0 0h24v24H0V0z\" fill=\"none\"/>\n",
              "    <path d=\"M18.56 5.44l.94 2.06.94-2.06 2.06-.94-2.06-.94-.94-2.06-.94 2.06-2.06.94zm-11 1L8.5 8.5l.94-2.06 2.06-.94-2.06-.94L8.5 2.5l-.94 2.06-2.06.94zm10 10l.94 2.06.94-2.06 2.06-.94-2.06-.94-.94-2.06-.94 2.06-2.06.94z\"/><path d=\"M17.41 7.96l-1.37-1.37c-.4-.4-.92-.59-1.43-.59-.52 0-1.04.2-1.43.59L10.3 9.45l-7.72 7.72c-.78.78-.78 2.05 0 2.83L4 21.41c.39.39.9.59 1.41.59.51 0 1.02-.2 1.41-.59l7.78-7.78 2.81-2.81c.8-.78.8-2.07 0-2.86zM5.41 20L4 18.59l7.72-7.72 1.47 1.35L5.41 20z\"/>\n",
              "  </svg>\n",
              "      </button>\n",
              "      \n",
              "  <style>\n",
              "    .colab-df-container {\n",
              "      display:flex;\n",
              "      flex-wrap:wrap;\n",
              "      gap: 12px;\n",
              "    }\n",
              "\n",
              "    .colab-df-convert {\n",
              "      background-color: #E8F0FE;\n",
              "      border: none;\n",
              "      border-radius: 50%;\n",
              "      cursor: pointer;\n",
              "      display: none;\n",
              "      fill: #1967D2;\n",
              "      height: 32px;\n",
              "      padding: 0 0 0 0;\n",
              "      width: 32px;\n",
              "    }\n",
              "\n",
              "    .colab-df-convert:hover {\n",
              "      background-color: #E2EBFA;\n",
              "      box-shadow: 0px 1px 2px rgba(60, 64, 67, 0.3), 0px 1px 3px 1px rgba(60, 64, 67, 0.15);\n",
              "      fill: #174EA6;\n",
              "    }\n",
              "\n",
              "    [theme=dark] .colab-df-convert {\n",
              "      background-color: #3B4455;\n",
              "      fill: #D2E3FC;\n",
              "    }\n",
              "\n",
              "    [theme=dark] .colab-df-convert:hover {\n",
              "      background-color: #434B5C;\n",
              "      box-shadow: 0px 1px 3px 1px rgba(0, 0, 0, 0.15);\n",
              "      filter: drop-shadow(0px 1px 2px rgba(0, 0, 0, 0.3));\n",
              "      fill: #FFFFFF;\n",
              "    }\n",
              "  </style>\n",
              "\n",
              "      <script>\n",
              "        const buttonEl =\n",
              "          document.querySelector('#df-ef721214-ee6f-4266-b5a9-d05765f67ca3 button.colab-df-convert');\n",
              "        buttonEl.style.display =\n",
              "          google.colab.kernel.accessAllowed ? 'block' : 'none';\n",
              "\n",
              "        async function convertToInteractive(key) {\n",
              "          const element = document.querySelector('#df-ef721214-ee6f-4266-b5a9-d05765f67ca3');\n",
              "          const dataTable =\n",
              "            await google.colab.kernel.invokeFunction('convertToInteractive',\n",
              "                                                     [key], {});\n",
              "          if (!dataTable) return;\n",
              "\n",
              "          const docLinkHtml = 'Like what you see? Visit the ' +\n",
              "            '<a target=\"_blank\" href=https://colab.research.google.com/notebooks/data_table.ipynb>data table notebook</a>'\n",
              "            + ' to learn more about interactive tables.';\n",
              "          element.innerHTML = '';\n",
              "          dataTable['output_type'] = 'display_data';\n",
              "          await google.colab.output.renderOutput(dataTable, element);\n",
              "          const docLink = document.createElement('div');\n",
              "          docLink.innerHTML = docLinkHtml;\n",
              "          element.appendChild(docLink);\n",
              "        }\n",
              "      </script>\n",
              "    </div>\n",
              "  </div>\n",
              "  "
            ],
            "text/plain": [
              "   children  days_employed  ...   total_income                     purpose\n",
              "0         1   -8437.673028  ...  253875.639453               покупка жилья\n",
              "1         1   -4024.803754  ...  112080.014102     приобретение автомобиля\n",
              "2         0   -5623.422610  ...  145885.952297               покупка жилья\n",
              "3         3   -4124.747207  ...  267628.550329  дополнительное образование\n",
              "4         0  340266.072047  ...  158616.077870             сыграть свадьбу\n",
              "5         0    -926.185831  ...  255763.565419               покупка жилья\n",
              "6         0   -2879.202052  ...  240525.971920           операции с жильем\n",
              "7         0    -152.779569  ...  135823.934197                 образование\n",
              "8         2   -6929.865299  ...   95856.832424       на проведение свадьбы\n",
              "9         0   -2188.756445  ...  144425.938277     покупка жилья для семьи\n",
              "\n",
              "[10 rows x 12 columns]"
            ]
          },
          "metadata": {}
        },
        {
          "output_type": "stream",
          "name": "stdout",
          "text": [
            "<class 'pandas.core.frame.DataFrame'>\n",
            "RangeIndex: 21525 entries, 0 to 21524\n",
            "Data columns (total 12 columns):\n",
            " #   Column            Non-Null Count  Dtype  \n",
            "---  ------            --------------  -----  \n",
            " 0   children          21525 non-null  int64  \n",
            " 1   days_employed     19351 non-null  float64\n",
            " 2   dob_years         21525 non-null  int64  \n",
            " 3   education         21525 non-null  object \n",
            " 4   education_id      21525 non-null  int64  \n",
            " 5   family_status     21525 non-null  object \n",
            " 6   family_status_id  21525 non-null  int64  \n",
            " 7   gender            21525 non-null  object \n",
            " 8   income_type       21525 non-null  object \n",
            " 9   debt              21525 non-null  int64  \n",
            " 10  total_income      19351 non-null  float64\n",
            " 11  purpose           21525 non-null  object \n",
            "dtypes: float64(2), int64(5), object(5)\n",
            "memory usage: 2.0+ MB\n"
          ]
        },
        {
          "output_type": "display_data",
          "data": {
            "text/plain": [
              "None"
            ]
          },
          "metadata": {}
        },
        {
          "output_type": "display_data",
          "data": {
            "text/html": [
              "\n",
              "  <div id=\"df-d5f9359b-b60b-4ef3-ab75-5cf802aa5eb1\">\n",
              "    <div class=\"colab-df-container\">\n",
              "      <div>\n",
              "<style scoped>\n",
              "    .dataframe tbody tr th:only-of-type {\n",
              "        vertical-align: middle;\n",
              "    }\n",
              "\n",
              "    .dataframe tbody tr th {\n",
              "        vertical-align: top;\n",
              "    }\n",
              "\n",
              "    .dataframe thead th {\n",
              "        text-align: right;\n",
              "    }\n",
              "</style>\n",
              "<table border=\"1\" class=\"dataframe\">\n",
              "  <thead>\n",
              "    <tr style=\"text-align: right;\">\n",
              "      <th></th>\n",
              "      <th>children</th>\n",
              "      <th>days_employed</th>\n",
              "      <th>dob_years</th>\n",
              "      <th>education_id</th>\n",
              "      <th>family_status_id</th>\n",
              "      <th>debt</th>\n",
              "      <th>total_income</th>\n",
              "    </tr>\n",
              "  </thead>\n",
              "  <tbody>\n",
              "    <tr>\n",
              "      <th>count</th>\n",
              "      <td>21525.000000</td>\n",
              "      <td>19351.000000</td>\n",
              "      <td>21525.000000</td>\n",
              "      <td>21525.000000</td>\n",
              "      <td>21525.000000</td>\n",
              "      <td>21525.000000</td>\n",
              "      <td>1.935100e+04</td>\n",
              "    </tr>\n",
              "    <tr>\n",
              "      <th>mean</th>\n",
              "      <td>0.538908</td>\n",
              "      <td>63046.497661</td>\n",
              "      <td>43.293380</td>\n",
              "      <td>0.817236</td>\n",
              "      <td>0.972544</td>\n",
              "      <td>0.080883</td>\n",
              "      <td>1.674223e+05</td>\n",
              "    </tr>\n",
              "    <tr>\n",
              "      <th>std</th>\n",
              "      <td>1.381587</td>\n",
              "      <td>140827.311974</td>\n",
              "      <td>12.574584</td>\n",
              "      <td>0.548138</td>\n",
              "      <td>1.420324</td>\n",
              "      <td>0.272661</td>\n",
              "      <td>1.029716e+05</td>\n",
              "    </tr>\n",
              "    <tr>\n",
              "      <th>min</th>\n",
              "      <td>-1.000000</td>\n",
              "      <td>-18388.949901</td>\n",
              "      <td>0.000000</td>\n",
              "      <td>0.000000</td>\n",
              "      <td>0.000000</td>\n",
              "      <td>0.000000</td>\n",
              "      <td>2.066726e+04</td>\n",
              "    </tr>\n",
              "    <tr>\n",
              "      <th>25%</th>\n",
              "      <td>0.000000</td>\n",
              "      <td>-2747.423625</td>\n",
              "      <td>33.000000</td>\n",
              "      <td>1.000000</td>\n",
              "      <td>0.000000</td>\n",
              "      <td>0.000000</td>\n",
              "      <td>1.030532e+05</td>\n",
              "    </tr>\n",
              "    <tr>\n",
              "      <th>50%</th>\n",
              "      <td>0.000000</td>\n",
              "      <td>-1203.369529</td>\n",
              "      <td>42.000000</td>\n",
              "      <td>1.000000</td>\n",
              "      <td>0.000000</td>\n",
              "      <td>0.000000</td>\n",
              "      <td>1.450179e+05</td>\n",
              "    </tr>\n",
              "    <tr>\n",
              "      <th>75%</th>\n",
              "      <td>1.000000</td>\n",
              "      <td>-291.095954</td>\n",
              "      <td>53.000000</td>\n",
              "      <td>1.000000</td>\n",
              "      <td>1.000000</td>\n",
              "      <td>0.000000</td>\n",
              "      <td>2.034351e+05</td>\n",
              "    </tr>\n",
              "    <tr>\n",
              "      <th>max</th>\n",
              "      <td>20.000000</td>\n",
              "      <td>401755.400475</td>\n",
              "      <td>75.000000</td>\n",
              "      <td>4.000000</td>\n",
              "      <td>4.000000</td>\n",
              "      <td>1.000000</td>\n",
              "      <td>2.265604e+06</td>\n",
              "    </tr>\n",
              "  </tbody>\n",
              "</table>\n",
              "</div>\n",
              "      <button class=\"colab-df-convert\" onclick=\"convertToInteractive('df-d5f9359b-b60b-4ef3-ab75-5cf802aa5eb1')\"\n",
              "              title=\"Convert this dataframe to an interactive table.\"\n",
              "              style=\"display:none;\">\n",
              "        \n",
              "  <svg xmlns=\"http://www.w3.org/2000/svg\" height=\"24px\"viewBox=\"0 0 24 24\"\n",
              "       width=\"24px\">\n",
              "    <path d=\"M0 0h24v24H0V0z\" fill=\"none\"/>\n",
              "    <path d=\"M18.56 5.44l.94 2.06.94-2.06 2.06-.94-2.06-.94-.94-2.06-.94 2.06-2.06.94zm-11 1L8.5 8.5l.94-2.06 2.06-.94-2.06-.94L8.5 2.5l-.94 2.06-2.06.94zm10 10l.94 2.06.94-2.06 2.06-.94-2.06-.94-.94-2.06-.94 2.06-2.06.94z\"/><path d=\"M17.41 7.96l-1.37-1.37c-.4-.4-.92-.59-1.43-.59-.52 0-1.04.2-1.43.59L10.3 9.45l-7.72 7.72c-.78.78-.78 2.05 0 2.83L4 21.41c.39.39.9.59 1.41.59.51 0 1.02-.2 1.41-.59l7.78-7.78 2.81-2.81c.8-.78.8-2.07 0-2.86zM5.41 20L4 18.59l7.72-7.72 1.47 1.35L5.41 20z\"/>\n",
              "  </svg>\n",
              "      </button>\n",
              "      \n",
              "  <style>\n",
              "    .colab-df-container {\n",
              "      display:flex;\n",
              "      flex-wrap:wrap;\n",
              "      gap: 12px;\n",
              "    }\n",
              "\n",
              "    .colab-df-convert {\n",
              "      background-color: #E8F0FE;\n",
              "      border: none;\n",
              "      border-radius: 50%;\n",
              "      cursor: pointer;\n",
              "      display: none;\n",
              "      fill: #1967D2;\n",
              "      height: 32px;\n",
              "      padding: 0 0 0 0;\n",
              "      width: 32px;\n",
              "    }\n",
              "\n",
              "    .colab-df-convert:hover {\n",
              "      background-color: #E2EBFA;\n",
              "      box-shadow: 0px 1px 2px rgba(60, 64, 67, 0.3), 0px 1px 3px 1px rgba(60, 64, 67, 0.15);\n",
              "      fill: #174EA6;\n",
              "    }\n",
              "\n",
              "    [theme=dark] .colab-df-convert {\n",
              "      background-color: #3B4455;\n",
              "      fill: #D2E3FC;\n",
              "    }\n",
              "\n",
              "    [theme=dark] .colab-df-convert:hover {\n",
              "      background-color: #434B5C;\n",
              "      box-shadow: 0px 1px 3px 1px rgba(0, 0, 0, 0.15);\n",
              "      filter: drop-shadow(0px 1px 2px rgba(0, 0, 0, 0.3));\n",
              "      fill: #FFFFFF;\n",
              "    }\n",
              "  </style>\n",
              "\n",
              "      <script>\n",
              "        const buttonEl =\n",
              "          document.querySelector('#df-d5f9359b-b60b-4ef3-ab75-5cf802aa5eb1 button.colab-df-convert');\n",
              "        buttonEl.style.display =\n",
              "          google.colab.kernel.accessAllowed ? 'block' : 'none';\n",
              "\n",
              "        async function convertToInteractive(key) {\n",
              "          const element = document.querySelector('#df-d5f9359b-b60b-4ef3-ab75-5cf802aa5eb1');\n",
              "          const dataTable =\n",
              "            await google.colab.kernel.invokeFunction('convertToInteractive',\n",
              "                                                     [key], {});\n",
              "          if (!dataTable) return;\n",
              "\n",
              "          const docLinkHtml = 'Like what you see? Visit the ' +\n",
              "            '<a target=\"_blank\" href=https://colab.research.google.com/notebooks/data_table.ipynb>data table notebook</a>'\n",
              "            + ' to learn more about interactive tables.';\n",
              "          element.innerHTML = '';\n",
              "          dataTable['output_type'] = 'display_data';\n",
              "          await google.colab.output.renderOutput(dataTable, element);\n",
              "          const docLink = document.createElement('div');\n",
              "          docLink.innerHTML = docLinkHtml;\n",
              "          element.appendChild(docLink);\n",
              "        }\n",
              "      </script>\n",
              "    </div>\n",
              "  </div>\n",
              "  "
            ],
            "text/plain": [
              "           children  days_employed  ...          debt  total_income\n",
              "count  21525.000000   19351.000000  ...  21525.000000  1.935100e+04\n",
              "mean       0.538908   63046.497661  ...      0.080883  1.674223e+05\n",
              "std        1.381587  140827.311974  ...      0.272661  1.029716e+05\n",
              "min       -1.000000  -18388.949901  ...      0.000000  2.066726e+04\n",
              "25%        0.000000   -2747.423625  ...      0.000000  1.030532e+05\n",
              "50%        0.000000   -1203.369529  ...      0.000000  1.450179e+05\n",
              "75%        1.000000    -291.095954  ...      0.000000  2.034351e+05\n",
              "max       20.000000  401755.400475  ...      1.000000  2.265604e+06\n",
              "\n",
              "[8 rows x 7 columns]"
            ]
          },
          "metadata": {}
        }
      ],
      "source": [
        "# libraries import\n",
        "import pandas as pd\n",
        "from pymystem3 import Mystem\n",
        "m = Mystem()\n",
        "\n",
        "# чтение данных из файла data.csv\n",
        "data = pd.read_csv(\"/content/drive/MyDrive/da_portfolio/data_credit.csv\")\n",
        "\n",
        "# looking into the table\n",
        "display(data.head(10))\n",
        "\n",
        "# general information about the dataset\n",
        "display(data.info())\n",
        "\n",
        "# statistics of the table\n",
        "display(data.describe())"
      ]
    },
    {
      "cell_type": "markdown",
      "metadata": {
        "id": "IhHj2_TRnzSK"
      },
      "source": [
        "From the general view of the table (and the statistics on the table), it is clear that not all columns contain data in the form that can be used for analysis.\n",
        "\n",
        "For example, the `days_employed` column has negative values and floating-point values, and the minimum number of children is \"-1\". In columns with text data, the text is not unified: different cases are used, and there is a probability of typos.\n",
        "\n",
        "From the general information on the table, it can be seen that not all columns have the same number of rows, and so on.\n",
        "\n",
        "\n",
        "The columns `children`, `family_status`, `total_income` and `debt` are the most important for the testing of the different assumptions, so the main effort regarding the data cleaning for further analysis will be directed to them, the remaining columns will be processed if necessary and if it is in principle possible."
      ]
    },
    {
      "cell_type": "markdown",
      "metadata": {
        "id": "aZRh9ZeCnzSL"
      },
      "source": [
        "## Data cleanup"
      ]
    },
    {
      "cell_type": "markdown",
      "metadata": {
        "id": "oTcjQo_MnzSL"
      },
      "source": [
        "Lets start with the missing information. From the general information on the table, it can be seen that not all columns have the same number of rows. This means that in some of them, the lines are missing data. These columns are the `days_employed` and `total_income ' columns.\n"
      ]
    },
    {
      "cell_type": "code",
      "execution_count": null,
      "metadata": {
        "id": "BTI8rb92nzSM",
        "outputId": "d8c92127-eab0-4fa8-b8a4-0c005252ecd1"
      },
      "outputs": [
        {
          "output_type": "execute_result",
          "data": {
            "text/plain": [
              "Index(['children', 'days_employed', 'dob_years', 'education', 'education_id',\n",
              "       'family_status', 'family_status_id', 'gender', 'income_type', 'debt',\n",
              "       'total_income', 'purpose'],\n",
              "      dtype='object')"
            ]
          },
          "metadata": {},
          "execution_count": 19
        }
      ],
      "source": [
        "# check up of the extra spaces in the name of the columns\n",
        "data.columns"
      ]
    },
    {
      "cell_type": "code",
      "execution_count": null,
      "metadata": {
        "id": "OWpLwK5onzSM",
        "outputId": "81076ace-b2a9-40b2-df20-643ba3f37f1e"
      },
      "outputs": [
        {
          "output_type": "execute_result",
          "data": {
            "text/plain": [
              "<pandas.io.formats.style.Styler at 0x1e4d09d6c40>"
            ],
            "text/html": "<style  type=\"text/css\" >\n    #T_4097f013_b73a_11eb_a086_b46bfca07f70row0_col0 {\n            background-color:  #3b4cc0;\n            color:  #f1f1f1;\n        }    #T_4097f013_b73a_11eb_a086_b46bfca07f70row1_col0 {\n            background-color:  #b40426;\n            color:  #f1f1f1;\n        }    #T_4097f013_b73a_11eb_a086_b46bfca07f70row2_col0 {\n            background-color:  #3b4cc0;\n            color:  #f1f1f1;\n        }    #T_4097f013_b73a_11eb_a086_b46bfca07f70row3_col0 {\n            background-color:  #3b4cc0;\n            color:  #f1f1f1;\n        }    #T_4097f013_b73a_11eb_a086_b46bfca07f70row4_col0 {\n            background-color:  #3b4cc0;\n            color:  #f1f1f1;\n        }    #T_4097f013_b73a_11eb_a086_b46bfca07f70row5_col0 {\n            background-color:  #3b4cc0;\n            color:  #f1f1f1;\n        }    #T_4097f013_b73a_11eb_a086_b46bfca07f70row6_col0 {\n            background-color:  #3b4cc0;\n            color:  #f1f1f1;\n        }    #T_4097f013_b73a_11eb_a086_b46bfca07f70row7_col0 {\n            background-color:  #3b4cc0;\n            color:  #f1f1f1;\n        }    #T_4097f013_b73a_11eb_a086_b46bfca07f70row8_col0 {\n            background-color:  #3b4cc0;\n            color:  #f1f1f1;\n        }    #T_4097f013_b73a_11eb_a086_b46bfca07f70row9_col0 {\n            background-color:  #3b4cc0;\n            color:  #f1f1f1;\n        }    #T_4097f013_b73a_11eb_a086_b46bfca07f70row10_col0 {\n            background-color:  #b40426;\n            color:  #f1f1f1;\n        }    #T_4097f013_b73a_11eb_a086_b46bfca07f70row11_col0 {\n            background-color:  #3b4cc0;\n            color:  #f1f1f1;\n        }</style><table id=\"T_4097f013_b73a_11eb_a086_b46bfca07f70\" ><thead>    <tr>        <th class=\"blank level0\" ></th>        <th class=\"col_heading level0 col0\" >0</th>    </tr></thead><tbody>\n                <tr>\n                        <th id=\"T_4097f013_b73a_11eb_a086_b46bfca07f70level0_row0\" class=\"row_heading level0 row0\" >children</th>\n                        <td id=\"T_4097f013_b73a_11eb_a086_b46bfca07f70row0_col0\" class=\"data row0 col0\" >0.000000</td>\n            </tr>\n            <tr>\n                        <th id=\"T_4097f013_b73a_11eb_a086_b46bfca07f70level0_row1\" class=\"row_heading level0 row1\" >days_employed</th>\n                        <td id=\"T_4097f013_b73a_11eb_a086_b46bfca07f70row1_col0\" class=\"data row1 col0\" >10.100000</td>\n            </tr>\n            <tr>\n                        <th id=\"T_4097f013_b73a_11eb_a086_b46bfca07f70level0_row2\" class=\"row_heading level0 row2\" >dob_years</th>\n                        <td id=\"T_4097f013_b73a_11eb_a086_b46bfca07f70row2_col0\" class=\"data row2 col0\" >0.000000</td>\n            </tr>\n            <tr>\n                        <th id=\"T_4097f013_b73a_11eb_a086_b46bfca07f70level0_row3\" class=\"row_heading level0 row3\" >education</th>\n                        <td id=\"T_4097f013_b73a_11eb_a086_b46bfca07f70row3_col0\" class=\"data row3 col0\" >0.000000</td>\n            </tr>\n            <tr>\n                        <th id=\"T_4097f013_b73a_11eb_a086_b46bfca07f70level0_row4\" class=\"row_heading level0 row4\" >education_id</th>\n                        <td id=\"T_4097f013_b73a_11eb_a086_b46bfca07f70row4_col0\" class=\"data row4 col0\" >0.000000</td>\n            </tr>\n            <tr>\n                        <th id=\"T_4097f013_b73a_11eb_a086_b46bfca07f70level0_row5\" class=\"row_heading level0 row5\" >family_status</th>\n                        <td id=\"T_4097f013_b73a_11eb_a086_b46bfca07f70row5_col0\" class=\"data row5 col0\" >0.000000</td>\n            </tr>\n            <tr>\n                        <th id=\"T_4097f013_b73a_11eb_a086_b46bfca07f70level0_row6\" class=\"row_heading level0 row6\" >family_status_id</th>\n                        <td id=\"T_4097f013_b73a_11eb_a086_b46bfca07f70row6_col0\" class=\"data row6 col0\" >0.000000</td>\n            </tr>\n            <tr>\n                        <th id=\"T_4097f013_b73a_11eb_a086_b46bfca07f70level0_row7\" class=\"row_heading level0 row7\" >gender</th>\n                        <td id=\"T_4097f013_b73a_11eb_a086_b46bfca07f70row7_col0\" class=\"data row7 col0\" >0.000000</td>\n            </tr>\n            <tr>\n                        <th id=\"T_4097f013_b73a_11eb_a086_b46bfca07f70level0_row8\" class=\"row_heading level0 row8\" >income_type</th>\n                        <td id=\"T_4097f013_b73a_11eb_a086_b46bfca07f70row8_col0\" class=\"data row8 col0\" >0.000000</td>\n            </tr>\n            <tr>\n                        <th id=\"T_4097f013_b73a_11eb_a086_b46bfca07f70level0_row9\" class=\"row_heading level0 row9\" >debt</th>\n                        <td id=\"T_4097f013_b73a_11eb_a086_b46bfca07f70row9_col0\" class=\"data row9 col0\" >0.000000</td>\n            </tr>\n            <tr>\n                        <th id=\"T_4097f013_b73a_11eb_a086_b46bfca07f70level0_row10\" class=\"row_heading level0 row10\" >total_income</th>\n                        <td id=\"T_4097f013_b73a_11eb_a086_b46bfca07f70row10_col0\" class=\"data row10 col0\" >10.100000</td>\n            </tr>\n            <tr>\n                        <th id=\"T_4097f013_b73a_11eb_a086_b46bfca07f70level0_row11\" class=\"row_heading level0 row11\" >purpose</th>\n                        <td id=\"T_4097f013_b73a_11eb_a086_b46bfca07f70row11_col0\" class=\"data row11 col0\" >0.000000</td>\n            </tr>\n    </tbody></table>"
          },
          "metadata": {},
          "execution_count": 20
        }
      ],
      "source": [
        "# check up of the amount of the data missing\n",
        "pd.DataFrame(round((data.isna().mean()*100),2)).style.background_gradient(\"coolwarm\")"
      ]
    },
    {
      "source": [
        "10% is too much to just frop the data, so I will fill them by the median."
      ],
      "cell_type": "markdown",
      "metadata": {
        "id": "lZOjBrXanzSN"
      }
    },
    {
      "cell_type": "code",
      "execution_count": null,
      "metadata": {
        "id": "YrSsct_5nzSO"
      },
      "outputs": [],
      "source": [
        "# fill nan of the total_income by the median from income_type\n",
        "data[\"total_income\"] = data.groupby(\"income_type\")[\"total_income\"].transform(lambda x: x.fillna(x.median()))\n",
        "\n",
        "# fill nan of the days_employed  by the median from income_type\n",
        "data[\"days_employed\"] = data.groupby(\"income_type\")[\"days_employed\"].transform(lambda x: x.fillna(x.median()))"
      ]
    },
    {
      "cell_type": "code",
      "execution_count": null,
      "metadata": {
        "id": "fTo-kQX9nzSO",
        "outputId": "66a7c423-b095-417e-8674-76076e7e3b52"
      },
      "outputs": [
        {
          "output_type": "execute_result",
          "data": {
            "text/plain": [
              "children            0\n",
              "days_employed       0\n",
              "dob_years           0\n",
              "education           0\n",
              "education_id        0\n",
              "family_status       0\n",
              "family_status_id    0\n",
              "gender              0\n",
              "income_type         0\n",
              "debt                0\n",
              "total_income        0\n",
              "purpose             0\n",
              "dtype: int64"
            ]
          },
          "metadata": {},
          "execution_count": 22
        }
      ],
      "source": [
        "# check up of the missing data\n",
        "data.isnull().sum()"
      ]
    },
    {
      "cell_type": "markdown",
      "metadata": {
        "id": "aNnmVovvnzSO"
      },
      "source": [
        "After checking, you can see that in the column `total_income` has 2174 missing rows.\n",
        "\n",
        "This number correlates with the number of omissions in the `days_employed` column, which is also 2174. Apparently, some of the clients were unemployed at the time of data collection, so they found it difficult to answer the question about earnings.\n",
        "\n",
        "Given that the total number of rows in the column is 21525, the number of omissions = 2174 makes aroung 10% of the total rows. From my point of view, this is quite a large percentage and therefore I will not delete these lines, as this may affect the final result.\n",
        "\n",
        "I filled in the gaps with the median value, depending on the category. This is done so that, for example, the median profit of the \"pensioner\" category does not affect the median profit of the \"employee\" category and vice versa, and so on. Each category has its own median profit and the gaps are filled appropriately.\n",
        "\n",
        "By the same principle, the gaps in the `days_employed ' column are filled in."
      ]
    },
    {
      "cell_type": "markdown",
      "metadata": {
        "id": "tfE32cQ5nzSP"
      },
      "source": [
        "For the analysis, I need to use the data from the `total_income ' column. Now the data type in this column is float. For further analysis and the possibility of using some functions, I need to change the data type for the entire column to a int."
      ]
    },
    {
      "cell_type": "code",
      "execution_count": null,
      "metadata": {
        "id": "_0GWxV6anzSP",
        "outputId": "d5edeea5-901b-4354-f2d4-a9eb2aeaa4b4"
      },
      "outputs": [
        {
          "output_type": "stream",
          "name": "stdout",
          "text": [
            "<class 'pandas.core.frame.DataFrame'>\nRangeIndex: 21525 entries, 0 to 21524\nData columns (total 12 columns):\n #   Column            Non-Null Count  Dtype  \n---  ------            --------------  -----  \n 0   children          21525 non-null  int64  \n 1   days_employed     21525 non-null  float64\n 2   dob_years         21525 non-null  int64  \n 3   education         21525 non-null  object \n 4   education_id      21525 non-null  int64  \n 5   family_status     21525 non-null  object \n 6   family_status_id  21525 non-null  int64  \n 7   gender            21525 non-null  object \n 8   income_type       21525 non-null  object \n 9   debt              21525 non-null  int64  \n 10  total_income      21525 non-null  int32  \n 11  purpose           21525 non-null  object \ndtypes: float64(1), int32(1), int64(5), object(5)\nmemory usage: 1.9+ MB\n"
          ]
        }
      ],
      "source": [
        "# changing the data type\n",
        "data[\"total_income\"] = data[\"total_income\"].astype(\"int\")\n",
        "data.info()"
      ]
    },
    {
      "cell_type": "markdown",
      "metadata": {
        "id": "AfmD_aWYnzSP"
      },
      "source": [
        "The data type in the column that will be used for analysis has been changed and this can be seen in the data information ('total_income 21525 non-null int64`).\n",
        "\n",
        "In this analysis, I do not use the data from the `days_employed` column, so I do not change the data in this column to numeric data.\n"
      ]
    },
    {
      "cell_type": "markdown",
      "metadata": {
        "id": "mVtgPKbRnzSQ"
      },
      "source": [
        "I'm going to search for duplicates in the rows with text values. To do this, I will put all the string values in lowercase. Since some of the columns contain numeric data, I can't apply the 'str. lower ()' method to all the data, so I only apply it to columns with a text value, to each column individually.\n",
        "\n"
      ]
    },
    {
      "cell_type": "code",
      "execution_count": null,
      "metadata": {
        "id": "JLciIJSwnzSQ"
      },
      "outputs": [],
      "source": [
        "# going lowercase\n",
        "data[\"education\"] = data[\"education\"].str.lower()\n",
        "data[\"family_status\"] = data[\"family_status\"].str.lower()\n",
        "data[\"income_type\"] = data[\"income_type\"].str.lower()\n",
        "data[\"purpose\"] = data[\"purpose\"].str.lower()\n"
      ]
    },
    {
      "cell_type": "code",
      "execution_count": null,
      "metadata": {
        "id": "3f7LcD-5nzSQ",
        "outputId": "ebd1b276-d740-496d-d271-fa43732b99c2"
      },
      "outputs": [
        {
          "output_type": "execute_result",
          "data": {
            "text/plain": [
              "71"
            ]
          },
          "metadata": {},
          "execution_count": 25
        }
      ],
      "source": [
        "# checking for duplicates\n",
        "data.duplicated().sum()"
      ]
    },
    {
      "cell_type": "code",
      "execution_count": null,
      "metadata": {
        "id": "AcxA8s6BnzSQ"
      },
      "outputs": [],
      "source": [
        "# remove duplicates\n",
        "data=data.drop_duplicates().reset_index(drop=True)"
      ]
    },
    {
      "cell_type": "code",
      "execution_count": null,
      "metadata": {
        "id": "A7bThw6InzSR",
        "outputId": "44232fa8-23f0-4bcb-e8d4-77d8e50be452"
      },
      "outputs": [
        {
          "output_type": "execute_result",
          "data": {
            "text/plain": [
              "0"
            ]
          },
          "metadata": {},
          "execution_count": 27
        }
      ],
      "source": [
        "# checking for duplicates againg\n",
        "data.duplicated().sum()"
      ]
    },
    {
      "cell_type": "markdown",
      "metadata": {
        "id": "KfB2LRfVnzSR"
      },
      "source": [
        "Duplicates are removed."
      ]
    },
    {
      "cell_type": "markdown",
      "metadata": {
        "id": "8kneGCTMnzSR"
      },
      "source": [
        "## Lemmatization"
      ]
    },
    {
      "cell_type": "markdown",
      "metadata": {
        "id": "v3u0k0KInzSR"
      },
      "source": [
        "The dataset I use is in the cyrillic, so I am using the pymystem3 library to lemmatise the data. "
      ]
    },
    {
      "cell_type": "code",
      "execution_count": null,
      "metadata": {
        "id": "ZTJYNoXynzSS",
        "outputId": "61317fb5-1623-482d-8801-e656568cf911"
      },
      "outputs": [
        {
          "output_type": "execute_result",
          "data": {
            "text/plain": [
              "свадьба                                   791\n",
              "на проведение свадьбы                     768\n",
              "сыграть свадьбу                           765\n",
              "операции с недвижимостью                  675\n",
              "покупка коммерческой недвижимости         661\n",
              "операции с жильем                         652\n",
              "покупка жилья для сдачи                   651\n",
              "операции с коммерческой недвижимостью     650\n",
              "покупка жилья                             646\n",
              "жилье                                     646\n",
              "покупка жилья для семьи                   638\n",
              "строительство собственной недвижимости    635\n",
              "недвижимость                              633\n",
              "операции со своей недвижимостью           627\n",
              "строительство жилой недвижимости          624\n",
              "покупка недвижимости                      621\n",
              "покупка своего жилья                      620\n",
              "строительство недвижимости                619\n",
              "ремонт жилью                              607\n",
              "покупка жилой недвижимости                606\n",
              "на покупку своего автомобиля              505\n",
              "заняться высшим образованием              496\n",
              "автомобиль                                494\n",
              "сделка с подержанным автомобилем          486\n",
              "на покупку подержанного автомобиля        478\n",
              "свой автомобиль                           478\n",
              "автомобили                                478\n",
              "на покупку автомобиля                     471\n",
              "приобретение автомобиля                   461\n",
              "дополнительное образование                460\n",
              "сделка с автомобилем                      455\n",
              "высшее образование                        452\n",
              "образование                               447\n",
              "получение дополнительного образования     446\n",
              "получение образования                     442\n",
              "профильное образование                    436\n",
              "получение высшего образования             426\n",
              "заняться образованием                     408\n",
              "Name: purpose, dtype: int64"
            ]
          },
          "metadata": {},
          "execution_count": 28
        }
      ],
      "source": [
        "# checking what categories of the dataset\n",
        "data[\"purpose\"].value_counts()"
      ]
    },
    {
      "cell_type": "code",
      "execution_count": null,
      "metadata": {
        "id": "DMhRyxOynzSS"
      },
      "outputs": [],
      "source": [
        "# creating the lemma function\n",
        "def lemm(purpose):\n",
        "    lemma = ' '.join(m.lemmatize(purpose))\n",
        "    if (\"жилье\" in lemma) or (\"недвижимость\" in lemma):\n",
        "        return \"недвижимость\"\n",
        "    elif \"автомобиль\" in lemma:\n",
        "        return \"автомобиль\"\n",
        "    elif \"образование\" in lemma:\n",
        "        return \"образование\"\n",
        "    else:\n",
        "        return \"праздник\"\n",
        "    return lemma\n",
        " "
      ]
    },
    {
      "cell_type": "code",
      "execution_count": null,
      "metadata": {
        "id": "LJb1_nhJnzSS",
        "outputId": "0e79b4bc-25f3-42fa-9a54-1e5cc2b104ec"
      },
      "outputs": [
        {
          "output_type": "error",
          "ename": "ValueError",
          "evalue": "I/O operation on closed file",
          "traceback": [
            "\u001b[1;31m---------------------------------------------------------------------------\u001b[0m",
            "\u001b[1;31mValueError\u001b[0m                                Traceback (most recent call last)",
            "\u001b[1;32m<ipython-input-17-a561cddb9ecd>\u001b[0m in \u001b[0;36m<module>\u001b[1;34m\u001b[0m\n\u001b[0;32m      1\u001b[0m \u001b[1;31m# applying function to the table\u001b[0m\u001b[1;33m\u001b[0m\u001b[1;33m\u001b[0m\u001b[1;33m\u001b[0m\u001b[0m\n\u001b[1;32m----> 2\u001b[1;33m \u001b[0mdata\u001b[0m\u001b[1;33m[\u001b[0m\u001b[1;34m'purpose_lem'\u001b[0m\u001b[1;33m]\u001b[0m \u001b[1;33m=\u001b[0m \u001b[0mdata\u001b[0m\u001b[1;33m[\u001b[0m\u001b[1;34m'purpose'\u001b[0m\u001b[1;33m]\u001b[0m\u001b[1;33m.\u001b[0m\u001b[0mapply\u001b[0m\u001b[1;33m(\u001b[0m\u001b[0mlemm\u001b[0m\u001b[1;33m)\u001b[0m\u001b[1;33m\u001b[0m\u001b[1;33m\u001b[0m\u001b[0m\n\u001b[0m",
            "\u001b[1;32mD:\\Anaconda\\lib\\site-packages\\pandas\\core\\series.py\u001b[0m in \u001b[0;36mapply\u001b[1;34m(self, func, convert_dtype, args, **kwds)\u001b[0m\n\u001b[0;32m   3846\u001b[0m             \u001b[1;32melse\u001b[0m\u001b[1;33m:\u001b[0m\u001b[1;33m\u001b[0m\u001b[1;33m\u001b[0m\u001b[0m\n\u001b[0;32m   3847\u001b[0m                 \u001b[0mvalues\u001b[0m \u001b[1;33m=\u001b[0m \u001b[0mself\u001b[0m\u001b[1;33m.\u001b[0m\u001b[0mastype\u001b[0m\u001b[1;33m(\u001b[0m\u001b[0mobject\u001b[0m\u001b[1;33m)\u001b[0m\u001b[1;33m.\u001b[0m\u001b[0mvalues\u001b[0m\u001b[1;33m\u001b[0m\u001b[1;33m\u001b[0m\u001b[0m\n\u001b[1;32m-> 3848\u001b[1;33m                 \u001b[0mmapped\u001b[0m \u001b[1;33m=\u001b[0m \u001b[0mlib\u001b[0m\u001b[1;33m.\u001b[0m\u001b[0mmap_infer\u001b[0m\u001b[1;33m(\u001b[0m\u001b[0mvalues\u001b[0m\u001b[1;33m,\u001b[0m \u001b[0mf\u001b[0m\u001b[1;33m,\u001b[0m \u001b[0mconvert\u001b[0m\u001b[1;33m=\u001b[0m\u001b[0mconvert_dtype\u001b[0m\u001b[1;33m)\u001b[0m\u001b[1;33m\u001b[0m\u001b[1;33m\u001b[0m\u001b[0m\n\u001b[0m\u001b[0;32m   3849\u001b[0m \u001b[1;33m\u001b[0m\u001b[0m\n\u001b[0;32m   3850\u001b[0m         \u001b[1;32mif\u001b[0m \u001b[0mlen\u001b[0m\u001b[1;33m(\u001b[0m\u001b[0mmapped\u001b[0m\u001b[1;33m)\u001b[0m \u001b[1;32mand\u001b[0m \u001b[0misinstance\u001b[0m\u001b[1;33m(\u001b[0m\u001b[0mmapped\u001b[0m\u001b[1;33m[\u001b[0m\u001b[1;36m0\u001b[0m\u001b[1;33m]\u001b[0m\u001b[1;33m,\u001b[0m \u001b[0mSeries\u001b[0m\u001b[1;33m)\u001b[0m\u001b[1;33m:\u001b[0m\u001b[1;33m\u001b[0m\u001b[1;33m\u001b[0m\u001b[0m\n",
            "\u001b[1;32mpandas\\_libs\\lib.pyx\u001b[0m in \u001b[0;36mpandas._libs.lib.map_infer\u001b[1;34m()\u001b[0m\n",
            "\u001b[1;32m<ipython-input-16-9dd4058211f0>\u001b[0m in \u001b[0;36mlemm\u001b[1;34m(purpose)\u001b[0m\n\u001b[0;32m      1\u001b[0m \u001b[1;31m# creating the lemma function\u001b[0m\u001b[1;33m\u001b[0m\u001b[1;33m\u001b[0m\u001b[1;33m\u001b[0m\u001b[0m\n\u001b[0;32m      2\u001b[0m \u001b[1;32mdef\u001b[0m \u001b[0mlemm\u001b[0m\u001b[1;33m(\u001b[0m\u001b[0mpurpose\u001b[0m\u001b[1;33m)\u001b[0m\u001b[1;33m:\u001b[0m\u001b[1;33m\u001b[0m\u001b[1;33m\u001b[0m\u001b[0m\n\u001b[1;32m----> 3\u001b[1;33m     \u001b[0mlemma\u001b[0m \u001b[1;33m=\u001b[0m \u001b[1;34m' '\u001b[0m\u001b[1;33m.\u001b[0m\u001b[0mjoin\u001b[0m\u001b[1;33m(\u001b[0m\u001b[0mm\u001b[0m\u001b[1;33m.\u001b[0m\u001b[0mlemmatize\u001b[0m\u001b[1;33m(\u001b[0m\u001b[0mpurpose\u001b[0m\u001b[1;33m)\u001b[0m\u001b[1;33m)\u001b[0m\u001b[1;33m\u001b[0m\u001b[1;33m\u001b[0m\u001b[0m\n\u001b[0m\u001b[0;32m      4\u001b[0m     \u001b[1;32mif\u001b[0m \u001b[1;33m(\u001b[0m\u001b[1;34m\"жилье\"\u001b[0m \u001b[1;32min\u001b[0m \u001b[0mlemma\u001b[0m\u001b[1;33m)\u001b[0m \u001b[1;32mor\u001b[0m \u001b[1;33m(\u001b[0m\u001b[1;34m\"недвижимость\"\u001b[0m \u001b[1;32min\u001b[0m \u001b[0mlemma\u001b[0m\u001b[1;33m)\u001b[0m\u001b[1;33m:\u001b[0m\u001b[1;33m\u001b[0m\u001b[1;33m\u001b[0m\u001b[0m\n\u001b[0;32m      5\u001b[0m         \u001b[1;32mreturn\u001b[0m \u001b[1;34m\"недвижимость\"\u001b[0m\u001b[1;33m\u001b[0m\u001b[1;33m\u001b[0m\u001b[0m\n",
            "\u001b[1;32m~\\AppData\\Roaming\\Python\\Python38\\site-packages\\pymystem3\\mystem.py\u001b[0m in \u001b[0;36mlemmatize\u001b[1;34m(self, text)\u001b[0m\n\u001b[0;32m    263\u001b[0m         \u001b[0mneed_encode\u001b[0m \u001b[1;33m=\u001b[0m \u001b[1;33m(\u001b[0m\u001b[0msys\u001b[0m\u001b[1;33m.\u001b[0m\u001b[0mversion_info\u001b[0m\u001b[1;33m[\u001b[0m\u001b[1;36m0\u001b[0m\u001b[1;33m]\u001b[0m \u001b[1;33m<\u001b[0m \u001b[1;36m3\u001b[0m \u001b[1;32mand\u001b[0m \u001b[0misinstance\u001b[0m\u001b[1;33m(\u001b[0m\u001b[0mtext\u001b[0m\u001b[1;33m,\u001b[0m \u001b[0mstr\u001b[0m\u001b[1;33m)\u001b[0m\u001b[1;33m)\u001b[0m\u001b[1;33m\u001b[0m\u001b[1;33m\u001b[0m\u001b[0m\n\u001b[0;32m    264\u001b[0m \u001b[1;33m\u001b[0m\u001b[0m\n\u001b[1;32m--> 265\u001b[1;33m         \u001b[0minfos\u001b[0m \u001b[1;33m=\u001b[0m \u001b[0mself\u001b[0m\u001b[1;33m.\u001b[0m\u001b[0manalyze\u001b[0m\u001b[1;33m(\u001b[0m\u001b[0mtext\u001b[0m\u001b[1;33m)\u001b[0m\u001b[1;33m\u001b[0m\u001b[1;33m\u001b[0m\u001b[0m\n\u001b[0m\u001b[0;32m    266\u001b[0m         \u001b[0mlemmas\u001b[0m \u001b[1;33m=\u001b[0m \u001b[0mlist\u001b[0m\u001b[1;33m(\u001b[0m\u001b[0mfilter\u001b[0m\u001b[1;33m(\u001b[0m\u001b[1;32mNone\u001b[0m\u001b[1;33m,\u001b[0m \u001b[0mmap\u001b[0m\u001b[1;33m(\u001b[0m\u001b[0mself\u001b[0m\u001b[1;33m.\u001b[0m\u001b[0m_get_lemma\u001b[0m\u001b[1;33m,\u001b[0m \u001b[0minfos\u001b[0m\u001b[1;33m)\u001b[0m\u001b[1;33m)\u001b[0m\u001b[1;33m)\u001b[0m\u001b[1;33m\u001b[0m\u001b[1;33m\u001b[0m\u001b[0m\n\u001b[0;32m    267\u001b[0m \u001b[1;33m\u001b[0m\u001b[0m\n",
            "\u001b[1;32m~\\AppData\\Roaming\\Python\\Python38\\site-packages\\pymystem3\\mystem.py\u001b[0m in \u001b[0;36manalyze\u001b[1;34m(self, text)\u001b[0m\n\u001b[0;32m    248\u001b[0m         \u001b[0mresult\u001b[0m \u001b[1;33m=\u001b[0m \u001b[1;33m[\u001b[0m\u001b[1;33m]\u001b[0m\u001b[1;33m\u001b[0m\u001b[1;33m\u001b[0m\u001b[0m\n\u001b[0;32m    249\u001b[0m         \u001b[1;32mfor\u001b[0m \u001b[0mline\u001b[0m \u001b[1;32min\u001b[0m \u001b[0mtext\u001b[0m\u001b[1;33m.\u001b[0m\u001b[0msplitlines\u001b[0m\u001b[1;33m(\u001b[0m\u001b[1;33m)\u001b[0m\u001b[1;33m:\u001b[0m\u001b[1;33m\u001b[0m\u001b[1;33m\u001b[0m\u001b[0m\n\u001b[1;32m--> 250\u001b[1;33m             \u001b[0mresult\u001b[0m\u001b[1;33m.\u001b[0m\u001b[0mextend\u001b[0m\u001b[1;33m(\u001b[0m\u001b[0mself\u001b[0m\u001b[1;33m.\u001b[0m\u001b[0m_analyze_impl\u001b[0m\u001b[1;33m(\u001b[0m\u001b[0mline\u001b[0m\u001b[1;33m)\u001b[0m\u001b[1;33m)\u001b[0m\u001b[1;33m\u001b[0m\u001b[1;33m\u001b[0m\u001b[0m\n\u001b[0m\u001b[0;32m    251\u001b[0m         \u001b[1;32mreturn\u001b[0m \u001b[0mresult\u001b[0m\u001b[1;33m\u001b[0m\u001b[1;33m\u001b[0m\u001b[0m\n\u001b[0;32m    252\u001b[0m \u001b[1;33m\u001b[0m\u001b[0m\n",
            "\u001b[1;32m~\\AppData\\Roaming\\Python\\Python38\\site-packages\\pymystem3\\mystem.py\u001b[0m in \u001b[0;36m_analyze_impl\u001b[1;34m(self, text)\u001b[0m\n\u001b[0;32m    308\u001b[0m                 \u001b[0mself\u001b[0m\u001b[1;33m.\u001b[0m\u001b[0m_start_mystem\u001b[0m\u001b[1;33m(\u001b[0m\u001b[1;33m)\u001b[0m\u001b[1;33m\u001b[0m\u001b[1;33m\u001b[0m\u001b[0m\n\u001b[0;32m    309\u001b[0m \u001b[1;33m\u001b[0m\u001b[0m\n\u001b[1;32m--> 310\u001b[1;33m             \u001b[0mself\u001b[0m\u001b[1;33m.\u001b[0m\u001b[0m_procin\u001b[0m\u001b[1;33m.\u001b[0m\u001b[0mwrite\u001b[0m\u001b[1;33m(\u001b[0m\u001b[0mtext\u001b[0m\u001b[1;33m)\u001b[0m\u001b[1;33m\u001b[0m\u001b[1;33m\u001b[0m\u001b[0m\n\u001b[0m\u001b[0;32m    311\u001b[0m             \u001b[0mself\u001b[0m\u001b[1;33m.\u001b[0m\u001b[0m_procin\u001b[0m\u001b[1;33m.\u001b[0m\u001b[0mwrite\u001b[0m\u001b[1;33m(\u001b[0m\u001b[0m_NL\u001b[0m\u001b[1;33m)\u001b[0m\u001b[1;33m\u001b[0m\u001b[1;33m\u001b[0m\u001b[0m\n\u001b[0;32m    312\u001b[0m \u001b[1;33m\u001b[0m\u001b[0m\n",
            "\u001b[1;31mValueError\u001b[0m: I/O operation on closed file"
          ]
        }
      ],
      "source": [
        "# applying function to the table\n",
        "data[\"purpose_lem\"] = data[\"purpose\"].apply(lemm)"
      ]
    },
    {
      "cell_type": "code",
      "execution_count": null,
      "metadata": {
        "id": "QCze1rx8nzSS",
        "outputId": "434fa5bb-c2a5-43df-8d73-b712ad4d1019"
      },
      "outputs": [
        {
          "data": {
            "text/html": [
              "<div>\n",
              "<style scoped>\n",
              "    .dataframe tbody tr th:only-of-type {\n",
              "        vertical-align: middle;\n",
              "    }\n",
              "\n",
              "    .dataframe tbody tr th {\n",
              "        vertical-align: top;\n",
              "    }\n",
              "\n",
              "    .dataframe thead th {\n",
              "        text-align: right;\n",
              "    }\n",
              "</style>\n",
              "<table border=\"1\" class=\"dataframe\">\n",
              "  <thead>\n",
              "    <tr style=\"text-align: right;\">\n",
              "      <th></th>\n",
              "      <th>children</th>\n",
              "      <th>days_employed</th>\n",
              "      <th>dob_years</th>\n",
              "      <th>education</th>\n",
              "      <th>education_id</th>\n",
              "      <th>family_status</th>\n",
              "      <th>family_status_id</th>\n",
              "      <th>gender</th>\n",
              "      <th>income_type</th>\n",
              "      <th>debt</th>\n",
              "      <th>total_income</th>\n",
              "      <th>purpose</th>\n",
              "      <th>purpose_lem</th>\n",
              "    </tr>\n",
              "  </thead>\n",
              "  <tbody>\n",
              "    <tr>\n",
              "      <td>0</td>\n",
              "      <td>1</td>\n",
              "      <td>-8437.673028</td>\n",
              "      <td>42</td>\n",
              "      <td>высшее</td>\n",
              "      <td>0</td>\n",
              "      <td>женат / замужем</td>\n",
              "      <td>0</td>\n",
              "      <td>F</td>\n",
              "      <td>сотрудник</td>\n",
              "      <td>0</td>\n",
              "      <td>253875</td>\n",
              "      <td>покупка жилья</td>\n",
              "      <td>недвижимость</td>\n",
              "    </tr>\n",
              "    <tr>\n",
              "      <td>1</td>\n",
              "      <td>1</td>\n",
              "      <td>-4024.803754</td>\n",
              "      <td>36</td>\n",
              "      <td>среднее</td>\n",
              "      <td>1</td>\n",
              "      <td>женат / замужем</td>\n",
              "      <td>0</td>\n",
              "      <td>F</td>\n",
              "      <td>сотрудник</td>\n",
              "      <td>0</td>\n",
              "      <td>112080</td>\n",
              "      <td>приобретение автомобиля</td>\n",
              "      <td>автомобиль</td>\n",
              "    </tr>\n",
              "    <tr>\n",
              "      <td>2</td>\n",
              "      <td>0</td>\n",
              "      <td>-5623.422610</td>\n",
              "      <td>33</td>\n",
              "      <td>среднее</td>\n",
              "      <td>1</td>\n",
              "      <td>женат / замужем</td>\n",
              "      <td>0</td>\n",
              "      <td>M</td>\n",
              "      <td>сотрудник</td>\n",
              "      <td>0</td>\n",
              "      <td>145885</td>\n",
              "      <td>покупка жилья</td>\n",
              "      <td>недвижимость</td>\n",
              "    </tr>\n",
              "    <tr>\n",
              "      <td>3</td>\n",
              "      <td>3</td>\n",
              "      <td>-4124.747207</td>\n",
              "      <td>32</td>\n",
              "      <td>среднее</td>\n",
              "      <td>1</td>\n",
              "      <td>женат / замужем</td>\n",
              "      <td>0</td>\n",
              "      <td>M</td>\n",
              "      <td>сотрудник</td>\n",
              "      <td>0</td>\n",
              "      <td>267628</td>\n",
              "      <td>дополнительное образование</td>\n",
              "      <td>образование</td>\n",
              "    </tr>\n",
              "    <tr>\n",
              "      <td>4</td>\n",
              "      <td>0</td>\n",
              "      <td>340266.072047</td>\n",
              "      <td>53</td>\n",
              "      <td>среднее</td>\n",
              "      <td>1</td>\n",
              "      <td>гражданский брак</td>\n",
              "      <td>1</td>\n",
              "      <td>F</td>\n",
              "      <td>пенсионер</td>\n",
              "      <td>0</td>\n",
              "      <td>158616</td>\n",
              "      <td>сыграть свадьбу</td>\n",
              "      <td>праздник</td>\n",
              "    </tr>\n",
              "  </tbody>\n",
              "</table>\n",
              "</div>"
            ],
            "text/plain": [
              "   children  days_employed  dob_years education  education_id  \\\n",
              "0         1   -8437.673028         42    высшее             0   \n",
              "1         1   -4024.803754         36   среднее             1   \n",
              "2         0   -5623.422610         33   среднее             1   \n",
              "3         3   -4124.747207         32   среднее             1   \n",
              "4         0  340266.072047         53   среднее             1   \n",
              "\n",
              "      family_status  family_status_id gender income_type  debt  total_income  \\\n",
              "0   женат / замужем                 0      F   сотрудник     0        253875   \n",
              "1   женат / замужем                 0      F   сотрудник     0        112080   \n",
              "2   женат / замужем                 0      M   сотрудник     0        145885   \n",
              "3   женат / замужем                 0      M   сотрудник     0        267628   \n",
              "4  гражданский брак                 1      F   пенсионер     0        158616   \n",
              "\n",
              "                      purpose   purpose_lem  \n",
              "0               покупка жилья  недвижимость  \n",
              "1     приобретение автомобиля    автомобиль  \n",
              "2               покупка жилья  недвижимость  \n",
              "3  дополнительное образование   образование  \n",
              "4             сыграть свадьбу      праздник  "
            ]
          },
          "execution_count": 21,
          "metadata": {},
          "output_type": "execute_result"
        }
      ],
      "source": [
        "# checking the result\n",
        "data.head()"
      ]
    },
    {
      "cell_type": "markdown",
      "metadata": {
        "id": "IasEBATGnzST"
      },
      "source": [
        "For the analysis, the data were brought into a unified format with lemmatization. I used the pymystem3 library  because the text data in the table is in Russian, and the pymystem3 library allows you to work (lemmitize) with such data without additional effort.\n",
        "\n",
        "The result is stored in a separate column - 'purpose_lem'.\n",
        "\n"
      ]
    },
    {
      "cell_type": "markdown",
      "metadata": {
        "id": "jdb_UcD5nzST"
      },
      "source": [
        "## Data categorization\n"
      ]
    },
    {
      "cell_type": "markdown",
      "metadata": {
        "id": "Twe7SO35nzST"
      },
      "source": [
        "Data categorization from the table"
      ]
    },
    {
      "cell_type": "code",
      "execution_count": null,
      "metadata": {
        "id": "siNjreWAnzST"
      },
      "outputs": [],
      "source": [
        "# removing negative values\n",
        "data['children'] = data['children'].abs()\n",
        "\n",
        "# count valuse of 'children'\n",
        "data['children'].value_counts()"
      ]
    },
    {
      "cell_type": "markdown",
      "metadata": {
        "id": "_ERvVUoEnzST"
      },
      "source": [
        "The value of `20` for children looks like an outlier. I think that actually there is a possibility that the family can have 20 kids, but the probability that there are 76 such families for 21525 clients is too small. Perhaps someone, when filling out the form, accidentally added `0` to `2 children`, perhaps the form itself incorrectly displayed the information.\n",
        "\n",
        "Since I do not know where to put this data (for example, whether it is correct to add it to the category '2 children`), and their presence in the table creates an unnecessary outlier, I decided to delete the rows with the `20 children` value.\n",
        "\n",
        "The number of rows in the table allows you to do this, as it is about 0.4% of the total number of customers. Even if this percentage includes families that actually have 20 children, their presence is more of an \"accident\" and is not statistically significant."
      ]
    },
    {
      "cell_type": "code",
      "execution_count": null,
      "metadata": {
        "id": "7n9VKbUPnzSU"
      },
      "outputs": [],
      "source": [
        "# removing outliers\n",
        "data = data.drop(data[data.children == 20].index)\n",
        "\n",
        "# checking the result\n",
        "data['children'].value_counts()"
      ]
    },
    {
      "cell_type": "markdown",
      "metadata": {
        "id": "vhCyPxPInzSU"
      },
      "source": [
        "The number of children in the family now is no more than five, there are no outliers, you can analyze the data."
      ]
    },
    {
      "cell_type": "markdown",
      "metadata": {
        "id": "uD6YwS7wnzSU"
      },
      "source": [
        "Categorizing data by income is necessary, because the data table currently has too many unique values in the income column. By dividing them into categories, I make it easier to analyze without deleting or replacing the data. To categorize income data, I use quartiles."
      ]
    },
    {
      "cell_type": "code",
      "execution_count": null,
      "metadata": {
        "id": "Ua3Nt2FEnzSU",
        "outputId": "bb1fc5e4-5e67-419a-8038-57fa996dc23b"
      },
      "outputs": [
        {
          "data": {
            "text/plain": [
              "0.25    107528.75\n",
              "0.50    142594.00\n",
              "0.75    195795.50\n",
              "Name: total_income, dtype: float64"
            ]
          },
          "execution_count": 26,
          "metadata": {},
          "output_type": "execute_result"
        }
      ],
      "source": [
        "# before making a profit pivot table,\n",
        "# I categorize the profit to make it easier to work with the data\n",
        "# to do this, I find out the quartiles from the data from the profit column\n",
        "data['total_income'].quantile([0.25,0.5,0.75])"
      ]
    },
    {
      "cell_type": "code",
      "execution_count": null,
      "metadata": {
        "id": "4xuquqDonzSU"
      },
      "outputs": [],
      "source": [
        "# a function that assigns an income category, depending on the quartile\n",
        "def income_category(income):\n",
        "    if income <= 107528:\n",
        "        return \"низкий\"\n",
        "    elif income <= 142594:\n",
        "        return \"средне-низкий\"\n",
        "    elif income <= 195795:\n",
        "        return \"средне-высокий\"\n",
        "    else:\n",
        "        return \"высокий\"\n",
        "\n",
        "data['total_income_cat'] = data['total_income'].apply(income_category)"
      ]
    },
    {
      "cell_type": "markdown",
      "metadata": {
        "id": "av6jxJI-nzSV"
      },
      "source": [
        "After the categorizing of the data, it is easier to perform an analysis, since i removed the outliers that might have affect the result.\n",
        "\n",
        "Income data is categorized, divided into four types from high to low. This categorization will make it easier to understand the results of the analysis, since the values in the results will also be divided into categories."
      ]
    },
    {
      "cell_type": "markdown",
      "metadata": {
        "id": "uUj--b0anzSV"
      },
      "source": [
        "## Now lets answer some questions\n"
      ]
    },
    {
      "cell_type": "markdown",
      "metadata": {
        "id": "jgrp7HQlnzSV"
      },
      "source": [
        "Is there a relationship between having children and paying back the loan on time?"
      ]
    },
    {
      "cell_type": "code",
      "execution_count": null,
      "metadata": {
        "id": "dQ6we0TRnzSV",
        "outputId": "90007a6d-8e16-4547-d1ad-8a908469a872"
      },
      "outputs": [
        {
          "data": {
            "text/html": [
              "<div>\n",
              "<style scoped>\n",
              "    .dataframe tbody tr th:only-of-type {\n",
              "        vertical-align: middle;\n",
              "    }\n",
              "\n",
              "    .dataframe tbody tr th {\n",
              "        vertical-align: top;\n",
              "    }\n",
              "\n",
              "    .dataframe thead tr th {\n",
              "        text-align: left;\n",
              "    }\n",
              "\n",
              "    .dataframe thead tr:last-of-type th {\n",
              "        text-align: right;\n",
              "    }\n",
              "</style>\n",
              "<table border=\"1\" class=\"dataframe\">\n",
              "  <thead>\n",
              "    <tr>\n",
              "      <th></th>\n",
              "      <th>count</th>\n",
              "      <th>sum</th>\n",
              "      <th>mean</th>\n",
              "    </tr>\n",
              "    <tr>\n",
              "      <th></th>\n",
              "      <th>debt</th>\n",
              "      <th>debt</th>\n",
              "      <th>debt</th>\n",
              "    </tr>\n",
              "    <tr>\n",
              "      <th>children</th>\n",
              "      <th></th>\n",
              "      <th></th>\n",
              "      <th></th>\n",
              "    </tr>\n",
              "  </thead>\n",
              "  <tbody>\n",
              "    <tr>\n",
              "      <td>0</td>\n",
              "      <td>14091</td>\n",
              "      <td>1063</td>\n",
              "      <td>0.075438</td>\n",
              "    </tr>\n",
              "    <tr>\n",
              "      <td>1</td>\n",
              "      <td>4855</td>\n",
              "      <td>445</td>\n",
              "      <td>0.091658</td>\n",
              "    </tr>\n",
              "    <tr>\n",
              "      <td>2</td>\n",
              "      <td>2052</td>\n",
              "      <td>194</td>\n",
              "      <td>0.094542</td>\n",
              "    </tr>\n",
              "    <tr>\n",
              "      <td>3</td>\n",
              "      <td>330</td>\n",
              "      <td>27</td>\n",
              "      <td>0.081818</td>\n",
              "    </tr>\n",
              "    <tr>\n",
              "      <td>4</td>\n",
              "      <td>41</td>\n",
              "      <td>4</td>\n",
              "      <td>0.097561</td>\n",
              "    </tr>\n",
              "    <tr>\n",
              "      <td>5</td>\n",
              "      <td>9</td>\n",
              "      <td>0</td>\n",
              "      <td>0.000000</td>\n",
              "    </tr>\n",
              "  </tbody>\n",
              "</table>\n",
              "</div>"
            ],
            "text/plain": [
              "          count   sum      mean\n",
              "           debt  debt      debt\n",
              "children                       \n",
              "0         14091  1063  0.075438\n",
              "1          4855   445  0.091658\n",
              "2          2052   194  0.094542\n",
              "3           330    27  0.081818\n",
              "4            41     4  0.097561\n",
              "5             9     0  0.000000"
            ]
          },
          "execution_count": 28,
          "metadata": {},
          "output_type": "execute_result"
        }
      ],
      "source": [
        "# lets make a pivot table for  'children'\n",
        "\n",
        "data.pivot_table(index='children', values='debt', aggfunc=['count','sum','mean'])"
      ]
    },
    {
      "cell_type": "markdown",
      "metadata": {
        "id": "Y9dIwwl4nzSV"
      },
      "source": [
        "Lets calculate the number of customers with unpaid loans to the total number of customers in the category:\n",
        "\n",
        "* 7.5 % without children\n",
        "* 9.1 % with one child\n",
        "* 9.4 % with two children\n",
        "* 8.2 % with three children\n",
        "* 9.7% with four children\n",
        "* 0% with five children\n",
        "\n",
        "From the percentage ratio, it can be seen that customers with more than one child have largest number of loan arrears. People with four children have the largest number of loan arrears."
      ]
    },
    {
      "cell_type": "markdown",
      "metadata": {
        "id": "h-Ys18H1nzSV"
      },
      "source": [
        "Is there a relationship between marital status and repayment of the loan on time?"
      ]
    },
    {
      "cell_type": "code",
      "execution_count": null,
      "metadata": {
        "id": "WihfjvirnzSW",
        "outputId": "26032b8f-b632-4012-9cef-0cc58004ef56"
      },
      "outputs": [
        {
          "data": {
            "text/html": [
              "<div>\n",
              "<style scoped>\n",
              "    .dataframe tbody tr th:only-of-type {\n",
              "        vertical-align: middle;\n",
              "    }\n",
              "\n",
              "    .dataframe tbody tr th {\n",
              "        vertical-align: top;\n",
              "    }\n",
              "\n",
              "    .dataframe thead tr th {\n",
              "        text-align: left;\n",
              "    }\n",
              "\n",
              "    .dataframe thead tr:last-of-type th {\n",
              "        text-align: right;\n",
              "    }\n",
              "</style>\n",
              "<table border=\"1\" class=\"dataframe\">\n",
              "  <thead>\n",
              "    <tr>\n",
              "      <th></th>\n",
              "      <th>count</th>\n",
              "      <th>sum</th>\n",
              "      <th>mean</th>\n",
              "    </tr>\n",
              "    <tr>\n",
              "      <th></th>\n",
              "      <th>debt</th>\n",
              "      <th>debt</th>\n",
              "      <th>debt</th>\n",
              "    </tr>\n",
              "    <tr>\n",
              "      <th>family_status</th>\n",
              "      <th></th>\n",
              "      <th></th>\n",
              "      <th></th>\n",
              "    </tr>\n",
              "  </thead>\n",
              "  <tbody>\n",
              "    <tr>\n",
              "      <td>в разводе</td>\n",
              "      <td>1193</td>\n",
              "      <td>84</td>\n",
              "      <td>0.070411</td>\n",
              "    </tr>\n",
              "    <tr>\n",
              "      <td>вдовец / вдова</td>\n",
              "      <td>955</td>\n",
              "      <td>63</td>\n",
              "      <td>0.065969</td>\n",
              "    </tr>\n",
              "    <tr>\n",
              "      <td>гражданский брак</td>\n",
              "      <td>4139</td>\n",
              "      <td>385</td>\n",
              "      <td>0.093018</td>\n",
              "    </tr>\n",
              "    <tr>\n",
              "      <td>женат / замужем</td>\n",
              "      <td>12290</td>\n",
              "      <td>928</td>\n",
              "      <td>0.075509</td>\n",
              "    </tr>\n",
              "    <tr>\n",
              "      <td>не женат / не замужем</td>\n",
              "      <td>2801</td>\n",
              "      <td>273</td>\n",
              "      <td>0.097465</td>\n",
              "    </tr>\n",
              "  </tbody>\n",
              "</table>\n",
              "</div>"
            ],
            "text/plain": [
              "                       count  sum      mean\n",
              "                        debt debt      debt\n",
              "family_status                              \n",
              "в разводе               1193   84  0.070411\n",
              "вдовец / вдова           955   63  0.065969\n",
              "гражданский брак        4139  385  0.093018\n",
              "женат / замужем        12290  928  0.075509\n",
              "не женат / не замужем   2801  273  0.097465"
            ]
          },
          "execution_count": 29,
          "metadata": {},
          "output_type": "execute_result"
        }
      ],
      "source": [
        "# pivto table for the  'family_status'\n",
        "data.pivot_table(index='family_status', values='debt', aggfunc=['count','sum','mean'])"
      ]
    },
    {
      "cell_type": "markdown",
      "metadata": {
        "id": "1QTHNPWAnzSW"
      },
      "source": [
        "Lets calculate the number of customers with unpaid loans to the total number of customers in the category:\n",
        "\n",
        "* 7% в разводе\n",
        "* 6,5% вдовец/ вдова\n",
        "* 9,3% гражданский брак\n",
        "* 7,5% женат/ замужем\n",
        "* 9,7% не женат/ не замужем\n",
        "\n",
        "\n",
        "Из процентного соотношения видно, что наибольшее количество задолженностей по кредиту имеют клиенты с семейным положением не женат/ не замужем, на втором месте - люди в гражданском браке."
      ]
    },
    {
      "cell_type": "markdown",
      "metadata": {
        "id": "HPtNhGAHnzSW"
      },
      "source": [
        "<div class=\"alert alert-success\">\n",
        "<h2> Комментарий от ревьюера v4</h2>\n",
        "\n",
        "Отлично.\n",
        "\n",
        "</div>"
      ]
    },
    {
      "cell_type": "markdown",
      "metadata": {
        "id": "yq2RtvEOnzSW"
      },
      "source": [
        "### Есть ли зависимость между уровнем дохода и возвратом кредита в срок?"
      ]
    },
    {
      "cell_type": "markdown",
      "metadata": {
        "id": "tcpDrhNknzSW"
      },
      "source": [
        "Значений прибыли в таблице с данными слишком много, и почти все уникальные. Для облегчения анализа, прибыль разбита на категории на шаге `категоризация данных`."
      ]
    },
    {
      "cell_type": "code",
      "execution_count": null,
      "metadata": {
        "id": "kti_dkO1nzSW",
        "outputId": "accd436a-10c0-4e48-ddbe-cc3cd8f326c2"
      },
      "outputs": [
        {
          "data": {
            "text/html": [
              "<div>\n",
              "<style scoped>\n",
              "    .dataframe tbody tr th:only-of-type {\n",
              "        vertical-align: middle;\n",
              "    }\n",
              "\n",
              "    .dataframe tbody tr th {\n",
              "        vertical-align: top;\n",
              "    }\n",
              "\n",
              "    .dataframe thead tr th {\n",
              "        text-align: left;\n",
              "    }\n",
              "\n",
              "    .dataframe thead tr:last-of-type th {\n",
              "        text-align: right;\n",
              "    }\n",
              "</style>\n",
              "<table border=\"1\" class=\"dataframe\">\n",
              "  <thead>\n",
              "    <tr>\n",
              "      <th></th>\n",
              "      <th>count</th>\n",
              "      <th>sum</th>\n",
              "      <th>mean</th>\n",
              "    </tr>\n",
              "    <tr>\n",
              "      <th></th>\n",
              "      <th>debt</th>\n",
              "      <th>debt</th>\n",
              "      <th>debt</th>\n",
              "    </tr>\n",
              "    <tr>\n",
              "      <th>total_income_cat</th>\n",
              "      <th></th>\n",
              "      <th></th>\n",
              "      <th></th>\n",
              "    </tr>\n",
              "  </thead>\n",
              "  <tbody>\n",
              "    <tr>\n",
              "      <td>высокий</td>\n",
              "      <td>5345</td>\n",
              "      <td>381</td>\n",
              "      <td>0.071282</td>\n",
              "    </tr>\n",
              "    <tr>\n",
              "      <td>низкий</td>\n",
              "      <td>5345</td>\n",
              "      <td>427</td>\n",
              "      <td>0.079888</td>\n",
              "    </tr>\n",
              "    <tr>\n",
              "      <td>средне-высокий</td>\n",
              "      <td>5227</td>\n",
              "      <td>445</td>\n",
              "      <td>0.085135</td>\n",
              "    </tr>\n",
              "    <tr>\n",
              "      <td>средне-низкий</td>\n",
              "      <td>5461</td>\n",
              "      <td>480</td>\n",
              "      <td>0.087896</td>\n",
              "    </tr>\n",
              "  </tbody>\n",
              "</table>\n",
              "</div>"
            ],
            "text/plain": [
              "                 count  sum      mean\n",
              "                  debt debt      debt\n",
              "total_income_cat                     \n",
              "высокий           5345  381  0.071282\n",
              "низкий            5345  427  0.079888\n",
              "средне-высокий    5227  445  0.085135\n",
              "средне-низкий     5461  480  0.087896"
            ]
          },
          "execution_count": 30,
          "metadata": {},
          "output_type": "execute_result"
        }
      ],
      "source": [
        "# сводная таблица по столбцу 'total_income_cat'\n",
        "data.pivot_table(index='total_income_cat', values='debt', aggfunc=['count','sum','mean'])\n"
      ]
    },
    {
      "cell_type": "markdown",
      "metadata": {
        "id": "amDWY0hRnzSX"
      },
      "source": [
        "### Вывод"
      ]
    },
    {
      "cell_type": "markdown",
      "metadata": {
        "id": "aVY7w_9anzSX"
      },
      "source": [
        "Пересчитаем в процентном соотношении количество клиентов с задолженностью по кредитам к общему числу клиентов в категории:\n",
        "\n",
        "* 7% высокий\n",
        "* 7.9% низкий\n",
        "* 8,5% средне-высокий\n",
        "* 8,7% средне-низкий\n",
        "\n",
        "\n",
        "Из процентного соотношения видно, что доход мало влияет на задолженность по кредиту, если доход разбить на четыре категории.\n",
        "\n",
        "Однако, из четырех категорий - две относятся к среднему доходу. Кроме того, что в этих двух категориях риски задолженностей выше примерно на процент (относительно других категорий), если их суммировать, то получится что наиболее часто задолженности по кредиту имеют клиенты со средним доходом.\n",
        "\n",
        "Я бы рекомендовала обращать внимание на уровень дохода при одобрении кредита и особенно внимательно отнестись к клиентам, уровень доходов которых относится к одной из категорий среднего дохода.\n",
        "\n"
      ]
    },
    {
      "cell_type": "markdown",
      "metadata": {
        "id": "OQN8sbHNnzSX"
      },
      "source": [
        "<div class=\"alert alert-success\">\n",
        "<h2> Комментарий от ревьюера v4</h2>\n",
        "\n",
        "Молодец, всё верно.\n",
        "\n",
        "</div>"
      ]
    },
    {
      "cell_type": "markdown",
      "metadata": {
        "id": "QJJ5cD6-nzSX"
      },
      "source": [
        "### Как разные цели кредита влияют на его возврат в срок?"
      ]
    },
    {
      "cell_type": "code",
      "execution_count": null,
      "metadata": {
        "id": "FrkxIMaXnzSX",
        "outputId": "7c136bec-ca24-4972-c884-3ff5b72a97e8"
      },
      "outputs": [
        {
          "data": {
            "text/html": [
              "<div>\n",
              "<style scoped>\n",
              "    .dataframe tbody tr th:only-of-type {\n",
              "        vertical-align: middle;\n",
              "    }\n",
              "\n",
              "    .dataframe tbody tr th {\n",
              "        vertical-align: top;\n",
              "    }\n",
              "\n",
              "    .dataframe thead tr th {\n",
              "        text-align: left;\n",
              "    }\n",
              "\n",
              "    .dataframe thead tr:last-of-type th {\n",
              "        text-align: right;\n",
              "    }\n",
              "</style>\n",
              "<table border=\"1\" class=\"dataframe\">\n",
              "  <thead>\n",
              "    <tr>\n",
              "      <th></th>\n",
              "      <th>count</th>\n",
              "      <th>sum</th>\n",
              "      <th>mean</th>\n",
              "    </tr>\n",
              "    <tr>\n",
              "      <th></th>\n",
              "      <th>debt</th>\n",
              "      <th>debt</th>\n",
              "      <th>debt</th>\n",
              "    </tr>\n",
              "    <tr>\n",
              "      <th>purpose_lem</th>\n",
              "      <th></th>\n",
              "      <th></th>\n",
              "      <th></th>\n",
              "    </tr>\n",
              "  </thead>\n",
              "  <tbody>\n",
              "    <tr>\n",
              "      <td>автомобиль</td>\n",
              "      <td>4290</td>\n",
              "      <td>401</td>\n",
              "      <td>0.093473</td>\n",
              "    </tr>\n",
              "    <tr>\n",
              "      <td>недвижимость</td>\n",
              "      <td>10775</td>\n",
              "      <td>780</td>\n",
              "      <td>0.072390</td>\n",
              "    </tr>\n",
              "    <tr>\n",
              "      <td>образование</td>\n",
              "      <td>3998</td>\n",
              "      <td>369</td>\n",
              "      <td>0.092296</td>\n",
              "    </tr>\n",
              "    <tr>\n",
              "      <td>праздник</td>\n",
              "      <td>2315</td>\n",
              "      <td>183</td>\n",
              "      <td>0.079050</td>\n",
              "    </tr>\n",
              "  </tbody>\n",
              "</table>\n",
              "</div>"
            ],
            "text/plain": [
              "              count  sum      mean\n",
              "               debt debt      debt\n",
              "purpose_lem                       \n",
              "автомобиль     4290  401  0.093473\n",
              "недвижимость  10775  780  0.072390\n",
              "образование    3998  369  0.092296\n",
              "праздник       2315  183  0.079050"
            ]
          },
          "execution_count": 31,
          "metadata": {},
          "output_type": "execute_result"
        }
      ],
      "source": [
        "# сводная таблица по столбцу 'purpose_lem'\n",
        "data.pivot_table(index='purpose_lem', values='debt', aggfunc=['count','sum','mean'])\n"
      ]
    },
    {
      "cell_type": "markdown",
      "metadata": {
        "id": "knrpk8tDnzSX"
      },
      "source": [
        "### Вывод"
      ]
    },
    {
      "cell_type": "markdown",
      "metadata": {
        "id": "MYvHQYKYnzSY"
      },
      "source": [
        "Пересчитаем в процентном соотношении количество клиентов с задолженностью по кредитам  к общему числу клиентов в категории:\n",
        "\n",
        "* 9.3% автомобиль\n",
        "* 7.2% операции с недвижимостью\n",
        "* 9.2% образование\n",
        "* 7.9% различные торжества и праздники\n",
        "\n",
        "\n",
        "Из процентного соотношения видно, что наибольшее количество задолженностей по кредиту имеют клиенты цель кредита у которых - покупка автомобиля и образование. \n"
      ]
    },
    {
      "cell_type": "markdown",
      "metadata": {
        "id": "--g377SmnzSY"
      },
      "source": [
        "<div class=\"alert alert-danger\">\n",
        "<h2> Комментарий от ревьюера v2</h2>\n",
        "\n",
        "* <s>Смотри, в пояснениях процентов есть также ошибка. В полученных сводных таблицах получается как раз верный процент, т.е. это оценка каждой категории, ты считаешь количество должников в категории и делишь на общее количеством заещиков, и как раз по доле должников и нужно оценивать категории.\n",
        "    \n",
        "* Почему нельзя оценивать по перерасчитаным процентам, я имею ввиду проценты соотношения. Дело в том, что категории по объему выборок очень разные. Например, возмем первый вопрос. Категория без детей самая большая, вполне логично, что раз их много, значит и количество должников будет пропорционально расти. А категория с 1м ребенок меньше почти в 3 раза, и как раз процент соотношения не учитывает, что выборки по количеству разные. И тогда всегда самая болшая категория по твоим выводам будет самая плохая, потому что она большая и должников в ней много. Но на самом деле наоборот, если категория большая, и должников в ней много, это не значит, что она плохая, просто количество заемщиков очень большое. Поэтому важно оценивать доли должников внутри каждой категории. Давай приведу простой пример, есть две категории 1000 и 100 заемщиков. У каждой категории по 50 должников, в первом случае (50/1000)x100% = 5 % должников, во втором случае - (50/100)x100%  = 50 % должников. Вполне очевидно, что вторая категория плохая, но если мы расчитаем процент соотношения получится, что категории равные, у каждой по 50 должников, но это не верно, потому что категории совершенно разные по количеству. Надеюсь, что мои пояснения помогут тебе разобраться:)</s>\n",
        "\n",
        "</div>"
      ]
    },
    {
      "cell_type": "markdown",
      "metadata": {
        "id": "1NcGgvgWnzSY"
      },
      "source": [
        "<div class=\"alert alert-info\" role=\"alert\">\n",
        "Поняла, почему пересчитывать проценты. Но не поняла где смотреть на них в сводных таблицах.\n",
        "\n",
        "> \"В полученных сводных таблицах получается как раз верный процент\"\n",
        "\n",
        "Где он там? я, кажется, что-то недопоняла про сводные таблицы.\n",
        "    \n",
        "И еще один вопрос:\n",
        "\n",
        " > После корректировки промежуточных выводов, постарайся в общем выводе отдельно описать ответы на каждый вопрос. Потому что такая болшая таблица сложна в оценк\n",
        "    \n",
        "Я вроде описала в шаге 4 - общий вывод. Надо как-то еще описать (имею ввиду, что после корректировки поменяю общий вывод, но не поняла как еще отдельнее написать ответ на каждый вопрос)?:)\n",
        "</div>"
      ]
    },
    {
      "cell_type": "markdown",
      "metadata": {
        "id": "Hk4DjnE6nzSY"
      },
      "source": [
        "<div class=\"alert alert-danger\">\n",
        "<h2> Комментарий от ревьюера v3</h2>\n",
        "\n",
        "* <s>Смотри, последний столбец в сводных таблицах, где расчитано среднее (mean), это как раз доля должников в категории, если долю умножить на 100, ты получишь как раз процент должников. Почему это доля должников, поясню, при подсчете среднего по столбцу `debt` сначала считается сумма значений, т.е. сумма нулей и единиц, единицы это должники, и далее получается сумма из единиц и нулей делится на общее количество значений в столбце. И получается, что по сути нули можно опустить, и выходит,что сумма единиц (количество должников) делится на общее колчество значений (общее количество заемщиков, т.е. количество нулей и единиц), и значит подсчет среднего по столбцу `debt` выдает долю должников в категории. Для удобства этот столбец можешь умножить на 100, тогда это будет процент должников в категории. Вот его и нужно оценить, чем больше процент, тем больше должников в категории, значит категория хуже.  \n",
        "    \n",
        "* Насчет общего вывода, дело в том, что в выводе ты отметила лишь вопрос о влиянии количества детей и семейного статуса, но важно еще отметить вопросы о влиянии дохода и целей. Поэтому я тебе посоветовала вывод немного изменить, и просто указать результаты по каждому вопросу, лучше еще отметить проценты должников. Например, категория, берущая кредиты на недвижимость, является самой ответственной и имеет ...% должников, и т.д. И расписать так по каждому вопросу в отдельности. Т.е. твой вывод должен содержать и твоё заключение, плохая или хорошая категория, и лучше еще дополнить процентом, чтобы банк понимал, что значит плохой или хороший заемщик.</s>\n",
        "    \n",
        "<s>Как-то так:) Надеюсь, что всё понятно объяснила, поэтому жду твоих доработок:)</s>\n",
        "\n",
        "</div>"
      ]
    },
    {
      "cell_type": "markdown",
      "metadata": {
        "id": "wPfBhuiznzSY"
      },
      "source": [
        "<div class=\"alert alert-info\" role=\"alert\">\n",
        "Поправила. Надеюсь, на этот раз верно поняла замечания. :)\n",
        "</div>"
      ]
    },
    {
      "cell_type": "markdown",
      "metadata": {
        "id": "7rY4_wsJnzSY"
      },
      "source": [
        "<div class=\"alert alert-success\">\n",
        "<h2> Комментарий от ревьюера v4</h2>\n",
        "\n",
        "Молодец, ты всё отлично поняла:)\n",
        "\n",
        "</div>"
      ]
    },
    {
      "cell_type": "markdown",
      "metadata": {
        "id": "iO3PQjAUnzSY"
      },
      "source": [
        "### Шаг 4. Общий вывод"
      ]
    },
    {
      "cell_type": "markdown",
      "metadata": {
        "id": "EYqH3wclnzSZ"
      },
      "source": [
        "Из анализа данных по клиентам, можно сделать следующие выводы:\n",
        "\n",
        "* **Влияет ли количество детей на выплаты по кредитам:** да, влияет. У клиентов с двумя и более детьми процент задолженности по кредиту ~ 9%, с наивысшим показателем у клиентов с четырмя детьми - 9.7%.\n",
        "* **Влияет ли семейное положение на выплаты по кредитам:** да, влияет. Наибольшее количество задолженностей по кредитам у клиентов без партнеров - 9.7% и клиентов живущих в гражданском браке - 9.3%.\n",
        "* **Влияет ли уровень дохода на задолженность по кредитам:** да, влияет, так как набольшее количество задолженностей по кредиту - 8.7% у клиентов со средним доходом..\n",
        "* **Влияет ли цель кредита на задолженность по кредитам:** да, влияет. Наибольшее количество задолженностей относятся к целям связанным с покупокй автомобиля 9.3%.\n",
        "\n",
        "\n"
      ]
    },
    {
      "cell_type": "markdown",
      "metadata": {
        "id": "Tei5_YyrnzSZ"
      },
      "source": [
        "<div class=\"alert alert-danger\">\n",
        "<h2> Комментарий от ревьюера</h2>\n",
        "\n",
        "<s>После корректировки промежуточных выводов, скорректируй общий вывод, постарайся сначала описать каждый вопрос в отдельности, а в конце поместить рекомендации.</s>\n",
        "\n",
        "</div>"
      ]
    },
    {
      "cell_type": "markdown",
      "metadata": {
        "id": "oyZyrthunzSZ"
      },
      "source": [
        "<div class=\"alert alert-danger\">\n",
        "<h2> Комментарий от ревьюера v2</h2>\n",
        "\n",
        "<s>После корректировки промежуточных выводов, постарайся в общем выводе отдельно описать ответы на каждый вопрос. Потому что такая болшая таблица сложна в оценке.</s>\n",
        "\n",
        "</div>"
      ]
    },
    {
      "cell_type": "markdown",
      "metadata": {
        "id": "LiDmAh7xnzSZ"
      },
      "source": [
        "<div class=\"alert alert-success\">\n",
        "<h2> Комментарий от ревьюера v4</h2>\n",
        "\n",
        "С выводами тоже всё хорошо, молодец.\n",
        "\n",
        "</div>"
      ]
    },
    {
      "cell_type": "markdown",
      "metadata": {
        "id": "QFyFF8HQnzSZ"
      },
      "source": [
        "<div class=\"alert alert-success\">\n",
        "<h2> Комментарий от ревьюера</h2>\n",
        "\n",
        "Спасибо за твой интересный проект!\n",
        "    \n",
        "Ты внимательно изучила данные, нашла важные ошибки и пропуски. Только будь внимательнее при обработке пропусков, иногда данные можно восстановить.\n",
        "    \n",
        "Ты отлично справилась с категоризацией целей кредита с помощью лемм и категоризацией дохода. Здорово, что ее ты выполнила с помощью собственных функций.\n",
        "    \n",
        "Для тебя не составило проблем формирование сводных таблиц, это важно, молодец. Только осталось еще скорректировать выводы и сделать их чуть полнее.\n",
        "\n",
        "</div>"
      ]
    },
    {
      "cell_type": "markdown",
      "metadata": {
        "id": "YPRru4idnzSZ"
      },
      "source": [
        "<div class=\"alert alert-danger\">\n",
        "<h2> Комментарий от ревьюера</h2>\n",
        "\n",
        "<s>Осталось немного доработать проект:\n",
        "1. Скорректируй обработку пропусков.\n",
        "2. Скорректируй промежуточные ответы на вопросы и дополни полученными результатами общий вывод.\n",
        "\n",
        "Я уверенна, ты легко справишься с доработками, жду твоих исправлений:)</s>\n",
        "\n",
        "</div>"
      ]
    },
    {
      "cell_type": "markdown",
      "metadata": {
        "id": "z01GKC3enzSZ"
      },
      "source": [
        "<div class=\"alert alert-danger\">\n",
        "<h2> Комментарий от ревьюера v2</h2>\n",
        "\n",
        "<s>Спасибо за твои доработки! Но еще осталось пара критичных комментариев, постарайся скорректировать промежуточные выводы, беря в оценку только долю должников по категориям и дополни полученными новыми выводами общий вывод. Очень жду твою работу на повторную проверку:)</s>\n",
        "\n",
        "</div>"
      ]
    },
    {
      "cell_type": "markdown",
      "metadata": {
        "id": "yXb3efEAnzSa"
      },
      "source": [
        "<div class=\"alert alert-success\">\n",
        "<h2> Комментарий от ревьюера v4</h2>\n",
        "\n",
        "Спасибо за твоё терпение! Теперь все критичные комментарии обработаны, ты большая молодец:)\n",
        "    \n",
        "Я конечно же принимаю твой проект и желаю удачи в прохождении курса!\n",
        "\n",
        "</div>"
      ]
    },
    {
      "cell_type": "markdown",
      "metadata": {
        "id": "1kXv9K1InzSa"
      },
      "source": [
        "### Чек-лист готовности проекта\n",
        "\n",
        "Поставьте 'x' в выполненных пунктах. Далее нажмите Shift+Enter."
      ]
    },
    {
      "cell_type": "markdown",
      "metadata": {
        "id": "iIa9-_ecnzSa"
      },
      "source": [
        "- [x]  открыт файл;\n",
        "- [x]  файл изучен;\n",
        "- [x]  определены пропущенные значения;\n",
        "- [x]  заполнены пропущенные значения;\n",
        "- [x]  есть пояснение, какие пропущенные значения обнаружены;\n",
        "- [x]  описаны возможные причины появления пропусков в данных;\n",
        "- [x]  объяснено, по какому принципу заполнены пропуски;\n",
        "- [x]  заменен вещественный тип данных на целочисленный;\n",
        "- [x]  есть пояснение, какой метод используется для изменения типа данных и почему;\n",
        "- [x]  удалены дубликаты;\n",
        "- [x]  есть пояснение, какой метод используется для поиска и удаления дубликатов;\n",
        "- [x]  описаны возможные причины появления дубликатов в данных;\n",
        "- [x]  выделены леммы в значениях столбца с целями получения кредита;\n",
        "- [x]  описан процесс лемматизации;\n",
        "- [x]  данные категоризированы;\n",
        "- [x]  есть объяснение принципа категоризации данных;\n",
        "- [x]  есть ответ на вопрос: \"Есть ли зависимость между наличием детей и возвратом кредита в срок?\";\n",
        "- [x]  есть ответ на вопрос: \"Есть ли зависимость между семейным положением и возвратом кредита в срок?\";\n",
        "- [x]  есть ответ на вопрос: \"Есть ли зависимость между уровнем дохода и возвратом кредита в срок?\";\n",
        "- [x]  есть ответ на вопрос: \"Как разные цели кредита влияют на его возврат в срок?\";\n",
        "- [x]  в каждом этапе есть выводы;\n",
        "- [x]  есть общий вывод."
      ]
    }
  ],
  "metadata": {
    "kernelspec": {
      "name": "python37464bitkrasavirtualenvacfbc23f41da4778a3fd1b11636230e2",
      "display_name": "Python 3.8.3 64-bit ('base': conda)"
    },
    "language_info": {
      "codemirror_mode": {
        "name": "ipython",
        "version": 3
      },
      "file_extension": ".py",
      "mimetype": "text/x-python",
      "name": "python",
      "nbconvert_exporter": "python",
      "pygments_lexer": "ipython3",
      "version": "3.8.3"
    },
    "toc": {
      "base_numbering": 1,
      "nav_menu": {},
      "number_sections": true,
      "sideBar": true,
      "skip_h1_title": true,
      "title_cell": "Table of Contents",
      "title_sidebar": "Contents",
      "toc_cell": false,
      "toc_position": {},
      "toc_section_display": true,
      "toc_window_display": false
    },
    "metadata": {
      "interpreter": {
        "hash": "07efdcd4b820c98a756949507a4d29d7862823915ec7477944641bea022f4f62"
      }
    },
    "colab": {
      "name": "credit_scoring.ipynb",
      "provenance": []
    }
  },
  "nbformat": 4,
  "nbformat_minor": 0
}