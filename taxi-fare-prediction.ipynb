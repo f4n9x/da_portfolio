{
 "cells": [
  {
   "cell_type": "markdown",
   "metadata": {},
   "source": [
    "# New York City Taxi Fare Prediction\n",
    "\n",
    "The task is to predict the fare amount (inclusive of tolls) for a taxi ride in New York City given the pickup and dropoff locations.  While I can get a basic estimate based on just the distance between the two points, this will result in an RMSE of $5-$8, depending on the model used. The challenge is to do better than this using Machine Learning techniques!\n",
    "\n",
    "All datasets and the task itself were taken from the Kaggle playground competition, I do not own any of them."
   ]
  },
  {
   "cell_type": "markdown",
   "metadata": {},
   "source": [
    "## Taxi fare prediction analysis - cleaning up the training data\n"
   ]
  },
  {
   "cell_type": "markdown",
   "metadata": {},
   "source": [
    "First we need to look at the data:"
   ]
  },
  {
   "cell_type": "code",
   "execution_count": 1,
   "metadata": {
    "tags": []
   },
   "outputs": [],
   "source": [
    "# load some default Python modules that will be used for all the sections of the notebook\n",
    "import numpy as np\n",
    "import pandas as pd\n",
    "import matplotlib.pyplot as plt\n",
    "import seaborn as sns\n",
    "%matplotlib inline\n",
    "plt.style.use('seaborn-whitegrid')\n",
    "\n"
   ]
  },
  {
   "cell_type": "code",
   "execution_count": 2,
   "metadata": {},
   "outputs": [
    {
     "output_type": "execute_result",
     "data": {
      "text/plain": "['key',\n 'fare_amount',\n 'pickup_datetime',\n 'pickup_longitude',\n 'pickup_latitude',\n 'dropoff_longitude',\n 'dropoff_latitude',\n 'passenger_count']"
     },
     "metadata": {},
     "execution_count": 2
    }
   ],
   "source": [
    "# read training data with limiting to the rows, as the file is big\n",
    "\n",
    "tax_train = pd.read_csv(\"train.csv\", nrows = 10_000, parse_dates=[\"pickup_datetime\"])\n",
    "\n",
    "#and checking what columns the dataframe has\n",
    "tax_train.columns.to_list()"
   ]
  },
  {
   "cell_type": "code",
   "execution_count": 3,
   "metadata": {
    "tags": []
   },
   "outputs": [
    {
     "output_type": "stream",
     "name": "stdout",
     "text": "(10000, 8)\n"
    },
    {
     "output_type": "execute_result",
     "data": {
      "text/plain": "       key  fare_amount           pickup_datetime  pickup_longitude  \\\n0  26:21.0          4.5 2009-06-15 17:26:21+00:00        -73.844311   \n1  52:16.0         16.9 2010-01-05 16:52:16+00:00        -74.016048   \n2  35:00.0          5.7 2011-08-18 00:35:00+00:00        -73.982738   \n3  30:42.0          7.7 2012-04-21 04:30:42+00:00        -73.987130   \n4  51:00.0          5.3 2010-03-09 07:51:00+00:00        -73.968095   \n\n   pickup_latitude  dropoff_longitude  dropoff_latitude  passenger_count  \n0        40.721319         -73.841610         40.712278                1  \n1        40.711303         -73.979268         40.782004                1  \n2        40.761270         -73.991242         40.750562                2  \n3        40.733143         -73.991567         40.758092                1  \n4        40.768008         -73.956655         40.783762                1  ",
      "text/html": "<div>\n<style scoped>\n    .dataframe tbody tr th:only-of-type {\n        vertical-align: middle;\n    }\n\n    .dataframe tbody tr th {\n        vertical-align: top;\n    }\n\n    .dataframe thead th {\n        text-align: right;\n    }\n</style>\n<table border=\"1\" class=\"dataframe\">\n  <thead>\n    <tr style=\"text-align: right;\">\n      <th></th>\n      <th>key</th>\n      <th>fare_amount</th>\n      <th>pickup_datetime</th>\n      <th>pickup_longitude</th>\n      <th>pickup_latitude</th>\n      <th>dropoff_longitude</th>\n      <th>dropoff_latitude</th>\n      <th>passenger_count</th>\n    </tr>\n  </thead>\n  <tbody>\n    <tr>\n      <th>0</th>\n      <td>26:21.0</td>\n      <td>4.5</td>\n      <td>2009-06-15 17:26:21+00:00</td>\n      <td>-73.844311</td>\n      <td>40.721319</td>\n      <td>-73.841610</td>\n      <td>40.712278</td>\n      <td>1</td>\n    </tr>\n    <tr>\n      <th>1</th>\n      <td>52:16.0</td>\n      <td>16.9</td>\n      <td>2010-01-05 16:52:16+00:00</td>\n      <td>-74.016048</td>\n      <td>40.711303</td>\n      <td>-73.979268</td>\n      <td>40.782004</td>\n      <td>1</td>\n    </tr>\n    <tr>\n      <th>2</th>\n      <td>35:00.0</td>\n      <td>5.7</td>\n      <td>2011-08-18 00:35:00+00:00</td>\n      <td>-73.982738</td>\n      <td>40.761270</td>\n      <td>-73.991242</td>\n      <td>40.750562</td>\n      <td>2</td>\n    </tr>\n    <tr>\n      <th>3</th>\n      <td>30:42.0</td>\n      <td>7.7</td>\n      <td>2012-04-21 04:30:42+00:00</td>\n      <td>-73.987130</td>\n      <td>40.733143</td>\n      <td>-73.991567</td>\n      <td>40.758092</td>\n      <td>1</td>\n    </tr>\n    <tr>\n      <th>4</th>\n      <td>51:00.0</td>\n      <td>5.3</td>\n      <td>2010-03-09 07:51:00+00:00</td>\n      <td>-73.968095</td>\n      <td>40.768008</td>\n      <td>-73.956655</td>\n      <td>40.783762</td>\n      <td>1</td>\n    </tr>\n  </tbody>\n</table>\n</div>"
     },
     "metadata": {},
     "execution_count": 3
    }
   ],
   "source": [
    "# i can also check how the table would look like and get the shape of the dataframe\n",
    "print(tax_train.shape)\n",
    "tax_train.head()"
   ]
  },
  {
   "cell_type": "markdown",
   "metadata": {},
   "source": [
    "I check the type of the data, I will need it later to pick up features for training."
   ]
  },
  {
   "cell_type": "code",
   "execution_count": 4,
   "metadata": {},
   "outputs": [
    {
     "output_type": "execute_result",
     "data": {
      "text/plain": "key                               object\nfare_amount                      float64\npickup_datetime      datetime64[ns, UTC]\npickup_longitude                 float64\npickup_latitude                  float64\ndropoff_longitude                float64\ndropoff_latitude                 float64\npassenger_count                    int64\ndtype: object"
     },
     "metadata": {},
     "execution_count": 4
    }
   ],
   "source": [
    "# check datatypes\n",
    "tax_train.dtypes"
   ]
  },
  {
   "cell_type": "markdown",
   "metadata": {},
   "source": [
    "I check how the data looks like:"
   ]
  },
  {
   "cell_type": "code",
   "execution_count": 5,
   "metadata": {},
   "outputs": [
    {
     "output_type": "execute_result",
     "data": {
      "text/plain": "        fare_amount  pickup_longitude  pickup_latitude  dropoff_longitude  \\\ncount  10000.000000      10000.000000     10000.000000       10000.000000   \nmean      11.235464        -72.466660        39.920448         -72.474094   \nstd        9.584258         10.609729         7.318932          10.579732   \nmin       -2.900000        -74.438233       -74.006893         -74.429332   \n25%        6.000000        -73.992058        40.734547         -73.991112   \n50%        8.500000        -73.981758        40.752693         -73.980083   \n75%       12.500000        -73.966925        40.767694         -73.963504   \nmax      180.000000         40.766125       401.083332          40.802437   \n\n       dropoff_latitude  passenger_count  \ncount      10000.000000     10000.000000  \nmean          39.893281         1.644700  \nstd            6.339919         1.271229  \nmin          -73.994392         0.000000  \n25%           40.735230         1.000000  \n50%           40.753738         1.000000  \n75%           40.768186         2.000000  \nmax           41.366138         6.000000  ",
      "text/html": "<div>\n<style scoped>\n    .dataframe tbody tr th:only-of-type {\n        vertical-align: middle;\n    }\n\n    .dataframe tbody tr th {\n        vertical-align: top;\n    }\n\n    .dataframe thead th {\n        text-align: right;\n    }\n</style>\n<table border=\"1\" class=\"dataframe\">\n  <thead>\n    <tr style=\"text-align: right;\">\n      <th></th>\n      <th>fare_amount</th>\n      <th>pickup_longitude</th>\n      <th>pickup_latitude</th>\n      <th>dropoff_longitude</th>\n      <th>dropoff_latitude</th>\n      <th>passenger_count</th>\n    </tr>\n  </thead>\n  <tbody>\n    <tr>\n      <th>count</th>\n      <td>10000.000000</td>\n      <td>10000.000000</td>\n      <td>10000.000000</td>\n      <td>10000.000000</td>\n      <td>10000.000000</td>\n      <td>10000.000000</td>\n    </tr>\n    <tr>\n      <th>mean</th>\n      <td>11.235464</td>\n      <td>-72.466660</td>\n      <td>39.920448</td>\n      <td>-72.474094</td>\n      <td>39.893281</td>\n      <td>1.644700</td>\n    </tr>\n    <tr>\n      <th>std</th>\n      <td>9.584258</td>\n      <td>10.609729</td>\n      <td>7.318932</td>\n      <td>10.579732</td>\n      <td>6.339919</td>\n      <td>1.271229</td>\n    </tr>\n    <tr>\n      <th>min</th>\n      <td>-2.900000</td>\n      <td>-74.438233</td>\n      <td>-74.006893</td>\n      <td>-74.429332</td>\n      <td>-73.994392</td>\n      <td>0.000000</td>\n    </tr>\n    <tr>\n      <th>25%</th>\n      <td>6.000000</td>\n      <td>-73.992058</td>\n      <td>40.734547</td>\n      <td>-73.991112</td>\n      <td>40.735230</td>\n      <td>1.000000</td>\n    </tr>\n    <tr>\n      <th>50%</th>\n      <td>8.500000</td>\n      <td>-73.981758</td>\n      <td>40.752693</td>\n      <td>-73.980083</td>\n      <td>40.753738</td>\n      <td>1.000000</td>\n    </tr>\n    <tr>\n      <th>75%</th>\n      <td>12.500000</td>\n      <td>-73.966925</td>\n      <td>40.767694</td>\n      <td>-73.963504</td>\n      <td>40.768186</td>\n      <td>2.000000</td>\n    </tr>\n    <tr>\n      <th>max</th>\n      <td>180.000000</td>\n      <td>40.766125</td>\n      <td>401.083332</td>\n      <td>40.802437</td>\n      <td>41.366138</td>\n      <td>6.000000</td>\n    </tr>\n  </tbody>\n</table>\n</div>"
     },
     "metadata": {},
     "execution_count": 5
    }
   ],
   "source": [
    "tax_train.describe()\n"
   ]
  },
  {
   "cell_type": "markdown",
   "metadata": {},
   "source": [
    "I double check if there are any missing values (looks like there is none)."
   ]
  },
  {
   "cell_type": "code",
   "execution_count": 6,
   "metadata": {
    "tags": []
   },
   "outputs": [
    {
     "output_type": "stream",
     "name": "stdout",
     "text": "key                  0\nfare_amount          0\npickup_datetime      0\npickup_longitude     0\npickup_latitude      0\ndropoff_longitude    0\ndropoff_latitude     0\npassenger_count      0\ndtype: int64\n"
    }
   ],
   "source": [
    "# get the number of missing data points per column\n",
    "missing_values_count = tax_train.isnull().sum()\n",
    "\n",
    "# look at the # of missing points\n",
    "print(missing_values_count)"
   ]
  },
  {
   "cell_type": "markdown",
   "metadata": {},
   "source": [
    "From the data description it looks that some `fare_amount` values are negative. As it cannot be so, I drop the negative values."
   ]
  },
  {
   "cell_type": "code",
   "execution_count": 9,
   "metadata": {},
   "outputs": [],
   "source": [
    "# I filter out all negative values from the dataframe\n",
    "tax_train = tax_train[tax_train.fare_amount > 0]"
   ]
  },
  {
   "cell_type": "code",
   "execution_count": 10,
   "metadata": {},
   "outputs": [
    {
     "output_type": "execute_result",
     "data": {
      "text/plain": "       fare_amount  pickup_longitude  pickup_latitude  dropoff_longitude  \\\ncount  9998.000000       9998.000000      9998.000000        9998.000000   \nmean     11.238252        -72.466375        39.920296         -72.473810   \nstd       9.583189         10.610771         7.319656          10.580772   \nmin       0.010000        -74.438233       -74.006893         -74.429332   \n25%       6.000000        -73.992056        40.734564         -73.991109   \n50%       8.500000        -73.981758        40.752695         -73.980083   \n75%      12.500000        -73.966934        40.767696         -73.963512   \nmax     180.000000         40.766125       401.083332          40.802437   \n\n       dropoff_latitude  passenger_count  \ncount       9998.000000      9998.000000  \nmean          39.893123         1.644829  \nstd            6.340543         1.271324  \nmin          -73.994392         0.000000  \n25%           40.735235         1.000000  \n50%           40.753740         1.000000  \n75%           40.768187         2.000000  \nmax           41.366138         6.000000  ",
      "text/html": "<div>\n<style scoped>\n    .dataframe tbody tr th:only-of-type {\n        vertical-align: middle;\n    }\n\n    .dataframe tbody tr th {\n        vertical-align: top;\n    }\n\n    .dataframe thead th {\n        text-align: right;\n    }\n</style>\n<table border=\"1\" class=\"dataframe\">\n  <thead>\n    <tr style=\"text-align: right;\">\n      <th></th>\n      <th>fare_amount</th>\n      <th>pickup_longitude</th>\n      <th>pickup_latitude</th>\n      <th>dropoff_longitude</th>\n      <th>dropoff_latitude</th>\n      <th>passenger_count</th>\n    </tr>\n  </thead>\n  <tbody>\n    <tr>\n      <th>count</th>\n      <td>9998.000000</td>\n      <td>9998.000000</td>\n      <td>9998.000000</td>\n      <td>9998.000000</td>\n      <td>9998.000000</td>\n      <td>9998.000000</td>\n    </tr>\n    <tr>\n      <th>mean</th>\n      <td>11.238252</td>\n      <td>-72.466375</td>\n      <td>39.920296</td>\n      <td>-72.473810</td>\n      <td>39.893123</td>\n      <td>1.644829</td>\n    </tr>\n    <tr>\n      <th>std</th>\n      <td>9.583189</td>\n      <td>10.610771</td>\n      <td>7.319656</td>\n      <td>10.580772</td>\n      <td>6.340543</td>\n      <td>1.271324</td>\n    </tr>\n    <tr>\n      <th>min</th>\n      <td>0.010000</td>\n      <td>-74.438233</td>\n      <td>-74.006893</td>\n      <td>-74.429332</td>\n      <td>-73.994392</td>\n      <td>0.000000</td>\n    </tr>\n    <tr>\n      <th>25%</th>\n      <td>6.000000</td>\n      <td>-73.992056</td>\n      <td>40.734564</td>\n      <td>-73.991109</td>\n      <td>40.735235</td>\n      <td>1.000000</td>\n    </tr>\n    <tr>\n      <th>50%</th>\n      <td>8.500000</td>\n      <td>-73.981758</td>\n      <td>40.752695</td>\n      <td>-73.980083</td>\n      <td>40.753740</td>\n      <td>1.000000</td>\n    </tr>\n    <tr>\n      <th>75%</th>\n      <td>12.500000</td>\n      <td>-73.966934</td>\n      <td>40.767696</td>\n      <td>-73.963512</td>\n      <td>40.768187</td>\n      <td>2.000000</td>\n    </tr>\n    <tr>\n      <th>max</th>\n      <td>180.000000</td>\n      <td>40.766125</td>\n      <td>401.083332</td>\n      <td>40.802437</td>\n      <td>41.366138</td>\n      <td>6.000000</td>\n    </tr>\n  </tbody>\n</table>\n</div>"
     },
     "metadata": {},
     "execution_count": 10
    }
   ],
   "source": [
    "# checking how the data looks like now\n",
    "tax_train.describe()"
   ]
  },
  {
   "cell_type": "markdown",
   "metadata": {},
   "source": [
    "Ok, now no negative valuse in `fare_amount` and no NaN. All good."
   ]
  },
  {
   "cell_type": "markdown",
   "metadata": {},
   "source": [
    "## Taxi fare prediction analysis - cleaning up the test data\n",
    "\n",
    "Then I take a look into the test set to see how the columns look like there"
   ]
  },
  {
   "cell_type": "code",
   "execution_count": 11,
   "metadata": {},
   "outputs": [
    {
     "output_type": "execute_result",
     "data": {
      "text/plain": "['key',\n 'pickup_datetime',\n 'pickup_longitude',\n 'pickup_latitude',\n 'dropoff_longitude',\n 'dropoff_latitude',\n 'passenger_count']"
     },
     "metadata": {},
     "execution_count": 11
    }
   ],
   "source": [
    "# Read test data\n",
    "\n",
    "tax_test = pd.read_csv(\"test.csv\", nrows = 2_000)\n",
    "\n",
    "#and checking what columns the data table has\n",
    "tax_test.columns.to_list()"
   ]
  },
  {
   "cell_type": "code",
   "execution_count": 13,
   "metadata": {},
   "outputs": [
    {
     "output_type": "execute_result",
     "data": {
      "text/plain": "       pickup_longitude  pickup_latitude  dropoff_longitude  dropoff_latitude  \\\ncount       2000.000000      2000.000000        2000.000000       2000.000000   \nmean          40.692830       -73.916841          40.693120          1.019872   \nstd            2.565463         2.565859           2.565693          0.888699   \nmin          -73.973320       -74.263242         -73.981430          1.000000   \n25%           40.735097       -73.991009          40.734700          1.000000   \n50%           40.752976       -73.980150          40.753934          1.000000   \n75%           40.767182       -73.963539          40.768612          1.000000   \nmax           41.069660        40.763805          41.051657         40.743835   \n\n       passenger_count  \ncount              1.0  \nmean               1.0  \nstd                NaN  \nmin                1.0  \n25%                1.0  \n50%                1.0  \n75%                1.0  \nmax                1.0  ",
      "text/html": "<div>\n<style scoped>\n    .dataframe tbody tr th:only-of-type {\n        vertical-align: middle;\n    }\n\n    .dataframe tbody tr th {\n        vertical-align: top;\n    }\n\n    .dataframe thead th {\n        text-align: right;\n    }\n</style>\n<table border=\"1\" class=\"dataframe\">\n  <thead>\n    <tr style=\"text-align: right;\">\n      <th></th>\n      <th>pickup_longitude</th>\n      <th>pickup_latitude</th>\n      <th>dropoff_longitude</th>\n      <th>dropoff_latitude</th>\n      <th>passenger_count</th>\n    </tr>\n  </thead>\n  <tbody>\n    <tr>\n      <th>count</th>\n      <td>2000.000000</td>\n      <td>2000.000000</td>\n      <td>2000.000000</td>\n      <td>2000.000000</td>\n      <td>1.0</td>\n    </tr>\n    <tr>\n      <th>mean</th>\n      <td>40.692830</td>\n      <td>-73.916841</td>\n      <td>40.693120</td>\n      <td>1.019872</td>\n      <td>1.0</td>\n    </tr>\n    <tr>\n      <th>std</th>\n      <td>2.565463</td>\n      <td>2.565859</td>\n      <td>2.565693</td>\n      <td>0.888699</td>\n      <td>NaN</td>\n    </tr>\n    <tr>\n      <th>min</th>\n      <td>-73.973320</td>\n      <td>-74.263242</td>\n      <td>-73.981430</td>\n      <td>1.000000</td>\n      <td>1.0</td>\n    </tr>\n    <tr>\n      <th>25%</th>\n      <td>40.735097</td>\n      <td>-73.991009</td>\n      <td>40.734700</td>\n      <td>1.000000</td>\n      <td>1.0</td>\n    </tr>\n    <tr>\n      <th>50%</th>\n      <td>40.752976</td>\n      <td>-73.980150</td>\n      <td>40.753934</td>\n      <td>1.000000</td>\n      <td>1.0</td>\n    </tr>\n    <tr>\n      <th>75%</th>\n      <td>40.767182</td>\n      <td>-73.963539</td>\n      <td>40.768612</td>\n      <td>1.000000</td>\n      <td>1.0</td>\n    </tr>\n    <tr>\n      <th>max</th>\n      <td>41.069660</td>\n      <td>40.763805</td>\n      <td>41.051657</td>\n      <td>40.743835</td>\n      <td>1.0</td>\n    </tr>\n  </tbody>\n</table>\n</div>"
     },
     "metadata": {},
     "execution_count": 13
    }
   ],
   "source": [
    "# Checking how the test data looks like\n",
    "tax_test.describe()"
   ]
  },
  {
   "cell_type": "markdown",
   "metadata": {},
   "source": [
    "As I can see there is no `fare_amount` column, as I need to predict that column. \n",
    "There are some NaN values in the `passanger_count`:"
   ]
  },
  {
   "cell_type": "code",
   "execution_count": null,
   "metadata": {},
   "outputs": [],
   "source": []
  },
  {
   "cell_type": "markdown",
   "metadata": {},
   "source": [
    "After looking at the data, I need to determine a problem. I need to determine a model, to understand what kind of Machine Learning model to use.\n",
    "\n",
    "I start with creating a histogramm of the data:"
   ]
  },
  {
   "cell_type": "code",
   "execution_count": null,
   "metadata": {},
   "outputs": [],
   "source": [
    "# Plot a histogram\n",
    "tax_train.fare_amount.hist(bins=30, alpha=0.5)\n",
    "plt.show()"
   ]
  },
  {
   "cell_type": "markdown",
   "metadata": {},
   "source": [
    "From histogram I can see, that the `fare_amount` is a contionous variable, therefore I am dealing with the regression problem."
   ]
  },
  {
   "cell_type": "code",
   "execution_count": null,
   "metadata": {},
   "outputs": [],
   "source": [
    "from sklearn.linear_model import LinearRegression\n",
    "\n",
    "\n",
    "# Creating a LinearRegression object\n",
    "lr = LinearRegression() \n"
   ]
  },
  {
   "cell_type": "markdown",
   "metadata": {},
   "source": [
    "I take some features in the train set and build a linear regression"
   ]
  },
  {
   "cell_type": "code",
   "execution_count": null,
   "metadata": {},
   "outputs": [],
   "source": [
    "# Fit the model on the train data\n",
    "\n",
    "lr.fit(X=tax_train[['pickup_longitude',  'pickup_latitude',  'dropoff_longitude',  'dropoff_latitude',  'passenger_count']],\n",
    "        y=tax_train['fare_amount'])"
   ]
  }
 ],
 "metadata": {
  "kernelspec": {
   "display_name": "Python 3",
   "language": "python",
   "name": "python3"
  },
  "language_info": {
   "codemirror_mode": {
    "name": "ipython",
    "version": 3
   },
   "file_extension": ".py",
   "mimetype": "text/x-python",
   "name": "python",
   "nbconvert_exporter": "python",
   "pygments_lexer": "ipython3",
   "version": "3.8.3-final"
  }
 },
 "nbformat": 4,
 "nbformat_minor": 4
}