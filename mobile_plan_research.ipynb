{
  "cells": [
    {
      "cell_type": "markdown",
      "metadata": {
        "id": "view-in-github",
        "colab_type": "text"
      },
      "source": [
        "<a href=\"https://colab.research.google.com/github/mdacoca/da_portfolio/blob/de_camp/mobile_plan_research.ipynb\" target=\"_parent\"><img src=\"https://colab.research.google.com/assets/colab-badge.svg\" alt=\"Open In Colab\"/></a>"
      ]
    },
    {
      "cell_type": "markdown",
      "metadata": {
        "id": "VV7WgljRUja6"
      },
      "source": [
        "<div class=\"alert alert-success\">\n",
        "<h2> Комментарий ревьюера 2</h2>\n",
        "\n",
        "Привет еще раз. Спасибо, что доделала работу. Оформление комментариев по работе сохраняется. Только обозначим, что это вторая итерация. \n",
        "\n",
        "</div>"
      ]
    },
    {
      "cell_type": "markdown",
      "metadata": {
        "id": "cnT1zwK1Uja8"
      },
      "source": [
        "<div class=\"alert alert-success\">\n",
        "<h2> Комментарий ревьюера </h2>\n",
        "\n",
        "Привет, Мария! Спасибо, что прислала задание:) Меня зовут Слепцов Артем и я буду проверять твой проект) Ты проделала большую работу над проектом, однако его еще можно улучшить. Будет здорово, если ты, надеюсь, не против, если я буду на ты, будешь отвечать на комментарии и участвовать в диалоге. \n",
        "\n",
        "Мои комментарии обозначены пометкой **Комментарий ревьюера**. Далее в файле ты сможешь найти их в похожих ячейках (если фон комментария <font color=green>зелёный</font> - всё сделано правильно. Рекомендации укажу таким же цветом; <font color=orange>оранжевый</font> - некритичные замечания. Если таких замечаний меньше трех - проект может быть принят без их отработки; <font color=red>красный</font> - нужно переделать). Не удаляй эти комментарии и постарайся учесть их в ходе выполнения данного проекта. \n",
        "    \n",
        "У нас сейчас новогодние каникулы - но у меня было свободное время, и я решил проверить твою работу. Не могу обещать повторную проверку в течение 24 часов до конца каникул. Но 11 января все ревьюеры начнут работать в штатном режиме, и я обязательно увижу твой проект снова\"\n",
        "\n",
        "</div>"
      ]
    },
    {
      "cell_type": "markdown",
      "metadata": {
        "id": "zoA90KV1Uja8"
      },
      "source": [
        "# Определение перспективного тарифа для телеком компании"
      ]
    },
    {
      "cell_type": "markdown",
      "metadata": {
        "id": "_sbDKtMPUja8"
      },
      "source": [
        "1. <font size=\"3\">[Описание проекта](#overview)</font>\n",
        "2. <font size=\"3\">[Подготовка данных](#data-prep)</font>:\n",
        "    1. <font size=\"3\">[Users (информация о клиентах)](#users-info)\n",
        "    2. <font size=\"3\">[Calls (информация о звонках)](#calls-info)\n",
        "    3. <font size=\"3\">[Messages (информация о sms сообщениях)](#messages-info)\n",
        "    4. <font size=\"3\">[Internet (информация об использовании интернета)](#nternet-info)\n",
        "    5. <font size=\"3\">[Tariffs (информация о тарифах)](#ariffs-info)\n",
        "3. <font size=\"3\">[Рассчеты использования тарифов клиентами (по месяцам)](#clients-calculations)\n",
        "    1. <font size=\"3\">[Calls (информация о звонках)](#calls-info-02)\n",
        "    2. <font size=\"3\">[Messages (информация о sms сообщениях)](#messages-info-02)\n",
        "    3. <font size=\"3\">[Internet (информация об использовании интернета)](#nternet-info-02)\n",
        "    4. <font size=\"3\">[Сводная таблица с рассчетами](#clients-meged)\n",
        "4. <font size=\"3\">[Исследовательский анализ тарифов](#smart-ultra-calculations)\n",
        "    1. <font size=\"3\">[Calls (информация о звонках)](#calls-info-03)\n",
        "    2. <font size=\"3\">[Internet (информация об использовании интернета)](#nternet-info-03)\n",
        "    3. <font size=\"3\">[Messages (информация о sms сообщениях)](#messages-info-03)\n",
        "5. <font size=\"3\">[Проверка гипотез: средняя выручка](#hyp-test-01)\n",
        "6. <font size=\"3\">[Проверка гипотез: выручка по городам](#hyp-test-02)\n",
        "7. <font size=\"3\">[Общий вывод](#conclustion)"
      ]
    },
    {
      "cell_type": "markdown",
      "metadata": {
        "id": "-F1dBmUlUja9"
      },
      "source": [
        "# <a name=\"overview\">Описание проекта</a>\n",
        "\n",
        "Компания «Мегалайн» — федеральный оператор сотовой связи предлагает клиентам два тарифных плана: «Смарт» и «Ультра». Чтобы скорректировать рекламный бюджет, коммерческий департамент хочет понять, какой тариф приносит больше денег.\n",
        "\n",
        "Необходимо сделать предварительный анализ тарифов на небольшой выборке клиентов. В вашем распоряжении данные 500 пользователей «Мегалайна»: кто они, откуда, каким тарифом пользуются, сколько звонков и сообщений каждый отправил за 2018 год. Нужно проанализировать поведение клиентов и сделать вывод — какой тариф лучше.\n",
        "\n",
        "## Описание тарифов\n",
        "\n",
        "**Тариф «Смарт»**\n",
        "1. Ежемесячная плата: 550 рублей\n",
        "2. Включено 500 минут разговора, 50 сообщений и 15 Гб интернет-трафика\n",
        "3. Стоимость услуг сверх тарифного пакета:\n",
        "    * минута разговора: 3 рубля\n",
        "    * сообщение: 3 рубля\n",
        "    * 1 Гб интернет-трафика: 200 рублей\n",
        "\n",
        "**Тариф «Ультра»**\n",
        "1. Ежемесячная плата: 1950 рублей\n",
        "2. Включено 3000 минут разговора, 1000 сообщений и 30 Гб интернет-трафика\n",
        "3. Стоимость услуг сверх тарифного пакета:\n",
        "    * минута разговора: 1 рубль\n",
        "    * сообщение: 1 рубль\n",
        "    * 1 Гб интернет-трафика: 150 рублей\n",
        "\n",
        "> «Мегалайн» всегда округляет вверх значения минут и мегабайтов. Если пользователь проговорил всего 1 секунду, в тарифе засчитывается целая минута.\n",
        "\n",
        "## Описание данных\n",
        "\n",
        "Таблица users (информация о пользователях):\n",
        "* `user_id` — уникальный идентификатор пользователя\n",
        "* `first_name` — имя пользователя\n",
        "* `last_name` — фамилия пользователя\n",
        "* `age` — возраст пользователя (годы)\n",
        "* `reg_date` — дата подключения тарифа (день, месяц, год)\n",
        "* `churn_date` — дата прекращения пользования тарифом (если значение пропущено, то тариф ещё действовал на момент выгрузки данных)\n",
        "* `city` — город проживания пользователя\n",
        "* `tariff` — название тарифного плана\n",
        "\n",
        "\n",
        "Таблица calls (информация о звонках):\n",
        "\n",
        "* `id` — уникальный номер звонка\n",
        "* `call_date` — дата звонка\n",
        "* `duration` — длительность звонка в минутах\n",
        "* `user_id` — идентификатор пользователя, сделавшего звонок\n",
        "\n",
        "\n",
        "Таблица messages (информация о сообщениях):\n",
        "\n",
        "* `id` — уникальный номер сообщения\n",
        "* `message_date` — дата сообщения\n",
        "* `user_id` — идентификатор пользователя, отправившего сообщение\n",
        "\n",
        "\n",
        "Таблица internet (информация об интернет-сессиях):\n",
        "\n",
        "* `id` — уникальный номер сессии\n",
        "* `mb_used` — объём потраченного за сессию интернет-трафика (в мегабайтах)\n",
        "* `session_date` — дата интернет-сессии\n",
        "* `user_id` — идентификатор пользователя\n",
        "\n",
        "\n",
        "Таблица tariffs (информация о тарифах):\n",
        "\n",
        "* `tariff_name` — название тарифа\n",
        "* `rub_monthly_fee` — ежемесячная абонентская плата в рублях\n",
        "* `minutes_included` — количество минут разговора в месяц, включённых в абонентскую плату\n",
        "* `messages_included` — количество сообщений в месяц, включённых в абонентскую плату\n",
        "* `mb_per_month_included` — объём интернет-трафика, включённого в абонентскую плату (в мегабайтах)\n",
        "* `rub_per_minute` — стоимость минуты разговора сверх тарифного пакета (например, если в тарифе 100 минут разговора в месяц, то со 101 минуты будет взиматься плата)\n",
        "* `rub_per_message` — стоимость отправки сообщения сверх тарифного пакета\n",
        "* `rub_per_gb` — стоимость дополнительного гигабайта интернет-трафика сверх тарифного пакета (1 гигабайт = 1024 мегабайта)\n",
        "\n",
        "## Задачи\n",
        "\n",
        "1. Опишите поведение клиентов оператора, исходя из выборки:\n",
        "    * Сколько минут разговора, сколько сообщений и какой объём интернет-трафика требуется пользователям каждого тарифа в месяц? \n",
        "    * Посчитайте среднее количество, дисперсию и стандартное отклонение. \n",
        "    * Постройте гистограммы. Опишите распределения.\n",
        "2.  Проверьте гипотезы:\n",
        "    * средняя выручка пользователей тарифов «Ультра» и «Смарт» различается;\n",
        "    * средняя выручка пользователей из Москвы отличается от выручки пользователей из других регионов;\n",
        "3. Поясните:\n",
        "    * как вы формулировали нулевую и альтернативную гипотезы;\n",
        "    * какой критерий использовали для проверки гипотез и почему.\n",
        "4. Общий вывод"
      ]
    },
    {
      "cell_type": "markdown",
      "metadata": {
        "id": "CrrbP2q9Uja-"
      },
      "source": [
        "<div class=\"alert alert-success\">\n",
        "<h2> Комментарий ревьюера</h2>\n",
        "\n",
        "Вступление в работу очень важно. Так ты поясняешь то, чему она посвящена. Здорово, что каждому пункту вводной информации ты уделила внимание. \n",
        "\n",
        "</div>"
      ]
    },
    {
      "cell_type": "markdown",
      "metadata": {
        "id": "Z6bZoKAmUja-"
      },
      "source": [
        "# <a name=\"data-prep\">Подготовка данных</a>"
      ]
    },
    {
      "cell_type": "code",
      "execution_count": null,
      "metadata": {
        "id": "i-F5hdQHUja-"
      },
      "outputs": [],
      "source": [
        "# импорт необходимых библиотек \n",
        "import pandas as pd\n",
        "import numpy as np\n",
        "from datetime import datetime\n",
        "from scipy import stats as st\n",
        "pd.options.mode.chained_assignment = None  # default='warn'\n",
        "np.warnings.filterwarnings('ignore', category=np.VisibleDeprecationWarning)  \n",
        "from pymystem3 import Mystem\n",
        "from matplotlib import pyplot as plt\n",
        "m = Mystem()"
      ]
    },
    {
      "cell_type": "markdown",
      "metadata": {
        "id": "5lFAf5oiUja_"
      },
      "source": [
        "<div class=\"alert alert-success\">\n",
        "<h2> Комментарий ревьюера</h2>\n",
        "\n",
        "Правильно, что весь импорт ты проводишь в первой ячейке работы. Так твой коллега, запускающий работу, будет в курсе используемых в ней библиотек и сможет при необходимости быстро настроить окружение. \n",
        "\n",
        "</div>"
      ]
    },
    {
      "cell_type": "code",
      "execution_count": null,
      "metadata": {
        "id": "thY2ITyPUja_"
      },
      "outputs": [],
      "source": [
        "# импорт данных\n",
        "users = pd.read_csv('/datasets/users.csv')\n",
        "calls = pd.read_csv('/datasets/calls.csv')\n",
        "messages = pd.read_csv('/datasets/messages.csv')\n",
        "internet = pd.read_csv('/datasets/internet.csv')\n",
        "tariffs = pd.read_csv('/datasets/tariffs.csv')\n"
      ]
    },
    {
      "cell_type": "markdown",
      "metadata": {
        "id": "d0ikD4esUja_"
      },
      "source": [
        "Так как данные у меня в нескольких таблицах, мне надо будет свести их в одну по столбцу `user_id`, по которому можно объеденить таблицы: `users`, `calls`, `internet`, `messages`.\n",
        "\n",
        "Прежде, чем объединять таблицы, необходимо проверить наличие пропусков, дублей и поправить (если необходимо) типы данных во всех таблицах."
      ]
    },
    {
      "cell_type": "markdown",
      "metadata": {
        "id": "TvcajTubUja_"
      },
      "source": [
        "## <a name=\"users-info\">Users (информация о клиентах)</a>"
      ]
    },
    {
      "cell_type": "markdown",
      "metadata": {
        "id": "2I11s1xeUja_"
      },
      "source": [
        "Таблица `users` содержит информация о клиентах - id, дату регистрации, ФИО и так далее:"
      ]
    },
    {
      "cell_type": "code",
      "execution_count": null,
      "metadata": {
        "id": "j3sglTlkUjbA",
        "outputId": "00c86d3c-fa01-4da5-dcee-ae98fb13be4c"
      },
      "outputs": [
        {
          "name": "stdout",
          "output_type": "stream",
          "text": [
            "<class 'pandas.core.frame.DataFrame'>\n",
            "RangeIndex: 500 entries, 0 to 499\n",
            "Data columns (total 8 columns):\n",
            "user_id       500 non-null int64\n",
            "age           500 non-null int64\n",
            "churn_date    38 non-null object\n",
            "city          500 non-null object\n",
            "first_name    500 non-null object\n",
            "last_name     500 non-null object\n",
            "reg_date      500 non-null object\n",
            "tariff        500 non-null object\n",
            "dtypes: int64(2), object(6)\n",
            "memory usage: 31.4+ KB\n"
          ]
        }
      ],
      "source": [
        "# проверяем тип данных и количество пропусков\n",
        "users.info()"
      ]
    },
    {
      "cell_type": "code",
      "execution_count": null,
      "metadata": {
        "id": "fUD503iLUjbA",
        "outputId": "8a0e17f3-a5ce-463e-c023-7177e2aad283"
      },
      "outputs": [
        {
          "data": {
            "text/html": [
              "<div>\n",
              "<style scoped>\n",
              "    .dataframe tbody tr th:only-of-type {\n",
              "        vertical-align: middle;\n",
              "    }\n",
              "\n",
              "    .dataframe tbody tr th {\n",
              "        vertical-align: top;\n",
              "    }\n",
              "\n",
              "    .dataframe thead th {\n",
              "        text-align: right;\n",
              "    }\n",
              "</style>\n",
              "<table border=\"1\" class=\"dataframe\">\n",
              "  <thead>\n",
              "    <tr style=\"text-align: right;\">\n",
              "      <th></th>\n",
              "      <th>user_id</th>\n",
              "      <th>age</th>\n",
              "      <th>churn_date</th>\n",
              "      <th>city</th>\n",
              "      <th>first_name</th>\n",
              "      <th>last_name</th>\n",
              "      <th>reg_date</th>\n",
              "      <th>tariff</th>\n",
              "    </tr>\n",
              "  </thead>\n",
              "  <tbody>\n",
              "    <tr>\n",
              "      <td>490</td>\n",
              "      <td>1490</td>\n",
              "      <td>30</td>\n",
              "      <td>NaN</td>\n",
              "      <td>Москва</td>\n",
              "      <td>Радомир</td>\n",
              "      <td>Алесин</td>\n",
              "      <td>2018-04-03</td>\n",
              "      <td>smart</td>\n",
              "    </tr>\n",
              "    <tr>\n",
              "      <td>365</td>\n",
              "      <td>1365</td>\n",
              "      <td>38</td>\n",
              "      <td>NaN</td>\n",
              "      <td>Ростов-на-Дону</td>\n",
              "      <td>Георгий</td>\n",
              "      <td>Вишняков</td>\n",
              "      <td>2018-10-31</td>\n",
              "      <td>smart</td>\n",
              "    </tr>\n",
              "    <tr>\n",
              "      <td>2</td>\n",
              "      <td>1002</td>\n",
              "      <td>59</td>\n",
              "      <td>NaN</td>\n",
              "      <td>Стерлитамак</td>\n",
              "      <td>Евгений</td>\n",
              "      <td>Абрамович</td>\n",
              "      <td>2018-06-17</td>\n",
              "      <td>smart</td>\n",
              "    </tr>\n",
              "    <tr>\n",
              "      <td>160</td>\n",
              "      <td>1160</td>\n",
              "      <td>73</td>\n",
              "      <td>NaN</td>\n",
              "      <td>Ульяновск</td>\n",
              "      <td>Борис</td>\n",
              "      <td>Авдонюшкин</td>\n",
              "      <td>2018-07-03</td>\n",
              "      <td>smart</td>\n",
              "    </tr>\n",
              "    <tr>\n",
              "      <td>20</td>\n",
              "      <td>1020</td>\n",
              "      <td>59</td>\n",
              "      <td>2018-12-18</td>\n",
              "      <td>Чита</td>\n",
              "      <td>Тала</td>\n",
              "      <td>Костина</td>\n",
              "      <td>2018-10-22</td>\n",
              "      <td>smart</td>\n",
              "    </tr>\n",
              "    <tr>\n",
              "      <td>238</td>\n",
              "      <td>1238</td>\n",
              "      <td>57</td>\n",
              "      <td>NaN</td>\n",
              "      <td>Ростов-на-Дону</td>\n",
              "      <td>Радислав</td>\n",
              "      <td>Наумов</td>\n",
              "      <td>2018-01-08</td>\n",
              "      <td>smart</td>\n",
              "    </tr>\n",
              "    <tr>\n",
              "      <td>344</td>\n",
              "      <td>1344</td>\n",
              "      <td>60</td>\n",
              "      <td>NaN</td>\n",
              "      <td>Воронеж</td>\n",
              "      <td>Илзе</td>\n",
              "      <td>Игнатьева</td>\n",
              "      <td>2018-04-03</td>\n",
              "      <td>ultra</td>\n",
              "    </tr>\n",
              "    <tr>\n",
              "      <td>421</td>\n",
              "      <td>1421</td>\n",
              "      <td>30</td>\n",
              "      <td>NaN</td>\n",
              "      <td>Калининград</td>\n",
              "      <td>Гайдар</td>\n",
              "      <td>Александрович</td>\n",
              "      <td>2018-02-22</td>\n",
              "      <td>smart</td>\n",
              "    </tr>\n",
              "    <tr>\n",
              "      <td>289</td>\n",
              "      <td>1289</td>\n",
              "      <td>20</td>\n",
              "      <td>NaN</td>\n",
              "      <td>Москва</td>\n",
              "      <td>Таисия</td>\n",
              "      <td>Богданова</td>\n",
              "      <td>2018-09-01</td>\n",
              "      <td>ultra</td>\n",
              "    </tr>\n",
              "    <tr>\n",
              "      <td>415</td>\n",
              "      <td>1415</td>\n",
              "      <td>41</td>\n",
              "      <td>NaN</td>\n",
              "      <td>Москва</td>\n",
              "      <td>Андрей</td>\n",
              "      <td>Лукин</td>\n",
              "      <td>2018-06-29</td>\n",
              "      <td>ultra</td>\n",
              "    </tr>\n",
              "  </tbody>\n",
              "</table>\n",
              "</div>"
            ],
            "text/plain": [
              "     user_id  age  churn_date            city first_name      last_name  \\\n",
              "490     1490   30         NaN          Москва    Радомир         Алесин   \n",
              "365     1365   38         NaN  Ростов-на-Дону    Георгий       Вишняков   \n",
              "2       1002   59         NaN     Стерлитамак    Евгений      Абрамович   \n",
              "160     1160   73         NaN       Ульяновск      Борис     Авдонюшкин   \n",
              "20      1020   59  2018-12-18            Чита       Тала        Костина   \n",
              "238     1238   57         NaN  Ростов-на-Дону   Радислав         Наумов   \n",
              "344     1344   60         NaN         Воронеж       Илзе      Игнатьева   \n",
              "421     1421   30         NaN     Калининград     Гайдар  Александрович   \n",
              "289     1289   20         NaN          Москва     Таисия      Богданова   \n",
              "415     1415   41         NaN          Москва     Андрей          Лукин   \n",
              "\n",
              "       reg_date tariff  \n",
              "490  2018-04-03  smart  \n",
              "365  2018-10-31  smart  \n",
              "2    2018-06-17  smart  \n",
              "160  2018-07-03  smart  \n",
              "20   2018-10-22  smart  \n",
              "238  2018-01-08  smart  \n",
              "344  2018-04-03  ultra  \n",
              "421  2018-02-22  smart  \n",
              "289  2018-09-01  ultra  \n",
              "415  2018-06-29  ultra  "
            ]
          },
          "execution_count": 4,
          "metadata": {},
          "output_type": "execute_result"
        }
      ],
      "source": [
        "# проверяем визуально\n",
        "users.sample(10)"
      ]
    },
    {
      "cell_type": "markdown",
      "metadata": {
        "id": "KgzoCYInUjbA"
      },
      "source": [
        "По данным видно, что часть клиентов прекратили пользоваться услугами оператора связи на момент выгрузки данных. Так как какое-то время такие клиенты тарифом все же пользовались, данные которые есть по таким клиентам мне нужны, не важно пользуются они оператором сейчас или нет. Пропуски в столбце  `churn_date` не мешают анализу, так как я не использую этот столбец, поэтому я оставляю столбец без изменений."
      ]
    },
    {
      "cell_type": "code",
      "execution_count": null,
      "metadata": {
        "id": "KD3q4HcVUjbA",
        "outputId": "8780d8aa-c20d-4874-a568-93186a4bb65c"
      },
      "outputs": [
        {
          "data": {
            "text/plain": [
              "0"
            ]
          },
          "execution_count": 5,
          "metadata": {},
          "output_type": "execute_result"
        }
      ],
      "source": [
        "#проверяю наличие дублей\n",
        "users.duplicated().sum()"
      ]
    },
    {
      "cell_type": "markdown",
      "metadata": {
        "id": "yB8Cj7N-UjbB"
      },
      "source": [
        "Из информации о таблице вижу, что `reg_date` имеет тип даннхы `object`, который необходимо заменить на `datetime`:"
      ]
    },
    {
      "cell_type": "code",
      "execution_count": null,
      "metadata": {
        "id": "DaVSotVGUjbB"
      },
      "outputs": [],
      "source": [
        "# меняю тип данных с  object на datetime:\n",
        "users['reg_date'] = pd.to_datetime(users['reg_date'], format=\"%Y-%m-%d\")"
      ]
    },
    {
      "cell_type": "markdown",
      "metadata": {
        "id": "cKqNsj2DUjbB"
      },
      "source": [
        "Так как есть столбец с названием городов, проверим на ошибки, опечатки и т.д. этот столбец:"
      ]
    },
    {
      "cell_type": "code",
      "execution_count": null,
      "metadata": {
        "id": "BvGNu5NyUjbB",
        "outputId": "a0aa303f-df34-49c5-ce55-901aca64470c"
      },
      "outputs": [
        {
          "data": {
            "text/plain": [
              "array(['Краснодар', 'Москва', 'Стерлитамак', 'Новокузнецк',\n",
              "       'Набережные Челны', 'Ульяновск', 'Челябинск', 'Пермь', 'Тюмень',\n",
              "       'Самара', 'Санкт-Петербург', 'Иваново', 'Чебоксары', 'Омск', 'Уфа',\n",
              "       'Томск', 'Чита', 'Мурманск', 'Петрозаводск', 'Тверь',\n",
              "       'Екатеринбург', 'Махачкала', 'Вологда', 'Череповец', 'Ярославль',\n",
              "       'Сочи', 'Хабаровск', 'Ставрополь', 'Рязань', 'Улан-Удэ', 'Тула',\n",
              "       'Саратов', 'Ростов-на-Дону', 'Казань', 'Иркутск', 'Курск',\n",
              "       'Калуга', 'Якутск', 'Астрахань', 'Химки', 'Владикавказ',\n",
              "       'Волгоград', 'Саранск', 'Ижевск', 'Новосибирск', 'Брянск',\n",
              "       'Тольятти', 'Нижний Тагил', 'Орёл', 'Белгород', 'Воронеж',\n",
              "       'Волжский', 'Курган', 'Барнаул', 'Красноярск', 'Архангельск',\n",
              "       'Липецк', 'Кемерово', 'Киров', 'Сургут', 'Пенза', 'Магнитогорск',\n",
              "       'Нижний Новгород', 'Кострома', 'Владивосток', 'Тамбов', 'Балашиха',\n",
              "       'Севастополь', 'Калининград', 'Оренбург', 'Смоленск',\n",
              "       'Нижневартовск', 'Владимир', 'Новороссийск', 'Грозный', 'Подольск'],\n",
              "      dtype=object)"
            ]
          },
          "execution_count": 7,
          "metadata": {},
          "output_type": "execute_result"
        }
      ],
      "source": [
        "# смотрим уникальные значения чтобы проверить данные визуально\n",
        "users['city'].unique()"
      ]
    },
    {
      "cell_type": "markdown",
      "metadata": {
        "id": "awnnqNwCUjbB"
      },
      "source": [
        "Все названия выглядят уникальными, ошибок и опечаток нет, все ок."
      ]
    },
    {
      "cell_type": "markdown",
      "metadata": {
        "id": "RF9WoPLwUjbB"
      },
      "source": [
        "## <a name=\"calls-info\">Calls (информация о звонках)</a>"
      ]
    },
    {
      "cell_type": "markdown",
      "metadata": {
        "id": "Nx9ew32sUjbB"
      },
      "source": [
        "Таблица `calls` содержит информация о звонках - id, длительность, дату и так далее:"
      ]
    },
    {
      "cell_type": "code",
      "execution_count": null,
      "metadata": {
        "id": "GfWA8OylUjbB",
        "outputId": "8f01aaac-164e-496c-f02e-8fa0213572ea"
      },
      "outputs": [
        {
          "name": "stdout",
          "output_type": "stream",
          "text": [
            "<class 'pandas.core.frame.DataFrame'>\n",
            "RangeIndex: 202607 entries, 0 to 202606\n",
            "Data columns (total 4 columns):\n",
            "id           202607 non-null object\n",
            "call_date    202607 non-null object\n",
            "duration     202607 non-null float64\n",
            "user_id      202607 non-null int64\n",
            "dtypes: float64(1), int64(1), object(2)\n",
            "memory usage: 6.2+ MB\n"
          ]
        }
      ],
      "source": [
        "# проверяем информацию о таблице\n",
        "calls.info()"
      ]
    },
    {
      "cell_type": "markdown",
      "metadata": {
        "id": "7f0hg_ObUjbB"
      },
      "source": [
        "Индекс и количество строк в каждом столбце совпадают - пропусков нет."
      ]
    },
    {
      "cell_type": "code",
      "execution_count": null,
      "metadata": {
        "id": "St5_j7JQUjbC",
        "outputId": "70cdcc5d-2c70-48f7-d13a-5bebd2df7a2b"
      },
      "outputs": [
        {
          "data": {
            "text/html": [
              "<div>\n",
              "<style scoped>\n",
              "    .dataframe tbody tr th:only-of-type {\n",
              "        vertical-align: middle;\n",
              "    }\n",
              "\n",
              "    .dataframe tbody tr th {\n",
              "        vertical-align: top;\n",
              "    }\n",
              "\n",
              "    .dataframe thead th {\n",
              "        text-align: right;\n",
              "    }\n",
              "</style>\n",
              "<table border=\"1\" class=\"dataframe\">\n",
              "  <thead>\n",
              "    <tr style=\"text-align: right;\">\n",
              "      <th></th>\n",
              "      <th>id</th>\n",
              "      <th>call_date</th>\n",
              "      <th>duration</th>\n",
              "      <th>user_id</th>\n",
              "    </tr>\n",
              "  </thead>\n",
              "  <tbody>\n",
              "    <tr>\n",
              "      <td>3365</td>\n",
              "      <td>1007_568</td>\n",
              "      <td>2018-08-20</td>\n",
              "      <td>0.00</td>\n",
              "      <td>1007</td>\n",
              "    </tr>\n",
              "    <tr>\n",
              "      <td>84157</td>\n",
              "      <td>1210_32</td>\n",
              "      <td>2018-12-17</td>\n",
              "      <td>12.35</td>\n",
              "      <td>1210</td>\n",
              "    </tr>\n",
              "    <tr>\n",
              "      <td>188657</td>\n",
              "      <td>1465_374</td>\n",
              "      <td>2018-07-28</td>\n",
              "      <td>6.74</td>\n",
              "      <td>1465</td>\n",
              "    </tr>\n",
              "    <tr>\n",
              "      <td>194089</td>\n",
              "      <td>1476_386</td>\n",
              "      <td>2018-06-29</td>\n",
              "      <td>8.27</td>\n",
              "      <td>1476</td>\n",
              "    </tr>\n",
              "    <tr>\n",
              "      <td>188063</td>\n",
              "      <td>1464_583</td>\n",
              "      <td>2018-07-02</td>\n",
              "      <td>0.71</td>\n",
              "      <td>1464</td>\n",
              "    </tr>\n",
              "    <tr>\n",
              "      <td>190032</td>\n",
              "      <td>1468_3</td>\n",
              "      <td>2018-03-19</td>\n",
              "      <td>17.63</td>\n",
              "      <td>1468</td>\n",
              "    </tr>\n",
              "    <tr>\n",
              "      <td>57838</td>\n",
              "      <td>1146_57</td>\n",
              "      <td>2018-12-19</td>\n",
              "      <td>2.36</td>\n",
              "      <td>1146</td>\n",
              "    </tr>\n",
              "    <tr>\n",
              "      <td>124909</td>\n",
              "      <td>1321_359</td>\n",
              "      <td>2018-09-01</td>\n",
              "      <td>10.89</td>\n",
              "      <td>1321</td>\n",
              "    </tr>\n",
              "    <tr>\n",
              "      <td>53486</td>\n",
              "      <td>1134_547</td>\n",
              "      <td>2018-10-08</td>\n",
              "      <td>7.89</td>\n",
              "      <td>1134</td>\n",
              "    </tr>\n",
              "    <tr>\n",
              "      <td>159109</td>\n",
              "      <td>1393_361</td>\n",
              "      <td>2018-11-24</td>\n",
              "      <td>0.00</td>\n",
              "      <td>1393</td>\n",
              "    </tr>\n",
              "  </tbody>\n",
              "</table>\n",
              "</div>"
            ],
            "text/plain": [
              "              id   call_date  duration  user_id\n",
              "3365    1007_568  2018-08-20      0.00     1007\n",
              "84157    1210_32  2018-12-17     12.35     1210\n",
              "188657  1465_374  2018-07-28      6.74     1465\n",
              "194089  1476_386  2018-06-29      8.27     1476\n",
              "188063  1464_583  2018-07-02      0.71     1464\n",
              "190032    1468_3  2018-03-19     17.63     1468\n",
              "57838    1146_57  2018-12-19      2.36     1146\n",
              "124909  1321_359  2018-09-01     10.89     1321\n",
              "53486   1134_547  2018-10-08      7.89     1134\n",
              "159109  1393_361  2018-11-24      0.00     1393"
            ]
          },
          "execution_count": 9,
          "metadata": {},
          "output_type": "execute_result"
        }
      ],
      "source": [
        "# проверяем визуально\n",
        "calls.sample(10)"
      ]
    },
    {
      "cell_type": "code",
      "execution_count": null,
      "metadata": {
        "id": "s-XyzS2DUjbC",
        "outputId": "6ca1f187-7005-4ad1-ec04-9d2cc7dc0eab"
      },
      "outputs": [
        {
          "data": {
            "text/plain": [
              "0"
            ]
          },
          "execution_count": 10,
          "metadata": {},
          "output_type": "execute_result"
        }
      ],
      "source": [
        "#проверяю наличие дублей\n",
        "calls.duplicated().sum()"
      ]
    },
    {
      "cell_type": "markdown",
      "metadata": {
        "id": "sijV1eZ1UjbC"
      },
      "source": [
        "Из информации о таблице вижу, что `call_date` имеет тип даннхы `object`, который необходимо заменить на `datetime`:"
      ]
    },
    {
      "cell_type": "code",
      "execution_count": null,
      "metadata": {
        "id": "0vNy0qF6UjbC"
      },
      "outputs": [],
      "source": [
        "# меняю тип данных с  object на datetime:\n",
        "calls['call_date'] = pd.to_datetime(calls['call_date'], format=\"%Y-%m-%d\")"
      ]
    },
    {
      "cell_type": "markdown",
      "metadata": {
        "id": "55IciQNFUjbC"
      },
      "source": [
        "В таблице много звонков с длительностью 0.00. В условии у нас указано, что оператор всегда округляет значения минут вверх, а не вниз. Это значит, что звонки с длительностью 0.00 не могут быть звонками, которые длились менее минуты. Скорее всего - это звонки, которые сорвались или звонки, которые клиент не принял (не взял трубку). Чтобы решить, что с ними делать, смотрю на количество таких звонков и как это будет выглядеть на гистограмме (так нагляднее)."
      ]
    },
    {
      "cell_type": "code",
      "execution_count": null,
      "metadata": {
        "id": "eldSNAf3UjbC",
        "outputId": "c3179b4d-a32a-4356-c3ca-123285c11254"
      },
      "outputs": [
        {
          "data": {
            "text/plain": [
              "id           39613\n",
              "call_date    39613\n",
              "duration     39613\n",
              "user_id      39613\n",
              "dtype: int64"
            ]
          },
          "execution_count": 12,
          "metadata": {},
          "output_type": "execute_result"
        }
      ],
      "source": [
        "#общее количество звонков\n",
        "calls.query('duration == 0.0').count()"
      ]
    },
    {
      "cell_type": "code",
      "execution_count": null,
      "metadata": {
        "id": "GbnQ5WRhUjbC",
        "outputId": "9b250856-7eb6-4b38-820c-7c0f2a4f2ef4"
      },
      "outputs": [
        {
          "data": {
            "image/png": "[encoded data removed]",
            "text/plain": [
              "<Figure size 648x648 with 1 Axes>"
            ]
          },
          "metadata": {
            "needs_background": "light"
          },
          "output_type": "display_data"
        }
      ],
      "source": [
        "# смотрю как это выглядит на гистограмме\n",
        "calls['duration'].plot(kind='hist', ec='black',  bins=100, figsize=(9, 9), grid=True)\n",
        "plt.xlabel('Длительность звонка', fontsize=15)\n",
        "plt.ylabel('Частота упоминания', fontsize=15)\n",
        "plt.xlim([0, 30])\n",
        "plt.show()\n"
      ]
    },
    {
      "cell_type": "markdown",
      "metadata": {
        "id": "GvswcKpfUjbC"
      },
      "source": [
        "Нолевых значений слишком много, при дальнейшем анализе они будут влиять на среднее значение и результаты. К тому же, за звонки длительностью 0.00 минут оператор не получит никакой выручки, поэтому такие значения я удаляю из таблицы."
      ]
    },
    {
      "cell_type": "code",
      "execution_count": null,
      "metadata": {
        "id": "V1ttQ6mbUjbD"
      },
      "outputs": [],
      "source": [
        "# удаляю нулевые значения из таблицы\n",
        "calls['duration'] = calls['duration'].replace(0, np.NaN)\n",
        "calls = calls.dropna()\n"
      ]
    },
    {
      "cell_type": "markdown",
      "metadata": {
        "id": "o7mE5W8aUjbD"
      },
      "source": [
        "<div class=\"alert alert-warning\">\n",
        "<h2> Комментарий ревьюера </h2>\n",
        "\n",
        "Исходя из какого предположения звонки с нулевой длительностью удалены? Стоит подробно описывать ход своих мыслей. Какова возможная причина их появления - недозвоны или что-то другое?\n",
        "\n",
        "</div>"
      ]
    },
    {
      "cell_type": "markdown",
      "metadata": {
        "id": "sGgDGH-7UjbD"
      },
      "source": [
        "<div class=\"alert alert-info\" role=\"alert\">  \n",
        "добавила еще что звонки с длительностью 0 - это звонки не случившиеся\n",
        "</div>"
      ]
    },
    {
      "cell_type": "markdown",
      "metadata": {
        "id": "sEU2X76kUjbD"
      },
      "source": [
        "<div class=\"alert alert-success\">\n",
        "<h2> Комментарий ревьюера 2</h2>\n",
        "\n",
        "Да, вполне возможное предположение. \n",
        "\n",
        "</div>"
      ]
    },
    {
      "cell_type": "code",
      "execution_count": null,
      "metadata": {
        "id": "w7H6KXqWUjbD",
        "outputId": "c24b1aee-f2cd-4fbc-dcb0-3c89bd1f70d5"
      },
      "outputs": [
        {
          "data": {
            "image/png": "[encoded data removed]",
            "text/plain": [
              "<Figure size 648x648 with 1 Axes>"
            ]
          },
          "metadata": {
            "needs_background": "light"
          },
          "output_type": "display_data"
        }
      ],
      "source": [
        "# смотрю как это выглядит на гистограмме\n",
        "calls['duration'].plot(kind='hist', ec='black', bins=50, figsize=(9, 9), grid=True)\n",
        "plt.xlabel('Длительность звонка', fontsize=15)\n",
        "plt.ylabel('Частота упоминания', fontsize=15)\n",
        "plt.xlim([0, 30])\n",
        "plt.show()"
      ]
    },
    {
      "cell_type": "markdown",
      "metadata": {
        "id": "z0B2YbieUjbM"
      },
      "source": [
        "Выбивающихся из общего распределения нулей нет, но много около нулевых значений. Чтобы понять, что происходит проверяю минимальное значение в столбце."
      ]
    },
    {
      "cell_type": "code",
      "execution_count": null,
      "metadata": {
        "id": "09oV4bJHUjbM",
        "outputId": "b4fa623b-85c8-4df1-dda7-c1e750e0269c"
      },
      "outputs": [
        {
          "data": {
            "text/plain": [
              "0.01"
            ]
          },
          "execution_count": 16,
          "metadata": {},
          "output_type": "execute_result"
        }
      ],
      "source": [
        "calls['duration'].min()"
      ]
    },
    {
      "cell_type": "markdown",
      "metadata": {
        "id": "yRP99rWYUjbN"
      },
      "source": [
        "Так, как мы знаем, что оператор округлит значния типа 0.01 до минуты, округляем все значения в столбце вверх до целеого числа и меняем тип данных, чтобы не было плавающей точки:"
      ]
    },
    {
      "cell_type": "code",
      "execution_count": null,
      "metadata": {
        "id": "WupOp-06UjbN"
      },
      "outputs": [],
      "source": [
        "# округляем и меняем тип данных\n",
        "calls['duration'] = calls['duration'].apply(np.ceil).astype(int)"
      ]
    },
    {
      "cell_type": "markdown",
      "metadata": {
        "id": "c7z8ke_fUjbN"
      },
      "source": [
        "<div class=\"alert alert-success\">\n",
        "<h2> Комментарий ревьюера </h2>\n",
        "\n",
        "Верно, что округление производится до суммирования. Это согласуется с тем, как оператор фиксирует выручку.\n",
        "\n",
        "</div>"
      ]
    },
    {
      "cell_type": "code",
      "execution_count": null,
      "metadata": {
        "id": "fQPNYz9HUjbN",
        "outputId": "03cef592-8b60-435d-dca5-a7c1f0cff3db"
      },
      "outputs": [
        {
          "data": {
            "image/png": "[encoded data removed]",
            "text/plain": [
              "<Figure size 648x648 with 1 Axes>"
            ]
          },
          "metadata": {
            "needs_background": "light"
          },
          "output_type": "display_data"
        }
      ],
      "source": [
        "# смотрю как это выглядит на гистограмме\n",
        "calls['duration'].plot(kind='hist', ec='black', bins=50, figsize=(9, 9), grid=True)\n",
        "plt.xlabel('Длительность звонка', fontsize=15)\n",
        "plt.ylabel('Частота упоминания', fontsize=15)\n",
        "plt.xlim([0, 30])\n",
        "plt.show()"
      ]
    },
    {
      "cell_type": "markdown",
      "metadata": {
        "id": "UT-V91ttUjbN"
      },
      "source": [
        "Гистограмма показывает, что нет звонков с длительностью 0 или около 0. "
      ]
    },
    {
      "cell_type": "markdown",
      "metadata": {
        "id": "5RUULFJyUjbN"
      },
      "source": [
        "## <a name=\"messages-info\">Messages (информация о sms сообщениях)</a>"
      ]
    },
    {
      "cell_type": "markdown",
      "metadata": {
        "id": "8g_kDOREUjbN"
      },
      "source": [
        "Таблица `messages` содержит информация о звонках - id, количество, дату и т.д:"
      ]
    },
    {
      "cell_type": "code",
      "execution_count": null,
      "metadata": {
        "id": "og89FsyYUjbO",
        "outputId": "bc6924b8-190d-4304-d561-78784e7ccb06"
      },
      "outputs": [
        {
          "name": "stdout",
          "output_type": "stream",
          "text": [
            "<class 'pandas.core.frame.DataFrame'>\n",
            "RangeIndex: 123036 entries, 0 to 123035\n",
            "Data columns (total 3 columns):\n",
            "id              123036 non-null object\n",
            "message_date    123036 non-null object\n",
            "user_id         123036 non-null int64\n",
            "dtypes: int64(1), object(2)\n",
            "memory usage: 2.8+ MB\n"
          ]
        }
      ],
      "source": [
        "# проверяем информацию о таблице\n",
        "messages.info()"
      ]
    },
    {
      "cell_type": "markdown",
      "metadata": {
        "id": "nbDyvybkUjbO"
      },
      "source": [
        "Индекс и количество строк в каждом столбце совпадает - пропусков нет."
      ]
    },
    {
      "cell_type": "code",
      "execution_count": null,
      "metadata": {
        "id": "EfBlhn8NUjbO",
        "outputId": "6b43588b-c63f-4919-8e9b-be09429b81e1"
      },
      "outputs": [
        {
          "data": {
            "text/html": [
              "<div>\n",
              "<style scoped>\n",
              "    .dataframe tbody tr th:only-of-type {\n",
              "        vertical-align: middle;\n",
              "    }\n",
              "\n",
              "    .dataframe tbody tr th {\n",
              "        vertical-align: top;\n",
              "    }\n",
              "\n",
              "    .dataframe thead th {\n",
              "        text-align: right;\n",
              "    }\n",
              "</style>\n",
              "<table border=\"1\" class=\"dataframe\">\n",
              "  <thead>\n",
              "    <tr style=\"text-align: right;\">\n",
              "      <th></th>\n",
              "      <th>id</th>\n",
              "      <th>message_date</th>\n",
              "      <th>user_id</th>\n",
              "    </tr>\n",
              "  </thead>\n",
              "  <tbody>\n",
              "    <tr>\n",
              "      <td>66517</td>\n",
              "      <td>1284_105</td>\n",
              "      <td>2018-11-21</td>\n",
              "      <td>1284</td>\n",
              "    </tr>\n",
              "    <tr>\n",
              "      <td>30952</td>\n",
              "      <td>1134_670</td>\n",
              "      <td>2018-05-12</td>\n",
              "      <td>1134</td>\n",
              "    </tr>\n",
              "    <tr>\n",
              "      <td>14631</td>\n",
              "      <td>1064_318</td>\n",
              "      <td>2018-10-21</td>\n",
              "      <td>1064</td>\n",
              "    </tr>\n",
              "    <tr>\n",
              "      <td>42895</td>\n",
              "      <td>1186_308</td>\n",
              "      <td>2018-12-19</td>\n",
              "      <td>1186</td>\n",
              "    </tr>\n",
              "    <tr>\n",
              "      <td>121654</td>\n",
              "      <td>1492_21</td>\n",
              "      <td>2018-12-12</td>\n",
              "      <td>1492</td>\n",
              "    </tr>\n",
              "    <tr>\n",
              "      <td>8112</td>\n",
              "      <td>1032_283</td>\n",
              "      <td>2018-12-24</td>\n",
              "      <td>1032</td>\n",
              "    </tr>\n",
              "    <tr>\n",
              "      <td>73088</td>\n",
              "      <td>1309_224</td>\n",
              "      <td>2018-10-05</td>\n",
              "      <td>1309</td>\n",
              "    </tr>\n",
              "    <tr>\n",
              "      <td>20400</td>\n",
              "      <td>1089_403</td>\n",
              "      <td>2018-10-23</td>\n",
              "      <td>1089</td>\n",
              "    </tr>\n",
              "    <tr>\n",
              "      <td>112052</td>\n",
              "      <td>1453_77</td>\n",
              "      <td>2018-05-23</td>\n",
              "      <td>1453</td>\n",
              "    </tr>\n",
              "    <tr>\n",
              "      <td>35974</td>\n",
              "      <td>1155_363</td>\n",
              "      <td>2018-02-10</td>\n",
              "      <td>1155</td>\n",
              "    </tr>\n",
              "  </tbody>\n",
              "</table>\n",
              "</div>"
            ],
            "text/plain": [
              "              id message_date  user_id\n",
              "66517   1284_105   2018-11-21     1284\n",
              "30952   1134_670   2018-05-12     1134\n",
              "14631   1064_318   2018-10-21     1064\n",
              "42895   1186_308   2018-12-19     1186\n",
              "121654   1492_21   2018-12-12     1492\n",
              "8112    1032_283   2018-12-24     1032\n",
              "73088   1309_224   2018-10-05     1309\n",
              "20400   1089_403   2018-10-23     1089\n",
              "112052   1453_77   2018-05-23     1453\n",
              "35974   1155_363   2018-02-10     1155"
            ]
          },
          "execution_count": 20,
          "metadata": {},
          "output_type": "execute_result"
        }
      ],
      "source": [
        "# проверяем визуально\n",
        "messages.sample(10)"
      ]
    },
    {
      "cell_type": "code",
      "execution_count": null,
      "metadata": {
        "id": "Drne4MDMUjbO",
        "outputId": "f0c9089f-4f73-4152-aaf2-8a67bda5058c"
      },
      "outputs": [
        {
          "data": {
            "text/plain": [
              "0"
            ]
          },
          "execution_count": 21,
          "metadata": {},
          "output_type": "execute_result"
        }
      ],
      "source": [
        "#проверяю наличие дублей\n",
        "messages.duplicated().sum()"
      ]
    },
    {
      "cell_type": "markdown",
      "metadata": {
        "id": "x432PviXUjbO"
      },
      "source": [
        "Из информации о таблице вижу, что `message_date` имеет тип даннхы `object`, который необходимо заменить на `datetime`:"
      ]
    },
    {
      "cell_type": "code",
      "execution_count": null,
      "metadata": {
        "id": "PToCCQwTUjbO"
      },
      "outputs": [],
      "source": [
        "# меняю тип данных с  object на datetime:\n",
        "messages['message_date'] = pd.to_datetime(messages['message_date'], format=\"%Y-%m-%d\")"
      ]
    },
    {
      "cell_type": "markdown",
      "metadata": {
        "id": "eSPoj-T8UjbO"
      },
      "source": [
        "## <a name=\"internet-info\">Internet (информация об использовании интернета)</a>"
      ]
    },
    {
      "cell_type": "markdown",
      "metadata": {
        "id": "jMq0Iq6kUjbO"
      },
      "source": [
        "Таблица `internet` содержит информация о объемах интернет траффика, которые использовали клиенты - id, дату сессии, количество трафика в мб и т.д:"
      ]
    },
    {
      "cell_type": "code",
      "execution_count": null,
      "metadata": {
        "id": "IBqGNeZ5UjbP",
        "outputId": "a7f1cb04-a3af-4022-a3b5-e8dd7ff76d91"
      },
      "outputs": [
        {
          "name": "stdout",
          "output_type": "stream",
          "text": [
            "<class 'pandas.core.frame.DataFrame'>\n",
            "RangeIndex: 149396 entries, 0 to 149395\n",
            "Data columns (total 5 columns):\n",
            "Unnamed: 0      149396 non-null int64\n",
            "id              149396 non-null object\n",
            "mb_used         149396 non-null float64\n",
            "session_date    149396 non-null object\n",
            "user_id         149396 non-null int64\n",
            "dtypes: float64(1), int64(2), object(2)\n",
            "memory usage: 5.7+ MB\n"
          ]
        }
      ],
      "source": [
        "# проверяем информацию о таблице\n",
        "internet.info()"
      ]
    },
    {
      "cell_type": "markdown",
      "metadata": {
        "id": "2E1f3BU5UjbP"
      },
      "source": [
        "Индекс и количество строк в каждом столбце совпадают - пропусков нет."
      ]
    },
    {
      "cell_type": "code",
      "execution_count": null,
      "metadata": {
        "id": "1jwsAXlfUjbP",
        "outputId": "1aaa18b5-9fc4-4096-c948-a465f48f0b2c"
      },
      "outputs": [
        {
          "data": {
            "text/html": [
              "<div>\n",
              "<style scoped>\n",
              "    .dataframe tbody tr th:only-of-type {\n",
              "        vertical-align: middle;\n",
              "    }\n",
              "\n",
              "    .dataframe tbody tr th {\n",
              "        vertical-align: top;\n",
              "    }\n",
              "\n",
              "    .dataframe thead th {\n",
              "        text-align: right;\n",
              "    }\n",
              "</style>\n",
              "<table border=\"1\" class=\"dataframe\">\n",
              "  <thead>\n",
              "    <tr style=\"text-align: right;\">\n",
              "      <th></th>\n",
              "      <th>Unnamed: 0</th>\n",
              "      <th>id</th>\n",
              "      <th>mb_used</th>\n",
              "      <th>session_date</th>\n",
              "      <th>user_id</th>\n",
              "    </tr>\n",
              "  </thead>\n",
              "  <tbody>\n",
              "    <tr>\n",
              "      <td>30424</td>\n",
              "      <td>30424</td>\n",
              "      <td>1106_226</td>\n",
              "      <td>381.03</td>\n",
              "      <td>2018-06-03</td>\n",
              "      <td>1106</td>\n",
              "    </tr>\n",
              "    <tr>\n",
              "      <td>144993</td>\n",
              "      <td>144993</td>\n",
              "      <td>1483_372</td>\n",
              "      <td>343.26</td>\n",
              "      <td>2018-08-05</td>\n",
              "      <td>1483</td>\n",
              "    </tr>\n",
              "    <tr>\n",
              "      <td>52294</td>\n",
              "      <td>52294</td>\n",
              "      <td>1176_449</td>\n",
              "      <td>179.42</td>\n",
              "      <td>2018-11-29</td>\n",
              "      <td>1176</td>\n",
              "    </tr>\n",
              "    <tr>\n",
              "      <td>57306</td>\n",
              "      <td>57306</td>\n",
              "      <td>1191_102</td>\n",
              "      <td>800.14</td>\n",
              "      <td>2018-08-05</td>\n",
              "      <td>1191</td>\n",
              "    </tr>\n",
              "    <tr>\n",
              "      <td>43263</td>\n",
              "      <td>43263</td>\n",
              "      <td>1149_263</td>\n",
              "      <td>333.93</td>\n",
              "      <td>2018-12-28</td>\n",
              "      <td>1149</td>\n",
              "    </tr>\n",
              "    <tr>\n",
              "      <td>98354</td>\n",
              "      <td>98354</td>\n",
              "      <td>1330_562</td>\n",
              "      <td>728.25</td>\n",
              "      <td>2018-08-01</td>\n",
              "      <td>1330</td>\n",
              "    </tr>\n",
              "    <tr>\n",
              "      <td>104936</td>\n",
              "      <td>104936</td>\n",
              "      <td>1355_148</td>\n",
              "      <td>267.76</td>\n",
              "      <td>2018-10-22</td>\n",
              "      <td>1355</td>\n",
              "    </tr>\n",
              "    <tr>\n",
              "      <td>144876</td>\n",
              "      <td>144876</td>\n",
              "      <td>1483_255</td>\n",
              "      <td>681.25</td>\n",
              "      <td>2018-09-18</td>\n",
              "      <td>1483</td>\n",
              "    </tr>\n",
              "    <tr>\n",
              "      <td>45309</td>\n",
              "      <td>45309</td>\n",
              "      <td>1155_496</td>\n",
              "      <td>183.07</td>\n",
              "      <td>2018-01-03</td>\n",
              "      <td>1155</td>\n",
              "    </tr>\n",
              "    <tr>\n",
              "      <td>138185</td>\n",
              "      <td>138185</td>\n",
              "      <td>1464_409</td>\n",
              "      <td>325.30</td>\n",
              "      <td>2018-07-15</td>\n",
              "      <td>1464</td>\n",
              "    </tr>\n",
              "  </tbody>\n",
              "</table>\n",
              "</div>"
            ],
            "text/plain": [
              "        Unnamed: 0        id  mb_used session_date  user_id\n",
              "30424        30424  1106_226   381.03   2018-06-03     1106\n",
              "144993      144993  1483_372   343.26   2018-08-05     1483\n",
              "52294        52294  1176_449   179.42   2018-11-29     1176\n",
              "57306        57306  1191_102   800.14   2018-08-05     1191\n",
              "43263        43263  1149_263   333.93   2018-12-28     1149\n",
              "98354        98354  1330_562   728.25   2018-08-01     1330\n",
              "104936      104936  1355_148   267.76   2018-10-22     1355\n",
              "144876      144876  1483_255   681.25   2018-09-18     1483\n",
              "45309        45309  1155_496   183.07   2018-01-03     1155\n",
              "138185      138185  1464_409   325.30   2018-07-15     1464"
            ]
          },
          "execution_count": 24,
          "metadata": {},
          "output_type": "execute_result"
        }
      ],
      "source": [
        "# проверяем визуально\n",
        "internet.sample(10)"
      ]
    },
    {
      "cell_type": "code",
      "execution_count": null,
      "metadata": {
        "id": "WZ-p56R8UjbP",
        "outputId": "9af1a8aa-2d3d-4728-eba0-261b5e9032a7"
      },
      "outputs": [
        {
          "data": {
            "text/plain": [
              "0"
            ]
          },
          "execution_count": 25,
          "metadata": {},
          "output_type": "execute_result"
        }
      ],
      "source": [
        "#проверяю наличие дублей\n",
        "internet.duplicated().sum()"
      ]
    },
    {
      "cell_type": "markdown",
      "metadata": {
        "id": "juiIENo4UjbP"
      },
      "source": [
        "Из информации о таблице вижу, что `session_date` имеет тип даннхы `object`, который необходимо заменить на `datetime`:"
      ]
    },
    {
      "cell_type": "code",
      "execution_count": null,
      "metadata": {
        "id": "YE5oNQ81UjbP"
      },
      "outputs": [],
      "source": [
        "# меняю тип данных с  object на datetime:\n",
        "internet['session_date'] = pd.to_datetime(internet['session_date'], format=\"%Y-%m-%d\")"
      ]
    },
    {
      "cell_type": "markdown",
      "metadata": {
        "id": "0Zc967pUUjbP"
      },
      "source": [
        "Проверяю таблицу на количество интернет сессий с 0.00 мб скачанных данных. \n",
        "\n",
        "Отсутсвие траффика при подключении значит, что сессия по каким-то причинам оборвалась сразу же после подключения или клиент не смог подключиться. Сессии с количеством 0.00 мб не могут быть сессиями, в которых было скачано менее 1 мб данных (помним про округление вверх). Чтобы решить, что с ними делать, смотрю на количество таких сессий и как это будет выглядеть на гистограмме (так нагляднее)."
      ]
    },
    {
      "cell_type": "code",
      "execution_count": null,
      "metadata": {
        "id": "gmDOilXMUjbP",
        "outputId": "b6ef8f7e-9edd-4ea3-ef9d-5e181d322baf"
      },
      "outputs": [
        {
          "data": {
            "text/plain": [
              "Unnamed: 0      19598\n",
              "id              19598\n",
              "mb_used         19598\n",
              "session_date    19598\n",
              "user_id         19598\n",
              "dtype: int64"
            ]
          },
          "execution_count": 27,
          "metadata": {},
          "output_type": "execute_result"
        }
      ],
      "source": [
        "#общее количество сессий \n",
        "internet.query('mb_used == 0.0').count()"
      ]
    },
    {
      "cell_type": "code",
      "execution_count": null,
      "metadata": {
        "id": "UnUGfnKhUjbP",
        "outputId": "8f6bcc02-ffa9-40f8-a347-4d920db073ad"
      },
      "outputs": [
        {
          "data": {
            "image/png": "[encoded data removed]",
            "text/plain": [
              "<Figure size 648x648 with 1 Axes>"
            ]
          },
          "metadata": {
            "needs_background": "light"
          },
          "output_type": "display_data"
        }
      ],
      "source": [
        "# смотрю как это выглядит на гистограмме\n",
        "internet['mb_used'].plot(kind='hist', ec='black', bins=100, figsize=(9, 9), grid=True)\n",
        "plt.xlabel('Количество мб', fontsize=15)\n",
        "plt.ylabel('Частота упоминания', fontsize=15)\n",
        "plt.xlim([0, 1500])\n",
        "plt.show()"
      ]
    },
    {
      "cell_type": "markdown",
      "metadata": {
        "id": "LihmyBBUUjbQ"
      },
      "source": [
        "Нулевых значений слишком много, при дальнейшем анализе они будут влиять на среднее значение и результаты. К тому же, за сессии с 0.00 мб трафика оператор не получит никакой выручки, поэтому такие значения я удаляю из таблицы, а остальное округляю вверх."
      ]
    },
    {
      "cell_type": "code",
      "execution_count": null,
      "metadata": {
        "id": "y0ZpBBuvUjbQ"
      },
      "outputs": [],
      "source": [
        "# округляем и меняем тип данных\n",
        "internet['mb_used'] = internet['mb_used'].apply(np.ceil).astype(int)"
      ]
    },
    {
      "cell_type": "code",
      "execution_count": null,
      "metadata": {
        "id": "sv24WbP6UjbQ"
      },
      "outputs": [],
      "source": [
        "# удаляю нулевые значения из таблицы\n",
        "internet['mb_used'] = internet['mb_used'].replace(0, np.NaN)\n",
        "internet = internet.dropna()"
      ]
    },
    {
      "cell_type": "code",
      "execution_count": null,
      "metadata": {
        "id": "YdWSHweYUjbQ",
        "outputId": "491e7437-067a-4806-9f67-1b10374a9ce5"
      },
      "outputs": [
        {
          "data": {
            "image/png": "[encoded data removed]",
            "text/plain": [
              "<Figure size 648x648 with 1 Axes>"
            ]
          },
          "metadata": {
            "needs_background": "light"
          },
          "output_type": "display_data"
        }
      ],
      "source": [
        "# смотрю как это выглядит на гистограмме\n",
        "internet['mb_used'].plot(kind='hist', ec='black', bins=50, figsize=(9, 9), grid=True)\n",
        "plt.xlabel('Количество мб', fontsize=15)\n",
        "plt.ylabel('Частота упоминания', fontsize=15)\n",
        "plt.xlim([0, 1500])\n",
        "plt.show()"
      ]
    },
    {
      "cell_type": "markdown",
      "metadata": {
        "id": "YTS6lgVQUjbQ"
      },
      "source": [
        "Выбивающихся из общего распределения нулей нет, но много около нулевых значений. Чтобы понять, что происходит проверяю минимальное значение в столбце:"
      ]
    },
    {
      "cell_type": "code",
      "execution_count": null,
      "metadata": {
        "id": "al8eNTb1UjbR",
        "outputId": "dc13f498-7ec8-4bf9-c161-d4b26e9f95f6"
      },
      "outputs": [
        {
          "data": {
            "text/plain": [
              "1.0"
            ]
          },
          "execution_count": 32,
          "metadata": {},
          "output_type": "execute_result"
        }
      ],
      "source": [
        "# проверяю не равно ли минимальное значение 0\n",
        "internet['mb_used'].min()"
      ]
    },
    {
      "cell_type": "markdown",
      "metadata": {
        "id": "ujnMRHCrUjbR"
      },
      "source": [
        "<div class=\"alert alert-danger\">\n",
        "<h2> Комментарий ревьюера </h2>\n",
        "\n",
        "Опять же подумай о причинах появления таких значений в данных. Не забудь округлить значения по использованию трафика. Оператор их округляет, как и звонки, в большую сторону.\n",
        "\n",
        "</div>"
      ]
    },
    {
      "cell_type": "markdown",
      "metadata": {
        "id": "RfqY6eegUjbR"
      },
      "source": [
        "<div class=\"alert alert-info\" role=\"alert\">\n",
        "Ой.. округлила! :))\n",
        "</div>"
      ]
    },
    {
      "cell_type": "markdown",
      "metadata": {
        "id": "ccagw6CFUjbR"
      },
      "source": [
        "<div class=\"alert alert-success\">\n",
        "<h2> Комментарий ревьюера 2</h2>\n",
        "\n",
        "Ага, теперь все правильно)  \n",
        "\n",
        "</div>"
      ]
    },
    {
      "cell_type": "markdown",
      "metadata": {
        "id": "y--H9VxRUjbR"
      },
      "source": [
        "## <a name=\"tariffs-info\">Tariffs (информация о тарифах)</a>"
      ]
    },
    {
      "cell_type": "markdown",
      "metadata": {
        "id": "bEv7nNdoUjbR"
      },
      "source": [
        "Информация о двух тарифах:"
      ]
    },
    {
      "cell_type": "code",
      "execution_count": null,
      "metadata": {
        "id": "1-E_Yq_ZUjbR",
        "outputId": "3a97f896-9056-46bf-a1bb-9e2b9784dfa7"
      },
      "outputs": [
        {
          "name": "stdout",
          "output_type": "stream",
          "text": [
            "<class 'pandas.core.frame.DataFrame'>\n",
            "RangeIndex: 2 entries, 0 to 1\n",
            "Data columns (total 8 columns):\n",
            "messages_included        2 non-null int64\n",
            "mb_per_month_included    2 non-null int64\n",
            "minutes_included         2 non-null int64\n",
            "rub_monthly_fee          2 non-null int64\n",
            "rub_per_gb               2 non-null int64\n",
            "rub_per_message          2 non-null int64\n",
            "rub_per_minute           2 non-null int64\n",
            "tariff_name              2 non-null object\n",
            "dtypes: int64(7), object(1)\n",
            "memory usage: 256.0+ bytes\n"
          ]
        }
      ],
      "source": [
        "# проверяем информацию о датасете\n",
        "tariffs.info()"
      ]
    },
    {
      "cell_type": "code",
      "execution_count": null,
      "metadata": {
        "id": "ZmQ3_tnyUjbR",
        "outputId": "80f37d3d-615b-4a50-c15b-d6179d8644d1"
      },
      "outputs": [
        {
          "data": {
            "text/html": [
              "<div>\n",
              "<style scoped>\n",
              "    .dataframe tbody tr th:only-of-type {\n",
              "        vertical-align: middle;\n",
              "    }\n",
              "\n",
              "    .dataframe tbody tr th {\n",
              "        vertical-align: top;\n",
              "    }\n",
              "\n",
              "    .dataframe thead th {\n",
              "        text-align: right;\n",
              "    }\n",
              "</style>\n",
              "<table border=\"1\" class=\"dataframe\">\n",
              "  <thead>\n",
              "    <tr style=\"text-align: right;\">\n",
              "      <th></th>\n",
              "      <th>messages_included</th>\n",
              "      <th>mb_per_month_included</th>\n",
              "      <th>minutes_included</th>\n",
              "      <th>rub_monthly_fee</th>\n",
              "      <th>rub_per_gb</th>\n",
              "      <th>rub_per_message</th>\n",
              "      <th>rub_per_minute</th>\n",
              "      <th>tariff_name</th>\n",
              "    </tr>\n",
              "  </thead>\n",
              "  <tbody>\n",
              "    <tr>\n",
              "      <td>0</td>\n",
              "      <td>50</td>\n",
              "      <td>15360</td>\n",
              "      <td>500</td>\n",
              "      <td>550</td>\n",
              "      <td>200</td>\n",
              "      <td>3</td>\n",
              "      <td>3</td>\n",
              "      <td>smart</td>\n",
              "    </tr>\n",
              "    <tr>\n",
              "      <td>1</td>\n",
              "      <td>1000</td>\n",
              "      <td>30720</td>\n",
              "      <td>3000</td>\n",
              "      <td>1950</td>\n",
              "      <td>150</td>\n",
              "      <td>1</td>\n",
              "      <td>1</td>\n",
              "      <td>ultra</td>\n",
              "    </tr>\n",
              "  </tbody>\n",
              "</table>\n",
              "</div>"
            ],
            "text/plain": [
              "   messages_included  mb_per_month_included  minutes_included  \\\n",
              "0                 50                  15360               500   \n",
              "1               1000                  30720              3000   \n",
              "\n",
              "   rub_monthly_fee  rub_per_gb  rub_per_message  rub_per_minute tariff_name  \n",
              "0              550         200                3               3       smart  \n",
              "1             1950         150                1               1       ultra  "
            ]
          },
          "execution_count": 34,
          "metadata": {},
          "output_type": "execute_result"
        }
      ],
      "source": [
        "# проверяем визуально\n",
        "tariffs.head()"
      ]
    },
    {
      "cell_type": "code",
      "execution_count": null,
      "metadata": {
        "id": "EkcMJ6liUjbR"
      },
      "outputs": [],
      "source": [
        "# меняю название столбца, чтобы проще было объединять таблицы\n",
        "tariffs.columns =['messages_included', 'mb_per_month_included', 'minutes_included', 'rub_monthly_fee', 'rub_per_gb', 'rub_per_message', 'rub_per_minute', 'tariff']"
      ]
    },
    {
      "cell_type": "markdown",
      "metadata": {
        "id": "-T_oPVFeUjbS"
      },
      "source": [
        "**Вывод:** Данные подготовленны к обработке, удалены пропуски и выбросы, исправленны типы данных, устранены прочие недочеты которые могли бы исказить результаты анализа."
      ]
    },
    {
      "cell_type": "markdown",
      "metadata": {
        "id": "JmXWDpURUjbS"
      },
      "source": [
        "<div class=\"alert alert-success\">\n",
        "<h2> Комментарий ревьюера </h2>\n",
        "\n",
        "Первый взгляд на данные произведен. Ошибки в таблицах исправлены. Данные подготовлены к дальнейшему анализу. \n",
        "\n",
        "</div>"
      ]
    },
    {
      "cell_type": "markdown",
      "metadata": {
        "id": "BRDa-N1CUjbS"
      },
      "source": [
        "# <a name=\"clients-calculations\">Рассчеты использования тарифов клиентами (по месяцам)</a>"
      ]
    },
    {
      "cell_type": "markdown",
      "metadata": {
        "id": "H82AXNuyUjbS"
      },
      "source": [
        "## <a name=\"calls-info-02\">Calls (информация о звонках)</a>"
      ]
    },
    {
      "cell_type": "markdown",
      "metadata": {
        "id": "Dr0lgTi5UjbS"
      },
      "source": [
        "Сколько минут разговора требуется клиентам каждого тарифа в месяц. \n"
      ]
    },
    {
      "cell_type": "code",
      "execution_count": null,
      "metadata": {
        "id": "QwaghDcYUjbS"
      },
      "outputs": [],
      "source": [
        "# Добавляю стобец с месяцем\n",
        "calls['month'] = pd.DatetimeIndex(calls['call_date']).month\n"
      ]
    },
    {
      "cell_type": "code",
      "execution_count": null,
      "metadata": {
        "id": "Is7SoLN_UjbS",
        "outputId": "d7c891aa-a5ce-42bf-ad93-eb2d200e2ddd"
      },
      "outputs": [
        {
          "data": {
            "text/html": [
              "<div>\n",
              "<style scoped>\n",
              "    .dataframe tbody tr th:only-of-type {\n",
              "        vertical-align: middle;\n",
              "    }\n",
              "\n",
              "    .dataframe tbody tr th {\n",
              "        vertical-align: top;\n",
              "    }\n",
              "\n",
              "    .dataframe thead th {\n",
              "        text-align: right;\n",
              "    }\n",
              "</style>\n",
              "<table border=\"1\" class=\"dataframe\">\n",
              "  <thead>\n",
              "    <tr style=\"text-align: right;\">\n",
              "      <th></th>\n",
              "      <th>user_id</th>\n",
              "      <th>month</th>\n",
              "      <th>duration</th>\n",
              "      <th>calls_amount</th>\n",
              "    </tr>\n",
              "  </thead>\n",
              "  <tbody>\n",
              "    <tr>\n",
              "      <td>125</td>\n",
              "      <td>1017</td>\n",
              "      <td>11</td>\n",
              "      <td>463</td>\n",
              "      <td>49</td>\n",
              "    </tr>\n",
              "    <tr>\n",
              "      <td>2460</td>\n",
              "      <td>1391</td>\n",
              "      <td>8</td>\n",
              "      <td>965</td>\n",
              "      <td>104</td>\n",
              "    </tr>\n",
              "    <tr>\n",
              "      <td>2038</td>\n",
              "      <td>1326</td>\n",
              "      <td>7</td>\n",
              "      <td>277</td>\n",
              "      <td>25</td>\n",
              "    </tr>\n",
              "    <tr>\n",
              "      <td>2781</td>\n",
              "      <td>1436</td>\n",
              "      <td>5</td>\n",
              "      <td>370</td>\n",
              "      <td>40</td>\n",
              "    </tr>\n",
              "    <tr>\n",
              "      <td>432</td>\n",
              "      <td>1067</td>\n",
              "      <td>8</td>\n",
              "      <td>386</td>\n",
              "      <td>47</td>\n",
              "    </tr>\n",
              "    <tr>\n",
              "      <td>2215</td>\n",
              "      <td>1356</td>\n",
              "      <td>9</td>\n",
              "      <td>866</td>\n",
              "      <td>93</td>\n",
              "    </tr>\n",
              "    <tr>\n",
              "      <td>890</td>\n",
              "      <td>1144</td>\n",
              "      <td>10</td>\n",
              "      <td>416</td>\n",
              "      <td>52</td>\n",
              "    </tr>\n",
              "    <tr>\n",
              "      <td>295</td>\n",
              "      <td>1048</td>\n",
              "      <td>8</td>\n",
              "      <td>271</td>\n",
              "      <td>29</td>\n",
              "    </tr>\n",
              "    <tr>\n",
              "      <td>1989</td>\n",
              "      <td>1318</td>\n",
              "      <td>10</td>\n",
              "      <td>538</td>\n",
              "      <td>73</td>\n",
              "    </tr>\n",
              "    <tr>\n",
              "      <td>1624</td>\n",
              "      <td>1262</td>\n",
              "      <td>8</td>\n",
              "      <td>381</td>\n",
              "      <td>42</td>\n",
              "    </tr>\n",
              "  </tbody>\n",
              "</table>\n",
              "</div>"
            ],
            "text/plain": [
              "      user_id  month  duration  calls_amount\n",
              "125      1017     11       463            49\n",
              "2460     1391      8       965           104\n",
              "2038     1326      7       277            25\n",
              "2781     1436      5       370            40\n",
              "432      1067      8       386            47\n",
              "2215     1356      9       866            93\n",
              "890      1144     10       416            52\n",
              "295      1048      8       271            29\n",
              "1989     1318     10       538            73\n",
              "1624     1262      8       381            42"
            ]
          },
          "execution_count": 37,
          "metadata": {},
          "output_type": "execute_result"
        }
      ],
      "source": [
        "# создаю новую таблицу количеством и длительностью звонков для каждого клиента по месяцам\n",
        "calls_month = pd.pivot_table(calls, index=['user_id','month'],\n",
        "                                    values=['duration','id'],\n",
        "                                    aggfunc={'duration':sum,'id':'count'}\n",
        "                             ).reset_index()\n",
        "# меняем название столбцов\n",
        "calls_month.columns =['user_id', 'month', 'duration', 'calls_amount']\n",
        "\n",
        "#проверяем результат\n",
        "calls_month.sample(10)"
      ]
    },
    {
      "cell_type": "markdown",
      "metadata": {
        "id": "SP53KdxjUjbS"
      },
      "source": [
        "## <a name=\"messages-info-02\">Messages (информация о sms сообщениях)</a>"
      ]
    },
    {
      "cell_type": "markdown",
      "metadata": {
        "id": "C9-mLW83UjbT"
      },
      "source": [
        "Количество отправленных сообщений по месяцам."
      ]
    },
    {
      "cell_type": "code",
      "execution_count": null,
      "metadata": {
        "id": "uN0e6prgUjbT"
      },
      "outputs": [],
      "source": [
        "# Добавляю стобец с месяцем \n",
        "messages['month'] = pd.DatetimeIndex(messages['message_date']).month\n"
      ]
    },
    {
      "cell_type": "code",
      "execution_count": null,
      "metadata": {
        "id": "aQGqvhpKUjbT",
        "outputId": "0d4e1c6d-615f-41b9-db91-2663c6a7e5ad"
      },
      "outputs": [
        {
          "data": {
            "text/html": [
              "<div>\n",
              "<style scoped>\n",
              "    .dataframe tbody tr th:only-of-type {\n",
              "        vertical-align: middle;\n",
              "    }\n",
              "\n",
              "    .dataframe tbody tr th {\n",
              "        vertical-align: top;\n",
              "    }\n",
              "\n",
              "    .dataframe thead th {\n",
              "        text-align: right;\n",
              "    }\n",
              "</style>\n",
              "<table border=\"1\" class=\"dataframe\">\n",
              "  <thead>\n",
              "    <tr style=\"text-align: right;\">\n",
              "      <th></th>\n",
              "      <th>user_id</th>\n",
              "      <th>month</th>\n",
              "      <th>messages_amount</th>\n",
              "    </tr>\n",
              "  </thead>\n",
              "  <tbody>\n",
              "    <tr>\n",
              "      <td>2578</td>\n",
              "      <td>1475</td>\n",
              "      <td>12</td>\n",
              "      <td>27</td>\n",
              "    </tr>\n",
              "    <tr>\n",
              "      <td>2165</td>\n",
              "      <td>1403</td>\n",
              "      <td>10</td>\n",
              "      <td>54</td>\n",
              "    </tr>\n",
              "    <tr>\n",
              "      <td>918</td>\n",
              "      <td>1173</td>\n",
              "      <td>10</td>\n",
              "      <td>14</td>\n",
              "    </tr>\n",
              "    <tr>\n",
              "      <td>1205</td>\n",
              "      <td>1233</td>\n",
              "      <td>5</td>\n",
              "      <td>13</td>\n",
              "    </tr>\n",
              "    <tr>\n",
              "      <td>1175</td>\n",
              "      <td>1226</td>\n",
              "      <td>12</td>\n",
              "      <td>87</td>\n",
              "    </tr>\n",
              "    <tr>\n",
              "      <td>109</td>\n",
              "      <td>1018</td>\n",
              "      <td>12</td>\n",
              "      <td>37</td>\n",
              "    </tr>\n",
              "    <tr>\n",
              "      <td>2173</td>\n",
              "      <td>1404</td>\n",
              "      <td>9</td>\n",
              "      <td>48</td>\n",
              "    </tr>\n",
              "    <tr>\n",
              "      <td>1632</td>\n",
              "      <td>1315</td>\n",
              "      <td>7</td>\n",
              "      <td>34</td>\n",
              "    </tr>\n",
              "    <tr>\n",
              "      <td>768</td>\n",
              "      <td>1145</td>\n",
              "      <td>12</td>\n",
              "      <td>105</td>\n",
              "    </tr>\n",
              "    <tr>\n",
              "      <td>492</td>\n",
              "      <td>1091</td>\n",
              "      <td>6</td>\n",
              "      <td>30</td>\n",
              "    </tr>\n",
              "  </tbody>\n",
              "</table>\n",
              "</div>"
            ],
            "text/plain": [
              "      user_id  month  messages_amount\n",
              "2578     1475     12               27\n",
              "2165     1403     10               54\n",
              "918      1173     10               14\n",
              "1205     1233      5               13\n",
              "1175     1226     12               87\n",
              "109      1018     12               37\n",
              "2173     1404      9               48\n",
              "1632     1315      7               34\n",
              "768      1145     12              105\n",
              "492      1091      6               30"
            ]
          },
          "execution_count": 39,
          "metadata": {},
          "output_type": "execute_result"
        }
      ],
      "source": [
        "# создаю новую таблицу количеством сообщений для каждого клиента по месяцам\n",
        "messages_month = pd.pivot_table(messages, index=['user_id','month'],\n",
        "                                          values='id',\n",
        "                                          aggfunc='count'\n",
        "                                ).reset_index()\n",
        "\n",
        "# меняем название столбцов\n",
        "messages_month.columns =['user_id', 'month', 'messages_amount']\n",
        "\n",
        "#проверяем результат\n",
        "messages_month.sample(10)"
      ]
    },
    {
      "cell_type": "markdown",
      "metadata": {
        "id": "v7DCzGPhUjbT"
      },
      "source": [
        "## <a name=\"internet-info-02\">Internet (информация об использовании интернета)</a>"
      ]
    },
    {
      "cell_type": "markdown",
      "metadata": {
        "id": "VzNRBYM6UjbT"
      },
      "source": [
        "Количество трафика по месяцам."
      ]
    },
    {
      "cell_type": "code",
      "execution_count": null,
      "metadata": {
        "id": "DyVsINK-UjbT"
      },
      "outputs": [],
      "source": [
        "# Добавляю стобец с месяцем\n",
        "internet['month'] = pd.DatetimeIndex(internet['session_date']).month\n"
      ]
    },
    {
      "cell_type": "code",
      "execution_count": null,
      "metadata": {
        "id": "WhvMN84iUjbT",
        "outputId": "3cfd27e6-8b02-4c64-a7be-0bd33ce1f9e8"
      },
      "outputs": [
        {
          "data": {
            "text/html": [
              "<div>\n",
              "<style scoped>\n",
              "    .dataframe tbody tr th:only-of-type {\n",
              "        vertical-align: middle;\n",
              "    }\n",
              "\n",
              "    .dataframe tbody tr th {\n",
              "        vertical-align: top;\n",
              "    }\n",
              "\n",
              "    .dataframe thead th {\n",
              "        text-align: right;\n",
              "    }\n",
              "</style>\n",
              "<table border=\"1\" class=\"dataframe\">\n",
              "  <thead>\n",
              "    <tr style=\"text-align: right;\">\n",
              "      <th></th>\n",
              "      <th>user_id</th>\n",
              "      <th>month</th>\n",
              "      <th>mb_used</th>\n",
              "    </tr>\n",
              "  </thead>\n",
              "  <tbody>\n",
              "    <tr>\n",
              "      <td>2494</td>\n",
              "      <td>1392</td>\n",
              "      <td>8</td>\n",
              "      <td>15786.0</td>\n",
              "    </tr>\n",
              "    <tr>\n",
              "      <td>429</td>\n",
              "      <td>1067</td>\n",
              "      <td>5</td>\n",
              "      <td>15318.0</td>\n",
              "    </tr>\n",
              "    <tr>\n",
              "      <td>219</td>\n",
              "      <td>1034</td>\n",
              "      <td>9</td>\n",
              "      <td>17316.0</td>\n",
              "    </tr>\n",
              "    <tr>\n",
              "      <td>1604</td>\n",
              "      <td>1253</td>\n",
              "      <td>9</td>\n",
              "      <td>15361.0</td>\n",
              "    </tr>\n",
              "    <tr>\n",
              "      <td>3144</td>\n",
              "      <td>1490</td>\n",
              "      <td>7</td>\n",
              "      <td>10811.0</td>\n",
              "    </tr>\n",
              "    <tr>\n",
              "      <td>1300</td>\n",
              "      <td>1203</td>\n",
              "      <td>9</td>\n",
              "      <td>10552.0</td>\n",
              "    </tr>\n",
              "    <tr>\n",
              "      <td>2052</td>\n",
              "      <td>1325</td>\n",
              "      <td>9</td>\n",
              "      <td>23087.0</td>\n",
              "    </tr>\n",
              "    <tr>\n",
              "      <td>2993</td>\n",
              "      <td>1468</td>\n",
              "      <td>6</td>\n",
              "      <td>17002.0</td>\n",
              "    </tr>\n",
              "    <tr>\n",
              "      <td>2646</td>\n",
              "      <td>1414</td>\n",
              "      <td>10</td>\n",
              "      <td>21616.0</td>\n",
              "    </tr>\n",
              "    <tr>\n",
              "      <td>1452</td>\n",
              "      <td>1227</td>\n",
              "      <td>8</td>\n",
              "      <td>22632.0</td>\n",
              "    </tr>\n",
              "  </tbody>\n",
              "</table>\n",
              "</div>"
            ],
            "text/plain": [
              "      user_id  month  mb_used\n",
              "2494     1392      8  15786.0\n",
              "429      1067      5  15318.0\n",
              "219      1034      9  17316.0\n",
              "1604     1253      9  15361.0\n",
              "3144     1490      7  10811.0\n",
              "1300     1203      9  10552.0\n",
              "2052     1325      9  23087.0\n",
              "2993     1468      6  17002.0\n",
              "2646     1414     10  21616.0\n",
              "1452     1227      8  22632.0"
            ]
          },
          "execution_count": 41,
          "metadata": {},
          "output_type": "execute_result"
        }
      ],
      "source": [
        "# создаю новую таблицу количеством сообщений для каждого клиента по месяцам\n",
        "internet_month = pd.pivot_table(internet, index=['user_id','month'],\n",
        "                                          values='mb_used',\n",
        "                                          aggfunc='sum'\n",
        "                                ).reset_index()\n",
        "\n",
        "\n",
        "#проверяем результат\n",
        "internet_month.sample(10)"
      ]
    },
    {
      "cell_type": "markdown",
      "metadata": {
        "id": "ahRQ1NjfUjbT"
      },
      "source": [
        "<div class=\"alert alert-success\">\n",
        "<h2> Комментарий ревьюера </h2>\n",
        "\n",
        "Показатели рассчитаны. Данные подготовлены к дальнейшим расчетам.\n",
        "\n",
        "</div>"
      ]
    },
    {
      "cell_type": "markdown",
      "metadata": {
        "id": "ibtTP8XEUjbU"
      },
      "source": [
        "## <a name=\"clients-meged\">Сводная таблица с рассчетами</a>"
      ]
    },
    {
      "cell_type": "markdown",
      "metadata": {
        "id": "-TvI8CBgUjbU"
      },
      "source": [
        "Объединяю все таблицы в одну, для того чтобы проще было подсчитать доход от клиента в месяц."
      ]
    },
    {
      "cell_type": "code",
      "execution_count": null,
      "metadata": {
        "id": "YhKfm4QsUjbU",
        "outputId": "15f2f8be-6ae2-4071-f226-f0710d167ee9"
      },
      "outputs": [
        {
          "data": {
            "text/html": [
              "<div>\n",
              "<style scoped>\n",
              "    .dataframe tbody tr th:only-of-type {\n",
              "        vertical-align: middle;\n",
              "    }\n",
              "\n",
              "    .dataframe tbody tr th {\n",
              "        vertical-align: top;\n",
              "    }\n",
              "\n",
              "    .dataframe thead th {\n",
              "        text-align: right;\n",
              "    }\n",
              "</style>\n",
              "<table border=\"1\" class=\"dataframe\">\n",
              "  <thead>\n",
              "    <tr style=\"text-align: right;\">\n",
              "      <th></th>\n",
              "      <th>user_id</th>\n",
              "      <th>month</th>\n",
              "      <th>duration</th>\n",
              "      <th>calls_amount</th>\n",
              "      <th>mb_used</th>\n",
              "      <th>messages_amount</th>\n",
              "      <th>tariff</th>\n",
              "      <th>city</th>\n",
              "      <th>messages_included</th>\n",
              "      <th>mb_per_month_included</th>\n",
              "      <th>minutes_included</th>\n",
              "      <th>rub_monthly_fee</th>\n",
              "      <th>rub_per_gb</th>\n",
              "      <th>rub_per_message</th>\n",
              "      <th>rub_per_minute</th>\n",
              "    </tr>\n",
              "  </thead>\n",
              "  <tbody>\n",
              "    <tr>\n",
              "      <td>1320</td>\n",
              "      <td>1209</td>\n",
              "      <td>6</td>\n",
              "      <td>291.0</td>\n",
              "      <td>32.0</td>\n",
              "      <td>16634.0</td>\n",
              "      <td>73.0</td>\n",
              "      <td>smart</td>\n",
              "      <td>Омск</td>\n",
              "      <td>50</td>\n",
              "      <td>15360</td>\n",
              "      <td>500</td>\n",
              "      <td>550</td>\n",
              "      <td>200</td>\n",
              "      <td>3</td>\n",
              "      <td>3</td>\n",
              "    </tr>\n",
              "    <tr>\n",
              "      <td>1684</td>\n",
              "      <td>1271</td>\n",
              "      <td>8</td>\n",
              "      <td>389.0</td>\n",
              "      <td>44.0</td>\n",
              "      <td>23471.0</td>\n",
              "      <td>117.0</td>\n",
              "      <td>ultra</td>\n",
              "      <td>Челябинск</td>\n",
              "      <td>1000</td>\n",
              "      <td>30720</td>\n",
              "      <td>3000</td>\n",
              "      <td>1950</td>\n",
              "      <td>150</td>\n",
              "      <td>1</td>\n",
              "      <td>1</td>\n",
              "    </tr>\n",
              "    <tr>\n",
              "      <td>2953</td>\n",
              "      <td>1465</td>\n",
              "      <td>12</td>\n",
              "      <td>592.0</td>\n",
              "      <td>70.0</td>\n",
              "      <td>16636.0</td>\n",
              "      <td>55.0</td>\n",
              "      <td>smart</td>\n",
              "      <td>Омск</td>\n",
              "      <td>50</td>\n",
              "      <td>15360</td>\n",
              "      <td>500</td>\n",
              "      <td>550</td>\n",
              "      <td>200</td>\n",
              "      <td>3</td>\n",
              "      <td>3</td>\n",
              "    </tr>\n",
              "    <tr>\n",
              "      <td>1431</td>\n",
              "      <td>1227</td>\n",
              "      <td>3</td>\n",
              "      <td>731.0</td>\n",
              "      <td>76.0</td>\n",
              "      <td>22410.0</td>\n",
              "      <td>32.0</td>\n",
              "      <td>smart</td>\n",
              "      <td>Санкт-Петербург</td>\n",
              "      <td>50</td>\n",
              "      <td>15360</td>\n",
              "      <td>500</td>\n",
              "      <td>550</td>\n",
              "      <td>200</td>\n",
              "      <td>3</td>\n",
              "      <td>3</td>\n",
              "    </tr>\n",
              "    <tr>\n",
              "      <td>1857</td>\n",
              "      <td>1297</td>\n",
              "      <td>12</td>\n",
              "      <td>404.0</td>\n",
              "      <td>38.0</td>\n",
              "      <td>19006.0</td>\n",
              "      <td>NaN</td>\n",
              "      <td>smart</td>\n",
              "      <td>Иркутск</td>\n",
              "      <td>50</td>\n",
              "      <td>15360</td>\n",
              "      <td>500</td>\n",
              "      <td>550</td>\n",
              "      <td>200</td>\n",
              "      <td>3</td>\n",
              "      <td>3</td>\n",
              "    </tr>\n",
              "    <tr>\n",
              "      <td>74</td>\n",
              "      <td>1010</td>\n",
              "      <td>9</td>\n",
              "      <td>142.0</td>\n",
              "      <td>18.0</td>\n",
              "      <td>16173.0</td>\n",
              "      <td>NaN</td>\n",
              "      <td>smart</td>\n",
              "      <td>Тюмень</td>\n",
              "      <td>50</td>\n",
              "      <td>15360</td>\n",
              "      <td>500</td>\n",
              "      <td>550</td>\n",
              "      <td>200</td>\n",
              "      <td>3</td>\n",
              "      <td>3</td>\n",
              "    </tr>\n",
              "    <tr>\n",
              "      <td>2731</td>\n",
              "      <td>1429</td>\n",
              "      <td>12</td>\n",
              "      <td>241.0</td>\n",
              "      <td>26.0</td>\n",
              "      <td>21553.0</td>\n",
              "      <td>NaN</td>\n",
              "      <td>smart</td>\n",
              "      <td>Санкт-Петербург</td>\n",
              "      <td>50</td>\n",
              "      <td>15360</td>\n",
              "      <td>500</td>\n",
              "      <td>550</td>\n",
              "      <td>200</td>\n",
              "      <td>3</td>\n",
              "      <td>3</td>\n",
              "    </tr>\n",
              "    <tr>\n",
              "      <td>2351</td>\n",
              "      <td>1376</td>\n",
              "      <td>12</td>\n",
              "      <td>583.0</td>\n",
              "      <td>58.0</td>\n",
              "      <td>14563.0</td>\n",
              "      <td>NaN</td>\n",
              "      <td>smart</td>\n",
              "      <td>Самара</td>\n",
              "      <td>50</td>\n",
              "      <td>15360</td>\n",
              "      <td>500</td>\n",
              "      <td>550</td>\n",
              "      <td>200</td>\n",
              "      <td>3</td>\n",
              "      <td>3</td>\n",
              "    </tr>\n",
              "    <tr>\n",
              "      <td>736</td>\n",
              "      <td>1118</td>\n",
              "      <td>9</td>\n",
              "      <td>766.0</td>\n",
              "      <td>85.0</td>\n",
              "      <td>15253.0</td>\n",
              "      <td>NaN</td>\n",
              "      <td>smart</td>\n",
              "      <td>Казань</td>\n",
              "      <td>50</td>\n",
              "      <td>15360</td>\n",
              "      <td>500</td>\n",
              "      <td>550</td>\n",
              "      <td>200</td>\n",
              "      <td>3</td>\n",
              "      <td>3</td>\n",
              "    </tr>\n",
              "    <tr>\n",
              "      <td>1781</td>\n",
              "      <td>1285</td>\n",
              "      <td>6</td>\n",
              "      <td>387.0</td>\n",
              "      <td>43.0</td>\n",
              "      <td>6978.0</td>\n",
              "      <td>117.0</td>\n",
              "      <td>smart</td>\n",
              "      <td>Краснодар</td>\n",
              "      <td>50</td>\n",
              "      <td>15360</td>\n",
              "      <td>500</td>\n",
              "      <td>550</td>\n",
              "      <td>200</td>\n",
              "      <td>3</td>\n",
              "      <td>3</td>\n",
              "    </tr>\n",
              "  </tbody>\n",
              "</table>\n",
              "</div>"
            ],
            "text/plain": [
              "      user_id  month  duration  calls_amount  mb_used  messages_amount tariff  \\\n",
              "1320     1209      6     291.0          32.0  16634.0             73.0  smart   \n",
              "1684     1271      8     389.0          44.0  23471.0            117.0  ultra   \n",
              "2953     1465     12     592.0          70.0  16636.0             55.0  smart   \n",
              "1431     1227      3     731.0          76.0  22410.0             32.0  smart   \n",
              "1857     1297     12     404.0          38.0  19006.0              NaN  smart   \n",
              "74       1010      9     142.0          18.0  16173.0              NaN  smart   \n",
              "2731     1429     12     241.0          26.0  21553.0              NaN  smart   \n",
              "2351     1376     12     583.0          58.0  14563.0              NaN  smart   \n",
              "736      1118      9     766.0          85.0  15253.0              NaN  smart   \n",
              "1781     1285      6     387.0          43.0   6978.0            117.0  smart   \n",
              "\n",
              "                 city  messages_included  mb_per_month_included  \\\n",
              "1320             Омск                 50                  15360   \n",
              "1684        Челябинск               1000                  30720   \n",
              "2953             Омск                 50                  15360   \n",
              "1431  Санкт-Петербург                 50                  15360   \n",
              "1857          Иркутск                 50                  15360   \n",
              "74             Тюмень                 50                  15360   \n",
              "2731  Санкт-Петербург                 50                  15360   \n",
              "2351           Самара                 50                  15360   \n",
              "736            Казань                 50                  15360   \n",
              "1781        Краснодар                 50                  15360   \n",
              "\n",
              "      minutes_included  rub_monthly_fee  rub_per_gb  rub_per_message  \\\n",
              "1320               500              550         200                3   \n",
              "1684              3000             1950         150                1   \n",
              "2953               500              550         200                3   \n",
              "1431               500              550         200                3   \n",
              "1857               500              550         200                3   \n",
              "74                 500              550         200                3   \n",
              "2731               500              550         200                3   \n",
              "2351               500              550         200                3   \n",
              "736                500              550         200                3   \n",
              "1781               500              550         200                3   \n",
              "\n",
              "      rub_per_minute  \n",
              "1320               3  \n",
              "1684               1  \n",
              "2953               3  \n",
              "1431               3  \n",
              "1857               3  \n",
              "74                 3  \n",
              "2731               3  \n",
              "2351               3  \n",
              "736                3  \n",
              "1781               3  "
            ]
          },
          "execution_count": 42,
          "metadata": {},
          "output_type": "execute_result"
        }
      ],
      "source": [
        "# объединяю данные из таблиц звонков и интернета\n",
        "clients_total = calls_month.merge(internet_month, on=['user_id','month'], how ='outer')\n",
        "\n",
        "# добавляю данные из таблицы с сообщениями\n",
        "clients_total = clients_total.merge(messages_month, on=['user_id','month'], how ='outer')\n",
        "\n",
        "\n",
        "# добавляю информацию о клиентах\n",
        "clients_total = clients_total.merge(users[['user_id','tariff', 'city']], on='user_id', how ='left')\n",
        "\n",
        "#добавляю информацию о тарифах\n",
        "clients_total = clients_total.merge(tariffs, on='tariff', how='left')\n",
        "\n",
        "# проверяю результат\n",
        "clients_total.sample(10)"
      ]
    },
    {
      "cell_type": "markdown",
      "metadata": {
        "id": "7eibkX6QUjbU"
      },
      "source": [
        "<div class=\"alert alert-success\">\n",
        "<h2> Комментарий ревьюера </h2>\n",
        "\n",
        "Да, именно внешнее соединение нам и нужно в данном случае. Иначе в таблицу не попадут клиенты, которые не пользовались одним из видов услуг оператора в течение конкретного месяца. \n",
        "\n",
        "</div>"
      ]
    },
    {
      "cell_type": "markdown",
      "metadata": {
        "id": "NodqJX8GUjbU"
      },
      "source": [
        "Вижу, что есть пропуски, проверяю сколько их."
      ]
    },
    {
      "cell_type": "code",
      "execution_count": null,
      "metadata": {
        "id": "063ZPqzeUjbU",
        "outputId": "3a3275bd-7096-4ca1-c3aa-f551a2986133"
      },
      "outputs": [
        {
          "name": "stdout",
          "output_type": "stream",
          "text": [
            "<class 'pandas.core.frame.DataFrame'>\n",
            "Int64Index: 3214 entries, 0 to 3213\n",
            "Data columns (total 15 columns):\n",
            "user_id                  3214 non-null int64\n",
            "month                    3214 non-null int64\n",
            "duration                 3168 non-null float64\n",
            "calls_amount             3168 non-null float64\n",
            "mb_used                  3201 non-null float64\n",
            "messages_amount          2717 non-null float64\n",
            "tariff                   3214 non-null object\n",
            "city                     3214 non-null object\n",
            "messages_included        3214 non-null int64\n",
            "mb_per_month_included    3214 non-null int64\n",
            "minutes_included         3214 non-null int64\n",
            "rub_monthly_fee          3214 non-null int64\n",
            "rub_per_gb               3214 non-null int64\n",
            "rub_per_message          3214 non-null int64\n",
            "rub_per_minute           3214 non-null int64\n",
            "dtypes: float64(4), int64(9), object(2)\n",
            "memory usage: 401.8+ KB\n"
          ]
        }
      ],
      "source": [
        "# информация о таблице\n",
        "clients_total.info()"
      ]
    },
    {
      "cell_type": "markdown",
      "metadata": {
        "id": "AK3l-faLUjbU"
      },
      "source": [
        "Пропуски есть, видимо какие-то клиенты использовали тариф только для того, чтобы звонить, поэтому у них нет использованного трафика и так далее. Посмотрим количество пропусков в каждом столбце."
      ]
    },
    {
      "cell_type": "code",
      "execution_count": null,
      "metadata": {
        "id": "pRGzvOYDUjbU",
        "outputId": "62c46f70-7d05-4b71-ffc3-f11c93b9dd88"
      },
      "outputs": [
        {
          "data": {
            "text/html": [
              "<style  type=\"text/css\" >\n",
              "    #T_b80dfa46_51c4_11eb_b78e_02420a393a84row0_col0 {\n",
              "            background-color:  #3b4cc0;\n",
              "            color:  #f1f1f1;\n",
              "        }    #T_b80dfa46_51c4_11eb_b78e_02420a393a84row1_col0 {\n",
              "            background-color:  #3b4cc0;\n",
              "            color:  #f1f1f1;\n",
              "        }    #T_b80dfa46_51c4_11eb_b78e_02420a393a84row2_col0 {\n",
              "            background-color:  #5673e0;\n",
              "            color:  #000000;\n",
              "        }    #T_b80dfa46_51c4_11eb_b78e_02420a393a84row3_col0 {\n",
              "            background-color:  #5673e0;\n",
              "            color:  #000000;\n",
              "        }    #T_b80dfa46_51c4_11eb_b78e_02420a393a84row4_col0 {\n",
              "            background-color:  #4257c9;\n",
              "            color:  #f1f1f1;\n",
              "        }    #T_b80dfa46_51c4_11eb_b78e_02420a393a84row5_col0 {\n",
              "            background-color:  #b40426;\n",
              "            color:  #f1f1f1;\n",
              "        }    #T_b80dfa46_51c4_11eb_b78e_02420a393a84row6_col0 {\n",
              "            background-color:  #3b4cc0;\n",
              "            color:  #f1f1f1;\n",
              "        }    #T_b80dfa46_51c4_11eb_b78e_02420a393a84row7_col0 {\n",
              "            background-color:  #3b4cc0;\n",
              "            color:  #f1f1f1;\n",
              "        }    #T_b80dfa46_51c4_11eb_b78e_02420a393a84row8_col0 {\n",
              "            background-color:  #3b4cc0;\n",
              "            color:  #f1f1f1;\n",
              "        }    #T_b80dfa46_51c4_11eb_b78e_02420a393a84row9_col0 {\n",
              "            background-color:  #3b4cc0;\n",
              "            color:  #f1f1f1;\n",
              "        }    #T_b80dfa46_51c4_11eb_b78e_02420a393a84row10_col0 {\n",
              "            background-color:  #3b4cc0;\n",
              "            color:  #f1f1f1;\n",
              "        }    #T_b80dfa46_51c4_11eb_b78e_02420a393a84row11_col0 {\n",
              "            background-color:  #3b4cc0;\n",
              "            color:  #f1f1f1;\n",
              "        }    #T_b80dfa46_51c4_11eb_b78e_02420a393a84row12_col0 {\n",
              "            background-color:  #3b4cc0;\n",
              "            color:  #f1f1f1;\n",
              "        }    #T_b80dfa46_51c4_11eb_b78e_02420a393a84row13_col0 {\n",
              "            background-color:  #3b4cc0;\n",
              "            color:  #f1f1f1;\n",
              "        }    #T_b80dfa46_51c4_11eb_b78e_02420a393a84row14_col0 {\n",
              "            background-color:  #3b4cc0;\n",
              "            color:  #f1f1f1;\n",
              "        }</style><table id=\"T_b80dfa46_51c4_11eb_b78e_02420a393a84\" ><thead>    <tr>        <th class=\"blank level0\" ></th>        <th class=\"col_heading level0 col0\" >0</th>    </tr></thead><tbody>\n",
              "                <tr>\n",
              "                        <th id=\"T_b80dfa46_51c4_11eb_b78e_02420a393a84level0_row0\" class=\"row_heading level0 row0\" >user_id</th>\n",
              "                        <td id=\"T_b80dfa46_51c4_11eb_b78e_02420a393a84row0_col0\" class=\"data row0 col0\" >0</td>\n",
              "            </tr>\n",
              "            <tr>\n",
              "                        <th id=\"T_b80dfa46_51c4_11eb_b78e_02420a393a84level0_row1\" class=\"row_heading level0 row1\" >month</th>\n",
              "                        <td id=\"T_b80dfa46_51c4_11eb_b78e_02420a393a84row1_col0\" class=\"data row1 col0\" >0</td>\n",
              "            </tr>\n",
              "            <tr>\n",
              "                        <th id=\"T_b80dfa46_51c4_11eb_b78e_02420a393a84level0_row2\" class=\"row_heading level0 row2\" >duration</th>\n",
              "                        <td id=\"T_b80dfa46_51c4_11eb_b78e_02420a393a84row2_col0\" class=\"data row2 col0\" >1.43</td>\n",
              "            </tr>\n",
              "            <tr>\n",
              "                        <th id=\"T_b80dfa46_51c4_11eb_b78e_02420a393a84level0_row3\" class=\"row_heading level0 row3\" >calls_amount</th>\n",
              "                        <td id=\"T_b80dfa46_51c4_11eb_b78e_02420a393a84row3_col0\" class=\"data row3 col0\" >1.43</td>\n",
              "            </tr>\n",
              "            <tr>\n",
              "                        <th id=\"T_b80dfa46_51c4_11eb_b78e_02420a393a84level0_row4\" class=\"row_heading level0 row4\" >mb_used</th>\n",
              "                        <td id=\"T_b80dfa46_51c4_11eb_b78e_02420a393a84row4_col0\" class=\"data row4 col0\" >0.4</td>\n",
              "            </tr>\n",
              "            <tr>\n",
              "                        <th id=\"T_b80dfa46_51c4_11eb_b78e_02420a393a84level0_row5\" class=\"row_heading level0 row5\" >messages_amount</th>\n",
              "                        <td id=\"T_b80dfa46_51c4_11eb_b78e_02420a393a84row5_col0\" class=\"data row5 col0\" >15.46</td>\n",
              "            </tr>\n",
              "            <tr>\n",
              "                        <th id=\"T_b80dfa46_51c4_11eb_b78e_02420a393a84level0_row6\" class=\"row_heading level0 row6\" >tariff</th>\n",
              "                        <td id=\"T_b80dfa46_51c4_11eb_b78e_02420a393a84row6_col0\" class=\"data row6 col0\" >0</td>\n",
              "            </tr>\n",
              "            <tr>\n",
              "                        <th id=\"T_b80dfa46_51c4_11eb_b78e_02420a393a84level0_row7\" class=\"row_heading level0 row7\" >city</th>\n",
              "                        <td id=\"T_b80dfa46_51c4_11eb_b78e_02420a393a84row7_col0\" class=\"data row7 col0\" >0</td>\n",
              "            </tr>\n",
              "            <tr>\n",
              "                        <th id=\"T_b80dfa46_51c4_11eb_b78e_02420a393a84level0_row8\" class=\"row_heading level0 row8\" >messages_included</th>\n",
              "                        <td id=\"T_b80dfa46_51c4_11eb_b78e_02420a393a84row8_col0\" class=\"data row8 col0\" >0</td>\n",
              "            </tr>\n",
              "            <tr>\n",
              "                        <th id=\"T_b80dfa46_51c4_11eb_b78e_02420a393a84level0_row9\" class=\"row_heading level0 row9\" >mb_per_month_included</th>\n",
              "                        <td id=\"T_b80dfa46_51c4_11eb_b78e_02420a393a84row9_col0\" class=\"data row9 col0\" >0</td>\n",
              "            </tr>\n",
              "            <tr>\n",
              "                        <th id=\"T_b80dfa46_51c4_11eb_b78e_02420a393a84level0_row10\" class=\"row_heading level0 row10\" >minutes_included</th>\n",
              "                        <td id=\"T_b80dfa46_51c4_11eb_b78e_02420a393a84row10_col0\" class=\"data row10 col0\" >0</td>\n",
              "            </tr>\n",
              "            <tr>\n",
              "                        <th id=\"T_b80dfa46_51c4_11eb_b78e_02420a393a84level0_row11\" class=\"row_heading level0 row11\" >rub_monthly_fee</th>\n",
              "                        <td id=\"T_b80dfa46_51c4_11eb_b78e_02420a393a84row11_col0\" class=\"data row11 col0\" >0</td>\n",
              "            </tr>\n",
              "            <tr>\n",
              "                        <th id=\"T_b80dfa46_51c4_11eb_b78e_02420a393a84level0_row12\" class=\"row_heading level0 row12\" >rub_per_gb</th>\n",
              "                        <td id=\"T_b80dfa46_51c4_11eb_b78e_02420a393a84row12_col0\" class=\"data row12 col0\" >0</td>\n",
              "            </tr>\n",
              "            <tr>\n",
              "                        <th id=\"T_b80dfa46_51c4_11eb_b78e_02420a393a84level0_row13\" class=\"row_heading level0 row13\" >rub_per_message</th>\n",
              "                        <td id=\"T_b80dfa46_51c4_11eb_b78e_02420a393a84row13_col0\" class=\"data row13 col0\" >0</td>\n",
              "            </tr>\n",
              "            <tr>\n",
              "                        <th id=\"T_b80dfa46_51c4_11eb_b78e_02420a393a84level0_row14\" class=\"row_heading level0 row14\" >rub_per_minute</th>\n",
              "                        <td id=\"T_b80dfa46_51c4_11eb_b78e_02420a393a84row14_col0\" class=\"data row14 col0\" >0</td>\n",
              "            </tr>\n",
              "    </tbody></table>"
            ],
            "text/plain": [
              "<pandas.io.formats.style.Styler at 0x7f7e3c4e3dd0>"
            ]
          },
          "execution_count": 44,
          "metadata": {},
          "output_type": "execute_result"
        }
      ],
      "source": [
        "pd.DataFrame(round((clients_total.isna().mean()*100),2)).style.background_gradient('coolwarm')"
      ]
    },
    {
      "cell_type": "markdown",
      "metadata": {
        "id": "q5BU0V-wUjbU"
      },
      "source": [
        "15% - много, поэтому в 'messages_amount' я заменяю пропуски на 0, а остальные удаляю."
      ]
    },
    {
      "cell_type": "code",
      "execution_count": null,
      "metadata": {
        "id": "eoXMxEK1UjbV",
        "outputId": "36977d18-ebb3-4a59-8d05-ea907fd62b85"
      },
      "outputs": [
        {
          "name": "stdout",
          "output_type": "stream",
          "text": [
            "<class 'pandas.core.frame.DataFrame'>\n",
            "Int64Index: 3155 entries, 0 to 3167\n",
            "Data columns (total 15 columns):\n",
            "user_id                  3155 non-null int64\n",
            "month                    3155 non-null int64\n",
            "duration                 3155 non-null float64\n",
            "calls_amount             3155 non-null float64\n",
            "mb_used                  3155 non-null float64\n",
            "messages_amount          3155 non-null float64\n",
            "tariff                   3155 non-null object\n",
            "city                     3155 non-null object\n",
            "messages_included        3155 non-null int64\n",
            "mb_per_month_included    3155 non-null int64\n",
            "minutes_included         3155 non-null int64\n",
            "rub_monthly_fee          3155 non-null int64\n",
            "rub_per_gb               3155 non-null int64\n",
            "rub_per_message          3155 non-null int64\n",
            "rub_per_minute           3155 non-null int64\n",
            "dtypes: float64(4), int64(9), object(2)\n",
            "memory usage: 394.4+ KB\n"
          ]
        }
      ],
      "source": [
        "# заменяю пропуски на 0\n",
        "clients_total['messages_amount'].fillna(0, inplace=True)\n",
        "\n",
        "# удаляю там, где можно удалить\n",
        "clients_total.dropna(subset=['duration', 'calls_amount', 'mb_used'], inplace=True)\n",
        "\n",
        "# проверяю результат\n",
        "clients_total.info()"
      ]
    },
    {
      "cell_type": "markdown",
      "metadata": {
        "id": "aoU4idsLUjbV"
      },
      "source": [
        "<div class=\"alert alert-success\">\n",
        "<h2> Комментарий ревьюера </h2>\n",
        "\n",
        "Исходя из высказанной тобой причины появления пропусков, можно их все обработать 0. Однако удалено не так много данных, так что твой вариант вполне приемлем. \n",
        "\n",
        "</div>"
      ]
    },
    {
      "cell_type": "code",
      "execution_count": null,
      "metadata": {
        "id": "-Ux6UwCwUjbV",
        "outputId": "3858860b-4d10-4d08-8813-22925b03d6fe"
      },
      "outputs": [
        {
          "data": {
            "text/plain": [
              "0"
            ]
          },
          "execution_count": 46,
          "metadata": {},
          "output_type": "execute_result"
        }
      ],
      "source": [
        "#проверяю наличие дублей\n",
        "clients_total.duplicated().sum()"
      ]
    },
    {
      "cell_type": "markdown",
      "metadata": {
        "id": "4q8qWMuCUjbV"
      },
      "source": [
        "Таблица готова к дальнейшему анализу и вычислениям. \n",
        "\n",
        "Рассчитаем помесячную выручку с каждого клиента и добавим результат в отдельный столбец. "
      ]
    },
    {
      "cell_type": "code",
      "execution_count": null,
      "metadata": {
        "id": "X5Pv8uUQUjbV"
      },
      "outputs": [],
      "source": [
        "# функция для подсчета затрат сверх тарифа\n",
        "\n",
        "def extra_expenses(row):\n",
        "    ex_minutes = (row['calls_amount'] - row['minutes_included']) * row['rub_per_minute']\n",
        "    ex_gb = (row['mb_used'] - row['mb_per_month_included']) * row['rub_per_gb'] / 1024\n",
        "    ex_messages = (row['messages_amount'] - row['messages_included']) * row['rub_per_message']\n",
        "    extra = 0\n",
        "    for y in [ex_minutes, ex_gb, ex_messages]:\n",
        "              if y > 0:\n",
        "                extra +=y\n",
        "    return extra\n",
        "    "
      ]
    },
    {
      "cell_type": "code",
      "execution_count": null,
      "metadata": {
        "id": "3W64l6i1UjbV"
      },
      "outputs": [],
      "source": [
        "# добавляем результат в отдельный столбец\n",
        "clients_total['extra_expenses'] = clients_total.apply(lambda x: extra_expenses(x), axis=1)"
      ]
    },
    {
      "cell_type": "code",
      "execution_count": null,
      "metadata": {
        "id": "qG-Jwa18UjbV",
        "outputId": "71a6fb6c-e387-43fd-aa43-e09c105aadbb"
      },
      "outputs": [
        {
          "data": {
            "text/html": [
              "<div>\n",
              "<style scoped>\n",
              "    .dataframe tbody tr th:only-of-type {\n",
              "        vertical-align: middle;\n",
              "    }\n",
              "\n",
              "    .dataframe tbody tr th {\n",
              "        vertical-align: top;\n",
              "    }\n",
              "\n",
              "    .dataframe thead th {\n",
              "        text-align: right;\n",
              "    }\n",
              "</style>\n",
              "<table border=\"1\" class=\"dataframe\">\n",
              "  <thead>\n",
              "    <tr style=\"text-align: right;\">\n",
              "      <th></th>\n",
              "      <th>user_id</th>\n",
              "      <th>month</th>\n",
              "      <th>duration</th>\n",
              "      <th>calls_amount</th>\n",
              "      <th>mb_used</th>\n",
              "      <th>messages_amount</th>\n",
              "      <th>tariff</th>\n",
              "      <th>city</th>\n",
              "      <th>messages_included</th>\n",
              "      <th>mb_per_month_included</th>\n",
              "      <th>minutes_included</th>\n",
              "      <th>rub_monthly_fee</th>\n",
              "      <th>rub_per_gb</th>\n",
              "      <th>rub_per_message</th>\n",
              "      <th>rub_per_minute</th>\n",
              "      <th>extra_expenses</th>\n",
              "      <th>income</th>\n",
              "    </tr>\n",
              "  </thead>\n",
              "  <tbody>\n",
              "    <tr>\n",
              "      <td>458</td>\n",
              "      <td>1072</td>\n",
              "      <td>3</td>\n",
              "      <td>338.0</td>\n",
              "      <td>41.0</td>\n",
              "      <td>20541.0</td>\n",
              "      <td>24.0</td>\n",
              "      <td>smart</td>\n",
              "      <td>Уфа</td>\n",
              "      <td>50</td>\n",
              "      <td>15360</td>\n",
              "      <td>500</td>\n",
              "      <td>550</td>\n",
              "      <td>200</td>\n",
              "      <td>3</td>\n",
              "      <td>3</td>\n",
              "      <td>1011.914062</td>\n",
              "      <td>1561</td>\n",
              "    </tr>\n",
              "    <tr>\n",
              "      <td>2689</td>\n",
              "      <td>1424</td>\n",
              "      <td>11</td>\n",
              "      <td>16.0</td>\n",
              "      <td>4.0</td>\n",
              "      <td>17161.0</td>\n",
              "      <td>83.0</td>\n",
              "      <td>ultra</td>\n",
              "      <td>Москва</td>\n",
              "      <td>1000</td>\n",
              "      <td>30720</td>\n",
              "      <td>3000</td>\n",
              "      <td>1950</td>\n",
              "      <td>150</td>\n",
              "      <td>1</td>\n",
              "      <td>1</td>\n",
              "      <td>0.000000</td>\n",
              "      <td>1950</td>\n",
              "    </tr>\n",
              "    <tr>\n",
              "      <td>39</td>\n",
              "      <td>1005</td>\n",
              "      <td>10</td>\n",
              "      <td>723.0</td>\n",
              "      <td>78.0</td>\n",
              "      <td>7809.0</td>\n",
              "      <td>44.0</td>\n",
              "      <td>smart</td>\n",
              "      <td>Набережные Челны</td>\n",
              "      <td>50</td>\n",
              "      <td>15360</td>\n",
              "      <td>500</td>\n",
              "      <td>550</td>\n",
              "      <td>200</td>\n",
              "      <td>3</td>\n",
              "      <td>3</td>\n",
              "      <td>0.000000</td>\n",
              "      <td>550</td>\n",
              "    </tr>\n",
              "    <tr>\n",
              "      <td>290</td>\n",
              "      <td>1046</td>\n",
              "      <td>11</td>\n",
              "      <td>545.0</td>\n",
              "      <td>61.0</td>\n",
              "      <td>20996.0</td>\n",
              "      <td>33.0</td>\n",
              "      <td>smart</td>\n",
              "      <td>Тула</td>\n",
              "      <td>50</td>\n",
              "      <td>15360</td>\n",
              "      <td>500</td>\n",
              "      <td>550</td>\n",
              "      <td>200</td>\n",
              "      <td>3</td>\n",
              "      <td>3</td>\n",
              "      <td>1100.781250</td>\n",
              "      <td>1650</td>\n",
              "    </tr>\n",
              "    <tr>\n",
              "      <td>1100</td>\n",
              "      <td>1175</td>\n",
              "      <td>10</td>\n",
              "      <td>369.0</td>\n",
              "      <td>39.0</td>\n",
              "      <td>16894.0</td>\n",
              "      <td>0.0</td>\n",
              "      <td>smart</td>\n",
              "      <td>Москва</td>\n",
              "      <td>50</td>\n",
              "      <td>15360</td>\n",
              "      <td>500</td>\n",
              "      <td>550</td>\n",
              "      <td>200</td>\n",
              "      <td>3</td>\n",
              "      <td>3</td>\n",
              "      <td>299.609375</td>\n",
              "      <td>849</td>\n",
              "    </tr>\n",
              "    <tr>\n",
              "      <td>3100</td>\n",
              "      <td>1486</td>\n",
              "      <td>12</td>\n",
              "      <td>1007.0</td>\n",
              "      <td>115.0</td>\n",
              "      <td>38610.0</td>\n",
              "      <td>83.0</td>\n",
              "      <td>smart</td>\n",
              "      <td>Нижний Новгород</td>\n",
              "      <td>50</td>\n",
              "      <td>15360</td>\n",
              "      <td>500</td>\n",
              "      <td>550</td>\n",
              "      <td>200</td>\n",
              "      <td>3</td>\n",
              "      <td>3</td>\n",
              "      <td>4640.015625</td>\n",
              "      <td>5190</td>\n",
              "    </tr>\n",
              "    <tr>\n",
              "      <td>1754</td>\n",
              "      <td>1282</td>\n",
              "      <td>4</td>\n",
              "      <td>725.0</td>\n",
              "      <td>85.0</td>\n",
              "      <td>10618.0</td>\n",
              "      <td>79.0</td>\n",
              "      <td>smart</td>\n",
              "      <td>Ульяновск</td>\n",
              "      <td>50</td>\n",
              "      <td>15360</td>\n",
              "      <td>500</td>\n",
              "      <td>550</td>\n",
              "      <td>200</td>\n",
              "      <td>3</td>\n",
              "      <td>3</td>\n",
              "      <td>87.000000</td>\n",
              "      <td>637</td>\n",
              "    </tr>\n",
              "    <tr>\n",
              "      <td>1707</td>\n",
              "      <td>1274</td>\n",
              "      <td>11</td>\n",
              "      <td>479.0</td>\n",
              "      <td>55.0</td>\n",
              "      <td>18262.0</td>\n",
              "      <td>78.0</td>\n",
              "      <td>smart</td>\n",
              "      <td>Волгоград</td>\n",
              "      <td>50</td>\n",
              "      <td>15360</td>\n",
              "      <td>500</td>\n",
              "      <td>550</td>\n",
              "      <td>200</td>\n",
              "      <td>3</td>\n",
              "      <td>3</td>\n",
              "      <td>650.796875</td>\n",
              "      <td>1200</td>\n",
              "    </tr>\n",
              "    <tr>\n",
              "      <td>786</td>\n",
              "      <td>1125</td>\n",
              "      <td>10</td>\n",
              "      <td>219.0</td>\n",
              "      <td>31.0</td>\n",
              "      <td>10863.0</td>\n",
              "      <td>7.0</td>\n",
              "      <td>smart</td>\n",
              "      <td>Волгоград</td>\n",
              "      <td>50</td>\n",
              "      <td>15360</td>\n",
              "      <td>500</td>\n",
              "      <td>550</td>\n",
              "      <td>200</td>\n",
              "      <td>3</td>\n",
              "      <td>3</td>\n",
              "      <td>0.000000</td>\n",
              "      <td>550</td>\n",
              "    </tr>\n",
              "    <tr>\n",
              "      <td>2837</td>\n",
              "      <td>1449</td>\n",
              "      <td>8</td>\n",
              "      <td>547.0</td>\n",
              "      <td>65.0</td>\n",
              "      <td>15961.0</td>\n",
              "      <td>91.0</td>\n",
              "      <td>smart</td>\n",
              "      <td>Москва</td>\n",
              "      <td>50</td>\n",
              "      <td>15360</td>\n",
              "      <td>500</td>\n",
              "      <td>550</td>\n",
              "      <td>200</td>\n",
              "      <td>3</td>\n",
              "      <td>3</td>\n",
              "      <td>240.382812</td>\n",
              "      <td>790</td>\n",
              "    </tr>\n",
              "  </tbody>\n",
              "</table>\n",
              "</div>"
            ],
            "text/plain": [
              "      user_id  month  duration  calls_amount  mb_used  messages_amount tariff  \\\n",
              "458      1072      3     338.0          41.0  20541.0             24.0  smart   \n",
              "2689     1424     11      16.0           4.0  17161.0             83.0  ultra   \n",
              "39       1005     10     723.0          78.0   7809.0             44.0  smart   \n",
              "290      1046     11     545.0          61.0  20996.0             33.0  smart   \n",
              "1100     1175     10     369.0          39.0  16894.0              0.0  smart   \n",
              "3100     1486     12    1007.0         115.0  38610.0             83.0  smart   \n",
              "1754     1282      4     725.0          85.0  10618.0             79.0  smart   \n",
              "1707     1274     11     479.0          55.0  18262.0             78.0  smart   \n",
              "786      1125     10     219.0          31.0  10863.0              7.0  smart   \n",
              "2837     1449      8     547.0          65.0  15961.0             91.0  smart   \n",
              "\n",
              "                  city  messages_included  mb_per_month_included  \\\n",
              "458                Уфа                 50                  15360   \n",
              "2689            Москва               1000                  30720   \n",
              "39    Набережные Челны                 50                  15360   \n",
              "290               Тула                 50                  15360   \n",
              "1100            Москва                 50                  15360   \n",
              "3100   Нижний Новгород                 50                  15360   \n",
              "1754         Ульяновск                 50                  15360   \n",
              "1707         Волгоград                 50                  15360   \n",
              "786          Волгоград                 50                  15360   \n",
              "2837            Москва                 50                  15360   \n",
              "\n",
              "      minutes_included  rub_monthly_fee  rub_per_gb  rub_per_message  \\\n",
              "458                500              550         200                3   \n",
              "2689              3000             1950         150                1   \n",
              "39                 500              550         200                3   \n",
              "290                500              550         200                3   \n",
              "1100               500              550         200                3   \n",
              "3100               500              550         200                3   \n",
              "1754               500              550         200                3   \n",
              "1707               500              550         200                3   \n",
              "786                500              550         200                3   \n",
              "2837               500              550         200                3   \n",
              "\n",
              "      rub_per_minute  extra_expenses  income  \n",
              "458                3     1011.914062    1561  \n",
              "2689               1        0.000000    1950  \n",
              "39                 3        0.000000     550  \n",
              "290                3     1100.781250    1650  \n",
              "1100               3      299.609375     849  \n",
              "3100               3     4640.015625    5190  \n",
              "1754               3       87.000000     637  \n",
              "1707               3      650.796875    1200  \n",
              "786                3        0.000000     550  \n",
              "2837               3      240.382812     790  "
            ]
          },
          "execution_count": 49,
          "metadata": {},
          "output_type": "execute_result"
        }
      ],
      "source": [
        "# считаем общую выручку и проверяем результат\n",
        "clients_total['income'] = clients_total['extra_expenses'] + clients_total['rub_monthly_fee']\n",
        "clients_total['income'] = clients_total['income'].astype(int)\n",
        "clients_total.sample(10)\n"
      ]
    },
    {
      "cell_type": "markdown",
      "metadata": {
        "id": "6hE0Uap5UjbV"
      },
      "source": [
        "<div class=\"alert alert-success\">\n",
        "<h2> Комментарий ревьюера </h2>\n",
        "\n",
        "Финальная таблица получена верным образом. Стоит убрать из нее излишнюю информацию о тарифах. Она у нас уже есть в таблице tariffs. Дублировать ее не стоит.\n",
        "\n",
        "</div>"
      ]
    },
    {
      "cell_type": "markdown",
      "metadata": {
        "id": "y8P0KbknUjbW"
      },
      "source": [
        "# <a name=\"smart-ultra-calculations\"> Исследовательский анализ тарифов</a>"
      ]
    },
    {
      "cell_type": "markdown",
      "metadata": {
        "id": "0OGtbZcsUjbW"
      },
      "source": [
        "Сколько минут разговора, сколько сообщений и какой объём интернет-трафика требуется пользователям каждого тарифа в месяц?\n",
        "\n",
        "Для удобства создам отдельные таблицы по тарифам."
      ]
    },
    {
      "cell_type": "code",
      "execution_count": null,
      "metadata": {
        "id": "Vm2ibOpTUjbW"
      },
      "outputs": [],
      "source": [
        "# создаю две отдельные таблицы по тарифам\n",
        "smart = clients_total[clients_total['tariff'] == 'smart']\n",
        "ultra = clients_total[clients_total['tariff'] == 'ultra']"
      ]
    },
    {
      "cell_type": "markdown",
      "metadata": {
        "id": "mHZxi_btUjbW"
      },
      "source": [
        "## <a name=\"calls-info-03\">Calls (информация о звонках)</a>"
      ]
    },
    {
      "cell_type": "markdown",
      "metadata": {
        "id": "2_oXxzO2UjbW"
      },
      "source": [
        "Смотрю информацию по минутам разговора для тарифа Ultra."
      ]
    },
    {
      "cell_type": "code",
      "execution_count": null,
      "metadata": {
        "id": "QBeavLuxUjbW",
        "outputId": "ff919c5a-41b8-409a-aa87-6acee90243dc"
      },
      "outputs": [
        {
          "data": {
            "image/png": "[encoded data removed]",
            "text/plain": [
              "<Figure size 648x648 with 1 Axes>"
            ]
          },
          "metadata": {
            "needs_background": "light"
          },
          "output_type": "display_data"
        }
      ],
      "source": [
        "# график количества минут разговоров\n",
        "ultra['duration'].plot(kind='hist', ec='black', bins=30, figsize=(9, 9), grid=True)\n",
        "plt.xlabel('Длительность разговора в минутах', fontsize=15)\n",
        "plt.ylabel('Частота упоминания', fontsize=15)\n",
        "plt.xlim([0, 1500])\n",
        "plt.title(\"Количество минут разговора для тарифа Ultra\")\n",
        "plt.show()\n",
        "\n"
      ]
    },
    {
      "cell_type": "code",
      "execution_count": null,
      "metadata": {
        "id": "H2an5B-0UjbW",
        "outputId": "dbb335f9-61e8-4d0a-e3ec-d9a71e8cd0f3"
      },
      "outputs": [
        {
          "data": {
            "text/plain": [
              "count     936.000000\n",
              "mean      551.708333\n",
              "std       304.979493\n",
              "min         1.000000\n",
              "25%       319.500000\n",
              "50%       533.000000\n",
              "75%       760.250000\n",
              "max      1673.000000\n",
              "Name: duration, dtype: float64"
            ]
          },
          "execution_count": 52,
          "metadata": {},
          "output_type": "execute_result"
        }
      ],
      "source": [
        "# статистические данные по столбцу\n",
        "ultra['duration'].describe()"
      ]
    },
    {
      "cell_type": "code",
      "execution_count": null,
      "metadata": {
        "id": "fNjo_NOjUjbW",
        "outputId": "15ce8fea-2710-4dd3-c5d8-01ef7122f46e"
      },
      "outputs": [
        {
          "data": {
            "text/plain": [
              "516399.0"
            ]
          },
          "execution_count": 53,
          "metadata": {},
          "output_type": "execute_result"
        }
      ],
      "source": [
        "# общее количество минут\n",
        "ultra['duration'].sum()"
      ]
    },
    {
      "cell_type": "markdown",
      "metadata": {
        "id": "KJQWtZxoUjbX"
      },
      "source": [
        "Общая продолжительность звонков на тарифе Ultra - 516399 минут. В среднем клиенты используют 551 минуту голоса в месяц. Учитывая, что включенных и предоплаченнх минут в тарифе Ultra - 3000, а максимальное значение длительности разговора - 1673, можно сделать вывод, что если клиенты и выходят за предоплаченный лимит - это случается очень редко и в виде исключения."
      ]
    },
    {
      "cell_type": "markdown",
      "metadata": {
        "id": "FRRLPMSKUjbX"
      },
      "source": [
        "Смотрю как выглядят минуты разговора для тарифа Smart."
      ]
    },
    {
      "cell_type": "code",
      "execution_count": null,
      "metadata": {
        "id": "AOcm15VPUjbX",
        "outputId": "7996517c-3de4-4c9f-c137-573aebea0f60"
      },
      "outputs": [
        {
          "data": {
            "image/png": "[encoded data removed]",
            "text/plain": [
              "<Figure size 648x648 with 1 Axes>"
            ]
          },
          "metadata": {
            "needs_background": "light"
          },
          "output_type": "display_data"
        }
      ],
      "source": [
        "# график количества минут разговоров\n",
        "smart['duration'].plot(kind='hist', ec='black', bins=30, figsize=(9, 9), grid=True)\n",
        "plt.xlabel('Длительность разговора в минутах', fontsize=15)\n",
        "plt.ylabel('Частота упоминания', fontsize=15)\n",
        "plt.xlim([0, 1500])\n",
        "plt.title(\"Количество минут разговора для тарифа Smart\")\n",
        "plt.show()"
      ]
    },
    {
      "cell_type": "code",
      "execution_count": null,
      "metadata": {
        "id": "Um5XCTvoUjbX",
        "outputId": "24abad22-ca03-4a30-974f-0449dd989c06"
      },
      "outputs": [
        {
          "data": {
            "text/plain": [
              "count    2219.000000\n",
              "mean      419.776476\n",
              "std       188.745325\n",
              "min         2.000000\n",
              "25%       285.500000\n",
              "50%       423.000000\n",
              "75%       546.000000\n",
              "max      1435.000000\n",
              "Name: duration, dtype: float64"
            ]
          },
          "execution_count": 55,
          "metadata": {},
          "output_type": "execute_result"
        }
      ],
      "source": [
        "# статистические данные по столбцу\n",
        "smart['duration'].describe()"
      ]
    },
    {
      "cell_type": "code",
      "execution_count": null,
      "metadata": {
        "id": "kgkOlRETUjbX",
        "outputId": "36d49e0f-9387-4222-ae2f-224491bd01b6"
      },
      "outputs": [
        {
          "data": {
            "text/plain": [
              "931484.0"
            ]
          },
          "execution_count": 56,
          "metadata": {},
          "output_type": "execute_result"
        }
      ],
      "source": [
        "# общее количество минут\n",
        "smart['duration'].sum()"
      ]
    },
    {
      "cell_type": "markdown",
      "metadata": {
        "id": "j3DrZi6AUjbX"
      },
      "source": [
        "Общая продолжительность звонков на тарифе Smart - 931484 минут. В среднем клиенты используют 419 минут голоса в месяц. Учитывая, что включенных и предоплаченнх минут в тарифе Smart - 500, а максимальное значение 1673, можно сделать вывод, что клиенты тарифа или очень близки к лимиту предоплаченных минут или довольно часто выходят за предоплаченный лимит."
      ]
    },
    {
      "cell_type": "code",
      "execution_count": null,
      "metadata": {
        "id": "lC4dw5YKUjbX",
        "outputId": "6c709e72-6b9b-42ba-f4c8-19f18470d192"
      },
      "outputs": [
        {
          "data": {
            "text/plain": [
              "user_id                  754\n",
              "month                    754\n",
              "duration                 754\n",
              "calls_amount             754\n",
              "mb_used                  754\n",
              "messages_amount          754\n",
              "tariff                   754\n",
              "city                     754\n",
              "messages_included        754\n",
              "mb_per_month_included    754\n",
              "minutes_included         754\n",
              "rub_monthly_fee          754\n",
              "rub_per_gb               754\n",
              "rub_per_message          754\n",
              "rub_per_minute           754\n",
              "extra_expenses           754\n",
              "income                   754\n",
              "dtype: int64"
            ]
          },
          "execution_count": 57,
          "metadata": {},
          "output_type": "execute_result"
        }
      ],
      "source": [
        "# проверяем количество клиентов превыисивших предоплаченны лимит\n",
        "smart.query('duration>500').count()"
      ]
    },
    {
      "cell_type": "markdown",
      "metadata": {
        "id": "IQITaOoKUjbX"
      },
      "source": [
        "Клиентов, превышающих предоплаченный лимит - около 33%  от общего числа клиентов, пользующихся тарифом Smart."
      ]
    },
    {
      "cell_type": "markdown",
      "metadata": {
        "id": "wdvt5Jw_UjbY"
      },
      "source": [
        "Собираю всю информацию по звонкам в одну таблицу, добавляю стандартное отклонение и дисперсию:"
      ]
    },
    {
      "cell_type": "code",
      "execution_count": null,
      "metadata": {
        "id": "_qvt66MGUjbY",
        "outputId": "5b29d0ee-2d8a-4889-cbd9-2c9aa670446c"
      },
      "outputs": [
        {
          "data": {
            "text/html": [
              "<style  type=\"text/css\" >\n",
              "</style><table id=\"T_b984c53a_51c4_11eb_b78e_02420a393a84\" ><thead>    <tr>        <th class=\"blank level0\" ></th>        <th class=\"col_heading level0 col0\" colspan=4>duration</th>    </tr>    <tr>        <th class=\"blank level1\" ></th>        <th class=\"col_heading level1 col0\" >median</th>        <th class=\"col_heading level1 col1\" >mean</th>        <th class=\"col_heading level1 col2\" >var</th>        <th class=\"col_heading level1 col3\" >std</th>    </tr>    <tr>        <th class=\"index_name level0\" >tariff</th>        <th class=\"blank\" ></th>        <th class=\"blank\" ></th>        <th class=\"blank\" ></th>        <th class=\"blank\" ></th>    </tr></thead><tbody>\n",
              "                <tr>\n",
              "                        <th id=\"T_b984c53a_51c4_11eb_b78e_02420a393a84level0_row0\" class=\"row_heading level0 row0\" >smart</th>\n",
              "                        <td id=\"T_b984c53a_51c4_11eb_b78e_02420a393a84row0_col0\" class=\"data row0 col0\" >423.0</td>\n",
              "                        <td id=\"T_b984c53a_51c4_11eb_b78e_02420a393a84row0_col1\" class=\"data row0 col1\" >419.8</td>\n",
              "                        <td id=\"T_b984c53a_51c4_11eb_b78e_02420a393a84row0_col2\" class=\"data row0 col2\" >35624.8</td>\n",
              "                        <td id=\"T_b984c53a_51c4_11eb_b78e_02420a393a84row0_col3\" class=\"data row0 col3\" >188.7</td>\n",
              "            </tr>\n",
              "            <tr>\n",
              "                        <th id=\"T_b984c53a_51c4_11eb_b78e_02420a393a84level0_row1\" class=\"row_heading level0 row1\" >ultra</th>\n",
              "                        <td id=\"T_b984c53a_51c4_11eb_b78e_02420a393a84row1_col0\" class=\"data row1 col0\" >533.0</td>\n",
              "                        <td id=\"T_b984c53a_51c4_11eb_b78e_02420a393a84row1_col1\" class=\"data row1 col1\" >551.7</td>\n",
              "                        <td id=\"T_b984c53a_51c4_11eb_b78e_02420a393a84row1_col2\" class=\"data row1 col2\" >93012.5</td>\n",
              "                        <td id=\"T_b984c53a_51c4_11eb_b78e_02420a393a84row1_col3\" class=\"data row1 col3\" >305.0</td>\n",
              "            </tr>\n",
              "    </tbody></table>"
            ],
            "text/plain": [
              "<pandas.io.formats.style.Styler at 0x7f7e3d65e650>"
            ]
          },
          "execution_count": 58,
          "metadata": {},
          "output_type": "execute_result"
        }
      ],
      "source": [
        "# таблица с данными о среднем, медианном, стандартном отклонении и дисперсии\n",
        "clients_total.groupby('tariff')\\\n",
        "     .agg({'duration':['median','mean','var','std']})\\\n",
        "     .style.format(\"{:.1f}\")"
      ]
    },
    {
      "cell_type": "markdown",
      "metadata": {
        "id": "_wfhEg5VUjbY"
      },
      "source": [
        "## <a name=\"internet-info-03\">Internet (информация об использовании интернета)</a>"
      ]
    },
    {
      "cell_type": "markdown",
      "metadata": {
        "id": "lOdRJ9djUjbY"
      },
      "source": [
        "Смотрю информацию по объему трафика для тарифа Ultra."
      ]
    },
    {
      "cell_type": "code",
      "execution_count": null,
      "metadata": {
        "id": "lANBtcrwUjbY",
        "outputId": "aeeb19cb-7dd5-4cba-8ca0-1faf7bb71e4a"
      },
      "outputs": [
        {
          "data": {
            "image/png": "[encoded data removed]",
            "text/plain": [
              "<Figure size 648x648 with 1 Axes>"
            ]
          },
          "metadata": {
            "needs_background": "light"
          },
          "output_type": "display_data"
        }
      ],
      "source": [
        "# график по объему трафика разговоров\n",
        "ultra['mb_used'].plot(kind='hist', ec='black', bins=30, figsize=(9, 9), grid=True)\n",
        "plt.xlabel('Объем использованого трафика', fontsize=15)\n",
        "plt.ylabel('Частота упоминания', fontsize=15)\n",
        "plt.title(\"Объем использованого трафика в мб/ месяц для тарифа Ultra\")\n",
        "plt.show()"
      ]
    },
    {
      "cell_type": "code",
      "execution_count": null,
      "metadata": {
        "id": "wLa9g1Q0UjbY",
        "outputId": "2ee9b5b5-7df5-4fef-d8a7-3a0d66eef6c6"
      },
      "outputs": [
        {
          "data": {
            "text/plain": [
              "count      936.000000\n",
              "mean     19718.717949\n",
              "std       9972.317787\n",
              "min        366.000000\n",
              "25%      11917.000000\n",
              "50%      19445.000000\n",
              "75%      26958.500000\n",
              "max      49789.000000\n",
              "Name: mb_used, dtype: float64"
            ]
          },
          "execution_count": 60,
          "metadata": {},
          "output_type": "execute_result"
        }
      ],
      "source": [
        "# статистические данные по столбцу\n",
        "ultra['mb_used'].describe()"
      ]
    },
    {
      "cell_type": "code",
      "execution_count": null,
      "metadata": {
        "id": "JAuGSJmfUjbY",
        "outputId": "a16ad7bc-1ecb-44b0-c75c-fc45bb7bf45e"
      },
      "outputs": [
        {
          "data": {
            "text/plain": [
              "18456720.0"
            ]
          },
          "execution_count": 61,
          "metadata": {},
          "output_type": "execute_result"
        }
      ],
      "source": [
        "# общее количество мб\n",
        "ultra['mb_used'].sum()"
      ]
    },
    {
      "cell_type": "markdown",
      "metadata": {
        "id": "sWAShjc0UjbY"
      },
      "source": [
        "Общее количество трафика на тарифе Ultra -  18440066 мб. В среднем клиенты используют 19700 мб трафика в месяц. Учитывая, что включенных и предоплаченнх мб в тарифе Ultra - 30720, а максимальное значение использования трафика - 49746 мб, можно сделать вывод, что существуют клиенты, которые выходят за пределы предоплаченного количества. "
      ]
    },
    {
      "cell_type": "code",
      "execution_count": null,
      "metadata": {
        "id": "iEbTelLDUjbZ",
        "outputId": "4cb10e3a-bf5d-42a7-9824-06e74ffeb23c"
      },
      "outputs": [
        {
          "data": {
            "text/plain": [
              "user_id                  128\n",
              "month                    128\n",
              "duration                 128\n",
              "calls_amount             128\n",
              "mb_used                  128\n",
              "messages_amount          128\n",
              "tariff                   128\n",
              "city                     128\n",
              "messages_included        128\n",
              "mb_per_month_included    128\n",
              "minutes_included         128\n",
              "rub_monthly_fee          128\n",
              "rub_per_gb               128\n",
              "rub_per_message          128\n",
              "rub_per_minute           128\n",
              "extra_expenses           128\n",
              "income                   128\n",
              "dtype: int64"
            ]
          },
          "execution_count": 62,
          "metadata": {},
          "output_type": "execute_result"
        }
      ],
      "source": [
        "# проверяем количество клиентов первысивших лимит\n",
        "ultra.query('mb_used > 30720').count()"
      ]
    },
    {
      "cell_type": "markdown",
      "metadata": {
        "id": "nlex6ZTtUjbZ"
      },
      "source": [
        "Всего таких клиентов около 13% от общего числа клиентов, пользующихся тарифом Ultra."
      ]
    },
    {
      "cell_type": "markdown",
      "metadata": {
        "id": "gHf5CITWUjbZ"
      },
      "source": [
        "Смотрю информацию по объему трафика для тарифа Smart."
      ]
    },
    {
      "cell_type": "code",
      "execution_count": null,
      "metadata": {
        "id": "X4KjWWPPUjbZ",
        "outputId": "5e5d4567-de9f-4ac0-99e6-00dbf0e557e5"
      },
      "outputs": [
        {
          "data": {
            "image/png": "[encoded data removed]",
            "text/plain": [
              "<Figure size 648x648 with 1 Axes>"
            ]
          },
          "metadata": {
            "needs_background": "light"
          },
          "output_type": "display_data"
        }
      ],
      "source": [
        "# график по объему трафика разговоров\n",
        "smart['mb_used'].plot(kind='hist', ec='black', bins=30, figsize=(9, 9), grid=True)\n",
        "plt.xlabel('Объем использованого трафика', fontsize=15)\n",
        "plt.ylabel('Частота упоминания', fontsize=15)\n",
        "#plt.xlim([0, 1500])\n",
        "#plt.xlim([0, 1500])\n",
        "plt.title(\"Объем использованого трафика в мб/ месяц для тарифа Smart\")\n",
        "plt.show()"
      ]
    },
    {
      "cell_type": "code",
      "execution_count": null,
      "metadata": {
        "id": "QSUrTX1pUjbZ",
        "outputId": "9965d77f-e657-48ac-8211-146546b6a7e2"
      },
      "outputs": [
        {
          "data": {
            "text/plain": [
              "count     2219.000000\n",
              "mean     16246.091933\n",
              "std       5865.865927\n",
              "min        202.000000\n",
              "25%      12686.500000\n",
              "50%      16531.000000\n",
              "75%      20074.000000\n",
              "max      38610.000000\n",
              "Name: mb_used, dtype: float64"
            ]
          },
          "execution_count": 64,
          "metadata": {},
          "output_type": "execute_result"
        }
      ],
      "source": [
        "# статистические данные по столбцу\n",
        "smart['mb_used'].describe()"
      ]
    },
    {
      "cell_type": "code",
      "execution_count": null,
      "metadata": {
        "id": "ITJ6cBJ8UjbZ",
        "outputId": "168d8737-e5f4-452d-b13c-b3f16bb4cfbc"
      },
      "outputs": [
        {
          "data": {
            "text/plain": [
              "36050078.0"
            ]
          },
          "execution_count": 65,
          "metadata": {},
          "output_type": "execute_result"
        }
      ],
      "source": [
        "# общее количество мб\n",
        "smart['mb_used'].sum()"
      ]
    },
    {
      "cell_type": "markdown",
      "metadata": {
        "id": "mIwcIHjyUjbZ"
      },
      "source": [
        "Общее количество трафика на тарифе Smart - 36004953 мб. В среднем клиенты используют 16225 мб трафика в месяц. Учитывая, что включенных и предоплаченнх мб в тарифе Smart - 15360, а максимальное значение использования трафика - 38553 мб, можно сделать вывод, что существуют клиенты, которые выходят за пределы предоплаченного количества. "
      ]
    },
    {
      "cell_type": "code",
      "execution_count": null,
      "metadata": {
        "id": "JVZDzL1vUjbZ",
        "outputId": "55168a47-43c2-4a82-da71-588994e13ba5"
      },
      "outputs": [
        {
          "data": {
            "text/plain": [
              "user_id                  1304\n",
              "month                    1304\n",
              "duration                 1304\n",
              "calls_amount             1304\n",
              "mb_used                  1304\n",
              "messages_amount          1304\n",
              "tariff                   1304\n",
              "city                     1304\n",
              "messages_included        1304\n",
              "mb_per_month_included    1304\n",
              "minutes_included         1304\n",
              "rub_monthly_fee          1304\n",
              "rub_per_gb               1304\n",
              "rub_per_message          1304\n",
              "rub_per_minute           1304\n",
              "extra_expenses           1304\n",
              "income                   1304\n",
              "dtype: int64"
            ]
          },
          "execution_count": 66,
          "metadata": {},
          "output_type": "execute_result"
        }
      ],
      "source": [
        "# проверяем количество клиентов первысивших лимит\n",
        "smart.query('mb_used > 15360').count()"
      ]
    },
    {
      "cell_type": "markdown",
      "metadata": {
        "id": "_-ZqONGTUjbZ"
      },
      "source": [
        "Таких клиентов около 60%  от общего числа клиентов, пользующихся тарифом Smart."
      ]
    },
    {
      "cell_type": "markdown",
      "metadata": {
        "id": "LDrQNwSlUjbZ"
      },
      "source": [
        "Добавляю всю инофрмацию по трафику в одну таблицу, добавляю стандартное отклонение и дисперсию."
      ]
    },
    {
      "cell_type": "code",
      "execution_count": null,
      "metadata": {
        "id": "8PBj-Ae8Ujba",
        "outputId": "17630f51-9ca8-42dc-cc03-dfad4932c3e9"
      },
      "outputs": [
        {
          "data": {
            "text/html": [
              "<style  type=\"text/css\" >\n",
              "</style><table id=\"T_ba96f4de_51c4_11eb_b78e_02420a393a84\" ><thead>    <tr>        <th class=\"blank level0\" ></th>        <th class=\"col_heading level0 col0\" colspan=4>mb_used</th>    </tr>    <tr>        <th class=\"blank level1\" ></th>        <th class=\"col_heading level1 col0\" >median</th>        <th class=\"col_heading level1 col1\" >mean</th>        <th class=\"col_heading level1 col2\" >var</th>        <th class=\"col_heading level1 col3\" >std</th>    </tr>    <tr>        <th class=\"index_name level0\" >tariff</th>        <th class=\"blank\" ></th>        <th class=\"blank\" ></th>        <th class=\"blank\" ></th>        <th class=\"blank\" ></th>    </tr></thead><tbody>\n",
              "                <tr>\n",
              "                        <th id=\"T_ba96f4de_51c4_11eb_b78e_02420a393a84level0_row0\" class=\"row_heading level0 row0\" >smart</th>\n",
              "                        <td id=\"T_ba96f4de_51c4_11eb_b78e_02420a393a84row0_col0\" class=\"data row0 col0\" >16531.0</td>\n",
              "                        <td id=\"T_ba96f4de_51c4_11eb_b78e_02420a393a84row0_col1\" class=\"data row0 col1\" >16246.1</td>\n",
              "                        <td id=\"T_ba96f4de_51c4_11eb_b78e_02420a393a84row0_col2\" class=\"data row0 col2\" >34408383.1</td>\n",
              "                        <td id=\"T_ba96f4de_51c4_11eb_b78e_02420a393a84row0_col3\" class=\"data row0 col3\" >5865.9</td>\n",
              "            </tr>\n",
              "            <tr>\n",
              "                        <th id=\"T_ba96f4de_51c4_11eb_b78e_02420a393a84level0_row1\" class=\"row_heading level0 row1\" >ultra</th>\n",
              "                        <td id=\"T_ba96f4de_51c4_11eb_b78e_02420a393a84row1_col0\" class=\"data row1 col0\" >19445.0</td>\n",
              "                        <td id=\"T_ba96f4de_51c4_11eb_b78e_02420a393a84row1_col1\" class=\"data row1 col1\" >19718.7</td>\n",
              "                        <td id=\"T_ba96f4de_51c4_11eb_b78e_02420a393a84row1_col2\" class=\"data row1 col2\" >99447122.0</td>\n",
              "                        <td id=\"T_ba96f4de_51c4_11eb_b78e_02420a393a84row1_col3\" class=\"data row1 col3\" >9972.3</td>\n",
              "            </tr>\n",
              "    </tbody></table>"
            ],
            "text/plain": [
              "<pandas.io.formats.style.Styler at 0x7f7e3d6fd110>"
            ]
          },
          "execution_count": 67,
          "metadata": {},
          "output_type": "execute_result"
        }
      ],
      "source": [
        "# таблица с данными о среднем, медианном, стандартном отклонении и дисперсии\n",
        "clients_total.groupby('tariff')\\\n",
        "     .agg({'mb_used':['median','mean','var','std']})\\\n",
        "     .style.format(\"{:.1f}\")"
      ]
    },
    {
      "cell_type": "markdown",
      "metadata": {
        "id": "fQcVuvt-Ujba"
      },
      "source": [
        "## <a name=\"messages-info-03\">Messages (информация о sms сообщениях)</a>"
      ]
    },
    {
      "cell_type": "markdown",
      "metadata": {
        "id": "TZvjetVRUjba"
      },
      "source": [
        "Смотрю информацию по объему сообщений для тарифа Ultra."
      ]
    },
    {
      "cell_type": "code",
      "execution_count": null,
      "metadata": {
        "id": "qE6UBAfmUjba",
        "outputId": "c507e267-2e29-4631-aa51-461b282db2cc"
      },
      "outputs": [
        {
          "data": {
            "image/png": "[encoded data removed]",
            "text/plain": [
              "<Figure size 648x648 with 1 Axes>"
            ]
          },
          "metadata": {
            "needs_background": "light"
          },
          "output_type": "display_data"
        }
      ],
      "source": [
        "# график по количеству сообщений\n",
        "ultra['messages_amount'].plot(kind='hist', ec='black', bins=30, figsize=(9, 9), grid=True)\n",
        "plt.xlabel('Количество сообщений', fontsize=15)\n",
        "plt.ylabel('Частота упоминания', fontsize=15)\n",
        "plt.title(\"Количество сообщения для тарифа Ultra\")\n",
        "plt.show()"
      ]
    },
    {
      "cell_type": "code",
      "execution_count": null,
      "metadata": {
        "id": "KkytKE8xUjba",
        "outputId": "32797f83-f647-48cf-b87f-00c2f1b585ea"
      },
      "outputs": [
        {
          "data": {
            "text/plain": [
              "count    936.000000\n",
              "mean      49.033120\n",
              "std       46.778211\n",
              "min        0.000000\n",
              "25%        5.000000\n",
              "50%       39.500000\n",
              "75%       79.000000\n",
              "max      224.000000\n",
              "Name: messages_amount, dtype: float64"
            ]
          },
          "execution_count": 69,
          "metadata": {},
          "output_type": "execute_result"
        }
      ],
      "source": [
        "# статистические данные по столбцу\n",
        "ultra['messages_amount'].describe()"
      ]
    },
    {
      "cell_type": "markdown",
      "metadata": {
        "id": "S92ilUxgUjba"
      },
      "source": [
        "В столбце довольно много 0, видимо многие клиенты пользуются только звонками или обмениваются сообщениями в мессенджерах, а значит больше тратят на интернет. Чтобы понять, насолько близко среднее значение к истине, посмотрим еще на медиану, которая более устойчива к выбросам."
      ]
    },
    {
      "cell_type": "code",
      "execution_count": null,
      "metadata": {
        "id": "U3_AZkeLUjba",
        "outputId": "a0fad847-b153-4715-820d-9a5ae622e83f"
      },
      "outputs": [
        {
          "data": {
            "text/plain": [
              "39.5"
            ]
          },
          "execution_count": 70,
          "metadata": {},
          "output_type": "execute_result"
        }
      ],
      "source": [
        "# проверяем медиану\n",
        "ultra['messages_amount'].median()"
      ]
    },
    {
      "cell_type": "markdown",
      "metadata": {
        "id": "r15DPD-HUjba"
      },
      "source": [
        "Получается разница примерно в 10 сообщений/ клиент. С моей точки зрения - это довольно большая разница, которая может повлиять на выручку. Поэтому для анализа я буду использовать более устойчивую к выбросам медиану."
      ]
    },
    {
      "cell_type": "code",
      "execution_count": null,
      "metadata": {
        "id": "9q6iHJheUjba",
        "outputId": "a25e853b-2282-4efa-a300-d74f7ed9911d"
      },
      "outputs": [
        {
          "data": {
            "text/plain": [
              "45895.0"
            ]
          },
          "execution_count": 71,
          "metadata": {},
          "output_type": "execute_result"
        }
      ],
      "source": [
        "# общее количество сообщений\n",
        "ultra['messages_amount'].sum()"
      ]
    },
    {
      "cell_type": "markdown",
      "metadata": {
        "id": "uW_D9rNLUjbb"
      },
      "source": [
        "Общее количество сообщений на тарифе Ultra - 45895. В среднем клиенты посылают около 40 сообщений в месяц. Учитывая, что включенных и предоплаченнх сообщений в тарифе Ultra - 1000, а максимальное значение отправленных сообщений - 224, можно сделать вывод, что клиенты редко выходят за предоплаченный лимит сообщений."
      ]
    },
    {
      "cell_type": "markdown",
      "metadata": {
        "id": "G3F3lAMrUjbb"
      },
      "source": [
        "Смотрю информацию по объему сообщений для тарифа Smart."
      ]
    },
    {
      "cell_type": "code",
      "execution_count": null,
      "metadata": {
        "id": "264_991ZUjbb",
        "outputId": "a7a7b668-776c-4c92-cf5c-cb8502ebfc77"
      },
      "outputs": [
        {
          "data": {
            "image/png": "[encoded data removed]",
            "text/plain": [
              "<Figure size 648x648 with 1 Axes>"
            ]
          },
          "metadata": {
            "needs_background": "light"
          },
          "output_type": "display_data"
        }
      ],
      "source": [
        "# график по количеству сообщений\n",
        "smart['messages_amount'].plot(kind='hist', ec='black', bins=30, figsize=(9, 9), grid=True)\n",
        "plt.xlabel('Количество сообщений', fontsize=15)\n",
        "plt.ylabel('Частота упоминания', fontsize=15)\n",
        "#plt.xlim([0, 1500])\n",
        "#plt.xlim([0, 1500])\n",
        "plt.title(\"Количество сообщений для тарифа Ultra\")\n",
        "plt.show()"
      ]
    },
    {
      "cell_type": "code",
      "execution_count": null,
      "metadata": {
        "id": "kVqA9_3JUjbb",
        "outputId": "5dcada92-5215-47bb-fb6c-7736fe35c1f5"
      },
      "outputs": [
        {
          "data": {
            "text/plain": [
              "count    2219.000000\n",
              "mean       33.421361\n",
              "std        28.266229\n",
              "min         0.000000\n",
              "25%        10.000000\n",
              "50%        28.000000\n",
              "75%        51.000000\n",
              "max       143.000000\n",
              "Name: messages_amount, dtype: float64"
            ]
          },
          "execution_count": 73,
          "metadata": {},
          "output_type": "execute_result"
        }
      ],
      "source": [
        "# статистические данные по столбцу\n",
        "smart['messages_amount'].describe()"
      ]
    },
    {
      "cell_type": "markdown",
      "metadata": {
        "id": "oVckFA3rUjbb"
      },
      "source": [
        "<div class=\"alert alert-danger\">\n",
        "<h2> Комментарий ревьюера </h2>\n",
        "\n",
        "Также в задании просят рассчитать и дисперсию по каждому параметру. Дополни таблицы по стат. показателям по всем услугам. \n",
        "\n",
        "</div>\n"
      ]
    },
    {
      "cell_type": "markdown",
      "metadata": {
        "id": "hMGSxZvFUjbb"
      },
      "source": [
        "<div class=\"alert alert-success\">\n",
        "<h2> Комментарий ревьюера </h2>\n",
        "\n",
        "Будет здорово, если все стат. показатели ты соберешь в единую таблицу. Так нам будет заметно удобнее сравнивать тарифы между собой. \n",
        "\n",
        "</div>\n"
      ]
    },
    {
      "cell_type": "markdown",
      "metadata": {
        "id": "w7WJA5OxUjbb"
      },
      "source": [
        "<div class=\"alert alert-info\" role=\"alert\">\n",
        "Добавила таблицы с дисперсией, стандартным отклонением и пр. данными по двум тарифам в каждый раздел.\n",
        "Данные по сообщениям ниже, в конце этого раздела.\n",
        "</div>"
      ]
    },
    {
      "cell_type": "markdown",
      "metadata": {
        "id": "iFChB_AmUjbb"
      },
      "source": [
        "Ситуация со средним значением и медианой такая же, как и у тарифа Ultra. Посмотрим, насколько велика разница."
      ]
    },
    {
      "cell_type": "code",
      "execution_count": null,
      "metadata": {
        "id": "D6HwwgZ7Ujbb",
        "outputId": "71aeedd9-5676-4a70-88cc-2dea18aef052"
      },
      "outputs": [
        {
          "data": {
            "text/plain": [
              "28.0"
            ]
          },
          "execution_count": 74,
          "metadata": {},
          "output_type": "execute_result"
        }
      ],
      "source": [
        "# проверяем медиану\n",
        "smart['messages_amount'].median()"
      ]
    },
    {
      "cell_type": "markdown",
      "metadata": {
        "id": "_LKaNYNRUjbc"
      },
      "source": [
        "Разница около 3 сообщений, думаю это не очень большая разница и можно использовать как среднее значение, так и медиану."
      ]
    },
    {
      "cell_type": "code",
      "execution_count": null,
      "metadata": {
        "id": "EnzzNLIBUjbc",
        "outputId": "5081c645-06f2-44c4-f452-62fb9d7327a7"
      },
      "outputs": [
        {
          "data": {
            "text/plain": [
              "74162.0"
            ]
          },
          "execution_count": 75,
          "metadata": {},
          "output_type": "execute_result"
        }
      ],
      "source": [
        "# общее количество сообщений\n",
        "smart['messages_amount'].sum()"
      ]
    },
    {
      "cell_type": "markdown",
      "metadata": {
        "id": "TCrKNMNiUjbc"
      },
      "source": [
        "Общее количество сообщений на тарифе Ultra - 74162. В среднем клиенты посылают около 30 сообщений в месяц. Учитывая, что включенных и предоплаченнх сообщений в тарифе Ultra - 50, а максимальное значение отправленных сообщений - 143, можно сделать вывод, что часть клиентов превышает лимит. "
      ]
    },
    {
      "cell_type": "code",
      "execution_count": null,
      "metadata": {
        "id": "a5Cdt-ZeUjbc",
        "outputId": "6264700a-eb2e-4bed-a216-e980132d60b8"
      },
      "outputs": [
        {
          "data": {
            "text/plain": [
              "user_id                  564\n",
              "month                    564\n",
              "duration                 564\n",
              "calls_amount             564\n",
              "mb_used                  564\n",
              "messages_amount          564\n",
              "tariff                   564\n",
              "city                     564\n",
              "messages_included        564\n",
              "mb_per_month_included    564\n",
              "minutes_included         564\n",
              "rub_monthly_fee          564\n",
              "rub_per_gb               564\n",
              "rub_per_message          564\n",
              "rub_per_minute           564\n",
              "extra_expenses           564\n",
              "income                   564\n",
              "dtype: int64"
            ]
          },
          "execution_count": 76,
          "metadata": {},
          "output_type": "execute_result"
        }
      ],
      "source": [
        "# проверяем количество клиентов первысивших лимит\n",
        "smart.query('messages_amount > 50').count()"
      ]
    },
    {
      "cell_type": "markdown",
      "metadata": {
        "id": "YIK5pgauUjbc"
      },
      "source": [
        "Таких клиентов около 25% от общего числа клиентов, пользующихся тарифом Smart."
      ]
    },
    {
      "cell_type": "markdown",
      "metadata": {
        "id": "lGQ3twmNUjbc"
      },
      "source": [
        "Соберем все показатели по сообщениям в одну таблицу, добавим стандартное отклонение и дисперсию."
      ]
    },
    {
      "cell_type": "code",
      "execution_count": null,
      "metadata": {
        "id": "qvwlAOGhUjbc",
        "outputId": "c5c71e95-5dc5-4ee5-af61-d2545c701af9"
      },
      "outputs": [
        {
          "data": {
            "text/html": [
              "<style  type=\"text/css\" >\n",
              "</style><table id=\"T_bbf4b000_51c4_11eb_b78e_02420a393a84\" ><thead>    <tr>        <th class=\"blank level0\" ></th>        <th class=\"col_heading level0 col0\" colspan=4>messages_amount</th>    </tr>    <tr>        <th class=\"blank level1\" ></th>        <th class=\"col_heading level1 col0\" >median</th>        <th class=\"col_heading level1 col1\" >mean</th>        <th class=\"col_heading level1 col2\" >var</th>        <th class=\"col_heading level1 col3\" >std</th>    </tr>    <tr>        <th class=\"index_name level0\" >tariff</th>        <th class=\"blank\" ></th>        <th class=\"blank\" ></th>        <th class=\"blank\" ></th>        <th class=\"blank\" ></th>    </tr></thead><tbody>\n",
              "                <tr>\n",
              "                        <th id=\"T_bbf4b000_51c4_11eb_b78e_02420a393a84level0_row0\" class=\"row_heading level0 row0\" >smart</th>\n",
              "                        <td id=\"T_bbf4b000_51c4_11eb_b78e_02420a393a84row0_col0\" class=\"data row0 col0\" >28.0</td>\n",
              "                        <td id=\"T_bbf4b000_51c4_11eb_b78e_02420a393a84row0_col1\" class=\"data row0 col1\" >33.4</td>\n",
              "                        <td id=\"T_bbf4b000_51c4_11eb_b78e_02420a393a84row0_col2\" class=\"data row0 col2\" >799.0</td>\n",
              "                        <td id=\"T_bbf4b000_51c4_11eb_b78e_02420a393a84row0_col3\" class=\"data row0 col3\" >28.3</td>\n",
              "            </tr>\n",
              "            <tr>\n",
              "                        <th id=\"T_bbf4b000_51c4_11eb_b78e_02420a393a84level0_row1\" class=\"row_heading level0 row1\" >ultra</th>\n",
              "                        <td id=\"T_bbf4b000_51c4_11eb_b78e_02420a393a84row1_col0\" class=\"data row1 col0\" >39.5</td>\n",
              "                        <td id=\"T_bbf4b000_51c4_11eb_b78e_02420a393a84row1_col1\" class=\"data row1 col1\" >49.0</td>\n",
              "                        <td id=\"T_bbf4b000_51c4_11eb_b78e_02420a393a84row1_col2\" class=\"data row1 col2\" >2188.2</td>\n",
              "                        <td id=\"T_bbf4b000_51c4_11eb_b78e_02420a393a84row1_col3\" class=\"data row1 col3\" >46.8</td>\n",
              "            </tr>\n",
              "    </tbody></table>"
            ],
            "text/plain": [
              "<pandas.io.formats.style.Styler at 0x7f7e3d8bf590>"
            ]
          },
          "execution_count": 77,
          "metadata": {},
          "output_type": "execute_result"
        }
      ],
      "source": [
        "# смотрим данные по сообщениям\n",
        "clients_total.groupby('tariff')\\\n",
        "  .agg({'messages_amount':['median','mean','var','std']})\\\n",
        "  .style.format(\"{:.1f}\")"
      ]
    },
    {
      "cell_type": "markdown",
      "metadata": {
        "id": "HapNt1m6Ujbc"
      },
      "source": [
        "<div class=\"alert alert-success\">\n",
        "<h2> Комментарий ревьюера 2</h2>\n",
        "\n",
        "Отличная таблица 👍 \n",
        "\n",
        "</div>"
      ]
    },
    {
      "cell_type": "markdown",
      "metadata": {
        "id": "-vd_IJUOUjbc"
      },
      "source": [
        "Общий вывод: клиенты тарифа Smart чаще выходят за предоплаченный лимит, если все собрать в одну таблицу и сравнить, получится следующее:\n",
        "\n",
        "|Тариф/|св. тар. звонки|св. тар. интернет|св. тар. сообщения|\n",
        "|----|----|----|----|\n",
        "|Ultra|0% |13% |0% |\n",
        "|Smart|33% |60% |25%|"
      ]
    },
    {
      "cell_type": "markdown",
      "metadata": {
        "id": "4Z9e9_1kUjbd"
      },
      "source": [
        "<div class=\"alert alert-warning\">\n",
        "<h2> Комментарий ревьюера </h2>\n",
        "\n",
        "Базовые статистические параметры получены. Приведены все необходимые графики. Графики для одинаковых услуг тарифов лучше привести на одном рисунке. Так удобнее будет сравнивать тарифы. Также можно привести график по выручке компании с разбиением по тарифу. \n",
        "\n",
        "</div>\n"
      ]
    },
    {
      "cell_type": "markdown",
      "metadata": {
        "id": "BgAyn6jCUjbd"
      },
      "source": [
        "<div class=\"alert alert-info\" role=\"alert\">\n",
        "Я спросила у кураторов и тьюторов, мне ответили - что на одном графике или на разных - это вкусовщина. Мне удобнее на разных, если я сейчас все начну переделывать на один рисунок - мне это сломает структуру документа. И что значит \"рисунок\"? График? Два тарифа на одной гистограмме? Ничего не поняла :) Я не ругаюсь, если что, я правда не поняла что надо сделать...\n",
        "</div>"
      ]
    },
    {
      "cell_type": "markdown",
      "metadata": {
        "id": "Qpq6RJVrUjbd"
      },
      "source": [
        "<div class=\"alert alert-success\">\n",
        "<h2> Комментарий ревьюера 2</h2>\n",
        "\n",
        "Две гистограммы по разным тарифам на одних осях. Вот так) Да, соглашусь, это вопрос удобства. Однако основная цель данного раздела - сравнить тарифы между собой. Лучше будет это сделать, когда гистограммы по услугам приведены на одном рисунке. \n",
        "\n",
        "</div>"
      ]
    },
    {
      "cell_type": "markdown",
      "metadata": {
        "id": "vb3i7phmUjbd"
      },
      "source": [
        "# <a name=\"hyp-test-01\">Проверка гипотез: средняя выручка</a>"
      ]
    },
    {
      "cell_type": "markdown",
      "metadata": {
        "id": "NjMYEPh4Ujbd"
      },
      "source": [
        "Сравним дисперсии выборок, чтобы выбрать значение аргумента `equal_var`."
      ]
    },
    {
      "cell_type": "code",
      "execution_count": null,
      "metadata": {
        "id": "_G63DyYRUjbd",
        "outputId": "0ffd340e-5fc6-40d9-a6be-aaacc0ec4e2b"
      },
      "outputs": [
        {
          "data": {
            "text/html": [
              "<style  type=\"text/css\" >\n",
              "</style><table id=\"T_bbff3944_51c4_11eb_b78e_02420a393a84\" ><thead>    <tr>        <th class=\"blank level0\" ></th>        <th class=\"col_heading level0 col0\" colspan=2>income</th>    </tr>    <tr>        <th class=\"blank level1\" ></th>        <th class=\"col_heading level1 col0\" >var</th>        <th class=\"col_heading level1 col1\" >std</th>    </tr>    <tr>        <th class=\"index_name level0\" >tariff</th>        <th class=\"blank\" ></th>        <th class=\"blank\" ></th>    </tr></thead><tbody>\n",
              "                <tr>\n",
              "                        <th id=\"T_bbff3944_51c4_11eb_b78e_02420a393a84level0_row0\" class=\"row_heading level0 row0\" >smart</th>\n",
              "                        <td id=\"T_bbff3944_51c4_11eb_b78e_02420a393a84row0_col0\" class=\"data row0 col0\" >502358.5</td>\n",
              "                        <td id=\"T_bbff3944_51c4_11eb_b78e_02420a393a84row0_col1\" class=\"data row0 col1\" >708.8</td>\n",
              "            </tr>\n",
              "            <tr>\n",
              "                        <th id=\"T_bbff3944_51c4_11eb_b78e_02420a393a84level0_row1\" class=\"row_heading level0 row1\" >ultra</th>\n",
              "                        <td id=\"T_bbff3944_51c4_11eb_b78e_02420a393a84row1_col0\" class=\"data row1 col0\" >130997.2</td>\n",
              "                        <td id=\"T_bbff3944_51c4_11eb_b78e_02420a393a84row1_col1\" class=\"data row1 col1\" >361.9</td>\n",
              "            </tr>\n",
              "    </tbody></table>"
            ],
            "text/plain": [
              "<pandas.io.formats.style.Styler at 0x7f7e3d8d06d0>"
            ]
          },
          "execution_count": 78,
          "metadata": {},
          "output_type": "execute_result"
        }
      ],
      "source": [
        "# таблица с данными о среднем, медианном, стандартном отклонении и дисперсии\n",
        "clients_total.groupby('tariff')\\\n",
        "     .agg({'income':['var','std']})\\\n",
        "     .style.format(\"{:.1f}\")"
      ]
    },
    {
      "cell_type": "markdown",
      "metadata": {
        "id": "YK3EfsAZUjbd"
      },
      "source": [
        "Различие значительное, значит 'equal_var' = False"
      ]
    },
    {
      "cell_type": "markdown",
      "metadata": {
        "id": "E61AXqplUjbd"
      },
      "source": [
        "Задача проверить гипотезу: средняя выручка пользователей тарифов Ultra и Smart различается.\n",
        "    \n",
        "* H0: выручка пользователей тарифов Ultra и Smart не различается\n",
        "* H1: выручка пользователей тарифов Ultra и Smart различается\n",
        "\n",
        "Так как две выборки независимы, использую Student t-test."
      ]
    },
    {
      "cell_type": "markdown",
      "metadata": {
        "id": "FfLtTPEcUjbd"
      },
      "source": [
        "Сначала проверим данные о выручке на выбросы. С моей точки зрения, лучше всего для этого подходит boxplot."
      ]
    },
    {
      "cell_type": "code",
      "execution_count": null,
      "metadata": {
        "id": "a9p1W9EDUjbd",
        "outputId": "7ecde9a6-5722-422a-b509-21db87135456"
      },
      "outputs": [
        {
          "data": {
            "text/plain": [
              "<matplotlib.axes._subplots.AxesSubplot at 0x7f7e3d91d2d0>"
            ]
          },
          "execution_count": 79,
          "metadata": {},
          "output_type": "execute_result"
        },
        {
          "data": {
            "image/png": "[encoded data removed]",
            "text/plain": [
              "<Figure size 720x720 with 1 Axes>"
            ]
          },
          "metadata": {
            "needs_background": "light"
          },
          "output_type": "display_data"
        },
        {
          "data": {
            "image/png": "[encoded data removed]",
            "text/plain": [
              "<Figure size 720x720 with 1 Axes>"
            ]
          },
          "metadata": {
            "needs_background": "light"
          },
          "output_type": "display_data"
        }
      ],
      "source": [
        "# строим графики чтобы увидеть есть ли выбросы\n",
        "ultra.boxplot('income', by='tariff', figsize=(10,10))\n",
        "smart.boxplot('income', by='tariff', figsize=(10,10))\n",
        "\n"
      ]
    },
    {
      "cell_type": "markdown",
      "metadata": {
        "id": "_lxePAytUjbe"
      },
      "source": [
        "Графики выглядят странно, но самое главное, видно, что есть выбросы, которые могут исказить данные. \n",
        "\n",
        "Для того, чтобы удалить выбросы, использую функцию, которая их определяет на основании квартилей и удаляет лишние данные."
      ]
    },
    {
      "cell_type": "code",
      "execution_count": null,
      "metadata": {
        "id": "tP2rXKtIUjbe"
      },
      "outputs": [],
      "source": [
        "# функция для поиска выбросов на 90% подсказанная разными людьми на stackoverflow, спасибо им\n",
        "def remove_outlier(df, column, graf=0, x = 10, y = 10):\n",
        "    # присваиваю переменным значение квартилей\n",
        "    low_quartile = df[column].quantile(0.25)\n",
        "    upper_quartile = df[column].quantile(0.75)\n",
        "    inter_q_range = upper_quartile - low_quartile\n",
        "    # использую Interquartile Rule to Find Outliers: https://www.thoughtco.com/what-is-the-interquartile-range-rule-3126244\n",
        "    find_outlier = (df[column] >= (low_quartile - 1.5 * inter_q_range)) & (df[column] <= (upper_quartile + 1.5 * inter_q_range))\n",
        "    if graf == 1:\n",
        "        return df.loc[find_outlier].boxplot([column], figsize=(x,y))\n",
        "    else:\n",
        "        return df.loc[find_outlier]\n",
        "    "
      ]
    },
    {
      "cell_type": "code",
      "execution_count": null,
      "metadata": {
        "id": "OhCYBV06Ujbe"
      },
      "outputs": [],
      "source": [
        "# удаляем выбросы\n",
        "ultra = remove_outlier(ultra, 'income', 0)\n",
        "ultra_income = ultra['income']\n",
        "\n",
        "smart = remove_outlier(smart, 'income', 0)\n",
        "smart_income = smart['income']"
      ]
    },
    {
      "cell_type": "code",
      "execution_count": null,
      "metadata": {
        "id": "c673_pCgUjbe",
        "outputId": "2703bf86-0fcd-4df3-fcc5-1e10128aed3f"
      },
      "outputs": [
        {
          "data": {
            "text/plain": [
              "<matplotlib.axes._subplots.AxesSubplot at 0x7f7e3d910610>"
            ]
          },
          "execution_count": 82,
          "metadata": {},
          "output_type": "execute_result"
        },
        {
          "data": {
            "image/png": "[encoded data removed]",
            "text/plain": [
              "<Figure size 720x720 with 1 Axes>"
            ]
          },
          "metadata": {
            "needs_background": "light"
          },
          "output_type": "display_data"
        },
        {
          "data": {
            "image/png": "[encoded data removed]",
            "text/plain": [
              "<Figure size 720x720 with 1 Axes>"
            ]
          },
          "metadata": {
            "needs_background": "light"
          },
          "output_type": "display_data"
        }
      ],
      "source": [
        "# проверяем результат\n",
        "ultra.boxplot('income', by='tariff', figsize=(10,10))\n",
        "smart.boxplot('income', by='tariff', figsize=(10,10))"
      ]
    },
    {
      "cell_type": "markdown",
      "metadata": {
        "id": "eXpdiNMUUjbe"
      },
      "source": [
        "Вроде выбросов меньше, можно приступать к проверке гипотезы."
      ]
    },
    {
      "cell_type": "code",
      "execution_count": null,
      "metadata": {
        "id": "PKY-yYenUjbe",
        "outputId": "f9da4631-00da-43b8-8bbb-91ba667a3de2"
      },
      "outputs": [
        {
          "name": "stdout",
          "output_type": "stream",
          "text": [
            "p-value: 0.0\n",
            "Отвергаем H0\n"
          ]
        }
      ],
      "source": [
        "#проверяем гипотезу\n",
        "alpha = 0.05\n",
        "result = st.ttest_ind(ultra_income, smart_income, equal_var=False)\n",
        "\n",
        "if result.pvalue < alpha:\n",
        "    print('p-value:', result.pvalue)\n",
        "    print('Отвергаем H0')\n",
        "else:\n",
        "    print('p-value:', result.pvalue)\n",
        "    print('Отвергаем H1')"
      ]
    },
    {
      "cell_type": "markdown",
      "metadata": {
        "id": "UyJ3P84HUjbe"
      },
      "source": [
        "Значимость p-value очень мала, отвергаем нулевую гипотезу. \n",
        "\n",
        "Вывод: средняя выручка тарифов Smart и Ultra различается."
      ]
    },
    {
      "cell_type": "markdown",
      "metadata": {
        "id": "-7TtceYKUjbe"
      },
      "source": [
        "<div class=\"alert alert-success\">\n",
        "<h2> Комментарий ревьюера </h2>\n",
        "\n",
        "Гипотезы сформулированы и проверены верно. pvalue стоит вывести полностью для понимания порядка данной величины. \n",
        "\n",
        "</div>"
      ]
    },
    {
      "cell_type": "markdown",
      "metadata": {
        "id": "0Qu7gPulUjbe"
      },
      "source": [
        "Из любопытства посчитаю выручку по тарифам:"
      ]
    },
    {
      "cell_type": "code",
      "execution_count": null,
      "metadata": {
        "id": "CXvUCXJBUjbf",
        "outputId": "f208731c-a704-4a3a-f41f-7c7dab6dc085"
      },
      "outputs": [
        {
          "data": {
            "text/html": [
              "<div>\n",
              "<style scoped>\n",
              "    .dataframe tbody tr th:only-of-type {\n",
              "        vertical-align: middle;\n",
              "    }\n",
              "\n",
              "    .dataframe tbody tr th {\n",
              "        vertical-align: top;\n",
              "    }\n",
              "\n",
              "    .dataframe thead tr th {\n",
              "        text-align: left;\n",
              "    }\n",
              "\n",
              "    .dataframe thead tr:last-of-type th {\n",
              "        text-align: right;\n",
              "    }\n",
              "</style>\n",
              "<table border=\"1\" class=\"dataframe\">\n",
              "  <thead>\n",
              "    <tr>\n",
              "      <th></th>\n",
              "      <th>sum</th>\n",
              "      <th>mean</th>\n",
              "      <th>median</th>\n",
              "    </tr>\n",
              "    <tr>\n",
              "      <th></th>\n",
              "      <th>income</th>\n",
              "      <th>income</th>\n",
              "      <th>income</th>\n",
              "    </tr>\n",
              "    <tr>\n",
              "      <th>tariff</th>\n",
              "      <th></th>\n",
              "      <th></th>\n",
              "      <th></th>\n",
              "    </tr>\n",
              "  </thead>\n",
              "  <tbody>\n",
              "    <tr>\n",
              "      <td>smart</td>\n",
              "      <td>2461788</td>\n",
              "      <td>1109.413249</td>\n",
              "      <td>796</td>\n",
              "    </tr>\n",
              "    <tr>\n",
              "      <td>ultra</td>\n",
              "      <td>1931146</td>\n",
              "      <td>2063.190171</td>\n",
              "      <td>1950</td>\n",
              "    </tr>\n",
              "  </tbody>\n",
              "</table>\n",
              "</div>"
            ],
            "text/plain": [
              "            sum         mean median\n",
              "         income       income income\n",
              "tariff                             \n",
              "smart   2461788  1109.413249    796\n",
              "ultra   1931146  2063.190171   1950"
            ]
          },
          "execution_count": 84,
          "metadata": {},
          "output_type": "execute_result"
        }
      ],
      "source": [
        "clients_total.pivot_table(index='tariff', values='income', aggfunc=['sum','mean', 'median'])"
      ]
    },
    {
      "cell_type": "markdown",
      "metadata": {
        "id": "uwOWOTxvUjbf"
      },
      "source": [
        "# <a name=\"hyp-test-02\">Проверка гипотез: выручка по городам</a>"
      ]
    },
    {
      "cell_type": "markdown",
      "metadata": {
        "id": "_L7gvdhpUjbf"
      },
      "source": [
        "Задача проверить гипотезу: средняя выручка пользователей тарифов «Ультра» и «Смарт» различается.\n",
        "\n",
        "* H0: выручка компании в Москве и других регионах одинаковая\n",
        "* H1: выручка в Москве и других региона различается\n",
        "\n",
        "Так как две выборки независимы, использую Student t-test."
      ]
    },
    {
      "cell_type": "code",
      "execution_count": null,
      "metadata": {
        "id": "ZRNFRNe4Ujbf",
        "outputId": "6fad86a0-a542-48af-9c27-76cbef17421f"
      },
      "outputs": [
        {
          "data": {
            "text/plain": [
              "array(['Краснодар', 'Москва', 'Стерлитамак', 'Новокузнецк',\n",
              "       'Набережные Челны', 'Ульяновск', 'Челябинск', 'Пермь', 'Тюмень',\n",
              "       'Самара', 'Санкт-Петербург', 'Иваново', 'Чебоксары', 'Омск', 'Уфа',\n",
              "       'Томск', 'Чита', 'Мурманск', 'Петрозаводск', 'Тверь',\n",
              "       'Екатеринбург', 'Махачкала', 'Вологда', 'Череповец', 'Ярославль',\n",
              "       'Сочи', 'Хабаровск', 'Ставрополь', 'Рязань', 'Улан-Удэ', 'Тула',\n",
              "       'Саратов', 'Ростов-на-Дону', 'Казань', 'Иркутск', 'Курск',\n",
              "       'Калуга', 'Якутск', 'Астрахань', 'Химки', 'Владикавказ',\n",
              "       'Волгоград', 'Саранск', 'Ижевск', 'Новосибирск', 'Брянск',\n",
              "       'Тольятти', 'Нижний Тагил', 'Орёл', 'Белгород', 'Воронеж',\n",
              "       'Курган', 'Барнаул', 'Красноярск', 'Архангельск', 'Липецк',\n",
              "       'Кемерово', 'Киров', 'Сургут', 'Пенза', 'Волжский', 'Магнитогорск',\n",
              "       'Нижний Новгород', 'Кострома', 'Владивосток', 'Тамбов', 'Балашиха',\n",
              "       'Севастополь', 'Калининград', 'Оренбург', 'Смоленск',\n",
              "       'Нижневартовск', 'Владимир', 'Новороссийск', 'Грозный', 'Подольск'],\n",
              "      dtype=object)"
            ]
          },
          "execution_count": 85,
          "metadata": {},
          "output_type": "execute_result"
        }
      ],
      "source": [
        "# проверяем названия городов\n",
        "clients_total['city'].unique()"
      ]
    },
    {
      "cell_type": "markdown",
      "metadata": {
        "id": "V2atJ7QYUjbf"
      },
      "source": [
        "Каких-то странных опечаток и прочего нет, поэтому делим на две таблицы - Москва и все остальное."
      ]
    },
    {
      "cell_type": "code",
      "execution_count": null,
      "metadata": {
        "id": "iMnIv9ybUjbf",
        "outputId": "af615003-a909-4ed4-fe8f-13ed06428fbb"
      },
      "outputs": [
        {
          "data": {
            "text/html": [
              "<div>\n",
              "<style scoped>\n",
              "    .dataframe tbody tr th:only-of-type {\n",
              "        vertical-align: middle;\n",
              "    }\n",
              "\n",
              "    .dataframe tbody tr th {\n",
              "        vertical-align: top;\n",
              "    }\n",
              "\n",
              "    .dataframe thead th {\n",
              "        text-align: right;\n",
              "    }\n",
              "</style>\n",
              "<table border=\"1\" class=\"dataframe\">\n",
              "  <thead>\n",
              "    <tr style=\"text-align: right;\">\n",
              "      <th></th>\n",
              "      <th>user_id</th>\n",
              "      <th>month</th>\n",
              "      <th>duration</th>\n",
              "      <th>calls_amount</th>\n",
              "      <th>mb_used</th>\n",
              "      <th>messages_amount</th>\n",
              "      <th>tariff</th>\n",
              "      <th>city</th>\n",
              "      <th>messages_included</th>\n",
              "      <th>mb_per_month_included</th>\n",
              "      <th>minutes_included</th>\n",
              "      <th>rub_monthly_fee</th>\n",
              "      <th>rub_per_gb</th>\n",
              "      <th>rub_per_message</th>\n",
              "      <th>rub_per_minute</th>\n",
              "      <th>extra_expenses</th>\n",
              "      <th>income</th>\n",
              "    </tr>\n",
              "  </thead>\n",
              "  <tbody>\n",
              "    <tr>\n",
              "      <td>8</td>\n",
              "      <td>1001</td>\n",
              "      <td>11</td>\n",
              "      <td>430.0</td>\n",
              "      <td>45.0</td>\n",
              "      <td>18452.0</td>\n",
              "      <td>0.0</td>\n",
              "      <td>smart</td>\n",
              "      <td>Москва</td>\n",
              "      <td>50</td>\n",
              "      <td>15360</td>\n",
              "      <td>500</td>\n",
              "      <td>550</td>\n",
              "      <td>200</td>\n",
              "      <td>3</td>\n",
              "      <td>3</td>\n",
              "      <td>603.90625</td>\n",
              "      <td>1153</td>\n",
              "    </tr>\n",
              "    <tr>\n",
              "      <td>9</td>\n",
              "      <td>1001</td>\n",
              "      <td>12</td>\n",
              "      <td>414.0</td>\n",
              "      <td>47.0</td>\n",
              "      <td>14053.0</td>\n",
              "      <td>0.0</td>\n",
              "      <td>smart</td>\n",
              "      <td>Москва</td>\n",
              "      <td>50</td>\n",
              "      <td>15360</td>\n",
              "      <td>500</td>\n",
              "      <td>550</td>\n",
              "      <td>200</td>\n",
              "      <td>3</td>\n",
              "      <td>3</td>\n",
              "      <td>0.00000</td>\n",
              "      <td>550</td>\n",
              "    </tr>\n",
              "    <tr>\n",
              "      <td>17</td>\n",
              "      <td>1003</td>\n",
              "      <td>8</td>\n",
              "      <td>380.0</td>\n",
              "      <td>43.0</td>\n",
              "      <td>8571.0</td>\n",
              "      <td>37.0</td>\n",
              "      <td>ultra</td>\n",
              "      <td>Москва</td>\n",
              "      <td>1000</td>\n",
              "      <td>30720</td>\n",
              "      <td>3000</td>\n",
              "      <td>1950</td>\n",
              "      <td>150</td>\n",
              "      <td>1</td>\n",
              "      <td>1</td>\n",
              "      <td>0.00000</td>\n",
              "      <td>1950</td>\n",
              "    </tr>\n",
              "    <tr>\n",
              "      <td>18</td>\n",
              "      <td>1003</td>\n",
              "      <td>9</td>\n",
              "      <td>961.0</td>\n",
              "      <td>105.0</td>\n",
              "      <td>12479.0</td>\n",
              "      <td>91.0</td>\n",
              "      <td>ultra</td>\n",
              "      <td>Москва</td>\n",
              "      <td>1000</td>\n",
              "      <td>30720</td>\n",
              "      <td>3000</td>\n",
              "      <td>1950</td>\n",
              "      <td>150</td>\n",
              "      <td>1</td>\n",
              "      <td>1</td>\n",
              "      <td>0.00000</td>\n",
              "      <td>1950</td>\n",
              "    </tr>\n",
              "    <tr>\n",
              "      <td>19</td>\n",
              "      <td>1003</td>\n",
              "      <td>10</td>\n",
              "      <td>855.0</td>\n",
              "      <td>97.0</td>\n",
              "      <td>14779.0</td>\n",
              "      <td>83.0</td>\n",
              "      <td>ultra</td>\n",
              "      <td>Москва</td>\n",
              "      <td>1000</td>\n",
              "      <td>30720</td>\n",
              "      <td>3000</td>\n",
              "      <td>1950</td>\n",
              "      <td>150</td>\n",
              "      <td>1</td>\n",
              "      <td>1</td>\n",
              "      <td>0.00000</td>\n",
              "      <td>1950</td>\n",
              "    </tr>\n",
              "    <tr>\n",
              "      <td>20</td>\n",
              "      <td>1003</td>\n",
              "      <td>11</td>\n",
              "      <td>824.0</td>\n",
              "      <td>95.0</td>\n",
              "      <td>11368.0</td>\n",
              "      <td>94.0</td>\n",
              "      <td>ultra</td>\n",
              "      <td>Москва</td>\n",
              "      <td>1000</td>\n",
              "      <td>30720</td>\n",
              "      <td>3000</td>\n",
              "      <td>1950</td>\n",
              "      <td>150</td>\n",
              "      <td>1</td>\n",
              "      <td>1</td>\n",
              "      <td>0.00000</td>\n",
              "      <td>1950</td>\n",
              "    </tr>\n",
              "    <tr>\n",
              "      <td>21</td>\n",
              "      <td>1003</td>\n",
              "      <td>12</td>\n",
              "      <td>802.0</td>\n",
              "      <td>88.0</td>\n",
              "      <td>10132.0</td>\n",
              "      <td>75.0</td>\n",
              "      <td>ultra</td>\n",
              "      <td>Москва</td>\n",
              "      <td>1000</td>\n",
              "      <td>30720</td>\n",
              "      <td>3000</td>\n",
              "      <td>1950</td>\n",
              "      <td>150</td>\n",
              "      <td>1</td>\n",
              "      <td>1</td>\n",
              "      <td>0.00000</td>\n",
              "      <td>1950</td>\n",
              "    </tr>\n",
              "    <tr>\n",
              "      <td>53</td>\n",
              "      <td>1007</td>\n",
              "      <td>4</td>\n",
              "      <td>198.0</td>\n",
              "      <td>21.0</td>\n",
              "      <td>8031.0</td>\n",
              "      <td>11.0</td>\n",
              "      <td>smart</td>\n",
              "      <td>Москва</td>\n",
              "      <td>50</td>\n",
              "      <td>15360</td>\n",
              "      <td>500</td>\n",
              "      <td>550</td>\n",
              "      <td>200</td>\n",
              "      <td>3</td>\n",
              "      <td>3</td>\n",
              "      <td>0.00000</td>\n",
              "      <td>550</td>\n",
              "    </tr>\n",
              "    <tr>\n",
              "      <td>54</td>\n",
              "      <td>1007</td>\n",
              "      <td>5</td>\n",
              "      <td>480.0</td>\n",
              "      <td>57.0</td>\n",
              "      <td>17708.0</td>\n",
              "      <td>39.0</td>\n",
              "      <td>smart</td>\n",
              "      <td>Москва</td>\n",
              "      <td>50</td>\n",
              "      <td>15360</td>\n",
              "      <td>500</td>\n",
              "      <td>550</td>\n",
              "      <td>200</td>\n",
              "      <td>3</td>\n",
              "      <td>3</td>\n",
              "      <td>458.59375</td>\n",
              "      <td>1008</td>\n",
              "    </tr>\n",
              "    <tr>\n",
              "      <td>55</td>\n",
              "      <td>1007</td>\n",
              "      <td>6</td>\n",
              "      <td>545.0</td>\n",
              "      <td>55.0</td>\n",
              "      <td>13674.0</td>\n",
              "      <td>26.0</td>\n",
              "      <td>smart</td>\n",
              "      <td>Москва</td>\n",
              "      <td>50</td>\n",
              "      <td>15360</td>\n",
              "      <td>500</td>\n",
              "      <td>550</td>\n",
              "      <td>200</td>\n",
              "      <td>3</td>\n",
              "      <td>3</td>\n",
              "      <td>0.00000</td>\n",
              "      <td>550</td>\n",
              "    </tr>\n",
              "  </tbody>\n",
              "</table>\n",
              "</div>"
            ],
            "text/plain": [
              "    user_id  month  duration  calls_amount  mb_used  messages_amount tariff  \\\n",
              "8      1001     11     430.0          45.0  18452.0              0.0  smart   \n",
              "9      1001     12     414.0          47.0  14053.0              0.0  smart   \n",
              "17     1003      8     380.0          43.0   8571.0             37.0  ultra   \n",
              "18     1003      9     961.0         105.0  12479.0             91.0  ultra   \n",
              "19     1003     10     855.0          97.0  14779.0             83.0  ultra   \n",
              "20     1003     11     824.0          95.0  11368.0             94.0  ultra   \n",
              "21     1003     12     802.0          88.0  10132.0             75.0  ultra   \n",
              "53     1007      4     198.0          21.0   8031.0             11.0  smart   \n",
              "54     1007      5     480.0          57.0  17708.0             39.0  smart   \n",
              "55     1007      6     545.0          55.0  13674.0             26.0  smart   \n",
              "\n",
              "      city  messages_included  mb_per_month_included  minutes_included  \\\n",
              "8   Москва                 50                  15360               500   \n",
              "9   Москва                 50                  15360               500   \n",
              "17  Москва               1000                  30720              3000   \n",
              "18  Москва               1000                  30720              3000   \n",
              "19  Москва               1000                  30720              3000   \n",
              "20  Москва               1000                  30720              3000   \n",
              "21  Москва               1000                  30720              3000   \n",
              "53  Москва                 50                  15360               500   \n",
              "54  Москва                 50                  15360               500   \n",
              "55  Москва                 50                  15360               500   \n",
              "\n",
              "    rub_monthly_fee  rub_per_gb  rub_per_message  rub_per_minute  \\\n",
              "8               550         200                3               3   \n",
              "9               550         200                3               3   \n",
              "17             1950         150                1               1   \n",
              "18             1950         150                1               1   \n",
              "19             1950         150                1               1   \n",
              "20             1950         150                1               1   \n",
              "21             1950         150                1               1   \n",
              "53              550         200                3               3   \n",
              "54              550         200                3               3   \n",
              "55              550         200                3               3   \n",
              "\n",
              "    extra_expenses  income  \n",
              "8        603.90625    1153  \n",
              "9          0.00000     550  \n",
              "17         0.00000    1950  \n",
              "18         0.00000    1950  \n",
              "19         0.00000    1950  \n",
              "20         0.00000    1950  \n",
              "21         0.00000    1950  \n",
              "53         0.00000     550  \n",
              "54       458.59375    1008  \n",
              "55         0.00000     550  "
            ]
          },
          "execution_count": 86,
          "metadata": {},
          "output_type": "execute_result"
        }
      ],
      "source": [
        "# создаем отдельные таблицы\n",
        "msc = clients_total[clients_total['city'] == 'Москва']\n",
        "prv = clients_total[clients_total['city'] != 'Москва']\n",
        "\n",
        "#проверю результат на одной таблице, если с ней все ок, то и со второй тоже все должно быть ок\n",
        "msc.head(10)"
      ]
    },
    {
      "cell_type": "markdown",
      "metadata": {
        "id": "8eyZ5eH0Ujbg"
      },
      "source": [
        "Смотрим, какое значение должно быть у `equal_var`."
      ]
    },
    {
      "cell_type": "code",
      "execution_count": null,
      "metadata": {
        "id": "X74QaYOmUjbg",
        "outputId": "74891892-db6e-4576-f441-2cf9839c3736"
      },
      "outputs": [
        {
          "data": {
            "text/html": [
              "<style  type=\"text/css\" >\n",
              "</style><table id=\"T_bd0a274a_51c4_11eb_b78e_02420a393a84\" ><thead>    <tr>        <th class=\"blank level0\" ></th>        <th class=\"col_heading level0 col0\" colspan=2>income</th>    </tr>    <tr>        <th class=\"blank level1\" ></th>        <th class=\"col_heading level1 col0\" >var</th>        <th class=\"col_heading level1 col1\" >std</th>    </tr>    <tr>        <th class=\"index_name level0\" >tariff</th>        <th class=\"blank\" ></th>        <th class=\"blank\" ></th>    </tr></thead><tbody>\n",
              "                <tr>\n",
              "                        <th id=\"T_bd0a274a_51c4_11eb_b78e_02420a393a84level0_row0\" class=\"row_heading level0 row0\" >smart</th>\n",
              "                        <td id=\"T_bd0a274a_51c4_11eb_b78e_02420a393a84row0_col0\" class=\"data row0 col0\" >432296.8</td>\n",
              "                        <td id=\"T_bd0a274a_51c4_11eb_b78e_02420a393a84row0_col1\" class=\"data row0 col1\" >657.5</td>\n",
              "            </tr>\n",
              "            <tr>\n",
              "                        <th id=\"T_bd0a274a_51c4_11eb_b78e_02420a393a84level0_row1\" class=\"row_heading level0 row1\" >ultra</th>\n",
              "                        <td id=\"T_bd0a274a_51c4_11eb_b78e_02420a393a84row1_col0\" class=\"data row1 col0\" >109617.1</td>\n",
              "                        <td id=\"T_bd0a274a_51c4_11eb_b78e_02420a393a84row1_col1\" class=\"data row1 col1\" >331.1</td>\n",
              "            </tr>\n",
              "    </tbody></table>"
            ],
            "text/plain": [
              "<pandas.io.formats.style.Styler at 0x7f7e3c3cee90>"
            ]
          },
          "execution_count": 87,
          "metadata": {},
          "output_type": "execute_result"
        }
      ],
      "source": [
        "# таблица с данными  стандартном отклонении и дисперсии для москвы\n",
        "msc.groupby('tariff')\\\n",
        "     .agg({'income':['var','std']})\\\n",
        "     .style.format(\"{:.1f}\")"
      ]
    },
    {
      "cell_type": "code",
      "execution_count": null,
      "metadata": {
        "id": "7GVmGf0OUjbg",
        "outputId": "22b767ad-8a4d-4c0a-b01f-d604ce811ef6"
      },
      "outputs": [
        {
          "data": {
            "text/html": [
              "<style  type=\"text/css\" >\n",
              "</style><table id=\"T_bd128d36_51c4_11eb_b78e_02420a393a84\" ><thead>    <tr>        <th class=\"blank level0\" ></th>        <th class=\"col_heading level0 col0\" colspan=2>income</th>    </tr>    <tr>        <th class=\"blank level1\" ></th>        <th class=\"col_heading level1 col0\" >var</th>        <th class=\"col_heading level1 col1\" >std</th>    </tr>    <tr>        <th class=\"index_name level0\" >tariff</th>        <th class=\"blank\" ></th>        <th class=\"blank\" ></th>    </tr></thead><tbody>\n",
              "                <tr>\n",
              "                        <th id=\"T_bd128d36_51c4_11eb_b78e_02420a393a84level0_row0\" class=\"row_heading level0 row0\" >smart</th>\n",
              "                        <td id=\"T_bd128d36_51c4_11eb_b78e_02420a393a84row0_col0\" class=\"data row0 col0\" >516838.2</td>\n",
              "                        <td id=\"T_bd128d36_51c4_11eb_b78e_02420a393a84row0_col1\" class=\"data row0 col1\" >718.9</td>\n",
              "            </tr>\n",
              "            <tr>\n",
              "                        <th id=\"T_bd128d36_51c4_11eb_b78e_02420a393a84level0_row1\" class=\"row_heading level0 row1\" >ultra</th>\n",
              "                        <td id=\"T_bd128d36_51c4_11eb_b78e_02420a393a84row1_col0\" class=\"data row1 col0\" >137886.9</td>\n",
              "                        <td id=\"T_bd128d36_51c4_11eb_b78e_02420a393a84row1_col1\" class=\"data row1 col1\" >371.3</td>\n",
              "            </tr>\n",
              "    </tbody></table>"
            ],
            "text/plain": [
              "<pandas.io.formats.style.Styler at 0x7f7e3c4f1110>"
            ]
          },
          "execution_count": 88,
          "metadata": {},
          "output_type": "execute_result"
        }
      ],
      "source": [
        "# таблица с данными  стандартном отклонении и дисперсии для москвы\n",
        "prv.groupby('tariff')\\\n",
        "     .agg({'income':['var','std']})\\\n",
        "     .style.format(\"{:.1f}\")"
      ]
    },
    {
      "cell_type": "markdown",
      "metadata": {
        "id": "4PCh_iaZUjbg"
      },
      "source": [
        "Различие есть, значит 'equal_var' = False"
      ]
    },
    {
      "cell_type": "code",
      "execution_count": null,
      "metadata": {
        "id": "wvcvruoTUjbg"
      },
      "outputs": [],
      "source": [
        "# удаляем выбросы \n",
        "msc = remove_outlier(msc, 'income', 0)\n",
        "msc_income = msc['income']\n",
        "\n",
        "prv = remove_outlier(prv, 'income', 0)\n",
        "prv_income = prv['income']"
      ]
    },
    {
      "cell_type": "code",
      "execution_count": null,
      "metadata": {
        "id": "CD4GzU0PUjbg",
        "outputId": "5e6b7425-69d4-4f14-e655-d0a10799adca"
      },
      "outputs": [
        {
          "name": "stdout",
          "output_type": "stream",
          "text": [
            "p-value: 0.0897427305729071\n",
            "Отвергаем H1\n"
          ]
        }
      ],
      "source": [
        "#проверяем гипотезу\n",
        "alpha = 0.05\n",
        "result = st.ttest_ind(msc_income, prv_income, equal_var=False)\n",
        "\n",
        "if result.pvalue < alpha:\n",
        "    print('p-value:', result.pvalue)\n",
        "    print('Отвергаем H0')\n",
        "else:\n",
        "    print('p-value:', result.pvalue)\n",
        "    print('Отвергаем H1')"
      ]
    },
    {
      "cell_type": "markdown",
      "metadata": {
        "id": "XwEEQBRkUjbg"
      },
      "source": [
        "Значимость p-value равна 1, отвергаем не нулевую гипотезу.\n",
        "\n",
        "Вывод: средняя выручка тарифов Smart и Ultra в Москве и регионах не отличается."
      ]
    },
    {
      "cell_type": "markdown",
      "metadata": {
        "id": "HgupaWcHUjbh"
      },
      "source": [
        "<div class=\"alert alert-danger\">\n",
        "<h2> Комментарий ревьюера </h2>\n",
        "\n",
        "Проверь еще раз передаваемые в тест выборки. pvalue=1 возможно тогда, когда выборки абсолютно идентичны. \n",
        "\n",
        "</div>"
      ]
    },
    {
      "cell_type": "markdown",
      "metadata": {
        "id": "NK2aR_XRUjbh"
      },
      "source": [
        "<div class=\"alert alert-info\" role=\"alert\">\n",
        "Блин, я тормоз. Все было неправильно! Поправила сейчас, спасибо за замечаение. :)\n",
        "</div>"
      ]
    },
    {
      "cell_type": "markdown",
      "metadata": {
        "id": "5CpWFaHqUjbh"
      },
      "source": [
        "<div class=\"alert alert-success\">\n",
        "<h2> Комментарий ревьюера 2</h2>\n",
        "\n",
        "Это опечатки, такое бывает. Главное, что сейчас все хорошо. \n",
        "\n",
        "</div>"
      ]
    },
    {
      "cell_type": "markdown",
      "metadata": {
        "id": "1_TkXmIeUjbh"
      },
      "source": [
        "<div class=\"alert alert-danger\">\n",
        "<h2> Комментарий ревьюера </h2>\n",
        "\n",
        "Прежде чем произвести проверку гипотезы через T-критерий Стьюдента произведи проверку дисперсии выборок, чтобы понять с каким параметром использовать метод проверки. Уточни параметр equal_var при проведении обоих тестов. \n",
        "\n",
        "</div>"
      ]
    },
    {
      "cell_type": "markdown",
      "metadata": {
        "id": "6oQW9XaSUjbh"
      },
      "source": [
        "<div class=\"alert alert-info\" role=\"alert\">\n",
        "Вроде добавила equal_var\n",
        "</div>"
      ]
    },
    {
      "cell_type": "markdown",
      "metadata": {
        "id": "kr7Kz-6bUjbh"
      },
      "source": [
        "<div class=\"alert alert-success\">\n",
        "<h2> Комментарий ревьюера 2</h2>\n",
        "\n",
        "Увидел. Уточнение данного параметра пощволяет нам увеличить точность проводимых тестов. \n",
        "\n",
        "</div>"
      ]
    },
    {
      "cell_type": "markdown",
      "metadata": {
        "id": "E1G7Hfp0Ujbh"
      },
      "source": [
        "# <a name=\"conclustion\">Общий вывод</a>"
      ]
    },
    {
      "cell_type": "markdown",
      "metadata": {
        "id": "bWt7zG9lUjbh"
      },
      "source": [
        "На основе проведённого анализа данных, можно сделать следующие выводы:\n",
        "\n",
        "Общая выручка от тарифов Smart и Ultra различаются:\n",
        "\n",
        "**тариф Smart** приносит больше общего дохода. Возможно, это связано с тем, что клиенты (которых больше в моей выборке) чаще превышают заложенные в тарифы лимиты и поэтому чаще платят за дополнительные сообщения, минуты разговора и гигабайты интернета. Думаю из-за того, что основная прибыль от этого тарифа основана на переплате, показатель может быть нестабильным - сегодня клиенты переплатили, а завтра уложились в лимиты - прибыль сразу упадёт. \n",
        "\n",
        "**тариф Ultra** на первый взгляд приносит меньше дохода, но медиана и средний показатели прибыли у него выше. Так как клиенты этого тарифа реже переплачивают за выход за рамки лимитов, доход от этого тарифа более стабилен. А если привлечь к нему больше клиентов, то и выручка будет больше. Все же в моей выборке клиентов тарифа Ultra было меньше половины.\n",
        "    \n",
        "Превышение лимитов  в зависимости от тарифа:\n",
        "     \n",
        "|Тариф|св. тар. звонки|св. тар. интернет|св. тар. сообщения|\n",
        "|----|----|----|----|\n",
        "|Ultra|0% |13% |0% |\n",
        "|Smart|33% |60% |25%|\n",
        "\n",
        "Прибыль в зависимости от тарифа:\n",
        "\n",
        "|Тариф|общая|средняя|медиана|\n",
        "|----|----|----|----|\n",
        "|Ultra|1930532 |2062 |1950 |\n",
        "|Smart|2455453|1106 |792|\n",
        "    \n",
        "    \n",
        "Выручка в Москве и регионах не отличается. Поэтому тарифы выгодно одинаково развивать как в Москве так и вне Москвы. \n",
        "\n",
        "\n",
        "Не совсем понятно, что имелось ввиду под \"сообщениями\", поэтому я предположила что sms. Клиенты тарифов часто вообще не пользуются этой функцией, видимо общаясь через мессенджеры. Я бы обратила на это внимание, чтобы как-то увеличить прибыль от тарифов. Например, добавила бы в тариф \"Ультра\" бесплатный трафик для трех-четырех популярных мессенджеров, чтобы привлечь больше клиентов.\n",
        "\n",
        "\n",
        "Основная рекомендация оператору - обратить внимание на тариф Ultra и подумать как привлечь к нему больше клиентов, обратить внимание на тариф Smart и подумать как стабилизировать от этого тарифа прибыль."
      ]
    },
    {
      "cell_type": "markdown",
      "metadata": {
        "id": "Lt09askHUjbi"
      },
      "source": [
        "<div class=\"alert alert-success\">\n",
        "<h2> Комментарий ревьюера </h2>\n",
        "\n",
        "Выводы описаны грамотно. Приведены ответы на главные вопросы проекта. В выводах можно приводить полученные ранее значения, правильно. Здорово, что по каждому пункту работы приведен вывод, а также то, что ты привела рекомендации для компании. Это очень важно. \n",
        "\n",
        "</div>"
      ]
    },
    {
      "cell_type": "markdown",
      "metadata": {
        "id": "uYokfY7GUjbi"
      },
      "source": [
        "<div class=\"alert alert-warning\">\n",
        "<h2> Комментарий ревьюера </h2>\n",
        "\n",
        "Если тебе нравится тема визуализации, то можешь изучить методы библиотеки seaborn. Она позволяет строить довольно презентабельные графики.\n",
        "\n",
        "Ты проделала большую работу, молодец! Критических замечаний немного. Однако с ними важно поработать. Также есть достаточное число желтых комментариев. Думаю, исправить их тебе не составит труда. Жду твою работу :)\n",
        "\n",
        "</div>"
      ]
    },
    {
      "cell_type": "markdown",
      "metadata": {
        "id": "-J9TSW-XUjbi"
      },
      "source": [
        "<div class=\"alert alert-info\" role=\"alert\">\n",
        "Нравится, но если я начну ковыряться, я никогда ничего не сдам! XD к тому же там какие-то сложности были с работой seaborn в я.практикум окружении. Так что думаю, оставлю на самостоятельное изучение.\n",
        "Еще раз спасибо за все комментарии, не знаю кака я так просмотрела супер-важные вещи. Видимо не стоит заниматься статистикой на ночь глядя. :)\n",
        "</div>"
      ]
    },
    {
      "cell_type": "markdown",
      "metadata": {
        "id": "I7qI2sWwUjbi"
      },
      "source": [
        "<div class=\"alert alert-success\">\n",
        "<h2> Комментарий ревьюера 2</h2>\n",
        "\n",
        "Помарки исправлены, и теперь работа выполнена хорошо. Ты здорово поработала, молодец. Проект получился классным! Спасибо за оставленные комментарии. Успехов в дальнейших проектах :)\n",
        "\n",
        "</div>\n",
        "   "
      ]
    }
  ],
  "metadata": {
    "kernelspec": {
      "display_name": "Python 3 (ipykernel)",
      "language": "python",
      "name": "python3"
    },
    "language_info": {
      "codemirror_mode": {
        "name": "ipython",
        "version": 3
      },
      "file_extension": ".py",
      "mimetype": "text/x-python",
      "name": "python",
      "nbconvert_exporter": "python",
      "pygments_lexer": "ipython3",
      "version": "3.9.5"
    },
    "toc": {
      "base_numbering": 1,
      "nav_menu": {},
      "number_sections": true,
      "sideBar": true,
      "skip_h1_title": true,
      "title_cell": "Table of Contents",
      "title_sidebar": "Contents",
      "toc_cell": false,
      "toc_position": {},
      "toc_section_display": true,
      "toc_window_display": false
    },
    "colab": {
      "provenance": [],
      "include_colab_link": true
    }
  },
  "nbformat": 4,
  "nbformat_minor": 0
}