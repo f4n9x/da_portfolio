{
  "cells": [
    {
      "cell_type": "markdown",
      "metadata": {
        "id": "view-in-github",
        "colab_type": "text"
      },
      "source": [
        "<a href=\"https://colab.research.google.com/github/mdacoca/da_portfolio/blob/de_camp/mobile_plan_research.ipynb\" target=\"_parent\"><img src=\"https://colab.research.google.com/assets/colab-badge.svg\" alt=\"Open In Colab\"/></a>"
      ]
    },
    {
      "cell_type": "markdown",
      "metadata": {
        "id": "zoA90KV1Uja8"
      },
      "source": [
        "# Determining a best paid plan for a telecom company."
      ]
    },
    {
      "cell_type": "markdown",
      "metadata": {
        "id": "-F1dBmUlUja9"
      },
      "source": [
        "\n",
        "The \"Call me\" Company - is a mobile operator, that offers customers two paid plans: \"Smart\" and \"Ultra\". To adjust the advertising budget, the commercial department wants to understand which plan brings in more money.\n",
        "\n",
        "It is necessary to do a preliminary analysis of both plans on a small sample of clients. I have data of 500 \"Call me\" clients: who they are, where they are from, which pman they use, how many calls and messages each sent in 2018. It is necessary to analyze the behavior of customers and make a conclusion - which plan is better.\n",
        "\n",
        "## Tariff Descriptions\n",
        "\n",
        "**Smart**\n",
        "\n",
        "1. Monthly fee: 550 rubles\n",
        "2. Includes 500 minutes of conversation, 50 messages, and 15 GB of internet traffic\n",
        "3. Cost of services beyond the tariff package:\n",
        "    * conversation minute: 3 rubles\n",
        "    * message: 3 rubles\n",
        "    * 1 GB of internet traffic: 200 rubles\n",
        "\n",
        "**Ultra**\n",
        "\n",
        "1. Monthly fee: 1950 rubles\n",
        "2. Includes 3000 minutes of conversation, 1000 messages, and 30 GB of internet traffic\n",
        "3. Cost of services beyond the tariff package:\n",
        "    * conversation minute: 1 ruble\n",
        "    * message: 1 ruble\n",
        "    * 1 GB of internet traffic: 150 rubles\n",
        "\n",
        "> \"Call me\" always rounds up the values of minutes and megabytes. If a user only spoke for 1 second, a whole minute is counted in the tariff.\n",
        "\n",
        "\n",
        "## Data Description\n",
        "\n",
        "Users table (user information):\n",
        "* `user_id` — unique user identifier\n",
        "* `first_name` — user's first name\n",
        "* `last_name` — user's last name\n",
        "* `age` — user's age (years)\n",
        "* `reg_date` — tariff start date (day, month, year)\n",
        "* `churn_date` — the date the user stopped using the tariff (if the value is missing, the tariff was still in effect at the time of data extraction)\n",
        "* `city` — user's city of residence\n",
        "* `tariff` — tariff plan name\n",
        "\n",
        "Calls table (call information):\n",
        "\n",
        "* `id` — unique call number\n",
        "* `call_date` — call date\n",
        "* `duration` — call duration in minutes\n",
        "* `user_id` — identifier of the user who made the call\n",
        "\n",
        "Messages table (message information):\n",
        "\n",
        "* `id` — unique message number\n",
        "* `message_date` — message date\n",
        "* `user_id` — identifier of the user who sent the message\n",
        "\n",
        "Internet table (internet session information):\n",
        "\n",
        "* `id` — unique session number\n",
        "* `mb_used` — amount of internet traffic used during the session (in megabytes)\n",
        "* `session_date` — internet session date\n",
        "* `user_id` — user identifier\n",
        "\n",
        "Plans table (tariff information):\n",
        "\n",
        "* `tariff_name` — tariff name\n",
        "* `rub_monthly_fee` — monthly subscription fee in rubles\n",
        "* `minutes_included` — number of call minutes per month included in the subscription fee\n",
        "* `messages_included` — number of messages per month included in the subscription fee\n",
        "* `mb_per_month_included` — amount of internet traffic included in the subscription fee (in megabytes)\n",
        "* `rub_per_minute` — cost of a call minute beyond the tariff package (for example, if the tariff includes 100 minutes of calls per month, a fee will be charged from the 101st minute)\n",
        "* `rub_per_message` — cost of sending a message beyond the tariff package\n",
        "* `rub_per_gb` — cost of an additional gigabyte of internet traffic beyond the tariff package (1 gigabyte = 1024 megabytes)\n",
        "\n",
        "\n",
        "## Tasks\n",
        "\n",
        "1. Describe the behavior of the operator's customers based on the sample:\n",
        "    * How many minutes of conversation, how many messages, and what volume of internet traffic do users of each tariff need per month?\n",
        "    * Calculate the average number, variance, and standard deviation.\n",
        "    * Draw histograms. Describe the distributions.\n",
        "2. Test the hypotheses:\n",
        "    * the average revenue of \"Ultra\" and \"Smart\" tariff users is different;\n",
        "    * the average revenue of users from Moscow differs from the revenue of users from other regions;\n",
        "3. Explain:\n",
        "    * how you formulated the null and alternative hypotheses;\n",
        "    * which criterion you used to test the hypotheses and why.\n",
        "4. General conclusion\n"
      ]
    },
    {
      "cell_type": "markdown",
      "metadata": {
        "id": "Z6bZoKAmUja-"
      },
      "source": [
        "# \n",
        "Data Preparation"
      ]
    },
    {
      "cell_type": "code",
      "source": [
        "from google.colab import drive\n",
        "drive.mount(\"/content/drive\")"
      ],
      "metadata": {
        "colab": {
          "base_uri": "https://localhost:8080/"
        },
        "id": "IK4mGKNKrESU",
        "outputId": "772b5678-ecb9-42ef-c227-c3697678960d"
      },
      "execution_count": 6,
      "outputs": [
        {
          "output_type": "stream",
          "name": "stdout",
          "text": [
            "Drive already mounted at /content/drive; to attempt to forcibly remount, call drive.mount(\"/content/drive\", force_remount=True).\n"
          ]
        }
      ]
    },
    {
      "cell_type": "code",
      "execution_count": 7,
      "metadata": {
        "id": "i-F5hdQHUja-"
      },
      "outputs": [],
      "source": [
        "# libraries import\n",
        "import pandas as pd\n",
        "import numpy as np\n",
        "from datetime import datetime\n",
        "from scipy import stats as st\n",
        "pd.options.mode.chained_assignment = None  # default='warn'\n",
        "np.warnings.filterwarnings('ignore', category=np.VisibleDeprecationWarning)  \n",
        "from pymystem3 import Mystem\n",
        "from matplotlib import pyplot as plt\n",
        "m = Mystem()"
      ]
    },
    {
      "cell_type": "code",
      "execution_count": 8,
      "metadata": {
        "id": "thY2ITyPUja_"
      },
      "outputs": [],
      "source": [
        "# data import\n",
        "users = pd.read_csv('/content/drive/MyDrive/da_portfolio/users.csv')\n",
        "calls = pd.read_csv('/content/drive/MyDrive/da_portfolio/calls.csv')\n",
        "messages = pd.read_csv('/content/drive/MyDrive/da_portfolio/messages.csv')\n",
        "internet = pd.read_csv('/content/drive/MyDrive/da_portfolio/internet.csv')\n",
        "tariffs = pd.read_csv('/content/drive/MyDrive/da_portfolio/tariffs.csv')\n"
      ]
    },
    {
      "cell_type": "markdown",
      "metadata": {
        "id": "d0ikD4esUja_"
      },
      "source": [
        "Since the data is in several tables, I will need to combine them into one based on the `user_id` column, which can be used to join the `users`, `calls`, `internet`, `messages` tables.\n",
        "\n",
        "Before joining the tables, it is necessary to check for missing values, duplicates, and correct (if necessary) data types in all tables."
      ]
    },
    {
      "cell_type": "markdown",
      "metadata": {
        "id": "TvcajTubUja_"
      },
      "source": [
        "## Users \n"
      ]
    },
    {
      "cell_type": "markdown",
      "metadata": {
        "id": "2I11s1xeUja_"
      },
      "source": [
        "The `users` table contains information about the customers - id, registration date, full name, and so on:\n"
      ]
    },
    {
      "cell_type": "code",
      "execution_count": 9,
      "metadata": {
        "id": "j3sglTlkUjbA",
        "outputId": "7640f011-df4e-4bdf-ce4b-84c2c99d6312",
        "colab": {
          "base_uri": "https://localhost:8080/"
        }
      },
      "outputs": [
        {
          "output_type": "stream",
          "name": "stdout",
          "text": [
            "<class 'pandas.core.frame.DataFrame'>\n",
            "RangeIndex: 500 entries, 0 to 499\n",
            "Data columns (total 8 columns):\n",
            " #   Column      Non-Null Count  Dtype \n",
            "---  ------      --------------  ----- \n",
            " 0   user_id     500 non-null    int64 \n",
            " 1   age         500 non-null    int64 \n",
            " 2   churn_date  38 non-null     object\n",
            " 3   city        500 non-null    object\n",
            " 4   first_name  500 non-null    object\n",
            " 5   last_name   500 non-null    object\n",
            " 6   reg_date    500 non-null    object\n",
            " 7   tariff      500 non-null    object\n",
            "dtypes: int64(2), object(6)\n",
            "memory usage: 31.4+ KB\n"
          ]
        }
      ],
      "source": [
        "# checking the data type and missing values\n",
        "users.info()"
      ]
    },
    {
      "cell_type": "code",
      "execution_count": 10,
      "metadata": {
        "id": "fUD503iLUjbA",
        "outputId": "1d3ac03c-c067-4bc4-c5f5-2903a8cf6d20",
        "colab": {
          "base_uri": "https://localhost:8080/",
          "height": 363
        }
      },
      "outputs": [
        {
          "output_type": "execute_result",
          "data": {
            "text/plain": [
              "     user_id  age  churn_date              city first_name   last_name  \\\n",
              "399     1399   31  2018-12-25               Уфа      Алиса    Абрашина   \n",
              "320     1320   38         NaN          Балашиха      Рубен     Киселёв   \n",
              "125     1125   69         NaN         Волгоград     Сабина     Озерова   \n",
              "156     1156   63         NaN  Набережные Челны    Валерий      Галкин   \n",
              "497     1497   32         NaN         Челябинск   Каролина      Агеева   \n",
              "383     1383   41         NaN         Ульяновск        Юна      Сомова   \n",
              "324     1324   25         NaN         Череповец      Дайна    Березина   \n",
              "258     1258   52         NaN   Санкт-Петербург    Валерий      Беляев   \n",
              "412     1412   63         NaN         Волгоград     Геодар      Афонин   \n",
              "339     1339   52         NaN            Москва   Григорий  Вишневский   \n",
              "\n",
              "       reg_date tariff  \n",
              "399  2018-11-06  ultra  \n",
              "320  2018-09-10  smart  \n",
              "125  2018-09-01  smart  \n",
              "156  2018-11-12  ultra  \n",
              "497  2018-10-09  smart  \n",
              "383  2018-10-24  smart  \n",
              "324  2018-05-28  smart  \n",
              "258  2018-12-31  smart  \n",
              "412  2018-06-05  ultra  \n",
              "339  2018-08-14  smart  "
            ],
            "text/html": [
              "\n",
              "  <div id=\"df-c7cc5c9f-c3cf-4205-affd-c1e0d6f8bddc\">\n",
              "    <div class=\"colab-df-container\">\n",
              "      <div>\n",
              "<style scoped>\n",
              "    .dataframe tbody tr th:only-of-type {\n",
              "        vertical-align: middle;\n",
              "    }\n",
              "\n",
              "    .dataframe tbody tr th {\n",
              "        vertical-align: top;\n",
              "    }\n",
              "\n",
              "    .dataframe thead th {\n",
              "        text-align: right;\n",
              "    }\n",
              "</style>\n",
              "<table border=\"1\" class=\"dataframe\">\n",
              "  <thead>\n",
              "    <tr style=\"text-align: right;\">\n",
              "      <th></th>\n",
              "      <th>user_id</th>\n",
              "      <th>age</th>\n",
              "      <th>churn_date</th>\n",
              "      <th>city</th>\n",
              "      <th>first_name</th>\n",
              "      <th>last_name</th>\n",
              "      <th>reg_date</th>\n",
              "      <th>tariff</th>\n",
              "    </tr>\n",
              "  </thead>\n",
              "  <tbody>\n",
              "    <tr>\n",
              "      <th>399</th>\n",
              "      <td>1399</td>\n",
              "      <td>31</td>\n",
              "      <td>2018-12-25</td>\n",
              "      <td>Уфа</td>\n",
              "      <td>Алиса</td>\n",
              "      <td>Абрашина</td>\n",
              "      <td>2018-11-06</td>\n",
              "      <td>ultra</td>\n",
              "    </tr>\n",
              "    <tr>\n",
              "      <th>320</th>\n",
              "      <td>1320</td>\n",
              "      <td>38</td>\n",
              "      <td>NaN</td>\n",
              "      <td>Балашиха</td>\n",
              "      <td>Рубен</td>\n",
              "      <td>Киселёв</td>\n",
              "      <td>2018-09-10</td>\n",
              "      <td>smart</td>\n",
              "    </tr>\n",
              "    <tr>\n",
              "      <th>125</th>\n",
              "      <td>1125</td>\n",
              "      <td>69</td>\n",
              "      <td>NaN</td>\n",
              "      <td>Волгоград</td>\n",
              "      <td>Сабина</td>\n",
              "      <td>Озерова</td>\n",
              "      <td>2018-09-01</td>\n",
              "      <td>smart</td>\n",
              "    </tr>\n",
              "    <tr>\n",
              "      <th>156</th>\n",
              "      <td>1156</td>\n",
              "      <td>63</td>\n",
              "      <td>NaN</td>\n",
              "      <td>Набережные Челны</td>\n",
              "      <td>Валерий</td>\n",
              "      <td>Галкин</td>\n",
              "      <td>2018-11-12</td>\n",
              "      <td>ultra</td>\n",
              "    </tr>\n",
              "    <tr>\n",
              "      <th>497</th>\n",
              "      <td>1497</td>\n",
              "      <td>32</td>\n",
              "      <td>NaN</td>\n",
              "      <td>Челябинск</td>\n",
              "      <td>Каролина</td>\n",
              "      <td>Агеева</td>\n",
              "      <td>2018-10-09</td>\n",
              "      <td>smart</td>\n",
              "    </tr>\n",
              "    <tr>\n",
              "      <th>383</th>\n",
              "      <td>1383</td>\n",
              "      <td>41</td>\n",
              "      <td>NaN</td>\n",
              "      <td>Ульяновск</td>\n",
              "      <td>Юна</td>\n",
              "      <td>Сомова</td>\n",
              "      <td>2018-10-24</td>\n",
              "      <td>smart</td>\n",
              "    </tr>\n",
              "    <tr>\n",
              "      <th>324</th>\n",
              "      <td>1324</td>\n",
              "      <td>25</td>\n",
              "      <td>NaN</td>\n",
              "      <td>Череповец</td>\n",
              "      <td>Дайна</td>\n",
              "      <td>Березина</td>\n",
              "      <td>2018-05-28</td>\n",
              "      <td>smart</td>\n",
              "    </tr>\n",
              "    <tr>\n",
              "      <th>258</th>\n",
              "      <td>1258</td>\n",
              "      <td>52</td>\n",
              "      <td>NaN</td>\n",
              "      <td>Санкт-Петербург</td>\n",
              "      <td>Валерий</td>\n",
              "      <td>Беляев</td>\n",
              "      <td>2018-12-31</td>\n",
              "      <td>smart</td>\n",
              "    </tr>\n",
              "    <tr>\n",
              "      <th>412</th>\n",
              "      <td>1412</td>\n",
              "      <td>63</td>\n",
              "      <td>NaN</td>\n",
              "      <td>Волгоград</td>\n",
              "      <td>Геодар</td>\n",
              "      <td>Афонин</td>\n",
              "      <td>2018-06-05</td>\n",
              "      <td>ultra</td>\n",
              "    </tr>\n",
              "    <tr>\n",
              "      <th>339</th>\n",
              "      <td>1339</td>\n",
              "      <td>52</td>\n",
              "      <td>NaN</td>\n",
              "      <td>Москва</td>\n",
              "      <td>Григорий</td>\n",
              "      <td>Вишневский</td>\n",
              "      <td>2018-08-14</td>\n",
              "      <td>smart</td>\n",
              "    </tr>\n",
              "  </tbody>\n",
              "</table>\n",
              "</div>\n",
              "      <button class=\"colab-df-convert\" onclick=\"convertToInteractive('df-c7cc5c9f-c3cf-4205-affd-c1e0d6f8bddc')\"\n",
              "              title=\"Convert this dataframe to an interactive table.\"\n",
              "              style=\"display:none;\">\n",
              "        \n",
              "  <svg xmlns=\"http://www.w3.org/2000/svg\" height=\"24px\"viewBox=\"0 0 24 24\"\n",
              "       width=\"24px\">\n",
              "    <path d=\"M0 0h24v24H0V0z\" fill=\"none\"/>\n",
              "    <path d=\"M18.56 5.44l.94 2.06.94-2.06 2.06-.94-2.06-.94-.94-2.06-.94 2.06-2.06.94zm-11 1L8.5 8.5l.94-2.06 2.06-.94-2.06-.94L8.5 2.5l-.94 2.06-2.06.94zm10 10l.94 2.06.94-2.06 2.06-.94-2.06-.94-.94-2.06-.94 2.06-2.06.94z\"/><path d=\"M17.41 7.96l-1.37-1.37c-.4-.4-.92-.59-1.43-.59-.52 0-1.04.2-1.43.59L10.3 9.45l-7.72 7.72c-.78.78-.78 2.05 0 2.83L4 21.41c.39.39.9.59 1.41.59.51 0 1.02-.2 1.41-.59l7.78-7.78 2.81-2.81c.8-.78.8-2.07 0-2.86zM5.41 20L4 18.59l7.72-7.72 1.47 1.35L5.41 20z\"/>\n",
              "  </svg>\n",
              "      </button>\n",
              "      \n",
              "  <style>\n",
              "    .colab-df-container {\n",
              "      display:flex;\n",
              "      flex-wrap:wrap;\n",
              "      gap: 12px;\n",
              "    }\n",
              "\n",
              "    .colab-df-convert {\n",
              "      background-color: #E8F0FE;\n",
              "      border: none;\n",
              "      border-radius: 50%;\n",
              "      cursor: pointer;\n",
              "      display: none;\n",
              "      fill: #1967D2;\n",
              "      height: 32px;\n",
              "      padding: 0 0 0 0;\n",
              "      width: 32px;\n",
              "    }\n",
              "\n",
              "    .colab-df-convert:hover {\n",
              "      background-color: #E2EBFA;\n",
              "      box-shadow: 0px 1px 2px rgba(60, 64, 67, 0.3), 0px 1px 3px 1px rgba(60, 64, 67, 0.15);\n",
              "      fill: #174EA6;\n",
              "    }\n",
              "\n",
              "    [theme=dark] .colab-df-convert {\n",
              "      background-color: #3B4455;\n",
              "      fill: #D2E3FC;\n",
              "    }\n",
              "\n",
              "    [theme=dark] .colab-df-convert:hover {\n",
              "      background-color: #434B5C;\n",
              "      box-shadow: 0px 1px 3px 1px rgba(0, 0, 0, 0.15);\n",
              "      filter: drop-shadow(0px 1px 2px rgba(0, 0, 0, 0.3));\n",
              "      fill: #FFFFFF;\n",
              "    }\n",
              "  </style>\n",
              "\n",
              "      <script>\n",
              "        const buttonEl =\n",
              "          document.querySelector('#df-c7cc5c9f-c3cf-4205-affd-c1e0d6f8bddc button.colab-df-convert');\n",
              "        buttonEl.style.display =\n",
              "          google.colab.kernel.accessAllowed ? 'block' : 'none';\n",
              "\n",
              "        async function convertToInteractive(key) {\n",
              "          const element = document.querySelector('#df-c7cc5c9f-c3cf-4205-affd-c1e0d6f8bddc');\n",
              "          const dataTable =\n",
              "            await google.colab.kernel.invokeFunction('convertToInteractive',\n",
              "                                                     [key], {});\n",
              "          if (!dataTable) return;\n",
              "\n",
              "          const docLinkHtml = 'Like what you see? Visit the ' +\n",
              "            '<a target=\"_blank\" href=https://colab.research.google.com/notebooks/data_table.ipynb>data table notebook</a>'\n",
              "            + ' to learn more about interactive tables.';\n",
              "          element.innerHTML = '';\n",
              "          dataTable['output_type'] = 'display_data';\n",
              "          await google.colab.output.renderOutput(dataTable, element);\n",
              "          const docLink = document.createElement('div');\n",
              "          docLink.innerHTML = docLinkHtml;\n",
              "          element.appendChild(docLink);\n",
              "        }\n",
              "      </script>\n",
              "    </div>\n",
              "  </div>\n",
              "  "
            ]
          },
          "metadata": {},
          "execution_count": 10
        }
      ],
      "source": [
        "# checking the data type and missing values visually\n",
        "users.sample(10)"
      ]
    },
    {
      "cell_type": "markdown",
      "metadata": {
        "id": "KgzoCYInUjbA"
      },
      "source": [
        "From the data, it is clear that some customers stopped using the services of the operator by the time of data extraction. Since such customers were using the tariff for a while, I need the data that is available for these customers, regardless of whether they are using the operator now or not. Missing values in the `churn_date` column do not interfere with the analysis, since I am not using this column, so I leave the column unchanged.\n"
      ]
    },
    {
      "cell_type": "code",
      "execution_count": 11,
      "metadata": {
        "id": "KD3q4HcVUjbA",
        "outputId": "2617a78f-8b38-487a-feb4-f37a1c2a664d",
        "colab": {
          "base_uri": "https://localhost:8080/"
        }
      },
      "outputs": [
        {
          "output_type": "execute_result",
          "data": {
            "text/plain": [
              "0"
            ]
          },
          "metadata": {},
          "execution_count": 11
        }
      ],
      "source": [
        "# checking for duplicates\n",
        "users.duplicated().sum()"
      ]
    },
    {
      "cell_type": "markdown",
      "metadata": {
        "id": "yB8Cj7N-UjbB"
      },
      "source": [
        "From the information about the table, I see that `reg_date` has a data type `object`, which needs to be replaced with `datetime`:\n"
      ]
    },
    {
      "cell_type": "code",
      "execution_count": 12,
      "metadata": {
        "id": "DaVSotVGUjbB"
      },
      "outputs": [],
      "source": [
        "# chancgin data type from object to datetime:\n",
        "users['reg_date'] = pd.to_datetime(users['reg_date'], format=\"%Y-%m-%d\")"
      ]
    },
    {
      "cell_type": "markdown",
      "metadata": {
        "id": "cKqNsj2DUjbB"
      },
      "source": [
        "Since there is a column with city names, let's check this column for errors, typos, etc.:"
      ]
    },
    {
      "cell_type": "code",
      "execution_count": 13,
      "metadata": {
        "id": "BvGNu5NyUjbB",
        "outputId": "490e3068-5e89-4621-fb97-04076334a30f",
        "colab": {
          "base_uri": "https://localhost:8080/"
        }
      },
      "outputs": [
        {
          "output_type": "execute_result",
          "data": {
            "text/plain": [
              "array(['Краснодар', 'Москва', 'Стерлитамак', 'Новокузнецк',\n",
              "       'Набережные Челны', 'Ульяновск', 'Челябинск', 'Пермь', 'Тюмень',\n",
              "       'Самара', 'Санкт-Петербург', 'Иваново', 'Чебоксары', 'Омск', 'Уфа',\n",
              "       'Томск', 'Чита', 'Мурманск', 'Петрозаводск', 'Тверь',\n",
              "       'Екатеринбург', 'Махачкала', 'Вологда', 'Череповец', 'Ярославль',\n",
              "       'Сочи', 'Хабаровск', 'Ставрополь', 'Рязань', 'Улан-Удэ', 'Тула',\n",
              "       'Саратов', 'Ростов-на-Дону', 'Казань', 'Иркутск', 'Курск',\n",
              "       'Калуга', 'Якутск', 'Астрахань', 'Химки', 'Владикавказ',\n",
              "       'Волгоград', 'Саранск', 'Ижевск', 'Новосибирск', 'Брянск',\n",
              "       'Тольятти', 'Нижний Тагил', 'Орёл', 'Белгород', 'Воронеж',\n",
              "       'Волжский', 'Курган', 'Барнаул', 'Красноярск', 'Архангельск',\n",
              "       'Липецк', 'Кемерово', 'Киров', 'Сургут', 'Пенза', 'Магнитогорск',\n",
              "       'Нижний Новгород', 'Кострома', 'Владивосток', 'Тамбов', 'Балашиха',\n",
              "       'Севастополь', 'Калининград', 'Оренбург', 'Смоленск',\n",
              "       'Нижневартовск', 'Владимир', 'Новороссийск', 'Грозный', 'Подольск'],\n",
              "      dtype=object)"
            ]
          },
          "metadata": {},
          "execution_count": 13
        }
      ],
      "source": [
        "# checking the unique names visually\n",
        "users['city'].unique()"
      ]
    },
    {
      "cell_type": "markdown",
      "metadata": {
        "id": "awnnqNwCUjbB"
      },
      "source": [
        "All names look unique, there are no errors or typos, everything is ok."
      ]
    },
    {
      "cell_type": "markdown",
      "metadata": {
        "id": "RF9WoPLwUjbB"
      },
      "source": [
        "## Calls "
      ]
    },
    {
      "cell_type": "markdown",
      "metadata": {
        "id": "Nx9ew32sUjbB"
      },
      "source": [
        "The `calls` table contains information about calls - id, duration, date, and so on:"
      ]
    },
    {
      "cell_type": "code",
      "execution_count": 14,
      "metadata": {
        "id": "GfWA8OylUjbB",
        "outputId": "86c09def-51d7-45d5-ad3a-95382b163de2",
        "colab": {
          "base_uri": "https://localhost:8080/"
        }
      },
      "outputs": [
        {
          "output_type": "stream",
          "name": "stdout",
          "text": [
            "<class 'pandas.core.frame.DataFrame'>\n",
            "RangeIndex: 202607 entries, 0 to 202606\n",
            "Data columns (total 4 columns):\n",
            " #   Column     Non-Null Count   Dtype  \n",
            "---  ------     --------------   -----  \n",
            " 0   id         202607 non-null  object \n",
            " 1   call_date  202607 non-null  object \n",
            " 2   duration   202607 non-null  float64\n",
            " 3   user_id    202607 non-null  int64  \n",
            "dtypes: float64(1), int64(1), object(2)\n",
            "memory usage: 6.2+ MB\n"
          ]
        }
      ],
      "source": [
        "# checking information \n",
        "calls.info()"
      ]
    },
    {
      "cell_type": "markdown",
      "metadata": {
        "id": "7f0hg_ObUjbB"
      },
      "source": [
        "The index and the number of rows in each column match - there are no missing values."
      ]
    },
    {
      "cell_type": "code",
      "execution_count": 15,
      "metadata": {
        "id": "St5_j7JQUjbC",
        "outputId": "5bfbc694-7c56-4b79-f26d-d286291dcb2f",
        "colab": {
          "base_uri": "https://localhost:8080/",
          "height": 363
        }
      },
      "outputs": [
        {
          "output_type": "execute_result",
          "data": {
            "text/plain": [
              "              id   call_date  duration  user_id\n",
              "137707  1352_431  2018-12-25      0.00     1352\n",
              "59593   1149_111  2018-06-29      7.64     1149\n",
              "42023   1102_450  2018-10-03      7.51     1102\n",
              "190625  1469_244  2018-07-29      9.99     1469\n",
              "15005     1040_4  2018-07-12     17.29     1040\n",
              "71837   1179_109  2018-07-31      2.62     1179\n",
              "175620  1433_519  2018-08-22     10.79     1433\n",
              "201078  1495_465  2018-12-28      0.00     1495\n",
              "124592   1321_42  2018-10-29     12.09     1321\n",
              "125641  1323_164  2018-09-17      1.21     1323"
            ],
            "text/html": [
              "\n",
              "  <div id=\"df-6c32493e-e02e-4d33-9e14-6296962fc07a\">\n",
              "    <div class=\"colab-df-container\">\n",
              "      <div>\n",
              "<style scoped>\n",
              "    .dataframe tbody tr th:only-of-type {\n",
              "        vertical-align: middle;\n",
              "    }\n",
              "\n",
              "    .dataframe tbody tr th {\n",
              "        vertical-align: top;\n",
              "    }\n",
              "\n",
              "    .dataframe thead th {\n",
              "        text-align: right;\n",
              "    }\n",
              "</style>\n",
              "<table border=\"1\" class=\"dataframe\">\n",
              "  <thead>\n",
              "    <tr style=\"text-align: right;\">\n",
              "      <th></th>\n",
              "      <th>id</th>\n",
              "      <th>call_date</th>\n",
              "      <th>duration</th>\n",
              "      <th>user_id</th>\n",
              "    </tr>\n",
              "  </thead>\n",
              "  <tbody>\n",
              "    <tr>\n",
              "      <th>137707</th>\n",
              "      <td>1352_431</td>\n",
              "      <td>2018-12-25</td>\n",
              "      <td>0.00</td>\n",
              "      <td>1352</td>\n",
              "    </tr>\n",
              "    <tr>\n",
              "      <th>59593</th>\n",
              "      <td>1149_111</td>\n",
              "      <td>2018-06-29</td>\n",
              "      <td>7.64</td>\n",
              "      <td>1149</td>\n",
              "    </tr>\n",
              "    <tr>\n",
              "      <th>42023</th>\n",
              "      <td>1102_450</td>\n",
              "      <td>2018-10-03</td>\n",
              "      <td>7.51</td>\n",
              "      <td>1102</td>\n",
              "    </tr>\n",
              "    <tr>\n",
              "      <th>190625</th>\n",
              "      <td>1469_244</td>\n",
              "      <td>2018-07-29</td>\n",
              "      <td>9.99</td>\n",
              "      <td>1469</td>\n",
              "    </tr>\n",
              "    <tr>\n",
              "      <th>15005</th>\n",
              "      <td>1040_4</td>\n",
              "      <td>2018-07-12</td>\n",
              "      <td>17.29</td>\n",
              "      <td>1040</td>\n",
              "    </tr>\n",
              "    <tr>\n",
              "      <th>71837</th>\n",
              "      <td>1179_109</td>\n",
              "      <td>2018-07-31</td>\n",
              "      <td>2.62</td>\n",
              "      <td>1179</td>\n",
              "    </tr>\n",
              "    <tr>\n",
              "      <th>175620</th>\n",
              "      <td>1433_519</td>\n",
              "      <td>2018-08-22</td>\n",
              "      <td>10.79</td>\n",
              "      <td>1433</td>\n",
              "    </tr>\n",
              "    <tr>\n",
              "      <th>201078</th>\n",
              "      <td>1495_465</td>\n",
              "      <td>2018-12-28</td>\n",
              "      <td>0.00</td>\n",
              "      <td>1495</td>\n",
              "    </tr>\n",
              "    <tr>\n",
              "      <th>124592</th>\n",
              "      <td>1321_42</td>\n",
              "      <td>2018-10-29</td>\n",
              "      <td>12.09</td>\n",
              "      <td>1321</td>\n",
              "    </tr>\n",
              "    <tr>\n",
              "      <th>125641</th>\n",
              "      <td>1323_164</td>\n",
              "      <td>2018-09-17</td>\n",
              "      <td>1.21</td>\n",
              "      <td>1323</td>\n",
              "    </tr>\n",
              "  </tbody>\n",
              "</table>\n",
              "</div>\n",
              "      <button class=\"colab-df-convert\" onclick=\"convertToInteractive('df-6c32493e-e02e-4d33-9e14-6296962fc07a')\"\n",
              "              title=\"Convert this dataframe to an interactive table.\"\n",
              "              style=\"display:none;\">\n",
              "        \n",
              "  <svg xmlns=\"http://www.w3.org/2000/svg\" height=\"24px\"viewBox=\"0 0 24 24\"\n",
              "       width=\"24px\">\n",
              "    <path d=\"M0 0h24v24H0V0z\" fill=\"none\"/>\n",
              "    <path d=\"M18.56 5.44l.94 2.06.94-2.06 2.06-.94-2.06-.94-.94-2.06-.94 2.06-2.06.94zm-11 1L8.5 8.5l.94-2.06 2.06-.94-2.06-.94L8.5 2.5l-.94 2.06-2.06.94zm10 10l.94 2.06.94-2.06 2.06-.94-2.06-.94-.94-2.06-.94 2.06-2.06.94z\"/><path d=\"M17.41 7.96l-1.37-1.37c-.4-.4-.92-.59-1.43-.59-.52 0-1.04.2-1.43.59L10.3 9.45l-7.72 7.72c-.78.78-.78 2.05 0 2.83L4 21.41c.39.39.9.59 1.41.59.51 0 1.02-.2 1.41-.59l7.78-7.78 2.81-2.81c.8-.78.8-2.07 0-2.86zM5.41 20L4 18.59l7.72-7.72 1.47 1.35L5.41 20z\"/>\n",
              "  </svg>\n",
              "      </button>\n",
              "      \n",
              "  <style>\n",
              "    .colab-df-container {\n",
              "      display:flex;\n",
              "      flex-wrap:wrap;\n",
              "      gap: 12px;\n",
              "    }\n",
              "\n",
              "    .colab-df-convert {\n",
              "      background-color: #E8F0FE;\n",
              "      border: none;\n",
              "      border-radius: 50%;\n",
              "      cursor: pointer;\n",
              "      display: none;\n",
              "      fill: #1967D2;\n",
              "      height: 32px;\n",
              "      padding: 0 0 0 0;\n",
              "      width: 32px;\n",
              "    }\n",
              "\n",
              "    .colab-df-convert:hover {\n",
              "      background-color: #E2EBFA;\n",
              "      box-shadow: 0px 1px 2px rgba(60, 64, 67, 0.3), 0px 1px 3px 1px rgba(60, 64, 67, 0.15);\n",
              "      fill: #174EA6;\n",
              "    }\n",
              "\n",
              "    [theme=dark] .colab-df-convert {\n",
              "      background-color: #3B4455;\n",
              "      fill: #D2E3FC;\n",
              "    }\n",
              "\n",
              "    [theme=dark] .colab-df-convert:hover {\n",
              "      background-color: #434B5C;\n",
              "      box-shadow: 0px 1px 3px 1px rgba(0, 0, 0, 0.15);\n",
              "      filter: drop-shadow(0px 1px 2px rgba(0, 0, 0, 0.3));\n",
              "      fill: #FFFFFF;\n",
              "    }\n",
              "  </style>\n",
              "\n",
              "      <script>\n",
              "        const buttonEl =\n",
              "          document.querySelector('#df-6c32493e-e02e-4d33-9e14-6296962fc07a button.colab-df-convert');\n",
              "        buttonEl.style.display =\n",
              "          google.colab.kernel.accessAllowed ? 'block' : 'none';\n",
              "\n",
              "        async function convertToInteractive(key) {\n",
              "          const element = document.querySelector('#df-6c32493e-e02e-4d33-9e14-6296962fc07a');\n",
              "          const dataTable =\n",
              "            await google.colab.kernel.invokeFunction('convertToInteractive',\n",
              "                                                     [key], {});\n",
              "          if (!dataTable) return;\n",
              "\n",
              "          const docLinkHtml = 'Like what you see? Visit the ' +\n",
              "            '<a target=\"_blank\" href=https://colab.research.google.com/notebooks/data_table.ipynb>data table notebook</a>'\n",
              "            + ' to learn more about interactive tables.';\n",
              "          element.innerHTML = '';\n",
              "          dataTable['output_type'] = 'display_data';\n",
              "          await google.colab.output.renderOutput(dataTable, element);\n",
              "          const docLink = document.createElement('div');\n",
              "          docLink.innerHTML = docLinkHtml;\n",
              "          element.appendChild(docLink);\n",
              "        }\n",
              "      </script>\n",
              "    </div>\n",
              "  </div>\n",
              "  "
            ]
          },
          "metadata": {},
          "execution_count": 15
        }
      ],
      "source": [
        "# visual check\n",
        "calls.sample(10)"
      ]
    },
    {
      "cell_type": "code",
      "execution_count": 16,
      "metadata": {
        "id": "s-XyzS2DUjbC",
        "outputId": "c6019fc0-b503-4b5b-a11b-426567b33555",
        "colab": {
          "base_uri": "https://localhost:8080/"
        }
      },
      "outputs": [
        {
          "output_type": "execute_result",
          "data": {
            "text/plain": [
              "0"
            ]
          },
          "metadata": {},
          "execution_count": 16
        }
      ],
      "source": [
        "# checking for duplicates\n",
        "calls.duplicated().sum()"
      ]
    },
    {
      "cell_type": "markdown",
      "metadata": {
        "id": "sijV1eZ1UjbC"
      },
      "source": [
        "From the information about the table, I see that `call_date` has a data type `object`, which needs to be replaced with `datetime`:\n"
      ]
    },
    {
      "cell_type": "code",
      "execution_count": 17,
      "metadata": {
        "id": "0vNy0qF6UjbC"
      },
      "outputs": [],
      "source": [
        "# changing the data type from  object to datetime:\n",
        "calls['call_date'] = pd.to_datetime(calls['call_date'], format=\"%Y-%m-%d\")"
      ]
    },
    {
      "cell_type": "markdown",
      "metadata": {
        "id": "55IciQNFUjbC"
      },
      "source": [
        "In the table, there are many calls with a duration of 0.00. In our conditions, it is stated that the operator always rounds up the values of minutes, not down. This means that calls with a duration of 0.00 cannot be calls that lasted less than a minute. Most likely, these are calls that failed or calls that the customer did not accept (did not pick up the phone). To decide what to do with them, I look at the number of such calls and how it will look on the histogram (it's more visual this way)."
      ]
    },
    {
      "cell_type": "code",
      "execution_count": 18,
      "metadata": {
        "id": "eldSNAf3UjbC",
        "outputId": "c370883b-2ab6-43b9-c31e-628814254e8f",
        "colab": {
          "base_uri": "https://localhost:8080/"
        }
      },
      "outputs": [
        {
          "output_type": "execute_result",
          "data": {
            "text/plain": [
              "id           39613\n",
              "call_date    39613\n",
              "duration     39613\n",
              "user_id      39613\n",
              "dtype: int64"
            ]
          },
          "metadata": {},
          "execution_count": 18
        }
      ],
      "source": [
        "# total nuber of 0 00 calls\n",
        "calls.query('duration == 0.0').count()"
      ]
    },
    {
      "cell_type": "code",
      "execution_count": 19,
      "metadata": {
        "id": "GbnQ5WRhUjbC",
        "outputId": "af3506be-aa69-4867-ab15-5fc8a83e8980",
        "colab": {
          "base_uri": "https://localhost:8080/",
          "height": 801
        }
      },
      "outputs": [
        {
          "output_type": "display_data",
          "data": {
            "text/plain": [
              "<Figure size 900x900 with 1 Axes>"
            ],
            "image/png": "[encoded data removed]"
          },
          "metadata": {}
        }
      ],
      "source": [
        "# hist visualisation of 0 00 calls\n",
        "calls['duration'].plot(kind='hist', ec='black',  bins=100, figsize=(9, 9), grid=True)\n",
        "plt.xlabel('Call length', fontsize=15)\n",
        "plt.ylabel('Frequency', fontsize=15)\n",
        "plt.xlim([0, 30])\n",
        "plt.title('0.00 calls')\n",
        "plt.show()\n"
      ]
    },
    {
      "cell_type": "markdown",
      "metadata": {
        "id": "GvswcKpfUjbC"
      },
      "source": [
        "There are too many zero values, they will affect the average value and results in further analysis. Moreover, the operator will not receive any revenue for calls with a duration of 0.00 minutes, so I delete such values from the table"
      ]
    },
    {
      "cell_type": "code",
      "execution_count": 20,
      "metadata": {
        "id": "V1ttQ6mbUjbD"
      },
      "outputs": [],
      "source": [
        "# renoving 0 00 values from the table\n",
        "calls['duration'] = calls['duration'].replace(0, np.NaN)\n",
        "calls = calls.dropna()\n"
      ]
    },
    {
      "cell_type": "code",
      "execution_count": 21,
      "metadata": {
        "id": "w7H6KXqWUjbD",
        "outputId": "c0f41eae-d468-4cf1-8043-1dd3609cf1de",
        "colab": {
          "base_uri": "https://localhost:8080/",
          "height": 801
        }
      },
      "outputs": [
        {
          "output_type": "display_data",
          "data": {
            "text/plain": [
              "<Figure size 900x900 with 1 Axes>"
            ],
            "image/png": "[encoded data removed]"
          },
          "metadata": {}
        }
      ],
      "source": [
        "# checking the hist visualisation \n",
        "calls['duration'].plot(kind='hist', ec='black', bins=50, figsize=(9, 9), grid=True)\n",
        "plt.xlabel('Call length', fontsize=15)\n",
        "plt.ylabel('Frequency', fontsize=15)\n",
        "plt.xlim([0, 30])\n",
        "plt.title('Calls length')\n",
        "plt.show()"
      ]
    },
    {
      "cell_type": "markdown",
      "metadata": {
        "id": "z0B2YbieUjbM"
      },
      "source": [
        "\n",
        "There are no zeros that stand out from the overall distribution, but there are many near-zero values. To understand what is happening, I check the minimum value in the column."
      ]
    },
    {
      "cell_type": "code",
      "execution_count": 22,
      "metadata": {
        "id": "09oV4bJHUjbM",
        "outputId": "724187e2-6fd3-4db7-fcda-278b80edd211",
        "colab": {
          "base_uri": "https://localhost:8080/"
        }
      },
      "outputs": [
        {
          "output_type": "execute_result",
          "data": {
            "text/plain": [
              "0.01"
            ]
          },
          "metadata": {},
          "execution_count": 22
        }
      ],
      "source": [
        "# checking the minimal value in the column\n",
        "calls['duration'].min()"
      ]
    },
    {
      "cell_type": "markdown",
      "metadata": {
        "id": "yRP99rWYUjbN"
      },
      "source": [
        "\n",
        "Since we know that the operator will round up values like 0.01 to a minute, we round up all values in the column to an integer and change the data type so there is no floating point."
      ]
    },
    {
      "cell_type": "code",
      "execution_count": 97,
      "metadata": {
        "id": "WupOp-06UjbN"
      },
      "outputs": [],
      "source": [
        "# rounding up and changing the data type\n",
        "calls['duration'] = calls['duration'].apply(np.ceil).astype(int)"
      ]
    },
    {
      "cell_type": "code",
      "execution_count": 98,
      "metadata": {
        "id": "fQPNYz9HUjbN",
        "outputId": "b63f8ae0-f8a6-4927-c15a-afe47b57e0a5",
        "colab": {
          "base_uri": "https://localhost:8080/",
          "height": 801
        }
      },
      "outputs": [
        {
          "output_type": "display_data",
          "data": {
            "text/plain": [
              "<Figure size 900x900 with 1 Axes>"
            ],
            "image/png": "[encoded data removed]"
          },
          "metadata": {}
        }
      ],
      "source": [
        "# now cheking the looks again\n",
        "calls['duration'].plot(kind='hist', ec='black', bins=50, figsize=(9, 9), grid=True)\n",
        "plt.xlabel('Call length', fontsize=15)\n",
        "plt.ylabel('Frequency', fontsize=15)\n",
        "plt.xlim([0, 30])\n",
        "plt.title('Calls length')\n",
        "plt.show()"
      ]
    },
    {
      "cell_type": "markdown",
      "metadata": {
        "id": "UT-V91ttUjbN"
      },
      "source": [
        "The histogram shows that there are no calls with a duration of 0 or close to 0."
      ]
    },
    {
      "cell_type": "markdown",
      "metadata": {
        "id": "5RUULFJyUjbN"
      },
      "source": [
        "## Messages "
      ]
    },
    {
      "cell_type": "markdown",
      "metadata": {
        "id": "8g_kDOREUjbN"
      },
      "source": [
        "The `messages` table contains information about calls - id, quantity, date, etc:\n"
      ]
    },
    {
      "cell_type": "code",
      "execution_count": 25,
      "metadata": {
        "id": "og89FsyYUjbO",
        "outputId": "7f1628aa-71ef-42d4-ab1e-5d7a66c96cd7",
        "colab": {
          "base_uri": "https://localhost:8080/"
        }
      },
      "outputs": [
        {
          "output_type": "stream",
          "name": "stdout",
          "text": [
            "<class 'pandas.core.frame.DataFrame'>\n",
            "RangeIndex: 123036 entries, 0 to 123035\n",
            "Data columns (total 3 columns):\n",
            " #   Column        Non-Null Count   Dtype \n",
            "---  ------        --------------   ----- \n",
            " 0   id            123036 non-null  object\n",
            " 1   message_date  123036 non-null  object\n",
            " 2   user_id       123036 non-null  int64 \n",
            "dtypes: int64(1), object(2)\n",
            "memory usage: 2.8+ MB\n"
          ]
        }
      ],
      "source": [
        "# checking table info\n",
        "messages.info()"
      ]
    },
    {
      "cell_type": "markdown",
      "metadata": {
        "id": "nbDyvybkUjbO"
      },
      "source": [
        "The index and the number of rows in each column match - there are no missing values."
      ]
    },
    {
      "cell_type": "code",
      "execution_count": 26,
      "metadata": {
        "id": "EfBlhn8NUjbO",
        "outputId": "51cc9a9b-bba2-497e-ca60-688764459f2e",
        "colab": {
          "base_uri": "https://localhost:8080/",
          "height": 363
        }
      },
      "outputs": [
        {
          "output_type": "execute_result",
          "data": {
            "text/plain": [
              "              id message_date  user_id\n",
              "90582   1375_382   2018-03-13     1375\n",
              "45819   1197_149   2018-06-18     1197\n",
              "42481   1183_124   2018-12-27     1183\n",
              "97354    1399_56   2018-11-13     1399\n",
              "107011  1431_753   2018-08-27     1431\n",
              "72938    1309_74   2018-11-18     1309\n",
              "102588    1418_6   2018-10-28     1418\n",
              "25465   1104_657   2018-07-09     1104\n",
              "59611   1262_102   2018-06-05     1262\n",
              "95941   1393_515   2018-08-01     1393"
            ],
            "text/html": [
              "\n",
              "  <div id=\"df-37aea2cf-c972-4609-8b56-f9fc7a2bfc21\">\n",
              "    <div class=\"colab-df-container\">\n",
              "      <div>\n",
              "<style scoped>\n",
              "    .dataframe tbody tr th:only-of-type {\n",
              "        vertical-align: middle;\n",
              "    }\n",
              "\n",
              "    .dataframe tbody tr th {\n",
              "        vertical-align: top;\n",
              "    }\n",
              "\n",
              "    .dataframe thead th {\n",
              "        text-align: right;\n",
              "    }\n",
              "</style>\n",
              "<table border=\"1\" class=\"dataframe\">\n",
              "  <thead>\n",
              "    <tr style=\"text-align: right;\">\n",
              "      <th></th>\n",
              "      <th>id</th>\n",
              "      <th>message_date</th>\n",
              "      <th>user_id</th>\n",
              "    </tr>\n",
              "  </thead>\n",
              "  <tbody>\n",
              "    <tr>\n",
              "      <th>90582</th>\n",
              "      <td>1375_382</td>\n",
              "      <td>2018-03-13</td>\n",
              "      <td>1375</td>\n",
              "    </tr>\n",
              "    <tr>\n",
              "      <th>45819</th>\n",
              "      <td>1197_149</td>\n",
              "      <td>2018-06-18</td>\n",
              "      <td>1197</td>\n",
              "    </tr>\n",
              "    <tr>\n",
              "      <th>42481</th>\n",
              "      <td>1183_124</td>\n",
              "      <td>2018-12-27</td>\n",
              "      <td>1183</td>\n",
              "    </tr>\n",
              "    <tr>\n",
              "      <th>97354</th>\n",
              "      <td>1399_56</td>\n",
              "      <td>2018-11-13</td>\n",
              "      <td>1399</td>\n",
              "    </tr>\n",
              "    <tr>\n",
              "      <th>107011</th>\n",
              "      <td>1431_753</td>\n",
              "      <td>2018-08-27</td>\n",
              "      <td>1431</td>\n",
              "    </tr>\n",
              "    <tr>\n",
              "      <th>72938</th>\n",
              "      <td>1309_74</td>\n",
              "      <td>2018-11-18</td>\n",
              "      <td>1309</td>\n",
              "    </tr>\n",
              "    <tr>\n",
              "      <th>102588</th>\n",
              "      <td>1418_6</td>\n",
              "      <td>2018-10-28</td>\n",
              "      <td>1418</td>\n",
              "    </tr>\n",
              "    <tr>\n",
              "      <th>25465</th>\n",
              "      <td>1104_657</td>\n",
              "      <td>2018-07-09</td>\n",
              "      <td>1104</td>\n",
              "    </tr>\n",
              "    <tr>\n",
              "      <th>59611</th>\n",
              "      <td>1262_102</td>\n",
              "      <td>2018-06-05</td>\n",
              "      <td>1262</td>\n",
              "    </tr>\n",
              "    <tr>\n",
              "      <th>95941</th>\n",
              "      <td>1393_515</td>\n",
              "      <td>2018-08-01</td>\n",
              "      <td>1393</td>\n",
              "    </tr>\n",
              "  </tbody>\n",
              "</table>\n",
              "</div>\n",
              "      <button class=\"colab-df-convert\" onclick=\"convertToInteractive('df-37aea2cf-c972-4609-8b56-f9fc7a2bfc21')\"\n",
              "              title=\"Convert this dataframe to an interactive table.\"\n",
              "              style=\"display:none;\">\n",
              "        \n",
              "  <svg xmlns=\"http://www.w3.org/2000/svg\" height=\"24px\"viewBox=\"0 0 24 24\"\n",
              "       width=\"24px\">\n",
              "    <path d=\"M0 0h24v24H0V0z\" fill=\"none\"/>\n",
              "    <path d=\"M18.56 5.44l.94 2.06.94-2.06 2.06-.94-2.06-.94-.94-2.06-.94 2.06-2.06.94zm-11 1L8.5 8.5l.94-2.06 2.06-.94-2.06-.94L8.5 2.5l-.94 2.06-2.06.94zm10 10l.94 2.06.94-2.06 2.06-.94-2.06-.94-.94-2.06-.94 2.06-2.06.94z\"/><path d=\"M17.41 7.96l-1.37-1.37c-.4-.4-.92-.59-1.43-.59-.52 0-1.04.2-1.43.59L10.3 9.45l-7.72 7.72c-.78.78-.78 2.05 0 2.83L4 21.41c.39.39.9.59 1.41.59.51 0 1.02-.2 1.41-.59l7.78-7.78 2.81-2.81c.8-.78.8-2.07 0-2.86zM5.41 20L4 18.59l7.72-7.72 1.47 1.35L5.41 20z\"/>\n",
              "  </svg>\n",
              "      </button>\n",
              "      \n",
              "  <style>\n",
              "    .colab-df-container {\n",
              "      display:flex;\n",
              "      flex-wrap:wrap;\n",
              "      gap: 12px;\n",
              "    }\n",
              "\n",
              "    .colab-df-convert {\n",
              "      background-color: #E8F0FE;\n",
              "      border: none;\n",
              "      border-radius: 50%;\n",
              "      cursor: pointer;\n",
              "      display: none;\n",
              "      fill: #1967D2;\n",
              "      height: 32px;\n",
              "      padding: 0 0 0 0;\n",
              "      width: 32px;\n",
              "    }\n",
              "\n",
              "    .colab-df-convert:hover {\n",
              "      background-color: #E2EBFA;\n",
              "      box-shadow: 0px 1px 2px rgba(60, 64, 67, 0.3), 0px 1px 3px 1px rgba(60, 64, 67, 0.15);\n",
              "      fill: #174EA6;\n",
              "    }\n",
              "\n",
              "    [theme=dark] .colab-df-convert {\n",
              "      background-color: #3B4455;\n",
              "      fill: #D2E3FC;\n",
              "    }\n",
              "\n",
              "    [theme=dark] .colab-df-convert:hover {\n",
              "      background-color: #434B5C;\n",
              "      box-shadow: 0px 1px 3px 1px rgba(0, 0, 0, 0.15);\n",
              "      filter: drop-shadow(0px 1px 2px rgba(0, 0, 0, 0.3));\n",
              "      fill: #FFFFFF;\n",
              "    }\n",
              "  </style>\n",
              "\n",
              "      <script>\n",
              "        const buttonEl =\n",
              "          document.querySelector('#df-37aea2cf-c972-4609-8b56-f9fc7a2bfc21 button.colab-df-convert');\n",
              "        buttonEl.style.display =\n",
              "          google.colab.kernel.accessAllowed ? 'block' : 'none';\n",
              "\n",
              "        async function convertToInteractive(key) {\n",
              "          const element = document.querySelector('#df-37aea2cf-c972-4609-8b56-f9fc7a2bfc21');\n",
              "          const dataTable =\n",
              "            await google.colab.kernel.invokeFunction('convertToInteractive',\n",
              "                                                     [key], {});\n",
              "          if (!dataTable) return;\n",
              "\n",
              "          const docLinkHtml = 'Like what you see? Visit the ' +\n",
              "            '<a target=\"_blank\" href=https://colab.research.google.com/notebooks/data_table.ipynb>data table notebook</a>'\n",
              "            + ' to learn more about interactive tables.';\n",
              "          element.innerHTML = '';\n",
              "          dataTable['output_type'] = 'display_data';\n",
              "          await google.colab.output.renderOutput(dataTable, element);\n",
              "          const docLink = document.createElement('div');\n",
              "          docLink.innerHTML = docLinkHtml;\n",
              "          element.appendChild(docLink);\n",
              "        }\n",
              "      </script>\n",
              "    </div>\n",
              "  </div>\n",
              "  "
            ]
          },
          "metadata": {},
          "execution_count": 26
        }
      ],
      "source": [
        "# visual check\n",
        "messages.sample(10)"
      ]
    },
    {
      "cell_type": "code",
      "execution_count": 27,
      "metadata": {
        "id": "Drne4MDMUjbO",
        "outputId": "636bf040-26c9-4f19-de82-1bf32094dfb1",
        "colab": {
          "base_uri": "https://localhost:8080/"
        }
      },
      "outputs": [
        {
          "output_type": "execute_result",
          "data": {
            "text/plain": [
              "0"
            ]
          },
          "metadata": {},
          "execution_count": 27
        }
      ],
      "source": [
        "# checking for duplicates\n",
        "messages.duplicated().sum()"
      ]
    },
    {
      "cell_type": "markdown",
      "metadata": {
        "id": "x432PviXUjbO"
      },
      "source": [
        "From the information about the table, I see that `message_date` has a data type `object`, which needs to be replaced with `datetime`:\n"
      ]
    },
    {
      "cell_type": "code",
      "execution_count": 99,
      "metadata": {
        "id": "PToCCQwTUjbO"
      },
      "outputs": [],
      "source": [
        "# changing data type from  object to datetime:\n",
        "messages['message_date'] = pd.to_datetime(messages['message_date'], format=\"%Y-%m-%d\")"
      ]
    },
    {
      "cell_type": "markdown",
      "metadata": {
        "id": "eSPoj-T8UjbO"
      },
      "source": [
        "## Internet"
      ]
    },
    {
      "cell_type": "markdown",
      "metadata": {
        "id": "jMq0Iq6kUjbO"
      },
      "source": [
        "Таблица `internet` содержит информация о объемах интернет траффика, которые использовали клиенты - id, дату сессии, количество трафика в мб и т.д:"
      ]
    },
    {
      "cell_type": "code",
      "execution_count": 29,
      "metadata": {
        "id": "IBqGNeZ5UjbP",
        "outputId": "ab49e866-d910-4694-f596-eea4217eff8d",
        "colab": {
          "base_uri": "https://localhost:8080/"
        }
      },
      "outputs": [
        {
          "output_type": "stream",
          "name": "stdout",
          "text": [
            "<class 'pandas.core.frame.DataFrame'>\n",
            "RangeIndex: 149396 entries, 0 to 149395\n",
            "Data columns (total 5 columns):\n",
            " #   Column        Non-Null Count   Dtype  \n",
            "---  ------        --------------   -----  \n",
            " 0   Unnamed: 0    149396 non-null  int64  \n",
            " 1   id            149396 non-null  object \n",
            " 2   mb_used       149396 non-null  float64\n",
            " 3   session_date  149396 non-null  object \n",
            " 4   user_id       149396 non-null  int64  \n",
            "dtypes: float64(1), int64(2), object(2)\n",
            "memory usage: 5.7+ MB\n"
          ]
        }
      ],
      "source": [
        "# проверяем информацию о таблице\n",
        "internet.info()"
      ]
    },
    {
      "cell_type": "markdown",
      "metadata": {
        "id": "2E1f3BU5UjbP"
      },
      "source": [
        "Индекс и количество строк в каждом столбце совпадают - пропусков нет."
      ]
    },
    {
      "cell_type": "code",
      "execution_count": 30,
      "metadata": {
        "id": "1jwsAXlfUjbP",
        "outputId": "778b43c6-abe8-45b0-cfbc-dc4a14ad8f3b",
        "colab": {
          "base_uri": "https://localhost:8080/",
          "height": 363
        }
      },
      "outputs": [
        {
          "output_type": "execute_result",
          "data": {
            "text/plain": [
              "        Unnamed: 0        id  mb_used session_date  user_id\n",
              "143925      143925  1481_279   639.39   2018-08-17     1481\n",
              "7876          7876  1027_203   238.33   2018-10-16     1027\n",
              "21094        21094  1071_211   220.13   2018-07-17     1071\n",
              "147193      147193  1492_143   128.90   2018-11-30     1492\n",
              "125804      125804  1423_261   129.08   2018-08-29     1423\n",
              "95056        95056  1321_320   470.63   2018-04-06     1321\n",
              "10894        10894   1037_51   637.15   2018-11-12     1037\n",
              "47187        47187  1161_207   250.35   2018-09-02     1161\n",
              "33199        33199  1116_240   593.62   2018-07-29     1116\n",
              "94182        94182  1318_196   380.43   2018-07-31     1318"
            ],
            "text/html": [
              "\n",
              "  <div id=\"df-94b65e02-9225-463a-b344-89aac876fd2c\">\n",
              "    <div class=\"colab-df-container\">\n",
              "      <div>\n",
              "<style scoped>\n",
              "    .dataframe tbody tr th:only-of-type {\n",
              "        vertical-align: middle;\n",
              "    }\n",
              "\n",
              "    .dataframe tbody tr th {\n",
              "        vertical-align: top;\n",
              "    }\n",
              "\n",
              "    .dataframe thead th {\n",
              "        text-align: right;\n",
              "    }\n",
              "</style>\n",
              "<table border=\"1\" class=\"dataframe\">\n",
              "  <thead>\n",
              "    <tr style=\"text-align: right;\">\n",
              "      <th></th>\n",
              "      <th>Unnamed: 0</th>\n",
              "      <th>id</th>\n",
              "      <th>mb_used</th>\n",
              "      <th>session_date</th>\n",
              "      <th>user_id</th>\n",
              "    </tr>\n",
              "  </thead>\n",
              "  <tbody>\n",
              "    <tr>\n",
              "      <th>143925</th>\n",
              "      <td>143925</td>\n",
              "      <td>1481_279</td>\n",
              "      <td>639.39</td>\n",
              "      <td>2018-08-17</td>\n",
              "      <td>1481</td>\n",
              "    </tr>\n",
              "    <tr>\n",
              "      <th>7876</th>\n",
              "      <td>7876</td>\n",
              "      <td>1027_203</td>\n",
              "      <td>238.33</td>\n",
              "      <td>2018-10-16</td>\n",
              "      <td>1027</td>\n",
              "    </tr>\n",
              "    <tr>\n",
              "      <th>21094</th>\n",
              "      <td>21094</td>\n",
              "      <td>1071_211</td>\n",
              "      <td>220.13</td>\n",
              "      <td>2018-07-17</td>\n",
              "      <td>1071</td>\n",
              "    </tr>\n",
              "    <tr>\n",
              "      <th>147193</th>\n",
              "      <td>147193</td>\n",
              "      <td>1492_143</td>\n",
              "      <td>128.90</td>\n",
              "      <td>2018-11-30</td>\n",
              "      <td>1492</td>\n",
              "    </tr>\n",
              "    <tr>\n",
              "      <th>125804</th>\n",
              "      <td>125804</td>\n",
              "      <td>1423_261</td>\n",
              "      <td>129.08</td>\n",
              "      <td>2018-08-29</td>\n",
              "      <td>1423</td>\n",
              "    </tr>\n",
              "    <tr>\n",
              "      <th>95056</th>\n",
              "      <td>95056</td>\n",
              "      <td>1321_320</td>\n",
              "      <td>470.63</td>\n",
              "      <td>2018-04-06</td>\n",
              "      <td>1321</td>\n",
              "    </tr>\n",
              "    <tr>\n",
              "      <th>10894</th>\n",
              "      <td>10894</td>\n",
              "      <td>1037_51</td>\n",
              "      <td>637.15</td>\n",
              "      <td>2018-11-12</td>\n",
              "      <td>1037</td>\n",
              "    </tr>\n",
              "    <tr>\n",
              "      <th>47187</th>\n",
              "      <td>47187</td>\n",
              "      <td>1161_207</td>\n",
              "      <td>250.35</td>\n",
              "      <td>2018-09-02</td>\n",
              "      <td>1161</td>\n",
              "    </tr>\n",
              "    <tr>\n",
              "      <th>33199</th>\n",
              "      <td>33199</td>\n",
              "      <td>1116_240</td>\n",
              "      <td>593.62</td>\n",
              "      <td>2018-07-29</td>\n",
              "      <td>1116</td>\n",
              "    </tr>\n",
              "    <tr>\n",
              "      <th>94182</th>\n",
              "      <td>94182</td>\n",
              "      <td>1318_196</td>\n",
              "      <td>380.43</td>\n",
              "      <td>2018-07-31</td>\n",
              "      <td>1318</td>\n",
              "    </tr>\n",
              "  </tbody>\n",
              "</table>\n",
              "</div>\n",
              "      <button class=\"colab-df-convert\" onclick=\"convertToInteractive('df-94b65e02-9225-463a-b344-89aac876fd2c')\"\n",
              "              title=\"Convert this dataframe to an interactive table.\"\n",
              "              style=\"display:none;\">\n",
              "        \n",
              "  <svg xmlns=\"http://www.w3.org/2000/svg\" height=\"24px\"viewBox=\"0 0 24 24\"\n",
              "       width=\"24px\">\n",
              "    <path d=\"M0 0h24v24H0V0z\" fill=\"none\"/>\n",
              "    <path d=\"M18.56 5.44l.94 2.06.94-2.06 2.06-.94-2.06-.94-.94-2.06-.94 2.06-2.06.94zm-11 1L8.5 8.5l.94-2.06 2.06-.94-2.06-.94L8.5 2.5l-.94 2.06-2.06.94zm10 10l.94 2.06.94-2.06 2.06-.94-2.06-.94-.94-2.06-.94 2.06-2.06.94z\"/><path d=\"M17.41 7.96l-1.37-1.37c-.4-.4-.92-.59-1.43-.59-.52 0-1.04.2-1.43.59L10.3 9.45l-7.72 7.72c-.78.78-.78 2.05 0 2.83L4 21.41c.39.39.9.59 1.41.59.51 0 1.02-.2 1.41-.59l7.78-7.78 2.81-2.81c.8-.78.8-2.07 0-2.86zM5.41 20L4 18.59l7.72-7.72 1.47 1.35L5.41 20z\"/>\n",
              "  </svg>\n",
              "      </button>\n",
              "      \n",
              "  <style>\n",
              "    .colab-df-container {\n",
              "      display:flex;\n",
              "      flex-wrap:wrap;\n",
              "      gap: 12px;\n",
              "    }\n",
              "\n",
              "    .colab-df-convert {\n",
              "      background-color: #E8F0FE;\n",
              "      border: none;\n",
              "      border-radius: 50%;\n",
              "      cursor: pointer;\n",
              "      display: none;\n",
              "      fill: #1967D2;\n",
              "      height: 32px;\n",
              "      padding: 0 0 0 0;\n",
              "      width: 32px;\n",
              "    }\n",
              "\n",
              "    .colab-df-convert:hover {\n",
              "      background-color: #E2EBFA;\n",
              "      box-shadow: 0px 1px 2px rgba(60, 64, 67, 0.3), 0px 1px 3px 1px rgba(60, 64, 67, 0.15);\n",
              "      fill: #174EA6;\n",
              "    }\n",
              "\n",
              "    [theme=dark] .colab-df-convert {\n",
              "      background-color: #3B4455;\n",
              "      fill: #D2E3FC;\n",
              "    }\n",
              "\n",
              "    [theme=dark] .colab-df-convert:hover {\n",
              "      background-color: #434B5C;\n",
              "      box-shadow: 0px 1px 3px 1px rgba(0, 0, 0, 0.15);\n",
              "      filter: drop-shadow(0px 1px 2px rgba(0, 0, 0, 0.3));\n",
              "      fill: #FFFFFF;\n",
              "    }\n",
              "  </style>\n",
              "\n",
              "      <script>\n",
              "        const buttonEl =\n",
              "          document.querySelector('#df-94b65e02-9225-463a-b344-89aac876fd2c button.colab-df-convert');\n",
              "        buttonEl.style.display =\n",
              "          google.colab.kernel.accessAllowed ? 'block' : 'none';\n",
              "\n",
              "        async function convertToInteractive(key) {\n",
              "          const element = document.querySelector('#df-94b65e02-9225-463a-b344-89aac876fd2c');\n",
              "          const dataTable =\n",
              "            await google.colab.kernel.invokeFunction('convertToInteractive',\n",
              "                                                     [key], {});\n",
              "          if (!dataTable) return;\n",
              "\n",
              "          const docLinkHtml = 'Like what you see? Visit the ' +\n",
              "            '<a target=\"_blank\" href=https://colab.research.google.com/notebooks/data_table.ipynb>data table notebook</a>'\n",
              "            + ' to learn more about interactive tables.';\n",
              "          element.innerHTML = '';\n",
              "          dataTable['output_type'] = 'display_data';\n",
              "          await google.colab.output.renderOutput(dataTable, element);\n",
              "          const docLink = document.createElement('div');\n",
              "          docLink.innerHTML = docLinkHtml;\n",
              "          element.appendChild(docLink);\n",
              "        }\n",
              "      </script>\n",
              "    </div>\n",
              "  </div>\n",
              "  "
            ]
          },
          "metadata": {},
          "execution_count": 30
        }
      ],
      "source": [
        "# проверяем визуально\n",
        "internet.sample(10)"
      ]
    },
    {
      "cell_type": "code",
      "execution_count": 31,
      "metadata": {
        "id": "WZ-p56R8UjbP",
        "outputId": "97525bd4-135b-4d43-eacc-45b621893eb6",
        "colab": {
          "base_uri": "https://localhost:8080/"
        }
      },
      "outputs": [
        {
          "output_type": "execute_result",
          "data": {
            "text/plain": [
              "0"
            ]
          },
          "metadata": {},
          "execution_count": 31
        }
      ],
      "source": [
        "#проверяю наличие дублей\n",
        "internet.duplicated().sum()"
      ]
    },
    {
      "cell_type": "markdown",
      "metadata": {
        "id": "juiIENo4UjbP"
      },
      "source": [
        "Из информации о таблице вижу, что `session_date` имеет тип даннхы `object`, который необходимо заменить на `datetime`:"
      ]
    },
    {
      "cell_type": "code",
      "execution_count": 32,
      "metadata": {
        "id": "YE5oNQ81UjbP"
      },
      "outputs": [],
      "source": [
        "# меняю тип данных с  object на datetime:\n",
        "internet['session_date'] = pd.to_datetime(internet['session_date'], format=\"%Y-%m-%d\")"
      ]
    },
    {
      "cell_type": "markdown",
      "metadata": {
        "id": "0Zc967pUUjbP"
      },
      "source": [
        "Проверяю таблицу на количество интернет сессий с 0.00 мб скачанных данных. \n",
        "\n",
        "Отсутсвие траффика при подключении значит, что сессия по каким-то причинам оборвалась сразу же после подключения или клиент не смог подключиться. Сессии с количеством 0.00 мб не могут быть сессиями, в которых было скачано менее 1 мб данных (помним про округление вверх). Чтобы решить, что с ними делать, смотрю на количество таких сессий и как это будет выглядеть на гистограмме (так нагляднее)."
      ]
    },
    {
      "cell_type": "code",
      "execution_count": 33,
      "metadata": {
        "id": "gmDOilXMUjbP",
        "outputId": "13ec0fae-e1cc-4c5e-8df4-e34dc41ff1e6",
        "colab": {
          "base_uri": "https://localhost:8080/"
        }
      },
      "outputs": [
        {
          "output_type": "execute_result",
          "data": {
            "text/plain": [
              "Unnamed: 0      19598\n",
              "id              19598\n",
              "mb_used         19598\n",
              "session_date    19598\n",
              "user_id         19598\n",
              "dtype: int64"
            ]
          },
          "metadata": {},
          "execution_count": 33
        }
      ],
      "source": [
        "#общее количество сессий \n",
        "internet.query('mb_used == 0.0').count()"
      ]
    },
    {
      "cell_type": "code",
      "execution_count": 34,
      "metadata": {
        "id": "UnUGfnKhUjbP",
        "outputId": "f3ceb911-5e3c-462e-d392-af7473ac81c4",
        "colab": {
          "base_uri": "https://localhost:8080/",
          "height": 779
        }
      },
      "outputs": [
        {
          "output_type": "display_data",
          "data": {
            "text/plain": [
              "<Figure size 900x900 with 1 Axes>"
            ],
            "image/png": "[encoded data removed]"
          },
          "metadata": {}
        }
      ],
      "source": [
        "# смотрю как это выглядит на гистограмме\n",
        "internet['mb_used'].plot(kind='hist', ec='black', bins=100, figsize=(9, 9), grid=True)\n",
        "plt.xlabel('Количество мб', fontsize=15)\n",
        "plt.ylabel('Частота упоминания', fontsize=15)\n",
        "plt.xlim([0, 1500])\n",
        "plt.show()"
      ]
    },
    {
      "cell_type": "markdown",
      "metadata": {
        "id": "LihmyBBUUjbQ"
      },
      "source": [
        "Нулевых значений слишком много, при дальнейшем анализе они будут влиять на среднее значение и результаты. К тому же, за сессии с 0.00 мб трафика оператор не получит никакой выручки, поэтому такие значения я удаляю из таблицы, а остальное округляю вверх."
      ]
    },
    {
      "cell_type": "code",
      "execution_count": 35,
      "metadata": {
        "id": "y0ZpBBuvUjbQ"
      },
      "outputs": [],
      "source": [
        "# округляем и меняем тип данных\n",
        "internet['mb_used'] = internet['mb_used'].apply(np.ceil).astype(int)"
      ]
    },
    {
      "cell_type": "code",
      "execution_count": 36,
      "metadata": {
        "id": "sv24WbP6UjbQ"
      },
      "outputs": [],
      "source": [
        "# удаляю нулевые значения из таблицы\n",
        "internet['mb_used'] = internet['mb_used'].replace(0, np.NaN)\n",
        "internet = internet.dropna()"
      ]
    },
    {
      "cell_type": "code",
      "execution_count": 37,
      "metadata": {
        "id": "YdWSHweYUjbQ",
        "outputId": "2af65ba5-0147-49e3-eeb7-081750c719ac",
        "colab": {
          "base_uri": "https://localhost:8080/",
          "height": 779
        }
      },
      "outputs": [
        {
          "output_type": "display_data",
          "data": {
            "text/plain": [
              "<Figure size 900x900 with 1 Axes>"
            ],
            "image/png": "[encoded data removed]"
          },
          "metadata": {}
        }
      ],
      "source": [
        "# смотрю как это выглядит на гистограмме\n",
        "internet['mb_used'].plot(kind='hist', ec='black', bins=50, figsize=(9, 9), grid=True)\n",
        "plt.xlabel('Количество мб', fontsize=15)\n",
        "plt.ylabel('Частота упоминания', fontsize=15)\n",
        "plt.xlim([0, 1500])\n",
        "plt.show()"
      ]
    },
    {
      "cell_type": "markdown",
      "metadata": {
        "id": "YTS6lgVQUjbQ"
      },
      "source": [
        "Выбивающихся из общего распределения нулей нет, но много около нулевых значений. Чтобы понять, что происходит проверяю минимальное значение в столбце:"
      ]
    },
    {
      "cell_type": "code",
      "execution_count": 38,
      "metadata": {
        "id": "al8eNTb1UjbR",
        "outputId": "5f9244e1-9222-4b9a-bd43-813e5dbecb02",
        "colab": {
          "base_uri": "https://localhost:8080/"
        }
      },
      "outputs": [
        {
          "output_type": "execute_result",
          "data": {
            "text/plain": [
              "1.0"
            ]
          },
          "metadata": {},
          "execution_count": 38
        }
      ],
      "source": [
        "# проверяю не равно ли минимальное значение 0\n",
        "internet['mb_used'].min()"
      ]
    },
    {
      "cell_type": "markdown",
      "metadata": {
        "id": "y--H9VxRUjbR"
      },
      "source": [
        "## <a name=\"tariffs-info\">Tariffs (информация о тарифах)</a>"
      ]
    },
    {
      "cell_type": "markdown",
      "metadata": {
        "id": "bEv7nNdoUjbR"
      },
      "source": [
        "Информация о двух тарифах:"
      ]
    },
    {
      "cell_type": "code",
      "execution_count": 39,
      "metadata": {
        "id": "1-E_Yq_ZUjbR",
        "outputId": "1575d31c-4128-478e-88ca-9d3a763e867e",
        "colab": {
          "base_uri": "https://localhost:8080/"
        }
      },
      "outputs": [
        {
          "output_type": "stream",
          "name": "stdout",
          "text": [
            "<class 'pandas.core.frame.DataFrame'>\n",
            "RangeIndex: 2 entries, 0 to 1\n",
            "Data columns (total 8 columns):\n",
            " #   Column                 Non-Null Count  Dtype \n",
            "---  ------                 --------------  ----- \n",
            " 0   messages_included      2 non-null      int64 \n",
            " 1   mb_per_month_included  2 non-null      int64 \n",
            " 2   minutes_included       2 non-null      int64 \n",
            " 3   rub_monthly_fee        2 non-null      int64 \n",
            " 4   rub_per_gb             2 non-null      int64 \n",
            " 5   rub_per_message        2 non-null      int64 \n",
            " 6   rub_per_minute         2 non-null      int64 \n",
            " 7   tariff_name            2 non-null      object\n",
            "dtypes: int64(7), object(1)\n",
            "memory usage: 256.0+ bytes\n"
          ]
        }
      ],
      "source": [
        "# проверяем информацию о датасете\n",
        "tariffs.info()"
      ]
    },
    {
      "cell_type": "code",
      "execution_count": 40,
      "metadata": {
        "id": "ZmQ3_tnyUjbR",
        "outputId": "19a248fd-4f08-4fc9-bea4-04875ffb8e32",
        "colab": {
          "base_uri": "https://localhost:8080/",
          "height": 112
        }
      },
      "outputs": [
        {
          "output_type": "execute_result",
          "data": {
            "text/plain": [
              "   messages_included  mb_per_month_included  minutes_included  \\\n",
              "0                 50                  15360               500   \n",
              "1               1000                  30720              3000   \n",
              "\n",
              "   rub_monthly_fee  rub_per_gb  rub_per_message  rub_per_minute tariff_name  \n",
              "0              550         200                3               3       smart  \n",
              "1             1950         150                1               1       ultra  "
            ],
            "text/html": [
              "\n",
              "  <div id=\"df-795c44a1-3e0e-4a1a-923f-2751de7a47f9\">\n",
              "    <div class=\"colab-df-container\">\n",
              "      <div>\n",
              "<style scoped>\n",
              "    .dataframe tbody tr th:only-of-type {\n",
              "        vertical-align: middle;\n",
              "    }\n",
              "\n",
              "    .dataframe tbody tr th {\n",
              "        vertical-align: top;\n",
              "    }\n",
              "\n",
              "    .dataframe thead th {\n",
              "        text-align: right;\n",
              "    }\n",
              "</style>\n",
              "<table border=\"1\" class=\"dataframe\">\n",
              "  <thead>\n",
              "    <tr style=\"text-align: right;\">\n",
              "      <th></th>\n",
              "      <th>messages_included</th>\n",
              "      <th>mb_per_month_included</th>\n",
              "      <th>minutes_included</th>\n",
              "      <th>rub_monthly_fee</th>\n",
              "      <th>rub_per_gb</th>\n",
              "      <th>rub_per_message</th>\n",
              "      <th>rub_per_minute</th>\n",
              "      <th>tariff_name</th>\n",
              "    </tr>\n",
              "  </thead>\n",
              "  <tbody>\n",
              "    <tr>\n",
              "      <th>0</th>\n",
              "      <td>50</td>\n",
              "      <td>15360</td>\n",
              "      <td>500</td>\n",
              "      <td>550</td>\n",
              "      <td>200</td>\n",
              "      <td>3</td>\n",
              "      <td>3</td>\n",
              "      <td>smart</td>\n",
              "    </tr>\n",
              "    <tr>\n",
              "      <th>1</th>\n",
              "      <td>1000</td>\n",
              "      <td>30720</td>\n",
              "      <td>3000</td>\n",
              "      <td>1950</td>\n",
              "      <td>150</td>\n",
              "      <td>1</td>\n",
              "      <td>1</td>\n",
              "      <td>ultra</td>\n",
              "    </tr>\n",
              "  </tbody>\n",
              "</table>\n",
              "</div>\n",
              "      <button class=\"colab-df-convert\" onclick=\"convertToInteractive('df-795c44a1-3e0e-4a1a-923f-2751de7a47f9')\"\n",
              "              title=\"Convert this dataframe to an interactive table.\"\n",
              "              style=\"display:none;\">\n",
              "        \n",
              "  <svg xmlns=\"http://www.w3.org/2000/svg\" height=\"24px\"viewBox=\"0 0 24 24\"\n",
              "       width=\"24px\">\n",
              "    <path d=\"M0 0h24v24H0V0z\" fill=\"none\"/>\n",
              "    <path d=\"M18.56 5.44l.94 2.06.94-2.06 2.06-.94-2.06-.94-.94-2.06-.94 2.06-2.06.94zm-11 1L8.5 8.5l.94-2.06 2.06-.94-2.06-.94L8.5 2.5l-.94 2.06-2.06.94zm10 10l.94 2.06.94-2.06 2.06-.94-2.06-.94-.94-2.06-.94 2.06-2.06.94z\"/><path d=\"M17.41 7.96l-1.37-1.37c-.4-.4-.92-.59-1.43-.59-.52 0-1.04.2-1.43.59L10.3 9.45l-7.72 7.72c-.78.78-.78 2.05 0 2.83L4 21.41c.39.39.9.59 1.41.59.51 0 1.02-.2 1.41-.59l7.78-7.78 2.81-2.81c.8-.78.8-2.07 0-2.86zM5.41 20L4 18.59l7.72-7.72 1.47 1.35L5.41 20z\"/>\n",
              "  </svg>\n",
              "      </button>\n",
              "      \n",
              "  <style>\n",
              "    .colab-df-container {\n",
              "      display:flex;\n",
              "      flex-wrap:wrap;\n",
              "      gap: 12px;\n",
              "    }\n",
              "\n",
              "    .colab-df-convert {\n",
              "      background-color: #E8F0FE;\n",
              "      border: none;\n",
              "      border-radius: 50%;\n",
              "      cursor: pointer;\n",
              "      display: none;\n",
              "      fill: #1967D2;\n",
              "      height: 32px;\n",
              "      padding: 0 0 0 0;\n",
              "      width: 32px;\n",
              "    }\n",
              "\n",
              "    .colab-df-convert:hover {\n",
              "      background-color: #E2EBFA;\n",
              "      box-shadow: 0px 1px 2px rgba(60, 64, 67, 0.3), 0px 1px 3px 1px rgba(60, 64, 67, 0.15);\n",
              "      fill: #174EA6;\n",
              "    }\n",
              "\n",
              "    [theme=dark] .colab-df-convert {\n",
              "      background-color: #3B4455;\n",
              "      fill: #D2E3FC;\n",
              "    }\n",
              "\n",
              "    [theme=dark] .colab-df-convert:hover {\n",
              "      background-color: #434B5C;\n",
              "      box-shadow: 0px 1px 3px 1px rgba(0, 0, 0, 0.15);\n",
              "      filter: drop-shadow(0px 1px 2px rgba(0, 0, 0, 0.3));\n",
              "      fill: #FFFFFF;\n",
              "    }\n",
              "  </style>\n",
              "\n",
              "      <script>\n",
              "        const buttonEl =\n",
              "          document.querySelector('#df-795c44a1-3e0e-4a1a-923f-2751de7a47f9 button.colab-df-convert');\n",
              "        buttonEl.style.display =\n",
              "          google.colab.kernel.accessAllowed ? 'block' : 'none';\n",
              "\n",
              "        async function convertToInteractive(key) {\n",
              "          const element = document.querySelector('#df-795c44a1-3e0e-4a1a-923f-2751de7a47f9');\n",
              "          const dataTable =\n",
              "            await google.colab.kernel.invokeFunction('convertToInteractive',\n",
              "                                                     [key], {});\n",
              "          if (!dataTable) return;\n",
              "\n",
              "          const docLinkHtml = 'Like what you see? Visit the ' +\n",
              "            '<a target=\"_blank\" href=https://colab.research.google.com/notebooks/data_table.ipynb>data table notebook</a>'\n",
              "            + ' to learn more about interactive tables.';\n",
              "          element.innerHTML = '';\n",
              "          dataTable['output_type'] = 'display_data';\n",
              "          await google.colab.output.renderOutput(dataTable, element);\n",
              "          const docLink = document.createElement('div');\n",
              "          docLink.innerHTML = docLinkHtml;\n",
              "          element.appendChild(docLink);\n",
              "        }\n",
              "      </script>\n",
              "    </div>\n",
              "  </div>\n",
              "  "
            ]
          },
          "metadata": {},
          "execution_count": 40
        }
      ],
      "source": [
        "# проверяем визуально\n",
        "tariffs.head()"
      ]
    },
    {
      "cell_type": "code",
      "execution_count": 41,
      "metadata": {
        "id": "EkcMJ6liUjbR"
      },
      "outputs": [],
      "source": [
        "# меняю название столбца, чтобы проще было объединять таблицы\n",
        "tariffs.columns =['messages_included', 'mb_per_month_included', 'minutes_included', 'rub_monthly_fee', 'rub_per_gb', 'rub_per_message', 'rub_per_minute', 'tariff']"
      ]
    },
    {
      "cell_type": "markdown",
      "metadata": {
        "id": "-T_oPVFeUjbS"
      },
      "source": [
        "**Вывод:** Данные подготовленны к обработке, удалены пропуски и выбросы, исправленны типы данных, устранены прочие недочеты которые могли бы исказить результаты анализа."
      ]
    },
    {
      "cell_type": "markdown",
      "metadata": {
        "id": "BRDa-N1CUjbS"
      },
      "source": [
        "# <a name=\"clients-calculations\">Рассчеты использования тарифов клиентами (по месяцам)</a>"
      ]
    },
    {
      "cell_type": "markdown",
      "metadata": {
        "id": "H82AXNuyUjbS"
      },
      "source": [
        "## <a name=\"calls-info-02\">Calls (информация о звонках)</a>"
      ]
    },
    {
      "cell_type": "markdown",
      "metadata": {
        "id": "Dr0lgTi5UjbS"
      },
      "source": [
        "Сколько минут разговора требуется клиентам каждого тарифа в месяц. \n"
      ]
    },
    {
      "cell_type": "code",
      "execution_count": 42,
      "metadata": {
        "id": "QwaghDcYUjbS"
      },
      "outputs": [],
      "source": [
        "# Добавляю стобец с месяцем\n",
        "calls['month'] = pd.DatetimeIndex(calls['call_date']).month\n"
      ]
    },
    {
      "cell_type": "code",
      "execution_count": 43,
      "metadata": {
        "id": "Is7SoLN_UjbS",
        "outputId": "b092fe8e-42a2-4075-8f1b-c35c36cab5ed",
        "colab": {
          "base_uri": "https://localhost:8080/",
          "height": 363
        }
      },
      "outputs": [
        {
          "output_type": "execute_result",
          "data": {
            "text/plain": [
              "      user_id  month  duration  calls_amount\n",
              "2932     1463     11       248            25\n",
              "1042     1168      5      1232           142\n",
              "614      1098     11       540            58\n",
              "163      1025      5       552            59\n",
              "336      1054      8       605            68\n",
              "2443     1388     11       506            57\n",
              "773      1123      5       546            59\n",
              "1541     1247     10       361            47\n",
              "2555     1403      9        65             9\n",
              "2559     1404      4       105            13"
            ],
            "text/html": [
              "\n",
              "  <div id=\"df-a6630958-75dd-47d5-a2ae-f3d7a651325f\">\n",
              "    <div class=\"colab-df-container\">\n",
              "      <div>\n",
              "<style scoped>\n",
              "    .dataframe tbody tr th:only-of-type {\n",
              "        vertical-align: middle;\n",
              "    }\n",
              "\n",
              "    .dataframe tbody tr th {\n",
              "        vertical-align: top;\n",
              "    }\n",
              "\n",
              "    .dataframe thead th {\n",
              "        text-align: right;\n",
              "    }\n",
              "</style>\n",
              "<table border=\"1\" class=\"dataframe\">\n",
              "  <thead>\n",
              "    <tr style=\"text-align: right;\">\n",
              "      <th></th>\n",
              "      <th>user_id</th>\n",
              "      <th>month</th>\n",
              "      <th>duration</th>\n",
              "      <th>calls_amount</th>\n",
              "    </tr>\n",
              "  </thead>\n",
              "  <tbody>\n",
              "    <tr>\n",
              "      <th>2932</th>\n",
              "      <td>1463</td>\n",
              "      <td>11</td>\n",
              "      <td>248</td>\n",
              "      <td>25</td>\n",
              "    </tr>\n",
              "    <tr>\n",
              "      <th>1042</th>\n",
              "      <td>1168</td>\n",
              "      <td>5</td>\n",
              "      <td>1232</td>\n",
              "      <td>142</td>\n",
              "    </tr>\n",
              "    <tr>\n",
              "      <th>614</th>\n",
              "      <td>1098</td>\n",
              "      <td>11</td>\n",
              "      <td>540</td>\n",
              "      <td>58</td>\n",
              "    </tr>\n",
              "    <tr>\n",
              "      <th>163</th>\n",
              "      <td>1025</td>\n",
              "      <td>5</td>\n",
              "      <td>552</td>\n",
              "      <td>59</td>\n",
              "    </tr>\n",
              "    <tr>\n",
              "      <th>336</th>\n",
              "      <td>1054</td>\n",
              "      <td>8</td>\n",
              "      <td>605</td>\n",
              "      <td>68</td>\n",
              "    </tr>\n",
              "    <tr>\n",
              "      <th>2443</th>\n",
              "      <td>1388</td>\n",
              "      <td>11</td>\n",
              "      <td>506</td>\n",
              "      <td>57</td>\n",
              "    </tr>\n",
              "    <tr>\n",
              "      <th>773</th>\n",
              "      <td>1123</td>\n",
              "      <td>5</td>\n",
              "      <td>546</td>\n",
              "      <td>59</td>\n",
              "    </tr>\n",
              "    <tr>\n",
              "      <th>1541</th>\n",
              "      <td>1247</td>\n",
              "      <td>10</td>\n",
              "      <td>361</td>\n",
              "      <td>47</td>\n",
              "    </tr>\n",
              "    <tr>\n",
              "      <th>2555</th>\n",
              "      <td>1403</td>\n",
              "      <td>9</td>\n",
              "      <td>65</td>\n",
              "      <td>9</td>\n",
              "    </tr>\n",
              "    <tr>\n",
              "      <th>2559</th>\n",
              "      <td>1404</td>\n",
              "      <td>4</td>\n",
              "      <td>105</td>\n",
              "      <td>13</td>\n",
              "    </tr>\n",
              "  </tbody>\n",
              "</table>\n",
              "</div>\n",
              "      <button class=\"colab-df-convert\" onclick=\"convertToInteractive('df-a6630958-75dd-47d5-a2ae-f3d7a651325f')\"\n",
              "              title=\"Convert this dataframe to an interactive table.\"\n",
              "              style=\"display:none;\">\n",
              "        \n",
              "  <svg xmlns=\"http://www.w3.org/2000/svg\" height=\"24px\"viewBox=\"0 0 24 24\"\n",
              "       width=\"24px\">\n",
              "    <path d=\"M0 0h24v24H0V0z\" fill=\"none\"/>\n",
              "    <path d=\"M18.56 5.44l.94 2.06.94-2.06 2.06-.94-2.06-.94-.94-2.06-.94 2.06-2.06.94zm-11 1L8.5 8.5l.94-2.06 2.06-.94-2.06-.94L8.5 2.5l-.94 2.06-2.06.94zm10 10l.94 2.06.94-2.06 2.06-.94-2.06-.94-.94-2.06-.94 2.06-2.06.94z\"/><path d=\"M17.41 7.96l-1.37-1.37c-.4-.4-.92-.59-1.43-.59-.52 0-1.04.2-1.43.59L10.3 9.45l-7.72 7.72c-.78.78-.78 2.05 0 2.83L4 21.41c.39.39.9.59 1.41.59.51 0 1.02-.2 1.41-.59l7.78-7.78 2.81-2.81c.8-.78.8-2.07 0-2.86zM5.41 20L4 18.59l7.72-7.72 1.47 1.35L5.41 20z\"/>\n",
              "  </svg>\n",
              "      </button>\n",
              "      \n",
              "  <style>\n",
              "    .colab-df-container {\n",
              "      display:flex;\n",
              "      flex-wrap:wrap;\n",
              "      gap: 12px;\n",
              "    }\n",
              "\n",
              "    .colab-df-convert {\n",
              "      background-color: #E8F0FE;\n",
              "      border: none;\n",
              "      border-radius: 50%;\n",
              "      cursor: pointer;\n",
              "      display: none;\n",
              "      fill: #1967D2;\n",
              "      height: 32px;\n",
              "      padding: 0 0 0 0;\n",
              "      width: 32px;\n",
              "    }\n",
              "\n",
              "    .colab-df-convert:hover {\n",
              "      background-color: #E2EBFA;\n",
              "      box-shadow: 0px 1px 2px rgba(60, 64, 67, 0.3), 0px 1px 3px 1px rgba(60, 64, 67, 0.15);\n",
              "      fill: #174EA6;\n",
              "    }\n",
              "\n",
              "    [theme=dark] .colab-df-convert {\n",
              "      background-color: #3B4455;\n",
              "      fill: #D2E3FC;\n",
              "    }\n",
              "\n",
              "    [theme=dark] .colab-df-convert:hover {\n",
              "      background-color: #434B5C;\n",
              "      box-shadow: 0px 1px 3px 1px rgba(0, 0, 0, 0.15);\n",
              "      filter: drop-shadow(0px 1px 2px rgba(0, 0, 0, 0.3));\n",
              "      fill: #FFFFFF;\n",
              "    }\n",
              "  </style>\n",
              "\n",
              "      <script>\n",
              "        const buttonEl =\n",
              "          document.querySelector('#df-a6630958-75dd-47d5-a2ae-f3d7a651325f button.colab-df-convert');\n",
              "        buttonEl.style.display =\n",
              "          google.colab.kernel.accessAllowed ? 'block' : 'none';\n",
              "\n",
              "        async function convertToInteractive(key) {\n",
              "          const element = document.querySelector('#df-a6630958-75dd-47d5-a2ae-f3d7a651325f');\n",
              "          const dataTable =\n",
              "            await google.colab.kernel.invokeFunction('convertToInteractive',\n",
              "                                                     [key], {});\n",
              "          if (!dataTable) return;\n",
              "\n",
              "          const docLinkHtml = 'Like what you see? Visit the ' +\n",
              "            '<a target=\"_blank\" href=https://colab.research.google.com/notebooks/data_table.ipynb>data table notebook</a>'\n",
              "            + ' to learn more about interactive tables.';\n",
              "          element.innerHTML = '';\n",
              "          dataTable['output_type'] = 'display_data';\n",
              "          await google.colab.output.renderOutput(dataTable, element);\n",
              "          const docLink = document.createElement('div');\n",
              "          docLink.innerHTML = docLinkHtml;\n",
              "          element.appendChild(docLink);\n",
              "        }\n",
              "      </script>\n",
              "    </div>\n",
              "  </div>\n",
              "  "
            ]
          },
          "metadata": {},
          "execution_count": 43
        }
      ],
      "source": [
        "# создаю новую таблицу количеством и длительностью звонков для каждого клиента по месяцам\n",
        "calls_month = pd.pivot_table(calls, index=['user_id','month'],\n",
        "                                    values=['duration','id'],\n",
        "                                    aggfunc={'duration':sum,'id':'count'}\n",
        "                             ).reset_index()\n",
        "# меняем название столбцов\n",
        "calls_month.columns =['user_id', 'month', 'duration', 'calls_amount']\n",
        "\n",
        "#проверяем результат\n",
        "calls_month.sample(10)"
      ]
    },
    {
      "cell_type": "markdown",
      "metadata": {
        "id": "SP53KdxjUjbS"
      },
      "source": [
        "## <a name=\"messages-info-02\">Messages (информация о sms сообщениях)</a>"
      ]
    },
    {
      "cell_type": "markdown",
      "metadata": {
        "id": "C9-mLW83UjbT"
      },
      "source": [
        "Количество отправленных сообщений по месяцам."
      ]
    },
    {
      "cell_type": "code",
      "execution_count": 44,
      "metadata": {
        "id": "uN0e6prgUjbT"
      },
      "outputs": [],
      "source": [
        "# Добавляю стобец с месяцем \n",
        "messages['month'] = pd.DatetimeIndex(messages['message_date']).month\n"
      ]
    },
    {
      "cell_type": "code",
      "execution_count": 45,
      "metadata": {
        "id": "aQGqvhpKUjbT",
        "outputId": "588b77d2-02ec-4851-e7e5-99a14587197d",
        "colab": {
          "base_uri": "https://localhost:8080/",
          "height": 363
        }
      },
      "outputs": [
        {
          "output_type": "execute_result",
          "data": {
            "text/plain": [
              "      user_id  month  messages_amount\n",
              "746      1142      8               43\n",
              "763      1145      7              111\n",
              "2313     1426     12               69\n",
              "137      1025      8               28\n",
              "2358     1433     12               97\n",
              "537      1098      6                5\n",
              "2568     1475      2               20\n",
              "885      1168     10               38\n",
              "742      1142      4               24\n",
              "2517     1465      9               53"
            ],
            "text/html": [
              "\n",
              "  <div id=\"df-6ed9e403-063d-461e-a74b-64c06b87f539\">\n",
              "    <div class=\"colab-df-container\">\n",
              "      <div>\n",
              "<style scoped>\n",
              "    .dataframe tbody tr th:only-of-type {\n",
              "        vertical-align: middle;\n",
              "    }\n",
              "\n",
              "    .dataframe tbody tr th {\n",
              "        vertical-align: top;\n",
              "    }\n",
              "\n",
              "    .dataframe thead th {\n",
              "        text-align: right;\n",
              "    }\n",
              "</style>\n",
              "<table border=\"1\" class=\"dataframe\">\n",
              "  <thead>\n",
              "    <tr style=\"text-align: right;\">\n",
              "      <th></th>\n",
              "      <th>user_id</th>\n",
              "      <th>month</th>\n",
              "      <th>messages_amount</th>\n",
              "    </tr>\n",
              "  </thead>\n",
              "  <tbody>\n",
              "    <tr>\n",
              "      <th>746</th>\n",
              "      <td>1142</td>\n",
              "      <td>8</td>\n",
              "      <td>43</td>\n",
              "    </tr>\n",
              "    <tr>\n",
              "      <th>763</th>\n",
              "      <td>1145</td>\n",
              "      <td>7</td>\n",
              "      <td>111</td>\n",
              "    </tr>\n",
              "    <tr>\n",
              "      <th>2313</th>\n",
              "      <td>1426</td>\n",
              "      <td>12</td>\n",
              "      <td>69</td>\n",
              "    </tr>\n",
              "    <tr>\n",
              "      <th>137</th>\n",
              "      <td>1025</td>\n",
              "      <td>8</td>\n",
              "      <td>28</td>\n",
              "    </tr>\n",
              "    <tr>\n",
              "      <th>2358</th>\n",
              "      <td>1433</td>\n",
              "      <td>12</td>\n",
              "      <td>97</td>\n",
              "    </tr>\n",
              "    <tr>\n",
              "      <th>537</th>\n",
              "      <td>1098</td>\n",
              "      <td>6</td>\n",
              "      <td>5</td>\n",
              "    </tr>\n",
              "    <tr>\n",
              "      <th>2568</th>\n",
              "      <td>1475</td>\n",
              "      <td>2</td>\n",
              "      <td>20</td>\n",
              "    </tr>\n",
              "    <tr>\n",
              "      <th>885</th>\n",
              "      <td>1168</td>\n",
              "      <td>10</td>\n",
              "      <td>38</td>\n",
              "    </tr>\n",
              "    <tr>\n",
              "      <th>742</th>\n",
              "      <td>1142</td>\n",
              "      <td>4</td>\n",
              "      <td>24</td>\n",
              "    </tr>\n",
              "    <tr>\n",
              "      <th>2517</th>\n",
              "      <td>1465</td>\n",
              "      <td>9</td>\n",
              "      <td>53</td>\n",
              "    </tr>\n",
              "  </tbody>\n",
              "</table>\n",
              "</div>\n",
              "      <button class=\"colab-df-convert\" onclick=\"convertToInteractive('df-6ed9e403-063d-461e-a74b-64c06b87f539')\"\n",
              "              title=\"Convert this dataframe to an interactive table.\"\n",
              "              style=\"display:none;\">\n",
              "        \n",
              "  <svg xmlns=\"http://www.w3.org/2000/svg\" height=\"24px\"viewBox=\"0 0 24 24\"\n",
              "       width=\"24px\">\n",
              "    <path d=\"M0 0h24v24H0V0z\" fill=\"none\"/>\n",
              "    <path d=\"M18.56 5.44l.94 2.06.94-2.06 2.06-.94-2.06-.94-.94-2.06-.94 2.06-2.06.94zm-11 1L8.5 8.5l.94-2.06 2.06-.94-2.06-.94L8.5 2.5l-.94 2.06-2.06.94zm10 10l.94 2.06.94-2.06 2.06-.94-2.06-.94-.94-2.06-.94 2.06-2.06.94z\"/><path d=\"M17.41 7.96l-1.37-1.37c-.4-.4-.92-.59-1.43-.59-.52 0-1.04.2-1.43.59L10.3 9.45l-7.72 7.72c-.78.78-.78 2.05 0 2.83L4 21.41c.39.39.9.59 1.41.59.51 0 1.02-.2 1.41-.59l7.78-7.78 2.81-2.81c.8-.78.8-2.07 0-2.86zM5.41 20L4 18.59l7.72-7.72 1.47 1.35L5.41 20z\"/>\n",
              "  </svg>\n",
              "      </button>\n",
              "      \n",
              "  <style>\n",
              "    .colab-df-container {\n",
              "      display:flex;\n",
              "      flex-wrap:wrap;\n",
              "      gap: 12px;\n",
              "    }\n",
              "\n",
              "    .colab-df-convert {\n",
              "      background-color: #E8F0FE;\n",
              "      border: none;\n",
              "      border-radius: 50%;\n",
              "      cursor: pointer;\n",
              "      display: none;\n",
              "      fill: #1967D2;\n",
              "      height: 32px;\n",
              "      padding: 0 0 0 0;\n",
              "      width: 32px;\n",
              "    }\n",
              "\n",
              "    .colab-df-convert:hover {\n",
              "      background-color: #E2EBFA;\n",
              "      box-shadow: 0px 1px 2px rgba(60, 64, 67, 0.3), 0px 1px 3px 1px rgba(60, 64, 67, 0.15);\n",
              "      fill: #174EA6;\n",
              "    }\n",
              "\n",
              "    [theme=dark] .colab-df-convert {\n",
              "      background-color: #3B4455;\n",
              "      fill: #D2E3FC;\n",
              "    }\n",
              "\n",
              "    [theme=dark] .colab-df-convert:hover {\n",
              "      background-color: #434B5C;\n",
              "      box-shadow: 0px 1px 3px 1px rgba(0, 0, 0, 0.15);\n",
              "      filter: drop-shadow(0px 1px 2px rgba(0, 0, 0, 0.3));\n",
              "      fill: #FFFFFF;\n",
              "    }\n",
              "  </style>\n",
              "\n",
              "      <script>\n",
              "        const buttonEl =\n",
              "          document.querySelector('#df-6ed9e403-063d-461e-a74b-64c06b87f539 button.colab-df-convert');\n",
              "        buttonEl.style.display =\n",
              "          google.colab.kernel.accessAllowed ? 'block' : 'none';\n",
              "\n",
              "        async function convertToInteractive(key) {\n",
              "          const element = document.querySelector('#df-6ed9e403-063d-461e-a74b-64c06b87f539');\n",
              "          const dataTable =\n",
              "            await google.colab.kernel.invokeFunction('convertToInteractive',\n",
              "                                                     [key], {});\n",
              "          if (!dataTable) return;\n",
              "\n",
              "          const docLinkHtml = 'Like what you see? Visit the ' +\n",
              "            '<a target=\"_blank\" href=https://colab.research.google.com/notebooks/data_table.ipynb>data table notebook</a>'\n",
              "            + ' to learn more about interactive tables.';\n",
              "          element.innerHTML = '';\n",
              "          dataTable['output_type'] = 'display_data';\n",
              "          await google.colab.output.renderOutput(dataTable, element);\n",
              "          const docLink = document.createElement('div');\n",
              "          docLink.innerHTML = docLinkHtml;\n",
              "          element.appendChild(docLink);\n",
              "        }\n",
              "      </script>\n",
              "    </div>\n",
              "  </div>\n",
              "  "
            ]
          },
          "metadata": {},
          "execution_count": 45
        }
      ],
      "source": [
        "# создаю новую таблицу количеством сообщений для каждого клиента по месяцам\n",
        "messages_month = pd.pivot_table(messages, index=['user_id','month'],\n",
        "                                          values='id',\n",
        "                                          aggfunc='count'\n",
        "                                ).reset_index()\n",
        "\n",
        "# меняем название столбцов\n",
        "messages_month.columns =['user_id', 'month', 'messages_amount']\n",
        "\n",
        "#проверяем результат\n",
        "messages_month.sample(10)"
      ]
    },
    {
      "cell_type": "markdown",
      "metadata": {
        "id": "v7DCzGPhUjbT"
      },
      "source": [
        "## <a name=\"internet-info-02\">Internet (информация об использовании интернета)</a>"
      ]
    },
    {
      "cell_type": "markdown",
      "metadata": {
        "id": "VzNRBYM6UjbT"
      },
      "source": [
        "Количество трафика по месяцам."
      ]
    },
    {
      "cell_type": "code",
      "execution_count": 46,
      "metadata": {
        "id": "DyVsINK-UjbT"
      },
      "outputs": [],
      "source": [
        "# Добавляю стобец с месяцем\n",
        "internet['month'] = pd.DatetimeIndex(internet['session_date']).month\n"
      ]
    },
    {
      "cell_type": "code",
      "execution_count": 47,
      "metadata": {
        "id": "WhvMN84iUjbT",
        "outputId": "df3cd620-391e-4f80-fa9e-fb9d322cef49",
        "colab": {
          "base_uri": "https://localhost:8080/",
          "height": 363
        }
      },
      "outputs": [
        {
          "output_type": "execute_result",
          "data": {
            "text/plain": [
              "      user_id  month  mb_used\n",
              "3103     1482      5  12464.0\n",
              "29       1004     12  18038.0\n",
              "2163     1341     11  31224.0\n",
              "2397     1378     11  10476.0\n",
              "2966     1464     12  31600.0\n",
              "1277     1200      5  18717.0\n",
              "1107     1174     10  19151.0\n",
              "3114     1483      7  14167.0\n",
              "1244     1193      9  11353.0\n",
              "2299     1366      6   4746.0"
            ],
            "text/html": [
              "\n",
              "  <div id=\"df-f4acc125-5159-4f77-9259-3d571a82a4b3\">\n",
              "    <div class=\"colab-df-container\">\n",
              "      <div>\n",
              "<style scoped>\n",
              "    .dataframe tbody tr th:only-of-type {\n",
              "        vertical-align: middle;\n",
              "    }\n",
              "\n",
              "    .dataframe tbody tr th {\n",
              "        vertical-align: top;\n",
              "    }\n",
              "\n",
              "    .dataframe thead th {\n",
              "        text-align: right;\n",
              "    }\n",
              "</style>\n",
              "<table border=\"1\" class=\"dataframe\">\n",
              "  <thead>\n",
              "    <tr style=\"text-align: right;\">\n",
              "      <th></th>\n",
              "      <th>user_id</th>\n",
              "      <th>month</th>\n",
              "      <th>mb_used</th>\n",
              "    </tr>\n",
              "  </thead>\n",
              "  <tbody>\n",
              "    <tr>\n",
              "      <th>3103</th>\n",
              "      <td>1482</td>\n",
              "      <td>5</td>\n",
              "      <td>12464.0</td>\n",
              "    </tr>\n",
              "    <tr>\n",
              "      <th>29</th>\n",
              "      <td>1004</td>\n",
              "      <td>12</td>\n",
              "      <td>18038.0</td>\n",
              "    </tr>\n",
              "    <tr>\n",
              "      <th>2163</th>\n",
              "      <td>1341</td>\n",
              "      <td>11</td>\n",
              "      <td>31224.0</td>\n",
              "    </tr>\n",
              "    <tr>\n",
              "      <th>2397</th>\n",
              "      <td>1378</td>\n",
              "      <td>11</td>\n",
              "      <td>10476.0</td>\n",
              "    </tr>\n",
              "    <tr>\n",
              "      <th>2966</th>\n",
              "      <td>1464</td>\n",
              "      <td>12</td>\n",
              "      <td>31600.0</td>\n",
              "    </tr>\n",
              "    <tr>\n",
              "      <th>1277</th>\n",
              "      <td>1200</td>\n",
              "      <td>5</td>\n",
              "      <td>18717.0</td>\n",
              "    </tr>\n",
              "    <tr>\n",
              "      <th>1107</th>\n",
              "      <td>1174</td>\n",
              "      <td>10</td>\n",
              "      <td>19151.0</td>\n",
              "    </tr>\n",
              "    <tr>\n",
              "      <th>3114</th>\n",
              "      <td>1483</td>\n",
              "      <td>7</td>\n",
              "      <td>14167.0</td>\n",
              "    </tr>\n",
              "    <tr>\n",
              "      <th>1244</th>\n",
              "      <td>1193</td>\n",
              "      <td>9</td>\n",
              "      <td>11353.0</td>\n",
              "    </tr>\n",
              "    <tr>\n",
              "      <th>2299</th>\n",
              "      <td>1366</td>\n",
              "      <td>6</td>\n",
              "      <td>4746.0</td>\n",
              "    </tr>\n",
              "  </tbody>\n",
              "</table>\n",
              "</div>\n",
              "      <button class=\"colab-df-convert\" onclick=\"convertToInteractive('df-f4acc125-5159-4f77-9259-3d571a82a4b3')\"\n",
              "              title=\"Convert this dataframe to an interactive table.\"\n",
              "              style=\"display:none;\">\n",
              "        \n",
              "  <svg xmlns=\"http://www.w3.org/2000/svg\" height=\"24px\"viewBox=\"0 0 24 24\"\n",
              "       width=\"24px\">\n",
              "    <path d=\"M0 0h24v24H0V0z\" fill=\"none\"/>\n",
              "    <path d=\"M18.56 5.44l.94 2.06.94-2.06 2.06-.94-2.06-.94-.94-2.06-.94 2.06-2.06.94zm-11 1L8.5 8.5l.94-2.06 2.06-.94-2.06-.94L8.5 2.5l-.94 2.06-2.06.94zm10 10l.94 2.06.94-2.06 2.06-.94-2.06-.94-.94-2.06-.94 2.06-2.06.94z\"/><path d=\"M17.41 7.96l-1.37-1.37c-.4-.4-.92-.59-1.43-.59-.52 0-1.04.2-1.43.59L10.3 9.45l-7.72 7.72c-.78.78-.78 2.05 0 2.83L4 21.41c.39.39.9.59 1.41.59.51 0 1.02-.2 1.41-.59l7.78-7.78 2.81-2.81c.8-.78.8-2.07 0-2.86zM5.41 20L4 18.59l7.72-7.72 1.47 1.35L5.41 20z\"/>\n",
              "  </svg>\n",
              "      </button>\n",
              "      \n",
              "  <style>\n",
              "    .colab-df-container {\n",
              "      display:flex;\n",
              "      flex-wrap:wrap;\n",
              "      gap: 12px;\n",
              "    }\n",
              "\n",
              "    .colab-df-convert {\n",
              "      background-color: #E8F0FE;\n",
              "      border: none;\n",
              "      border-radius: 50%;\n",
              "      cursor: pointer;\n",
              "      display: none;\n",
              "      fill: #1967D2;\n",
              "      height: 32px;\n",
              "      padding: 0 0 0 0;\n",
              "      width: 32px;\n",
              "    }\n",
              "\n",
              "    .colab-df-convert:hover {\n",
              "      background-color: #E2EBFA;\n",
              "      box-shadow: 0px 1px 2px rgba(60, 64, 67, 0.3), 0px 1px 3px 1px rgba(60, 64, 67, 0.15);\n",
              "      fill: #174EA6;\n",
              "    }\n",
              "\n",
              "    [theme=dark] .colab-df-convert {\n",
              "      background-color: #3B4455;\n",
              "      fill: #D2E3FC;\n",
              "    }\n",
              "\n",
              "    [theme=dark] .colab-df-convert:hover {\n",
              "      background-color: #434B5C;\n",
              "      box-shadow: 0px 1px 3px 1px rgba(0, 0, 0, 0.15);\n",
              "      filter: drop-shadow(0px 1px 2px rgba(0, 0, 0, 0.3));\n",
              "      fill: #FFFFFF;\n",
              "    }\n",
              "  </style>\n",
              "\n",
              "      <script>\n",
              "        const buttonEl =\n",
              "          document.querySelector('#df-f4acc125-5159-4f77-9259-3d571a82a4b3 button.colab-df-convert');\n",
              "        buttonEl.style.display =\n",
              "          google.colab.kernel.accessAllowed ? 'block' : 'none';\n",
              "\n",
              "        async function convertToInteractive(key) {\n",
              "          const element = document.querySelector('#df-f4acc125-5159-4f77-9259-3d571a82a4b3');\n",
              "          const dataTable =\n",
              "            await google.colab.kernel.invokeFunction('convertToInteractive',\n",
              "                                                     [key], {});\n",
              "          if (!dataTable) return;\n",
              "\n",
              "          const docLinkHtml = 'Like what you see? Visit the ' +\n",
              "            '<a target=\"_blank\" href=https://colab.research.google.com/notebooks/data_table.ipynb>data table notebook</a>'\n",
              "            + ' to learn more about interactive tables.';\n",
              "          element.innerHTML = '';\n",
              "          dataTable['output_type'] = 'display_data';\n",
              "          await google.colab.output.renderOutput(dataTable, element);\n",
              "          const docLink = document.createElement('div');\n",
              "          docLink.innerHTML = docLinkHtml;\n",
              "          element.appendChild(docLink);\n",
              "        }\n",
              "      </script>\n",
              "    </div>\n",
              "  </div>\n",
              "  "
            ]
          },
          "metadata": {},
          "execution_count": 47
        }
      ],
      "source": [
        "# создаю новую таблицу количеством сообщений для каждого клиента по месяцам\n",
        "internet_month = pd.pivot_table(internet, index=['user_id','month'],\n",
        "                                          values='mb_used',\n",
        "                                          aggfunc='sum'\n",
        "                                ).reset_index()\n",
        "\n",
        "\n",
        "#проверяем результат\n",
        "internet_month.sample(10)"
      ]
    },
    {
      "cell_type": "markdown",
      "metadata": {
        "id": "ahRQ1NjfUjbT"
      },
      "source": [
        "<div class=\"alert alert-success\">\n",
        "<h2> Комментарий ревьюера </h2>\n",
        "\n",
        "Показатели рассчитаны. Данные подготовлены к дальнейшим расчетам.\n",
        "\n",
        "</div>"
      ]
    },
    {
      "cell_type": "markdown",
      "metadata": {
        "id": "ibtTP8XEUjbU"
      },
      "source": [
        "## <a name=\"clients-meged\">Сводная таблица с рассчетами</a>"
      ]
    },
    {
      "cell_type": "markdown",
      "metadata": {
        "id": "-TvI8CBgUjbU"
      },
      "source": [
        "Объединяю все таблицы в одну, для того чтобы проще было подсчитать доход от клиента в месяц."
      ]
    },
    {
      "cell_type": "code",
      "execution_count": 48,
      "metadata": {
        "id": "YhKfm4QsUjbU",
        "outputId": "8da03c05-147c-4c84-e0fb-640ee10620c3",
        "colab": {
          "base_uri": "https://localhost:8080/",
          "height": 462
        }
      },
      "outputs": [
        {
          "output_type": "execute_result",
          "data": {
            "text/plain": [
              "      user_id  month  duration  calls_amount  mb_used  messages_amount tariff  \\\n",
              "557      1089      3     626.0          70.0  17513.0            155.0  ultra   \n",
              "2169     1346     12     869.0         111.0   4700.0             50.0  ultra   \n",
              "2534     1401      6     463.0          53.0   9687.0             32.0  smart   \n",
              "996      1158     10     468.0          53.0  15544.0             62.0  smart   \n",
              "589      1094     10     868.0          91.0  17755.0             28.0  ultra   \n",
              "1600     1256     10     662.0          74.0  22225.0            103.0  smart   \n",
              "3120     1491      7     606.0          67.0  20916.0             58.0  ultra   \n",
              "2249     1360     12     825.0          98.0   7523.0              NaN  ultra   \n",
              "2212     1356      6     741.0          80.0  39967.0            158.0  ultra   \n",
              "3208     1476      4       NaN           NaN    531.0              NaN  ultra   \n",
              "\n",
              "                 city  messages_included  mb_per_month_included  \\\n",
              "557           Иркутск               1000                  30720   \n",
              "2169          Саратов               1000                  30720   \n",
              "2534           Москва                 50                  15360   \n",
              "996       Новокузнецк                 50                  15360   \n",
              "589       Новосибирск               1000                  30720   \n",
              "1600  Санкт-Петербург                 50                  15360   \n",
              "3120        Челябинск               1000                  30720   \n",
              "2249  Санкт-Петербург               1000                  30720   \n",
              "2212           Москва               1000                  30720   \n",
              "3208           Москва               1000                  30720   \n",
              "\n",
              "      minutes_included  rub_monthly_fee  rub_per_gb  rub_per_message  \\\n",
              "557               3000             1950         150                1   \n",
              "2169              3000             1950         150                1   \n",
              "2534               500              550         200                3   \n",
              "996                500              550         200                3   \n",
              "589               3000             1950         150                1   \n",
              "1600               500              550         200                3   \n",
              "3120              3000             1950         150                1   \n",
              "2249              3000             1950         150                1   \n",
              "2212              3000             1950         150                1   \n",
              "3208              3000             1950         150                1   \n",
              "\n",
              "      rub_per_minute  \n",
              "557                1  \n",
              "2169               1  \n",
              "2534               3  \n",
              "996                3  \n",
              "589                1  \n",
              "1600               3  \n",
              "3120               1  \n",
              "2249               1  \n",
              "2212               1  \n",
              "3208               1  "
            ],
            "text/html": [
              "\n",
              "  <div id=\"df-8857196d-fbfe-4c65-9d8a-1fdc76dbc667\">\n",
              "    <div class=\"colab-df-container\">\n",
              "      <div>\n",
              "<style scoped>\n",
              "    .dataframe tbody tr th:only-of-type {\n",
              "        vertical-align: middle;\n",
              "    }\n",
              "\n",
              "    .dataframe tbody tr th {\n",
              "        vertical-align: top;\n",
              "    }\n",
              "\n",
              "    .dataframe thead th {\n",
              "        text-align: right;\n",
              "    }\n",
              "</style>\n",
              "<table border=\"1\" class=\"dataframe\">\n",
              "  <thead>\n",
              "    <tr style=\"text-align: right;\">\n",
              "      <th></th>\n",
              "      <th>user_id</th>\n",
              "      <th>month</th>\n",
              "      <th>duration</th>\n",
              "      <th>calls_amount</th>\n",
              "      <th>mb_used</th>\n",
              "      <th>messages_amount</th>\n",
              "      <th>tariff</th>\n",
              "      <th>city</th>\n",
              "      <th>messages_included</th>\n",
              "      <th>mb_per_month_included</th>\n",
              "      <th>minutes_included</th>\n",
              "      <th>rub_monthly_fee</th>\n",
              "      <th>rub_per_gb</th>\n",
              "      <th>rub_per_message</th>\n",
              "      <th>rub_per_minute</th>\n",
              "    </tr>\n",
              "  </thead>\n",
              "  <tbody>\n",
              "    <tr>\n",
              "      <th>557</th>\n",
              "      <td>1089</td>\n",
              "      <td>3</td>\n",
              "      <td>626.0</td>\n",
              "      <td>70.0</td>\n",
              "      <td>17513.0</td>\n",
              "      <td>155.0</td>\n",
              "      <td>ultra</td>\n",
              "      <td>Иркутск</td>\n",
              "      <td>1000</td>\n",
              "      <td>30720</td>\n",
              "      <td>3000</td>\n",
              "      <td>1950</td>\n",
              "      <td>150</td>\n",
              "      <td>1</td>\n",
              "      <td>1</td>\n",
              "    </tr>\n",
              "    <tr>\n",
              "      <th>2169</th>\n",
              "      <td>1346</td>\n",
              "      <td>12</td>\n",
              "      <td>869.0</td>\n",
              "      <td>111.0</td>\n",
              "      <td>4700.0</td>\n",
              "      <td>50.0</td>\n",
              "      <td>ultra</td>\n",
              "      <td>Саратов</td>\n",
              "      <td>1000</td>\n",
              "      <td>30720</td>\n",
              "      <td>3000</td>\n",
              "      <td>1950</td>\n",
              "      <td>150</td>\n",
              "      <td>1</td>\n",
              "      <td>1</td>\n",
              "    </tr>\n",
              "    <tr>\n",
              "      <th>2534</th>\n",
              "      <td>1401</td>\n",
              "      <td>6</td>\n",
              "      <td>463.0</td>\n",
              "      <td>53.0</td>\n",
              "      <td>9687.0</td>\n",
              "      <td>32.0</td>\n",
              "      <td>smart</td>\n",
              "      <td>Москва</td>\n",
              "      <td>50</td>\n",
              "      <td>15360</td>\n",
              "      <td>500</td>\n",
              "      <td>550</td>\n",
              "      <td>200</td>\n",
              "      <td>3</td>\n",
              "      <td>3</td>\n",
              "    </tr>\n",
              "    <tr>\n",
              "      <th>996</th>\n",
              "      <td>1158</td>\n",
              "      <td>10</td>\n",
              "      <td>468.0</td>\n",
              "      <td>53.0</td>\n",
              "      <td>15544.0</td>\n",
              "      <td>62.0</td>\n",
              "      <td>smart</td>\n",
              "      <td>Новокузнецк</td>\n",
              "      <td>50</td>\n",
              "      <td>15360</td>\n",
              "      <td>500</td>\n",
              "      <td>550</td>\n",
              "      <td>200</td>\n",
              "      <td>3</td>\n",
              "      <td>3</td>\n",
              "    </tr>\n",
              "    <tr>\n",
              "      <th>589</th>\n",
              "      <td>1094</td>\n",
              "      <td>10</td>\n",
              "      <td>868.0</td>\n",
              "      <td>91.0</td>\n",
              "      <td>17755.0</td>\n",
              "      <td>28.0</td>\n",
              "      <td>ultra</td>\n",
              "      <td>Новосибирск</td>\n",
              "      <td>1000</td>\n",
              "      <td>30720</td>\n",
              "      <td>3000</td>\n",
              "      <td>1950</td>\n",
              "      <td>150</td>\n",
              "      <td>1</td>\n",
              "      <td>1</td>\n",
              "    </tr>\n",
              "    <tr>\n",
              "      <th>1600</th>\n",
              "      <td>1256</td>\n",
              "      <td>10</td>\n",
              "      <td>662.0</td>\n",
              "      <td>74.0</td>\n",
              "      <td>22225.0</td>\n",
              "      <td>103.0</td>\n",
              "      <td>smart</td>\n",
              "      <td>Санкт-Петербург</td>\n",
              "      <td>50</td>\n",
              "      <td>15360</td>\n",
              "      <td>500</td>\n",
              "      <td>550</td>\n",
              "      <td>200</td>\n",
              "      <td>3</td>\n",
              "      <td>3</td>\n",
              "    </tr>\n",
              "    <tr>\n",
              "      <th>3120</th>\n",
              "      <td>1491</td>\n",
              "      <td>7</td>\n",
              "      <td>606.0</td>\n",
              "      <td>67.0</td>\n",
              "      <td>20916.0</td>\n",
              "      <td>58.0</td>\n",
              "      <td>ultra</td>\n",
              "      <td>Челябинск</td>\n",
              "      <td>1000</td>\n",
              "      <td>30720</td>\n",
              "      <td>3000</td>\n",
              "      <td>1950</td>\n",
              "      <td>150</td>\n",
              "      <td>1</td>\n",
              "      <td>1</td>\n",
              "    </tr>\n",
              "    <tr>\n",
              "      <th>2249</th>\n",
              "      <td>1360</td>\n",
              "      <td>12</td>\n",
              "      <td>825.0</td>\n",
              "      <td>98.0</td>\n",
              "      <td>7523.0</td>\n",
              "      <td>NaN</td>\n",
              "      <td>ultra</td>\n",
              "      <td>Санкт-Петербург</td>\n",
              "      <td>1000</td>\n",
              "      <td>30720</td>\n",
              "      <td>3000</td>\n",
              "      <td>1950</td>\n",
              "      <td>150</td>\n",
              "      <td>1</td>\n",
              "      <td>1</td>\n",
              "    </tr>\n",
              "    <tr>\n",
              "      <th>2212</th>\n",
              "      <td>1356</td>\n",
              "      <td>6</td>\n",
              "      <td>741.0</td>\n",
              "      <td>80.0</td>\n",
              "      <td>39967.0</td>\n",
              "      <td>158.0</td>\n",
              "      <td>ultra</td>\n",
              "      <td>Москва</td>\n",
              "      <td>1000</td>\n",
              "      <td>30720</td>\n",
              "      <td>3000</td>\n",
              "      <td>1950</td>\n",
              "      <td>150</td>\n",
              "      <td>1</td>\n",
              "      <td>1</td>\n",
              "    </tr>\n",
              "    <tr>\n",
              "      <th>3208</th>\n",
              "      <td>1476</td>\n",
              "      <td>4</td>\n",
              "      <td>NaN</td>\n",
              "      <td>NaN</td>\n",
              "      <td>531.0</td>\n",
              "      <td>NaN</td>\n",
              "      <td>ultra</td>\n",
              "      <td>Москва</td>\n",
              "      <td>1000</td>\n",
              "      <td>30720</td>\n",
              "      <td>3000</td>\n",
              "      <td>1950</td>\n",
              "      <td>150</td>\n",
              "      <td>1</td>\n",
              "      <td>1</td>\n",
              "    </tr>\n",
              "  </tbody>\n",
              "</table>\n",
              "</div>\n",
              "      <button class=\"colab-df-convert\" onclick=\"convertToInteractive('df-8857196d-fbfe-4c65-9d8a-1fdc76dbc667')\"\n",
              "              title=\"Convert this dataframe to an interactive table.\"\n",
              "              style=\"display:none;\">\n",
              "        \n",
              "  <svg xmlns=\"http://www.w3.org/2000/svg\" height=\"24px\"viewBox=\"0 0 24 24\"\n",
              "       width=\"24px\">\n",
              "    <path d=\"M0 0h24v24H0V0z\" fill=\"none\"/>\n",
              "    <path d=\"M18.56 5.44l.94 2.06.94-2.06 2.06-.94-2.06-.94-.94-2.06-.94 2.06-2.06.94zm-11 1L8.5 8.5l.94-2.06 2.06-.94-2.06-.94L8.5 2.5l-.94 2.06-2.06.94zm10 10l.94 2.06.94-2.06 2.06-.94-2.06-.94-.94-2.06-.94 2.06-2.06.94z\"/><path d=\"M17.41 7.96l-1.37-1.37c-.4-.4-.92-.59-1.43-.59-.52 0-1.04.2-1.43.59L10.3 9.45l-7.72 7.72c-.78.78-.78 2.05 0 2.83L4 21.41c.39.39.9.59 1.41.59.51 0 1.02-.2 1.41-.59l7.78-7.78 2.81-2.81c.8-.78.8-2.07 0-2.86zM5.41 20L4 18.59l7.72-7.72 1.47 1.35L5.41 20z\"/>\n",
              "  </svg>\n",
              "      </button>\n",
              "      \n",
              "  <style>\n",
              "    .colab-df-container {\n",
              "      display:flex;\n",
              "      flex-wrap:wrap;\n",
              "      gap: 12px;\n",
              "    }\n",
              "\n",
              "    .colab-df-convert {\n",
              "      background-color: #E8F0FE;\n",
              "      border: none;\n",
              "      border-radius: 50%;\n",
              "      cursor: pointer;\n",
              "      display: none;\n",
              "      fill: #1967D2;\n",
              "      height: 32px;\n",
              "      padding: 0 0 0 0;\n",
              "      width: 32px;\n",
              "    }\n",
              "\n",
              "    .colab-df-convert:hover {\n",
              "      background-color: #E2EBFA;\n",
              "      box-shadow: 0px 1px 2px rgba(60, 64, 67, 0.3), 0px 1px 3px 1px rgba(60, 64, 67, 0.15);\n",
              "      fill: #174EA6;\n",
              "    }\n",
              "\n",
              "    [theme=dark] .colab-df-convert {\n",
              "      background-color: #3B4455;\n",
              "      fill: #D2E3FC;\n",
              "    }\n",
              "\n",
              "    [theme=dark] .colab-df-convert:hover {\n",
              "      background-color: #434B5C;\n",
              "      box-shadow: 0px 1px 3px 1px rgba(0, 0, 0, 0.15);\n",
              "      filter: drop-shadow(0px 1px 2px rgba(0, 0, 0, 0.3));\n",
              "      fill: #FFFFFF;\n",
              "    }\n",
              "  </style>\n",
              "\n",
              "      <script>\n",
              "        const buttonEl =\n",
              "          document.querySelector('#df-8857196d-fbfe-4c65-9d8a-1fdc76dbc667 button.colab-df-convert');\n",
              "        buttonEl.style.display =\n",
              "          google.colab.kernel.accessAllowed ? 'block' : 'none';\n",
              "\n",
              "        async function convertToInteractive(key) {\n",
              "          const element = document.querySelector('#df-8857196d-fbfe-4c65-9d8a-1fdc76dbc667');\n",
              "          const dataTable =\n",
              "            await google.colab.kernel.invokeFunction('convertToInteractive',\n",
              "                                                     [key], {});\n",
              "          if (!dataTable) return;\n",
              "\n",
              "          const docLinkHtml = 'Like what you see? Visit the ' +\n",
              "            '<a target=\"_blank\" href=https://colab.research.google.com/notebooks/data_table.ipynb>data table notebook</a>'\n",
              "            + ' to learn more about interactive tables.';\n",
              "          element.innerHTML = '';\n",
              "          dataTable['output_type'] = 'display_data';\n",
              "          await google.colab.output.renderOutput(dataTable, element);\n",
              "          const docLink = document.createElement('div');\n",
              "          docLink.innerHTML = docLinkHtml;\n",
              "          element.appendChild(docLink);\n",
              "        }\n",
              "      </script>\n",
              "    </div>\n",
              "  </div>\n",
              "  "
            ]
          },
          "metadata": {},
          "execution_count": 48
        }
      ],
      "source": [
        "# объединяю данные из таблиц звонков и интернета\n",
        "clients_total = calls_month.merge(internet_month, on=['user_id','month'], how ='outer')\n",
        "\n",
        "# добавляю данные из таблицы с сообщениями\n",
        "clients_total = clients_total.merge(messages_month, on=['user_id','month'], how ='outer')\n",
        "\n",
        "\n",
        "# добавляю информацию о клиентах\n",
        "clients_total = clients_total.merge(users[['user_id','tariff', 'city']], on='user_id', how ='left')\n",
        "\n",
        "#добавляю информацию о тарифах\n",
        "clients_total = clients_total.merge(tariffs, on='tariff', how='left')\n",
        "\n",
        "# проверяю результат\n",
        "clients_total.sample(10)"
      ]
    },
    {
      "cell_type": "markdown",
      "metadata": {
        "id": "7eibkX6QUjbU"
      },
      "source": [
        "<div class=\"alert alert-success\">\n",
        "<h2> Комментарий ревьюера </h2>\n",
        "\n",
        "Да, именно внешнее соединение нам и нужно в данном случае. Иначе в таблицу не попадут клиенты, которые не пользовались одним из видов услуг оператора в течение конкретного месяца. \n",
        "\n",
        "</div>"
      ]
    },
    {
      "cell_type": "markdown",
      "metadata": {
        "id": "NodqJX8GUjbU"
      },
      "source": [
        "Вижу, что есть пропуски, проверяю сколько их."
      ]
    },
    {
      "cell_type": "code",
      "execution_count": 49,
      "metadata": {
        "id": "063ZPqzeUjbU",
        "outputId": "1afd928b-49e1-4695-8e69-2f8c2cfd8a01",
        "colab": {
          "base_uri": "https://localhost:8080/"
        }
      },
      "outputs": [
        {
          "output_type": "stream",
          "name": "stdout",
          "text": [
            "<class 'pandas.core.frame.DataFrame'>\n",
            "Int64Index: 3214 entries, 0 to 3213\n",
            "Data columns (total 15 columns):\n",
            " #   Column                 Non-Null Count  Dtype  \n",
            "---  ------                 --------------  -----  \n",
            " 0   user_id                3214 non-null   int64  \n",
            " 1   month                  3214 non-null   int64  \n",
            " 2   duration               3168 non-null   float64\n",
            " 3   calls_amount           3168 non-null   float64\n",
            " 4   mb_used                3201 non-null   float64\n",
            " 5   messages_amount        2717 non-null   float64\n",
            " 6   tariff                 3214 non-null   object \n",
            " 7   city                   3214 non-null   object \n",
            " 8   messages_included      3214 non-null   int64  \n",
            " 9   mb_per_month_included  3214 non-null   int64  \n",
            " 10  minutes_included       3214 non-null   int64  \n",
            " 11  rub_monthly_fee        3214 non-null   int64  \n",
            " 12  rub_per_gb             3214 non-null   int64  \n",
            " 13  rub_per_message        3214 non-null   int64  \n",
            " 14  rub_per_minute         3214 non-null   int64  \n",
            "dtypes: float64(4), int64(9), object(2)\n",
            "memory usage: 401.8+ KB\n"
          ]
        }
      ],
      "source": [
        "# информация о таблице\n",
        "clients_total.info()"
      ]
    },
    {
      "cell_type": "markdown",
      "metadata": {
        "id": "AK3l-faLUjbU"
      },
      "source": [
        "Пропуски есть, видимо какие-то клиенты использовали тариф только для того, чтобы звонить, поэтому у них нет использованного трафика и так далее. Посмотрим количество пропусков в каждом столбце."
      ]
    },
    {
      "cell_type": "code",
      "execution_count": 50,
      "metadata": {
        "id": "pRGzvOYDUjbU",
        "outputId": "5c4a5203-3778-46ed-f567-4d242d46066b",
        "colab": {
          "base_uri": "https://localhost:8080/",
          "height": 520
        }
      },
      "outputs": [
        {
          "output_type": "execute_result",
          "data": {
            "text/plain": [
              "<pandas.io.formats.style.Styler at 0x7fd15d57bfd0>"
            ],
            "text/html": [
              "<style type=\"text/css\">\n",
              "#T_4fdbc_row0_col0, #T_4fdbc_row1_col0, #T_4fdbc_row6_col0, #T_4fdbc_row7_col0, #T_4fdbc_row8_col0, #T_4fdbc_row9_col0, #T_4fdbc_row10_col0, #T_4fdbc_row11_col0, #T_4fdbc_row12_col0, #T_4fdbc_row13_col0, #T_4fdbc_row14_col0 {\n",
              "  background-color: #3b4cc0;\n",
              "  color: #f1f1f1;\n",
              "}\n",
              "#T_4fdbc_row2_col0, #T_4fdbc_row3_col0 {\n",
              "  background-color: #5673e0;\n",
              "  color: #f1f1f1;\n",
              "}\n",
              "#T_4fdbc_row4_col0 {\n",
              "  background-color: #4257c9;\n",
              "  color: #f1f1f1;\n",
              "}\n",
              "#T_4fdbc_row5_col0 {\n",
              "  background-color: #b40426;\n",
              "  color: #f1f1f1;\n",
              "}\n",
              "</style>\n",
              "<table id=\"T_4fdbc\" class=\"dataframe\">\n",
              "  <thead>\n",
              "    <tr>\n",
              "      <th class=\"blank level0\" >&nbsp;</th>\n",
              "      <th id=\"T_4fdbc_level0_col0\" class=\"col_heading level0 col0\" >0</th>\n",
              "    </tr>\n",
              "  </thead>\n",
              "  <tbody>\n",
              "    <tr>\n",
              "      <th id=\"T_4fdbc_level0_row0\" class=\"row_heading level0 row0\" >user_id</th>\n",
              "      <td id=\"T_4fdbc_row0_col0\" class=\"data row0 col0\" >0.000000</td>\n",
              "    </tr>\n",
              "    <tr>\n",
              "      <th id=\"T_4fdbc_level0_row1\" class=\"row_heading level0 row1\" >month</th>\n",
              "      <td id=\"T_4fdbc_row1_col0\" class=\"data row1 col0\" >0.000000</td>\n",
              "    </tr>\n",
              "    <tr>\n",
              "      <th id=\"T_4fdbc_level0_row2\" class=\"row_heading level0 row2\" >duration</th>\n",
              "      <td id=\"T_4fdbc_row2_col0\" class=\"data row2 col0\" >1.430000</td>\n",
              "    </tr>\n",
              "    <tr>\n",
              "      <th id=\"T_4fdbc_level0_row3\" class=\"row_heading level0 row3\" >calls_amount</th>\n",
              "      <td id=\"T_4fdbc_row3_col0\" class=\"data row3 col0\" >1.430000</td>\n",
              "    </tr>\n",
              "    <tr>\n",
              "      <th id=\"T_4fdbc_level0_row4\" class=\"row_heading level0 row4\" >mb_used</th>\n",
              "      <td id=\"T_4fdbc_row4_col0\" class=\"data row4 col0\" >0.400000</td>\n",
              "    </tr>\n",
              "    <tr>\n",
              "      <th id=\"T_4fdbc_level0_row5\" class=\"row_heading level0 row5\" >messages_amount</th>\n",
              "      <td id=\"T_4fdbc_row5_col0\" class=\"data row5 col0\" >15.460000</td>\n",
              "    </tr>\n",
              "    <tr>\n",
              "      <th id=\"T_4fdbc_level0_row6\" class=\"row_heading level0 row6\" >tariff</th>\n",
              "      <td id=\"T_4fdbc_row6_col0\" class=\"data row6 col0\" >0.000000</td>\n",
              "    </tr>\n",
              "    <tr>\n",
              "      <th id=\"T_4fdbc_level0_row7\" class=\"row_heading level0 row7\" >city</th>\n",
              "      <td id=\"T_4fdbc_row7_col0\" class=\"data row7 col0\" >0.000000</td>\n",
              "    </tr>\n",
              "    <tr>\n",
              "      <th id=\"T_4fdbc_level0_row8\" class=\"row_heading level0 row8\" >messages_included</th>\n",
              "      <td id=\"T_4fdbc_row8_col0\" class=\"data row8 col0\" >0.000000</td>\n",
              "    </tr>\n",
              "    <tr>\n",
              "      <th id=\"T_4fdbc_level0_row9\" class=\"row_heading level0 row9\" >mb_per_month_included</th>\n",
              "      <td id=\"T_4fdbc_row9_col0\" class=\"data row9 col0\" >0.000000</td>\n",
              "    </tr>\n",
              "    <tr>\n",
              "      <th id=\"T_4fdbc_level0_row10\" class=\"row_heading level0 row10\" >minutes_included</th>\n",
              "      <td id=\"T_4fdbc_row10_col0\" class=\"data row10 col0\" >0.000000</td>\n",
              "    </tr>\n",
              "    <tr>\n",
              "      <th id=\"T_4fdbc_level0_row11\" class=\"row_heading level0 row11\" >rub_monthly_fee</th>\n",
              "      <td id=\"T_4fdbc_row11_col0\" class=\"data row11 col0\" >0.000000</td>\n",
              "    </tr>\n",
              "    <tr>\n",
              "      <th id=\"T_4fdbc_level0_row12\" class=\"row_heading level0 row12\" >rub_per_gb</th>\n",
              "      <td id=\"T_4fdbc_row12_col0\" class=\"data row12 col0\" >0.000000</td>\n",
              "    </tr>\n",
              "    <tr>\n",
              "      <th id=\"T_4fdbc_level0_row13\" class=\"row_heading level0 row13\" >rub_per_message</th>\n",
              "      <td id=\"T_4fdbc_row13_col0\" class=\"data row13 col0\" >0.000000</td>\n",
              "    </tr>\n",
              "    <tr>\n",
              "      <th id=\"T_4fdbc_level0_row14\" class=\"row_heading level0 row14\" >rub_per_minute</th>\n",
              "      <td id=\"T_4fdbc_row14_col0\" class=\"data row14 col0\" >0.000000</td>\n",
              "    </tr>\n",
              "  </tbody>\n",
              "</table>\n"
            ]
          },
          "metadata": {},
          "execution_count": 50
        }
      ],
      "source": [
        "pd.DataFrame(round((clients_total.isna().mean()*100),2)).style.background_gradient('coolwarm')"
      ]
    },
    {
      "cell_type": "markdown",
      "metadata": {
        "id": "q5BU0V-wUjbU"
      },
      "source": [
        "15% - много, поэтому в 'messages_amount' я заменяю пропуски на 0, а остальные удаляю."
      ]
    },
    {
      "cell_type": "code",
      "execution_count": 51,
      "metadata": {
        "id": "eoXMxEK1UjbV",
        "outputId": "a486be8f-bc8e-468b-9efa-340c93c80aa7",
        "colab": {
          "base_uri": "https://localhost:8080/"
        }
      },
      "outputs": [
        {
          "output_type": "stream",
          "name": "stdout",
          "text": [
            "<class 'pandas.core.frame.DataFrame'>\n",
            "Int64Index: 3155 entries, 0 to 3167\n",
            "Data columns (total 15 columns):\n",
            " #   Column                 Non-Null Count  Dtype  \n",
            "---  ------                 --------------  -----  \n",
            " 0   user_id                3155 non-null   int64  \n",
            " 1   month                  3155 non-null   int64  \n",
            " 2   duration               3155 non-null   float64\n",
            " 3   calls_amount           3155 non-null   float64\n",
            " 4   mb_used                3155 non-null   float64\n",
            " 5   messages_amount        3155 non-null   float64\n",
            " 6   tariff                 3155 non-null   object \n",
            " 7   city                   3155 non-null   object \n",
            " 8   messages_included      3155 non-null   int64  \n",
            " 9   mb_per_month_included  3155 non-null   int64  \n",
            " 10  minutes_included       3155 non-null   int64  \n",
            " 11  rub_monthly_fee        3155 non-null   int64  \n",
            " 12  rub_per_gb             3155 non-null   int64  \n",
            " 13  rub_per_message        3155 non-null   int64  \n",
            " 14  rub_per_minute         3155 non-null   int64  \n",
            "dtypes: float64(4), int64(9), object(2)\n",
            "memory usage: 394.4+ KB\n"
          ]
        }
      ],
      "source": [
        "# заменяю пропуски на 0\n",
        "clients_total['messages_amount'].fillna(0, inplace=True)\n",
        "\n",
        "# удаляю там, где можно удалить\n",
        "clients_total.dropna(subset=['duration', 'calls_amount', 'mb_used'], inplace=True)\n",
        "\n",
        "# проверяю результат\n",
        "clients_total.info()"
      ]
    },
    {
      "cell_type": "markdown",
      "metadata": {
        "id": "aoU4idsLUjbV"
      },
      "source": [
        "<div class=\"alert alert-success\">\n",
        "<h2> Комментарий ревьюера </h2>\n",
        "\n",
        "Исходя из высказанной тобой причины появления пропусков, можно их все обработать 0. Однако удалено не так много данных, так что твой вариант вполне приемлем. \n",
        "\n",
        "</div>"
      ]
    },
    {
      "cell_type": "code",
      "execution_count": 52,
      "metadata": {
        "id": "-Ux6UwCwUjbV",
        "outputId": "ed5aa559-4dfb-4f20-e930-402be4a2359c",
        "colab": {
          "base_uri": "https://localhost:8080/"
        }
      },
      "outputs": [
        {
          "output_type": "execute_result",
          "data": {
            "text/plain": [
              "0"
            ]
          },
          "metadata": {},
          "execution_count": 52
        }
      ],
      "source": [
        "#проверяю наличие дублей\n",
        "clients_total.duplicated().sum()"
      ]
    },
    {
      "cell_type": "markdown",
      "metadata": {
        "id": "4q8qWMuCUjbV"
      },
      "source": [
        "Таблица готова к дальнейшему анализу и вычислениям. \n",
        "\n",
        "Рассчитаем помесячную выручку с каждого клиента и добавим результат в отдельный столбец. "
      ]
    },
    {
      "cell_type": "code",
      "execution_count": 53,
      "metadata": {
        "id": "X5Pv8uUQUjbV"
      },
      "outputs": [],
      "source": [
        "# функция для подсчета затрат сверх тарифа\n",
        "\n",
        "def extra_expenses(row):\n",
        "    ex_minutes = (row['calls_amount'] - row['minutes_included']) * row['rub_per_minute']\n",
        "    ex_gb = (row['mb_used'] - row['mb_per_month_included']) * row['rub_per_gb'] / 1024\n",
        "    ex_messages = (row['messages_amount'] - row['messages_included']) * row['rub_per_message']\n",
        "    extra = 0\n",
        "    for y in [ex_minutes, ex_gb, ex_messages]:\n",
        "              if y > 0:\n",
        "                extra +=y\n",
        "    return extra\n",
        "    "
      ]
    },
    {
      "cell_type": "code",
      "execution_count": 54,
      "metadata": {
        "id": "3W64l6i1UjbV"
      },
      "outputs": [],
      "source": [
        "# добавляем результат в отдельный столбец\n",
        "clients_total['extra_expenses'] = clients_total.apply(lambda x: extra_expenses(x), axis=1)"
      ]
    },
    {
      "cell_type": "code",
      "execution_count": 55,
      "metadata": {
        "id": "qG-Jwa18UjbV",
        "outputId": "28527593-515e-4ebe-fd36-672fe985089d",
        "colab": {
          "base_uri": "https://localhost:8080/",
          "height": 444
        }
      },
      "outputs": [
        {
          "output_type": "execute_result",
          "data": {
            "text/plain": [
              "      user_id  month  duration  calls_amount  mb_used  messages_amount tariff  \\\n",
              "2179     1350     11     478.0          48.0  18533.0             60.0  ultra   \n",
              "43       1006      3     286.0          36.0  17309.0              0.0  smart   \n",
              "2149     1344      5     762.0          92.0  22839.0            124.0  ultra   \n",
              "315      1051      5      59.0           8.0   1843.0              0.0  smart   \n",
              "675      1109      6     382.0          47.0  14669.0              0.0  smart   \n",
              "2109     1337     12      94.0          11.0  22054.0             14.0  smart   \n",
              "1237     1196      6    1410.0         149.0  22677.0            153.0  ultra   \n",
              "307      1049     10     586.0          71.0   3350.0              0.0  ultra   \n",
              "372      1058     12     701.0          81.0  16651.0             29.0  smart   \n",
              "2306     1372      5     478.0          52.0  11519.0             43.0  smart   \n",
              "\n",
              "                 city  messages_included  mb_per_month_included  \\\n",
              "2179             Омск               1000                  30720   \n",
              "43          Ульяновск                 50                  15360   \n",
              "2149          Воронеж               1000                  30720   \n",
              "315            Москва                 50                  15360   \n",
              "675   Санкт-Петербург                 50                  15360   \n",
              "2109          Вологда                 50                  15360   \n",
              "1237          Воронеж               1000                  30720   \n",
              "307            Москва               1000                  30720   \n",
              "372           Вологда                 50                  15360   \n",
              "2306     Магнитогорск                 50                  15360   \n",
              "\n",
              "      minutes_included  rub_monthly_fee  rub_per_gb  rub_per_message  \\\n",
              "2179              3000             1950         150                1   \n",
              "43                 500              550         200                3   \n",
              "2149              3000             1950         150                1   \n",
              "315                500              550         200                3   \n",
              "675                500              550         200                3   \n",
              "2109               500              550         200                3   \n",
              "1237              3000             1950         150                1   \n",
              "307               3000             1950         150                1   \n",
              "372                500              550         200                3   \n",
              "2306               500              550         200                3   \n",
              "\n",
              "      rub_per_minute  extra_expenses  income  \n",
              "2179               1        0.000000    1950  \n",
              "43                 3      380.664062     930  \n",
              "2149               1        0.000000    1950  \n",
              "315                3        0.000000     550  \n",
              "675                3        0.000000     550  \n",
              "2109               3     1307.421875    1857  \n",
              "1237               1        0.000000    1950  \n",
              "307                1        0.000000    1950  \n",
              "372                3      252.148438     802  \n",
              "2306               3        0.000000     550  "
            ],
            "text/html": [
              "\n",
              "  <div id=\"df-31534c75-71ce-4621-a88e-7f5a5ac1d8d1\">\n",
              "    <div class=\"colab-df-container\">\n",
              "      <div>\n",
              "<style scoped>\n",
              "    .dataframe tbody tr th:only-of-type {\n",
              "        vertical-align: middle;\n",
              "    }\n",
              "\n",
              "    .dataframe tbody tr th {\n",
              "        vertical-align: top;\n",
              "    }\n",
              "\n",
              "    .dataframe thead th {\n",
              "        text-align: right;\n",
              "    }\n",
              "</style>\n",
              "<table border=\"1\" class=\"dataframe\">\n",
              "  <thead>\n",
              "    <tr style=\"text-align: right;\">\n",
              "      <th></th>\n",
              "      <th>user_id</th>\n",
              "      <th>month</th>\n",
              "      <th>duration</th>\n",
              "      <th>calls_amount</th>\n",
              "      <th>mb_used</th>\n",
              "      <th>messages_amount</th>\n",
              "      <th>tariff</th>\n",
              "      <th>city</th>\n",
              "      <th>messages_included</th>\n",
              "      <th>mb_per_month_included</th>\n",
              "      <th>minutes_included</th>\n",
              "      <th>rub_monthly_fee</th>\n",
              "      <th>rub_per_gb</th>\n",
              "      <th>rub_per_message</th>\n",
              "      <th>rub_per_minute</th>\n",
              "      <th>extra_expenses</th>\n",
              "      <th>income</th>\n",
              "    </tr>\n",
              "  </thead>\n",
              "  <tbody>\n",
              "    <tr>\n",
              "      <th>2179</th>\n",
              "      <td>1350</td>\n",
              "      <td>11</td>\n",
              "      <td>478.0</td>\n",
              "      <td>48.0</td>\n",
              "      <td>18533.0</td>\n",
              "      <td>60.0</td>\n",
              "      <td>ultra</td>\n",
              "      <td>Омск</td>\n",
              "      <td>1000</td>\n",
              "      <td>30720</td>\n",
              "      <td>3000</td>\n",
              "      <td>1950</td>\n",
              "      <td>150</td>\n",
              "      <td>1</td>\n",
              "      <td>1</td>\n",
              "      <td>0.000000</td>\n",
              "      <td>1950</td>\n",
              "    </tr>\n",
              "    <tr>\n",
              "      <th>43</th>\n",
              "      <td>1006</td>\n",
              "      <td>3</td>\n",
              "      <td>286.0</td>\n",
              "      <td>36.0</td>\n",
              "      <td>17309.0</td>\n",
              "      <td>0.0</td>\n",
              "      <td>smart</td>\n",
              "      <td>Ульяновск</td>\n",
              "      <td>50</td>\n",
              "      <td>15360</td>\n",
              "      <td>500</td>\n",
              "      <td>550</td>\n",
              "      <td>200</td>\n",
              "      <td>3</td>\n",
              "      <td>3</td>\n",
              "      <td>380.664062</td>\n",
              "      <td>930</td>\n",
              "    </tr>\n",
              "    <tr>\n",
              "      <th>2149</th>\n",
              "      <td>1344</td>\n",
              "      <td>5</td>\n",
              "      <td>762.0</td>\n",
              "      <td>92.0</td>\n",
              "      <td>22839.0</td>\n",
              "      <td>124.0</td>\n",
              "      <td>ultra</td>\n",
              "      <td>Воронеж</td>\n",
              "      <td>1000</td>\n",
              "      <td>30720</td>\n",
              "      <td>3000</td>\n",
              "      <td>1950</td>\n",
              "      <td>150</td>\n",
              "      <td>1</td>\n",
              "      <td>1</td>\n",
              "      <td>0.000000</td>\n",
              "      <td>1950</td>\n",
              "    </tr>\n",
              "    <tr>\n",
              "      <th>315</th>\n",
              "      <td>1051</td>\n",
              "      <td>5</td>\n",
              "      <td>59.0</td>\n",
              "      <td>8.0</td>\n",
              "      <td>1843.0</td>\n",
              "      <td>0.0</td>\n",
              "      <td>smart</td>\n",
              "      <td>Москва</td>\n",
              "      <td>50</td>\n",
              "      <td>15360</td>\n",
              "      <td>500</td>\n",
              "      <td>550</td>\n",
              "      <td>200</td>\n",
              "      <td>3</td>\n",
              "      <td>3</td>\n",
              "      <td>0.000000</td>\n",
              "      <td>550</td>\n",
              "    </tr>\n",
              "    <tr>\n",
              "      <th>675</th>\n",
              "      <td>1109</td>\n",
              "      <td>6</td>\n",
              "      <td>382.0</td>\n",
              "      <td>47.0</td>\n",
              "      <td>14669.0</td>\n",
              "      <td>0.0</td>\n",
              "      <td>smart</td>\n",
              "      <td>Санкт-Петербург</td>\n",
              "      <td>50</td>\n",
              "      <td>15360</td>\n",
              "      <td>500</td>\n",
              "      <td>550</td>\n",
              "      <td>200</td>\n",
              "      <td>3</td>\n",
              "      <td>3</td>\n",
              "      <td>0.000000</td>\n",
              "      <td>550</td>\n",
              "    </tr>\n",
              "    <tr>\n",
              "      <th>2109</th>\n",
              "      <td>1337</td>\n",
              "      <td>12</td>\n",
              "      <td>94.0</td>\n",
              "      <td>11.0</td>\n",
              "      <td>22054.0</td>\n",
              "      <td>14.0</td>\n",
              "      <td>smart</td>\n",
              "      <td>Вологда</td>\n",
              "      <td>50</td>\n",
              "      <td>15360</td>\n",
              "      <td>500</td>\n",
              "      <td>550</td>\n",
              "      <td>200</td>\n",
              "      <td>3</td>\n",
              "      <td>3</td>\n",
              "      <td>1307.421875</td>\n",
              "      <td>1857</td>\n",
              "    </tr>\n",
              "    <tr>\n",
              "      <th>1237</th>\n",
              "      <td>1196</td>\n",
              "      <td>6</td>\n",
              "      <td>1410.0</td>\n",
              "      <td>149.0</td>\n",
              "      <td>22677.0</td>\n",
              "      <td>153.0</td>\n",
              "      <td>ultra</td>\n",
              "      <td>Воронеж</td>\n",
              "      <td>1000</td>\n",
              "      <td>30720</td>\n",
              "      <td>3000</td>\n",
              "      <td>1950</td>\n",
              "      <td>150</td>\n",
              "      <td>1</td>\n",
              "      <td>1</td>\n",
              "      <td>0.000000</td>\n",
              "      <td>1950</td>\n",
              "    </tr>\n",
              "    <tr>\n",
              "      <th>307</th>\n",
              "      <td>1049</td>\n",
              "      <td>10</td>\n",
              "      <td>586.0</td>\n",
              "      <td>71.0</td>\n",
              "      <td>3350.0</td>\n",
              "      <td>0.0</td>\n",
              "      <td>ultra</td>\n",
              "      <td>Москва</td>\n",
              "      <td>1000</td>\n",
              "      <td>30720</td>\n",
              "      <td>3000</td>\n",
              "      <td>1950</td>\n",
              "      <td>150</td>\n",
              "      <td>1</td>\n",
              "      <td>1</td>\n",
              "      <td>0.000000</td>\n",
              "      <td>1950</td>\n",
              "    </tr>\n",
              "    <tr>\n",
              "      <th>372</th>\n",
              "      <td>1058</td>\n",
              "      <td>12</td>\n",
              "      <td>701.0</td>\n",
              "      <td>81.0</td>\n",
              "      <td>16651.0</td>\n",
              "      <td>29.0</td>\n",
              "      <td>smart</td>\n",
              "      <td>Вологда</td>\n",
              "      <td>50</td>\n",
              "      <td>15360</td>\n",
              "      <td>500</td>\n",
              "      <td>550</td>\n",
              "      <td>200</td>\n",
              "      <td>3</td>\n",
              "      <td>3</td>\n",
              "      <td>252.148438</td>\n",
              "      <td>802</td>\n",
              "    </tr>\n",
              "    <tr>\n",
              "      <th>2306</th>\n",
              "      <td>1372</td>\n",
              "      <td>5</td>\n",
              "      <td>478.0</td>\n",
              "      <td>52.0</td>\n",
              "      <td>11519.0</td>\n",
              "      <td>43.0</td>\n",
              "      <td>smart</td>\n",
              "      <td>Магнитогорск</td>\n",
              "      <td>50</td>\n",
              "      <td>15360</td>\n",
              "      <td>500</td>\n",
              "      <td>550</td>\n",
              "      <td>200</td>\n",
              "      <td>3</td>\n",
              "      <td>3</td>\n",
              "      <td>0.000000</td>\n",
              "      <td>550</td>\n",
              "    </tr>\n",
              "  </tbody>\n",
              "</table>\n",
              "</div>\n",
              "      <button class=\"colab-df-convert\" onclick=\"convertToInteractive('df-31534c75-71ce-4621-a88e-7f5a5ac1d8d1')\"\n",
              "              title=\"Convert this dataframe to an interactive table.\"\n",
              "              style=\"display:none;\">\n",
              "        \n",
              "  <svg xmlns=\"http://www.w3.org/2000/svg\" height=\"24px\"viewBox=\"0 0 24 24\"\n",
              "       width=\"24px\">\n",
              "    <path d=\"M0 0h24v24H0V0z\" fill=\"none\"/>\n",
              "    <path d=\"M18.56 5.44l.94 2.06.94-2.06 2.06-.94-2.06-.94-.94-2.06-.94 2.06-2.06.94zm-11 1L8.5 8.5l.94-2.06 2.06-.94-2.06-.94L8.5 2.5l-.94 2.06-2.06.94zm10 10l.94 2.06.94-2.06 2.06-.94-2.06-.94-.94-2.06-.94 2.06-2.06.94z\"/><path d=\"M17.41 7.96l-1.37-1.37c-.4-.4-.92-.59-1.43-.59-.52 0-1.04.2-1.43.59L10.3 9.45l-7.72 7.72c-.78.78-.78 2.05 0 2.83L4 21.41c.39.39.9.59 1.41.59.51 0 1.02-.2 1.41-.59l7.78-7.78 2.81-2.81c.8-.78.8-2.07 0-2.86zM5.41 20L4 18.59l7.72-7.72 1.47 1.35L5.41 20z\"/>\n",
              "  </svg>\n",
              "      </button>\n",
              "      \n",
              "  <style>\n",
              "    .colab-df-container {\n",
              "      display:flex;\n",
              "      flex-wrap:wrap;\n",
              "      gap: 12px;\n",
              "    }\n",
              "\n",
              "    .colab-df-convert {\n",
              "      background-color: #E8F0FE;\n",
              "      border: none;\n",
              "      border-radius: 50%;\n",
              "      cursor: pointer;\n",
              "      display: none;\n",
              "      fill: #1967D2;\n",
              "      height: 32px;\n",
              "      padding: 0 0 0 0;\n",
              "      width: 32px;\n",
              "    }\n",
              "\n",
              "    .colab-df-convert:hover {\n",
              "      background-color: #E2EBFA;\n",
              "      box-shadow: 0px 1px 2px rgba(60, 64, 67, 0.3), 0px 1px 3px 1px rgba(60, 64, 67, 0.15);\n",
              "      fill: #174EA6;\n",
              "    }\n",
              "\n",
              "    [theme=dark] .colab-df-convert {\n",
              "      background-color: #3B4455;\n",
              "      fill: #D2E3FC;\n",
              "    }\n",
              "\n",
              "    [theme=dark] .colab-df-convert:hover {\n",
              "      background-color: #434B5C;\n",
              "      box-shadow: 0px 1px 3px 1px rgba(0, 0, 0, 0.15);\n",
              "      filter: drop-shadow(0px 1px 2px rgba(0, 0, 0, 0.3));\n",
              "      fill: #FFFFFF;\n",
              "    }\n",
              "  </style>\n",
              "\n",
              "      <script>\n",
              "        const buttonEl =\n",
              "          document.querySelector('#df-31534c75-71ce-4621-a88e-7f5a5ac1d8d1 button.colab-df-convert');\n",
              "        buttonEl.style.display =\n",
              "          google.colab.kernel.accessAllowed ? 'block' : 'none';\n",
              "\n",
              "        async function convertToInteractive(key) {\n",
              "          const element = document.querySelector('#df-31534c75-71ce-4621-a88e-7f5a5ac1d8d1');\n",
              "          const dataTable =\n",
              "            await google.colab.kernel.invokeFunction('convertToInteractive',\n",
              "                                                     [key], {});\n",
              "          if (!dataTable) return;\n",
              "\n",
              "          const docLinkHtml = 'Like what you see? Visit the ' +\n",
              "            '<a target=\"_blank\" href=https://colab.research.google.com/notebooks/data_table.ipynb>data table notebook</a>'\n",
              "            + ' to learn more about interactive tables.';\n",
              "          element.innerHTML = '';\n",
              "          dataTable['output_type'] = 'display_data';\n",
              "          await google.colab.output.renderOutput(dataTable, element);\n",
              "          const docLink = document.createElement('div');\n",
              "          docLink.innerHTML = docLinkHtml;\n",
              "          element.appendChild(docLink);\n",
              "        }\n",
              "      </script>\n",
              "    </div>\n",
              "  </div>\n",
              "  "
            ]
          },
          "metadata": {},
          "execution_count": 55
        }
      ],
      "source": [
        "# считаем общую выручку и проверяем результат\n",
        "clients_total['income'] = clients_total['extra_expenses'] + clients_total['rub_monthly_fee']\n",
        "clients_total['income'] = clients_total['income'].astype(int)\n",
        "clients_total.sample(10)\n"
      ]
    },
    {
      "cell_type": "markdown",
      "metadata": {
        "id": "6hE0Uap5UjbV"
      },
      "source": [
        "<div class=\"alert alert-success\">\n",
        "<h2> Комментарий ревьюера </h2>\n",
        "\n",
        "Финальная таблица получена верным образом. Стоит убрать из нее излишнюю информацию о тарифах. Она у нас уже есть в таблице tariffs. Дублировать ее не стоит.\n",
        "\n",
        "</div>"
      ]
    },
    {
      "cell_type": "markdown",
      "metadata": {
        "id": "y8P0KbknUjbW"
      },
      "source": [
        "# <a name=\"smart-ultra-calculations\"> Исследовательский анализ тарифов</a>"
      ]
    },
    {
      "cell_type": "markdown",
      "metadata": {
        "id": "0OGtbZcsUjbW"
      },
      "source": [
        "Сколько минут разговора, сколько сообщений и какой объём интернет-трафика требуется пользователям каждого тарифа в месяц?\n",
        "\n",
        "Для удобства создам отдельные таблицы по тарифам."
      ]
    },
    {
      "cell_type": "code",
      "execution_count": 56,
      "metadata": {
        "id": "Vm2ibOpTUjbW"
      },
      "outputs": [],
      "source": [
        "# создаю две отдельные таблицы по тарифам\n",
        "smart = clients_total[clients_total['tariff'] == 'smart']\n",
        "ultra = clients_total[clients_total['tariff'] == 'ultra']"
      ]
    },
    {
      "cell_type": "markdown",
      "metadata": {
        "id": "mHZxi_btUjbW"
      },
      "source": [
        "## <a name=\"calls-info-03\">Calls (информация о звонках)</a>"
      ]
    },
    {
      "cell_type": "markdown",
      "metadata": {
        "id": "2_oXxzO2UjbW"
      },
      "source": [
        "Смотрю информацию по минутам разговора для тарифа Ultra."
      ]
    },
    {
      "cell_type": "code",
      "execution_count": 57,
      "metadata": {
        "id": "QBeavLuxUjbW",
        "outputId": "e22c7b94-a679-4e05-ed9d-07c5a28c54a6",
        "colab": {
          "base_uri": "https://localhost:8080/",
          "height": 801
        }
      },
      "outputs": [
        {
          "output_type": "display_data",
          "data": {
            "text/plain": [
              "<Figure size 900x900 with 1 Axes>"
            ],
            "image/png": "[encoded data removed]"
          },
          "metadata": {}
        }
      ],
      "source": [
        "# график количества минут разговоров\n",
        "ultra['duration'].plot(kind='hist', ec='black', bins=30, figsize=(9, 9), grid=True)\n",
        "plt.xlabel('Длительность разговора в минутах', fontsize=15)\n",
        "plt.ylabel('Частота упоминания', fontsize=15)\n",
        "plt.xlim([0, 1500])\n",
        "plt.title(\"Количество минут разговора для тарифа Ultra\")\n",
        "plt.show()\n",
        "\n"
      ]
    },
    {
      "cell_type": "code",
      "execution_count": 58,
      "metadata": {
        "id": "H2an5B-0UjbW",
        "outputId": "b4732298-11e7-4370-baef-0f00b6604ecd",
        "colab": {
          "base_uri": "https://localhost:8080/"
        }
      },
      "outputs": [
        {
          "output_type": "execute_result",
          "data": {
            "text/plain": [
              "count     936.000000\n",
              "mean      551.708333\n",
              "std       304.979493\n",
              "min         1.000000\n",
              "25%       319.500000\n",
              "50%       533.000000\n",
              "75%       760.250000\n",
              "max      1673.000000\n",
              "Name: duration, dtype: float64"
            ]
          },
          "metadata": {},
          "execution_count": 58
        }
      ],
      "source": [
        "# статистические данные по столбцу\n",
        "ultra['duration'].describe()"
      ]
    },
    {
      "cell_type": "code",
      "execution_count": 59,
      "metadata": {
        "id": "fNjo_NOjUjbW",
        "outputId": "668b5a37-2284-40b1-81cd-1199a16d79f2",
        "colab": {
          "base_uri": "https://localhost:8080/"
        }
      },
      "outputs": [
        {
          "output_type": "execute_result",
          "data": {
            "text/plain": [
              "516399.0"
            ]
          },
          "metadata": {},
          "execution_count": 59
        }
      ],
      "source": [
        "# общее количество минут\n",
        "ultra['duration'].sum()"
      ]
    },
    {
      "cell_type": "markdown",
      "metadata": {
        "id": "KJQWtZxoUjbX"
      },
      "source": [
        "Общая продолжительность звонков на тарифе Ultra - 516399 минут. В среднем клиенты используют 551 минуту голоса в месяц. Учитывая, что включенных и предоплаченнх минут в тарифе Ultra - 3000, а максимальное значение длительности разговора - 1673, можно сделать вывод, что если клиенты и выходят за предоплаченный лимит - это случается очень редко и в виде исключения."
      ]
    },
    {
      "cell_type": "markdown",
      "metadata": {
        "id": "FRRLPMSKUjbX"
      },
      "source": [
        "Смотрю как выглядят минуты разговора для тарифа Smart."
      ]
    },
    {
      "cell_type": "code",
      "execution_count": 60,
      "metadata": {
        "id": "AOcm15VPUjbX",
        "outputId": "c824c8ef-9fad-4c60-8e46-d33db0e02ac3",
        "colab": {
          "base_uri": "https://localhost:8080/",
          "height": 801
        }
      },
      "outputs": [
        {
          "output_type": "display_data",
          "data": {
            "text/plain": [
              "<Figure size 900x900 with 1 Axes>"
            ],
            "image/png": "[encoded data removed]"
          },
          "metadata": {}
        }
      ],
      "source": [
        "# график количества минут разговоров\n",
        "smart['duration'].plot(kind='hist', ec='black', bins=30, figsize=(9, 9), grid=True)\n",
        "plt.xlabel('Длительность разговора в минутах', fontsize=15)\n",
        "plt.ylabel('Частота упоминания', fontsize=15)\n",
        "plt.xlim([0, 1500])\n",
        "plt.title(\"Количество минут разговора для тарифа Smart\")\n",
        "plt.show()"
      ]
    },
    {
      "cell_type": "code",
      "execution_count": 61,
      "metadata": {
        "id": "Um5XCTvoUjbX",
        "outputId": "e70e504d-c3a4-4743-c9bb-f9c95555d77d",
        "colab": {
          "base_uri": "https://localhost:8080/"
        }
      },
      "outputs": [
        {
          "output_type": "execute_result",
          "data": {
            "text/plain": [
              "count    2219.000000\n",
              "mean      419.776476\n",
              "std       188.745325\n",
              "min         2.000000\n",
              "25%       285.500000\n",
              "50%       423.000000\n",
              "75%       546.000000\n",
              "max      1435.000000\n",
              "Name: duration, dtype: float64"
            ]
          },
          "metadata": {},
          "execution_count": 61
        }
      ],
      "source": [
        "# статистические данные по столбцу\n",
        "smart['duration'].describe()"
      ]
    },
    {
      "cell_type": "code",
      "execution_count": 62,
      "metadata": {
        "id": "kgkOlRETUjbX",
        "outputId": "06388df3-2eef-44ff-b0aa-415cbc68a96a",
        "colab": {
          "base_uri": "https://localhost:8080/"
        }
      },
      "outputs": [
        {
          "output_type": "execute_result",
          "data": {
            "text/plain": [
              "931484.0"
            ]
          },
          "metadata": {},
          "execution_count": 62
        }
      ],
      "source": [
        "# общее количество минут\n",
        "smart['duration'].sum()"
      ]
    },
    {
      "cell_type": "markdown",
      "metadata": {
        "id": "j3DrZi6AUjbX"
      },
      "source": [
        "Общая продолжительность звонков на тарифе Smart - 931484 минут. В среднем клиенты используют 419 минут голоса в месяц. Учитывая, что включенных и предоплаченнх минут в тарифе Smart - 500, а максимальное значение 1673, можно сделать вывод, что клиенты тарифа или очень близки к лимиту предоплаченных минут или довольно часто выходят за предоплаченный лимит."
      ]
    },
    {
      "cell_type": "code",
      "execution_count": 63,
      "metadata": {
        "id": "lC4dw5YKUjbX",
        "outputId": "c07f1d85-eb58-4fb3-b753-ee6b87954719",
        "colab": {
          "base_uri": "https://localhost:8080/"
        }
      },
      "outputs": [
        {
          "output_type": "execute_result",
          "data": {
            "text/plain": [
              "user_id                  754\n",
              "month                    754\n",
              "duration                 754\n",
              "calls_amount             754\n",
              "mb_used                  754\n",
              "messages_amount          754\n",
              "tariff                   754\n",
              "city                     754\n",
              "messages_included        754\n",
              "mb_per_month_included    754\n",
              "minutes_included         754\n",
              "rub_monthly_fee          754\n",
              "rub_per_gb               754\n",
              "rub_per_message          754\n",
              "rub_per_minute           754\n",
              "extra_expenses           754\n",
              "income                   754\n",
              "dtype: int64"
            ]
          },
          "metadata": {},
          "execution_count": 63
        }
      ],
      "source": [
        "# проверяем количество клиентов превыисивших предоплаченны лимит\n",
        "smart.query('duration>500').count()"
      ]
    },
    {
      "cell_type": "markdown",
      "metadata": {
        "id": "IQITaOoKUjbX"
      },
      "source": [
        "Клиентов, превышающих предоплаченный лимит - около 33%  от общего числа клиентов, пользующихся тарифом Smart."
      ]
    },
    {
      "cell_type": "markdown",
      "metadata": {
        "id": "wdvt5Jw_UjbY"
      },
      "source": [
        "Собираю всю информацию по звонкам в одну таблицу, добавляю стандартное отклонение и дисперсию:"
      ]
    },
    {
      "cell_type": "code",
      "execution_count": 64,
      "metadata": {
        "id": "_qvt66MGUjbY",
        "outputId": "9d75edb7-cbd9-4048-e496-fd71d4990eec",
        "colab": {
          "base_uri": "https://localhost:8080/",
          "height": 175
        }
      },
      "outputs": [
        {
          "output_type": "execute_result",
          "data": {
            "text/plain": [
              "<pandas.io.formats.style.Styler at 0x7fd15d560df0>"
            ],
            "text/html": [
              "<style type=\"text/css\">\n",
              "</style>\n",
              "<table id=\"T_a5a7c\" class=\"dataframe\">\n",
              "  <thead>\n",
              "    <tr>\n",
              "      <th class=\"blank level0\" >&nbsp;</th>\n",
              "      <th id=\"T_a5a7c_level0_col0\" class=\"col_heading level0 col0\" colspan=\"4\">duration</th>\n",
              "    </tr>\n",
              "    <tr>\n",
              "      <th class=\"blank level1\" >&nbsp;</th>\n",
              "      <th id=\"T_a5a7c_level1_col0\" class=\"col_heading level1 col0\" >median</th>\n",
              "      <th id=\"T_a5a7c_level1_col1\" class=\"col_heading level1 col1\" >mean</th>\n",
              "      <th id=\"T_a5a7c_level1_col2\" class=\"col_heading level1 col2\" >var</th>\n",
              "      <th id=\"T_a5a7c_level1_col3\" class=\"col_heading level1 col3\" >std</th>\n",
              "    </tr>\n",
              "    <tr>\n",
              "      <th class=\"index_name level0\" >tariff</th>\n",
              "      <th class=\"blank col0\" >&nbsp;</th>\n",
              "      <th class=\"blank col1\" >&nbsp;</th>\n",
              "      <th class=\"blank col2\" >&nbsp;</th>\n",
              "      <th class=\"blank col3\" >&nbsp;</th>\n",
              "    </tr>\n",
              "  </thead>\n",
              "  <tbody>\n",
              "    <tr>\n",
              "      <th id=\"T_a5a7c_level0_row0\" class=\"row_heading level0 row0\" >smart</th>\n",
              "      <td id=\"T_a5a7c_row0_col0\" class=\"data row0 col0\" >423.0</td>\n",
              "      <td id=\"T_a5a7c_row0_col1\" class=\"data row0 col1\" >419.8</td>\n",
              "      <td id=\"T_a5a7c_row0_col2\" class=\"data row0 col2\" >35624.8</td>\n",
              "      <td id=\"T_a5a7c_row0_col3\" class=\"data row0 col3\" >188.7</td>\n",
              "    </tr>\n",
              "    <tr>\n",
              "      <th id=\"T_a5a7c_level0_row1\" class=\"row_heading level0 row1\" >ultra</th>\n",
              "      <td id=\"T_a5a7c_row1_col0\" class=\"data row1 col0\" >533.0</td>\n",
              "      <td id=\"T_a5a7c_row1_col1\" class=\"data row1 col1\" >551.7</td>\n",
              "      <td id=\"T_a5a7c_row1_col2\" class=\"data row1 col2\" >93012.5</td>\n",
              "      <td id=\"T_a5a7c_row1_col3\" class=\"data row1 col3\" >305.0</td>\n",
              "    </tr>\n",
              "  </tbody>\n",
              "</table>\n"
            ]
          },
          "metadata": {},
          "execution_count": 64
        }
      ],
      "source": [
        "# таблица с данными о среднем, медианном, стандартном отклонении и дисперсии\n",
        "clients_total.groupby('tariff')\\\n",
        "     .agg({'duration':['median','mean','var','std']})\\\n",
        "     .style.format(\"{:.1f}\")"
      ]
    },
    {
      "cell_type": "markdown",
      "metadata": {
        "id": "_wfhEg5VUjbY"
      },
      "source": [
        "## <a name=\"internet-info-03\">Internet (информация об использовании интернета)</a>"
      ]
    },
    {
      "cell_type": "markdown",
      "metadata": {
        "id": "lOdRJ9djUjbY"
      },
      "source": [
        "Смотрю информацию по объему трафика для тарифа Ultra."
      ]
    },
    {
      "cell_type": "code",
      "execution_count": 65,
      "metadata": {
        "id": "lANBtcrwUjbY",
        "outputId": "20bec9b9-f5a8-460d-dd58-91def9de746b",
        "colab": {
          "base_uri": "https://localhost:8080/",
          "height": 802
        }
      },
      "outputs": [
        {
          "output_type": "display_data",
          "data": {
            "text/plain": [
              "<Figure size 900x900 with 1 Axes>"
            ],
            "image/png": "[encoded data removed]"
          },
          "metadata": {}
        }
      ],
      "source": [
        "# график по объему трафика разговоров\n",
        "ultra['mb_used'].plot(kind='hist', ec='black', bins=30, figsize=(9, 9), grid=True)\n",
        "plt.xlabel('Объем использованого трафика', fontsize=15)\n",
        "plt.ylabel('Частота упоминания', fontsize=15)\n",
        "plt.title(\"Объем использованого трафика в мб/ месяц для тарифа Ultra\")\n",
        "plt.show()"
      ]
    },
    {
      "cell_type": "code",
      "execution_count": 66,
      "metadata": {
        "id": "wLa9g1Q0UjbY",
        "outputId": "57dd5832-5611-4c3d-e01b-a1259890766c",
        "colab": {
          "base_uri": "https://localhost:8080/"
        }
      },
      "outputs": [
        {
          "output_type": "execute_result",
          "data": {
            "text/plain": [
              "count      936.000000\n",
              "mean     19718.717949\n",
              "std       9972.317787\n",
              "min        366.000000\n",
              "25%      11917.000000\n",
              "50%      19445.000000\n",
              "75%      26958.500000\n",
              "max      49789.000000\n",
              "Name: mb_used, dtype: float64"
            ]
          },
          "metadata": {},
          "execution_count": 66
        }
      ],
      "source": [
        "# статистические данные по столбцу\n",
        "ultra['mb_used'].describe()"
      ]
    },
    {
      "cell_type": "code",
      "execution_count": 67,
      "metadata": {
        "id": "JAuGSJmfUjbY",
        "outputId": "37b7cf87-4671-4f67-a5c9-22d3ccfaff52",
        "colab": {
          "base_uri": "https://localhost:8080/"
        }
      },
      "outputs": [
        {
          "output_type": "execute_result",
          "data": {
            "text/plain": [
              "18456720.0"
            ]
          },
          "metadata": {},
          "execution_count": 67
        }
      ],
      "source": [
        "# общее количество мб\n",
        "ultra['mb_used'].sum()"
      ]
    },
    {
      "cell_type": "markdown",
      "metadata": {
        "id": "sWAShjc0UjbY"
      },
      "source": [
        "Общее количество трафика на тарифе Ultra -  18440066 мб. В среднем клиенты используют 19700 мб трафика в месяц. Учитывая, что включенных и предоплаченнх мб в тарифе Ultra - 30720, а максимальное значение использования трафика - 49746 мб, можно сделать вывод, что существуют клиенты, которые выходят за пределы предоплаченного количества. "
      ]
    },
    {
      "cell_type": "code",
      "execution_count": 68,
      "metadata": {
        "id": "iEbTelLDUjbZ",
        "outputId": "5d547e3d-0fa8-4e2f-af69-3690c3c44690",
        "colab": {
          "base_uri": "https://localhost:8080/"
        }
      },
      "outputs": [
        {
          "output_type": "execute_result",
          "data": {
            "text/plain": [
              "user_id                  128\n",
              "month                    128\n",
              "duration                 128\n",
              "calls_amount             128\n",
              "mb_used                  128\n",
              "messages_amount          128\n",
              "tariff                   128\n",
              "city                     128\n",
              "messages_included        128\n",
              "mb_per_month_included    128\n",
              "minutes_included         128\n",
              "rub_monthly_fee          128\n",
              "rub_per_gb               128\n",
              "rub_per_message          128\n",
              "rub_per_minute           128\n",
              "extra_expenses           128\n",
              "income                   128\n",
              "dtype: int64"
            ]
          },
          "metadata": {},
          "execution_count": 68
        }
      ],
      "source": [
        "# проверяем количество клиентов первысивших лимит\n",
        "ultra.query('mb_used > 30720').count()"
      ]
    },
    {
      "cell_type": "markdown",
      "metadata": {
        "id": "nlex6ZTtUjbZ"
      },
      "source": [
        "Всего таких клиентов около 13% от общего числа клиентов, пользующихся тарифом Ultra."
      ]
    },
    {
      "cell_type": "markdown",
      "metadata": {
        "id": "gHf5CITWUjbZ"
      },
      "source": [
        "Смотрю информацию по объему трафика для тарифа Smart."
      ]
    },
    {
      "cell_type": "code",
      "execution_count": 69,
      "metadata": {
        "id": "X4KjWWPPUjbZ",
        "outputId": "8b06bc16-e329-47d3-ecbe-73d60224c22e",
        "colab": {
          "base_uri": "https://localhost:8080/",
          "height": 802
        }
      },
      "outputs": [
        {
          "output_type": "display_data",
          "data": {
            "text/plain": [
              "<Figure size 900x900 with 1 Axes>"
            ],
            "image/png": "[encoded data removed]"
          },
          "metadata": {}
        }
      ],
      "source": [
        "# график по объему трафика разговоров\n",
        "smart['mb_used'].plot(kind='hist', ec='black', bins=30, figsize=(9, 9), grid=True)\n",
        "plt.xlabel('Объем использованого трафика', fontsize=15)\n",
        "plt.ylabel('Частота упоминания', fontsize=15)\n",
        "#plt.xlim([0, 1500])\n",
        "#plt.xlim([0, 1500])\n",
        "plt.title(\"Объем использованого трафика в мб/ месяц для тарифа Smart\")\n",
        "plt.show()"
      ]
    },
    {
      "cell_type": "code",
      "execution_count": 70,
      "metadata": {
        "id": "QSUrTX1pUjbZ",
        "outputId": "cf84b847-5c6b-4967-cbd0-686ab176d808",
        "colab": {
          "base_uri": "https://localhost:8080/"
        }
      },
      "outputs": [
        {
          "output_type": "execute_result",
          "data": {
            "text/plain": [
              "count     2219.000000\n",
              "mean     16246.091933\n",
              "std       5865.865927\n",
              "min        202.000000\n",
              "25%      12686.500000\n",
              "50%      16531.000000\n",
              "75%      20074.000000\n",
              "max      38610.000000\n",
              "Name: mb_used, dtype: float64"
            ]
          },
          "metadata": {},
          "execution_count": 70
        }
      ],
      "source": [
        "# статистические данные по столбцу\n",
        "smart['mb_used'].describe()"
      ]
    },
    {
      "cell_type": "code",
      "execution_count": 71,
      "metadata": {
        "id": "ITJ6cBJ8UjbZ",
        "outputId": "7393bb40-0dbe-4f81-fa3f-68ec9bd75e0b",
        "colab": {
          "base_uri": "https://localhost:8080/"
        }
      },
      "outputs": [
        {
          "output_type": "execute_result",
          "data": {
            "text/plain": [
              "36050078.0"
            ]
          },
          "metadata": {},
          "execution_count": 71
        }
      ],
      "source": [
        "# общее количество мб\n",
        "smart['mb_used'].sum()"
      ]
    },
    {
      "cell_type": "markdown",
      "metadata": {
        "id": "mIwcIHjyUjbZ"
      },
      "source": [
        "Общее количество трафика на тарифе Smart - 36004953 мб. В среднем клиенты используют 16225 мб трафика в месяц. Учитывая, что включенных и предоплаченнх мб в тарифе Smart - 15360, а максимальное значение использования трафика - 38553 мб, можно сделать вывод, что существуют клиенты, которые выходят за пределы предоплаченного количества. "
      ]
    },
    {
      "cell_type": "code",
      "execution_count": 72,
      "metadata": {
        "id": "JVZDzL1vUjbZ",
        "outputId": "e5318696-ae66-46a3-dd15-4834c802fe23",
        "colab": {
          "base_uri": "https://localhost:8080/"
        }
      },
      "outputs": [
        {
          "output_type": "execute_result",
          "data": {
            "text/plain": [
              "user_id                  1304\n",
              "month                    1304\n",
              "duration                 1304\n",
              "calls_amount             1304\n",
              "mb_used                  1304\n",
              "messages_amount          1304\n",
              "tariff                   1304\n",
              "city                     1304\n",
              "messages_included        1304\n",
              "mb_per_month_included    1304\n",
              "minutes_included         1304\n",
              "rub_monthly_fee          1304\n",
              "rub_per_gb               1304\n",
              "rub_per_message          1304\n",
              "rub_per_minute           1304\n",
              "extra_expenses           1304\n",
              "income                   1304\n",
              "dtype: int64"
            ]
          },
          "metadata": {},
          "execution_count": 72
        }
      ],
      "source": [
        "# проверяем количество клиентов первысивших лимит\n",
        "smart.query('mb_used > 15360').count()"
      ]
    },
    {
      "cell_type": "markdown",
      "metadata": {
        "id": "_-ZqONGTUjbZ"
      },
      "source": [
        "Таких клиентов около 60%  от общего числа клиентов, пользующихся тарифом Smart."
      ]
    },
    {
      "cell_type": "markdown",
      "metadata": {
        "id": "LDrQNwSlUjbZ"
      },
      "source": [
        "Добавляю всю инофрмацию по трафику в одну таблицу, добавляю стандартное отклонение и дисперсию."
      ]
    },
    {
      "cell_type": "code",
      "execution_count": 73,
      "metadata": {
        "id": "8PBj-Ae8Ujba",
        "outputId": "680aceb7-eedf-4f61-d678-0fda341e20a1",
        "colab": {
          "base_uri": "https://localhost:8080/",
          "height": 175
        }
      },
      "outputs": [
        {
          "output_type": "execute_result",
          "data": {
            "text/plain": [
              "<pandas.io.formats.style.Styler at 0x7fd15d35fe20>"
            ],
            "text/html": [
              "<style type=\"text/css\">\n",
              "</style>\n",
              "<table id=\"T_1106e\" class=\"dataframe\">\n",
              "  <thead>\n",
              "    <tr>\n",
              "      <th class=\"blank level0\" >&nbsp;</th>\n",
              "      <th id=\"T_1106e_level0_col0\" class=\"col_heading level0 col0\" colspan=\"4\">mb_used</th>\n",
              "    </tr>\n",
              "    <tr>\n",
              "      <th class=\"blank level1\" >&nbsp;</th>\n",
              "      <th id=\"T_1106e_level1_col0\" class=\"col_heading level1 col0\" >median</th>\n",
              "      <th id=\"T_1106e_level1_col1\" class=\"col_heading level1 col1\" >mean</th>\n",
              "      <th id=\"T_1106e_level1_col2\" class=\"col_heading level1 col2\" >var</th>\n",
              "      <th id=\"T_1106e_level1_col3\" class=\"col_heading level1 col3\" >std</th>\n",
              "    </tr>\n",
              "    <tr>\n",
              "      <th class=\"index_name level0\" >tariff</th>\n",
              "      <th class=\"blank col0\" >&nbsp;</th>\n",
              "      <th class=\"blank col1\" >&nbsp;</th>\n",
              "      <th class=\"blank col2\" >&nbsp;</th>\n",
              "      <th class=\"blank col3\" >&nbsp;</th>\n",
              "    </tr>\n",
              "  </thead>\n",
              "  <tbody>\n",
              "    <tr>\n",
              "      <th id=\"T_1106e_level0_row0\" class=\"row_heading level0 row0\" >smart</th>\n",
              "      <td id=\"T_1106e_row0_col0\" class=\"data row0 col0\" >16531.0</td>\n",
              "      <td id=\"T_1106e_row0_col1\" class=\"data row0 col1\" >16246.1</td>\n",
              "      <td id=\"T_1106e_row0_col2\" class=\"data row0 col2\" >34408383.1</td>\n",
              "      <td id=\"T_1106e_row0_col3\" class=\"data row0 col3\" >5865.9</td>\n",
              "    </tr>\n",
              "    <tr>\n",
              "      <th id=\"T_1106e_level0_row1\" class=\"row_heading level0 row1\" >ultra</th>\n",
              "      <td id=\"T_1106e_row1_col0\" class=\"data row1 col0\" >19445.0</td>\n",
              "      <td id=\"T_1106e_row1_col1\" class=\"data row1 col1\" >19718.7</td>\n",
              "      <td id=\"T_1106e_row1_col2\" class=\"data row1 col2\" >99447122.0</td>\n",
              "      <td id=\"T_1106e_row1_col3\" class=\"data row1 col3\" >9972.3</td>\n",
              "    </tr>\n",
              "  </tbody>\n",
              "</table>\n"
            ]
          },
          "metadata": {},
          "execution_count": 73
        }
      ],
      "source": [
        "# таблица с данными о среднем, медианном, стандартном отклонении и дисперсии\n",
        "clients_total.groupby('tariff')\\\n",
        "     .agg({'mb_used':['median','mean','var','std']})\\\n",
        "     .style.format(\"{:.1f}\")"
      ]
    },
    {
      "cell_type": "markdown",
      "metadata": {
        "id": "fQcVuvt-Ujba"
      },
      "source": [
        "## <a name=\"messages-info-03\">Messages (информация о sms сообщениях)</a>"
      ]
    },
    {
      "cell_type": "markdown",
      "metadata": {
        "id": "TZvjetVRUjba"
      },
      "source": [
        "Смотрю информацию по объему сообщений для тарифа Ultra."
      ]
    },
    {
      "cell_type": "code",
      "execution_count": 74,
      "metadata": {
        "id": "qE6UBAfmUjba",
        "outputId": "7046a747-64d9-416e-c336-39888551a903",
        "colab": {
          "base_uri": "https://localhost:8080/",
          "height": 801
        }
      },
      "outputs": [
        {
          "output_type": "display_data",
          "data": {
            "text/plain": [
              "<Figure size 900x900 with 1 Axes>"
            ],
            "image/png": "[encoded data removed]"
          },
          "metadata": {}
        }
      ],
      "source": [
        "# график по количеству сообщений\n",
        "ultra['messages_amount'].plot(kind='hist', ec='black', bins=30, figsize=(9, 9), grid=True)\n",
        "plt.xlabel('Количество сообщений', fontsize=15)\n",
        "plt.ylabel('Частота упоминания', fontsize=15)\n",
        "plt.title(\"Количество сообщения для тарифа Ultra\")\n",
        "plt.show()"
      ]
    },
    {
      "cell_type": "code",
      "execution_count": 75,
      "metadata": {
        "id": "KkytKE8xUjba",
        "outputId": "8da79e3e-457f-476d-b388-8d6a95916b3e",
        "colab": {
          "base_uri": "https://localhost:8080/"
        }
      },
      "outputs": [
        {
          "output_type": "execute_result",
          "data": {
            "text/plain": [
              "count    936.000000\n",
              "mean      49.033120\n",
              "std       46.778211\n",
              "min        0.000000\n",
              "25%        5.000000\n",
              "50%       39.500000\n",
              "75%       79.000000\n",
              "max      224.000000\n",
              "Name: messages_amount, dtype: float64"
            ]
          },
          "metadata": {},
          "execution_count": 75
        }
      ],
      "source": [
        "# статистические данные по столбцу\n",
        "ultra['messages_amount'].describe()"
      ]
    },
    {
      "cell_type": "markdown",
      "metadata": {
        "id": "S92ilUxgUjba"
      },
      "source": [
        "В столбце довольно много 0, видимо многие клиенты пользуются только звонками или обмениваются сообщениями в мессенджерах, а значит больше тратят на интернет. Чтобы понять, насолько близко среднее значение к истине, посмотрим еще на медиану, которая более устойчива к выбросам."
      ]
    },
    {
      "cell_type": "code",
      "execution_count": 76,
      "metadata": {
        "id": "U3_AZkeLUjba",
        "outputId": "45ffe969-2467-4eb0-c8b7-0026eda83d4d",
        "colab": {
          "base_uri": "https://localhost:8080/"
        }
      },
      "outputs": [
        {
          "output_type": "execute_result",
          "data": {
            "text/plain": [
              "39.5"
            ]
          },
          "metadata": {},
          "execution_count": 76
        }
      ],
      "source": [
        "# проверяем медиану\n",
        "ultra['messages_amount'].median()"
      ]
    },
    {
      "cell_type": "markdown",
      "metadata": {
        "id": "r15DPD-HUjba"
      },
      "source": [
        "Получается разница примерно в 10 сообщений/ клиент. С моей точки зрения - это довольно большая разница, которая может повлиять на выручку. Поэтому для анализа я буду использовать более устойчивую к выбросам медиану."
      ]
    },
    {
      "cell_type": "code",
      "execution_count": 77,
      "metadata": {
        "id": "9q6iHJheUjba",
        "outputId": "92155388-9630-414f-f24e-6c0cf95bb2c1",
        "colab": {
          "base_uri": "https://localhost:8080/"
        }
      },
      "outputs": [
        {
          "output_type": "execute_result",
          "data": {
            "text/plain": [
              "45895.0"
            ]
          },
          "metadata": {},
          "execution_count": 77
        }
      ],
      "source": [
        "# общее количество сообщений\n",
        "ultra['messages_amount'].sum()"
      ]
    },
    {
      "cell_type": "markdown",
      "metadata": {
        "id": "uW_D9rNLUjbb"
      },
      "source": [
        "Общее количество сообщений на тарифе Ultra - 45895. В среднем клиенты посылают около 40 сообщений в месяц. Учитывая, что включенных и предоплаченнх сообщений в тарифе Ultra - 1000, а максимальное значение отправленных сообщений - 224, можно сделать вывод, что клиенты редко выходят за предоплаченный лимит сообщений."
      ]
    },
    {
      "cell_type": "markdown",
      "metadata": {
        "id": "G3F3lAMrUjbb"
      },
      "source": [
        "Смотрю информацию по объему сообщений для тарифа Smart."
      ]
    },
    {
      "cell_type": "code",
      "execution_count": 78,
      "metadata": {
        "id": "264_991ZUjbb",
        "outputId": "94ad3e5c-f0c6-434e-fa4b-bbb37cfbbd38",
        "colab": {
          "base_uri": "https://localhost:8080/",
          "height": 801
        }
      },
      "outputs": [
        {
          "output_type": "display_data",
          "data": {
            "text/plain": [
              "<Figure size 900x900 with 1 Axes>"
            ],
            "image/png": "[encoded data removed]"
          },
          "metadata": {}
        }
      ],
      "source": [
        "# график по количеству сообщений\n",
        "smart['messages_amount'].plot(kind='hist', ec='black', bins=30, figsize=(9, 9), grid=True)\n",
        "plt.xlabel('Количество сообщений', fontsize=15)\n",
        "plt.ylabel('Частота упоминания', fontsize=15)\n",
        "#plt.xlim([0, 1500])\n",
        "#plt.xlim([0, 1500])\n",
        "plt.title(\"Количество сообщений для тарифа Ultra\")\n",
        "plt.show()"
      ]
    },
    {
      "cell_type": "code",
      "execution_count": 79,
      "metadata": {
        "id": "kVqA9_3JUjbb",
        "outputId": "cdeb37a5-43fe-473d-c835-e7c8955286d0",
        "colab": {
          "base_uri": "https://localhost:8080/"
        }
      },
      "outputs": [
        {
          "output_type": "execute_result",
          "data": {
            "text/plain": [
              "count    2219.000000\n",
              "mean       33.421361\n",
              "std        28.266229\n",
              "min         0.000000\n",
              "25%        10.000000\n",
              "50%        28.000000\n",
              "75%        51.000000\n",
              "max       143.000000\n",
              "Name: messages_amount, dtype: float64"
            ]
          },
          "metadata": {},
          "execution_count": 79
        }
      ],
      "source": [
        "# статистические данные по столбцу\n",
        "smart['messages_amount'].describe()"
      ]
    },
    {
      "cell_type": "markdown",
      "metadata": {
        "id": "oVckFA3rUjbb"
      },
      "source": [
        "<div class=\"alert alert-danger\">\n",
        "<h2> Комментарий ревьюера </h2>\n",
        "\n",
        "Также в задании просят рассчитать и дисперсию по каждому параметру. Дополни таблицы по стат. показателям по всем услугам. \n",
        "\n",
        "</div>\n"
      ]
    },
    {
      "cell_type": "markdown",
      "metadata": {
        "id": "hMGSxZvFUjbb"
      },
      "source": [
        "<div class=\"alert alert-success\">\n",
        "<h2> Комментарий ревьюера </h2>\n",
        "\n",
        "Будет здорово, если все стат. показатели ты соберешь в единую таблицу. Так нам будет заметно удобнее сравнивать тарифы между собой. \n",
        "\n",
        "</div>\n"
      ]
    },
    {
      "cell_type": "markdown",
      "metadata": {
        "id": "w7WJA5OxUjbb"
      },
      "source": [
        "<div class=\"alert alert-info\" role=\"alert\">\n",
        "Добавила таблицы с дисперсией, стандартным отклонением и пр. данными по двум тарифам в каждый раздел.\n",
        "Данные по сообщениям ниже, в конце этого раздела.\n",
        "</div>"
      ]
    },
    {
      "cell_type": "markdown",
      "metadata": {
        "id": "iFChB_AmUjbb"
      },
      "source": [
        "Ситуация со средним значением и медианой такая же, как и у тарифа Ultra. Посмотрим, насколько велика разница."
      ]
    },
    {
      "cell_type": "code",
      "execution_count": 80,
      "metadata": {
        "id": "D6HwwgZ7Ujbb",
        "outputId": "88297a2d-a78d-4557-999d-768b86b3ae05",
        "colab": {
          "base_uri": "https://localhost:8080/"
        }
      },
      "outputs": [
        {
          "output_type": "execute_result",
          "data": {
            "text/plain": [
              "28.0"
            ]
          },
          "metadata": {},
          "execution_count": 80
        }
      ],
      "source": [
        "# проверяем медиану\n",
        "smart['messages_amount'].median()"
      ]
    },
    {
      "cell_type": "markdown",
      "metadata": {
        "id": "_LKaNYNRUjbc"
      },
      "source": [
        "Разница около 3 сообщений, думаю это не очень большая разница и можно использовать как среднее значение, так и медиану."
      ]
    },
    {
      "cell_type": "code",
      "execution_count": 81,
      "metadata": {
        "id": "EnzzNLIBUjbc",
        "outputId": "96bb5b2f-067b-4c7c-ac3a-08f12bc4ad12",
        "colab": {
          "base_uri": "https://localhost:8080/"
        }
      },
      "outputs": [
        {
          "output_type": "execute_result",
          "data": {
            "text/plain": [
              "74162.0"
            ]
          },
          "metadata": {},
          "execution_count": 81
        }
      ],
      "source": [
        "# общее количество сообщений\n",
        "smart['messages_amount'].sum()"
      ]
    },
    {
      "cell_type": "markdown",
      "metadata": {
        "id": "TCrKNMNiUjbc"
      },
      "source": [
        "Общее количество сообщений на тарифе Ultra - 74162. В среднем клиенты посылают около 30 сообщений в месяц. Учитывая, что включенных и предоплаченнх сообщений в тарифе Ultra - 50, а максимальное значение отправленных сообщений - 143, можно сделать вывод, что часть клиентов превышает лимит. "
      ]
    },
    {
      "cell_type": "code",
      "execution_count": 82,
      "metadata": {
        "id": "a5Cdt-ZeUjbc",
        "outputId": "c7a6c53e-eab9-4dc9-db98-8668c9119053",
        "colab": {
          "base_uri": "https://localhost:8080/"
        }
      },
      "outputs": [
        {
          "output_type": "execute_result",
          "data": {
            "text/plain": [
              "user_id                  564\n",
              "month                    564\n",
              "duration                 564\n",
              "calls_amount             564\n",
              "mb_used                  564\n",
              "messages_amount          564\n",
              "tariff                   564\n",
              "city                     564\n",
              "messages_included        564\n",
              "mb_per_month_included    564\n",
              "minutes_included         564\n",
              "rub_monthly_fee          564\n",
              "rub_per_gb               564\n",
              "rub_per_message          564\n",
              "rub_per_minute           564\n",
              "extra_expenses           564\n",
              "income                   564\n",
              "dtype: int64"
            ]
          },
          "metadata": {},
          "execution_count": 82
        }
      ],
      "source": [
        "# проверяем количество клиентов первысивших лимит\n",
        "smart.query('messages_amount > 50').count()"
      ]
    },
    {
      "cell_type": "markdown",
      "metadata": {
        "id": "YIK5pgauUjbc"
      },
      "source": [
        "Таких клиентов около 25% от общего числа клиентов, пользующихся тарифом Smart."
      ]
    },
    {
      "cell_type": "markdown",
      "metadata": {
        "id": "lGQ3twmNUjbc"
      },
      "source": [
        "Соберем все показатели по сообщениям в одну таблицу, добавим стандартное отклонение и дисперсию."
      ]
    },
    {
      "cell_type": "code",
      "execution_count": 83,
      "metadata": {
        "id": "qvwlAOGhUjbc",
        "outputId": "e1174159-a671-400a-dc2f-1b676e7ab2be",
        "colab": {
          "base_uri": "https://localhost:8080/",
          "height": 175
        }
      },
      "outputs": [
        {
          "output_type": "execute_result",
          "data": {
            "text/plain": [
              "<pandas.io.formats.style.Styler at 0x7fd15d560be0>"
            ],
            "text/html": [
              "<style type=\"text/css\">\n",
              "</style>\n",
              "<table id=\"T_b9209\" class=\"dataframe\">\n",
              "  <thead>\n",
              "    <tr>\n",
              "      <th class=\"blank level0\" >&nbsp;</th>\n",
              "      <th id=\"T_b9209_level0_col0\" class=\"col_heading level0 col0\" colspan=\"4\">messages_amount</th>\n",
              "    </tr>\n",
              "    <tr>\n",
              "      <th class=\"blank level1\" >&nbsp;</th>\n",
              "      <th id=\"T_b9209_level1_col0\" class=\"col_heading level1 col0\" >median</th>\n",
              "      <th id=\"T_b9209_level1_col1\" class=\"col_heading level1 col1\" >mean</th>\n",
              "      <th id=\"T_b9209_level1_col2\" class=\"col_heading level1 col2\" >var</th>\n",
              "      <th id=\"T_b9209_level1_col3\" class=\"col_heading level1 col3\" >std</th>\n",
              "    </tr>\n",
              "    <tr>\n",
              "      <th class=\"index_name level0\" >tariff</th>\n",
              "      <th class=\"blank col0\" >&nbsp;</th>\n",
              "      <th class=\"blank col1\" >&nbsp;</th>\n",
              "      <th class=\"blank col2\" >&nbsp;</th>\n",
              "      <th class=\"blank col3\" >&nbsp;</th>\n",
              "    </tr>\n",
              "  </thead>\n",
              "  <tbody>\n",
              "    <tr>\n",
              "      <th id=\"T_b9209_level0_row0\" class=\"row_heading level0 row0\" >smart</th>\n",
              "      <td id=\"T_b9209_row0_col0\" class=\"data row0 col0\" >28.0</td>\n",
              "      <td id=\"T_b9209_row0_col1\" class=\"data row0 col1\" >33.4</td>\n",
              "      <td id=\"T_b9209_row0_col2\" class=\"data row0 col2\" >799.0</td>\n",
              "      <td id=\"T_b9209_row0_col3\" class=\"data row0 col3\" >28.3</td>\n",
              "    </tr>\n",
              "    <tr>\n",
              "      <th id=\"T_b9209_level0_row1\" class=\"row_heading level0 row1\" >ultra</th>\n",
              "      <td id=\"T_b9209_row1_col0\" class=\"data row1 col0\" >39.5</td>\n",
              "      <td id=\"T_b9209_row1_col1\" class=\"data row1 col1\" >49.0</td>\n",
              "      <td id=\"T_b9209_row1_col2\" class=\"data row1 col2\" >2188.2</td>\n",
              "      <td id=\"T_b9209_row1_col3\" class=\"data row1 col3\" >46.8</td>\n",
              "    </tr>\n",
              "  </tbody>\n",
              "</table>\n"
            ]
          },
          "metadata": {},
          "execution_count": 83
        }
      ],
      "source": [
        "# смотрим данные по сообщениям\n",
        "clients_total.groupby('tariff')\\\n",
        "  .agg({'messages_amount':['median','mean','var','std']})\\\n",
        "  .style.format(\"{:.1f}\")"
      ]
    },
    {
      "cell_type": "markdown",
      "metadata": {
        "id": "HapNt1m6Ujbc"
      },
      "source": [
        "<div class=\"alert alert-success\">\n",
        "<h2> Комментарий ревьюера 2</h2>\n",
        "\n",
        "Отличная таблица 👍 \n",
        "\n",
        "</div>"
      ]
    },
    {
      "cell_type": "markdown",
      "metadata": {
        "id": "-vd_IJUOUjbc"
      },
      "source": [
        "Общий вывод: клиенты тарифа Smart чаще выходят за предоплаченный лимит, если все собрать в одну таблицу и сравнить, получится следующее:\n",
        "\n",
        "|Тариф/|св. тар. звонки|св. тар. интернет|св. тар. сообщения|\n",
        "|----|----|----|----|\n",
        "|Ultra|0% |13% |0% |\n",
        "|Smart|33% |60% |25%|"
      ]
    },
    {
      "cell_type": "markdown",
      "metadata": {
        "id": "4Z9e9_1kUjbd"
      },
      "source": [
        "<div class=\"alert alert-warning\">\n",
        "<h2> Комментарий ревьюера </h2>\n",
        "\n",
        "Базовые статистические параметры получены. Приведены все необходимые графики. Графики для одинаковых услуг тарифов лучше привести на одном рисунке. Так удобнее будет сравнивать тарифы. Также можно привести график по выручке компании с разбиением по тарифу. \n",
        "\n",
        "</div>\n"
      ]
    },
    {
      "cell_type": "markdown",
      "metadata": {
        "id": "BgAyn6jCUjbd"
      },
      "source": [
        "<div class=\"alert alert-info\" role=\"alert\">\n",
        "Я спросила у кураторов и тьюторов, мне ответили - что на одном графике или на разных - это вкусовщина. Мне удобнее на разных, если я сейчас все начну переделывать на один рисунок - мне это сломает структуру документа. И что значит \"рисунок\"? График? Два тарифа на одной гистограмме? Ничего не поняла :) Я не ругаюсь, если что, я правда не поняла что надо сделать...\n",
        "</div>"
      ]
    },
    {
      "cell_type": "markdown",
      "metadata": {
        "id": "Qpq6RJVrUjbd"
      },
      "source": [
        "<div class=\"alert alert-success\">\n",
        "<h2> Комментарий ревьюера 2</h2>\n",
        "\n",
        "Две гистограммы по разным тарифам на одних осях. Вот так) Да, соглашусь, это вопрос удобства. Однако основная цель данного раздела - сравнить тарифы между собой. Лучше будет это сделать, когда гистограммы по услугам приведены на одном рисунке. \n",
        "\n",
        "</div>"
      ]
    },
    {
      "cell_type": "markdown",
      "metadata": {
        "id": "vb3i7phmUjbd"
      },
      "source": [
        "# <a name=\"hyp-test-01\">Проверка гипотез: средняя выручка</a>"
      ]
    },
    {
      "cell_type": "markdown",
      "metadata": {
        "id": "NjMYEPh4Ujbd"
      },
      "source": [
        "Сравним дисперсии выборок, чтобы выбрать значение аргумента `equal_var`."
      ]
    },
    {
      "cell_type": "code",
      "execution_count": 84,
      "metadata": {
        "id": "_G63DyYRUjbd",
        "outputId": "694dd5df-dd37-4399-8357-1bfec01d725f",
        "colab": {
          "base_uri": "https://localhost:8080/",
          "height": 175
        }
      },
      "outputs": [
        {
          "output_type": "execute_result",
          "data": {
            "text/plain": [
              "<pandas.io.formats.style.Styler at 0x7fd15d551f90>"
            ],
            "text/html": [
              "<style type=\"text/css\">\n",
              "</style>\n",
              "<table id=\"T_c206d\" class=\"dataframe\">\n",
              "  <thead>\n",
              "    <tr>\n",
              "      <th class=\"blank level0\" >&nbsp;</th>\n",
              "      <th id=\"T_c206d_level0_col0\" class=\"col_heading level0 col0\" colspan=\"2\">income</th>\n",
              "    </tr>\n",
              "    <tr>\n",
              "      <th class=\"blank level1\" >&nbsp;</th>\n",
              "      <th id=\"T_c206d_level1_col0\" class=\"col_heading level1 col0\" >var</th>\n",
              "      <th id=\"T_c206d_level1_col1\" class=\"col_heading level1 col1\" >std</th>\n",
              "    </tr>\n",
              "    <tr>\n",
              "      <th class=\"index_name level0\" >tariff</th>\n",
              "      <th class=\"blank col0\" >&nbsp;</th>\n",
              "      <th class=\"blank col1\" >&nbsp;</th>\n",
              "    </tr>\n",
              "  </thead>\n",
              "  <tbody>\n",
              "    <tr>\n",
              "      <th id=\"T_c206d_level0_row0\" class=\"row_heading level0 row0\" >smart</th>\n",
              "      <td id=\"T_c206d_row0_col0\" class=\"data row0 col0\" >502358.5</td>\n",
              "      <td id=\"T_c206d_row0_col1\" class=\"data row0 col1\" >708.8</td>\n",
              "    </tr>\n",
              "    <tr>\n",
              "      <th id=\"T_c206d_level0_row1\" class=\"row_heading level0 row1\" >ultra</th>\n",
              "      <td id=\"T_c206d_row1_col0\" class=\"data row1 col0\" >130997.2</td>\n",
              "      <td id=\"T_c206d_row1_col1\" class=\"data row1 col1\" >361.9</td>\n",
              "    </tr>\n",
              "  </tbody>\n",
              "</table>\n"
            ]
          },
          "metadata": {},
          "execution_count": 84
        }
      ],
      "source": [
        "# таблица с данными о среднем, медианном, стандартном отклонении и дисперсии\n",
        "clients_total.groupby('tariff')\\\n",
        "     .agg({'income':['var','std']})\\\n",
        "     .style.format(\"{:.1f}\")"
      ]
    },
    {
      "cell_type": "markdown",
      "metadata": {
        "id": "YK3EfsAZUjbd"
      },
      "source": [
        "Различие значительное, значит 'equal_var' = False"
      ]
    },
    {
      "cell_type": "markdown",
      "metadata": {
        "id": "E61AXqplUjbd"
      },
      "source": [
        "Задача проверить гипотезу: средняя выручка пользователей тарифов Ultra и Smart различается.\n",
        "    \n",
        "* H0: выручка пользователей тарифов Ultra и Smart не различается\n",
        "* H1: выручка пользователей тарифов Ultra и Smart различается\n",
        "\n",
        "Так как две выборки независимы, использую Student t-test."
      ]
    },
    {
      "cell_type": "markdown",
      "metadata": {
        "id": "FfLtTPEcUjbd"
      },
      "source": [
        "Сначала проверим данные о выручке на выбросы. С моей точки зрения, лучше всего для этого подходит boxplot."
      ]
    },
    {
      "cell_type": "code",
      "execution_count": 85,
      "metadata": {
        "id": "a9p1W9EDUjbd",
        "outputId": "4bf639c0-fccf-4edc-9085-fae4907fb24a",
        "colab": {
          "base_uri": "https://localhost:8080/",
          "height": 1000
        }
      },
      "outputs": [
        {
          "output_type": "execute_result",
          "data": {
            "text/plain": [
              "<Axes: title={'center': 'income'}, xlabel='tariff'>"
            ]
          },
          "metadata": {},
          "execution_count": 85
        },
        {
          "output_type": "display_data",
          "data": {
            "text/plain": [
              "<Figure size 1000x1000 with 1 Axes>"
            ],
            "image/png": "[encoded data removed]"
          },
          "metadata": {}
        },
        {
          "output_type": "display_data",
          "data": {
            "text/plain": [
              "<Figure size 1000x1000 with 1 Axes>"
            ],
            "image/png": "[encoded data removed]"
          },
          "metadata": {}
        }
      ],
      "source": [
        "# строим графики чтобы увидеть есть ли выбросы\n",
        "ultra.boxplot('income', by='tariff', figsize=(10,10))\n",
        "smart.boxplot('income', by='tariff', figsize=(10,10))\n",
        "\n"
      ]
    },
    {
      "cell_type": "markdown",
      "metadata": {
        "id": "_lxePAytUjbe"
      },
      "source": [
        "Графики выглядят странно, но самое главное, видно, что есть выбросы, которые могут исказить данные. \n",
        "\n",
        "Для того, чтобы удалить выбросы, использую функцию, которая их определяет на основании квартилей и удаляет лишние данные."
      ]
    },
    {
      "cell_type": "code",
      "execution_count": 86,
      "metadata": {
        "id": "tP2rXKtIUjbe"
      },
      "outputs": [],
      "source": [
        "# функция для поиска выбросов на 90% подсказанная разными людьми на stackoverflow, спасибо им\n",
        "def remove_outlier(df, column, graf=0, x = 10, y = 10):\n",
        "    # присваиваю переменным значение квартилей\n",
        "    low_quartile = df[column].quantile(0.25)\n",
        "    upper_quartile = df[column].quantile(0.75)\n",
        "    inter_q_range = upper_quartile - low_quartile\n",
        "    # использую Interquartile Rule to Find Outliers: https://www.thoughtco.com/what-is-the-interquartile-range-rule-3126244\n",
        "    find_outlier = (df[column] >= (low_quartile - 1.5 * inter_q_range)) & (df[column] <= (upper_quartile + 1.5 * inter_q_range))\n",
        "    if graf == 1:\n",
        "        return df.loc[find_outlier].boxplot([column], figsize=(x,y))\n",
        "    else:\n",
        "        return df.loc[find_outlier]\n",
        "    "
      ]
    },
    {
      "cell_type": "code",
      "execution_count": 87,
      "metadata": {
        "id": "OhCYBV06Ujbe"
      },
      "outputs": [],
      "source": [
        "# удаляем выбросы\n",
        "ultra = remove_outlier(ultra, 'income', 0)\n",
        "ultra_income = ultra['income']\n",
        "\n",
        "smart = remove_outlier(smart, 'income', 0)\n",
        "smart_income = smart['income']"
      ]
    },
    {
      "cell_type": "code",
      "execution_count": 88,
      "metadata": {
        "id": "c673_pCgUjbe",
        "outputId": "168047d4-131b-4281-a7c9-f904a95ca4cc",
        "colab": {
          "base_uri": "https://localhost:8080/",
          "height": 1000
        }
      },
      "outputs": [
        {
          "output_type": "execute_result",
          "data": {
            "text/plain": [
              "<Axes: title={'center': 'income'}, xlabel='tariff'>"
            ]
          },
          "metadata": {},
          "execution_count": 88
        },
        {
          "output_type": "display_data",
          "data": {
            "text/plain": [
              "<Figure size 1000x1000 with 1 Axes>"
            ],
            "image/png": "[encoded data removed]"
          },
          "metadata": {}
        },
        {
          "output_type": "display_data",
          "data": {
            "text/plain": [
              "<Figure size 1000x1000 with 1 Axes>"
            ],
            "image/png": "[encoded data removed]"
          },
          "metadata": {}
        }
      ],
      "source": [
        "# проверяем результат\n",
        "ultra.boxplot('income', by='tariff', figsize=(10,10))\n",
        "smart.boxplot('income', by='tariff', figsize=(10,10))"
      ]
    },
    {
      "cell_type": "markdown",
      "metadata": {
        "id": "eXpdiNMUUjbe"
      },
      "source": [
        "Вроде выбросов меньше, можно приступать к проверке гипотезы."
      ]
    },
    {
      "cell_type": "code",
      "execution_count": 89,
      "metadata": {
        "id": "PKY-yYenUjbe",
        "outputId": "1999f8da-0ed5-4a71-c40a-369a1aaea26d",
        "colab": {
          "base_uri": "https://localhost:8080/"
        }
      },
      "outputs": [
        {
          "output_type": "stream",
          "name": "stdout",
          "text": [
            "p-value: 0.0\n",
            "Отвергаем H0\n"
          ]
        },
        {
          "output_type": "stream",
          "name": "stderr",
          "text": [
            "<ipython-input-89-5f65e3994c15>:3: RuntimeWarning: Precision loss occurred in moment calculation due to catastrophic cancellation. This occurs when the data are nearly identical. Results may be unreliable.\n",
            "  result = st.ttest_ind(ultra_income, smart_income, equal_var=False)\n"
          ]
        }
      ],
      "source": [
        "#проверяем гипотезу\n",
        "alpha = 0.05\n",
        "result = st.ttest_ind(ultra_income, smart_income, equal_var=False)\n",
        "\n",
        "if result.pvalue < alpha:\n",
        "    print('p-value:', result.pvalue)\n",
        "    print('Отвергаем H0')\n",
        "else:\n",
        "    print('p-value:', result.pvalue)\n",
        "    print('Отвергаем H1')"
      ]
    },
    {
      "cell_type": "markdown",
      "metadata": {
        "id": "UyJ3P84HUjbe"
      },
      "source": [
        "Значимость p-value очень мала, отвергаем нулевую гипотезу. \n",
        "\n",
        "Вывод: средняя выручка тарифов Smart и Ultra различается."
      ]
    },
    {
      "cell_type": "markdown",
      "metadata": {
        "id": "-7TtceYKUjbe"
      },
      "source": [
        "<div class=\"alert alert-success\">\n",
        "<h2> Комментарий ревьюера </h2>\n",
        "\n",
        "Гипотезы сформулированы и проверены верно. pvalue стоит вывести полностью для понимания порядка данной величины. \n",
        "\n",
        "</div>"
      ]
    },
    {
      "cell_type": "markdown",
      "metadata": {
        "id": "0Qu7gPulUjbe"
      },
      "source": [
        "Из любопытства посчитаю выручку по тарифам:"
      ]
    },
    {
      "cell_type": "code",
      "execution_count": 90,
      "metadata": {
        "id": "CXvUCXJBUjbf",
        "outputId": "c2230279-d961-4faa-cab3-44d05b2387e3",
        "colab": {
          "base_uri": "https://localhost:8080/",
          "height": 175
        }
      },
      "outputs": [
        {
          "output_type": "execute_result",
          "data": {
            "text/plain": [
              "            sum         mean median\n",
              "         income       income income\n",
              "tariff                             \n",
              "smart   2461788  1109.413249    796\n",
              "ultra   1931146  2063.190171   1950"
            ],
            "text/html": [
              "\n",
              "  <div id=\"df-198f1b8e-197c-49cb-9b71-c8e27e6bc627\">\n",
              "    <div class=\"colab-df-container\">\n",
              "      <div>\n",
              "<style scoped>\n",
              "    .dataframe tbody tr th:only-of-type {\n",
              "        vertical-align: middle;\n",
              "    }\n",
              "\n",
              "    .dataframe tbody tr th {\n",
              "        vertical-align: top;\n",
              "    }\n",
              "\n",
              "    .dataframe thead tr th {\n",
              "        text-align: left;\n",
              "    }\n",
              "\n",
              "    .dataframe thead tr:last-of-type th {\n",
              "        text-align: right;\n",
              "    }\n",
              "</style>\n",
              "<table border=\"1\" class=\"dataframe\">\n",
              "  <thead>\n",
              "    <tr>\n",
              "      <th></th>\n",
              "      <th>sum</th>\n",
              "      <th>mean</th>\n",
              "      <th>median</th>\n",
              "    </tr>\n",
              "    <tr>\n",
              "      <th></th>\n",
              "      <th>income</th>\n",
              "      <th>income</th>\n",
              "      <th>income</th>\n",
              "    </tr>\n",
              "    <tr>\n",
              "      <th>tariff</th>\n",
              "      <th></th>\n",
              "      <th></th>\n",
              "      <th></th>\n",
              "    </tr>\n",
              "  </thead>\n",
              "  <tbody>\n",
              "    <tr>\n",
              "      <th>smart</th>\n",
              "      <td>2461788</td>\n",
              "      <td>1109.413249</td>\n",
              "      <td>796</td>\n",
              "    </tr>\n",
              "    <tr>\n",
              "      <th>ultra</th>\n",
              "      <td>1931146</td>\n",
              "      <td>2063.190171</td>\n",
              "      <td>1950</td>\n",
              "    </tr>\n",
              "  </tbody>\n",
              "</table>\n",
              "</div>\n",
              "      <button class=\"colab-df-convert\" onclick=\"convertToInteractive('df-198f1b8e-197c-49cb-9b71-c8e27e6bc627')\"\n",
              "              title=\"Convert this dataframe to an interactive table.\"\n",
              "              style=\"display:none;\">\n",
              "        \n",
              "  <svg xmlns=\"http://www.w3.org/2000/svg\" height=\"24px\"viewBox=\"0 0 24 24\"\n",
              "       width=\"24px\">\n",
              "    <path d=\"M0 0h24v24H0V0z\" fill=\"none\"/>\n",
              "    <path d=\"M18.56 5.44l.94 2.06.94-2.06 2.06-.94-2.06-.94-.94-2.06-.94 2.06-2.06.94zm-11 1L8.5 8.5l.94-2.06 2.06-.94-2.06-.94L8.5 2.5l-.94 2.06-2.06.94zm10 10l.94 2.06.94-2.06 2.06-.94-2.06-.94-.94-2.06-.94 2.06-2.06.94z\"/><path d=\"M17.41 7.96l-1.37-1.37c-.4-.4-.92-.59-1.43-.59-.52 0-1.04.2-1.43.59L10.3 9.45l-7.72 7.72c-.78.78-.78 2.05 0 2.83L4 21.41c.39.39.9.59 1.41.59.51 0 1.02-.2 1.41-.59l7.78-7.78 2.81-2.81c.8-.78.8-2.07 0-2.86zM5.41 20L4 18.59l7.72-7.72 1.47 1.35L5.41 20z\"/>\n",
              "  </svg>\n",
              "      </button>\n",
              "      \n",
              "  <style>\n",
              "    .colab-df-container {\n",
              "      display:flex;\n",
              "      flex-wrap:wrap;\n",
              "      gap: 12px;\n",
              "    }\n",
              "\n",
              "    .colab-df-convert {\n",
              "      background-color: #E8F0FE;\n",
              "      border: none;\n",
              "      border-radius: 50%;\n",
              "      cursor: pointer;\n",
              "      display: none;\n",
              "      fill: #1967D2;\n",
              "      height: 32px;\n",
              "      padding: 0 0 0 0;\n",
              "      width: 32px;\n",
              "    }\n",
              "\n",
              "    .colab-df-convert:hover {\n",
              "      background-color: #E2EBFA;\n",
              "      box-shadow: 0px 1px 2px rgba(60, 64, 67, 0.3), 0px 1px 3px 1px rgba(60, 64, 67, 0.15);\n",
              "      fill: #174EA6;\n",
              "    }\n",
              "\n",
              "    [theme=dark] .colab-df-convert {\n",
              "      background-color: #3B4455;\n",
              "      fill: #D2E3FC;\n",
              "    }\n",
              "\n",
              "    [theme=dark] .colab-df-convert:hover {\n",
              "      background-color: #434B5C;\n",
              "      box-shadow: 0px 1px 3px 1px rgba(0, 0, 0, 0.15);\n",
              "      filter: drop-shadow(0px 1px 2px rgba(0, 0, 0, 0.3));\n",
              "      fill: #FFFFFF;\n",
              "    }\n",
              "  </style>\n",
              "\n",
              "      <script>\n",
              "        const buttonEl =\n",
              "          document.querySelector('#df-198f1b8e-197c-49cb-9b71-c8e27e6bc627 button.colab-df-convert');\n",
              "        buttonEl.style.display =\n",
              "          google.colab.kernel.accessAllowed ? 'block' : 'none';\n",
              "\n",
              "        async function convertToInteractive(key) {\n",
              "          const element = document.querySelector('#df-198f1b8e-197c-49cb-9b71-c8e27e6bc627');\n",
              "          const dataTable =\n",
              "            await google.colab.kernel.invokeFunction('convertToInteractive',\n",
              "                                                     [key], {});\n",
              "          if (!dataTable) return;\n",
              "\n",
              "          const docLinkHtml = 'Like what you see? Visit the ' +\n",
              "            '<a target=\"_blank\" href=https://colab.research.google.com/notebooks/data_table.ipynb>data table notebook</a>'\n",
              "            + ' to learn more about interactive tables.';\n",
              "          element.innerHTML = '';\n",
              "          dataTable['output_type'] = 'display_data';\n",
              "          await google.colab.output.renderOutput(dataTable, element);\n",
              "          const docLink = document.createElement('div');\n",
              "          docLink.innerHTML = docLinkHtml;\n",
              "          element.appendChild(docLink);\n",
              "        }\n",
              "      </script>\n",
              "    </div>\n",
              "  </div>\n",
              "  "
            ]
          },
          "metadata": {},
          "execution_count": 90
        }
      ],
      "source": [
        "clients_total.pivot_table(index='tariff', values='income', aggfunc=['sum','mean', 'median'])"
      ]
    },
    {
      "cell_type": "markdown",
      "metadata": {
        "id": "uwOWOTxvUjbf"
      },
      "source": [
        "# <a name=\"hyp-test-02\">Проверка гипотез: выручка по городам</a>"
      ]
    },
    {
      "cell_type": "markdown",
      "metadata": {
        "id": "_L7gvdhpUjbf"
      },
      "source": [
        "Задача проверить гипотезу: средняя выручка пользователей тарифов «Ультра» и «Смарт» различается.\n",
        "\n",
        "* H0: выручка компании в Москве и других регионах одинаковая\n",
        "* H1: выручка в Москве и других региона различается\n",
        "\n",
        "Так как две выборки независимы, использую Student t-test."
      ]
    },
    {
      "cell_type": "code",
      "execution_count": 91,
      "metadata": {
        "id": "ZRNFRNe4Ujbf",
        "outputId": "5f74aba7-39e1-4402-aba5-e823cff8892f",
        "colab": {
          "base_uri": "https://localhost:8080/"
        }
      },
      "outputs": [
        {
          "output_type": "execute_result",
          "data": {
            "text/plain": [
              "array(['Краснодар', 'Москва', 'Стерлитамак', 'Новокузнецк',\n",
              "       'Набережные Челны', 'Ульяновск', 'Челябинск', 'Пермь', 'Тюмень',\n",
              "       'Самара', 'Санкт-Петербург', 'Иваново', 'Чебоксары', 'Омск', 'Уфа',\n",
              "       'Томск', 'Чита', 'Мурманск', 'Петрозаводск', 'Тверь',\n",
              "       'Екатеринбург', 'Махачкала', 'Вологда', 'Череповец', 'Ярославль',\n",
              "       'Сочи', 'Хабаровск', 'Ставрополь', 'Рязань', 'Улан-Удэ', 'Тула',\n",
              "       'Саратов', 'Ростов-на-Дону', 'Казань', 'Иркутск', 'Курск',\n",
              "       'Калуга', 'Якутск', 'Астрахань', 'Химки', 'Владикавказ',\n",
              "       'Волгоград', 'Саранск', 'Ижевск', 'Новосибирск', 'Брянск',\n",
              "       'Тольятти', 'Нижний Тагил', 'Орёл', 'Белгород', 'Воронеж',\n",
              "       'Курган', 'Барнаул', 'Красноярск', 'Архангельск', 'Липецк',\n",
              "       'Кемерово', 'Киров', 'Сургут', 'Пенза', 'Волжский', 'Магнитогорск',\n",
              "       'Нижний Новгород', 'Кострома', 'Владивосток', 'Тамбов', 'Балашиха',\n",
              "       'Севастополь', 'Калининград', 'Оренбург', 'Смоленск',\n",
              "       'Нижневартовск', 'Владимир', 'Новороссийск', 'Грозный', 'Подольск'],\n",
              "      dtype=object)"
            ]
          },
          "metadata": {},
          "execution_count": 91
        }
      ],
      "source": [
        "# проверяем названия городов\n",
        "clients_total['city'].unique()"
      ]
    },
    {
      "cell_type": "markdown",
      "metadata": {
        "id": "V2atJ7QYUjbf"
      },
      "source": [
        "Каких-то странных опечаток и прочего нет, поэтому делим на две таблицы - Москва и все остальное."
      ]
    },
    {
      "cell_type": "code",
      "execution_count": 92,
      "metadata": {
        "id": "iMnIv9ybUjbf",
        "outputId": "0dea8c8f-d040-4b40-ceaa-7264d9d15972",
        "colab": {
          "base_uri": "https://localhost:8080/",
          "height": 427
        }
      },
      "outputs": [
        {
          "output_type": "execute_result",
          "data": {
            "text/plain": [
              "    user_id  month  duration  calls_amount  mb_used  messages_amount tariff  \\\n",
              "8      1001     11     430.0          45.0  18452.0              0.0  smart   \n",
              "9      1001     12     414.0          47.0  14053.0              0.0  smart   \n",
              "17     1003      8     380.0          43.0   8571.0             37.0  ultra   \n",
              "18     1003      9     961.0         105.0  12479.0             91.0  ultra   \n",
              "19     1003     10     855.0          97.0  14779.0             83.0  ultra   \n",
              "20     1003     11     824.0          95.0  11368.0             94.0  ultra   \n",
              "21     1003     12     802.0          88.0  10132.0             75.0  ultra   \n",
              "53     1007      4     198.0          21.0   8031.0             11.0  smart   \n",
              "54     1007      5     480.0          57.0  17708.0             39.0  smart   \n",
              "55     1007      6     545.0          55.0  13674.0             26.0  smart   \n",
              "\n",
              "      city  messages_included  mb_per_month_included  minutes_included  \\\n",
              "8   Москва                 50                  15360               500   \n",
              "9   Москва                 50                  15360               500   \n",
              "17  Москва               1000                  30720              3000   \n",
              "18  Москва               1000                  30720              3000   \n",
              "19  Москва               1000                  30720              3000   \n",
              "20  Москва               1000                  30720              3000   \n",
              "21  Москва               1000                  30720              3000   \n",
              "53  Москва                 50                  15360               500   \n",
              "54  Москва                 50                  15360               500   \n",
              "55  Москва                 50                  15360               500   \n",
              "\n",
              "    rub_monthly_fee  rub_per_gb  rub_per_message  rub_per_minute  \\\n",
              "8               550         200                3               3   \n",
              "9               550         200                3               3   \n",
              "17             1950         150                1               1   \n",
              "18             1950         150                1               1   \n",
              "19             1950         150                1               1   \n",
              "20             1950         150                1               1   \n",
              "21             1950         150                1               1   \n",
              "53              550         200                3               3   \n",
              "54              550         200                3               3   \n",
              "55              550         200                3               3   \n",
              "\n",
              "    extra_expenses  income  \n",
              "8        603.90625    1153  \n",
              "9          0.00000     550  \n",
              "17         0.00000    1950  \n",
              "18         0.00000    1950  \n",
              "19         0.00000    1950  \n",
              "20         0.00000    1950  \n",
              "21         0.00000    1950  \n",
              "53         0.00000     550  \n",
              "54       458.59375    1008  \n",
              "55         0.00000     550  "
            ],
            "text/html": [
              "\n",
              "  <div id=\"df-c2ea6b50-2ad1-4167-8a97-dac41fa7d01b\">\n",
              "    <div class=\"colab-df-container\">\n",
              "      <div>\n",
              "<style scoped>\n",
              "    .dataframe tbody tr th:only-of-type {\n",
              "        vertical-align: middle;\n",
              "    }\n",
              "\n",
              "    .dataframe tbody tr th {\n",
              "        vertical-align: top;\n",
              "    }\n",
              "\n",
              "    .dataframe thead th {\n",
              "        text-align: right;\n",
              "    }\n",
              "</style>\n",
              "<table border=\"1\" class=\"dataframe\">\n",
              "  <thead>\n",
              "    <tr style=\"text-align: right;\">\n",
              "      <th></th>\n",
              "      <th>user_id</th>\n",
              "      <th>month</th>\n",
              "      <th>duration</th>\n",
              "      <th>calls_amount</th>\n",
              "      <th>mb_used</th>\n",
              "      <th>messages_amount</th>\n",
              "      <th>tariff</th>\n",
              "      <th>city</th>\n",
              "      <th>messages_included</th>\n",
              "      <th>mb_per_month_included</th>\n",
              "      <th>minutes_included</th>\n",
              "      <th>rub_monthly_fee</th>\n",
              "      <th>rub_per_gb</th>\n",
              "      <th>rub_per_message</th>\n",
              "      <th>rub_per_minute</th>\n",
              "      <th>extra_expenses</th>\n",
              "      <th>income</th>\n",
              "    </tr>\n",
              "  </thead>\n",
              "  <tbody>\n",
              "    <tr>\n",
              "      <th>8</th>\n",
              "      <td>1001</td>\n",
              "      <td>11</td>\n",
              "      <td>430.0</td>\n",
              "      <td>45.0</td>\n",
              "      <td>18452.0</td>\n",
              "      <td>0.0</td>\n",
              "      <td>smart</td>\n",
              "      <td>Москва</td>\n",
              "      <td>50</td>\n",
              "      <td>15360</td>\n",
              "      <td>500</td>\n",
              "      <td>550</td>\n",
              "      <td>200</td>\n",
              "      <td>3</td>\n",
              "      <td>3</td>\n",
              "      <td>603.90625</td>\n",
              "      <td>1153</td>\n",
              "    </tr>\n",
              "    <tr>\n",
              "      <th>9</th>\n",
              "      <td>1001</td>\n",
              "      <td>12</td>\n",
              "      <td>414.0</td>\n",
              "      <td>47.0</td>\n",
              "      <td>14053.0</td>\n",
              "      <td>0.0</td>\n",
              "      <td>smart</td>\n",
              "      <td>Москва</td>\n",
              "      <td>50</td>\n",
              "      <td>15360</td>\n",
              "      <td>500</td>\n",
              "      <td>550</td>\n",
              "      <td>200</td>\n",
              "      <td>3</td>\n",
              "      <td>3</td>\n",
              "      <td>0.00000</td>\n",
              "      <td>550</td>\n",
              "    </tr>\n",
              "    <tr>\n",
              "      <th>17</th>\n",
              "      <td>1003</td>\n",
              "      <td>8</td>\n",
              "      <td>380.0</td>\n",
              "      <td>43.0</td>\n",
              "      <td>8571.0</td>\n",
              "      <td>37.0</td>\n",
              "      <td>ultra</td>\n",
              "      <td>Москва</td>\n",
              "      <td>1000</td>\n",
              "      <td>30720</td>\n",
              "      <td>3000</td>\n",
              "      <td>1950</td>\n",
              "      <td>150</td>\n",
              "      <td>1</td>\n",
              "      <td>1</td>\n",
              "      <td>0.00000</td>\n",
              "      <td>1950</td>\n",
              "    </tr>\n",
              "    <tr>\n",
              "      <th>18</th>\n",
              "      <td>1003</td>\n",
              "      <td>9</td>\n",
              "      <td>961.0</td>\n",
              "      <td>105.0</td>\n",
              "      <td>12479.0</td>\n",
              "      <td>91.0</td>\n",
              "      <td>ultra</td>\n",
              "      <td>Москва</td>\n",
              "      <td>1000</td>\n",
              "      <td>30720</td>\n",
              "      <td>3000</td>\n",
              "      <td>1950</td>\n",
              "      <td>150</td>\n",
              "      <td>1</td>\n",
              "      <td>1</td>\n",
              "      <td>0.00000</td>\n",
              "      <td>1950</td>\n",
              "    </tr>\n",
              "    <tr>\n",
              "      <th>19</th>\n",
              "      <td>1003</td>\n",
              "      <td>10</td>\n",
              "      <td>855.0</td>\n",
              "      <td>97.0</td>\n",
              "      <td>14779.0</td>\n",
              "      <td>83.0</td>\n",
              "      <td>ultra</td>\n",
              "      <td>Москва</td>\n",
              "      <td>1000</td>\n",
              "      <td>30720</td>\n",
              "      <td>3000</td>\n",
              "      <td>1950</td>\n",
              "      <td>150</td>\n",
              "      <td>1</td>\n",
              "      <td>1</td>\n",
              "      <td>0.00000</td>\n",
              "      <td>1950</td>\n",
              "    </tr>\n",
              "    <tr>\n",
              "      <th>20</th>\n",
              "      <td>1003</td>\n",
              "      <td>11</td>\n",
              "      <td>824.0</td>\n",
              "      <td>95.0</td>\n",
              "      <td>11368.0</td>\n",
              "      <td>94.0</td>\n",
              "      <td>ultra</td>\n",
              "      <td>Москва</td>\n",
              "      <td>1000</td>\n",
              "      <td>30720</td>\n",
              "      <td>3000</td>\n",
              "      <td>1950</td>\n",
              "      <td>150</td>\n",
              "      <td>1</td>\n",
              "      <td>1</td>\n",
              "      <td>0.00000</td>\n",
              "      <td>1950</td>\n",
              "    </tr>\n",
              "    <tr>\n",
              "      <th>21</th>\n",
              "      <td>1003</td>\n",
              "      <td>12</td>\n",
              "      <td>802.0</td>\n",
              "      <td>88.0</td>\n",
              "      <td>10132.0</td>\n",
              "      <td>75.0</td>\n",
              "      <td>ultra</td>\n",
              "      <td>Москва</td>\n",
              "      <td>1000</td>\n",
              "      <td>30720</td>\n",
              "      <td>3000</td>\n",
              "      <td>1950</td>\n",
              "      <td>150</td>\n",
              "      <td>1</td>\n",
              "      <td>1</td>\n",
              "      <td>0.00000</td>\n",
              "      <td>1950</td>\n",
              "    </tr>\n",
              "    <tr>\n",
              "      <th>53</th>\n",
              "      <td>1007</td>\n",
              "      <td>4</td>\n",
              "      <td>198.0</td>\n",
              "      <td>21.0</td>\n",
              "      <td>8031.0</td>\n",
              "      <td>11.0</td>\n",
              "      <td>smart</td>\n",
              "      <td>Москва</td>\n",
              "      <td>50</td>\n",
              "      <td>15360</td>\n",
              "      <td>500</td>\n",
              "      <td>550</td>\n",
              "      <td>200</td>\n",
              "      <td>3</td>\n",
              "      <td>3</td>\n",
              "      <td>0.00000</td>\n",
              "      <td>550</td>\n",
              "    </tr>\n",
              "    <tr>\n",
              "      <th>54</th>\n",
              "      <td>1007</td>\n",
              "      <td>5</td>\n",
              "      <td>480.0</td>\n",
              "      <td>57.0</td>\n",
              "      <td>17708.0</td>\n",
              "      <td>39.0</td>\n",
              "      <td>smart</td>\n",
              "      <td>Москва</td>\n",
              "      <td>50</td>\n",
              "      <td>15360</td>\n",
              "      <td>500</td>\n",
              "      <td>550</td>\n",
              "      <td>200</td>\n",
              "      <td>3</td>\n",
              "      <td>3</td>\n",
              "      <td>458.59375</td>\n",
              "      <td>1008</td>\n",
              "    </tr>\n",
              "    <tr>\n",
              "      <th>55</th>\n",
              "      <td>1007</td>\n",
              "      <td>6</td>\n",
              "      <td>545.0</td>\n",
              "      <td>55.0</td>\n",
              "      <td>13674.0</td>\n",
              "      <td>26.0</td>\n",
              "      <td>smart</td>\n",
              "      <td>Москва</td>\n",
              "      <td>50</td>\n",
              "      <td>15360</td>\n",
              "      <td>500</td>\n",
              "      <td>550</td>\n",
              "      <td>200</td>\n",
              "      <td>3</td>\n",
              "      <td>3</td>\n",
              "      <td>0.00000</td>\n",
              "      <td>550</td>\n",
              "    </tr>\n",
              "  </tbody>\n",
              "</table>\n",
              "</div>\n",
              "      <button class=\"colab-df-convert\" onclick=\"convertToInteractive('df-c2ea6b50-2ad1-4167-8a97-dac41fa7d01b')\"\n",
              "              title=\"Convert this dataframe to an interactive table.\"\n",
              "              style=\"display:none;\">\n",
              "        \n",
              "  <svg xmlns=\"http://www.w3.org/2000/svg\" height=\"24px\"viewBox=\"0 0 24 24\"\n",
              "       width=\"24px\">\n",
              "    <path d=\"M0 0h24v24H0V0z\" fill=\"none\"/>\n",
              "    <path d=\"M18.56 5.44l.94 2.06.94-2.06 2.06-.94-2.06-.94-.94-2.06-.94 2.06-2.06.94zm-11 1L8.5 8.5l.94-2.06 2.06-.94-2.06-.94L8.5 2.5l-.94 2.06-2.06.94zm10 10l.94 2.06.94-2.06 2.06-.94-2.06-.94-.94-2.06-.94 2.06-2.06.94z\"/><path d=\"M17.41 7.96l-1.37-1.37c-.4-.4-.92-.59-1.43-.59-.52 0-1.04.2-1.43.59L10.3 9.45l-7.72 7.72c-.78.78-.78 2.05 0 2.83L4 21.41c.39.39.9.59 1.41.59.51 0 1.02-.2 1.41-.59l7.78-7.78 2.81-2.81c.8-.78.8-2.07 0-2.86zM5.41 20L4 18.59l7.72-7.72 1.47 1.35L5.41 20z\"/>\n",
              "  </svg>\n",
              "      </button>\n",
              "      \n",
              "  <style>\n",
              "    .colab-df-container {\n",
              "      display:flex;\n",
              "      flex-wrap:wrap;\n",
              "      gap: 12px;\n",
              "    }\n",
              "\n",
              "    .colab-df-convert {\n",
              "      background-color: #E8F0FE;\n",
              "      border: none;\n",
              "      border-radius: 50%;\n",
              "      cursor: pointer;\n",
              "      display: none;\n",
              "      fill: #1967D2;\n",
              "      height: 32px;\n",
              "      padding: 0 0 0 0;\n",
              "      width: 32px;\n",
              "    }\n",
              "\n",
              "    .colab-df-convert:hover {\n",
              "      background-color: #E2EBFA;\n",
              "      box-shadow: 0px 1px 2px rgba(60, 64, 67, 0.3), 0px 1px 3px 1px rgba(60, 64, 67, 0.15);\n",
              "      fill: #174EA6;\n",
              "    }\n",
              "\n",
              "    [theme=dark] .colab-df-convert {\n",
              "      background-color: #3B4455;\n",
              "      fill: #D2E3FC;\n",
              "    }\n",
              "\n",
              "    [theme=dark] .colab-df-convert:hover {\n",
              "      background-color: #434B5C;\n",
              "      box-shadow: 0px 1px 3px 1px rgba(0, 0, 0, 0.15);\n",
              "      filter: drop-shadow(0px 1px 2px rgba(0, 0, 0, 0.3));\n",
              "      fill: #FFFFFF;\n",
              "    }\n",
              "  </style>\n",
              "\n",
              "      <script>\n",
              "        const buttonEl =\n",
              "          document.querySelector('#df-c2ea6b50-2ad1-4167-8a97-dac41fa7d01b button.colab-df-convert');\n",
              "        buttonEl.style.display =\n",
              "          google.colab.kernel.accessAllowed ? 'block' : 'none';\n",
              "\n",
              "        async function convertToInteractive(key) {\n",
              "          const element = document.querySelector('#df-c2ea6b50-2ad1-4167-8a97-dac41fa7d01b');\n",
              "          const dataTable =\n",
              "            await google.colab.kernel.invokeFunction('convertToInteractive',\n",
              "                                                     [key], {});\n",
              "          if (!dataTable) return;\n",
              "\n",
              "          const docLinkHtml = 'Like what you see? Visit the ' +\n",
              "            '<a target=\"_blank\" href=https://colab.research.google.com/notebooks/data_table.ipynb>data table notebook</a>'\n",
              "            + ' to learn more about interactive tables.';\n",
              "          element.innerHTML = '';\n",
              "          dataTable['output_type'] = 'display_data';\n",
              "          await google.colab.output.renderOutput(dataTable, element);\n",
              "          const docLink = document.createElement('div');\n",
              "          docLink.innerHTML = docLinkHtml;\n",
              "          element.appendChild(docLink);\n",
              "        }\n",
              "      </script>\n",
              "    </div>\n",
              "  </div>\n",
              "  "
            ]
          },
          "metadata": {},
          "execution_count": 92
        }
      ],
      "source": [
        "# создаем отдельные таблицы\n",
        "msc = clients_total[clients_total['city'] == 'Москва']\n",
        "prv = clients_total[clients_total['city'] != 'Москва']\n",
        "\n",
        "#проверю результат на одной таблице, если с ней все ок, то и со второй тоже все должно быть ок\n",
        "msc.head(10)"
      ]
    },
    {
      "cell_type": "markdown",
      "metadata": {
        "id": "8eyZ5eH0Ujbg"
      },
      "source": [
        "Смотрим, какое значение должно быть у `equal_var`."
      ]
    },
    {
      "cell_type": "code",
      "execution_count": 93,
      "metadata": {
        "id": "X74QaYOmUjbg",
        "outputId": "d2567780-89f2-45cf-cdba-1694218756fc",
        "colab": {
          "base_uri": "https://localhost:8080/",
          "height": 175
        }
      },
      "outputs": [
        {
          "output_type": "execute_result",
          "data": {
            "text/plain": [
              "<pandas.io.formats.style.Styler at 0x7fd15bd681c0>"
            ],
            "text/html": [
              "<style type=\"text/css\">\n",
              "</style>\n",
              "<table id=\"T_74e28\" class=\"dataframe\">\n",
              "  <thead>\n",
              "    <tr>\n",
              "      <th class=\"blank level0\" >&nbsp;</th>\n",
              "      <th id=\"T_74e28_level0_col0\" class=\"col_heading level0 col0\" colspan=\"2\">income</th>\n",
              "    </tr>\n",
              "    <tr>\n",
              "      <th class=\"blank level1\" >&nbsp;</th>\n",
              "      <th id=\"T_74e28_level1_col0\" class=\"col_heading level1 col0\" >var</th>\n",
              "      <th id=\"T_74e28_level1_col1\" class=\"col_heading level1 col1\" >std</th>\n",
              "    </tr>\n",
              "    <tr>\n",
              "      <th class=\"index_name level0\" >tariff</th>\n",
              "      <th class=\"blank col0\" >&nbsp;</th>\n",
              "      <th class=\"blank col1\" >&nbsp;</th>\n",
              "    </tr>\n",
              "  </thead>\n",
              "  <tbody>\n",
              "    <tr>\n",
              "      <th id=\"T_74e28_level0_row0\" class=\"row_heading level0 row0\" >smart</th>\n",
              "      <td id=\"T_74e28_row0_col0\" class=\"data row0 col0\" >432296.8</td>\n",
              "      <td id=\"T_74e28_row0_col1\" class=\"data row0 col1\" >657.5</td>\n",
              "    </tr>\n",
              "    <tr>\n",
              "      <th id=\"T_74e28_level0_row1\" class=\"row_heading level0 row1\" >ultra</th>\n",
              "      <td id=\"T_74e28_row1_col0\" class=\"data row1 col0\" >109617.1</td>\n",
              "      <td id=\"T_74e28_row1_col1\" class=\"data row1 col1\" >331.1</td>\n",
              "    </tr>\n",
              "  </tbody>\n",
              "</table>\n"
            ]
          },
          "metadata": {},
          "execution_count": 93
        }
      ],
      "source": [
        "# таблица с данными  стандартном отклонении и дисперсии для москвы\n",
        "msc.groupby('tariff')\\\n",
        "     .agg({'income':['var','std']})\\\n",
        "     .style.format(\"{:.1f}\")"
      ]
    },
    {
      "cell_type": "code",
      "execution_count": 94,
      "metadata": {
        "id": "7GVmGf0OUjbg",
        "outputId": "68091dda-c092-4ba4-dc00-5a11a5e0fb2f",
        "colab": {
          "base_uri": "https://localhost:8080/",
          "height": 175
        }
      },
      "outputs": [
        {
          "output_type": "execute_result",
          "data": {
            "text/plain": [
              "<pandas.io.formats.style.Styler at 0x7fd15d5acd00>"
            ],
            "text/html": [
              "<style type=\"text/css\">\n",
              "</style>\n",
              "<table id=\"T_6048a\" class=\"dataframe\">\n",
              "  <thead>\n",
              "    <tr>\n",
              "      <th class=\"blank level0\" >&nbsp;</th>\n",
              "      <th id=\"T_6048a_level0_col0\" class=\"col_heading level0 col0\" colspan=\"2\">income</th>\n",
              "    </tr>\n",
              "    <tr>\n",
              "      <th class=\"blank level1\" >&nbsp;</th>\n",
              "      <th id=\"T_6048a_level1_col0\" class=\"col_heading level1 col0\" >var</th>\n",
              "      <th id=\"T_6048a_level1_col1\" class=\"col_heading level1 col1\" >std</th>\n",
              "    </tr>\n",
              "    <tr>\n",
              "      <th class=\"index_name level0\" >tariff</th>\n",
              "      <th class=\"blank col0\" >&nbsp;</th>\n",
              "      <th class=\"blank col1\" >&nbsp;</th>\n",
              "    </tr>\n",
              "  </thead>\n",
              "  <tbody>\n",
              "    <tr>\n",
              "      <th id=\"T_6048a_level0_row0\" class=\"row_heading level0 row0\" >smart</th>\n",
              "      <td id=\"T_6048a_row0_col0\" class=\"data row0 col0\" >516838.2</td>\n",
              "      <td id=\"T_6048a_row0_col1\" class=\"data row0 col1\" >718.9</td>\n",
              "    </tr>\n",
              "    <tr>\n",
              "      <th id=\"T_6048a_level0_row1\" class=\"row_heading level0 row1\" >ultra</th>\n",
              "      <td id=\"T_6048a_row1_col0\" class=\"data row1 col0\" >137886.9</td>\n",
              "      <td id=\"T_6048a_row1_col1\" class=\"data row1 col1\" >371.3</td>\n",
              "    </tr>\n",
              "  </tbody>\n",
              "</table>\n"
            ]
          },
          "metadata": {},
          "execution_count": 94
        }
      ],
      "source": [
        "# таблица с данными  стандартном отклонении и дисперсии для москвы\n",
        "prv.groupby('tariff')\\\n",
        "     .agg({'income':['var','std']})\\\n",
        "     .style.format(\"{:.1f}\")"
      ]
    },
    {
      "cell_type": "markdown",
      "metadata": {
        "id": "4PCh_iaZUjbg"
      },
      "source": [
        "Различие есть, значит 'equal_var' = False"
      ]
    },
    {
      "cell_type": "code",
      "execution_count": 95,
      "metadata": {
        "id": "wvcvruoTUjbg"
      },
      "outputs": [],
      "source": [
        "# удаляем выбросы \n",
        "msc = remove_outlier(msc, 'income', 0)\n",
        "msc_income = msc['income']\n",
        "\n",
        "prv = remove_outlier(prv, 'income', 0)\n",
        "prv_income = prv['income']"
      ]
    },
    {
      "cell_type": "code",
      "execution_count": 96,
      "metadata": {
        "id": "CD4GzU0PUjbg",
        "outputId": "b68ace2e-ae46-41e3-cc46-4ff8b18be819",
        "colab": {
          "base_uri": "https://localhost:8080/"
        }
      },
      "outputs": [
        {
          "output_type": "stream",
          "name": "stdout",
          "text": [
            "p-value: 0.0897427305729071\n",
            "Отвергаем H1\n"
          ]
        }
      ],
      "source": [
        "#проверяем гипотезу\n",
        "alpha = 0.05\n",
        "result = st.ttest_ind(msc_income, prv_income, equal_var=False)\n",
        "\n",
        "if result.pvalue < alpha:\n",
        "    print('p-value:', result.pvalue)\n",
        "    print('Отвергаем H0')\n",
        "else:\n",
        "    print('p-value:', result.pvalue)\n",
        "    print('Отвергаем H1')"
      ]
    },
    {
      "cell_type": "markdown",
      "metadata": {
        "id": "XwEEQBRkUjbg"
      },
      "source": [
        "Значимость p-value равна 1, отвергаем не нулевую гипотезу.\n",
        "\n",
        "Вывод: средняя выручка тарифов Smart и Ultra в Москве и регионах не отличается."
      ]
    },
    {
      "cell_type": "markdown",
      "metadata": {
        "id": "HgupaWcHUjbh"
      },
      "source": [
        "<div class=\"alert alert-danger\">\n",
        "<h2> Комментарий ревьюера </h2>\n",
        "\n",
        "Проверь еще раз передаваемые в тест выборки. pvalue=1 возможно тогда, когда выборки абсолютно идентичны. \n",
        "\n",
        "</div>"
      ]
    },
    {
      "cell_type": "markdown",
      "metadata": {
        "id": "NK2aR_XRUjbh"
      },
      "source": [
        "<div class=\"alert alert-info\" role=\"alert\">\n",
        "Блин, я тормоз. Все было неправильно! Поправила сейчас, спасибо за замечаение. :)\n",
        "</div>"
      ]
    },
    {
      "cell_type": "markdown",
      "metadata": {
        "id": "5CpWFaHqUjbh"
      },
      "source": [
        "<div class=\"alert alert-success\">\n",
        "<h2> Комментарий ревьюера 2</h2>\n",
        "\n",
        "Это опечатки, такое бывает. Главное, что сейчас все хорошо. \n",
        "\n",
        "</div>"
      ]
    },
    {
      "cell_type": "markdown",
      "metadata": {
        "id": "1_TkXmIeUjbh"
      },
      "source": [
        "<div class=\"alert alert-danger\">\n",
        "<h2> Комментарий ревьюера </h2>\n",
        "\n",
        "Прежде чем произвести проверку гипотезы через T-критерий Стьюдента произведи проверку дисперсии выборок, чтобы понять с каким параметром использовать метод проверки. Уточни параметр equal_var при проведении обоих тестов. \n",
        "\n",
        "</div>"
      ]
    },
    {
      "cell_type": "markdown",
      "metadata": {
        "id": "6oQW9XaSUjbh"
      },
      "source": [
        "<div class=\"alert alert-info\" role=\"alert\">\n",
        "Вроде добавила equal_var\n",
        "</div>"
      ]
    },
    {
      "cell_type": "markdown",
      "metadata": {
        "id": "kr7Kz-6bUjbh"
      },
      "source": [
        "<div class=\"alert alert-success\">\n",
        "<h2> Комментарий ревьюера 2</h2>\n",
        "\n",
        "Увидел. Уточнение данного параметра пощволяет нам увеличить точность проводимых тестов. \n",
        "\n",
        "</div>"
      ]
    },
    {
      "cell_type": "markdown",
      "metadata": {
        "id": "E1G7Hfp0Ujbh"
      },
      "source": [
        "# <a name=\"conclustion\">Общий вывод</a>"
      ]
    },
    {
      "cell_type": "markdown",
      "metadata": {
        "id": "bWt7zG9lUjbh"
      },
      "source": [
        "На основе проведённого анализа данных, можно сделать следующие выводы:\n",
        "\n",
        "Общая выручка от тарифов Smart и Ultra различаются:\n",
        "\n",
        "**тариф Smart** приносит больше общего дохода. Возможно, это связано с тем, что клиенты (которых больше в моей выборке) чаще превышают заложенные в тарифы лимиты и поэтому чаще платят за дополнительные сообщения, минуты разговора и гигабайты интернета. Думаю из-за того, что основная прибыль от этого тарифа основана на переплате, показатель может быть нестабильным - сегодня клиенты переплатили, а завтра уложились в лимиты - прибыль сразу упадёт. \n",
        "\n",
        "**тариф Ultra** на первый взгляд приносит меньше дохода, но медиана и средний показатели прибыли у него выше. Так как клиенты этого тарифа реже переплачивают за выход за рамки лимитов, доход от этого тарифа более стабилен. А если привлечь к нему больше клиентов, то и выручка будет больше. Все же в моей выборке клиентов тарифа Ultra было меньше половины.\n",
        "    \n",
        "Превышение лимитов  в зависимости от тарифа:\n",
        "     \n",
        "|Тариф|св. тар. звонки|св. тар. интернет|св. тар. сообщения|\n",
        "|----|----|----|----|\n",
        "|Ultra|0% |13% |0% |\n",
        "|Smart|33% |60% |25%|\n",
        "\n",
        "Прибыль в зависимости от тарифа:\n",
        "\n",
        "|Тариф|общая|средняя|медиана|\n",
        "|----|----|----|----|\n",
        "|Ultra|1930532 |2062 |1950 |\n",
        "|Smart|2455453|1106 |792|\n",
        "    \n",
        "    \n",
        "Выручка в Москве и регионах не отличается. Поэтому тарифы выгодно одинаково развивать как в Москве так и вне Москвы. \n",
        "\n",
        "\n",
        "Не совсем понятно, что имелось ввиду под \"сообщениями\", поэтому я предположила что sms. Клиенты тарифов часто вообще не пользуются этой функцией, видимо общаясь через мессенджеры. Я бы обратила на это внимание, чтобы как-то увеличить прибыль от тарифов. Например, добавила бы в тариф \"Ультра\" бесплатный трафик для трех-четырех популярных мессенджеров, чтобы привлечь больше клиентов.\n",
        "\n",
        "\n",
        "Основная рекомендация оператору - обратить внимание на тариф Ultra и подумать как привлечь к нему больше клиентов, обратить внимание на тариф Smart и подумать как стабилизировать от этого тарифа прибыль."
      ]
    },
    {
      "cell_type": "markdown",
      "metadata": {
        "id": "Lt09askHUjbi"
      },
      "source": [
        "<div class=\"alert alert-success\">\n",
        "<h2> Комментарий ревьюера </h2>\n",
        "\n",
        "Выводы описаны грамотно. Приведены ответы на главные вопросы проекта. В выводах можно приводить полученные ранее значения, правильно. Здорово, что по каждому пункту работы приведен вывод, а также то, что ты привела рекомендации для компании. Это очень важно. \n",
        "\n",
        "</div>"
      ]
    },
    {
      "cell_type": "markdown",
      "metadata": {
        "id": "uYokfY7GUjbi"
      },
      "source": [
        "<div class=\"alert alert-warning\">\n",
        "<h2> Комментарий ревьюера </h2>\n",
        "\n",
        "Если тебе нравится тема визуализации, то можешь изучить методы библиотеки seaborn. Она позволяет строить довольно презентабельные графики.\n",
        "\n",
        "Ты проделала большую работу, молодец! Критических замечаний немного. Однако с ними важно поработать. Также есть достаточное число желтых комментариев. Думаю, исправить их тебе не составит труда. Жду твою работу :)\n",
        "\n",
        "</div>"
      ]
    },
    {
      "cell_type": "markdown",
      "metadata": {
        "id": "-J9TSW-XUjbi"
      },
      "source": [
        "<div class=\"alert alert-info\" role=\"alert\">\n",
        "Нравится, но если я начну ковыряться, я никогда ничего не сдам! XD к тому же там какие-то сложности были с работой seaborn в я.практикум окружении. Так что думаю, оставлю на самостоятельное изучение.\n",
        "Еще раз спасибо за все комментарии, не знаю кака я так просмотрела супер-важные вещи. Видимо не стоит заниматься статистикой на ночь глядя. :)\n",
        "</div>"
      ]
    },
    {
      "cell_type": "markdown",
      "metadata": {
        "id": "I7qI2sWwUjbi"
      },
      "source": [
        "<div class=\"alert alert-success\">\n",
        "<h2> Комментарий ревьюера 2</h2>\n",
        "\n",
        "Помарки исправлены, и теперь работа выполнена хорошо. Ты здорово поработала, молодец. Проект получился классным! Спасибо за оставленные комментарии. Успехов в дальнейших проектах :)\n",
        "\n",
        "</div>\n",
        "   "
      ]
    }
  ],
  "metadata": {
    "kernelspec": {
      "display_name": "Python 3 (ipykernel)",
      "language": "python",
      "name": "python3"
    },
    "language_info": {
      "codemirror_mode": {
        "name": "ipython",
        "version": 3
      },
      "file_extension": ".py",
      "mimetype": "text/x-python",
      "name": "python",
      "nbconvert_exporter": "python",
      "pygments_lexer": "ipython3",
      "version": "3.9.5"
    },
    "toc": {
      "base_numbering": 1,
      "nav_menu": {},
      "number_sections": true,
      "sideBar": true,
      "skip_h1_title": true,
      "title_cell": "Table of Contents",
      "title_sidebar": "Contents",
      "toc_cell": false,
      "toc_position": {},
      "toc_section_display": true,
      "toc_window_display": false
    },
    "colab": {
      "provenance": [],
      "toc_visible": true,
      "include_colab_link": true
    }
  },
  "nbformat": 4,
  "nbformat_minor": 0
}