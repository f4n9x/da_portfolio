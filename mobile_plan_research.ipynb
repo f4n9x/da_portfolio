{
  "cells": [
    {
      "cell_type": "markdown",
      "metadata": {
        "id": "view-in-github",
        "colab_type": "text"
      },
      "source": [
        "<a href=\"https://colab.research.google.com/github/mdacoca/da_portfolio/blob/de_camp/mobile_plan_research.ipynb\" target=\"_parent\"><img src=\"https://colab.research.google.com/assets/colab-badge.svg\" alt=\"Open In Colab\"/></a>"
      ]
    },
    {
      "cell_type": "markdown",
      "metadata": {
        "id": "zoA90KV1Uja8"
      },
      "source": [
        "# Finidng the best paid plan for a telecom company"
      ]
    },
    {
      "cell_type": "markdown",
      "metadata": {
        "id": "-F1dBmUlUja9"
      },
      "source": [
        "\n",
        "The \"Call me\" Company - is a mobile operator, that offers customers two paid plans: \"Smart\" and \"Ultra\". To adjust the advertising budget, the commercial department wants to understand which plan brings in more money.\n",
        "\n",
        "It is necessary to do a preliminary analysis of both plans on a small sample of clients. I have data of 500 \"Call me\" clients: who they are, where they are from, which pman they use, how many calls and messages each sent in 2018. It is necessary to analyze the behavior of customers and make a conclusion - which plan is better.\n",
        "\n",
        "## Plan Descriptions\n",
        "\n",
        "**Smart**\n",
        "\n",
        "1. Monthly fee: 550 rubles\n",
        "2. Includes 500 minutes of conversation, 50 messages, and 15 GB of internet traffic\n",
        "3. Cost of services beyond the tariff package:\n",
        "    * conversation minute: 3 rubles\n",
        "    * message: 3 rubles\n",
        "    * 1 GB of internet traffic: 200 rubles\n",
        "\n",
        "**Ultra**\n",
        "\n",
        "1. Monthly fee: 1950 rubles\n",
        "2. Includes 3000 minutes of conversation, 1000 messages, and 30 GB of internet traffic\n",
        "3. Cost of services beyond the tariff package:\n",
        "    * conversation minute: 1 ruble\n",
        "    * message: 1 ruble\n",
        "    * 1 GB of internet traffic: 150 rubles\n",
        "\n",
        "> \"Call me\" always rounds up the values of minutes and megabytes. If a user only spoke for 1 second, a whole minute is counted in the tariff.\n",
        "\n",
        "\n",
        "## Data Description\n",
        "\n",
        "Users table (user information):\n",
        "* `user_id` — unique user identifier\n",
        "* `first_name` — user's first name\n",
        "* `last_name` — user's last name\n",
        "* `age` — user's age (years)\n",
        "* `reg_date` — tariff start date (day, month, year)\n",
        "* `churn_date` — the date the user stopped using the tariff (if the value is missing, the tariff was still in effect at the time of data extraction)\n",
        "* `city` — user's city of residence\n",
        "* `tariff` — tariff plan name\n",
        "\n",
        "Calls table (call information):\n",
        "\n",
        "* `id` — unique call number\n",
        "* `call_date` — call date\n",
        "* `duration` — call duration in minutes\n",
        "* `user_id` — identifier of the user who made the call\n",
        "\n",
        "Messages table (message information):\n",
        "\n",
        "* `id` — unique message number\n",
        "* `message_date` — message date\n",
        "* `user_id` — identifier of the user who sent the message\n",
        "\n",
        "Internet table (internet session information):\n",
        "\n",
        "* `id` — unique session number\n",
        "* `mb_used` — amount of internet traffic used during the session (in megabytes)\n",
        "* `session_date` — internet session date\n",
        "* `user_id` — user identifier\n",
        "\n",
        "Plans table (tariff information):\n",
        "\n",
        "* `tariff_name` — tariff name\n",
        "* `rub_monthly_fee` — monthly subscription fee in rubles\n",
        "* `minutes_included` — number of call minutes per month included in the subscription fee\n",
        "* `messages_included` — number of messages per month included in the subscription fee\n",
        "* `mb_per_month_included` — amount of internet traffic included in the subscription fee (in megabytes)\n",
        "* `rub_per_minute` — cost of a call minute beyond the tariff package (for example, if the tariff includes 100 minutes of calls per month, a fee will be charged from the 101st minute)\n",
        "* `rub_per_message` — cost of sending a message beyond the tariff package\n",
        "* `rub_per_gb` — cost of an additional gigabyte of internet traffic beyond the tariff package (1 gigabyte = 1024 megabytes)\n",
        "\n",
        "\n",
        "## Tasks\n",
        "\n",
        "1. Describe the behavior of the operator's customers based on the sample:\n",
        "    * How many minutes of conversation, how many messages, and what volume of internet traffic do users of each tariff need per month?\n",
        "    * Calculate the average number, variance, and standard deviation.\n",
        "    * Draw histograms. Describe the distributions.\n",
        "2. Test the hypotheses:\n",
        "    * the average revenue of \"Ultra\" and \"Smart\" tariff users is different;\n",
        "    * the average revenue of users from Moscow differs from the revenue of users from other regions;\n",
        "3. Explain:\n",
        "    * how you formulated the null and alternative hypotheses;\n",
        "    * which criterion you used to test the hypotheses and why.\n",
        "4. General conclusion\n"
      ]
    },
    {
      "cell_type": "markdown",
      "metadata": {
        "id": "Z6bZoKAmUja-"
      },
      "source": [
        "# \n",
        "Data Preparation"
      ]
    },
    {
      "cell_type": "code",
      "source": [
        "from google.colab import drive\n",
        "drive.mount(\"/content/drive\")"
      ],
      "metadata": {
        "colab": {
          "base_uri": "https://localhost:8080/"
        },
        "id": "IK4mGKNKrESU",
        "outputId": "3047165a-1a25-44a1-f8ab-1da814cfb002"
      },
      "execution_count": 186,
      "outputs": [
        {
          "output_type": "stream",
          "name": "stdout",
          "text": [
            "Drive already mounted at /content/drive; to attempt to forcibly remount, call drive.mount(\"/content/drive\", force_remount=True).\n"
          ]
        }
      ]
    },
    {
      "cell_type": "code",
      "execution_count": 187,
      "metadata": {
        "id": "i-F5hdQHUja-"
      },
      "outputs": [],
      "source": [
        "# libraries import\n",
        "import pandas as pd\n",
        "import numpy as np\n",
        "from datetime import datetime\n",
        "from scipy import stats as st\n",
        "pd.options.mode.chained_assignment = None  # default='warn'\n",
        "np.warnings.filterwarnings('ignore', category=np.VisibleDeprecationWarning)  \n",
        "from pymystem3 import Mystem\n",
        "from matplotlib import pyplot as plt\n",
        "m = Mystem()"
      ]
    },
    {
      "cell_type": "code",
      "execution_count": 188,
      "metadata": {
        "id": "thY2ITyPUja_"
      },
      "outputs": [],
      "source": [
        "# data import\n",
        "users = pd.read_csv('/content/drive/MyDrive/da_portfolio/users.csv')\n",
        "calls = pd.read_csv('/content/drive/MyDrive/da_portfolio/calls.csv')\n",
        "messages = pd.read_csv('/content/drive/MyDrive/da_portfolio/messages.csv')\n",
        "internet = pd.read_csv('/content/drive/MyDrive/da_portfolio/internet.csv')\n",
        "tariffs = pd.read_csv('/content/drive/MyDrive/da_portfolio/tariffs.csv')\n"
      ]
    },
    {
      "cell_type": "markdown",
      "metadata": {
        "id": "d0ikD4esUja_"
      },
      "source": [
        "Since the data is in several tables, I will need to combine them into one based on the `user_id` column, which can be used to join the `users`, `calls`, `internet`, `messages` tables.\n",
        "\n",
        "Before joining the tables, it is necessary to check for missing values, duplicates, and correct (if necessary) data types in all tables."
      ]
    },
    {
      "cell_type": "markdown",
      "metadata": {
        "id": "TvcajTubUja_"
      },
      "source": [
        "## Users \n"
      ]
    },
    {
      "cell_type": "markdown",
      "metadata": {
        "id": "2I11s1xeUja_"
      },
      "source": [
        "The `users` table contains information about the customers - id, registration date, full name, and so on:\n"
      ]
    },
    {
      "cell_type": "code",
      "execution_count": 189,
      "metadata": {
        "id": "j3sglTlkUjbA",
        "outputId": "e80f0cd5-c907-4142-9aba-5726f0a6b94f",
        "colab": {
          "base_uri": "https://localhost:8080/"
        }
      },
      "outputs": [
        {
          "output_type": "stream",
          "name": "stdout",
          "text": [
            "<class 'pandas.core.frame.DataFrame'>\n",
            "RangeIndex: 500 entries, 0 to 499\n",
            "Data columns (total 8 columns):\n",
            " #   Column      Non-Null Count  Dtype \n",
            "---  ------      --------------  ----- \n",
            " 0   user_id     500 non-null    int64 \n",
            " 1   age         500 non-null    int64 \n",
            " 2   churn_date  38 non-null     object\n",
            " 3   city        500 non-null    object\n",
            " 4   first_name  500 non-null    object\n",
            " 5   last_name   500 non-null    object\n",
            " 6   reg_date    500 non-null    object\n",
            " 7   tariff      500 non-null    object\n",
            "dtypes: int64(2), object(6)\n",
            "memory usage: 31.4+ KB\n"
          ]
        }
      ],
      "source": [
        "# checking the data type and missing values\n",
        "users.info()"
      ]
    },
    {
      "cell_type": "code",
      "execution_count": 190,
      "metadata": {
        "id": "fUD503iLUjbA",
        "outputId": "b2aada54-c736-41fe-a22c-fa0aa0b1461c",
        "colab": {
          "base_uri": "https://localhost:8080/",
          "height": 363
        }
      },
      "outputs": [
        {
          "output_type": "execute_result",
          "data": {
            "text/plain": [
              "     user_id  age churn_date              city first_name  last_name  \\\n",
              "329     1329   36        NaN  Набережные Челны        Юна   Золотова   \n",
              "286     1286   19        NaN            Москва      Рашид   Троицкий   \n",
              "281     1281   62        NaN   Нижний Новгород       Сара     Зимина   \n",
              "25      1025   56        NaN               Уфа     Матвей     Акинин   \n",
              "48      1048   73        NaN       Новокузнецк       Лола  Мясникова   \n",
              "319     1319   70        NaN   Санкт-Петербург    Харитон   Парфенов   \n",
              "314     1314   27        NaN             Киров     Максим   Амелишко   \n",
              "176     1176   37        NaN         Волгоград      Радим  Куприянов   \n",
              "86      1086   73        NaN         Волгоград     Ириней    Аксёнов   \n",
              "405     1405   54        NaN  Набережные Челны      Элина     Белова   \n",
              "\n",
              "       reg_date tariff  \n",
              "329  2018-10-08  smart  \n",
              "286  2018-11-27  smart  \n",
              "281  2018-06-09  ultra  \n",
              "25   2018-03-15  smart  \n",
              "48   2018-08-19  ultra  \n",
              "319  2018-08-24  smart  \n",
              "314  2018-03-04  smart  \n",
              "176  2018-01-20  smart  \n",
              "86   2018-04-26  smart  \n",
              "405  2018-10-08  ultra  "
            ],
            "text/html": [
              "\n",
              "  <div id=\"df-95d7a72b-af49-4207-9fad-7586586da723\">\n",
              "    <div class=\"colab-df-container\">\n",
              "      <div>\n",
              "<style scoped>\n",
              "    .dataframe tbody tr th:only-of-type {\n",
              "        vertical-align: middle;\n",
              "    }\n",
              "\n",
              "    .dataframe tbody tr th {\n",
              "        vertical-align: top;\n",
              "    }\n",
              "\n",
              "    .dataframe thead th {\n",
              "        text-align: right;\n",
              "    }\n",
              "</style>\n",
              "<table border=\"1\" class=\"dataframe\">\n",
              "  <thead>\n",
              "    <tr style=\"text-align: right;\">\n",
              "      <th></th>\n",
              "      <th>user_id</th>\n",
              "      <th>age</th>\n",
              "      <th>churn_date</th>\n",
              "      <th>city</th>\n",
              "      <th>first_name</th>\n",
              "      <th>last_name</th>\n",
              "      <th>reg_date</th>\n",
              "      <th>tariff</th>\n",
              "    </tr>\n",
              "  </thead>\n",
              "  <tbody>\n",
              "    <tr>\n",
              "      <th>329</th>\n",
              "      <td>1329</td>\n",
              "      <td>36</td>\n",
              "      <td>NaN</td>\n",
              "      <td>Набережные Челны</td>\n",
              "      <td>Юна</td>\n",
              "      <td>Золотова</td>\n",
              "      <td>2018-10-08</td>\n",
              "      <td>smart</td>\n",
              "    </tr>\n",
              "    <tr>\n",
              "      <th>286</th>\n",
              "      <td>1286</td>\n",
              "      <td>19</td>\n",
              "      <td>NaN</td>\n",
              "      <td>Москва</td>\n",
              "      <td>Рашид</td>\n",
              "      <td>Троицкий</td>\n",
              "      <td>2018-11-27</td>\n",
              "      <td>smart</td>\n",
              "    </tr>\n",
              "    <tr>\n",
              "      <th>281</th>\n",
              "      <td>1281</td>\n",
              "      <td>62</td>\n",
              "      <td>NaN</td>\n",
              "      <td>Нижний Новгород</td>\n",
              "      <td>Сара</td>\n",
              "      <td>Зимина</td>\n",
              "      <td>2018-06-09</td>\n",
              "      <td>ultra</td>\n",
              "    </tr>\n",
              "    <tr>\n",
              "      <th>25</th>\n",
              "      <td>1025</td>\n",
              "      <td>56</td>\n",
              "      <td>NaN</td>\n",
              "      <td>Уфа</td>\n",
              "      <td>Матвей</td>\n",
              "      <td>Акинин</td>\n",
              "      <td>2018-03-15</td>\n",
              "      <td>smart</td>\n",
              "    </tr>\n",
              "    <tr>\n",
              "      <th>48</th>\n",
              "      <td>1048</td>\n",
              "      <td>73</td>\n",
              "      <td>NaN</td>\n",
              "      <td>Новокузнецк</td>\n",
              "      <td>Лола</td>\n",
              "      <td>Мясникова</td>\n",
              "      <td>2018-08-19</td>\n",
              "      <td>ultra</td>\n",
              "    </tr>\n",
              "    <tr>\n",
              "      <th>319</th>\n",
              "      <td>1319</td>\n",
              "      <td>70</td>\n",
              "      <td>NaN</td>\n",
              "      <td>Санкт-Петербург</td>\n",
              "      <td>Харитон</td>\n",
              "      <td>Парфенов</td>\n",
              "      <td>2018-08-24</td>\n",
              "      <td>smart</td>\n",
              "    </tr>\n",
              "    <tr>\n",
              "      <th>314</th>\n",
              "      <td>1314</td>\n",
              "      <td>27</td>\n",
              "      <td>NaN</td>\n",
              "      <td>Киров</td>\n",
              "      <td>Максим</td>\n",
              "      <td>Амелишко</td>\n",
              "      <td>2018-03-04</td>\n",
              "      <td>smart</td>\n",
              "    </tr>\n",
              "    <tr>\n",
              "      <th>176</th>\n",
              "      <td>1176</td>\n",
              "      <td>37</td>\n",
              "      <td>NaN</td>\n",
              "      <td>Волгоград</td>\n",
              "      <td>Радим</td>\n",
              "      <td>Куприянов</td>\n",
              "      <td>2018-01-20</td>\n",
              "      <td>smart</td>\n",
              "    </tr>\n",
              "    <tr>\n",
              "      <th>86</th>\n",
              "      <td>1086</td>\n",
              "      <td>73</td>\n",
              "      <td>NaN</td>\n",
              "      <td>Волгоград</td>\n",
              "      <td>Ириней</td>\n",
              "      <td>Аксёнов</td>\n",
              "      <td>2018-04-26</td>\n",
              "      <td>smart</td>\n",
              "    </tr>\n",
              "    <tr>\n",
              "      <th>405</th>\n",
              "      <td>1405</td>\n",
              "      <td>54</td>\n",
              "      <td>NaN</td>\n",
              "      <td>Набережные Челны</td>\n",
              "      <td>Элина</td>\n",
              "      <td>Белова</td>\n",
              "      <td>2018-10-08</td>\n",
              "      <td>ultra</td>\n",
              "    </tr>\n",
              "  </tbody>\n",
              "</table>\n",
              "</div>\n",
              "      <button class=\"colab-df-convert\" onclick=\"convertToInteractive('df-95d7a72b-af49-4207-9fad-7586586da723')\"\n",
              "              title=\"Convert this dataframe to an interactive table.\"\n",
              "              style=\"display:none;\">\n",
              "        \n",
              "  <svg xmlns=\"http://www.w3.org/2000/svg\" height=\"24px\"viewBox=\"0 0 24 24\"\n",
              "       width=\"24px\">\n",
              "    <path d=\"M0 0h24v24H0V0z\" fill=\"none\"/>\n",
              "    <path d=\"M18.56 5.44l.94 2.06.94-2.06 2.06-.94-2.06-.94-.94-2.06-.94 2.06-2.06.94zm-11 1L8.5 8.5l.94-2.06 2.06-.94-2.06-.94L8.5 2.5l-.94 2.06-2.06.94zm10 10l.94 2.06.94-2.06 2.06-.94-2.06-.94-.94-2.06-.94 2.06-2.06.94z\"/><path d=\"M17.41 7.96l-1.37-1.37c-.4-.4-.92-.59-1.43-.59-.52 0-1.04.2-1.43.59L10.3 9.45l-7.72 7.72c-.78.78-.78 2.05 0 2.83L4 21.41c.39.39.9.59 1.41.59.51 0 1.02-.2 1.41-.59l7.78-7.78 2.81-2.81c.8-.78.8-2.07 0-2.86zM5.41 20L4 18.59l7.72-7.72 1.47 1.35L5.41 20z\"/>\n",
              "  </svg>\n",
              "      </button>\n",
              "      \n",
              "  <style>\n",
              "    .colab-df-container {\n",
              "      display:flex;\n",
              "      flex-wrap:wrap;\n",
              "      gap: 12px;\n",
              "    }\n",
              "\n",
              "    .colab-df-convert {\n",
              "      background-color: #E8F0FE;\n",
              "      border: none;\n",
              "      border-radius: 50%;\n",
              "      cursor: pointer;\n",
              "      display: none;\n",
              "      fill: #1967D2;\n",
              "      height: 32px;\n",
              "      padding: 0 0 0 0;\n",
              "      width: 32px;\n",
              "    }\n",
              "\n",
              "    .colab-df-convert:hover {\n",
              "      background-color: #E2EBFA;\n",
              "      box-shadow: 0px 1px 2px rgba(60, 64, 67, 0.3), 0px 1px 3px 1px rgba(60, 64, 67, 0.15);\n",
              "      fill: #174EA6;\n",
              "    }\n",
              "\n",
              "    [theme=dark] .colab-df-convert {\n",
              "      background-color: #3B4455;\n",
              "      fill: #D2E3FC;\n",
              "    }\n",
              "\n",
              "    [theme=dark] .colab-df-convert:hover {\n",
              "      background-color: #434B5C;\n",
              "      box-shadow: 0px 1px 3px 1px rgba(0, 0, 0, 0.15);\n",
              "      filter: drop-shadow(0px 1px 2px rgba(0, 0, 0, 0.3));\n",
              "      fill: #FFFFFF;\n",
              "    }\n",
              "  </style>\n",
              "\n",
              "      <script>\n",
              "        const buttonEl =\n",
              "          document.querySelector('#df-95d7a72b-af49-4207-9fad-7586586da723 button.colab-df-convert');\n",
              "        buttonEl.style.display =\n",
              "          google.colab.kernel.accessAllowed ? 'block' : 'none';\n",
              "\n",
              "        async function convertToInteractive(key) {\n",
              "          const element = document.querySelector('#df-95d7a72b-af49-4207-9fad-7586586da723');\n",
              "          const dataTable =\n",
              "            await google.colab.kernel.invokeFunction('convertToInteractive',\n",
              "                                                     [key], {});\n",
              "          if (!dataTable) return;\n",
              "\n",
              "          const docLinkHtml = 'Like what you see? Visit the ' +\n",
              "            '<a target=\"_blank\" href=https://colab.research.google.com/notebooks/data_table.ipynb>data table notebook</a>'\n",
              "            + ' to learn more about interactive tables.';\n",
              "          element.innerHTML = '';\n",
              "          dataTable['output_type'] = 'display_data';\n",
              "          await google.colab.output.renderOutput(dataTable, element);\n",
              "          const docLink = document.createElement('div');\n",
              "          docLink.innerHTML = docLinkHtml;\n",
              "          element.appendChild(docLink);\n",
              "        }\n",
              "      </script>\n",
              "    </div>\n",
              "  </div>\n",
              "  "
            ]
          },
          "metadata": {},
          "execution_count": 190
        }
      ],
      "source": [
        "# checking the data type and missing values visually\n",
        "users.sample(10)"
      ]
    },
    {
      "cell_type": "markdown",
      "metadata": {
        "id": "KgzoCYInUjbA"
      },
      "source": [
        "From the data, it is clear that some customers stopped using the services of the operator by the time of data extraction. Since such customers were using the tariff for a while, I need the data that is available for these customers, regardless of whether they are using the operator now or not. Missing values in the `churn_date` column do not interfere with the analysis, since I am not using this column, so I leave the column unchanged.\n"
      ]
    },
    {
      "cell_type": "code",
      "execution_count": 191,
      "metadata": {
        "id": "KD3q4HcVUjbA",
        "outputId": "9f9e0ad6-2c29-4d9c-9ef3-36268cf5d39c",
        "colab": {
          "base_uri": "https://localhost:8080/"
        }
      },
      "outputs": [
        {
          "output_type": "execute_result",
          "data": {
            "text/plain": [
              "0"
            ]
          },
          "metadata": {},
          "execution_count": 191
        }
      ],
      "source": [
        "# checking for duplicates\n",
        "users.duplicated().sum()"
      ]
    },
    {
      "cell_type": "markdown",
      "metadata": {
        "id": "yB8Cj7N-UjbB"
      },
      "source": [
        "From the information about the table, I see that `reg_date` has a data type `object`, which needs to be replaced with `datetime`:\n"
      ]
    },
    {
      "cell_type": "code",
      "execution_count": 192,
      "metadata": {
        "id": "DaVSotVGUjbB"
      },
      "outputs": [],
      "source": [
        "# chancgin data type from object to datetime:\n",
        "users['reg_date'] = pd.to_datetime(users['reg_date'], format=\"%Y-%m-%d\")"
      ]
    },
    {
      "cell_type": "markdown",
      "metadata": {
        "id": "cKqNsj2DUjbB"
      },
      "source": [
        "Since there is a column with city names, let's check this column for errors, typos, etc.:"
      ]
    },
    {
      "cell_type": "code",
      "execution_count": 193,
      "metadata": {
        "id": "BvGNu5NyUjbB",
        "outputId": "52968777-9d8d-4565-ca71-5e3f8dd8260c",
        "colab": {
          "base_uri": "https://localhost:8080/"
        }
      },
      "outputs": [
        {
          "output_type": "execute_result",
          "data": {
            "text/plain": [
              "array(['Краснодар', 'Москва', 'Стерлитамак', 'Новокузнецк',\n",
              "       'Набережные Челны', 'Ульяновск', 'Челябинск', 'Пермь', 'Тюмень',\n",
              "       'Самара', 'Санкт-Петербург', 'Иваново', 'Чебоксары', 'Омск', 'Уфа',\n",
              "       'Томск', 'Чита', 'Мурманск', 'Петрозаводск', 'Тверь',\n",
              "       'Екатеринбург', 'Махачкала', 'Вологда', 'Череповец', 'Ярославль',\n",
              "       'Сочи', 'Хабаровск', 'Ставрополь', 'Рязань', 'Улан-Удэ', 'Тула',\n",
              "       'Саратов', 'Ростов-на-Дону', 'Казань', 'Иркутск', 'Курск',\n",
              "       'Калуга', 'Якутск', 'Астрахань', 'Химки', 'Владикавказ',\n",
              "       'Волгоград', 'Саранск', 'Ижевск', 'Новосибирск', 'Брянск',\n",
              "       'Тольятти', 'Нижний Тагил', 'Орёл', 'Белгород', 'Воронеж',\n",
              "       'Волжский', 'Курган', 'Барнаул', 'Красноярск', 'Архангельск',\n",
              "       'Липецк', 'Кемерово', 'Киров', 'Сургут', 'Пенза', 'Магнитогорск',\n",
              "       'Нижний Новгород', 'Кострома', 'Владивосток', 'Тамбов', 'Балашиха',\n",
              "       'Севастополь', 'Калининград', 'Оренбург', 'Смоленск',\n",
              "       'Нижневартовск', 'Владимир', 'Новороссийск', 'Грозный', 'Подольск'],\n",
              "      dtype=object)"
            ]
          },
          "metadata": {},
          "execution_count": 193
        }
      ],
      "source": [
        "# checking the unique names visually\n",
        "users['city'].unique()"
      ]
    },
    {
      "cell_type": "markdown",
      "metadata": {
        "id": "awnnqNwCUjbB"
      },
      "source": [
        "All names look unique, there are no errors or typos, everything is ok."
      ]
    },
    {
      "cell_type": "markdown",
      "metadata": {
        "id": "RF9WoPLwUjbB"
      },
      "source": [
        "## Calls "
      ]
    },
    {
      "cell_type": "markdown",
      "metadata": {
        "id": "Nx9ew32sUjbB"
      },
      "source": [
        "The `calls` table contains information about calls - id, duration, date, and so on:"
      ]
    },
    {
      "cell_type": "code",
      "execution_count": 194,
      "metadata": {
        "id": "GfWA8OylUjbB",
        "outputId": "7a70d04a-c587-4ea1-875c-d3798316ac5d",
        "colab": {
          "base_uri": "https://localhost:8080/"
        }
      },
      "outputs": [
        {
          "output_type": "stream",
          "name": "stdout",
          "text": [
            "<class 'pandas.core.frame.DataFrame'>\n",
            "RangeIndex: 202607 entries, 0 to 202606\n",
            "Data columns (total 4 columns):\n",
            " #   Column     Non-Null Count   Dtype  \n",
            "---  ------     --------------   -----  \n",
            " 0   id         202607 non-null  object \n",
            " 1   call_date  202607 non-null  object \n",
            " 2   duration   202607 non-null  float64\n",
            " 3   user_id    202607 non-null  int64  \n",
            "dtypes: float64(1), int64(1), object(2)\n",
            "memory usage: 6.2+ MB\n"
          ]
        }
      ],
      "source": [
        "# checking information \n",
        "calls.info()"
      ]
    },
    {
      "cell_type": "markdown",
      "metadata": {
        "id": "7f0hg_ObUjbB"
      },
      "source": [
        "The index and the number of rows in each column match - there are no missing values."
      ]
    },
    {
      "cell_type": "code",
      "execution_count": 195,
      "metadata": {
        "id": "St5_j7JQUjbC",
        "outputId": "cb4404b9-7006-44ee-8983-739b0b3cda2b",
        "colab": {
          "base_uri": "https://localhost:8080/",
          "height": 363
        }
      },
      "outputs": [
        {
          "output_type": "execute_result",
          "data": {
            "text/plain": [
              "              id   call_date  duration  user_id\n",
              "157301  1389_166  2018-10-11      0.00     1389\n",
              "65007   1168_158  2018-06-12      3.17     1168\n",
              "78275   1196_507  2018-06-14     14.19     1196\n",
              "184397  1457_369  2018-08-22      0.28     1457\n",
              "151004   1378_91  2018-12-14     12.73     1378\n",
              "2716    1006_425  2018-05-24      0.78     1006\n",
              "77030   1193_292  2018-07-01      0.00     1193\n",
              "11424   1029_313  2018-12-11      0.00     1029\n",
              "174239  1430_288  2018-09-18      8.66     1430\n",
              "88656   1222_394  2018-09-13      8.80     1222"
            ],
            "text/html": [
              "\n",
              "  <div id=\"df-b05f29eb-e9b9-4e1d-bccc-b436ddb60918\">\n",
              "    <div class=\"colab-df-container\">\n",
              "      <div>\n",
              "<style scoped>\n",
              "    .dataframe tbody tr th:only-of-type {\n",
              "        vertical-align: middle;\n",
              "    }\n",
              "\n",
              "    .dataframe tbody tr th {\n",
              "        vertical-align: top;\n",
              "    }\n",
              "\n",
              "    .dataframe thead th {\n",
              "        text-align: right;\n",
              "    }\n",
              "</style>\n",
              "<table border=\"1\" class=\"dataframe\">\n",
              "  <thead>\n",
              "    <tr style=\"text-align: right;\">\n",
              "      <th></th>\n",
              "      <th>id</th>\n",
              "      <th>call_date</th>\n",
              "      <th>duration</th>\n",
              "      <th>user_id</th>\n",
              "    </tr>\n",
              "  </thead>\n",
              "  <tbody>\n",
              "    <tr>\n",
              "      <th>157301</th>\n",
              "      <td>1389_166</td>\n",
              "      <td>2018-10-11</td>\n",
              "      <td>0.00</td>\n",
              "      <td>1389</td>\n",
              "    </tr>\n",
              "    <tr>\n",
              "      <th>65007</th>\n",
              "      <td>1168_158</td>\n",
              "      <td>2018-06-12</td>\n",
              "      <td>3.17</td>\n",
              "      <td>1168</td>\n",
              "    </tr>\n",
              "    <tr>\n",
              "      <th>78275</th>\n",
              "      <td>1196_507</td>\n",
              "      <td>2018-06-14</td>\n",
              "      <td>14.19</td>\n",
              "      <td>1196</td>\n",
              "    </tr>\n",
              "    <tr>\n",
              "      <th>184397</th>\n",
              "      <td>1457_369</td>\n",
              "      <td>2018-08-22</td>\n",
              "      <td>0.28</td>\n",
              "      <td>1457</td>\n",
              "    </tr>\n",
              "    <tr>\n",
              "      <th>151004</th>\n",
              "      <td>1378_91</td>\n",
              "      <td>2018-12-14</td>\n",
              "      <td>12.73</td>\n",
              "      <td>1378</td>\n",
              "    </tr>\n",
              "    <tr>\n",
              "      <th>2716</th>\n",
              "      <td>1006_425</td>\n",
              "      <td>2018-05-24</td>\n",
              "      <td>0.78</td>\n",
              "      <td>1006</td>\n",
              "    </tr>\n",
              "    <tr>\n",
              "      <th>77030</th>\n",
              "      <td>1193_292</td>\n",
              "      <td>2018-07-01</td>\n",
              "      <td>0.00</td>\n",
              "      <td>1193</td>\n",
              "    </tr>\n",
              "    <tr>\n",
              "      <th>11424</th>\n",
              "      <td>1029_313</td>\n",
              "      <td>2018-12-11</td>\n",
              "      <td>0.00</td>\n",
              "      <td>1029</td>\n",
              "    </tr>\n",
              "    <tr>\n",
              "      <th>174239</th>\n",
              "      <td>1430_288</td>\n",
              "      <td>2018-09-18</td>\n",
              "      <td>8.66</td>\n",
              "      <td>1430</td>\n",
              "    </tr>\n",
              "    <tr>\n",
              "      <th>88656</th>\n",
              "      <td>1222_394</td>\n",
              "      <td>2018-09-13</td>\n",
              "      <td>8.80</td>\n",
              "      <td>1222</td>\n",
              "    </tr>\n",
              "  </tbody>\n",
              "</table>\n",
              "</div>\n",
              "      <button class=\"colab-df-convert\" onclick=\"convertToInteractive('df-b05f29eb-e9b9-4e1d-bccc-b436ddb60918')\"\n",
              "              title=\"Convert this dataframe to an interactive table.\"\n",
              "              style=\"display:none;\">\n",
              "        \n",
              "  <svg xmlns=\"http://www.w3.org/2000/svg\" height=\"24px\"viewBox=\"0 0 24 24\"\n",
              "       width=\"24px\">\n",
              "    <path d=\"M0 0h24v24H0V0z\" fill=\"none\"/>\n",
              "    <path d=\"M18.56 5.44l.94 2.06.94-2.06 2.06-.94-2.06-.94-.94-2.06-.94 2.06-2.06.94zm-11 1L8.5 8.5l.94-2.06 2.06-.94-2.06-.94L8.5 2.5l-.94 2.06-2.06.94zm10 10l.94 2.06.94-2.06 2.06-.94-2.06-.94-.94-2.06-.94 2.06-2.06.94z\"/><path d=\"M17.41 7.96l-1.37-1.37c-.4-.4-.92-.59-1.43-.59-.52 0-1.04.2-1.43.59L10.3 9.45l-7.72 7.72c-.78.78-.78 2.05 0 2.83L4 21.41c.39.39.9.59 1.41.59.51 0 1.02-.2 1.41-.59l7.78-7.78 2.81-2.81c.8-.78.8-2.07 0-2.86zM5.41 20L4 18.59l7.72-7.72 1.47 1.35L5.41 20z\"/>\n",
              "  </svg>\n",
              "      </button>\n",
              "      \n",
              "  <style>\n",
              "    .colab-df-container {\n",
              "      display:flex;\n",
              "      flex-wrap:wrap;\n",
              "      gap: 12px;\n",
              "    }\n",
              "\n",
              "    .colab-df-convert {\n",
              "      background-color: #E8F0FE;\n",
              "      border: none;\n",
              "      border-radius: 50%;\n",
              "      cursor: pointer;\n",
              "      display: none;\n",
              "      fill: #1967D2;\n",
              "      height: 32px;\n",
              "      padding: 0 0 0 0;\n",
              "      width: 32px;\n",
              "    }\n",
              "\n",
              "    .colab-df-convert:hover {\n",
              "      background-color: #E2EBFA;\n",
              "      box-shadow: 0px 1px 2px rgba(60, 64, 67, 0.3), 0px 1px 3px 1px rgba(60, 64, 67, 0.15);\n",
              "      fill: #174EA6;\n",
              "    }\n",
              "\n",
              "    [theme=dark] .colab-df-convert {\n",
              "      background-color: #3B4455;\n",
              "      fill: #D2E3FC;\n",
              "    }\n",
              "\n",
              "    [theme=dark] .colab-df-convert:hover {\n",
              "      background-color: #434B5C;\n",
              "      box-shadow: 0px 1px 3px 1px rgba(0, 0, 0, 0.15);\n",
              "      filter: drop-shadow(0px 1px 2px rgba(0, 0, 0, 0.3));\n",
              "      fill: #FFFFFF;\n",
              "    }\n",
              "  </style>\n",
              "\n",
              "      <script>\n",
              "        const buttonEl =\n",
              "          document.querySelector('#df-b05f29eb-e9b9-4e1d-bccc-b436ddb60918 button.colab-df-convert');\n",
              "        buttonEl.style.display =\n",
              "          google.colab.kernel.accessAllowed ? 'block' : 'none';\n",
              "\n",
              "        async function convertToInteractive(key) {\n",
              "          const element = document.querySelector('#df-b05f29eb-e9b9-4e1d-bccc-b436ddb60918');\n",
              "          const dataTable =\n",
              "            await google.colab.kernel.invokeFunction('convertToInteractive',\n",
              "                                                     [key], {});\n",
              "          if (!dataTable) return;\n",
              "\n",
              "          const docLinkHtml = 'Like what you see? Visit the ' +\n",
              "            '<a target=\"_blank\" href=https://colab.research.google.com/notebooks/data_table.ipynb>data table notebook</a>'\n",
              "            + ' to learn more about interactive tables.';\n",
              "          element.innerHTML = '';\n",
              "          dataTable['output_type'] = 'display_data';\n",
              "          await google.colab.output.renderOutput(dataTable, element);\n",
              "          const docLink = document.createElement('div');\n",
              "          docLink.innerHTML = docLinkHtml;\n",
              "          element.appendChild(docLink);\n",
              "        }\n",
              "      </script>\n",
              "    </div>\n",
              "  </div>\n",
              "  "
            ]
          },
          "metadata": {},
          "execution_count": 195
        }
      ],
      "source": [
        "# visual check\n",
        "calls.sample(10)"
      ]
    },
    {
      "cell_type": "code",
      "execution_count": 196,
      "metadata": {
        "id": "s-XyzS2DUjbC",
        "outputId": "99b964c6-c251-4f0e-a49b-2d839692443a",
        "colab": {
          "base_uri": "https://localhost:8080/"
        }
      },
      "outputs": [
        {
          "output_type": "execute_result",
          "data": {
            "text/plain": [
              "0"
            ]
          },
          "metadata": {},
          "execution_count": 196
        }
      ],
      "source": [
        "# checking for duplicates\n",
        "calls.duplicated().sum()"
      ]
    },
    {
      "cell_type": "markdown",
      "metadata": {
        "id": "sijV1eZ1UjbC"
      },
      "source": [
        "From the information about the table, I see that `call_date` has a data type `object`, which needs to be replaced with `datetime`:\n"
      ]
    },
    {
      "cell_type": "code",
      "execution_count": 197,
      "metadata": {
        "id": "0vNy0qF6UjbC"
      },
      "outputs": [],
      "source": [
        "# changing the data type from  object to datetime:\n",
        "calls['call_date'] = pd.to_datetime(calls['call_date'], format=\"%Y-%m-%d\")"
      ]
    },
    {
      "cell_type": "markdown",
      "metadata": {
        "id": "55IciQNFUjbC"
      },
      "source": [
        "In the table, there are many calls with a duration of 0.00. In our conditions, it is stated that the operator always rounds up the values of minutes, not down. This means that calls with a duration of 0.00 cannot be calls that lasted less than a minute. Most likely, these are calls that failed or calls that the customer did not accept (did not pick up the phone). To decide what to do with them, I look at the number of such calls and how it will look on the histogram (it's more visual this way)."
      ]
    },
    {
      "cell_type": "code",
      "execution_count": 198,
      "metadata": {
        "id": "eldSNAf3UjbC",
        "outputId": "2b946b56-c309-4fb0-8114-094421951863",
        "colab": {
          "base_uri": "https://localhost:8080/"
        }
      },
      "outputs": [
        {
          "output_type": "execute_result",
          "data": {
            "text/plain": [
              "id           39613\n",
              "call_date    39613\n",
              "duration     39613\n",
              "user_id      39613\n",
              "dtype: int64"
            ]
          },
          "metadata": {},
          "execution_count": 198
        }
      ],
      "source": [
        "# total nuber of 0 00 calls\n",
        "calls.query('duration == 0.0').count()"
      ]
    },
    {
      "cell_type": "code",
      "execution_count": 199,
      "metadata": {
        "id": "GbnQ5WRhUjbC",
        "outputId": "580dde2a-6c43-4d83-8a53-a89e69e08cb1",
        "colab": {
          "base_uri": "https://localhost:8080/",
          "height": 801
        }
      },
      "outputs": [
        {
          "output_type": "display_data",
          "data": {
            "text/plain": [
              "<Figure size 900x900 with 1 Axes>"
            ],
            "image/png": "[encoded data removed]"
          },
          "metadata": {}
        }
      ],
      "source": [
        "# hist visualisation of 0 00 calls\n",
        "calls['duration'].plot(kind='hist', ec='black',  bins=100, figsize=(9, 9), grid=True)\n",
        "plt.xlabel('Call length', fontsize=15)\n",
        "plt.ylabel('Frequency', fontsize=15)\n",
        "plt.xlim([0, 30])\n",
        "plt.title('0.00 calls')\n",
        "plt.show()\n"
      ]
    },
    {
      "cell_type": "markdown",
      "metadata": {
        "id": "GvswcKpfUjbC"
      },
      "source": [
        "There are too many zero values, they will affect the average value and results in further analysis. Moreover, the operator will not receive any revenue for calls with a duration of 0.00 minutes, so I delete such values from the table"
      ]
    },
    {
      "cell_type": "code",
      "execution_count": 200,
      "metadata": {
        "id": "V1ttQ6mbUjbD"
      },
      "outputs": [],
      "source": [
        "# renoving 0 00 values from the table\n",
        "calls['duration'] = calls['duration'].replace(0, np.NaN)\n",
        "calls = calls.dropna()\n"
      ]
    },
    {
      "cell_type": "code",
      "execution_count": 201,
      "metadata": {
        "id": "w7H6KXqWUjbD",
        "outputId": "50a62736-dcc3-46cc-fb31-f0637bb548ce",
        "colab": {
          "base_uri": "https://localhost:8080/",
          "height": 801
        }
      },
      "outputs": [
        {
          "output_type": "display_data",
          "data": {
            "text/plain": [
              "<Figure size 900x900 with 1 Axes>"
            ],
            "image/png": "[encoded data removed]"
          },
          "metadata": {}
        }
      ],
      "source": [
        "# checking the hist visualisation \n",
        "calls['duration'].plot(kind='hist', ec='black', bins=50, figsize=(9, 9), grid=True)\n",
        "plt.xlabel('Call length', fontsize=15)\n",
        "plt.ylabel('Frequency', fontsize=15)\n",
        "plt.xlim([0, 30])\n",
        "plt.title('Calls length')\n",
        "plt.show()"
      ]
    },
    {
      "cell_type": "markdown",
      "metadata": {
        "id": "z0B2YbieUjbM"
      },
      "source": [
        "\n",
        "There are no zeros that stand out from the overall distribution, but there are many near-zero values. To understand what is happening, I check the minimum value in the column."
      ]
    },
    {
      "cell_type": "code",
      "execution_count": 202,
      "metadata": {
        "id": "09oV4bJHUjbM",
        "outputId": "1a84c0bd-7704-41b8-a935-c6a08e319777",
        "colab": {
          "base_uri": "https://localhost:8080/"
        }
      },
      "outputs": [
        {
          "output_type": "execute_result",
          "data": {
            "text/plain": [
              "0.01"
            ]
          },
          "metadata": {},
          "execution_count": 202
        }
      ],
      "source": [
        "# checking the minimal value in the column\n",
        "calls['duration'].min()"
      ]
    },
    {
      "cell_type": "markdown",
      "metadata": {
        "id": "yRP99rWYUjbN"
      },
      "source": [
        "\n",
        "Since we know that the operator will round up values like 0.01 to a minute, we round up all values in the column to an integer and change the data type so there is no floating point."
      ]
    },
    {
      "cell_type": "code",
      "execution_count": 203,
      "metadata": {
        "id": "WupOp-06UjbN"
      },
      "outputs": [],
      "source": [
        "# rounding up and changing the data type\n",
        "calls['duration'] = calls['duration'].apply(np.ceil).astype(int)"
      ]
    },
    {
      "cell_type": "code",
      "execution_count": 204,
      "metadata": {
        "id": "fQPNYz9HUjbN",
        "outputId": "b7de3f15-cc85-4bfd-92de-dbf1a3f39523",
        "colab": {
          "base_uri": "https://localhost:8080/",
          "height": 801
        }
      },
      "outputs": [
        {
          "output_type": "display_data",
          "data": {
            "text/plain": [
              "<Figure size 900x900 with 1 Axes>"
            ],
            "image/png": "[encoded data removed]"
          },
          "metadata": {}
        }
      ],
      "source": [
        "# now cheking the looks again\n",
        "calls['duration'].plot(kind='hist', ec='black', bins=50, figsize=(9, 9), grid=True)\n",
        "plt.xlabel('Call length', fontsize=15)\n",
        "plt.ylabel('Frequency', fontsize=15)\n",
        "plt.xlim([0, 30])\n",
        "plt.title('Calls length')\n",
        "plt.show()"
      ]
    },
    {
      "cell_type": "markdown",
      "metadata": {
        "id": "UT-V91ttUjbN"
      },
      "source": [
        "The histogram shows that there are no calls with a duration of 0 or close to 0."
      ]
    },
    {
      "cell_type": "markdown",
      "metadata": {
        "id": "5RUULFJyUjbN"
      },
      "source": [
        "## Messages "
      ]
    },
    {
      "cell_type": "markdown",
      "metadata": {
        "id": "8g_kDOREUjbN"
      },
      "source": [
        "The `messages` table contains information about calls - id, quantity, date, etc:\n"
      ]
    },
    {
      "cell_type": "code",
      "execution_count": 205,
      "metadata": {
        "id": "og89FsyYUjbO",
        "outputId": "d7ae8d39-eb7d-4ccc-ce77-c94b32a54c42",
        "colab": {
          "base_uri": "https://localhost:8080/"
        }
      },
      "outputs": [
        {
          "output_type": "stream",
          "name": "stdout",
          "text": [
            "<class 'pandas.core.frame.DataFrame'>\n",
            "RangeIndex: 123036 entries, 0 to 123035\n",
            "Data columns (total 3 columns):\n",
            " #   Column        Non-Null Count   Dtype \n",
            "---  ------        --------------   ----- \n",
            " 0   id            123036 non-null  object\n",
            " 1   message_date  123036 non-null  object\n",
            " 2   user_id       123036 non-null  int64 \n",
            "dtypes: int64(1), object(2)\n",
            "memory usage: 2.8+ MB\n"
          ]
        }
      ],
      "source": [
        "# checking table info\n",
        "messages.info()"
      ]
    },
    {
      "cell_type": "markdown",
      "metadata": {
        "id": "nbDyvybkUjbO"
      },
      "source": [
        "The index and the number of rows in each column match - there are no missing values."
      ]
    },
    {
      "cell_type": "code",
      "execution_count": 206,
      "metadata": {
        "id": "EfBlhn8NUjbO",
        "outputId": "1aadeaf8-112f-4eea-a3aa-7858082eea6f",
        "colab": {
          "base_uri": "https://localhost:8080/",
          "height": 363
        }
      },
      "outputs": [
        {
          "output_type": "execute_result",
          "data": {
            "text/plain": [
              "              id message_date  user_id\n",
              "72796   1308_256   2018-09-05     1308\n",
              "19174   1083_363   2018-07-13     1083\n",
              "32243   1144_382   2018-08-03     1144\n",
              "100443  1411_279   2018-09-14     1411\n",
              "1812    1004_866   2018-11-14     1004\n",
              "4407     1016_87   2018-11-25     1016\n",
              "70423   1300_175   2018-12-19     1300\n",
              "65874   1282_306   2018-11-10     1282\n",
              "21556   1091_109   2018-06-08     1091\n",
              "72856   1308_316   2018-07-14     1308"
            ],
            "text/html": [
              "\n",
              "  <div id=\"df-b76def89-3a79-4d98-b385-e9bda76c4edc\">\n",
              "    <div class=\"colab-df-container\">\n",
              "      <div>\n",
              "<style scoped>\n",
              "    .dataframe tbody tr th:only-of-type {\n",
              "        vertical-align: middle;\n",
              "    }\n",
              "\n",
              "    .dataframe tbody tr th {\n",
              "        vertical-align: top;\n",
              "    }\n",
              "\n",
              "    .dataframe thead th {\n",
              "        text-align: right;\n",
              "    }\n",
              "</style>\n",
              "<table border=\"1\" class=\"dataframe\">\n",
              "  <thead>\n",
              "    <tr style=\"text-align: right;\">\n",
              "      <th></th>\n",
              "      <th>id</th>\n",
              "      <th>message_date</th>\n",
              "      <th>user_id</th>\n",
              "    </tr>\n",
              "  </thead>\n",
              "  <tbody>\n",
              "    <tr>\n",
              "      <th>72796</th>\n",
              "      <td>1308_256</td>\n",
              "      <td>2018-09-05</td>\n",
              "      <td>1308</td>\n",
              "    </tr>\n",
              "    <tr>\n",
              "      <th>19174</th>\n",
              "      <td>1083_363</td>\n",
              "      <td>2018-07-13</td>\n",
              "      <td>1083</td>\n",
              "    </tr>\n",
              "    <tr>\n",
              "      <th>32243</th>\n",
              "      <td>1144_382</td>\n",
              "      <td>2018-08-03</td>\n",
              "      <td>1144</td>\n",
              "    </tr>\n",
              "    <tr>\n",
              "      <th>100443</th>\n",
              "      <td>1411_279</td>\n",
              "      <td>2018-09-14</td>\n",
              "      <td>1411</td>\n",
              "    </tr>\n",
              "    <tr>\n",
              "      <th>1812</th>\n",
              "      <td>1004_866</td>\n",
              "      <td>2018-11-14</td>\n",
              "      <td>1004</td>\n",
              "    </tr>\n",
              "    <tr>\n",
              "      <th>4407</th>\n",
              "      <td>1016_87</td>\n",
              "      <td>2018-11-25</td>\n",
              "      <td>1016</td>\n",
              "    </tr>\n",
              "    <tr>\n",
              "      <th>70423</th>\n",
              "      <td>1300_175</td>\n",
              "      <td>2018-12-19</td>\n",
              "      <td>1300</td>\n",
              "    </tr>\n",
              "    <tr>\n",
              "      <th>65874</th>\n",
              "      <td>1282_306</td>\n",
              "      <td>2018-11-10</td>\n",
              "      <td>1282</td>\n",
              "    </tr>\n",
              "    <tr>\n",
              "      <th>21556</th>\n",
              "      <td>1091_109</td>\n",
              "      <td>2018-06-08</td>\n",
              "      <td>1091</td>\n",
              "    </tr>\n",
              "    <tr>\n",
              "      <th>72856</th>\n",
              "      <td>1308_316</td>\n",
              "      <td>2018-07-14</td>\n",
              "      <td>1308</td>\n",
              "    </tr>\n",
              "  </tbody>\n",
              "</table>\n",
              "</div>\n",
              "      <button class=\"colab-df-convert\" onclick=\"convertToInteractive('df-b76def89-3a79-4d98-b385-e9bda76c4edc')\"\n",
              "              title=\"Convert this dataframe to an interactive table.\"\n",
              "              style=\"display:none;\">\n",
              "        \n",
              "  <svg xmlns=\"http://www.w3.org/2000/svg\" height=\"24px\"viewBox=\"0 0 24 24\"\n",
              "       width=\"24px\">\n",
              "    <path d=\"M0 0h24v24H0V0z\" fill=\"none\"/>\n",
              "    <path d=\"M18.56 5.44l.94 2.06.94-2.06 2.06-.94-2.06-.94-.94-2.06-.94 2.06-2.06.94zm-11 1L8.5 8.5l.94-2.06 2.06-.94-2.06-.94L8.5 2.5l-.94 2.06-2.06.94zm10 10l.94 2.06.94-2.06 2.06-.94-2.06-.94-.94-2.06-.94 2.06-2.06.94z\"/><path d=\"M17.41 7.96l-1.37-1.37c-.4-.4-.92-.59-1.43-.59-.52 0-1.04.2-1.43.59L10.3 9.45l-7.72 7.72c-.78.78-.78 2.05 0 2.83L4 21.41c.39.39.9.59 1.41.59.51 0 1.02-.2 1.41-.59l7.78-7.78 2.81-2.81c.8-.78.8-2.07 0-2.86zM5.41 20L4 18.59l7.72-7.72 1.47 1.35L5.41 20z\"/>\n",
              "  </svg>\n",
              "      </button>\n",
              "      \n",
              "  <style>\n",
              "    .colab-df-container {\n",
              "      display:flex;\n",
              "      flex-wrap:wrap;\n",
              "      gap: 12px;\n",
              "    }\n",
              "\n",
              "    .colab-df-convert {\n",
              "      background-color: #E8F0FE;\n",
              "      border: none;\n",
              "      border-radius: 50%;\n",
              "      cursor: pointer;\n",
              "      display: none;\n",
              "      fill: #1967D2;\n",
              "      height: 32px;\n",
              "      padding: 0 0 0 0;\n",
              "      width: 32px;\n",
              "    }\n",
              "\n",
              "    .colab-df-convert:hover {\n",
              "      background-color: #E2EBFA;\n",
              "      box-shadow: 0px 1px 2px rgba(60, 64, 67, 0.3), 0px 1px 3px 1px rgba(60, 64, 67, 0.15);\n",
              "      fill: #174EA6;\n",
              "    }\n",
              "\n",
              "    [theme=dark] .colab-df-convert {\n",
              "      background-color: #3B4455;\n",
              "      fill: #D2E3FC;\n",
              "    }\n",
              "\n",
              "    [theme=dark] .colab-df-convert:hover {\n",
              "      background-color: #434B5C;\n",
              "      box-shadow: 0px 1px 3px 1px rgba(0, 0, 0, 0.15);\n",
              "      filter: drop-shadow(0px 1px 2px rgba(0, 0, 0, 0.3));\n",
              "      fill: #FFFFFF;\n",
              "    }\n",
              "  </style>\n",
              "\n",
              "      <script>\n",
              "        const buttonEl =\n",
              "          document.querySelector('#df-b76def89-3a79-4d98-b385-e9bda76c4edc button.colab-df-convert');\n",
              "        buttonEl.style.display =\n",
              "          google.colab.kernel.accessAllowed ? 'block' : 'none';\n",
              "\n",
              "        async function convertToInteractive(key) {\n",
              "          const element = document.querySelector('#df-b76def89-3a79-4d98-b385-e9bda76c4edc');\n",
              "          const dataTable =\n",
              "            await google.colab.kernel.invokeFunction('convertToInteractive',\n",
              "                                                     [key], {});\n",
              "          if (!dataTable) return;\n",
              "\n",
              "          const docLinkHtml = 'Like what you see? Visit the ' +\n",
              "            '<a target=\"_blank\" href=https://colab.research.google.com/notebooks/data_table.ipynb>data table notebook</a>'\n",
              "            + ' to learn more about interactive tables.';\n",
              "          element.innerHTML = '';\n",
              "          dataTable['output_type'] = 'display_data';\n",
              "          await google.colab.output.renderOutput(dataTable, element);\n",
              "          const docLink = document.createElement('div');\n",
              "          docLink.innerHTML = docLinkHtml;\n",
              "          element.appendChild(docLink);\n",
              "        }\n",
              "      </script>\n",
              "    </div>\n",
              "  </div>\n",
              "  "
            ]
          },
          "metadata": {},
          "execution_count": 206
        }
      ],
      "source": [
        "# visual check\n",
        "messages.sample(10)"
      ]
    },
    {
      "cell_type": "code",
      "execution_count": 207,
      "metadata": {
        "id": "Drne4MDMUjbO",
        "outputId": "7981ebe9-91ab-41e6-de1b-fb9d25ae57f0",
        "colab": {
          "base_uri": "https://localhost:8080/"
        }
      },
      "outputs": [
        {
          "output_type": "execute_result",
          "data": {
            "text/plain": [
              "0"
            ]
          },
          "metadata": {},
          "execution_count": 207
        }
      ],
      "source": [
        "# checking for duplicates\n",
        "messages.duplicated().sum()"
      ]
    },
    {
      "cell_type": "markdown",
      "metadata": {
        "id": "x432PviXUjbO"
      },
      "source": [
        "From the information about the table, I see that `message_date` has a data type `object`, which needs to be replaced with `datetime`:\n"
      ]
    },
    {
      "cell_type": "code",
      "execution_count": 208,
      "metadata": {
        "id": "PToCCQwTUjbO"
      },
      "outputs": [],
      "source": [
        "# changing data type from  object to datetime:\n",
        "messages['message_date'] = pd.to_datetime(messages['message_date'], format=\"%Y-%m-%d\")"
      ]
    },
    {
      "cell_type": "markdown",
      "metadata": {
        "id": "eSPoj-T8UjbO"
      },
      "source": [
        "## Internet"
      ]
    },
    {
      "cell_type": "markdown",
      "metadata": {
        "id": "jMq0Iq6kUjbO"
      },
      "source": [
        "The `internet` table contains information about the volumes of internet traffic used by customers - id, session date, amount of traffic in mb, etc."
      ]
    },
    {
      "cell_type": "code",
      "execution_count": 209,
      "metadata": {
        "id": "IBqGNeZ5UjbP",
        "outputId": "d6ebacb9-697f-4ca1-ff41-50e630f6250f",
        "colab": {
          "base_uri": "https://localhost:8080/"
        }
      },
      "outputs": [
        {
          "output_type": "stream",
          "name": "stdout",
          "text": [
            "<class 'pandas.core.frame.DataFrame'>\n",
            "RangeIndex: 149396 entries, 0 to 149395\n",
            "Data columns (total 5 columns):\n",
            " #   Column        Non-Null Count   Dtype  \n",
            "---  ------        --------------   -----  \n",
            " 0   Unnamed: 0    149396 non-null  int64  \n",
            " 1   id            149396 non-null  object \n",
            " 2   mb_used       149396 non-null  float64\n",
            " 3   session_date  149396 non-null  object \n",
            " 4   user_id       149396 non-null  int64  \n",
            "dtypes: float64(1), int64(2), object(2)\n",
            "memory usage: 5.7+ MB\n"
          ]
        }
      ],
      "source": [
        "# checking the table info\n",
        "internet.info()"
      ]
    },
    {
      "cell_type": "markdown",
      "metadata": {
        "id": "2E1f3BU5UjbP"
      },
      "source": [
        "The index and the number of rows in each column match - there are no missing values."
      ]
    },
    {
      "cell_type": "code",
      "execution_count": 210,
      "metadata": {
        "id": "1jwsAXlfUjbP",
        "outputId": "14eb22f4-9270-49af-fc0b-445b95aa8489",
        "colab": {
          "base_uri": "https://localhost:8080/",
          "height": 363
        }
      },
      "outputs": [
        {
          "output_type": "execute_result",
          "data": {
            "text/plain": [
              "        Unnamed: 0        id  mb_used session_date  user_id\n",
              "116103      116103  1391_236    48.66   2018-05-13     1391\n",
              "133141      133141   1444_70   277.71   2018-12-23     1444\n",
              "105102      105102  1356_101   580.88   2018-07-04     1356\n",
              "28553        28553  1099_217   867.67   2018-09-02     1099\n",
              "134193      134193   1450_76     0.00   2018-12-21     1450\n",
              "24609        24609   1084_37   357.15   2018-12-25     1084\n",
              "68597        68597   1233_56    69.35   2018-10-31     1233\n",
              "34950        34950  1121_308   697.38   2018-07-25     1121\n",
              "68717        68717  1233_176     0.00   2018-11-01     1233\n",
              "7320          7320  1025_212     0.00   2018-06-24     1025"
            ],
            "text/html": [
              "\n",
              "  <div id=\"df-f5d28e51-177b-4751-826a-c3a7f25889be\">\n",
              "    <div class=\"colab-df-container\">\n",
              "      <div>\n",
              "<style scoped>\n",
              "    .dataframe tbody tr th:only-of-type {\n",
              "        vertical-align: middle;\n",
              "    }\n",
              "\n",
              "    .dataframe tbody tr th {\n",
              "        vertical-align: top;\n",
              "    }\n",
              "\n",
              "    .dataframe thead th {\n",
              "        text-align: right;\n",
              "    }\n",
              "</style>\n",
              "<table border=\"1\" class=\"dataframe\">\n",
              "  <thead>\n",
              "    <tr style=\"text-align: right;\">\n",
              "      <th></th>\n",
              "      <th>Unnamed: 0</th>\n",
              "      <th>id</th>\n",
              "      <th>mb_used</th>\n",
              "      <th>session_date</th>\n",
              "      <th>user_id</th>\n",
              "    </tr>\n",
              "  </thead>\n",
              "  <tbody>\n",
              "    <tr>\n",
              "      <th>116103</th>\n",
              "      <td>116103</td>\n",
              "      <td>1391_236</td>\n",
              "      <td>48.66</td>\n",
              "      <td>2018-05-13</td>\n",
              "      <td>1391</td>\n",
              "    </tr>\n",
              "    <tr>\n",
              "      <th>133141</th>\n",
              "      <td>133141</td>\n",
              "      <td>1444_70</td>\n",
              "      <td>277.71</td>\n",
              "      <td>2018-12-23</td>\n",
              "      <td>1444</td>\n",
              "    </tr>\n",
              "    <tr>\n",
              "      <th>105102</th>\n",
              "      <td>105102</td>\n",
              "      <td>1356_101</td>\n",
              "      <td>580.88</td>\n",
              "      <td>2018-07-04</td>\n",
              "      <td>1356</td>\n",
              "    </tr>\n",
              "    <tr>\n",
              "      <th>28553</th>\n",
              "      <td>28553</td>\n",
              "      <td>1099_217</td>\n",
              "      <td>867.67</td>\n",
              "      <td>2018-09-02</td>\n",
              "      <td>1099</td>\n",
              "    </tr>\n",
              "    <tr>\n",
              "      <th>134193</th>\n",
              "      <td>134193</td>\n",
              "      <td>1450_76</td>\n",
              "      <td>0.00</td>\n",
              "      <td>2018-12-21</td>\n",
              "      <td>1450</td>\n",
              "    </tr>\n",
              "    <tr>\n",
              "      <th>24609</th>\n",
              "      <td>24609</td>\n",
              "      <td>1084_37</td>\n",
              "      <td>357.15</td>\n",
              "      <td>2018-12-25</td>\n",
              "      <td>1084</td>\n",
              "    </tr>\n",
              "    <tr>\n",
              "      <th>68597</th>\n",
              "      <td>68597</td>\n",
              "      <td>1233_56</td>\n",
              "      <td>69.35</td>\n",
              "      <td>2018-10-31</td>\n",
              "      <td>1233</td>\n",
              "    </tr>\n",
              "    <tr>\n",
              "      <th>34950</th>\n",
              "      <td>34950</td>\n",
              "      <td>1121_308</td>\n",
              "      <td>697.38</td>\n",
              "      <td>2018-07-25</td>\n",
              "      <td>1121</td>\n",
              "    </tr>\n",
              "    <tr>\n",
              "      <th>68717</th>\n",
              "      <td>68717</td>\n",
              "      <td>1233_176</td>\n",
              "      <td>0.00</td>\n",
              "      <td>2018-11-01</td>\n",
              "      <td>1233</td>\n",
              "    </tr>\n",
              "    <tr>\n",
              "      <th>7320</th>\n",
              "      <td>7320</td>\n",
              "      <td>1025_212</td>\n",
              "      <td>0.00</td>\n",
              "      <td>2018-06-24</td>\n",
              "      <td>1025</td>\n",
              "    </tr>\n",
              "  </tbody>\n",
              "</table>\n",
              "</div>\n",
              "      <button class=\"colab-df-convert\" onclick=\"convertToInteractive('df-f5d28e51-177b-4751-826a-c3a7f25889be')\"\n",
              "              title=\"Convert this dataframe to an interactive table.\"\n",
              "              style=\"display:none;\">\n",
              "        \n",
              "  <svg xmlns=\"http://www.w3.org/2000/svg\" height=\"24px\"viewBox=\"0 0 24 24\"\n",
              "       width=\"24px\">\n",
              "    <path d=\"M0 0h24v24H0V0z\" fill=\"none\"/>\n",
              "    <path d=\"M18.56 5.44l.94 2.06.94-2.06 2.06-.94-2.06-.94-.94-2.06-.94 2.06-2.06.94zm-11 1L8.5 8.5l.94-2.06 2.06-.94-2.06-.94L8.5 2.5l-.94 2.06-2.06.94zm10 10l.94 2.06.94-2.06 2.06-.94-2.06-.94-.94-2.06-.94 2.06-2.06.94z\"/><path d=\"M17.41 7.96l-1.37-1.37c-.4-.4-.92-.59-1.43-.59-.52 0-1.04.2-1.43.59L10.3 9.45l-7.72 7.72c-.78.78-.78 2.05 0 2.83L4 21.41c.39.39.9.59 1.41.59.51 0 1.02-.2 1.41-.59l7.78-7.78 2.81-2.81c.8-.78.8-2.07 0-2.86zM5.41 20L4 18.59l7.72-7.72 1.47 1.35L5.41 20z\"/>\n",
              "  </svg>\n",
              "      </button>\n",
              "      \n",
              "  <style>\n",
              "    .colab-df-container {\n",
              "      display:flex;\n",
              "      flex-wrap:wrap;\n",
              "      gap: 12px;\n",
              "    }\n",
              "\n",
              "    .colab-df-convert {\n",
              "      background-color: #E8F0FE;\n",
              "      border: none;\n",
              "      border-radius: 50%;\n",
              "      cursor: pointer;\n",
              "      display: none;\n",
              "      fill: #1967D2;\n",
              "      height: 32px;\n",
              "      padding: 0 0 0 0;\n",
              "      width: 32px;\n",
              "    }\n",
              "\n",
              "    .colab-df-convert:hover {\n",
              "      background-color: #E2EBFA;\n",
              "      box-shadow: 0px 1px 2px rgba(60, 64, 67, 0.3), 0px 1px 3px 1px rgba(60, 64, 67, 0.15);\n",
              "      fill: #174EA6;\n",
              "    }\n",
              "\n",
              "    [theme=dark] .colab-df-convert {\n",
              "      background-color: #3B4455;\n",
              "      fill: #D2E3FC;\n",
              "    }\n",
              "\n",
              "    [theme=dark] .colab-df-convert:hover {\n",
              "      background-color: #434B5C;\n",
              "      box-shadow: 0px 1px 3px 1px rgba(0, 0, 0, 0.15);\n",
              "      filter: drop-shadow(0px 1px 2px rgba(0, 0, 0, 0.3));\n",
              "      fill: #FFFFFF;\n",
              "    }\n",
              "  </style>\n",
              "\n",
              "      <script>\n",
              "        const buttonEl =\n",
              "          document.querySelector('#df-f5d28e51-177b-4751-826a-c3a7f25889be button.colab-df-convert');\n",
              "        buttonEl.style.display =\n",
              "          google.colab.kernel.accessAllowed ? 'block' : 'none';\n",
              "\n",
              "        async function convertToInteractive(key) {\n",
              "          const element = document.querySelector('#df-f5d28e51-177b-4751-826a-c3a7f25889be');\n",
              "          const dataTable =\n",
              "            await google.colab.kernel.invokeFunction('convertToInteractive',\n",
              "                                                     [key], {});\n",
              "          if (!dataTable) return;\n",
              "\n",
              "          const docLinkHtml = 'Like what you see? Visit the ' +\n",
              "            '<a target=\"_blank\" href=https://colab.research.google.com/notebooks/data_table.ipynb>data table notebook</a>'\n",
              "            + ' to learn more about interactive tables.';\n",
              "          element.innerHTML = '';\n",
              "          dataTable['output_type'] = 'display_data';\n",
              "          await google.colab.output.renderOutput(dataTable, element);\n",
              "          const docLink = document.createElement('div');\n",
              "          docLink.innerHTML = docLinkHtml;\n",
              "          element.appendChild(docLink);\n",
              "        }\n",
              "      </script>\n",
              "    </div>\n",
              "  </div>\n",
              "  "
            ]
          },
          "metadata": {},
          "execution_count": 210
        }
      ],
      "source": [
        "# visual check\n",
        "internet.sample(10)"
      ]
    },
    {
      "cell_type": "code",
      "execution_count": 211,
      "metadata": {
        "id": "WZ-p56R8UjbP",
        "outputId": "9299bf39-58d9-4744-ed98-25d751e6a99f",
        "colab": {
          "base_uri": "https://localhost:8080/"
        }
      },
      "outputs": [
        {
          "output_type": "execute_result",
          "data": {
            "text/plain": [
              "0"
            ]
          },
          "metadata": {},
          "execution_count": 211
        }
      ],
      "source": [
        "# checking for duplicates\n",
        "internet.duplicated().sum()"
      ]
    },
    {
      "cell_type": "markdown",
      "metadata": {
        "id": "juiIENo4UjbP"
      },
      "source": [
        "From the information about the table, I see that `session_date` has a data type object, which needs to be replaced with datetime."
      ]
    },
    {
      "cell_type": "code",
      "execution_count": 212,
      "metadata": {
        "id": "YE5oNQ81UjbP"
      },
      "outputs": [],
      "source": [
        "# changing datatype object to datetime:\n",
        "internet['session_date'] = pd.to_datetime(internet['session_date'], format=\"%Y-%m-%d\")"
      ]
    },
    {
      "cell_type": "markdown",
      "metadata": {
        "id": "0Zc967pUUjbP"
      },
      "source": [
        "\n",
        "I'm checking the table for the number of internet sessions with 0.00 mb of downloaded data.\n",
        "\n",
        "The absence of traffic upon connection means that the session was interrupted immediately after connection for some reason, or the customer was unable to connect. Sessions with a volume of 0.00 mb cannot be sessions in which less than 1 mb of data was downloaded (remember about rounding up). To decide what to do with them, I look at the number of such sessions and how it will look on the histogram (this is more illustrative)."
      ]
    },
    {
      "cell_type": "code",
      "execution_count": 213,
      "metadata": {
        "id": "gmDOilXMUjbP",
        "outputId": "902a8ec0-cbf7-42a9-9a3e-49865e0dc12f",
        "colab": {
          "base_uri": "https://localhost:8080/"
        }
      },
      "outputs": [
        {
          "output_type": "execute_result",
          "data": {
            "text/plain": [
              "Unnamed: 0      19598\n",
              "id              19598\n",
              "mb_used         19598\n",
              "session_date    19598\n",
              "user_id         19598\n",
              "dtype: int64"
            ]
          },
          "metadata": {},
          "execution_count": 213
        }
      ],
      "source": [
        "# overall number of sessions \n",
        "internet.query('mb_used == 0.0').count()"
      ]
    },
    {
      "cell_type": "code",
      "execution_count": 214,
      "metadata": {
        "id": "UnUGfnKhUjbP",
        "outputId": "f26905c1-31c9-4682-ff36-b87f62838832",
        "colab": {
          "base_uri": "https://localhost:8080/",
          "height": 801
        }
      },
      "outputs": [
        {
          "output_type": "display_data",
          "data": {
            "text/plain": [
              "<Figure size 900x900 with 1 Axes>"
            ],
            "image/png": "[encoded data removed]"
          },
          "metadata": {}
        }
      ],
      "source": [
        "# checking the hist view\n",
        "internet['mb_used'].plot(kind='hist', ec='black', bins=100, figsize=(9, 9), grid=True)\n",
        "plt.xlabel('Mb', fontsize=15)\n",
        "plt.ylabel('Frequency', fontsize=15)\n",
        "plt.title('Mb of Internet used')\n",
        "plt.xlim([0, 1500])\n",
        "plt.show()"
      ]
    },
    {
      "cell_type": "markdown",
      "metadata": {
        "id": "LihmyBBUUjbQ"
      },
      "source": [
        "There are too many zero values, in further analysis they will affect the average value and results. Moreover, for sessions with 0.00 mb of traffic, the operator will not receive any revenue, so I remove such values from the table, and round up the rest."
      ]
    },
    {
      "cell_type": "code",
      "execution_count": 215,
      "metadata": {
        "id": "y0ZpBBuvUjbQ"
      },
      "outputs": [],
      "source": [
        "# rounding up and changing data type\n",
        "internet['mb_used'] = internet['mb_used'].apply(np.ceil).astype(int)"
      ]
    },
    {
      "cell_type": "code",
      "execution_count": 216,
      "metadata": {
        "id": "sv24WbP6UjbQ"
      },
      "outputs": [],
      "source": [
        "# removing zero values from the table\n",
        "internet['mb_used'] = internet['mb_used'].replace(0, np.NaN)\n",
        "internet = internet.dropna()"
      ]
    },
    {
      "cell_type": "code",
      "execution_count": 217,
      "metadata": {
        "id": "YdWSHweYUjbQ",
        "outputId": "ca174035-09af-47de-9f73-fc5be5007797",
        "colab": {
          "base_uri": "https://localhost:8080/",
          "height": 801
        }
      },
      "outputs": [
        {
          "output_type": "display_data",
          "data": {
            "text/plain": [
              "<Figure size 900x900 with 1 Axes>"
            ],
            "image/png": "[encoded data removed]"
          },
          "metadata": {}
        }
      ],
      "source": [
        "# checking the hist view\n",
        "internet['mb_used'].plot(kind='hist', ec='black', bins=100, figsize=(9, 9), grid=True)\n",
        "plt.xlabel('Mb', fontsize=15)\n",
        "plt.ylabel('Frequency', fontsize=15)\n",
        "plt.title('Mb of Internet used')\n",
        "plt.xlim([0, 1500])\n",
        "plt.show()"
      ]
    },
    {
      "cell_type": "markdown",
      "metadata": {
        "id": "YTS6lgVQUjbQ"
      },
      "source": [
        "\n",
        "There are no zeros that stand out from the general distribution, but there are many near-zero values. To understand what is happening, I check the minimum value in the column."
      ]
    },
    {
      "cell_type": "code",
      "execution_count": 218,
      "metadata": {
        "id": "al8eNTb1UjbR",
        "outputId": "efbafc68-5073-4e9e-98f7-eb7293763287",
        "colab": {
          "base_uri": "https://localhost:8080/"
        }
      },
      "outputs": [
        {
          "output_type": "execute_result",
          "data": {
            "text/plain": [
              "1.0"
            ]
          },
          "metadata": {},
          "execution_count": 218
        }
      ],
      "source": [
        "# checking what is the mininal value\n",
        "internet['mb_used'].min()"
      ]
    },
    {
      "cell_type": "markdown",
      "metadata": {
        "id": "y--H9VxRUjbR"
      },
      "source": [
        "## Plans\n"
      ]
    },
    {
      "cell_type": "markdown",
      "metadata": {
        "id": "bEv7nNdoUjbR"
      },
      "source": [
        "Lets start with checking the general information about paid plans."
      ]
    },
    {
      "cell_type": "code",
      "execution_count": 219,
      "metadata": {
        "id": "1-E_Yq_ZUjbR",
        "outputId": "7b63dd63-7bd5-47e3-f0c9-dcbbf5eb5a32",
        "colab": {
          "base_uri": "https://localhost:8080/"
        }
      },
      "outputs": [
        {
          "output_type": "stream",
          "name": "stdout",
          "text": [
            "<class 'pandas.core.frame.DataFrame'>\n",
            "RangeIndex: 2 entries, 0 to 1\n",
            "Data columns (total 8 columns):\n",
            " #   Column                 Non-Null Count  Dtype \n",
            "---  ------                 --------------  ----- \n",
            " 0   messages_included      2 non-null      int64 \n",
            " 1   mb_per_month_included  2 non-null      int64 \n",
            " 2   minutes_included       2 non-null      int64 \n",
            " 3   rub_monthly_fee        2 non-null      int64 \n",
            " 4   rub_per_gb             2 non-null      int64 \n",
            " 5   rub_per_message        2 non-null      int64 \n",
            " 6   rub_per_minute         2 non-null      int64 \n",
            " 7   tariff_name            2 non-null      object\n",
            "dtypes: int64(7), object(1)\n",
            "memory usage: 256.0+ bytes\n"
          ]
        }
      ],
      "source": [
        "# checking the info\n",
        "tariffs.info()"
      ]
    },
    {
      "cell_type": "code",
      "execution_count": 220,
      "metadata": {
        "id": "ZmQ3_tnyUjbR",
        "outputId": "249d3c8d-762f-487c-c3f4-1314a1b4161e",
        "colab": {
          "base_uri": "https://localhost:8080/",
          "height": 112
        }
      },
      "outputs": [
        {
          "output_type": "execute_result",
          "data": {
            "text/plain": [
              "   messages_included  mb_per_month_included  minutes_included  \\\n",
              "0                 50                  15360               500   \n",
              "1               1000                  30720              3000   \n",
              "\n",
              "   rub_monthly_fee  rub_per_gb  rub_per_message  rub_per_minute tariff_name  \n",
              "0              550         200                3               3       smart  \n",
              "1             1950         150                1               1       ultra  "
            ],
            "text/html": [
              "\n",
              "  <div id=\"df-a5bb200a-f0b5-4151-a808-e5d59264a4b7\">\n",
              "    <div class=\"colab-df-container\">\n",
              "      <div>\n",
              "<style scoped>\n",
              "    .dataframe tbody tr th:only-of-type {\n",
              "        vertical-align: middle;\n",
              "    }\n",
              "\n",
              "    .dataframe tbody tr th {\n",
              "        vertical-align: top;\n",
              "    }\n",
              "\n",
              "    .dataframe thead th {\n",
              "        text-align: right;\n",
              "    }\n",
              "</style>\n",
              "<table border=\"1\" class=\"dataframe\">\n",
              "  <thead>\n",
              "    <tr style=\"text-align: right;\">\n",
              "      <th></th>\n",
              "      <th>messages_included</th>\n",
              "      <th>mb_per_month_included</th>\n",
              "      <th>minutes_included</th>\n",
              "      <th>rub_monthly_fee</th>\n",
              "      <th>rub_per_gb</th>\n",
              "      <th>rub_per_message</th>\n",
              "      <th>rub_per_minute</th>\n",
              "      <th>tariff_name</th>\n",
              "    </tr>\n",
              "  </thead>\n",
              "  <tbody>\n",
              "    <tr>\n",
              "      <th>0</th>\n",
              "      <td>50</td>\n",
              "      <td>15360</td>\n",
              "      <td>500</td>\n",
              "      <td>550</td>\n",
              "      <td>200</td>\n",
              "      <td>3</td>\n",
              "      <td>3</td>\n",
              "      <td>smart</td>\n",
              "    </tr>\n",
              "    <tr>\n",
              "      <th>1</th>\n",
              "      <td>1000</td>\n",
              "      <td>30720</td>\n",
              "      <td>3000</td>\n",
              "      <td>1950</td>\n",
              "      <td>150</td>\n",
              "      <td>1</td>\n",
              "      <td>1</td>\n",
              "      <td>ultra</td>\n",
              "    </tr>\n",
              "  </tbody>\n",
              "</table>\n",
              "</div>\n",
              "      <button class=\"colab-df-convert\" onclick=\"convertToInteractive('df-a5bb200a-f0b5-4151-a808-e5d59264a4b7')\"\n",
              "              title=\"Convert this dataframe to an interactive table.\"\n",
              "              style=\"display:none;\">\n",
              "        \n",
              "  <svg xmlns=\"http://www.w3.org/2000/svg\" height=\"24px\"viewBox=\"0 0 24 24\"\n",
              "       width=\"24px\">\n",
              "    <path d=\"M0 0h24v24H0V0z\" fill=\"none\"/>\n",
              "    <path d=\"M18.56 5.44l.94 2.06.94-2.06 2.06-.94-2.06-.94-.94-2.06-.94 2.06-2.06.94zm-11 1L8.5 8.5l.94-2.06 2.06-.94-2.06-.94L8.5 2.5l-.94 2.06-2.06.94zm10 10l.94 2.06.94-2.06 2.06-.94-2.06-.94-.94-2.06-.94 2.06-2.06.94z\"/><path d=\"M17.41 7.96l-1.37-1.37c-.4-.4-.92-.59-1.43-.59-.52 0-1.04.2-1.43.59L10.3 9.45l-7.72 7.72c-.78.78-.78 2.05 0 2.83L4 21.41c.39.39.9.59 1.41.59.51 0 1.02-.2 1.41-.59l7.78-7.78 2.81-2.81c.8-.78.8-2.07 0-2.86zM5.41 20L4 18.59l7.72-7.72 1.47 1.35L5.41 20z\"/>\n",
              "  </svg>\n",
              "      </button>\n",
              "      \n",
              "  <style>\n",
              "    .colab-df-container {\n",
              "      display:flex;\n",
              "      flex-wrap:wrap;\n",
              "      gap: 12px;\n",
              "    }\n",
              "\n",
              "    .colab-df-convert {\n",
              "      background-color: #E8F0FE;\n",
              "      border: none;\n",
              "      border-radius: 50%;\n",
              "      cursor: pointer;\n",
              "      display: none;\n",
              "      fill: #1967D2;\n",
              "      height: 32px;\n",
              "      padding: 0 0 0 0;\n",
              "      width: 32px;\n",
              "    }\n",
              "\n",
              "    .colab-df-convert:hover {\n",
              "      background-color: #E2EBFA;\n",
              "      box-shadow: 0px 1px 2px rgba(60, 64, 67, 0.3), 0px 1px 3px 1px rgba(60, 64, 67, 0.15);\n",
              "      fill: #174EA6;\n",
              "    }\n",
              "\n",
              "    [theme=dark] .colab-df-convert {\n",
              "      background-color: #3B4455;\n",
              "      fill: #D2E3FC;\n",
              "    }\n",
              "\n",
              "    [theme=dark] .colab-df-convert:hover {\n",
              "      background-color: #434B5C;\n",
              "      box-shadow: 0px 1px 3px 1px rgba(0, 0, 0, 0.15);\n",
              "      filter: drop-shadow(0px 1px 2px rgba(0, 0, 0, 0.3));\n",
              "      fill: #FFFFFF;\n",
              "    }\n",
              "  </style>\n",
              "\n",
              "      <script>\n",
              "        const buttonEl =\n",
              "          document.querySelector('#df-a5bb200a-f0b5-4151-a808-e5d59264a4b7 button.colab-df-convert');\n",
              "        buttonEl.style.display =\n",
              "          google.colab.kernel.accessAllowed ? 'block' : 'none';\n",
              "\n",
              "        async function convertToInteractive(key) {\n",
              "          const element = document.querySelector('#df-a5bb200a-f0b5-4151-a808-e5d59264a4b7');\n",
              "          const dataTable =\n",
              "            await google.colab.kernel.invokeFunction('convertToInteractive',\n",
              "                                                     [key], {});\n",
              "          if (!dataTable) return;\n",
              "\n",
              "          const docLinkHtml = 'Like what you see? Visit the ' +\n",
              "            '<a target=\"_blank\" href=https://colab.research.google.com/notebooks/data_table.ipynb>data table notebook</a>'\n",
              "            + ' to learn more about interactive tables.';\n",
              "          element.innerHTML = '';\n",
              "          dataTable['output_type'] = 'display_data';\n",
              "          await google.colab.output.renderOutput(dataTable, element);\n",
              "          const docLink = document.createElement('div');\n",
              "          docLink.innerHTML = docLinkHtml;\n",
              "          element.appendChild(docLink);\n",
              "        }\n",
              "      </script>\n",
              "    </div>\n",
              "  </div>\n",
              "  "
            ]
          },
          "metadata": {},
          "execution_count": 220
        }
      ],
      "source": [
        "# checking visually\n",
        "tariffs.head()"
      ]
    },
    {
      "cell_type": "code",
      "execution_count": 221,
      "metadata": {
        "id": "EkcMJ6liUjbR"
      },
      "outputs": [],
      "source": [
        "# меняю название столбца, чтобы проще было объединять таблицы\n",
        "tariffs.columns =['messages_included', 'mb_per_month_included', 'minutes_included', 'rub_monthly_fee', 'rub_per_gb', 'rub_per_message', 'rub_per_minute', 'tariff']"
      ]
    },
    {
      "cell_type": "markdown",
      "metadata": {
        "id": "-T_oPVFeUjbS"
      },
      "source": [
        "\n",
        "**Conclusion**: The data is prepared for processing, missing values and outliers have been removed, data types have been corrected, and other deficiencies that could distort the analysis results have been eliminated."
      ]
    },
    {
      "cell_type": "markdown",
      "metadata": {
        "id": "BRDa-N1CUjbS"
      },
      "source": [
        "# Calculating the use of plans by clients (by months)"
      ]
    },
    {
      "cell_type": "markdown",
      "metadata": {
        "id": "H82AXNuyUjbS"
      },
      "source": [
        "## Calls "
      ]
    },
    {
      "cell_type": "markdown",
      "metadata": {
        "id": "Dr0lgTi5UjbS"
      },
      "source": [
        "How many minutes of conversation are needed by clients of each tariff per month.\n"
      ]
    },
    {
      "cell_type": "code",
      "execution_count": 222,
      "metadata": {
        "id": "QwaghDcYUjbS"
      },
      "outputs": [],
      "source": [
        "# adding a column with month\n",
        "calls['month'] = pd.DatetimeIndex(calls['call_date']).month\n"
      ]
    },
    {
      "cell_type": "code",
      "execution_count": 223,
      "metadata": {
        "id": "Is7SoLN_UjbS",
        "outputId": "e95613dd-fff2-409c-c41a-14bc3be2224d",
        "colab": {
          "base_uri": "https://localhost:8080/",
          "height": 363
        }
      },
      "outputs": [
        {
          "output_type": "execute_result",
          "data": {
            "text/plain": [
              "      user_id  month  duration  calls_amount\n",
              "1446     1228      9       428            47\n",
              "2395     1381      8       654            73\n",
              "52       1006     12       379            44\n",
              "166      1025      8       444            52\n",
              "885      1144      5       541            60\n",
              "3054     1480      3       425            52\n",
              "2169     1346     12       869           111\n",
              "387      1061     10       588            64\n",
              "327      1053      9         1             1\n",
              "245      1039      8       398            46"
            ],
            "text/html": [
              "\n",
              "  <div id=\"df-2cab257c-d7be-454e-abb6-57342439fc82\">\n",
              "    <div class=\"colab-df-container\">\n",
              "      <div>\n",
              "<style scoped>\n",
              "    .dataframe tbody tr th:only-of-type {\n",
              "        vertical-align: middle;\n",
              "    }\n",
              "\n",
              "    .dataframe tbody tr th {\n",
              "        vertical-align: top;\n",
              "    }\n",
              "\n",
              "    .dataframe thead th {\n",
              "        text-align: right;\n",
              "    }\n",
              "</style>\n",
              "<table border=\"1\" class=\"dataframe\">\n",
              "  <thead>\n",
              "    <tr style=\"text-align: right;\">\n",
              "      <th></th>\n",
              "      <th>user_id</th>\n",
              "      <th>month</th>\n",
              "      <th>duration</th>\n",
              "      <th>calls_amount</th>\n",
              "    </tr>\n",
              "  </thead>\n",
              "  <tbody>\n",
              "    <tr>\n",
              "      <th>1446</th>\n",
              "      <td>1228</td>\n",
              "      <td>9</td>\n",
              "      <td>428</td>\n",
              "      <td>47</td>\n",
              "    </tr>\n",
              "    <tr>\n",
              "      <th>2395</th>\n",
              "      <td>1381</td>\n",
              "      <td>8</td>\n",
              "      <td>654</td>\n",
              "      <td>73</td>\n",
              "    </tr>\n",
              "    <tr>\n",
              "      <th>52</th>\n",
              "      <td>1006</td>\n",
              "      <td>12</td>\n",
              "      <td>379</td>\n",
              "      <td>44</td>\n",
              "    </tr>\n",
              "    <tr>\n",
              "      <th>166</th>\n",
              "      <td>1025</td>\n",
              "      <td>8</td>\n",
              "      <td>444</td>\n",
              "      <td>52</td>\n",
              "    </tr>\n",
              "    <tr>\n",
              "      <th>885</th>\n",
              "      <td>1144</td>\n",
              "      <td>5</td>\n",
              "      <td>541</td>\n",
              "      <td>60</td>\n",
              "    </tr>\n",
              "    <tr>\n",
              "      <th>3054</th>\n",
              "      <td>1480</td>\n",
              "      <td>3</td>\n",
              "      <td>425</td>\n",
              "      <td>52</td>\n",
              "    </tr>\n",
              "    <tr>\n",
              "      <th>2169</th>\n",
              "      <td>1346</td>\n",
              "      <td>12</td>\n",
              "      <td>869</td>\n",
              "      <td>111</td>\n",
              "    </tr>\n",
              "    <tr>\n",
              "      <th>387</th>\n",
              "      <td>1061</td>\n",
              "      <td>10</td>\n",
              "      <td>588</td>\n",
              "      <td>64</td>\n",
              "    </tr>\n",
              "    <tr>\n",
              "      <th>327</th>\n",
              "      <td>1053</td>\n",
              "      <td>9</td>\n",
              "      <td>1</td>\n",
              "      <td>1</td>\n",
              "    </tr>\n",
              "    <tr>\n",
              "      <th>245</th>\n",
              "      <td>1039</td>\n",
              "      <td>8</td>\n",
              "      <td>398</td>\n",
              "      <td>46</td>\n",
              "    </tr>\n",
              "  </tbody>\n",
              "</table>\n",
              "</div>\n",
              "      <button class=\"colab-df-convert\" onclick=\"convertToInteractive('df-2cab257c-d7be-454e-abb6-57342439fc82')\"\n",
              "              title=\"Convert this dataframe to an interactive table.\"\n",
              "              style=\"display:none;\">\n",
              "        \n",
              "  <svg xmlns=\"http://www.w3.org/2000/svg\" height=\"24px\"viewBox=\"0 0 24 24\"\n",
              "       width=\"24px\">\n",
              "    <path d=\"M0 0h24v24H0V0z\" fill=\"none\"/>\n",
              "    <path d=\"M18.56 5.44l.94 2.06.94-2.06 2.06-.94-2.06-.94-.94-2.06-.94 2.06-2.06.94zm-11 1L8.5 8.5l.94-2.06 2.06-.94-2.06-.94L8.5 2.5l-.94 2.06-2.06.94zm10 10l.94 2.06.94-2.06 2.06-.94-2.06-.94-.94-2.06-.94 2.06-2.06.94z\"/><path d=\"M17.41 7.96l-1.37-1.37c-.4-.4-.92-.59-1.43-.59-.52 0-1.04.2-1.43.59L10.3 9.45l-7.72 7.72c-.78.78-.78 2.05 0 2.83L4 21.41c.39.39.9.59 1.41.59.51 0 1.02-.2 1.41-.59l7.78-7.78 2.81-2.81c.8-.78.8-2.07 0-2.86zM5.41 20L4 18.59l7.72-7.72 1.47 1.35L5.41 20z\"/>\n",
              "  </svg>\n",
              "      </button>\n",
              "      \n",
              "  <style>\n",
              "    .colab-df-container {\n",
              "      display:flex;\n",
              "      flex-wrap:wrap;\n",
              "      gap: 12px;\n",
              "    }\n",
              "\n",
              "    .colab-df-convert {\n",
              "      background-color: #E8F0FE;\n",
              "      border: none;\n",
              "      border-radius: 50%;\n",
              "      cursor: pointer;\n",
              "      display: none;\n",
              "      fill: #1967D2;\n",
              "      height: 32px;\n",
              "      padding: 0 0 0 0;\n",
              "      width: 32px;\n",
              "    }\n",
              "\n",
              "    .colab-df-convert:hover {\n",
              "      background-color: #E2EBFA;\n",
              "      box-shadow: 0px 1px 2px rgba(60, 64, 67, 0.3), 0px 1px 3px 1px rgba(60, 64, 67, 0.15);\n",
              "      fill: #174EA6;\n",
              "    }\n",
              "\n",
              "    [theme=dark] .colab-df-convert {\n",
              "      background-color: #3B4455;\n",
              "      fill: #D2E3FC;\n",
              "    }\n",
              "\n",
              "    [theme=dark] .colab-df-convert:hover {\n",
              "      background-color: #434B5C;\n",
              "      box-shadow: 0px 1px 3px 1px rgba(0, 0, 0, 0.15);\n",
              "      filter: drop-shadow(0px 1px 2px rgba(0, 0, 0, 0.3));\n",
              "      fill: #FFFFFF;\n",
              "    }\n",
              "  </style>\n",
              "\n",
              "      <script>\n",
              "        const buttonEl =\n",
              "          document.querySelector('#df-2cab257c-d7be-454e-abb6-57342439fc82 button.colab-df-convert');\n",
              "        buttonEl.style.display =\n",
              "          google.colab.kernel.accessAllowed ? 'block' : 'none';\n",
              "\n",
              "        async function convertToInteractive(key) {\n",
              "          const element = document.querySelector('#df-2cab257c-d7be-454e-abb6-57342439fc82');\n",
              "          const dataTable =\n",
              "            await google.colab.kernel.invokeFunction('convertToInteractive',\n",
              "                                                     [key], {});\n",
              "          if (!dataTable) return;\n",
              "\n",
              "          const docLinkHtml = 'Like what you see? Visit the ' +\n",
              "            '<a target=\"_blank\" href=https://colab.research.google.com/notebooks/data_table.ipynb>data table notebook</a>'\n",
              "            + ' to learn more about interactive tables.';\n",
              "          element.innerHTML = '';\n",
              "          dataTable['output_type'] = 'display_data';\n",
              "          await google.colab.output.renderOutput(dataTable, element);\n",
              "          const docLink = document.createElement('div');\n",
              "          docLink.innerHTML = docLinkHtml;\n",
              "          element.appendChild(docLink);\n",
              "        }\n",
              "      </script>\n",
              "    </div>\n",
              "  </div>\n",
              "  "
            ]
          },
          "metadata": {},
          "execution_count": 223
        }
      ],
      "source": [
        "# Creating a new table with the number and duration of calls for each client by months\n",
        "calls_month = pd.pivot_table(calls, index=['user_id','month'],\n",
        "                                    values=['duration','id'],\n",
        "                                    aggfunc={'duration':sum,'id':'count'}\n",
        "                             ).reset_index()\n",
        "# changing the columns names\n",
        "calls_month.columns =['user_id', 'month', 'duration', 'calls_amount']\n",
        "\n",
        "# checking results\n",
        "calls_month.sample(10)"
      ]
    },
    {
      "cell_type": "markdown",
      "metadata": {
        "id": "SP53KdxjUjbS"
      },
      "source": [
        "## Messages"
      ]
    },
    {
      "cell_type": "markdown",
      "metadata": {
        "id": "C9-mLW83UjbT"
      },
      "source": [
        "\n",
        "Number of messages sent per month."
      ]
    },
    {
      "cell_type": "code",
      "execution_count": 224,
      "metadata": {
        "id": "uN0e6prgUjbT"
      },
      "outputs": [],
      "source": [
        "# adding a column with month\n",
        "messages['month'] = pd.DatetimeIndex(messages['message_date']).month\n"
      ]
    },
    {
      "cell_type": "code",
      "execution_count": 225,
      "metadata": {
        "id": "aQGqvhpKUjbT",
        "outputId": "da724cd4-b536-4898-c508-abb8e1042b9a",
        "colab": {
          "base_uri": "https://localhost:8080/",
          "height": 363
        }
      },
      "outputs": [
        {
          "output_type": "execute_result",
          "data": {
            "text/plain": [
              "      user_id  month  messages_amount\n",
              "1262     1245      9               65\n",
              "190      1034      9               37\n",
              "857      1164      6               37\n",
              "284      1054     11               62\n",
              "792      1149      5               34\n",
              "1549     1300      7               33\n",
              "1369     1268      5                4\n",
              "2706     1497     10               20\n",
              "353      1065      9               58\n",
              "900      1171      7               68"
            ],
            "text/html": [
              "\n",
              "  <div id=\"df-95c36c4c-82fe-4abf-b5ff-190e6b2185b8\">\n",
              "    <div class=\"colab-df-container\">\n",
              "      <div>\n",
              "<style scoped>\n",
              "    .dataframe tbody tr th:only-of-type {\n",
              "        vertical-align: middle;\n",
              "    }\n",
              "\n",
              "    .dataframe tbody tr th {\n",
              "        vertical-align: top;\n",
              "    }\n",
              "\n",
              "    .dataframe thead th {\n",
              "        text-align: right;\n",
              "    }\n",
              "</style>\n",
              "<table border=\"1\" class=\"dataframe\">\n",
              "  <thead>\n",
              "    <tr style=\"text-align: right;\">\n",
              "      <th></th>\n",
              "      <th>user_id</th>\n",
              "      <th>month</th>\n",
              "      <th>messages_amount</th>\n",
              "    </tr>\n",
              "  </thead>\n",
              "  <tbody>\n",
              "    <tr>\n",
              "      <th>1262</th>\n",
              "      <td>1245</td>\n",
              "      <td>9</td>\n",
              "      <td>65</td>\n",
              "    </tr>\n",
              "    <tr>\n",
              "      <th>190</th>\n",
              "      <td>1034</td>\n",
              "      <td>9</td>\n",
              "      <td>37</td>\n",
              "    </tr>\n",
              "    <tr>\n",
              "      <th>857</th>\n",
              "      <td>1164</td>\n",
              "      <td>6</td>\n",
              "      <td>37</td>\n",
              "    </tr>\n",
              "    <tr>\n",
              "      <th>284</th>\n",
              "      <td>1054</td>\n",
              "      <td>11</td>\n",
              "      <td>62</td>\n",
              "    </tr>\n",
              "    <tr>\n",
              "      <th>792</th>\n",
              "      <td>1149</td>\n",
              "      <td>5</td>\n",
              "      <td>34</td>\n",
              "    </tr>\n",
              "    <tr>\n",
              "      <th>1549</th>\n",
              "      <td>1300</td>\n",
              "      <td>7</td>\n",
              "      <td>33</td>\n",
              "    </tr>\n",
              "    <tr>\n",
              "      <th>1369</th>\n",
              "      <td>1268</td>\n",
              "      <td>5</td>\n",
              "      <td>4</td>\n",
              "    </tr>\n",
              "    <tr>\n",
              "      <th>2706</th>\n",
              "      <td>1497</td>\n",
              "      <td>10</td>\n",
              "      <td>20</td>\n",
              "    </tr>\n",
              "    <tr>\n",
              "      <th>353</th>\n",
              "      <td>1065</td>\n",
              "      <td>9</td>\n",
              "      <td>58</td>\n",
              "    </tr>\n",
              "    <tr>\n",
              "      <th>900</th>\n",
              "      <td>1171</td>\n",
              "      <td>7</td>\n",
              "      <td>68</td>\n",
              "    </tr>\n",
              "  </tbody>\n",
              "</table>\n",
              "</div>\n",
              "      <button class=\"colab-df-convert\" onclick=\"convertToInteractive('df-95c36c4c-82fe-4abf-b5ff-190e6b2185b8')\"\n",
              "              title=\"Convert this dataframe to an interactive table.\"\n",
              "              style=\"display:none;\">\n",
              "        \n",
              "  <svg xmlns=\"http://www.w3.org/2000/svg\" height=\"24px\"viewBox=\"0 0 24 24\"\n",
              "       width=\"24px\">\n",
              "    <path d=\"M0 0h24v24H0V0z\" fill=\"none\"/>\n",
              "    <path d=\"M18.56 5.44l.94 2.06.94-2.06 2.06-.94-2.06-.94-.94-2.06-.94 2.06-2.06.94zm-11 1L8.5 8.5l.94-2.06 2.06-.94-2.06-.94L8.5 2.5l-.94 2.06-2.06.94zm10 10l.94 2.06.94-2.06 2.06-.94-2.06-.94-.94-2.06-.94 2.06-2.06.94z\"/><path d=\"M17.41 7.96l-1.37-1.37c-.4-.4-.92-.59-1.43-.59-.52 0-1.04.2-1.43.59L10.3 9.45l-7.72 7.72c-.78.78-.78 2.05 0 2.83L4 21.41c.39.39.9.59 1.41.59.51 0 1.02-.2 1.41-.59l7.78-7.78 2.81-2.81c.8-.78.8-2.07 0-2.86zM5.41 20L4 18.59l7.72-7.72 1.47 1.35L5.41 20z\"/>\n",
              "  </svg>\n",
              "      </button>\n",
              "      \n",
              "  <style>\n",
              "    .colab-df-container {\n",
              "      display:flex;\n",
              "      flex-wrap:wrap;\n",
              "      gap: 12px;\n",
              "    }\n",
              "\n",
              "    .colab-df-convert {\n",
              "      background-color: #E8F0FE;\n",
              "      border: none;\n",
              "      border-radius: 50%;\n",
              "      cursor: pointer;\n",
              "      display: none;\n",
              "      fill: #1967D2;\n",
              "      height: 32px;\n",
              "      padding: 0 0 0 0;\n",
              "      width: 32px;\n",
              "    }\n",
              "\n",
              "    .colab-df-convert:hover {\n",
              "      background-color: #E2EBFA;\n",
              "      box-shadow: 0px 1px 2px rgba(60, 64, 67, 0.3), 0px 1px 3px 1px rgba(60, 64, 67, 0.15);\n",
              "      fill: #174EA6;\n",
              "    }\n",
              "\n",
              "    [theme=dark] .colab-df-convert {\n",
              "      background-color: #3B4455;\n",
              "      fill: #D2E3FC;\n",
              "    }\n",
              "\n",
              "    [theme=dark] .colab-df-convert:hover {\n",
              "      background-color: #434B5C;\n",
              "      box-shadow: 0px 1px 3px 1px rgba(0, 0, 0, 0.15);\n",
              "      filter: drop-shadow(0px 1px 2px rgba(0, 0, 0, 0.3));\n",
              "      fill: #FFFFFF;\n",
              "    }\n",
              "  </style>\n",
              "\n",
              "      <script>\n",
              "        const buttonEl =\n",
              "          document.querySelector('#df-95c36c4c-82fe-4abf-b5ff-190e6b2185b8 button.colab-df-convert');\n",
              "        buttonEl.style.display =\n",
              "          google.colab.kernel.accessAllowed ? 'block' : 'none';\n",
              "\n",
              "        async function convertToInteractive(key) {\n",
              "          const element = document.querySelector('#df-95c36c4c-82fe-4abf-b5ff-190e6b2185b8');\n",
              "          const dataTable =\n",
              "            await google.colab.kernel.invokeFunction('convertToInteractive',\n",
              "                                                     [key], {});\n",
              "          if (!dataTable) return;\n",
              "\n",
              "          const docLinkHtml = 'Like what you see? Visit the ' +\n",
              "            '<a target=\"_blank\" href=https://colab.research.google.com/notebooks/data_table.ipynb>data table notebook</a>'\n",
              "            + ' to learn more about interactive tables.';\n",
              "          element.innerHTML = '';\n",
              "          dataTable['output_type'] = 'display_data';\n",
              "          await google.colab.output.renderOutput(dataTable, element);\n",
              "          const docLink = document.createElement('div');\n",
              "          docLink.innerHTML = docLinkHtml;\n",
              "          element.appendChild(docLink);\n",
              "        }\n",
              "      </script>\n",
              "    </div>\n",
              "  </div>\n",
              "  "
            ]
          },
          "metadata": {},
          "execution_count": 225
        }
      ],
      "source": [
        "# Creating a new table with the number of messages for each client by month.\n",
        "messages_month = pd.pivot_table(messages, index=['user_id','month'],\n",
        "                                          values='id',\n",
        "                                          aggfunc='count'\n",
        "                                ).reset_index()\n",
        "\n",
        "# changing the column names\n",
        "messages_month.columns =['user_id', 'month', 'messages_amount']\n",
        "\n",
        "# checking results\n",
        "messages_month.sample(10)"
      ]
    },
    {
      "cell_type": "markdown",
      "metadata": {
        "id": "v7DCzGPhUjbT"
      },
      "source": [
        "## Internet "
      ]
    },
    {
      "cell_type": "markdown",
      "metadata": {
        "id": "VzNRBYM6UjbT"
      },
      "source": [
        "Amount of traffic by month."
      ]
    },
    {
      "cell_type": "code",
      "execution_count": 226,
      "metadata": {
        "id": "DyVsINK-UjbT"
      },
      "outputs": [],
      "source": [
        "# adding the column with month\n",
        "internet['month'] = pd.DatetimeIndex(internet['session_date']).month\n"
      ]
    },
    {
      "cell_type": "code",
      "execution_count": 227,
      "metadata": {
        "id": "WhvMN84iUjbT",
        "outputId": "e5cfc38e-d19d-41f3-cc24-b9dcf99452e9",
        "colab": {
          "base_uri": "https://localhost:8080/",
          "height": 363
        }
      },
      "outputs": [
        {
          "output_type": "execute_result",
          "data": {
            "text/plain": [
              "      user_id  month  mb_used\n",
              "1086     1172      7  29495.0\n",
              "2086     1330      9  29680.0\n",
              "2518     1394     12   5817.0\n",
              "1201     1187      8   5588.0\n",
              "2015     1319     11  18358.0\n",
              "2431     1382     10  10532.0\n",
              "155      1023     10   7035.0\n",
              "2468     1388     12  21844.0\n",
              "1286     1201      9  12206.0\n",
              "2598     1407     11  11343.0"
            ],
            "text/html": [
              "\n",
              "  <div id=\"df-4b25379f-3e54-4663-aaeb-eb2bf90477c3\">\n",
              "    <div class=\"colab-df-container\">\n",
              "      <div>\n",
              "<style scoped>\n",
              "    .dataframe tbody tr th:only-of-type {\n",
              "        vertical-align: middle;\n",
              "    }\n",
              "\n",
              "    .dataframe tbody tr th {\n",
              "        vertical-align: top;\n",
              "    }\n",
              "\n",
              "    .dataframe thead th {\n",
              "        text-align: right;\n",
              "    }\n",
              "</style>\n",
              "<table border=\"1\" class=\"dataframe\">\n",
              "  <thead>\n",
              "    <tr style=\"text-align: right;\">\n",
              "      <th></th>\n",
              "      <th>user_id</th>\n",
              "      <th>month</th>\n",
              "      <th>mb_used</th>\n",
              "    </tr>\n",
              "  </thead>\n",
              "  <tbody>\n",
              "    <tr>\n",
              "      <th>1086</th>\n",
              "      <td>1172</td>\n",
              "      <td>7</td>\n",
              "      <td>29495.0</td>\n",
              "    </tr>\n",
              "    <tr>\n",
              "      <th>2086</th>\n",
              "      <td>1330</td>\n",
              "      <td>9</td>\n",
              "      <td>29680.0</td>\n",
              "    </tr>\n",
              "    <tr>\n",
              "      <th>2518</th>\n",
              "      <td>1394</td>\n",
              "      <td>12</td>\n",
              "      <td>5817.0</td>\n",
              "    </tr>\n",
              "    <tr>\n",
              "      <th>1201</th>\n",
              "      <td>1187</td>\n",
              "      <td>8</td>\n",
              "      <td>5588.0</td>\n",
              "    </tr>\n",
              "    <tr>\n",
              "      <th>2015</th>\n",
              "      <td>1319</td>\n",
              "      <td>11</td>\n",
              "      <td>18358.0</td>\n",
              "    </tr>\n",
              "    <tr>\n",
              "      <th>2431</th>\n",
              "      <td>1382</td>\n",
              "      <td>10</td>\n",
              "      <td>10532.0</td>\n",
              "    </tr>\n",
              "    <tr>\n",
              "      <th>155</th>\n",
              "      <td>1023</td>\n",
              "      <td>10</td>\n",
              "      <td>7035.0</td>\n",
              "    </tr>\n",
              "    <tr>\n",
              "      <th>2468</th>\n",
              "      <td>1388</td>\n",
              "      <td>12</td>\n",
              "      <td>21844.0</td>\n",
              "    </tr>\n",
              "    <tr>\n",
              "      <th>1286</th>\n",
              "      <td>1201</td>\n",
              "      <td>9</td>\n",
              "      <td>12206.0</td>\n",
              "    </tr>\n",
              "    <tr>\n",
              "      <th>2598</th>\n",
              "      <td>1407</td>\n",
              "      <td>11</td>\n",
              "      <td>11343.0</td>\n",
              "    </tr>\n",
              "  </tbody>\n",
              "</table>\n",
              "</div>\n",
              "      <button class=\"colab-df-convert\" onclick=\"convertToInteractive('df-4b25379f-3e54-4663-aaeb-eb2bf90477c3')\"\n",
              "              title=\"Convert this dataframe to an interactive table.\"\n",
              "              style=\"display:none;\">\n",
              "        \n",
              "  <svg xmlns=\"http://www.w3.org/2000/svg\" height=\"24px\"viewBox=\"0 0 24 24\"\n",
              "       width=\"24px\">\n",
              "    <path d=\"M0 0h24v24H0V0z\" fill=\"none\"/>\n",
              "    <path d=\"M18.56 5.44l.94 2.06.94-2.06 2.06-.94-2.06-.94-.94-2.06-.94 2.06-2.06.94zm-11 1L8.5 8.5l.94-2.06 2.06-.94-2.06-.94L8.5 2.5l-.94 2.06-2.06.94zm10 10l.94 2.06.94-2.06 2.06-.94-2.06-.94-.94-2.06-.94 2.06-2.06.94z\"/><path d=\"M17.41 7.96l-1.37-1.37c-.4-.4-.92-.59-1.43-.59-.52 0-1.04.2-1.43.59L10.3 9.45l-7.72 7.72c-.78.78-.78 2.05 0 2.83L4 21.41c.39.39.9.59 1.41.59.51 0 1.02-.2 1.41-.59l7.78-7.78 2.81-2.81c.8-.78.8-2.07 0-2.86zM5.41 20L4 18.59l7.72-7.72 1.47 1.35L5.41 20z\"/>\n",
              "  </svg>\n",
              "      </button>\n",
              "      \n",
              "  <style>\n",
              "    .colab-df-container {\n",
              "      display:flex;\n",
              "      flex-wrap:wrap;\n",
              "      gap: 12px;\n",
              "    }\n",
              "\n",
              "    .colab-df-convert {\n",
              "      background-color: #E8F0FE;\n",
              "      border: none;\n",
              "      border-radius: 50%;\n",
              "      cursor: pointer;\n",
              "      display: none;\n",
              "      fill: #1967D2;\n",
              "      height: 32px;\n",
              "      padding: 0 0 0 0;\n",
              "      width: 32px;\n",
              "    }\n",
              "\n",
              "    .colab-df-convert:hover {\n",
              "      background-color: #E2EBFA;\n",
              "      box-shadow: 0px 1px 2px rgba(60, 64, 67, 0.3), 0px 1px 3px 1px rgba(60, 64, 67, 0.15);\n",
              "      fill: #174EA6;\n",
              "    }\n",
              "\n",
              "    [theme=dark] .colab-df-convert {\n",
              "      background-color: #3B4455;\n",
              "      fill: #D2E3FC;\n",
              "    }\n",
              "\n",
              "    [theme=dark] .colab-df-convert:hover {\n",
              "      background-color: #434B5C;\n",
              "      box-shadow: 0px 1px 3px 1px rgba(0, 0, 0, 0.15);\n",
              "      filter: drop-shadow(0px 1px 2px rgba(0, 0, 0, 0.3));\n",
              "      fill: #FFFFFF;\n",
              "    }\n",
              "  </style>\n",
              "\n",
              "      <script>\n",
              "        const buttonEl =\n",
              "          document.querySelector('#df-4b25379f-3e54-4663-aaeb-eb2bf90477c3 button.colab-df-convert');\n",
              "        buttonEl.style.display =\n",
              "          google.colab.kernel.accessAllowed ? 'block' : 'none';\n",
              "\n",
              "        async function convertToInteractive(key) {\n",
              "          const element = document.querySelector('#df-4b25379f-3e54-4663-aaeb-eb2bf90477c3');\n",
              "          const dataTable =\n",
              "            await google.colab.kernel.invokeFunction('convertToInteractive',\n",
              "                                                     [key], {});\n",
              "          if (!dataTable) return;\n",
              "\n",
              "          const docLinkHtml = 'Like what you see? Visit the ' +\n",
              "            '<a target=\"_blank\" href=https://colab.research.google.com/notebooks/data_table.ipynb>data table notebook</a>'\n",
              "            + ' to learn more about interactive tables.';\n",
              "          element.innerHTML = '';\n",
              "          dataTable['output_type'] = 'display_data';\n",
              "          await google.colab.output.renderOutput(dataTable, element);\n",
              "          const docLink = document.createElement('div');\n",
              "          docLink.innerHTML = docLinkHtml;\n",
              "          element.appendChild(docLink);\n",
              "        }\n",
              "      </script>\n",
              "    </div>\n",
              "  </div>\n",
              "  "
            ]
          },
          "metadata": {},
          "execution_count": 227
        }
      ],
      "source": [
        "# Creating a new table with the amount of mb for each client by month\n",
        "internet_month = pd.pivot_table(internet, index=['user_id','month'],\n",
        "                                          values='mb_used',\n",
        "                                          aggfunc='sum'\n",
        "                                ).reset_index()\n",
        "\n",
        "\n",
        "# checking results\n",
        "internet_month.sample(10)"
      ]
    },
    {
      "cell_type": "markdown",
      "metadata": {
        "id": "ibtTP8XEUjbU"
      },
      "source": [
        "## Pivot table with calculations"
      ]
    },
    {
      "cell_type": "markdown",
      "metadata": {
        "id": "-TvI8CBgUjbU"
      },
      "source": [
        "I'm merging all the tables into one to make it easier to calculate the monthly revenue per customer."
      ]
    },
    {
      "cell_type": "code",
      "execution_count": 228,
      "metadata": {
        "id": "YhKfm4QsUjbU",
        "outputId": "30fb9e39-6836-43f7-cc57-3fd5d71b939a",
        "colab": {
          "base_uri": "https://localhost:8080/",
          "height": 427
        }
      },
      "outputs": [
        {
          "output_type": "execute_result",
          "data": {
            "text/plain": [
              "      user_id  month  duration  calls_amount  mb_used  messages_amount tariff  \\\n",
              "1413     1225      4      41.0           9.0   4550.0              NaN  ultra   \n",
              "740      1119      4      65.0           8.0   8836.0             13.0  smart   \n",
              "1469     1235     11     481.0          69.0  15622.0             66.0  smart   \n",
              "1213     1190     12     445.0          52.0  12067.0             20.0  smart   \n",
              "2238     1359     11     741.0          81.0  16803.0             12.0  smart   \n",
              "2984     1470     10     255.0          30.0  10543.0              7.0  smart   \n",
              "2853     1452      9     194.0          20.0  21731.0             62.0  ultra   \n",
              "2609     1412      9     567.0          73.0  29516.0             54.0  ultra   \n",
              "482      1076     11     541.0          64.0  13816.0             93.0  smart   \n",
              "486      1077     12     784.0          83.0  24143.0             32.0  smart   \n",
              "\n",
              "              city  messages_included  mb_per_month_included  \\\n",
              "1413      Оренбург               1000                  30720   \n",
              "740   Петрозаводск                 50                  15360   \n",
              "1469        Москва                 50                  15360   \n",
              "1213        Москва                 50                  15360   \n",
              "2238        Москва                 50                  15360   \n",
              "2984   Новокузнецк                 50                  15360   \n",
              "2853        Москва               1000                  30720   \n",
              "2609     Волгоград               1000                  30720   \n",
              "482            Уфа                 50                  15360   \n",
              "486         Москва                 50                  15360   \n",
              "\n",
              "      minutes_included  rub_monthly_fee  rub_per_gb  rub_per_message  \\\n",
              "1413              3000             1950         150                1   \n",
              "740                500              550         200                3   \n",
              "1469               500              550         200                3   \n",
              "1213               500              550         200                3   \n",
              "2238               500              550         200                3   \n",
              "2984               500              550         200                3   \n",
              "2853              3000             1950         150                1   \n",
              "2609              3000             1950         150                1   \n",
              "482                500              550         200                3   \n",
              "486                500              550         200                3   \n",
              "\n",
              "      rub_per_minute  \n",
              "1413               1  \n",
              "740                3  \n",
              "1469               3  \n",
              "1213               3  \n",
              "2238               3  \n",
              "2984               3  \n",
              "2853               1  \n",
              "2609               1  \n",
              "482                3  \n",
              "486                3  "
            ],
            "text/html": [
              "\n",
              "  <div id=\"df-95a704a6-b5e2-4091-a291-4cdbd6e418f3\">\n",
              "    <div class=\"colab-df-container\">\n",
              "      <div>\n",
              "<style scoped>\n",
              "    .dataframe tbody tr th:only-of-type {\n",
              "        vertical-align: middle;\n",
              "    }\n",
              "\n",
              "    .dataframe tbody tr th {\n",
              "        vertical-align: top;\n",
              "    }\n",
              "\n",
              "    .dataframe thead th {\n",
              "        text-align: right;\n",
              "    }\n",
              "</style>\n",
              "<table border=\"1\" class=\"dataframe\">\n",
              "  <thead>\n",
              "    <tr style=\"text-align: right;\">\n",
              "      <th></th>\n",
              "      <th>user_id</th>\n",
              "      <th>month</th>\n",
              "      <th>duration</th>\n",
              "      <th>calls_amount</th>\n",
              "      <th>mb_used</th>\n",
              "      <th>messages_amount</th>\n",
              "      <th>tariff</th>\n",
              "      <th>city</th>\n",
              "      <th>messages_included</th>\n",
              "      <th>mb_per_month_included</th>\n",
              "      <th>minutes_included</th>\n",
              "      <th>rub_monthly_fee</th>\n",
              "      <th>rub_per_gb</th>\n",
              "      <th>rub_per_message</th>\n",
              "      <th>rub_per_minute</th>\n",
              "    </tr>\n",
              "  </thead>\n",
              "  <tbody>\n",
              "    <tr>\n",
              "      <th>1413</th>\n",
              "      <td>1225</td>\n",
              "      <td>4</td>\n",
              "      <td>41.0</td>\n",
              "      <td>9.0</td>\n",
              "      <td>4550.0</td>\n",
              "      <td>NaN</td>\n",
              "      <td>ultra</td>\n",
              "      <td>Оренбург</td>\n",
              "      <td>1000</td>\n",
              "      <td>30720</td>\n",
              "      <td>3000</td>\n",
              "      <td>1950</td>\n",
              "      <td>150</td>\n",
              "      <td>1</td>\n",
              "      <td>1</td>\n",
              "    </tr>\n",
              "    <tr>\n",
              "      <th>740</th>\n",
              "      <td>1119</td>\n",
              "      <td>4</td>\n",
              "      <td>65.0</td>\n",
              "      <td>8.0</td>\n",
              "      <td>8836.0</td>\n",
              "      <td>13.0</td>\n",
              "      <td>smart</td>\n",
              "      <td>Петрозаводск</td>\n",
              "      <td>50</td>\n",
              "      <td>15360</td>\n",
              "      <td>500</td>\n",
              "      <td>550</td>\n",
              "      <td>200</td>\n",
              "      <td>3</td>\n",
              "      <td>3</td>\n",
              "    </tr>\n",
              "    <tr>\n",
              "      <th>1469</th>\n",
              "      <td>1235</td>\n",
              "      <td>11</td>\n",
              "      <td>481.0</td>\n",
              "      <td>69.0</td>\n",
              "      <td>15622.0</td>\n",
              "      <td>66.0</td>\n",
              "      <td>smart</td>\n",
              "      <td>Москва</td>\n",
              "      <td>50</td>\n",
              "      <td>15360</td>\n",
              "      <td>500</td>\n",
              "      <td>550</td>\n",
              "      <td>200</td>\n",
              "      <td>3</td>\n",
              "      <td>3</td>\n",
              "    </tr>\n",
              "    <tr>\n",
              "      <th>1213</th>\n",
              "      <td>1190</td>\n",
              "      <td>12</td>\n",
              "      <td>445.0</td>\n",
              "      <td>52.0</td>\n",
              "      <td>12067.0</td>\n",
              "      <td>20.0</td>\n",
              "      <td>smart</td>\n",
              "      <td>Москва</td>\n",
              "      <td>50</td>\n",
              "      <td>15360</td>\n",
              "      <td>500</td>\n",
              "      <td>550</td>\n",
              "      <td>200</td>\n",
              "      <td>3</td>\n",
              "      <td>3</td>\n",
              "    </tr>\n",
              "    <tr>\n",
              "      <th>2238</th>\n",
              "      <td>1359</td>\n",
              "      <td>11</td>\n",
              "      <td>741.0</td>\n",
              "      <td>81.0</td>\n",
              "      <td>16803.0</td>\n",
              "      <td>12.0</td>\n",
              "      <td>smart</td>\n",
              "      <td>Москва</td>\n",
              "      <td>50</td>\n",
              "      <td>15360</td>\n",
              "      <td>500</td>\n",
              "      <td>550</td>\n",
              "      <td>200</td>\n",
              "      <td>3</td>\n",
              "      <td>3</td>\n",
              "    </tr>\n",
              "    <tr>\n",
              "      <th>2984</th>\n",
              "      <td>1470</td>\n",
              "      <td>10</td>\n",
              "      <td>255.0</td>\n",
              "      <td>30.0</td>\n",
              "      <td>10543.0</td>\n",
              "      <td>7.0</td>\n",
              "      <td>smart</td>\n",
              "      <td>Новокузнецк</td>\n",
              "      <td>50</td>\n",
              "      <td>15360</td>\n",
              "      <td>500</td>\n",
              "      <td>550</td>\n",
              "      <td>200</td>\n",
              "      <td>3</td>\n",
              "      <td>3</td>\n",
              "    </tr>\n",
              "    <tr>\n",
              "      <th>2853</th>\n",
              "      <td>1452</td>\n",
              "      <td>9</td>\n",
              "      <td>194.0</td>\n",
              "      <td>20.0</td>\n",
              "      <td>21731.0</td>\n",
              "      <td>62.0</td>\n",
              "      <td>ultra</td>\n",
              "      <td>Москва</td>\n",
              "      <td>1000</td>\n",
              "      <td>30720</td>\n",
              "      <td>3000</td>\n",
              "      <td>1950</td>\n",
              "      <td>150</td>\n",
              "      <td>1</td>\n",
              "      <td>1</td>\n",
              "    </tr>\n",
              "    <tr>\n",
              "      <th>2609</th>\n",
              "      <td>1412</td>\n",
              "      <td>9</td>\n",
              "      <td>567.0</td>\n",
              "      <td>73.0</td>\n",
              "      <td>29516.0</td>\n",
              "      <td>54.0</td>\n",
              "      <td>ultra</td>\n",
              "      <td>Волгоград</td>\n",
              "      <td>1000</td>\n",
              "      <td>30720</td>\n",
              "      <td>3000</td>\n",
              "      <td>1950</td>\n",
              "      <td>150</td>\n",
              "      <td>1</td>\n",
              "      <td>1</td>\n",
              "    </tr>\n",
              "    <tr>\n",
              "      <th>482</th>\n",
              "      <td>1076</td>\n",
              "      <td>11</td>\n",
              "      <td>541.0</td>\n",
              "      <td>64.0</td>\n",
              "      <td>13816.0</td>\n",
              "      <td>93.0</td>\n",
              "      <td>smart</td>\n",
              "      <td>Уфа</td>\n",
              "      <td>50</td>\n",
              "      <td>15360</td>\n",
              "      <td>500</td>\n",
              "      <td>550</td>\n",
              "      <td>200</td>\n",
              "      <td>3</td>\n",
              "      <td>3</td>\n",
              "    </tr>\n",
              "    <tr>\n",
              "      <th>486</th>\n",
              "      <td>1077</td>\n",
              "      <td>12</td>\n",
              "      <td>784.0</td>\n",
              "      <td>83.0</td>\n",
              "      <td>24143.0</td>\n",
              "      <td>32.0</td>\n",
              "      <td>smart</td>\n",
              "      <td>Москва</td>\n",
              "      <td>50</td>\n",
              "      <td>15360</td>\n",
              "      <td>500</td>\n",
              "      <td>550</td>\n",
              "      <td>200</td>\n",
              "      <td>3</td>\n",
              "      <td>3</td>\n",
              "    </tr>\n",
              "  </tbody>\n",
              "</table>\n",
              "</div>\n",
              "      <button class=\"colab-df-convert\" onclick=\"convertToInteractive('df-95a704a6-b5e2-4091-a291-4cdbd6e418f3')\"\n",
              "              title=\"Convert this dataframe to an interactive table.\"\n",
              "              style=\"display:none;\">\n",
              "        \n",
              "  <svg xmlns=\"http://www.w3.org/2000/svg\" height=\"24px\"viewBox=\"0 0 24 24\"\n",
              "       width=\"24px\">\n",
              "    <path d=\"M0 0h24v24H0V0z\" fill=\"none\"/>\n",
              "    <path d=\"M18.56 5.44l.94 2.06.94-2.06 2.06-.94-2.06-.94-.94-2.06-.94 2.06-2.06.94zm-11 1L8.5 8.5l.94-2.06 2.06-.94-2.06-.94L8.5 2.5l-.94 2.06-2.06.94zm10 10l.94 2.06.94-2.06 2.06-.94-2.06-.94-.94-2.06-.94 2.06-2.06.94z\"/><path d=\"M17.41 7.96l-1.37-1.37c-.4-.4-.92-.59-1.43-.59-.52 0-1.04.2-1.43.59L10.3 9.45l-7.72 7.72c-.78.78-.78 2.05 0 2.83L4 21.41c.39.39.9.59 1.41.59.51 0 1.02-.2 1.41-.59l7.78-7.78 2.81-2.81c.8-.78.8-2.07 0-2.86zM5.41 20L4 18.59l7.72-7.72 1.47 1.35L5.41 20z\"/>\n",
              "  </svg>\n",
              "      </button>\n",
              "      \n",
              "  <style>\n",
              "    .colab-df-container {\n",
              "      display:flex;\n",
              "      flex-wrap:wrap;\n",
              "      gap: 12px;\n",
              "    }\n",
              "\n",
              "    .colab-df-convert {\n",
              "      background-color: #E8F0FE;\n",
              "      border: none;\n",
              "      border-radius: 50%;\n",
              "      cursor: pointer;\n",
              "      display: none;\n",
              "      fill: #1967D2;\n",
              "      height: 32px;\n",
              "      padding: 0 0 0 0;\n",
              "      width: 32px;\n",
              "    }\n",
              "\n",
              "    .colab-df-convert:hover {\n",
              "      background-color: #E2EBFA;\n",
              "      box-shadow: 0px 1px 2px rgba(60, 64, 67, 0.3), 0px 1px 3px 1px rgba(60, 64, 67, 0.15);\n",
              "      fill: #174EA6;\n",
              "    }\n",
              "\n",
              "    [theme=dark] .colab-df-convert {\n",
              "      background-color: #3B4455;\n",
              "      fill: #D2E3FC;\n",
              "    }\n",
              "\n",
              "    [theme=dark] .colab-df-convert:hover {\n",
              "      background-color: #434B5C;\n",
              "      box-shadow: 0px 1px 3px 1px rgba(0, 0, 0, 0.15);\n",
              "      filter: drop-shadow(0px 1px 2px rgba(0, 0, 0, 0.3));\n",
              "      fill: #FFFFFF;\n",
              "    }\n",
              "  </style>\n",
              "\n",
              "      <script>\n",
              "        const buttonEl =\n",
              "          document.querySelector('#df-95a704a6-b5e2-4091-a291-4cdbd6e418f3 button.colab-df-convert');\n",
              "        buttonEl.style.display =\n",
              "          google.colab.kernel.accessAllowed ? 'block' : 'none';\n",
              "\n",
              "        async function convertToInteractive(key) {\n",
              "          const element = document.querySelector('#df-95a704a6-b5e2-4091-a291-4cdbd6e418f3');\n",
              "          const dataTable =\n",
              "            await google.colab.kernel.invokeFunction('convertToInteractive',\n",
              "                                                     [key], {});\n",
              "          if (!dataTable) return;\n",
              "\n",
              "          const docLinkHtml = 'Like what you see? Visit the ' +\n",
              "            '<a target=\"_blank\" href=https://colab.research.google.com/notebooks/data_table.ipynb>data table notebook</a>'\n",
              "            + ' to learn more about interactive tables.';\n",
              "          element.innerHTML = '';\n",
              "          dataTable['output_type'] = 'display_data';\n",
              "          await google.colab.output.renderOutput(dataTable, element);\n",
              "          const docLink = document.createElement('div');\n",
              "          docLink.innerHTML = docLinkHtml;\n",
              "          element.appendChild(docLink);\n",
              "        }\n",
              "      </script>\n",
              "    </div>\n",
              "  </div>\n",
              "  "
            ]
          },
          "metadata": {},
          "execution_count": 228
        }
      ],
      "source": [
        "# merge call and internet data\n",
        "clients_total = calls_month.merge(internet_month, on=['user_id','month'], how ='outer')\n",
        "\n",
        "# add message data\n",
        "clients_total = clients_total.merge(messages_month, on=['user_id','month'], how ='outer')\n",
        "\n",
        "# add client information\n",
        "clients_total = clients_total.merge(users[['user_id','tariff', 'city']], on='user_id', how ='left')\n",
        "\n",
        "# add tariff information\n",
        "clients_total = clients_total.merge(tariffs, on='tariff', how='left')\n",
        "\n",
        "# check the result\n",
        "clients_total.sample(10)\n"
      ]
    },
    {
      "cell_type": "markdown",
      "metadata": {
        "id": "NodqJX8GUjbU"
      },
      "source": [
        "I see that there are missing values, I'm checking how many there are."
      ]
    },
    {
      "cell_type": "code",
      "execution_count": 229,
      "metadata": {
        "id": "063ZPqzeUjbU",
        "outputId": "7527ae6d-b7fa-4827-878c-133e0e1f41c2",
        "colab": {
          "base_uri": "https://localhost:8080/"
        }
      },
      "outputs": [
        {
          "output_type": "stream",
          "name": "stdout",
          "text": [
            "<class 'pandas.core.frame.DataFrame'>\n",
            "Int64Index: 3214 entries, 0 to 3213\n",
            "Data columns (total 15 columns):\n",
            " #   Column                 Non-Null Count  Dtype  \n",
            "---  ------                 --------------  -----  \n",
            " 0   user_id                3214 non-null   int64  \n",
            " 1   month                  3214 non-null   int64  \n",
            " 2   duration               3168 non-null   float64\n",
            " 3   calls_amount           3168 non-null   float64\n",
            " 4   mb_used                3201 non-null   float64\n",
            " 5   messages_amount        2717 non-null   float64\n",
            " 6   tariff                 3214 non-null   object \n",
            " 7   city                   3214 non-null   object \n",
            " 8   messages_included      3214 non-null   int64  \n",
            " 9   mb_per_month_included  3214 non-null   int64  \n",
            " 10  minutes_included       3214 non-null   int64  \n",
            " 11  rub_monthly_fee        3214 non-null   int64  \n",
            " 12  rub_per_gb             3214 non-null   int64  \n",
            " 13  rub_per_message        3214 non-null   int64  \n",
            " 14  rub_per_minute         3214 non-null   int64  \n",
            "dtypes: float64(4), int64(9), object(2)\n",
            "memory usage: 401.8+ KB\n"
          ]
        }
      ],
      "source": [
        "# merged table info\n",
        "clients_total.info()"
      ]
    },
    {
      "cell_type": "markdown",
      "metadata": {
        "id": "AK3l-faLUjbU"
      },
      "source": [
        "There are missing values, apparently some customers used the tariff only to make calls, so they have no used traffic and so on. Let's look at the number of missing values in each column."
      ]
    },
    {
      "cell_type": "code",
      "execution_count": 230,
      "metadata": {
        "id": "pRGzvOYDUjbU",
        "outputId": "3d2fcfa1-9a2d-49b1-f0be-7d15cb585a7f",
        "colab": {
          "base_uri": "https://localhost:8080/",
          "height": 520
        }
      },
      "outputs": [
        {
          "output_type": "execute_result",
          "data": {
            "text/plain": [
              "<pandas.io.formats.style.Styler at 0x7f3208ea7160>"
            ],
            "text/html": [
              "<style type=\"text/css\">\n",
              "#T_471e9_row0_col0, #T_471e9_row1_col0, #T_471e9_row6_col0, #T_471e9_row7_col0, #T_471e9_row8_col0, #T_471e9_row9_col0, #T_471e9_row10_col0, #T_471e9_row11_col0, #T_471e9_row12_col0, #T_471e9_row13_col0, #T_471e9_row14_col0 {\n",
              "  background-color: #3b4cc0;\n",
              "  color: #f1f1f1;\n",
              "}\n",
              "#T_471e9_row2_col0, #T_471e9_row3_col0 {\n",
              "  background-color: #5673e0;\n",
              "  color: #f1f1f1;\n",
              "}\n",
              "#T_471e9_row4_col0 {\n",
              "  background-color: #4257c9;\n",
              "  color: #f1f1f1;\n",
              "}\n",
              "#T_471e9_row5_col0 {\n",
              "  background-color: #b40426;\n",
              "  color: #f1f1f1;\n",
              "}\n",
              "</style>\n",
              "<table id=\"T_471e9\" class=\"dataframe\">\n",
              "  <thead>\n",
              "    <tr>\n",
              "      <th class=\"blank level0\" >&nbsp;</th>\n",
              "      <th id=\"T_471e9_level0_col0\" class=\"col_heading level0 col0\" >0</th>\n",
              "    </tr>\n",
              "  </thead>\n",
              "  <tbody>\n",
              "    <tr>\n",
              "      <th id=\"T_471e9_level0_row0\" class=\"row_heading level0 row0\" >user_id</th>\n",
              "      <td id=\"T_471e9_row0_col0\" class=\"data row0 col0\" >0.000000</td>\n",
              "    </tr>\n",
              "    <tr>\n",
              "      <th id=\"T_471e9_level0_row1\" class=\"row_heading level0 row1\" >month</th>\n",
              "      <td id=\"T_471e9_row1_col0\" class=\"data row1 col0\" >0.000000</td>\n",
              "    </tr>\n",
              "    <tr>\n",
              "      <th id=\"T_471e9_level0_row2\" class=\"row_heading level0 row2\" >duration</th>\n",
              "      <td id=\"T_471e9_row2_col0\" class=\"data row2 col0\" >1.430000</td>\n",
              "    </tr>\n",
              "    <tr>\n",
              "      <th id=\"T_471e9_level0_row3\" class=\"row_heading level0 row3\" >calls_amount</th>\n",
              "      <td id=\"T_471e9_row3_col0\" class=\"data row3 col0\" >1.430000</td>\n",
              "    </tr>\n",
              "    <tr>\n",
              "      <th id=\"T_471e9_level0_row4\" class=\"row_heading level0 row4\" >mb_used</th>\n",
              "      <td id=\"T_471e9_row4_col0\" class=\"data row4 col0\" >0.400000</td>\n",
              "    </tr>\n",
              "    <tr>\n",
              "      <th id=\"T_471e9_level0_row5\" class=\"row_heading level0 row5\" >messages_amount</th>\n",
              "      <td id=\"T_471e9_row5_col0\" class=\"data row5 col0\" >15.460000</td>\n",
              "    </tr>\n",
              "    <tr>\n",
              "      <th id=\"T_471e9_level0_row6\" class=\"row_heading level0 row6\" >tariff</th>\n",
              "      <td id=\"T_471e9_row6_col0\" class=\"data row6 col0\" >0.000000</td>\n",
              "    </tr>\n",
              "    <tr>\n",
              "      <th id=\"T_471e9_level0_row7\" class=\"row_heading level0 row7\" >city</th>\n",
              "      <td id=\"T_471e9_row7_col0\" class=\"data row7 col0\" >0.000000</td>\n",
              "    </tr>\n",
              "    <tr>\n",
              "      <th id=\"T_471e9_level0_row8\" class=\"row_heading level0 row8\" >messages_included</th>\n",
              "      <td id=\"T_471e9_row8_col0\" class=\"data row8 col0\" >0.000000</td>\n",
              "    </tr>\n",
              "    <tr>\n",
              "      <th id=\"T_471e9_level0_row9\" class=\"row_heading level0 row9\" >mb_per_month_included</th>\n",
              "      <td id=\"T_471e9_row9_col0\" class=\"data row9 col0\" >0.000000</td>\n",
              "    </tr>\n",
              "    <tr>\n",
              "      <th id=\"T_471e9_level0_row10\" class=\"row_heading level0 row10\" >minutes_included</th>\n",
              "      <td id=\"T_471e9_row10_col0\" class=\"data row10 col0\" >0.000000</td>\n",
              "    </tr>\n",
              "    <tr>\n",
              "      <th id=\"T_471e9_level0_row11\" class=\"row_heading level0 row11\" >rub_monthly_fee</th>\n",
              "      <td id=\"T_471e9_row11_col0\" class=\"data row11 col0\" >0.000000</td>\n",
              "    </tr>\n",
              "    <tr>\n",
              "      <th id=\"T_471e9_level0_row12\" class=\"row_heading level0 row12\" >rub_per_gb</th>\n",
              "      <td id=\"T_471e9_row12_col0\" class=\"data row12 col0\" >0.000000</td>\n",
              "    </tr>\n",
              "    <tr>\n",
              "      <th id=\"T_471e9_level0_row13\" class=\"row_heading level0 row13\" >rub_per_message</th>\n",
              "      <td id=\"T_471e9_row13_col0\" class=\"data row13 col0\" >0.000000</td>\n",
              "    </tr>\n",
              "    <tr>\n",
              "      <th id=\"T_471e9_level0_row14\" class=\"row_heading level0 row14\" >rub_per_minute</th>\n",
              "      <td id=\"T_471e9_row14_col0\" class=\"data row14 col0\" >0.000000</td>\n",
              "    </tr>\n",
              "  </tbody>\n",
              "</table>\n"
            ]
          },
          "metadata": {},
          "execution_count": 230
        }
      ],
      "source": [
        "# checking the missing data\n",
        "pd.DataFrame(round((clients_total.isna().mean()*100),2)).style.background_gradient('coolwarm')"
      ]
    },
    {
      "cell_type": "markdown",
      "metadata": {
        "id": "q5BU0V-wUjbU"
      },
      "source": [
        "\n",
        "15% is a lot, so for `messages_amount` I'm replacing the missing values with 0, and for the rest I'm deleting them."
      ]
    },
    {
      "cell_type": "code",
      "execution_count": 231,
      "metadata": {
        "id": "eoXMxEK1UjbV",
        "outputId": "6f30e6f9-6153-461d-e9cd-007bc617e667",
        "colab": {
          "base_uri": "https://localhost:8080/"
        }
      },
      "outputs": [
        {
          "output_type": "stream",
          "name": "stdout",
          "text": [
            "<class 'pandas.core.frame.DataFrame'>\n",
            "Int64Index: 3155 entries, 0 to 3167\n",
            "Data columns (total 15 columns):\n",
            " #   Column                 Non-Null Count  Dtype  \n",
            "---  ------                 --------------  -----  \n",
            " 0   user_id                3155 non-null   int64  \n",
            " 1   month                  3155 non-null   int64  \n",
            " 2   duration               3155 non-null   float64\n",
            " 3   calls_amount           3155 non-null   float64\n",
            " 4   mb_used                3155 non-null   float64\n",
            " 5   messages_amount        3155 non-null   float64\n",
            " 6   tariff                 3155 non-null   object \n",
            " 7   city                   3155 non-null   object \n",
            " 8   messages_included      3155 non-null   int64  \n",
            " 9   mb_per_month_included  3155 non-null   int64  \n",
            " 10  minutes_included       3155 non-null   int64  \n",
            " 11  rub_monthly_fee        3155 non-null   int64  \n",
            " 12  rub_per_gb             3155 non-null   int64  \n",
            " 13  rub_per_message        3155 non-null   int64  \n",
            " 14  rub_per_minute         3155 non-null   int64  \n",
            "dtypes: float64(4), int64(9), object(2)\n",
            "memory usage: 394.4+ KB\n"
          ]
        }
      ],
      "source": [
        "# filling n/a with 0\n",
        "clients_total['messages_amount'].fillna(0, inplace=True)\n",
        "\n",
        "# deleting where I can delete\n",
        "clients_total.dropna(subset=['duration', 'calls_amount', 'mb_used'], inplace=True)\n",
        "\n",
        "# checking results\n",
        "clients_total.info()"
      ]
    },
    {
      "cell_type": "code",
      "execution_count": 232,
      "metadata": {
        "id": "-Ux6UwCwUjbV",
        "outputId": "e884a053-a773-4e82-bffe-30f439b2f443",
        "colab": {
          "base_uri": "https://localhost:8080/"
        }
      },
      "outputs": [
        {
          "output_type": "execute_result",
          "data": {
            "text/plain": [
              "0"
            ]
          },
          "metadata": {},
          "execution_count": 232
        }
      ],
      "source": [
        "# checking for duplicates\n",
        "clients_total.duplicated().sum()"
      ]
    },
    {
      "cell_type": "markdown",
      "metadata": {
        "id": "4q8qWMuCUjbV"
      },
      "source": [
        "\n",
        "The table is ready for further analysis and calculations.\n",
        "\n",
        "Let's calculate the monthly revenue from each customer and add the result in a separate column."
      ]
    },
    {
      "cell_type": "code",
      "execution_count": 233,
      "metadata": {
        "id": "X5Pv8uUQUjbV"
      },
      "outputs": [],
      "source": [
        "# function to calculate expences above the plan\n",
        "\n",
        "def extra_expenses(row):\n",
        "    ex_minutes = (row['calls_amount'] - row['minutes_included']) * row['rub_per_minute']\n",
        "    ex_gb = (row['mb_used'] - row['mb_per_month_included']) * row['rub_per_gb'] / 1024\n",
        "    ex_messages = (row['messages_amount'] - row['messages_included']) * row['rub_per_message']\n",
        "    extra = 0\n",
        "    for y in [ex_minutes, ex_gb, ex_messages]:\n",
        "              if y > 0:\n",
        "                extra +=y\n",
        "    return extra\n",
        "    "
      ]
    },
    {
      "cell_type": "code",
      "execution_count": 234,
      "metadata": {
        "id": "3W64l6i1UjbV"
      },
      "outputs": [],
      "source": [
        "# adding results to separate column\n",
        "clients_total['extra_expenses'] = clients_total.apply(lambda x: extra_expenses(x), axis=1)"
      ]
    },
    {
      "cell_type": "code",
      "execution_count": 235,
      "metadata": {
        "id": "qG-Jwa18UjbV",
        "outputId": "3eaf6a70-ab5d-4b62-f25e-a54bc5f9b5a2",
        "colab": {
          "base_uri": "https://localhost:8080/",
          "height": 496
        }
      },
      "outputs": [
        {
          "output_type": "execute_result",
          "data": {
            "text/plain": [
              "      user_id  month  duration  calls_amount  mb_used  messages_amount tariff  \\\n",
              "3099     1486     11     764.0          84.0  36319.0             96.0  smart   \n",
              "667      1107     11     224.0          24.0  22551.0              0.0  smart   \n",
              "1898     1303      7     101.0          15.0   2698.0              7.0  ultra   \n",
              "2816     1443      9     407.0          38.0   3518.0             10.0  smart   \n",
              "1181     1186      9     668.0          79.0  12526.0             81.0  smart   \n",
              "2277     1366      6     166.0          18.0   4746.0             19.0  smart   \n",
              "3011     1474     12    1345.0         132.0  42356.0            105.0  ultra   \n",
              "219      1034      9     730.0          81.0  17316.0             37.0  smart   \n",
              "3073     1482      3     444.0          44.0  13125.0             63.0  smart   \n",
              "2373     1378     11     437.0          53.0  10476.0              9.0  smart   \n",
              "\n",
              "                  city  messages_included  mb_per_month_included  \\\n",
              "3099   Нижний Новгород                 50                  15360   \n",
              "667               Орёл                 50                  15360   \n",
              "1898          Смоленск               1000                  30720   \n",
              "2816            Казань                 50                  15360   \n",
              "1181            Самара                 50                  15360   \n",
              "2277   Санкт-Петербург                 50                  15360   \n",
              "3011  Набережные Челны               1000                  30720   \n",
              "219            Вологда                 50                  15360   \n",
              "3073   Санкт-Петербург                 50                  15360   \n",
              "2373           Иркутск                 50                  15360   \n",
              "\n",
              "      minutes_included  rub_monthly_fee  rub_per_gb  rub_per_message  \\\n",
              "3099               500              550         200                3   \n",
              "667                500              550         200                3   \n",
              "1898              3000             1950         150                1   \n",
              "2816               500              550         200                3   \n",
              "1181               500              550         200                3   \n",
              "2277               500              550         200                3   \n",
              "3011              3000             1950         150                1   \n",
              "219                500              550         200                3   \n",
              "3073               500              550         200                3   \n",
              "2373               500              550         200                3   \n",
              "\n",
              "      rub_per_minute  extra_expenses  income  \n",
              "3099               3     4231.554688    4781  \n",
              "667                3     1404.492188    1954  \n",
              "1898               1        0.000000    1950  \n",
              "2816               3        0.000000     550  \n",
              "1181               3       93.000000     643  \n",
              "2277               3        0.000000     550  \n",
              "3011               1     1704.492188    3654  \n",
              "219                3      382.031250     932  \n",
              "3073               3       39.000000     589  \n",
              "2373               3        0.000000     550  "
            ],
            "text/html": [
              "\n",
              "  <div id=\"df-b9314bfd-c682-426a-a651-5f94f25cb47e\">\n",
              "    <div class=\"colab-df-container\">\n",
              "      <div>\n",
              "<style scoped>\n",
              "    .dataframe tbody tr th:only-of-type {\n",
              "        vertical-align: middle;\n",
              "    }\n",
              "\n",
              "    .dataframe tbody tr th {\n",
              "        vertical-align: top;\n",
              "    }\n",
              "\n",
              "    .dataframe thead th {\n",
              "        text-align: right;\n",
              "    }\n",
              "</style>\n",
              "<table border=\"1\" class=\"dataframe\">\n",
              "  <thead>\n",
              "    <tr style=\"text-align: right;\">\n",
              "      <th></th>\n",
              "      <th>user_id</th>\n",
              "      <th>month</th>\n",
              "      <th>duration</th>\n",
              "      <th>calls_amount</th>\n",
              "      <th>mb_used</th>\n",
              "      <th>messages_amount</th>\n",
              "      <th>tariff</th>\n",
              "      <th>city</th>\n",
              "      <th>messages_included</th>\n",
              "      <th>mb_per_month_included</th>\n",
              "      <th>minutes_included</th>\n",
              "      <th>rub_monthly_fee</th>\n",
              "      <th>rub_per_gb</th>\n",
              "      <th>rub_per_message</th>\n",
              "      <th>rub_per_minute</th>\n",
              "      <th>extra_expenses</th>\n",
              "      <th>income</th>\n",
              "    </tr>\n",
              "  </thead>\n",
              "  <tbody>\n",
              "    <tr>\n",
              "      <th>3099</th>\n",
              "      <td>1486</td>\n",
              "      <td>11</td>\n",
              "      <td>764.0</td>\n",
              "      <td>84.0</td>\n",
              "      <td>36319.0</td>\n",
              "      <td>96.0</td>\n",
              "      <td>smart</td>\n",
              "      <td>Нижний Новгород</td>\n",
              "      <td>50</td>\n",
              "      <td>15360</td>\n",
              "      <td>500</td>\n",
              "      <td>550</td>\n",
              "      <td>200</td>\n",
              "      <td>3</td>\n",
              "      <td>3</td>\n",
              "      <td>4231.554688</td>\n",
              "      <td>4781</td>\n",
              "    </tr>\n",
              "    <tr>\n",
              "      <th>667</th>\n",
              "      <td>1107</td>\n",
              "      <td>11</td>\n",
              "      <td>224.0</td>\n",
              "      <td>24.0</td>\n",
              "      <td>22551.0</td>\n",
              "      <td>0.0</td>\n",
              "      <td>smart</td>\n",
              "      <td>Орёл</td>\n",
              "      <td>50</td>\n",
              "      <td>15360</td>\n",
              "      <td>500</td>\n",
              "      <td>550</td>\n",
              "      <td>200</td>\n",
              "      <td>3</td>\n",
              "      <td>3</td>\n",
              "      <td>1404.492188</td>\n",
              "      <td>1954</td>\n",
              "    </tr>\n",
              "    <tr>\n",
              "      <th>1898</th>\n",
              "      <td>1303</td>\n",
              "      <td>7</td>\n",
              "      <td>101.0</td>\n",
              "      <td>15.0</td>\n",
              "      <td>2698.0</td>\n",
              "      <td>7.0</td>\n",
              "      <td>ultra</td>\n",
              "      <td>Смоленск</td>\n",
              "      <td>1000</td>\n",
              "      <td>30720</td>\n",
              "      <td>3000</td>\n",
              "      <td>1950</td>\n",
              "      <td>150</td>\n",
              "      <td>1</td>\n",
              "      <td>1</td>\n",
              "      <td>0.000000</td>\n",
              "      <td>1950</td>\n",
              "    </tr>\n",
              "    <tr>\n",
              "      <th>2816</th>\n",
              "      <td>1443</td>\n",
              "      <td>9</td>\n",
              "      <td>407.0</td>\n",
              "      <td>38.0</td>\n",
              "      <td>3518.0</td>\n",
              "      <td>10.0</td>\n",
              "      <td>smart</td>\n",
              "      <td>Казань</td>\n",
              "      <td>50</td>\n",
              "      <td>15360</td>\n",
              "      <td>500</td>\n",
              "      <td>550</td>\n",
              "      <td>200</td>\n",
              "      <td>3</td>\n",
              "      <td>3</td>\n",
              "      <td>0.000000</td>\n",
              "      <td>550</td>\n",
              "    </tr>\n",
              "    <tr>\n",
              "      <th>1181</th>\n",
              "      <td>1186</td>\n",
              "      <td>9</td>\n",
              "      <td>668.0</td>\n",
              "      <td>79.0</td>\n",
              "      <td>12526.0</td>\n",
              "      <td>81.0</td>\n",
              "      <td>smart</td>\n",
              "      <td>Самара</td>\n",
              "      <td>50</td>\n",
              "      <td>15360</td>\n",
              "      <td>500</td>\n",
              "      <td>550</td>\n",
              "      <td>200</td>\n",
              "      <td>3</td>\n",
              "      <td>3</td>\n",
              "      <td>93.000000</td>\n",
              "      <td>643</td>\n",
              "    </tr>\n",
              "    <tr>\n",
              "      <th>2277</th>\n",
              "      <td>1366</td>\n",
              "      <td>6</td>\n",
              "      <td>166.0</td>\n",
              "      <td>18.0</td>\n",
              "      <td>4746.0</td>\n",
              "      <td>19.0</td>\n",
              "      <td>smart</td>\n",
              "      <td>Санкт-Петербург</td>\n",
              "      <td>50</td>\n",
              "      <td>15360</td>\n",
              "      <td>500</td>\n",
              "      <td>550</td>\n",
              "      <td>200</td>\n",
              "      <td>3</td>\n",
              "      <td>3</td>\n",
              "      <td>0.000000</td>\n",
              "      <td>550</td>\n",
              "    </tr>\n",
              "    <tr>\n",
              "      <th>3011</th>\n",
              "      <td>1474</td>\n",
              "      <td>12</td>\n",
              "      <td>1345.0</td>\n",
              "      <td>132.0</td>\n",
              "      <td>42356.0</td>\n",
              "      <td>105.0</td>\n",
              "      <td>ultra</td>\n",
              "      <td>Набережные Челны</td>\n",
              "      <td>1000</td>\n",
              "      <td>30720</td>\n",
              "      <td>3000</td>\n",
              "      <td>1950</td>\n",
              "      <td>150</td>\n",
              "      <td>1</td>\n",
              "      <td>1</td>\n",
              "      <td>1704.492188</td>\n",
              "      <td>3654</td>\n",
              "    </tr>\n",
              "    <tr>\n",
              "      <th>219</th>\n",
              "      <td>1034</td>\n",
              "      <td>9</td>\n",
              "      <td>730.0</td>\n",
              "      <td>81.0</td>\n",
              "      <td>17316.0</td>\n",
              "      <td>37.0</td>\n",
              "      <td>smart</td>\n",
              "      <td>Вологда</td>\n",
              "      <td>50</td>\n",
              "      <td>15360</td>\n",
              "      <td>500</td>\n",
              "      <td>550</td>\n",
              "      <td>200</td>\n",
              "      <td>3</td>\n",
              "      <td>3</td>\n",
              "      <td>382.031250</td>\n",
              "      <td>932</td>\n",
              "    </tr>\n",
              "    <tr>\n",
              "      <th>3073</th>\n",
              "      <td>1482</td>\n",
              "      <td>3</td>\n",
              "      <td>444.0</td>\n",
              "      <td>44.0</td>\n",
              "      <td>13125.0</td>\n",
              "      <td>63.0</td>\n",
              "      <td>smart</td>\n",
              "      <td>Санкт-Петербург</td>\n",
              "      <td>50</td>\n",
              "      <td>15360</td>\n",
              "      <td>500</td>\n",
              "      <td>550</td>\n",
              "      <td>200</td>\n",
              "      <td>3</td>\n",
              "      <td>3</td>\n",
              "      <td>39.000000</td>\n",
              "      <td>589</td>\n",
              "    </tr>\n",
              "    <tr>\n",
              "      <th>2373</th>\n",
              "      <td>1378</td>\n",
              "      <td>11</td>\n",
              "      <td>437.0</td>\n",
              "      <td>53.0</td>\n",
              "      <td>10476.0</td>\n",
              "      <td>9.0</td>\n",
              "      <td>smart</td>\n",
              "      <td>Иркутск</td>\n",
              "      <td>50</td>\n",
              "      <td>15360</td>\n",
              "      <td>500</td>\n",
              "      <td>550</td>\n",
              "      <td>200</td>\n",
              "      <td>3</td>\n",
              "      <td>3</td>\n",
              "      <td>0.000000</td>\n",
              "      <td>550</td>\n",
              "    </tr>\n",
              "  </tbody>\n",
              "</table>\n",
              "</div>\n",
              "      <button class=\"colab-df-convert\" onclick=\"convertToInteractive('df-b9314bfd-c682-426a-a651-5f94f25cb47e')\"\n",
              "              title=\"Convert this dataframe to an interactive table.\"\n",
              "              style=\"display:none;\">\n",
              "        \n",
              "  <svg xmlns=\"http://www.w3.org/2000/svg\" height=\"24px\"viewBox=\"0 0 24 24\"\n",
              "       width=\"24px\">\n",
              "    <path d=\"M0 0h24v24H0V0z\" fill=\"none\"/>\n",
              "    <path d=\"M18.56 5.44l.94 2.06.94-2.06 2.06-.94-2.06-.94-.94-2.06-.94 2.06-2.06.94zm-11 1L8.5 8.5l.94-2.06 2.06-.94-2.06-.94L8.5 2.5l-.94 2.06-2.06.94zm10 10l.94 2.06.94-2.06 2.06-.94-2.06-.94-.94-2.06-.94 2.06-2.06.94z\"/><path d=\"M17.41 7.96l-1.37-1.37c-.4-.4-.92-.59-1.43-.59-.52 0-1.04.2-1.43.59L10.3 9.45l-7.72 7.72c-.78.78-.78 2.05 0 2.83L4 21.41c.39.39.9.59 1.41.59.51 0 1.02-.2 1.41-.59l7.78-7.78 2.81-2.81c.8-.78.8-2.07 0-2.86zM5.41 20L4 18.59l7.72-7.72 1.47 1.35L5.41 20z\"/>\n",
              "  </svg>\n",
              "      </button>\n",
              "      \n",
              "  <style>\n",
              "    .colab-df-container {\n",
              "      display:flex;\n",
              "      flex-wrap:wrap;\n",
              "      gap: 12px;\n",
              "    }\n",
              "\n",
              "    .colab-df-convert {\n",
              "      background-color: #E8F0FE;\n",
              "      border: none;\n",
              "      border-radius: 50%;\n",
              "      cursor: pointer;\n",
              "      display: none;\n",
              "      fill: #1967D2;\n",
              "      height: 32px;\n",
              "      padding: 0 0 0 0;\n",
              "      width: 32px;\n",
              "    }\n",
              "\n",
              "    .colab-df-convert:hover {\n",
              "      background-color: #E2EBFA;\n",
              "      box-shadow: 0px 1px 2px rgba(60, 64, 67, 0.3), 0px 1px 3px 1px rgba(60, 64, 67, 0.15);\n",
              "      fill: #174EA6;\n",
              "    }\n",
              "\n",
              "    [theme=dark] .colab-df-convert {\n",
              "      background-color: #3B4455;\n",
              "      fill: #D2E3FC;\n",
              "    }\n",
              "\n",
              "    [theme=dark] .colab-df-convert:hover {\n",
              "      background-color: #434B5C;\n",
              "      box-shadow: 0px 1px 3px 1px rgba(0, 0, 0, 0.15);\n",
              "      filter: drop-shadow(0px 1px 2px rgba(0, 0, 0, 0.3));\n",
              "      fill: #FFFFFF;\n",
              "    }\n",
              "  </style>\n",
              "\n",
              "      <script>\n",
              "        const buttonEl =\n",
              "          document.querySelector('#df-b9314bfd-c682-426a-a651-5f94f25cb47e button.colab-df-convert');\n",
              "        buttonEl.style.display =\n",
              "          google.colab.kernel.accessAllowed ? 'block' : 'none';\n",
              "\n",
              "        async function convertToInteractive(key) {\n",
              "          const element = document.querySelector('#df-b9314bfd-c682-426a-a651-5f94f25cb47e');\n",
              "          const dataTable =\n",
              "            await google.colab.kernel.invokeFunction('convertToInteractive',\n",
              "                                                     [key], {});\n",
              "          if (!dataTable) return;\n",
              "\n",
              "          const docLinkHtml = 'Like what you see? Visit the ' +\n",
              "            '<a target=\"_blank\" href=https://colab.research.google.com/notebooks/data_table.ipynb>data table notebook</a>'\n",
              "            + ' to learn more about interactive tables.';\n",
              "          element.innerHTML = '';\n",
              "          dataTable['output_type'] = 'display_data';\n",
              "          await google.colab.output.renderOutput(dataTable, element);\n",
              "          const docLink = document.createElement('div');\n",
              "          docLink.innerHTML = docLinkHtml;\n",
              "          element.appendChild(docLink);\n",
              "        }\n",
              "      </script>\n",
              "    </div>\n",
              "  </div>\n",
              "  "
            ]
          },
          "metadata": {},
          "execution_count": 235
        }
      ],
      "source": [
        "# calculating overall income and checking the result\n",
        "clients_total['income'] = clients_total['extra_expenses'] + clients_total['rub_monthly_fee']\n",
        "clients_total['income'] = clients_total['income'].astype(int)\n",
        "clients_total.sample(10)\n"
      ]
    },
    {
      "cell_type": "markdown",
      "metadata": {
        "id": "y8P0KbknUjbW"
      },
      "source": [
        "# Exploratory Analysis of the Plans"
      ]
    },
    {
      "cell_type": "markdown",
      "metadata": {
        "id": "0OGtbZcsUjbW"
      },
      "source": [
        "How many minutes of conversation, how many messages, and what volume of internet traffic do users of each tariff need per month?\n",
        "\n",
        "For convenience, I will create separate tables for tariffs."
      ]
    },
    {
      "cell_type": "code",
      "execution_count": 236,
      "metadata": {
        "id": "Vm2ibOpTUjbW"
      },
      "outputs": [],
      "source": [
        "# separate tables by plan\n",
        "smart = clients_total[clients_total['tariff'] == 'smart']\n",
        "ultra = clients_total[clients_total['tariff'] == 'ultra']"
      ]
    },
    {
      "cell_type": "markdown",
      "metadata": {
        "id": "mHZxi_btUjbW"
      },
      "source": [
        "## Calls "
      ]
    },
    {
      "cell_type": "markdown",
      "metadata": {
        "id": "2_oXxzO2UjbW"
      },
      "source": [
        "Смотрю информацию по минутам разговора для тарифа Ultra."
      ]
    },
    {
      "cell_type": "code",
      "execution_count": 237,
      "metadata": {
        "id": "QBeavLuxUjbW",
        "outputId": "57a9a20a-0daf-47b6-879c-d5fa2a3c641c",
        "colab": {
          "base_uri": "https://localhost:8080/",
          "height": 801
        }
      },
      "outputs": [
        {
          "output_type": "display_data",
          "data": {
            "text/plain": [
              "<Figure size 900x900 with 1 Axes>"
            ],
            "image/png": "[encoded data removed]"
          },
          "metadata": {}
        }
      ],
      "source": [
        "# Plot of the number of minutes of conversation\n",
        "ultra['duration'].plot(kind='hist', ec='black', bins=30, figsize=(9, 9), grid=True)\n",
        "plt.xlabel('Duration of the call in minutes', fontsize=15)\n",
        "plt.ylabel('Frequency', fontsize=15)\n",
        "plt.xlim([0, 1500])\n",
        "plt.title(\"Duration of the call in minutes - Ultra\")\n",
        "plt.show()\n",
        "\n"
      ]
    },
    {
      "cell_type": "code",
      "execution_count": 238,
      "metadata": {
        "id": "H2an5B-0UjbW",
        "outputId": "fe0c48fd-dc18-4029-cabc-2823f39463a6",
        "colab": {
          "base_uri": "https://localhost:8080/"
        }
      },
      "outputs": [
        {
          "output_type": "execute_result",
          "data": {
            "text/plain": [
              "count     936.000000\n",
              "mean      551.708333\n",
              "std       304.979493\n",
              "min         1.000000\n",
              "25%       319.500000\n",
              "50%       533.000000\n",
              "75%       760.250000\n",
              "max      1673.000000\n",
              "Name: duration, dtype: float64"
            ]
          },
          "metadata": {},
          "execution_count": 238
        }
      ],
      "source": [
        "# statistical data \n",
        "ultra['duration'].describe()"
      ]
    },
    {
      "cell_type": "code",
      "execution_count": 239,
      "metadata": {
        "id": "fNjo_NOjUjbW",
        "outputId": "e7e071e2-7132-4d0a-8475-0a627663a726",
        "colab": {
          "base_uri": "https://localhost:8080/"
        }
      },
      "outputs": [
        {
          "output_type": "execute_result",
          "data": {
            "text/plain": [
              "516399.0"
            ]
          },
          "metadata": {},
          "execution_count": 239
        }
      ],
      "source": [
        "# overall amount of minutes\n",
        "ultra['duration'].sum()"
      ]
    },
    {
      "cell_type": "markdown",
      "metadata": {
        "id": "KJQWtZxoUjbX"
      },
      "source": [
        "\n",
        "The total duration of calls on the Ultra tariff is 516,399 minutes. On average, clients use 551 minutes of voice per month. Considering that the Ultra tariff includes 3,000 included and prepaid minutes, and the maximum duration of a call is 1,673, we can conclude that if clients exceed the prepaid limit, it happens very rarely and as an exception."
      ]
    },
    {
      "cell_type": "markdown",
      "metadata": {
        "id": "FRRLPMSKUjbX"
      },
      "source": [
        "\n",
        "I'm looking at how the minutes of conversation look like for the Smart plan."
      ]
    },
    {
      "cell_type": "code",
      "execution_count": 240,
      "metadata": {
        "id": "AOcm15VPUjbX",
        "outputId": "703f1b6c-9a09-4aed-c1ea-d0f571fa21f2",
        "colab": {
          "base_uri": "https://localhost:8080/",
          "height": 801
        }
      },
      "outputs": [
        {
          "output_type": "display_data",
          "data": {
            "text/plain": [
              "<Figure size 900x900 with 1 Axes>"
            ],
            "image/png": "[encoded data removed]"
          },
          "metadata": {}
        }
      ],
      "source": [
        "# Plot of the number of minutes of conversation\n",
        "smart['duration'].plot(kind='hist', ec='black', bins=30, figsize=(9, 9), grid=True)\n",
        "plt.xlabel('Duration of the call in minutes', fontsize=15)\n",
        "plt.ylabel('Frequency', fontsize=15)\n",
        "plt.xlim([0, 1500])\n",
        "plt.title(\"Duration of the call in minutes - Smart\")\n",
        "plt.show()"
      ]
    },
    {
      "cell_type": "code",
      "execution_count": 241,
      "metadata": {
        "id": "Um5XCTvoUjbX",
        "outputId": "bd7baeb3-4520-4a99-cc6f-a85ba5393637",
        "colab": {
          "base_uri": "https://localhost:8080/"
        }
      },
      "outputs": [
        {
          "output_type": "execute_result",
          "data": {
            "text/plain": [
              "count    2219.000000\n",
              "mean      419.776476\n",
              "std       188.745325\n",
              "min         2.000000\n",
              "25%       285.500000\n",
              "50%       423.000000\n",
              "75%       546.000000\n",
              "max      1435.000000\n",
              "Name: duration, dtype: float64"
            ]
          },
          "metadata": {},
          "execution_count": 241
        }
      ],
      "source": [
        "# statistical data\n",
        "smart['duration'].describe()"
      ]
    },
    {
      "cell_type": "code",
      "execution_count": 242,
      "metadata": {
        "id": "kgkOlRETUjbX",
        "outputId": "72909c59-7c80-4c4c-a472-770f23828dbf",
        "colab": {
          "base_uri": "https://localhost:8080/"
        }
      },
      "outputs": [
        {
          "output_type": "execute_result",
          "data": {
            "text/plain": [
              "931484.0"
            ]
          },
          "metadata": {},
          "execution_count": 242
        }
      ],
      "source": [
        "# overall amount of minutes\n",
        "smart['duration'].sum()"
      ]
    },
    {
      "cell_type": "markdown",
      "metadata": {
        "id": "j3DrZi6AUjbX"
      },
      "source": [
        "The total duration of calls on the Smart tariff is 931,484 minutes. On average, clients use 419 minutes of voice per month. Considering that the Smart tariff includes 500 included and prepaid minutes, and the maximum duration is 1,673, we can conclude that clients on this tariff are either very close to the prepaid minute limit or often exceed the prepaid limit."
      ]
    },
    {
      "cell_type": "code",
      "execution_count": 243,
      "metadata": {
        "id": "lC4dw5YKUjbX",
        "outputId": "36ec2997-0e2f-479f-95c5-1ea4e87c095b",
        "colab": {
          "base_uri": "https://localhost:8080/"
        }
      },
      "outputs": [
        {
          "output_type": "execute_result",
          "data": {
            "text/plain": [
              "user_id                  754\n",
              "month                    754\n",
              "duration                 754\n",
              "calls_amount             754\n",
              "mb_used                  754\n",
              "messages_amount          754\n",
              "tariff                   754\n",
              "city                     754\n",
              "messages_included        754\n",
              "mb_per_month_included    754\n",
              "minutes_included         754\n",
              "rub_monthly_fee          754\n",
              "rub_per_gb               754\n",
              "rub_per_message          754\n",
              "rub_per_minute           754\n",
              "extra_expenses           754\n",
              "income                   754\n",
              "dtype: int64"
            ]
          },
          "metadata": {},
          "execution_count": 243
        }
      ],
      "source": [
        "# Let's check the number of customers who exceeded the prepaid limit.\n",
        "smart.query('duration>500').count()"
      ]
    },
    {
      "cell_type": "markdown",
      "metadata": {
        "id": "IQITaOoKUjbX"
      },
      "source": [
        "\n",
        "Around 33% of the total number of customers using the Smart tariff exceed the prepaid limit.\n",
        "\n",
        "\n",
        "\n",
        "\n"
      ]
    },
    {
      "cell_type": "markdown",
      "metadata": {
        "id": "wdvt5Jw_UjbY"
      },
      "source": [
        "\n",
        "I'm gathering all the information about calls into one table, adding the standard deviation and variance."
      ]
    },
    {
      "cell_type": "code",
      "execution_count": 244,
      "metadata": {
        "id": "_qvt66MGUjbY",
        "outputId": "3652bb7d-f368-4e63-d471-ccc4d2996fd2",
        "colab": {
          "base_uri": "https://localhost:8080/",
          "height": 175
        }
      },
      "outputs": [
        {
          "output_type": "execute_result",
          "data": {
            "text/plain": [
              "<pandas.io.formats.style.Styler at 0x7f3208cb3a90>"
            ],
            "text/html": [
              "<style type=\"text/css\">\n",
              "</style>\n",
              "<table id=\"T_53812\" class=\"dataframe\">\n",
              "  <thead>\n",
              "    <tr>\n",
              "      <th class=\"blank level0\" >&nbsp;</th>\n",
              "      <th id=\"T_53812_level0_col0\" class=\"col_heading level0 col0\" colspan=\"4\">duration</th>\n",
              "    </tr>\n",
              "    <tr>\n",
              "      <th class=\"blank level1\" >&nbsp;</th>\n",
              "      <th id=\"T_53812_level1_col0\" class=\"col_heading level1 col0\" >median</th>\n",
              "      <th id=\"T_53812_level1_col1\" class=\"col_heading level1 col1\" >mean</th>\n",
              "      <th id=\"T_53812_level1_col2\" class=\"col_heading level1 col2\" >var</th>\n",
              "      <th id=\"T_53812_level1_col3\" class=\"col_heading level1 col3\" >std</th>\n",
              "    </tr>\n",
              "    <tr>\n",
              "      <th class=\"index_name level0\" >tariff</th>\n",
              "      <th class=\"blank col0\" >&nbsp;</th>\n",
              "      <th class=\"blank col1\" >&nbsp;</th>\n",
              "      <th class=\"blank col2\" >&nbsp;</th>\n",
              "      <th class=\"blank col3\" >&nbsp;</th>\n",
              "    </tr>\n",
              "  </thead>\n",
              "  <tbody>\n",
              "    <tr>\n",
              "      <th id=\"T_53812_level0_row0\" class=\"row_heading level0 row0\" >smart</th>\n",
              "      <td id=\"T_53812_row0_col0\" class=\"data row0 col0\" >423.0</td>\n",
              "      <td id=\"T_53812_row0_col1\" class=\"data row0 col1\" >419.8</td>\n",
              "      <td id=\"T_53812_row0_col2\" class=\"data row0 col2\" >35624.8</td>\n",
              "      <td id=\"T_53812_row0_col3\" class=\"data row0 col3\" >188.7</td>\n",
              "    </tr>\n",
              "    <tr>\n",
              "      <th id=\"T_53812_level0_row1\" class=\"row_heading level0 row1\" >ultra</th>\n",
              "      <td id=\"T_53812_row1_col0\" class=\"data row1 col0\" >533.0</td>\n",
              "      <td id=\"T_53812_row1_col1\" class=\"data row1 col1\" >551.7</td>\n",
              "      <td id=\"T_53812_row1_col2\" class=\"data row1 col2\" >93012.5</td>\n",
              "      <td id=\"T_53812_row1_col3\" class=\"data row1 col3\" >305.0</td>\n",
              "    </tr>\n",
              "  </tbody>\n",
              "</table>\n"
            ]
          },
          "metadata": {},
          "execution_count": 244
        }
      ],
      "source": [
        "# table with data on the mean, median, standard deviation, and variance\n",
        "clients_total.groupby('tariff')\\\n",
        "     .agg({'duration':['median','mean','var','std']})\\\n",
        "     .style.format(\"{:.1f}\")"
      ]
    },
    {
      "cell_type": "markdown",
      "metadata": {
        "id": "_wfhEg5VUjbY"
      },
      "source": [
        "## Internet "
      ]
    },
    {
      "cell_type": "markdown",
      "metadata": {
        "id": "lOdRJ9djUjbY"
      },
      "source": [
        "\n",
        "I'm looking at the information about the volume of traffic for the Ultra plan."
      ]
    },
    {
      "cell_type": "code",
      "execution_count": 245,
      "metadata": {
        "id": "lANBtcrwUjbY",
        "outputId": "c896f89e-7090-40d4-affc-1707fd6c6d11",
        "colab": {
          "base_uri": "https://localhost:8080/",
          "height": 801
        }
      },
      "outputs": [
        {
          "output_type": "display_data",
          "data": {
            "text/plain": [
              "<Figure size 900x900 with 1 Axes>"
            ],
            "image/png": "[encoded data removed]"
          },
          "metadata": {}
        }
      ],
      "source": [
        "# Plot of the volume of traffic for calls\n",
        "ultra['mb_used'].plot(kind='hist', ec='black', bins=30, figsize=(9, 9), grid=True)\n",
        "plt.xlabel('Volume of used traffic (mb)', fontsize=15)\n",
        "plt.ylabel('Frequecny', fontsize=15)\n",
        "plt.title(\"Volume of used traffic (mb/months) Ultra\")\n",
        "plt.show()"
      ]
    },
    {
      "cell_type": "code",
      "execution_count": 246,
      "metadata": {
        "id": "wLa9g1Q0UjbY",
        "outputId": "09c1afda-7a59-42c2-a9b2-71b008cedba8",
        "colab": {
          "base_uri": "https://localhost:8080/"
        }
      },
      "outputs": [
        {
          "output_type": "execute_result",
          "data": {
            "text/plain": [
              "count      936.000000\n",
              "mean     19718.717949\n",
              "std       9972.317787\n",
              "min        366.000000\n",
              "25%      11917.000000\n",
              "50%      19445.000000\n",
              "75%      26958.500000\n",
              "max      49789.000000\n",
              "Name: mb_used, dtype: float64"
            ]
          },
          "metadata": {},
          "execution_count": 246
        }
      ],
      "source": [
        "# statistical data\n",
        "ultra['mb_used'].describe()"
      ]
    },
    {
      "cell_type": "code",
      "execution_count": 247,
      "metadata": {
        "id": "JAuGSJmfUjbY",
        "outputId": "e86e20bd-bad1-4f7f-a22b-4639a74c5f2d",
        "colab": {
          "base_uri": "https://localhost:8080/"
        }
      },
      "outputs": [
        {
          "output_type": "execute_result",
          "data": {
            "text/plain": [
              "18456720.0"
            ]
          },
          "metadata": {},
          "execution_count": 247
        }
      ],
      "source": [
        "# overall volume mb\n",
        "ultra['mb_used'].sum()"
      ]
    },
    {
      "cell_type": "markdown",
      "metadata": {
        "id": "sWAShjc0UjbY"
      },
      "source": [
        "\n",
        "The total volume of traffic on the Ultra tariff is 18,440,066 MB. On average, clients use 19,700 MB of traffic per month. Considering that the Ultra tariff includes 30,720 included and prepaid MB, and the maximum usage is 49,746 MB, we can conclude that there are clients who exceed the prepaid amount."
      ]
    },
    {
      "cell_type": "code",
      "execution_count": 248,
      "metadata": {
        "id": "iEbTelLDUjbZ",
        "outputId": "b449887b-642f-457b-b514-a674c05e30b5",
        "colab": {
          "base_uri": "https://localhost:8080/"
        }
      },
      "outputs": [
        {
          "output_type": "execute_result",
          "data": {
            "text/plain": [
              "user_id                  128\n",
              "month                    128\n",
              "duration                 128\n",
              "calls_amount             128\n",
              "mb_used                  128\n",
              "messages_amount          128\n",
              "tariff                   128\n",
              "city                     128\n",
              "messages_included        128\n",
              "mb_per_month_included    128\n",
              "minutes_included         128\n",
              "rub_monthly_fee          128\n",
              "rub_per_gb               128\n",
              "rub_per_message          128\n",
              "rub_per_minute           128\n",
              "extra_expenses           128\n",
              "income                   128\n",
              "dtype: int64"
            ]
          },
          "metadata": {},
          "execution_count": 248
        }
      ],
      "source": [
        "# number of customers who exceeded the limit.\n",
        "ultra.query('mb_used > 30720').count()"
      ]
    },
    {
      "cell_type": "markdown",
      "metadata": {
        "id": "nlex6ZTtUjbZ"
      },
      "source": [
        "There are about 13% of customers, out of the total number of customers using the Ultra plan, who exceeded the limit."
      ]
    },
    {
      "cell_type": "markdown",
      "metadata": {
        "id": "gHf5CITWUjbZ"
      },
      "source": [
        "\n",
        "I'm looking at the information about the volume of traffic for the Smart plan."
      ]
    },
    {
      "cell_type": "code",
      "execution_count": 249,
      "metadata": {
        "id": "X4KjWWPPUjbZ",
        "outputId": "a393eaab-a7e5-4df7-d3dd-2494545b674a",
        "colab": {
          "base_uri": "https://localhost:8080/",
          "height": 801
        }
      },
      "outputs": [
        {
          "output_type": "display_data",
          "data": {
            "text/plain": [
              "<Figure size 900x900 with 1 Axes>"
            ],
            "image/png": "[encoded data removed]"
          },
          "metadata": {}
        }
      ],
      "source": [
        "# Plot of the volume of traffic for calls\n",
        "smart['mb_used'].plot(kind='hist', ec='black', bins=30, figsize=(9, 9), grid=True)\n",
        "plt.xlabel('Volume of used traffic (mb)', fontsize=15)\n",
        "plt.ylabel('Frequency', fontsize=15)\n",
        "plt.title(\"Volume of used traffic (mb/months) Smart\")\n",
        "plt.show()"
      ]
    },
    {
      "cell_type": "code",
      "execution_count": 250,
      "metadata": {
        "id": "QSUrTX1pUjbZ",
        "outputId": "8bc5c223-f13d-41e6-c29b-301e060057fb",
        "colab": {
          "base_uri": "https://localhost:8080/"
        }
      },
      "outputs": [
        {
          "output_type": "execute_result",
          "data": {
            "text/plain": [
              "count     2219.000000\n",
              "mean     16246.091933\n",
              "std       5865.865927\n",
              "min        202.000000\n",
              "25%      12686.500000\n",
              "50%      16531.000000\n",
              "75%      20074.000000\n",
              "max      38610.000000\n",
              "Name: mb_used, dtype: float64"
            ]
          },
          "metadata": {},
          "execution_count": 250
        }
      ],
      "source": [
        "# statistical data\n",
        "smart['mb_used'].describe()"
      ]
    },
    {
      "cell_type": "code",
      "execution_count": 251,
      "metadata": {
        "id": "ITJ6cBJ8UjbZ",
        "outputId": "715fd9c1-c60e-4b53-cc30-eeca35186991",
        "colab": {
          "base_uri": "https://localhost:8080/"
        }
      },
      "outputs": [
        {
          "output_type": "execute_result",
          "data": {
            "text/plain": [
              "36050078.0"
            ]
          },
          "metadata": {},
          "execution_count": 251
        }
      ],
      "source": [
        "# overall volume mb\n",
        "smart['mb_used'].sum()"
      ]
    },
    {
      "cell_type": "markdown",
      "metadata": {
        "id": "mIwcIHjyUjbZ"
      },
      "source": [
        "\n",
        "The total volume of traffic on the Smart plan is 36,004,953 MB. On average, clients use 16,225 MB of traffic per month. Considering that the Smart plan includes 15,360 included and prepaid MB, and the maximum usage is 38,553 MB, we can conclude that there are clients who exceed the prepaid amount."
      ]
    },
    {
      "cell_type": "code",
      "execution_count": 252,
      "metadata": {
        "id": "JVZDzL1vUjbZ",
        "outputId": "5230e756-2619-442e-f9d5-558ad60e8324",
        "colab": {
          "base_uri": "https://localhost:8080/"
        }
      },
      "outputs": [
        {
          "output_type": "execute_result",
          "data": {
            "text/plain": [
              "user_id                  1304\n",
              "month                    1304\n",
              "duration                 1304\n",
              "calls_amount             1304\n",
              "mb_used                  1304\n",
              "messages_amount          1304\n",
              "tariff                   1304\n",
              "city                     1304\n",
              "messages_included        1304\n",
              "mb_per_month_included    1304\n",
              "minutes_included         1304\n",
              "rub_monthly_fee          1304\n",
              "rub_per_gb               1304\n",
              "rub_per_message          1304\n",
              "rub_per_minute           1304\n",
              "extra_expenses           1304\n",
              "income                   1304\n",
              "dtype: int64"
            ]
          },
          "metadata": {},
          "execution_count": 252
        }
      ],
      "source": [
        "# the number of customers who exceeded the limit\n",
        "smart.query('mb_used > 15360').count()"
      ]
    },
    {
      "cell_type": "markdown",
      "metadata": {
        "id": "_-ZqONGTUjbZ"
      },
      "source": [
        "\n",
        "There are about 60% of customers, out of the total number of customers using the Smart tariff, who exceeded the limit."
      ]
    },
    {
      "cell_type": "markdown",
      "metadata": {
        "id": "LDrQNwSlUjbZ"
      },
      "source": [
        "\n",
        "I'm adding all the information about traffic into one table, adding the standard deviation and variance."
      ]
    },
    {
      "cell_type": "code",
      "execution_count": 253,
      "metadata": {
        "id": "8PBj-Ae8Ujba",
        "outputId": "5684703c-649f-4f28-8fd0-f21599e4264a",
        "colab": {
          "base_uri": "https://localhost:8080/",
          "height": 175
        }
      },
      "outputs": [
        {
          "output_type": "execute_result",
          "data": {
            "text/plain": [
              "<pandas.io.formats.style.Styler at 0x7f3208e8d030>"
            ],
            "text/html": [
              "<style type=\"text/css\">\n",
              "</style>\n",
              "<table id=\"T_f186e\" class=\"dataframe\">\n",
              "  <thead>\n",
              "    <tr>\n",
              "      <th class=\"blank level0\" >&nbsp;</th>\n",
              "      <th id=\"T_f186e_level0_col0\" class=\"col_heading level0 col0\" colspan=\"4\">mb_used</th>\n",
              "    </tr>\n",
              "    <tr>\n",
              "      <th class=\"blank level1\" >&nbsp;</th>\n",
              "      <th id=\"T_f186e_level1_col0\" class=\"col_heading level1 col0\" >median</th>\n",
              "      <th id=\"T_f186e_level1_col1\" class=\"col_heading level1 col1\" >mean</th>\n",
              "      <th id=\"T_f186e_level1_col2\" class=\"col_heading level1 col2\" >var</th>\n",
              "      <th id=\"T_f186e_level1_col3\" class=\"col_heading level1 col3\" >std</th>\n",
              "    </tr>\n",
              "    <tr>\n",
              "      <th class=\"index_name level0\" >tariff</th>\n",
              "      <th class=\"blank col0\" >&nbsp;</th>\n",
              "      <th class=\"blank col1\" >&nbsp;</th>\n",
              "      <th class=\"blank col2\" >&nbsp;</th>\n",
              "      <th class=\"blank col3\" >&nbsp;</th>\n",
              "    </tr>\n",
              "  </thead>\n",
              "  <tbody>\n",
              "    <tr>\n",
              "      <th id=\"T_f186e_level0_row0\" class=\"row_heading level0 row0\" >smart</th>\n",
              "      <td id=\"T_f186e_row0_col0\" class=\"data row0 col0\" >16531.0</td>\n",
              "      <td id=\"T_f186e_row0_col1\" class=\"data row0 col1\" >16246.1</td>\n",
              "      <td id=\"T_f186e_row0_col2\" class=\"data row0 col2\" >34408383.1</td>\n",
              "      <td id=\"T_f186e_row0_col3\" class=\"data row0 col3\" >5865.9</td>\n",
              "    </tr>\n",
              "    <tr>\n",
              "      <th id=\"T_f186e_level0_row1\" class=\"row_heading level0 row1\" >ultra</th>\n",
              "      <td id=\"T_f186e_row1_col0\" class=\"data row1 col0\" >19445.0</td>\n",
              "      <td id=\"T_f186e_row1_col1\" class=\"data row1 col1\" >19718.7</td>\n",
              "      <td id=\"T_f186e_row1_col2\" class=\"data row1 col2\" >99447122.0</td>\n",
              "      <td id=\"T_f186e_row1_col3\" class=\"data row1 col3\" >9972.3</td>\n",
              "    </tr>\n",
              "  </tbody>\n",
              "</table>\n"
            ]
          },
          "metadata": {},
          "execution_count": 253
        }
      ],
      "source": [
        "# таблица с данными о среднем, медианном, стандартном отклонении и дисперсии\n",
        "clients_total.groupby('tariff')\\\n",
        "     .agg({'mb_used':['median','mean','var','std']})\\\n",
        "     .style.format(\"{:.1f}\")"
      ]
    },
    {
      "cell_type": "markdown",
      "metadata": {
        "id": "fQcVuvt-Ujba"
      },
      "source": [
        "## Messages "
      ]
    },
    {
      "cell_type": "markdown",
      "metadata": {
        "id": "TZvjetVRUjba"
      },
      "source": [
        "Смотрю информацию по объему сообщений для тарифа Ultra."
      ]
    },
    {
      "cell_type": "code",
      "execution_count": 254,
      "metadata": {
        "id": "qE6UBAfmUjba",
        "outputId": "3b29aa6b-bdc0-418c-b54d-a41ccf8d3074",
        "colab": {
          "base_uri": "https://localhost:8080/",
          "height": 801
        }
      },
      "outputs": [
        {
          "output_type": "display_data",
          "data": {
            "text/plain": [
              "<Figure size 900x900 with 1 Axes>"
            ],
            "image/png": "[encoded data removed]"
          },
          "metadata": {}
        }
      ],
      "source": [
        "# Plot of the number of messages\n",
        "ultra['messages_amount'].plot(kind='hist', ec='black', bins=30, figsize=(9, 9), grid=True)\n",
        "plt.xlabel('Number of Messages', fontsize=15)\n",
        "plt.ylabel('Frequency', fontsize=15)\n",
        "plt.title(\"Number of Messages for Ultra\")\n",
        "plt.show()\n"
      ]
    },
    {
      "cell_type": "code",
      "execution_count": 255,
      "metadata": {
        "id": "KkytKE8xUjba",
        "outputId": "aa1468a8-17d2-4916-a349-53141bc159df",
        "colab": {
          "base_uri": "https://localhost:8080/"
        }
      },
      "outputs": [
        {
          "output_type": "execute_result",
          "data": {
            "text/plain": [
              "count    936.000000\n",
              "mean      49.033120\n",
              "std       46.778211\n",
              "min        0.000000\n",
              "25%        5.000000\n",
              "50%       39.500000\n",
              "75%       79.000000\n",
              "max      224.000000\n",
              "Name: messages_amount, dtype: float64"
            ]
          },
          "metadata": {},
          "execution_count": 255
        }
      ],
      "source": [
        "# statistical data\n",
        "ultra['messages_amount'].describe()"
      ]
    },
    {
      "cell_type": "markdown",
      "metadata": {
        "id": "S92ilUxgUjba"
      },
      "source": [
        "\n",
        "In the column, there are quite a few 0 values, indicating that many customers only use calls or exchange messages through messaging apps, and therefore, they spend more on internet usage. To understand how close the mean value is to the truth, let's also look at the median, which is more robust to outliers."
      ]
    },
    {
      "cell_type": "code",
      "execution_count": 256,
      "metadata": {
        "id": "U3_AZkeLUjba",
        "outputId": "bbe67d9d-e366-4e76-c0c1-698a840bb9fa",
        "colab": {
          "base_uri": "https://localhost:8080/"
        }
      },
      "outputs": [
        {
          "output_type": "execute_result",
          "data": {
            "text/plain": [
              "39.5"
            ]
          },
          "metadata": {},
          "execution_count": 256
        }
      ],
      "source": [
        "# checking median\n",
        "ultra['messages_amount'].median()"
      ]
    },
    {
      "cell_type": "markdown",
      "metadata": {
        "id": "r15DPD-HUjba"
      },
      "source": [
        "\n",
        "It turns out that there is a difference of approximately 10 messages per client. From my point of view, this is a significant difference that can affect the revenue. Therefore, for the analysis, I will use the more robust median, which is less sensitive to outliers."
      ]
    },
    {
      "cell_type": "code",
      "execution_count": 257,
      "metadata": {
        "id": "9q6iHJheUjba",
        "outputId": "8e2a4ec5-3e35-45d4-829f-7c4ff9c7d656",
        "colab": {
          "base_uri": "https://localhost:8080/"
        }
      },
      "outputs": [
        {
          "output_type": "execute_result",
          "data": {
            "text/plain": [
              "45895.0"
            ]
          },
          "metadata": {},
          "execution_count": 257
        }
      ],
      "source": [
        "# The total number of messages.\n",
        "ultra['messages_amount'].sum()"
      ]
    },
    {
      "cell_type": "markdown",
      "metadata": {
        "id": "uW_D9rNLUjbb"
      },
      "source": [
        "\n",
        "The total number of messages on the Ultra tariff is 45,895. On average, clients send around 40 messages per month. Considering that the Ultra tariff includes 1,000 included and prepaid messages, and the maximum value of sent messages is 224, we can conclude that clients rarely exceed the prepaid message limit."
      ]
    },
    {
      "cell_type": "markdown",
      "metadata": {
        "id": "G3F3lAMrUjbb"
      },
      "source": [
        "\n",
        "I'm looking at the information about the volume of messages for the Smart plan."
      ]
    },
    {
      "cell_type": "code",
      "execution_count": 258,
      "metadata": {
        "id": "264_991ZUjbb",
        "outputId": "fe3a92f8-6a6d-4861-e69f-8ff1966fd516",
        "colab": {
          "base_uri": "https://localhost:8080/",
          "height": 801
        }
      },
      "outputs": [
        {
          "output_type": "display_data",
          "data": {
            "text/plain": [
              "<Figure size 900x900 with 1 Axes>"
            ],
            "image/png": "[encoded data removed]"
          },
          "metadata": {}
        }
      ],
      "source": [
        "# Plot of the number of messages\n",
        "smart['messages_amount'].plot(kind='hist', ec='black', bins=30, figsize=(9, 9), grid=True)\n",
        "plt.xlabel('Number of Messages', fontsize=15)\n",
        "plt.ylabel('Frequency', fontsize=15)\n",
        "plt.title(\"Number of Messages for Smart Tariff\")\n",
        "plt.show()\n"
      ]
    },
    {
      "cell_type": "code",
      "execution_count": 259,
      "metadata": {
        "id": "kVqA9_3JUjbb",
        "outputId": "69443174-a4a4-4a47-aa67-f6db3c381c6a",
        "colab": {
          "base_uri": "https://localhost:8080/"
        }
      },
      "outputs": [
        {
          "output_type": "execute_result",
          "data": {
            "text/plain": [
              "count    2219.000000\n",
              "mean       33.421361\n",
              "std        28.266229\n",
              "min         0.000000\n",
              "25%        10.000000\n",
              "50%        28.000000\n",
              "75%        51.000000\n",
              "max       143.000000\n",
              "Name: messages_amount, dtype: float64"
            ]
          },
          "metadata": {},
          "execution_count": 259
        }
      ],
      "source": [
        "# stat data\n",
        "smart['messages_amount'].describe()"
      ]
    },
    {
      "cell_type": "markdown",
      "metadata": {
        "id": "iFChB_AmUjbb"
      },
      "source": [
        "The situation with the mean value and median is the same as for the Ultra tariff. Let's see how big the difference is."
      ]
    },
    {
      "cell_type": "code",
      "execution_count": 260,
      "metadata": {
        "id": "D6HwwgZ7Ujbb",
        "outputId": "cd4ddd19-73a5-4201-87cd-5ad9244e6925",
        "colab": {
          "base_uri": "https://localhost:8080/"
        }
      },
      "outputs": [
        {
          "output_type": "execute_result",
          "data": {
            "text/plain": [
              "28.0"
            ]
          },
          "metadata": {},
          "execution_count": 260
        }
      ],
      "source": [
        "# checking median\n",
        "smart['messages_amount'].median()"
      ]
    },
    {
      "cell_type": "markdown",
      "metadata": {
        "id": "_LKaNYNRUjbc"
      },
      "source": [
        "\n",
        "The difference is about 3 messages, and I think it's not a significant difference. Therefore, both the mean value and the median can be used in this case."
      ]
    },
    {
      "cell_type": "code",
      "execution_count": 261,
      "metadata": {
        "id": "EnzzNLIBUjbc",
        "outputId": "057ee507-3dff-46f9-a0a3-339809dad96d",
        "colab": {
          "base_uri": "https://localhost:8080/"
        }
      },
      "outputs": [
        {
          "output_type": "execute_result",
          "data": {
            "text/plain": [
              "74162.0"
            ]
          },
          "metadata": {},
          "execution_count": 261
        }
      ],
      "source": [
        "# total amount of messages\n",
        "smart['messages_amount'].sum()"
      ]
    },
    {
      "cell_type": "markdown",
      "metadata": {
        "id": "TCrKNMNiUjbc"
      },
      "source": [
        "The total number of messages on the Ultra tariff is 74,162. On average, clients send around 30 messages per month. Considering that the Ultra tariff includes 50 included and prepaid messages, and the maximum value of sent messages is 143, we can conclude that some customers exceed the limit."
      ]
    },
    {
      "cell_type": "code",
      "execution_count": 262,
      "metadata": {
        "id": "a5Cdt-ZeUjbc",
        "outputId": "0ec63a15-0c5f-4fdd-c69a-204cd9faacb5",
        "colab": {
          "base_uri": "https://localhost:8080/"
        }
      },
      "outputs": [
        {
          "output_type": "execute_result",
          "data": {
            "text/plain": [
              "user_id                  564\n",
              "month                    564\n",
              "duration                 564\n",
              "calls_amount             564\n",
              "mb_used                  564\n",
              "messages_amount          564\n",
              "tariff                   564\n",
              "city                     564\n",
              "messages_included        564\n",
              "mb_per_month_included    564\n",
              "minutes_included         564\n",
              "rub_monthly_fee          564\n",
              "rub_per_gb               564\n",
              "rub_per_message          564\n",
              "rub_per_minute           564\n",
              "extra_expenses           564\n",
              "income                   564\n",
              "dtype: int64"
            ]
          },
          "metadata": {},
          "execution_count": 262
        }
      ],
      "source": [
        "# checking the number of customers who exceeded the limit.\n",
        "smart.query('messages_amount > 50').count()"
      ]
    },
    {
      "cell_type": "markdown",
      "metadata": {
        "id": "YIK5pgauUjbc"
      },
      "source": [
        "There are approximately 25% of customers, out of the total number of customers using the Smart plan, who exceeded the limit."
      ]
    },
    {
      "cell_type": "markdown",
      "metadata": {
        "id": "lGQ3twmNUjbc"
      },
      "source": [
        "I will gather all the indicators about messages into one table, and add the standard deviation and variance."
      ]
    },
    {
      "cell_type": "code",
      "execution_count": 263,
      "metadata": {
        "id": "qvwlAOGhUjbc",
        "outputId": "ffcc67a7-f890-4789-aff2-6db5fd0989da",
        "colab": {
          "base_uri": "https://localhost:8080/",
          "height": 175
        }
      },
      "outputs": [
        {
          "output_type": "execute_result",
          "data": {
            "text/plain": [
              "<pandas.io.formats.style.Styler at 0x7f32056351b0>"
            ],
            "text/html": [
              "<style type=\"text/css\">\n",
              "</style>\n",
              "<table id=\"T_25bdd\" class=\"dataframe\">\n",
              "  <thead>\n",
              "    <tr>\n",
              "      <th class=\"blank level0\" >&nbsp;</th>\n",
              "      <th id=\"T_25bdd_level0_col0\" class=\"col_heading level0 col0\" colspan=\"4\">messages_amount</th>\n",
              "    </tr>\n",
              "    <tr>\n",
              "      <th class=\"blank level1\" >&nbsp;</th>\n",
              "      <th id=\"T_25bdd_level1_col0\" class=\"col_heading level1 col0\" >median</th>\n",
              "      <th id=\"T_25bdd_level1_col1\" class=\"col_heading level1 col1\" >mean</th>\n",
              "      <th id=\"T_25bdd_level1_col2\" class=\"col_heading level1 col2\" >var</th>\n",
              "      <th id=\"T_25bdd_level1_col3\" class=\"col_heading level1 col3\" >std</th>\n",
              "    </tr>\n",
              "    <tr>\n",
              "      <th class=\"index_name level0\" >tariff</th>\n",
              "      <th class=\"blank col0\" >&nbsp;</th>\n",
              "      <th class=\"blank col1\" >&nbsp;</th>\n",
              "      <th class=\"blank col2\" >&nbsp;</th>\n",
              "      <th class=\"blank col3\" >&nbsp;</th>\n",
              "    </tr>\n",
              "  </thead>\n",
              "  <tbody>\n",
              "    <tr>\n",
              "      <th id=\"T_25bdd_level0_row0\" class=\"row_heading level0 row0\" >smart</th>\n",
              "      <td id=\"T_25bdd_row0_col0\" class=\"data row0 col0\" >28.0</td>\n",
              "      <td id=\"T_25bdd_row0_col1\" class=\"data row0 col1\" >33.4</td>\n",
              "      <td id=\"T_25bdd_row0_col2\" class=\"data row0 col2\" >799.0</td>\n",
              "      <td id=\"T_25bdd_row0_col3\" class=\"data row0 col3\" >28.3</td>\n",
              "    </tr>\n",
              "    <tr>\n",
              "      <th id=\"T_25bdd_level0_row1\" class=\"row_heading level0 row1\" >ultra</th>\n",
              "      <td id=\"T_25bdd_row1_col0\" class=\"data row1 col0\" >39.5</td>\n",
              "      <td id=\"T_25bdd_row1_col1\" class=\"data row1 col1\" >49.0</td>\n",
              "      <td id=\"T_25bdd_row1_col2\" class=\"data row1 col2\" >2188.2</td>\n",
              "      <td id=\"T_25bdd_row1_col3\" class=\"data row1 col3\" >46.8</td>\n",
              "    </tr>\n",
              "  </tbody>\n",
              "</table>\n"
            ]
          },
          "metadata": {},
          "execution_count": 263
        }
      ],
      "source": [
        "# checking data on messages\n",
        "clients_total.groupby('tariff')\\\n",
        "  .agg({'messages_amount':['median','mean','var','std']})\\\n",
        "  .style.format(\"{:.1f}\")"
      ]
    },
    {
      "cell_type": "markdown",
      "metadata": {
        "id": "-vd_IJUOUjbc"
      },
      "source": [
        "\n",
        "Overall Conclusion: Customers on the Smart tariff exceed the prepaid limit more often compared to the Ultra tariff when all the data is combined and analyzed.\n",
        "\n",
        "|Plan/|Extra calls|Extra Mb|Extra messages|\n",
        "|----|----|----|----|\n",
        "|Ultra|0% |13% |0% |\n",
        "|Smart|33% |60% |25%|"
      ]
    },
    {
      "cell_type": "code",
      "source": [
        "# Data\n",
        "plans = ['Ultra', 'Smart']\n",
        "extra_calls = [0, 33]\n",
        "extra_mb = [13, 60]\n",
        "extra_messages = [0, 25]\n",
        "\n",
        "# Plotting\n",
        "plt.figure(figsize=(9, 6))\n",
        "plt.bar(plans, extra_calls, width=0.2, label='Extra Calls', align='center')\n",
        "plt.bar(plans, extra_mb, width=0.2, label='Extra MB', align='edge')\n",
        "plt.bar(plans, extra_messages, width=-0.2, label='Extra Messages', align='edge')\n",
        "\n",
        "# Formatting\n",
        "plt.xlabel('Tariff')\n",
        "plt.ylabel('Percentage')\n",
        "plt.title('Comparison of Extra Usage by Tariff')\n",
        "plt.legend()\n",
        "\n",
        "# Displaying the plot\n",
        "plt.show()\n"
      ],
      "metadata": {
        "colab": {
          "base_uri": "https://localhost:8080/",
          "height": 564
        },
        "id": "U_7CmiNEZ9m8",
        "outputId": "5753e133-7179-4f49-fa09-e7ce022b934a"
      },
      "execution_count": 264,
      "outputs": [
        {
          "output_type": "display_data",
          "data": {
            "text/plain": [
              "<Figure size 900x600 with 1 Axes>"
            ],
            "image/png": "[encoded data removed]"
          },
          "metadata": {}
        }
      ]
    },
    {
      "cell_type": "markdown",
      "metadata": {
        "id": "vb3i7phmUjbd"
      },
      "source": [
        "# Hypothesis Testing: Average Revenue"
      ]
    },
    {
      "cell_type": "markdown",
      "metadata": {
        "id": "NjMYEPh4Ujbd"
      },
      "source": [
        "\n",
        "Let's compare the variances of the samples to determine the value of the equal_var argument."
      ]
    },
    {
      "cell_type": "code",
      "execution_count": 265,
      "metadata": {
        "id": "_G63DyYRUjbd",
        "outputId": "da6aa3bc-c632-4fd5-b22f-345eac8a17c7",
        "colab": {
          "base_uri": "https://localhost:8080/",
          "height": 175
        }
      },
      "outputs": [
        {
          "output_type": "execute_result",
          "data": {
            "text/plain": [
              "<pandas.io.formats.style.Styler at 0x7f3208cd0ca0>"
            ],
            "text/html": [
              "<style type=\"text/css\">\n",
              "</style>\n",
              "<table id=\"T_447d0\" class=\"dataframe\">\n",
              "  <thead>\n",
              "    <tr>\n",
              "      <th class=\"blank level0\" >&nbsp;</th>\n",
              "      <th id=\"T_447d0_level0_col0\" class=\"col_heading level0 col0\" colspan=\"2\">income</th>\n",
              "    </tr>\n",
              "    <tr>\n",
              "      <th class=\"blank level1\" >&nbsp;</th>\n",
              "      <th id=\"T_447d0_level1_col0\" class=\"col_heading level1 col0\" >var</th>\n",
              "      <th id=\"T_447d0_level1_col1\" class=\"col_heading level1 col1\" >std</th>\n",
              "    </tr>\n",
              "    <tr>\n",
              "      <th class=\"index_name level0\" >tariff</th>\n",
              "      <th class=\"blank col0\" >&nbsp;</th>\n",
              "      <th class=\"blank col1\" >&nbsp;</th>\n",
              "    </tr>\n",
              "  </thead>\n",
              "  <tbody>\n",
              "    <tr>\n",
              "      <th id=\"T_447d0_level0_row0\" class=\"row_heading level0 row0\" >smart</th>\n",
              "      <td id=\"T_447d0_row0_col0\" class=\"data row0 col0\" >502358.5</td>\n",
              "      <td id=\"T_447d0_row0_col1\" class=\"data row0 col1\" >708.8</td>\n",
              "    </tr>\n",
              "    <tr>\n",
              "      <th id=\"T_447d0_level0_row1\" class=\"row_heading level0 row1\" >ultra</th>\n",
              "      <td id=\"T_447d0_row1_col0\" class=\"data row1 col0\" >130997.2</td>\n",
              "      <td id=\"T_447d0_row1_col1\" class=\"data row1 col1\" >361.9</td>\n",
              "    </tr>\n",
              "  </tbody>\n",
              "</table>\n"
            ]
          },
          "metadata": {},
          "execution_count": 265
        }
      ],
      "source": [
        "# table with data on the mean, median, standard deviation, and variance.\n",
        "clients_total.groupby('tariff')\\\n",
        "     .agg({'income':['var','std']})\\\n",
        "     .style.format(\"{:.1f}\")"
      ]
    },
    {
      "cell_type": "markdown",
      "metadata": {
        "id": "YK3EfsAZUjbd"
      },
      "source": [
        "The difference is significant, therefore 'equal_var' = False."
      ]
    },
    {
      "cell_type": "markdown",
      "metadata": {
        "id": "E61AXqplUjbd"
      },
      "source": [
        "The task is to test the hypothesis: the average revenue from Ultra and Smart tariff users differs.\n",
        "\n",
        "* H0: the revenue from Ultra and Smart tariff users does not differ\n",
        "* H1: the revenue from Ultra and Smart tariff users differs\n",
        "\n",
        "Since the two samples are independent, I am using the Student's t-test."
      ]
    },
    {
      "cell_type": "markdown",
      "metadata": {
        "id": "FfLtTPEcUjbd"
      },
      "source": [
        "First, let's check the revenue data for outliers. In my opinion, a boxplot is best for this purpose."
      ]
    },
    {
      "cell_type": "code",
      "execution_count": 266,
      "metadata": {
        "id": "a9p1W9EDUjbd",
        "outputId": "c5b5d0ef-48ca-47ed-b870-1de3dc246567",
        "colab": {
          "base_uri": "https://localhost:8080/",
          "height": 1000
        }
      },
      "outputs": [
        {
          "output_type": "execute_result",
          "data": {
            "text/plain": [
              "<Axes: title={'center': 'income'}, xlabel='tariff'>"
            ]
          },
          "metadata": {},
          "execution_count": 266
        },
        {
          "output_type": "display_data",
          "data": {
            "text/plain": [
              "<Figure size 1000x1000 with 1 Axes>"
            ],
            "image/png": "[encoded data removed]"
          },
          "metadata": {}
        },
        {
          "output_type": "display_data",
          "data": {
            "text/plain": [
              "<Figure size 1000x1000 with 1 Axes>"
            ],
            "image/png": "[encoded data removed]"
          },
          "metadata": {}
        }
      ],
      "source": [
        "# скуфештп Boxplot to check for outliers\n",
        "ultra.boxplot('income', by='tariff', figsize=(10,10))\n",
        "smart.boxplot('income', by='tariff', figsize=(10,10))\n",
        "\n"
      ]
    },
    {
      "cell_type": "markdown",
      "metadata": {
        "id": "_lxePAytUjbe"
      },
      "source": [
        "e graphs look strange, but most importantly, it is visible that there are outliers that can distort the data.\n",
        "\n",
        "To remove outliers, I use a function that identifies them based on quartiles and removes the extra data"
      ]
    },
    {
      "cell_type": "code",
      "execution_count": 267,
      "metadata": {
        "id": "tP2rXKtIUjbe"
      },
      "outputs": [],
      "source": [
        "# function to identify outliers \n",
        "def remove_outlier(df, column, show_plot=False, x = 10, y = 10):\n",
        "    # assign quartile values to variables\n",
        "    low_quartile, upper_quartile = df[column].quantile([0.25, 0.75])\n",
        "    inter_quartile_range = upper_quartile - low_quartile\n",
        "    # use Interquartile Rule to Find Outliers: https://www.thoughtco.com/what-is-the-interquartile-range-rule-3126244\n",
        "    in_range = df[column].between(low_quartile - 1.5 * inter_quartile_range, \n",
        "                                  upper_quartile + 1.5 * inter_quartile_range)\n",
        "    if show_plot:\n",
        "        return df.loc[in_range].boxplot(column, figsize=(x,y))\n",
        "    else:\n",
        "        return df.loc[in_range]\n",
        "\n",
        "    "
      ]
    },
    {
      "cell_type": "code",
      "execution_count": 268,
      "metadata": {
        "id": "OhCYBV06Ujbe"
      },
      "outputs": [],
      "source": [
        "# removing outliers\n",
        "ultra = remove_outlier(ultra, 'income', 0)\n",
        "ultra_income = ultra['income']\n",
        "\n",
        "smart = remove_outlier(smart, 'income', 0)\n",
        "smart_income = smart['income']"
      ]
    },
    {
      "cell_type": "code",
      "execution_count": 269,
      "metadata": {
        "id": "c673_pCgUjbe",
        "outputId": "74f4b1d9-87d1-4b67-d7eb-803c1a0ac2a9",
        "colab": {
          "base_uri": "https://localhost:8080/",
          "height": 1000
        }
      },
      "outputs": [
        {
          "output_type": "execute_result",
          "data": {
            "text/plain": [
              "<Axes: title={'center': 'income'}, xlabel='tariff'>"
            ]
          },
          "metadata": {},
          "execution_count": 269
        },
        {
          "output_type": "display_data",
          "data": {
            "text/plain": [
              "<Figure size 1000x1000 with 1 Axes>"
            ],
            "image/png": "[encoded data removed]"
          },
          "metadata": {}
        },
        {
          "output_type": "display_data",
          "data": {
            "text/plain": [
              "<Figure size 1000x1000 with 1 Axes>"
            ],
            "image/png": "[encoded data removed]"
          },
          "metadata": {}
        }
      ],
      "source": [
        "# checking results\n",
        "ultra.boxplot('income', by='tariff', figsize=(10,10))\n",
        "smart.boxplot('income', by='tariff', figsize=(10,10))"
      ]
    },
    {
      "cell_type": "markdown",
      "metadata": {
        "id": "eXpdiNMUUjbe"
      },
      "source": [
        "It seems like there are fewer outliers, so you can proceed to the hypothesis testing."
      ]
    },
    {
      "cell_type": "code",
      "execution_count": 270,
      "metadata": {
        "id": "PKY-yYenUjbe",
        "outputId": "9ac74260-85e9-415e-927e-e07c98b2193f",
        "colab": {
          "base_uri": "https://localhost:8080/"
        }
      },
      "outputs": [
        {
          "output_type": "stream",
          "name": "stdout",
          "text": [
            "p-value: 0.0\n",
            "Отвергаем H0\n"
          ]
        },
        {
          "output_type": "stream",
          "name": "stderr",
          "text": [
            "<ipython-input-270-5f65e3994c15>:3: RuntimeWarning: Precision loss occurred in moment calculation due to catastrophic cancellation. This occurs when the data are nearly identical. Results may be unreliable.\n",
            "  result = st.ttest_ind(ultra_income, smart_income, equal_var=False)\n"
          ]
        }
      ],
      "source": [
        "# hypothesis testing\n",
        "alpha = 0.05\n",
        "result = st.ttest_ind(ultra_income, smart_income, equal_var=False)\n",
        "\n",
        "if result.pvalue < alpha:\n",
        "    print('p-value:', result.pvalue)\n",
        "    print('Отвергаем H0')\n",
        "else:\n",
        "    print('p-value:', result.pvalue)\n",
        "    print('Отвергаем H1')"
      ]
    },
    {
      "cell_type": "markdown",
      "metadata": {
        "id": "UyJ3P84HUjbe"
      },
      "source": [
        "\n",
        "The significance of the p-value is very low, we reject the null hypothesis.\n",
        "\n",
        "Conclusion: The average revenue of Smart and Ultra tariffs differs."
      ]
    },
    {
      "cell_type": "markdown",
      "metadata": {
        "id": "0Qu7gPulUjbe"
      },
      "source": [
        "\n",
        "Out of curiosity, I'll calculate the revenue by plan\n"
      ]
    },
    {
      "cell_type": "code",
      "execution_count": 271,
      "metadata": {
        "id": "CXvUCXJBUjbf",
        "outputId": "02dcadce-0a70-4fb4-80a0-8d872ffed5ae",
        "colab": {
          "base_uri": "https://localhost:8080/",
          "height": 175
        }
      },
      "outputs": [
        {
          "output_type": "execute_result",
          "data": {
            "text/plain": [
              "            sum         mean median\n",
              "         income       income income\n",
              "tariff                             \n",
              "smart   2461788  1109.413249    796\n",
              "ultra   1931146  2063.190171   1950"
            ],
            "text/html": [
              "\n",
              "  <div id=\"df-e84d55b3-e237-497f-b603-92d4f7ea22b1\">\n",
              "    <div class=\"colab-df-container\">\n",
              "      <div>\n",
              "<style scoped>\n",
              "    .dataframe tbody tr th:only-of-type {\n",
              "        vertical-align: middle;\n",
              "    }\n",
              "\n",
              "    .dataframe tbody tr th {\n",
              "        vertical-align: top;\n",
              "    }\n",
              "\n",
              "    .dataframe thead tr th {\n",
              "        text-align: left;\n",
              "    }\n",
              "\n",
              "    .dataframe thead tr:last-of-type th {\n",
              "        text-align: right;\n",
              "    }\n",
              "</style>\n",
              "<table border=\"1\" class=\"dataframe\">\n",
              "  <thead>\n",
              "    <tr>\n",
              "      <th></th>\n",
              "      <th>sum</th>\n",
              "      <th>mean</th>\n",
              "      <th>median</th>\n",
              "    </tr>\n",
              "    <tr>\n",
              "      <th></th>\n",
              "      <th>income</th>\n",
              "      <th>income</th>\n",
              "      <th>income</th>\n",
              "    </tr>\n",
              "    <tr>\n",
              "      <th>tariff</th>\n",
              "      <th></th>\n",
              "      <th></th>\n",
              "      <th></th>\n",
              "    </tr>\n",
              "  </thead>\n",
              "  <tbody>\n",
              "    <tr>\n",
              "      <th>smart</th>\n",
              "      <td>2461788</td>\n",
              "      <td>1109.413249</td>\n",
              "      <td>796</td>\n",
              "    </tr>\n",
              "    <tr>\n",
              "      <th>ultra</th>\n",
              "      <td>1931146</td>\n",
              "      <td>2063.190171</td>\n",
              "      <td>1950</td>\n",
              "    </tr>\n",
              "  </tbody>\n",
              "</table>\n",
              "</div>\n",
              "      <button class=\"colab-df-convert\" onclick=\"convertToInteractive('df-e84d55b3-e237-497f-b603-92d4f7ea22b1')\"\n",
              "              title=\"Convert this dataframe to an interactive table.\"\n",
              "              style=\"display:none;\">\n",
              "        \n",
              "  <svg xmlns=\"http://www.w3.org/2000/svg\" height=\"24px\"viewBox=\"0 0 24 24\"\n",
              "       width=\"24px\">\n",
              "    <path d=\"M0 0h24v24H0V0z\" fill=\"none\"/>\n",
              "    <path d=\"M18.56 5.44l.94 2.06.94-2.06 2.06-.94-2.06-.94-.94-2.06-.94 2.06-2.06.94zm-11 1L8.5 8.5l.94-2.06 2.06-.94-2.06-.94L8.5 2.5l-.94 2.06-2.06.94zm10 10l.94 2.06.94-2.06 2.06-.94-2.06-.94-.94-2.06-.94 2.06-2.06.94z\"/><path d=\"M17.41 7.96l-1.37-1.37c-.4-.4-.92-.59-1.43-.59-.52 0-1.04.2-1.43.59L10.3 9.45l-7.72 7.72c-.78.78-.78 2.05 0 2.83L4 21.41c.39.39.9.59 1.41.59.51 0 1.02-.2 1.41-.59l7.78-7.78 2.81-2.81c.8-.78.8-2.07 0-2.86zM5.41 20L4 18.59l7.72-7.72 1.47 1.35L5.41 20z\"/>\n",
              "  </svg>\n",
              "      </button>\n",
              "      \n",
              "  <style>\n",
              "    .colab-df-container {\n",
              "      display:flex;\n",
              "      flex-wrap:wrap;\n",
              "      gap: 12px;\n",
              "    }\n",
              "\n",
              "    .colab-df-convert {\n",
              "      background-color: #E8F0FE;\n",
              "      border: none;\n",
              "      border-radius: 50%;\n",
              "      cursor: pointer;\n",
              "      display: none;\n",
              "      fill: #1967D2;\n",
              "      height: 32px;\n",
              "      padding: 0 0 0 0;\n",
              "      width: 32px;\n",
              "    }\n",
              "\n",
              "    .colab-df-convert:hover {\n",
              "      background-color: #E2EBFA;\n",
              "      box-shadow: 0px 1px 2px rgba(60, 64, 67, 0.3), 0px 1px 3px 1px rgba(60, 64, 67, 0.15);\n",
              "      fill: #174EA6;\n",
              "    }\n",
              "\n",
              "    [theme=dark] .colab-df-convert {\n",
              "      background-color: #3B4455;\n",
              "      fill: #D2E3FC;\n",
              "    }\n",
              "\n",
              "    [theme=dark] .colab-df-convert:hover {\n",
              "      background-color: #434B5C;\n",
              "      box-shadow: 0px 1px 3px 1px rgba(0, 0, 0, 0.15);\n",
              "      filter: drop-shadow(0px 1px 2px rgba(0, 0, 0, 0.3));\n",
              "      fill: #FFFFFF;\n",
              "    }\n",
              "  </style>\n",
              "\n",
              "      <script>\n",
              "        const buttonEl =\n",
              "          document.querySelector('#df-e84d55b3-e237-497f-b603-92d4f7ea22b1 button.colab-df-convert');\n",
              "        buttonEl.style.display =\n",
              "          google.colab.kernel.accessAllowed ? 'block' : 'none';\n",
              "\n",
              "        async function convertToInteractive(key) {\n",
              "          const element = document.querySelector('#df-e84d55b3-e237-497f-b603-92d4f7ea22b1');\n",
              "          const dataTable =\n",
              "            await google.colab.kernel.invokeFunction('convertToInteractive',\n",
              "                                                     [key], {});\n",
              "          if (!dataTable) return;\n",
              "\n",
              "          const docLinkHtml = 'Like what you see? Visit the ' +\n",
              "            '<a target=\"_blank\" href=https://colab.research.google.com/notebooks/data_table.ipynb>data table notebook</a>'\n",
              "            + ' to learn more about interactive tables.';\n",
              "          element.innerHTML = '';\n",
              "          dataTable['output_type'] = 'display_data';\n",
              "          await google.colab.output.renderOutput(dataTable, element);\n",
              "          const docLink = document.createElement('div');\n",
              "          docLink.innerHTML = docLinkHtml;\n",
              "          element.appendChild(docLink);\n",
              "        }\n",
              "      </script>\n",
              "    </div>\n",
              "  </div>\n",
              "  "
            ]
          },
          "metadata": {},
          "execution_count": 271
        }
      ],
      "source": [
        "# revenue by plan\n",
        "clients_total.pivot_table(index='tariff', values='income', aggfunc=['sum','mean', 'median'])"
      ]
    },
    {
      "cell_type": "markdown",
      "metadata": {
        "id": "uwOWOTxvUjbf"
      },
      "source": [
        "# Hypothesis testing: revenue by cities"
      ]
    },
    {
      "cell_type": "markdown",
      "metadata": {
        "id": "_L7gvdhpUjbf"
      },
      "source": [
        "Задача проверить гипотезу: средняя выручка пользователей тарифов «Ультра» и «Смарт» различается.\n",
        "\n",
        "* H0: выручка компании в Москве и других регионах одинаковая\n",
        "* H1: выручка в Москве и других региона различается\n",
        "\n",
        "Так как две выборки независимы, использую Student t-test."
      ]
    },
    {
      "cell_type": "code",
      "execution_count": 272,
      "metadata": {
        "id": "ZRNFRNe4Ujbf",
        "outputId": "593a0d1c-7471-459a-aaa5-b650b7fd345d",
        "colab": {
          "base_uri": "https://localhost:8080/"
        }
      },
      "outputs": [
        {
          "output_type": "execute_result",
          "data": {
            "text/plain": [
              "array(['Краснодар', 'Москва', 'Стерлитамак', 'Новокузнецк',\n",
              "       'Набережные Челны', 'Ульяновск', 'Челябинск', 'Пермь', 'Тюмень',\n",
              "       'Самара', 'Санкт-Петербург', 'Иваново', 'Чебоксары', 'Омск', 'Уфа',\n",
              "       'Томск', 'Чита', 'Мурманск', 'Петрозаводск', 'Тверь',\n",
              "       'Екатеринбург', 'Махачкала', 'Вологда', 'Череповец', 'Ярославль',\n",
              "       'Сочи', 'Хабаровск', 'Ставрополь', 'Рязань', 'Улан-Удэ', 'Тула',\n",
              "       'Саратов', 'Ростов-на-Дону', 'Казань', 'Иркутск', 'Курск',\n",
              "       'Калуга', 'Якутск', 'Астрахань', 'Химки', 'Владикавказ',\n",
              "       'Волгоград', 'Саранск', 'Ижевск', 'Новосибирск', 'Брянск',\n",
              "       'Тольятти', 'Нижний Тагил', 'Орёл', 'Белгород', 'Воронеж',\n",
              "       'Курган', 'Барнаул', 'Красноярск', 'Архангельск', 'Липецк',\n",
              "       'Кемерово', 'Киров', 'Сургут', 'Пенза', 'Волжский', 'Магнитогорск',\n",
              "       'Нижний Новгород', 'Кострома', 'Владивосток', 'Тамбов', 'Балашиха',\n",
              "       'Севастополь', 'Калининград', 'Оренбург', 'Смоленск',\n",
              "       'Нижневартовск', 'Владимир', 'Новороссийск', 'Грозный', 'Подольск'],\n",
              "      dtype=object)"
            ]
          },
          "metadata": {},
          "execution_count": 272
        }
      ],
      "source": [
        "# проверяем названия городов\n",
        "clients_total['city'].unique()"
      ]
    },
    {
      "cell_type": "markdown",
      "metadata": {
        "id": "V2atJ7QYUjbf"
      },
      "source": [
        "Каких-то странных опечаток и прочего нет, поэтому делим на две таблицы - Москва и все остальное."
      ]
    },
    {
      "cell_type": "code",
      "execution_count": 273,
      "metadata": {
        "id": "iMnIv9ybUjbf",
        "outputId": "3c64869c-1ca4-4ba3-b2bb-8508a49be0aa",
        "colab": {
          "base_uri": "https://localhost:8080/",
          "height": 427
        }
      },
      "outputs": [
        {
          "output_type": "execute_result",
          "data": {
            "text/plain": [
              "    user_id  month  duration  calls_amount  mb_used  messages_amount tariff  \\\n",
              "8      1001     11     430.0          45.0  18452.0              0.0  smart   \n",
              "9      1001     12     414.0          47.0  14053.0              0.0  smart   \n",
              "17     1003      8     380.0          43.0   8571.0             37.0  ultra   \n",
              "18     1003      9     961.0         105.0  12479.0             91.0  ultra   \n",
              "19     1003     10     855.0          97.0  14779.0             83.0  ultra   \n",
              "20     1003     11     824.0          95.0  11368.0             94.0  ultra   \n",
              "21     1003     12     802.0          88.0  10132.0             75.0  ultra   \n",
              "53     1007      4     198.0          21.0   8031.0             11.0  smart   \n",
              "54     1007      5     480.0          57.0  17708.0             39.0  smart   \n",
              "55     1007      6     545.0          55.0  13674.0             26.0  smart   \n",
              "\n",
              "      city  messages_included  mb_per_month_included  minutes_included  \\\n",
              "8   Москва                 50                  15360               500   \n",
              "9   Москва                 50                  15360               500   \n",
              "17  Москва               1000                  30720              3000   \n",
              "18  Москва               1000                  30720              3000   \n",
              "19  Москва               1000                  30720              3000   \n",
              "20  Москва               1000                  30720              3000   \n",
              "21  Москва               1000                  30720              3000   \n",
              "53  Москва                 50                  15360               500   \n",
              "54  Москва                 50                  15360               500   \n",
              "55  Москва                 50                  15360               500   \n",
              "\n",
              "    rub_monthly_fee  rub_per_gb  rub_per_message  rub_per_minute  \\\n",
              "8               550         200                3               3   \n",
              "9               550         200                3               3   \n",
              "17             1950         150                1               1   \n",
              "18             1950         150                1               1   \n",
              "19             1950         150                1               1   \n",
              "20             1950         150                1               1   \n",
              "21             1950         150                1               1   \n",
              "53              550         200                3               3   \n",
              "54              550         200                3               3   \n",
              "55              550         200                3               3   \n",
              "\n",
              "    extra_expenses  income  \n",
              "8        603.90625    1153  \n",
              "9          0.00000     550  \n",
              "17         0.00000    1950  \n",
              "18         0.00000    1950  \n",
              "19         0.00000    1950  \n",
              "20         0.00000    1950  \n",
              "21         0.00000    1950  \n",
              "53         0.00000     550  \n",
              "54       458.59375    1008  \n",
              "55         0.00000     550  "
            ],
            "text/html": [
              "\n",
              "  <div id=\"df-77fb5335-0978-4825-967f-3cdbec22816a\">\n",
              "    <div class=\"colab-df-container\">\n",
              "      <div>\n",
              "<style scoped>\n",
              "    .dataframe tbody tr th:only-of-type {\n",
              "        vertical-align: middle;\n",
              "    }\n",
              "\n",
              "    .dataframe tbody tr th {\n",
              "        vertical-align: top;\n",
              "    }\n",
              "\n",
              "    .dataframe thead th {\n",
              "        text-align: right;\n",
              "    }\n",
              "</style>\n",
              "<table border=\"1\" class=\"dataframe\">\n",
              "  <thead>\n",
              "    <tr style=\"text-align: right;\">\n",
              "      <th></th>\n",
              "      <th>user_id</th>\n",
              "      <th>month</th>\n",
              "      <th>duration</th>\n",
              "      <th>calls_amount</th>\n",
              "      <th>mb_used</th>\n",
              "      <th>messages_amount</th>\n",
              "      <th>tariff</th>\n",
              "      <th>city</th>\n",
              "      <th>messages_included</th>\n",
              "      <th>mb_per_month_included</th>\n",
              "      <th>minutes_included</th>\n",
              "      <th>rub_monthly_fee</th>\n",
              "      <th>rub_per_gb</th>\n",
              "      <th>rub_per_message</th>\n",
              "      <th>rub_per_minute</th>\n",
              "      <th>extra_expenses</th>\n",
              "      <th>income</th>\n",
              "    </tr>\n",
              "  </thead>\n",
              "  <tbody>\n",
              "    <tr>\n",
              "      <th>8</th>\n",
              "      <td>1001</td>\n",
              "      <td>11</td>\n",
              "      <td>430.0</td>\n",
              "      <td>45.0</td>\n",
              "      <td>18452.0</td>\n",
              "      <td>0.0</td>\n",
              "      <td>smart</td>\n",
              "      <td>Москва</td>\n",
              "      <td>50</td>\n",
              "      <td>15360</td>\n",
              "      <td>500</td>\n",
              "      <td>550</td>\n",
              "      <td>200</td>\n",
              "      <td>3</td>\n",
              "      <td>3</td>\n",
              "      <td>603.90625</td>\n",
              "      <td>1153</td>\n",
              "    </tr>\n",
              "    <tr>\n",
              "      <th>9</th>\n",
              "      <td>1001</td>\n",
              "      <td>12</td>\n",
              "      <td>414.0</td>\n",
              "      <td>47.0</td>\n",
              "      <td>14053.0</td>\n",
              "      <td>0.0</td>\n",
              "      <td>smart</td>\n",
              "      <td>Москва</td>\n",
              "      <td>50</td>\n",
              "      <td>15360</td>\n",
              "      <td>500</td>\n",
              "      <td>550</td>\n",
              "      <td>200</td>\n",
              "      <td>3</td>\n",
              "      <td>3</td>\n",
              "      <td>0.00000</td>\n",
              "      <td>550</td>\n",
              "    </tr>\n",
              "    <tr>\n",
              "      <th>17</th>\n",
              "      <td>1003</td>\n",
              "      <td>8</td>\n",
              "      <td>380.0</td>\n",
              "      <td>43.0</td>\n",
              "      <td>8571.0</td>\n",
              "      <td>37.0</td>\n",
              "      <td>ultra</td>\n",
              "      <td>Москва</td>\n",
              "      <td>1000</td>\n",
              "      <td>30720</td>\n",
              "      <td>3000</td>\n",
              "      <td>1950</td>\n",
              "      <td>150</td>\n",
              "      <td>1</td>\n",
              "      <td>1</td>\n",
              "      <td>0.00000</td>\n",
              "      <td>1950</td>\n",
              "    </tr>\n",
              "    <tr>\n",
              "      <th>18</th>\n",
              "      <td>1003</td>\n",
              "      <td>9</td>\n",
              "      <td>961.0</td>\n",
              "      <td>105.0</td>\n",
              "      <td>12479.0</td>\n",
              "      <td>91.0</td>\n",
              "      <td>ultra</td>\n",
              "      <td>Москва</td>\n",
              "      <td>1000</td>\n",
              "      <td>30720</td>\n",
              "      <td>3000</td>\n",
              "      <td>1950</td>\n",
              "      <td>150</td>\n",
              "      <td>1</td>\n",
              "      <td>1</td>\n",
              "      <td>0.00000</td>\n",
              "      <td>1950</td>\n",
              "    </tr>\n",
              "    <tr>\n",
              "      <th>19</th>\n",
              "      <td>1003</td>\n",
              "      <td>10</td>\n",
              "      <td>855.0</td>\n",
              "      <td>97.0</td>\n",
              "      <td>14779.0</td>\n",
              "      <td>83.0</td>\n",
              "      <td>ultra</td>\n",
              "      <td>Москва</td>\n",
              "      <td>1000</td>\n",
              "      <td>30720</td>\n",
              "      <td>3000</td>\n",
              "      <td>1950</td>\n",
              "      <td>150</td>\n",
              "      <td>1</td>\n",
              "      <td>1</td>\n",
              "      <td>0.00000</td>\n",
              "      <td>1950</td>\n",
              "    </tr>\n",
              "    <tr>\n",
              "      <th>20</th>\n",
              "      <td>1003</td>\n",
              "      <td>11</td>\n",
              "      <td>824.0</td>\n",
              "      <td>95.0</td>\n",
              "      <td>11368.0</td>\n",
              "      <td>94.0</td>\n",
              "      <td>ultra</td>\n",
              "      <td>Москва</td>\n",
              "      <td>1000</td>\n",
              "      <td>30720</td>\n",
              "      <td>3000</td>\n",
              "      <td>1950</td>\n",
              "      <td>150</td>\n",
              "      <td>1</td>\n",
              "      <td>1</td>\n",
              "      <td>0.00000</td>\n",
              "      <td>1950</td>\n",
              "    </tr>\n",
              "    <tr>\n",
              "      <th>21</th>\n",
              "      <td>1003</td>\n",
              "      <td>12</td>\n",
              "      <td>802.0</td>\n",
              "      <td>88.0</td>\n",
              "      <td>10132.0</td>\n",
              "      <td>75.0</td>\n",
              "      <td>ultra</td>\n",
              "      <td>Москва</td>\n",
              "      <td>1000</td>\n",
              "      <td>30720</td>\n",
              "      <td>3000</td>\n",
              "      <td>1950</td>\n",
              "      <td>150</td>\n",
              "      <td>1</td>\n",
              "      <td>1</td>\n",
              "      <td>0.00000</td>\n",
              "      <td>1950</td>\n",
              "    </tr>\n",
              "    <tr>\n",
              "      <th>53</th>\n",
              "      <td>1007</td>\n",
              "      <td>4</td>\n",
              "      <td>198.0</td>\n",
              "      <td>21.0</td>\n",
              "      <td>8031.0</td>\n",
              "      <td>11.0</td>\n",
              "      <td>smart</td>\n",
              "      <td>Москва</td>\n",
              "      <td>50</td>\n",
              "      <td>15360</td>\n",
              "      <td>500</td>\n",
              "      <td>550</td>\n",
              "      <td>200</td>\n",
              "      <td>3</td>\n",
              "      <td>3</td>\n",
              "      <td>0.00000</td>\n",
              "      <td>550</td>\n",
              "    </tr>\n",
              "    <tr>\n",
              "      <th>54</th>\n",
              "      <td>1007</td>\n",
              "      <td>5</td>\n",
              "      <td>480.0</td>\n",
              "      <td>57.0</td>\n",
              "      <td>17708.0</td>\n",
              "      <td>39.0</td>\n",
              "      <td>smart</td>\n",
              "      <td>Москва</td>\n",
              "      <td>50</td>\n",
              "      <td>15360</td>\n",
              "      <td>500</td>\n",
              "      <td>550</td>\n",
              "      <td>200</td>\n",
              "      <td>3</td>\n",
              "      <td>3</td>\n",
              "      <td>458.59375</td>\n",
              "      <td>1008</td>\n",
              "    </tr>\n",
              "    <tr>\n",
              "      <th>55</th>\n",
              "      <td>1007</td>\n",
              "      <td>6</td>\n",
              "      <td>545.0</td>\n",
              "      <td>55.0</td>\n",
              "      <td>13674.0</td>\n",
              "      <td>26.0</td>\n",
              "      <td>smart</td>\n",
              "      <td>Москва</td>\n",
              "      <td>50</td>\n",
              "      <td>15360</td>\n",
              "      <td>500</td>\n",
              "      <td>550</td>\n",
              "      <td>200</td>\n",
              "      <td>3</td>\n",
              "      <td>3</td>\n",
              "      <td>0.00000</td>\n",
              "      <td>550</td>\n",
              "    </tr>\n",
              "  </tbody>\n",
              "</table>\n",
              "</div>\n",
              "      <button class=\"colab-df-convert\" onclick=\"convertToInteractive('df-77fb5335-0978-4825-967f-3cdbec22816a')\"\n",
              "              title=\"Convert this dataframe to an interactive table.\"\n",
              "              style=\"display:none;\">\n",
              "        \n",
              "  <svg xmlns=\"http://www.w3.org/2000/svg\" height=\"24px\"viewBox=\"0 0 24 24\"\n",
              "       width=\"24px\">\n",
              "    <path d=\"M0 0h24v24H0V0z\" fill=\"none\"/>\n",
              "    <path d=\"M18.56 5.44l.94 2.06.94-2.06 2.06-.94-2.06-.94-.94-2.06-.94 2.06-2.06.94zm-11 1L8.5 8.5l.94-2.06 2.06-.94-2.06-.94L8.5 2.5l-.94 2.06-2.06.94zm10 10l.94 2.06.94-2.06 2.06-.94-2.06-.94-.94-2.06-.94 2.06-2.06.94z\"/><path d=\"M17.41 7.96l-1.37-1.37c-.4-.4-.92-.59-1.43-.59-.52 0-1.04.2-1.43.59L10.3 9.45l-7.72 7.72c-.78.78-.78 2.05 0 2.83L4 21.41c.39.39.9.59 1.41.59.51 0 1.02-.2 1.41-.59l7.78-7.78 2.81-2.81c.8-.78.8-2.07 0-2.86zM5.41 20L4 18.59l7.72-7.72 1.47 1.35L5.41 20z\"/>\n",
              "  </svg>\n",
              "      </button>\n",
              "      \n",
              "  <style>\n",
              "    .colab-df-container {\n",
              "      display:flex;\n",
              "      flex-wrap:wrap;\n",
              "      gap: 12px;\n",
              "    }\n",
              "\n",
              "    .colab-df-convert {\n",
              "      background-color: #E8F0FE;\n",
              "      border: none;\n",
              "      border-radius: 50%;\n",
              "      cursor: pointer;\n",
              "      display: none;\n",
              "      fill: #1967D2;\n",
              "      height: 32px;\n",
              "      padding: 0 0 0 0;\n",
              "      width: 32px;\n",
              "    }\n",
              "\n",
              "    .colab-df-convert:hover {\n",
              "      background-color: #E2EBFA;\n",
              "      box-shadow: 0px 1px 2px rgba(60, 64, 67, 0.3), 0px 1px 3px 1px rgba(60, 64, 67, 0.15);\n",
              "      fill: #174EA6;\n",
              "    }\n",
              "\n",
              "    [theme=dark] .colab-df-convert {\n",
              "      background-color: #3B4455;\n",
              "      fill: #D2E3FC;\n",
              "    }\n",
              "\n",
              "    [theme=dark] .colab-df-convert:hover {\n",
              "      background-color: #434B5C;\n",
              "      box-shadow: 0px 1px 3px 1px rgba(0, 0, 0, 0.15);\n",
              "      filter: drop-shadow(0px 1px 2px rgba(0, 0, 0, 0.3));\n",
              "      fill: #FFFFFF;\n",
              "    }\n",
              "  </style>\n",
              "\n",
              "      <script>\n",
              "        const buttonEl =\n",
              "          document.querySelector('#df-77fb5335-0978-4825-967f-3cdbec22816a button.colab-df-convert');\n",
              "        buttonEl.style.display =\n",
              "          google.colab.kernel.accessAllowed ? 'block' : 'none';\n",
              "\n",
              "        async function convertToInteractive(key) {\n",
              "          const element = document.querySelector('#df-77fb5335-0978-4825-967f-3cdbec22816a');\n",
              "          const dataTable =\n",
              "            await google.colab.kernel.invokeFunction('convertToInteractive',\n",
              "                                                     [key], {});\n",
              "          if (!dataTable) return;\n",
              "\n",
              "          const docLinkHtml = 'Like what you see? Visit the ' +\n",
              "            '<a target=\"_blank\" href=https://colab.research.google.com/notebooks/data_table.ipynb>data table notebook</a>'\n",
              "            + ' to learn more about interactive tables.';\n",
              "          element.innerHTML = '';\n",
              "          dataTable['output_type'] = 'display_data';\n",
              "          await google.colab.output.renderOutput(dataTable, element);\n",
              "          const docLink = document.createElement('div');\n",
              "          docLink.innerHTML = docLinkHtml;\n",
              "          element.appendChild(docLink);\n",
              "        }\n",
              "      </script>\n",
              "    </div>\n",
              "  </div>\n",
              "  "
            ]
          },
          "metadata": {},
          "execution_count": 273
        }
      ],
      "source": [
        "# создаем отдельные таблицы\n",
        "msc = clients_total[clients_total['city'] == 'Москва']\n",
        "prv = clients_total[clients_total['city'] != 'Москва']\n",
        "\n",
        "#проверю результат на одной таблице, если с ней все ок, то и со второй тоже все должно быть ок\n",
        "msc.head(10)"
      ]
    },
    {
      "cell_type": "markdown",
      "metadata": {
        "id": "8eyZ5eH0Ujbg"
      },
      "source": [
        "Смотрим, какое значение должно быть у `equal_var`."
      ]
    },
    {
      "cell_type": "code",
      "execution_count": 274,
      "metadata": {
        "id": "X74QaYOmUjbg",
        "outputId": "8d8ae660-4147-4f6f-ed63-5fdf793c3ff1",
        "colab": {
          "base_uri": "https://localhost:8080/",
          "height": 175
        }
      },
      "outputs": [
        {
          "output_type": "execute_result",
          "data": {
            "text/plain": [
              "<pandas.io.formats.style.Styler at 0x7f3208d37850>"
            ],
            "text/html": [
              "<style type=\"text/css\">\n",
              "</style>\n",
              "<table id=\"T_9d0bc\" class=\"dataframe\">\n",
              "  <thead>\n",
              "    <tr>\n",
              "      <th class=\"blank level0\" >&nbsp;</th>\n",
              "      <th id=\"T_9d0bc_level0_col0\" class=\"col_heading level0 col0\" colspan=\"2\">income</th>\n",
              "    </tr>\n",
              "    <tr>\n",
              "      <th class=\"blank level1\" >&nbsp;</th>\n",
              "      <th id=\"T_9d0bc_level1_col0\" class=\"col_heading level1 col0\" >var</th>\n",
              "      <th id=\"T_9d0bc_level1_col1\" class=\"col_heading level1 col1\" >std</th>\n",
              "    </tr>\n",
              "    <tr>\n",
              "      <th class=\"index_name level0\" >tariff</th>\n",
              "      <th class=\"blank col0\" >&nbsp;</th>\n",
              "      <th class=\"blank col1\" >&nbsp;</th>\n",
              "    </tr>\n",
              "  </thead>\n",
              "  <tbody>\n",
              "    <tr>\n",
              "      <th id=\"T_9d0bc_level0_row0\" class=\"row_heading level0 row0\" >smart</th>\n",
              "      <td id=\"T_9d0bc_row0_col0\" class=\"data row0 col0\" >432296.8</td>\n",
              "      <td id=\"T_9d0bc_row0_col1\" class=\"data row0 col1\" >657.5</td>\n",
              "    </tr>\n",
              "    <tr>\n",
              "      <th id=\"T_9d0bc_level0_row1\" class=\"row_heading level0 row1\" >ultra</th>\n",
              "      <td id=\"T_9d0bc_row1_col0\" class=\"data row1 col0\" >109617.1</td>\n",
              "      <td id=\"T_9d0bc_row1_col1\" class=\"data row1 col1\" >331.1</td>\n",
              "    </tr>\n",
              "  </tbody>\n",
              "</table>\n"
            ]
          },
          "metadata": {},
          "execution_count": 274
        }
      ],
      "source": [
        "# таблица с данными  стандартном отклонении и дисперсии для москвы\n",
        "msc.groupby('tariff')\\\n",
        "     .agg({'income':['var','std']})\\\n",
        "     .style.format(\"{:.1f}\")"
      ]
    },
    {
      "cell_type": "code",
      "execution_count": 275,
      "metadata": {
        "id": "7GVmGf0OUjbg",
        "outputId": "20b3a63e-b4b1-483c-8638-eb0b8eb32136",
        "colab": {
          "base_uri": "https://localhost:8080/",
          "height": 175
        }
      },
      "outputs": [
        {
          "output_type": "execute_result",
          "data": {
            "text/plain": [
              "<pandas.io.formats.style.Styler at 0x7f3207edbee0>"
            ],
            "text/html": [
              "<style type=\"text/css\">\n",
              "</style>\n",
              "<table id=\"T_5def8\" class=\"dataframe\">\n",
              "  <thead>\n",
              "    <tr>\n",
              "      <th class=\"blank level0\" >&nbsp;</th>\n",
              "      <th id=\"T_5def8_level0_col0\" class=\"col_heading level0 col0\" colspan=\"2\">income</th>\n",
              "    </tr>\n",
              "    <tr>\n",
              "      <th class=\"blank level1\" >&nbsp;</th>\n",
              "      <th id=\"T_5def8_level1_col0\" class=\"col_heading level1 col0\" >var</th>\n",
              "      <th id=\"T_5def8_level1_col1\" class=\"col_heading level1 col1\" >std</th>\n",
              "    </tr>\n",
              "    <tr>\n",
              "      <th class=\"index_name level0\" >tariff</th>\n",
              "      <th class=\"blank col0\" >&nbsp;</th>\n",
              "      <th class=\"blank col1\" >&nbsp;</th>\n",
              "    </tr>\n",
              "  </thead>\n",
              "  <tbody>\n",
              "    <tr>\n",
              "      <th id=\"T_5def8_level0_row0\" class=\"row_heading level0 row0\" >smart</th>\n",
              "      <td id=\"T_5def8_row0_col0\" class=\"data row0 col0\" >516838.2</td>\n",
              "      <td id=\"T_5def8_row0_col1\" class=\"data row0 col1\" >718.9</td>\n",
              "    </tr>\n",
              "    <tr>\n",
              "      <th id=\"T_5def8_level0_row1\" class=\"row_heading level0 row1\" >ultra</th>\n",
              "      <td id=\"T_5def8_row1_col0\" class=\"data row1 col0\" >137886.9</td>\n",
              "      <td id=\"T_5def8_row1_col1\" class=\"data row1 col1\" >371.3</td>\n",
              "    </tr>\n",
              "  </tbody>\n",
              "</table>\n"
            ]
          },
          "metadata": {},
          "execution_count": 275
        }
      ],
      "source": [
        "# таблица с данными  стандартном отклонении и дисперсии для москвы\n",
        "prv.groupby('tariff')\\\n",
        "     .agg({'income':['var','std']})\\\n",
        "     .style.format(\"{:.1f}\")"
      ]
    },
    {
      "cell_type": "markdown",
      "metadata": {
        "id": "4PCh_iaZUjbg"
      },
      "source": [
        "Различие есть, значит 'equal_var' = False"
      ]
    },
    {
      "cell_type": "code",
      "execution_count": 276,
      "metadata": {
        "id": "wvcvruoTUjbg"
      },
      "outputs": [],
      "source": [
        "# удаляем выбросы \n",
        "msc = remove_outlier(msc, 'income', 0)\n",
        "msc_income = msc['income']\n",
        "\n",
        "prv = remove_outlier(prv, 'income', 0)\n",
        "prv_income = prv['income']"
      ]
    },
    {
      "cell_type": "code",
      "execution_count": 277,
      "metadata": {
        "id": "CD4GzU0PUjbg",
        "outputId": "c5f52a0f-ca5a-40a0-c869-482c100020cb",
        "colab": {
          "base_uri": "https://localhost:8080/"
        }
      },
      "outputs": [
        {
          "output_type": "stream",
          "name": "stdout",
          "text": [
            "p-value: 0.0897427305729071\n",
            "Отвергаем H1\n"
          ]
        }
      ],
      "source": [
        "#проверяем гипотезу\n",
        "alpha = 0.05\n",
        "result = st.ttest_ind(msc_income, prv_income, equal_var=False)\n",
        "\n",
        "if result.pvalue < alpha:\n",
        "    print('p-value:', result.pvalue)\n",
        "    print('Отвергаем H0')\n",
        "else:\n",
        "    print('p-value:', result.pvalue)\n",
        "    print('Отвергаем H1')"
      ]
    },
    {
      "cell_type": "markdown",
      "metadata": {
        "id": "XwEEQBRkUjbg"
      },
      "source": [
        "Значимость p-value равна 1, отвергаем не нулевую гипотезу.\n",
        "\n",
        "Вывод: средняя выручка тарифов Smart и Ultra в Москве и регионах не отличается."
      ]
    },
    {
      "cell_type": "markdown",
      "metadata": {
        "id": "E1G7Hfp0Ujbh"
      },
      "source": [
        "# <a name=\"conclustion\">Общий вывод</a>"
      ]
    },
    {
      "cell_type": "markdown",
      "metadata": {
        "id": "bWt7zG9lUjbh"
      },
      "source": [
        "На основе проведённого анализа данных, можно сделать следующие выводы:\n",
        "\n",
        "Общая выручка от тарифов Smart и Ultra различаются:\n",
        "\n",
        "**тариф Smart** приносит больше общего дохода. Возможно, это связано с тем, что клиенты (которых больше в моей выборке) чаще превышают заложенные в тарифы лимиты и поэтому чаще платят за дополнительные сообщения, минуты разговора и гигабайты интернета. Думаю из-за того, что основная прибыль от этого тарифа основана на переплате, показатель может быть нестабильным - сегодня клиенты переплатили, а завтра уложились в лимиты - прибыль сразу упадёт. \n",
        "\n",
        "**тариф Ultra** на первый взгляд приносит меньше дохода, но медиана и средний показатели прибыли у него выше. Так как клиенты этого тарифа реже переплачивают за выход за рамки лимитов, доход от этого тарифа более стабилен. А если привлечь к нему больше клиентов, то и выручка будет больше. Все же в моей выборке клиентов тарифа Ultra было меньше половины.\n",
        "    \n",
        "Превышение лимитов  в зависимости от тарифа:\n",
        "     \n",
        "|Тариф|св. тар. звонки|св. тар. интернет|св. тар. сообщения|\n",
        "|----|----|----|----|\n",
        "|Ultra|0% |13% |0% |\n",
        "|Smart|33% |60% |25%|\n",
        "\n",
        "Прибыль в зависимости от тарифа:\n",
        "\n",
        "|Тариф|общая|средняя|медиана|\n",
        "|----|----|----|----|\n",
        "|Ultra|1930532 |2062 |1950 |\n",
        "|Smart|2455453|1106 |792|\n",
        "    \n",
        "    \n",
        "Выручка в Москве и регионах не отличается. Поэтому тарифы выгодно одинаково развивать как в Москве так и вне Москвы. \n",
        "\n",
        "\n",
        "Не совсем понятно, что имелось ввиду под \"сообщениями\", поэтому я предположила что sms. Клиенты тарифов часто вообще не пользуются этой функцией, видимо общаясь через мессенджеры. Я бы обратила на это внимание, чтобы как-то увеличить прибыль от тарифов. Например, добавила бы в тариф \"Ультра\" бесплатный трафик для трех-четырех популярных мессенджеров, чтобы привлечь больше клиентов.\n",
        "\n",
        "\n",
        "Основная рекомендация оператору - обратить внимание на тариф Ultra и подумать как привлечь к нему больше клиентов, обратить внимание на тариф Smart и подумать как стабилизировать от этого тарифа прибыль."
      ]
    },
    {
      "cell_type": "markdown",
      "metadata": {
        "id": "Lt09askHUjbi"
      },
      "source": [
        "<div class=\"alert alert-success\">\n",
        "<h2> Комментарий ревьюера </h2>\n",
        "\n",
        "Выводы описаны грамотно. Приведены ответы на главные вопросы проекта. В выводах можно приводить полученные ранее значения, правильно. Здорово, что по каждому пункту работы приведен вывод, а также то, что ты привела рекомендации для компании. Это очень важно. \n",
        "\n",
        "</div>"
      ]
    },
    {
      "cell_type": "markdown",
      "metadata": {
        "id": "uYokfY7GUjbi"
      },
      "source": [
        "<div class=\"alert alert-warning\">\n",
        "<h2> Комментарий ревьюера </h2>\n",
        "\n",
        "Если тебе нравится тема визуализации, то можешь изучить методы библиотеки seaborn. Она позволяет строить довольно презентабельные графики.\n",
        "\n",
        "Ты проделала большую работу, молодец! Критических замечаний немного. Однако с ними важно поработать. Также есть достаточное число желтых комментариев. Думаю, исправить их тебе не составит труда. Жду твою работу :)\n",
        "\n",
        "</div>"
      ]
    },
    {
      "cell_type": "markdown",
      "metadata": {
        "id": "-J9TSW-XUjbi"
      },
      "source": [
        "<div class=\"alert alert-info\" role=\"alert\">\n",
        "Нравится, но если я начну ковыряться, я никогда ничего не сдам! XD к тому же там какие-то сложности были с работой seaborn в я.практикум окружении. Так что думаю, оставлю на самостоятельное изучение.\n",
        "Еще раз спасибо за все комментарии, не знаю кака я так просмотрела супер-важные вещи. Видимо не стоит заниматься статистикой на ночь глядя. :)\n",
        "</div>"
      ]
    },
    {
      "cell_type": "markdown",
      "metadata": {
        "id": "I7qI2sWwUjbi"
      },
      "source": [
        "<div class=\"alert alert-success\">\n",
        "<h2> Комментарий ревьюера 2</h2>\n",
        "\n",
        "Помарки исправлены, и теперь работа выполнена хорошо. Ты здорово поработала, молодец. Проект получился классным! Спасибо за оставленные комментарии. Успехов в дальнейших проектах :)\n",
        "\n",
        "</div>\n",
        "   "
      ]
    }
  ],
  "metadata": {
    "kernelspec": {
      "display_name": "Python 3 (ipykernel)",
      "language": "python",
      "name": "python3"
    },
    "language_info": {
      "codemirror_mode": {
        "name": "ipython",
        "version": 3
      },
      "file_extension": ".py",
      "mimetype": "text/x-python",
      "name": "python",
      "nbconvert_exporter": "python",
      "pygments_lexer": "ipython3",
      "version": "3.9.5"
    },
    "toc": {
      "base_numbering": 1,
      "nav_menu": {},
      "number_sections": true,
      "sideBar": true,
      "skip_h1_title": true,
      "title_cell": "Table of Contents",
      "title_sidebar": "Contents",
      "toc_cell": false,
      "toc_position": {},
      "toc_section_display": true,
      "toc_window_display": false
    },
    "colab": {
      "provenance": [],
      "toc_visible": true,
      "include_colab_link": true
    }
  },
  "nbformat": 4,
  "nbformat_minor": 0
}